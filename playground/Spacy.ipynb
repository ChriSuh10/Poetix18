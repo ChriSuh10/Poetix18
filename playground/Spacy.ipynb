{
 "cells": [
  {
   "cell_type": "code",
   "execution_count": 3,
   "metadata": {},
   "outputs": [],
   "source": [
    "import spacy\n",
    "import nltk"
   ]
  },
  {
   "cell_type": "code",
   "execution_count": 17,
   "metadata": {},
   "outputs": [
    {
     "name": "stdout",
     "output_type": "stream",
     "text": [
      "There EX\n",
      "was VBD\n",
      "a DT\n",
      "young JJ\n",
      "lady NN\n",
      "named VBN\n",
      "May NNP\n",
      ", ,\n",
      "who WP\n",
      "read VBD\n",
      "a DT\n",
      "love NN\n",
      "story NN\n",
      "each DT\n",
      "day NN\n",
      ". .\n"
     ]
    }
   ],
   "source": [
    "nlp = spacy.load('en_core_web_sm')\n",
    "doc = nlp(\"There was a young lady named May, who read a love story each day.\")\n",
    "\n",
    "for token in doc:\n",
    "    print(token.text, token.tag_)"
   ]
  },
  {
   "cell_type": "code",
   "execution_count": 18,
   "metadata": {},
   "outputs": [
    {
     "data": {
      "text/plain": [
       "[('There', 'EX'),\n",
       " ('was', 'VBD'),\n",
       " ('a', 'DT'),\n",
       " ('young', 'JJ'),\n",
       " ('lady', 'NN'),\n",
       " ('named', 'VBN'),\n",
       " ('May', 'NNP'),\n",
       " (',', ','),\n",
       " ('who', 'WP'),\n",
       " ('read', 'VBD'),\n",
       " ('a', 'DT'),\n",
       " ('love', 'JJ'),\n",
       " ('story', 'NN'),\n",
       " ('each', 'DT'),\n",
       " ('day', 'NN'),\n",
       " ('.', '.')]"
      ]
     },
     "execution_count": 18,
     "metadata": {},
     "output_type": "execute_result"
    }
   ],
   "source": [
    "tokens=nltk.word_tokenize(\"There was a young lady named May, who read a love story each day.\")\n",
    "nltk.pos_tag(tokens)"
   ]
  },
  {
   "cell_type": "code",
   "execution_count": null,
   "metadata": {},
   "outputs": [],
   "source": []
  }
 ],
 "metadata": {
  "kernelspec": {
   "display_name": "Python 3",
   "language": "python",
   "name": "python3"
  },
  "language_info": {
   "codemirror_mode": {
    "name": "ipython",
    "version": 3
   },
   "file_extension": ".py",
   "mimetype": "text/x-python",
   "name": "python",
   "nbconvert_exporter": "python",
   "pygments_lexer": "ipython3",
   "version": "3.7.0"
  }
 },
 "nbformat": 4,
 "nbformat_minor": 2
}
