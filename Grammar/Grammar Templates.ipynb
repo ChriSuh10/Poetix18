{
 "cells": [
  {
   "cell_type": "code",
   "execution_count": 2,
   "metadata": {},
   "outputs": [
    {
     "name": "stdout",
     "output_type": "stream",
     "text": [
      "[('NN', 2)]\n",
      "[('CD-IN-PRP$-NNS-VBZ-IN-DT-JJ-NNS-,', 2), ('RB-JJ-CC-NN-PRP-RB-VBP-DT-NN-,', 2), ('CC-VBD-RB-IN-DT-NN-IN-NN-.', 2), ('PRP-MD-RB-VB-VBN-CC-IN-DT-NN', 2), ('NNP-PRP$-NN-PRP-MD-VB-RP-,', 2), ('NN-IN-RB-VBG-JJ-NN-,', 2), ('CC-NN-WRB-DT-JJ-NN-VBZ-DT-NN-.', 2), ('CC-DT-MD-RB-VB-NN-IN-PRP$-NN', 2), ('TO-VB-PRP-,-WP-MD-VB-PRP-VB', 2), ('PRP-MD-RB-VB-PRP-VBN-IN-PRP-PRP', 2), ('RB-RBR-JJ-IN-DT-PRP-VBD-VBD-JJ-.', 2), ('PRP-VBP-IN-DT-JJ-NN-PRP-VBP', 2), ('DT-VBD-JJ-DT-NN-IN-,', 2), ('CC-VBD-DT-NN-CC-DT-JJ-NNS-,', 2), ('CC-DT-NN-IN-WDT-DT-NN-VBZ-,', 2), ('CC-DT-JJ-JJ-NNS-VBP-.', 2), ('NNP-VBD-NNS-DT-NNS-NN', 2), ('DT-NNS-VBP-RB-TO-DT-JJ-NN-:', 2), ('DT-NN-NN-VBZ-VBN-CD-NN', 2), ('IN-JJ-NN-CC-JJ-WRB-DT-NN-VBZ-:', 2), ('DT-NN-RB-TO-DT-NN-VBZ-VBN-.', 2), ('PRP-VBP-IN-DT-RB-JJ-NN', 2), ('IN-DT-VBD-NN-RB-RB-RB', 2), ('IN-DT-JJ-CC-JJ-NN', 2), ('DT-VBZ-DT-NN-RB-IN-DT-NN-.', 2), ('NNP-VBZ-:-DT-JJ-NNS-JJ-CC-NN-:', 2), ('DT-NN-VBZ-VBG-TO-VB', 2), ('CC-NN-CC-NN-CC-NN-IN-:', 2), ('PRP-VBP-PRP-VB-RB-RB-RB', 2), ('NNP-JJ-DT-NN-TO-VB-PRP$-NN', 2), ('IN-PRP-VBZ-TO-VB-PRP-RP-.', 2), ('PRP-VBP-VB-VBN-RB-.-PRP-VBP-RB-.', 2), ('TO-VB-NNP-NNP', 2), ('VBG-DT-NN-,-VBG-DT-NN-:', 2), ('VB-DT-VBN-NN-DT-NN-:', 2), ('VB-DT-JJ-JJ-NN-:', 2), ('IN-DT-JJ-NN-DT-JJ-:', 2), ('NNP-PRP$-NN-,-VB-PRP-VB-NN', 2), ('NNP-PRP-IN-DT-NN-MD-VB-:', 2), ('NNP-DT-NN-CC-VBP-DT-NNS', 2), ('NNP-IN-PRP$-JJ-NN-:', 2), ('VBG-DT-NN-IN-DT-NN-:', 2), ('VB-DT-NN-NNS-VBP-:', 2), ('NNP-VBZ-IN-DT-NN-:', 2), ('VB-DT-NN-IN-IN-NN-.', 2), ('UH-,-VB-PRP-NN-IN-DT-NNS-VBP-:', 2), ('CC-VB-PRP-RB-TO-VB-RB-RB-RB', 2), ('IN-DT-JJ-NN-:-VB-PRP-RB', 2), ('DT-RB-IN-DT-NN-IN-DT-NN-.', 2), ('UH-,-VB-PRP-NN-IN-DT-NN-JJ-,', 2), ('CC-VB-PRP-JJ-IN-DT-JJ-NNS-,', 2), ('DT-NN-NN-VBD-DT-JJ-NNS-.', 2), ('CC-VB-PRP-JJ-IN-DT-NN-NN', 2), ('DT-RB-IN-DT-NNS-VBZ-VBN-,', 2), ('DT-NN-WDT-VBZ-IN-IN-JJ-NN-,', 2), ('CC-IN-DT-NN-IN-JJ-NN-NNS-RB-.', 2), ('IN-DT-VBZ-JJ-CC-NN-RB-VBZ-NN-,', 2), ('DT-WDT-PRP-VBZ-VBN-IN-NNP-IN', 2), ('TO-VB-TO-WP-RB-VBZ-PRP-MD-,', 2), ('CC-WDT-PRP-RB-VBZ-IN-PRP-VBP-.', 2), ('IN-DT-NN-IN-NN-.', 2), ('DT-IN-DT-JJ-NN', 2), ('NN-IN-NNP', 2), ('DT-NNP-POS-NNP', 2), ('DT-JJ-NN', 2), ('CC-VB-PRP$-NN-IN-DT-NN-.', 2), ('DT-JJ-NN-.', 2), ('NNP-VBD-NNP-NN-NN-,', 2), ('IN-DT-NN-CC-DT-NN-.', 2), ('VBG-EX-VBZ-DT-VBZ-RB-VB-DT-NN-,', 2), ('DT-VBZ-IN-DT-NN-.', 2), (\"''-WP-VBD-PRP-VB-.-''\", 2), ('NNP-NN', 2), ('IN-DT-JJ-NN-IN-NN-.', 2), ('PRP-VBD-CC-VBD-DT-JJ-NN', 2), ('DT-JJ-NN-IN-NN', 2), ('NNP-DT-NN', 2), ('IN-DT-NN-IN-DT-JJ-NN-,', 2), ('JJ-NN-NN', 2), ('PRP-MD-VB-DT-JJ-NN', 2), ('CC-VBD-DT-NNS-IN-DT-NN', 2), ('IN-PRP$-NN-IN-DT-NNS-.', 2), ('IN-DT-JJ-NN', 2), ('IN-JJ-NN-,', 2), ('PRP-VBD-DT-JJ-NN-IN-DT-NN', 2), ('PRP-VBD-PRP$-NN-RP-IN-DT-NN-NN', 2), ('IN-DT-NN-IN-NN-NN', 2), ('IN-DT-JJ-NN-NN', 2), ('CC-VB-JJ-CC-VBN-IN-NN-.', 2), ('DT-NN-IN-NN', 2), ('IN-DT-NN-NN', 2), ('CC-VBD-DT-NN', 2), ('NN-NNP-NNP-NNP-NNP-NNP', 2), ('DT-NN-IN-JJ-NN', 2), ('PRP-VBP-DT-JJ-NN', 2), ('JJ-TO-NN-IN-NN-.', 2), ('CC-PRP-VBD-CD-IN-DT-NNS-VBD', 2), ('DT-NNP-CC-NNP-NNP', 2), ('TO-VB-IN-DT-JJ-NN', 2), ('PRP-VBD-DT-NN-WDT-VBD-NN-:', 2), ('DT-DT-NN-NN-,', 2), ('TO-VB-PRP-JJR-NNS', 2), ('CC-VB-RP-IN-PRP$-NN-IN-NN-.', 2), ('VBZ-WRB-CD-NNS-RB-NN-,', 2), ('CC-RB-JJR-NN-CC-NN-,', 2), ('DT-JJ-NN-PRP-VBP-.', 2), ('IN-DT-IN-NN-IN-PRP$-NN', 2), ('PRP-MD-VB-RB-VBN-TO-VB', 2), ('IN-CD-WP-RB-NNS', 2), ('IN-PRP-CC-DT-NN-VBP-NNS-.', 2), ('DT-PRP-WP-VBP-TO-VB', 2), ('VB-DT-JJ-NN-PRP-VBP-,', 2), ('CC-NN-,-IN-DT-JJS-NN', 2), ('PRP-VBP-RP-IN-DT-NN-.', 2), ('PRP-VBP-DT-NN-IN-NN', 2), ('CC-VBP-RB-VB-RP-IN-DT-NN', 2), ('PRP-VBP-NN-TO-VB-.', 2), ('CC-IN-IN-DT-NN-VBZ-RB', 2), ('DT-JJ-NN-IN-DT-NN', 2), ('CD-NN-IN-DT-JJ-NN', 2), ('PRP-VBP-PRP$-NN-IN-DT-NN-.', 2), ('CD-NNP', 2), ('VB-PRP-VB-DT-CD', 2), ('PRP-VBD-RB-JJ-JJ-NN-.', 2), ('IN-DT-NN-POS-NN-:', 3), ('IN-DT-NN-NN-.', 3), ('CD-NN', 3), ('DT-NN-IN-DT-NN-.', 3), ('IN-DT-NN-.', 3), ('DT-NNP-IN-NNP', 3), ('DT-JJ', 3), ('JJ-NNP', 3), ('NN-NNP-NNP', 3), ('DT-NNP-IN-NNP-NNP', 3), ('TO-VB-DT-NN-IN-NN', 3), ('TO-VB-DT-JJ-NN', 3), ('DT-NN-IN-DT-JJ-NN', 3), ('PRP$-JJ-JJ-NN', 3), ('DT-TO-NN-CC-NN-.', 3), ('CC-DT-JJ-NN', 3), ('(-NNP-)', 3), ('DT-NNP-NNP-NN', 4), ('NN-NN', 4), ('DT-NN-NN', 4), ('IN-DT-JJ-NN-.', 4), ('NN-MD-VB-VBN-PRP-VBD-NN-.', 4), ('DT-NNP-NN', 5), ('NNP-NNP-NNP-NNP-NNP', 5), ('DT-NN', 6), ('DT-NNP-NNP-NNP-NNP', 7), ('NNP-NNP-NNP-NNP', 7), ('NNP-NNP-NNP', 9), ('DT-NNP-NNP-NNP', 10), ('NN', 13), ('DT-NNP', 17), ('NNP-NNP', 20), ('DT-NNP-NNP', 33)]\n",
      "[('NNP-NNP-POS-NNP-NNP-NNP-.', 2), ('IN-PRP$-JJ-NNS-,', 2), ('NNP-NN-,-NN-,-JJ-NN-,', 2), ('DT-NN-.-)', 2), ('DT-IN-DT-NN-,', 2), ('NNP-,-NN-,-JJ-,', 2), ('DT-NN-NN-.', 2), ('DT-NN-,-DT-NN-,', 2), ('NNS-,-NNS-,-NNS-.', 2), ('NNP-NN-NN-,', 2), ('IN-NNP-NNP-.', 2), ('VBZ-PRP$-NN-,', 2), ('NN-IN-PRP-VBD-,', 2), ('IN-PRP-VBZ-,', 2), ('NN-,-NN-,-NN-,-NN-,-NN-,', 2), ('JJS-JJ-NNS-,', 2), ('WP-VBP-PRP-VB-NNS-.', 2), ('NN-POS-NNS-,', 2), ('PRP-CC-PRP-,', 2), ('NN-NN-CC-NN-,', 2), ('NN-,-NNP-,-NNP-,', 2), ('PRP$-JJ-NNS-,', 2), ('NN-TO-VB-PRP-,', 2), ('IN-DT-NN-IN-DT-NN-,', 2), ('PRP$-NN-:', 2), ('IN-PRP$-JJ-NN-,', 2), ('NN-IN-JJ-NN-,', 2), ('NNS-IN-NNP-,', 2), ('NNP-NN-,', 2), ('PRP-VBP-PRP-VBP-RB-,', 2), ('NNS-IN-NNS-.', 2), ('TO-VB-DT-NN-.', 2), ('JJ-NN-.-)', 2), ('NNP-VBZ-DT-JJ-NN-,', 2), ('VBG-IN-PRP$-NNS-,', 2), ('NN-MD-NNS-,', 2), ('NN-,-NN-,-CC-RB-,', 2), ('NNP-PRP$-NNS-,', 2), ('TO-VB-NN-.', 2), ('NN-IN-PRP$-NN-.', 2), ('JJ-NN-IN-PRP$-NN-,', 2), ('NN-TO-VB-PRP-.', 2), ('CC-NNS-.', 2), ('IN-NNP-NNP-NNP-.', 2), ('JJ-DT-JJ-NN-,', 2), ('IN-DT-NN-NN-CC-DT-NN-,', 2), ('JJ-IN-DT-NN-,', 2), ('DT-NN-POS-NN-IN-NN-,', 2), ('NNS-IN-PRP$-NNS-,', 2), ('NN-IN-DT-NNS-.', 2), ('VBP-PRP-RB-VBD-DT-NN-IN-DT-NN-.', 2), ('RB-IN-DT-NNS-,', 2), ('VB-PRP-JJ-,', 2), ('NN-NN-IN-NNP-POS-NNS-,', 2), ('PDT-DT-NN-,', 2), ('RB-.', 2), ('IN-DT-NN-IN-NNS-,', 2), ('IN-DT-JJ-NN-IN-NNS-.', 2), ('NNS-CC-NN-,', 2), ('IN-DT-JJ-NN-IN-NNS-,', 2), ('VBN-RB-,', 2), ('VBN-IN-NN-,', 2), ('PRP-VBP-:', 2), ('VBG-PRP$-NN-.', 2), ('DT-NNP-NNP-NNP-NNP-NNP-.', 2), ('NN-NN-IN-NN-.', 2), ('NN-,-PRP$-NN-,', 2), ('JJ-MD-PRP-,', 2), ('VB-IN-PRP-,', 2), ('NN-,-VBG-,-NN-,', 2), ('WP-VBP-PRP-VB-NNP-NNP-.', 2), ('DT-JJ-NN-CC-NN-,', 2), ('IN-DT-NNPS-,', 2), ('PRP-VBP-JJ-NNS-,', 2), ('JJ-NNS-IN-NNP-,', 2), ('PRP-VBP-DT-NNS-IN-DT-NN-,', 2), ('PRP-VBP-DT-JJ-NNS-IN-DT-NN-,', 2), ('NNS-CC-JJ-NNS-,', 2), ('PRP-VBP-DT-NNS-IN-JJ-NNS-,', 2), ('PRP-VBP-DT-NNS-IN-NNP-,', 2), ('PRP-VBP-DT-NN-IN-PRP$-NN-,', 2), ('JJ-NNS-RB-,', 2), ('NN-IN-NNS-:', 2), ('NN-NNS-IN-NN-,', 2), ('NNS-,-NNS-IN-NNS-,', 2), ('PRP-IN-PRP-,', 2), ('NN-MD-VBZ-,', 2), ('JJ-NNS-NN-,', 2), ('DT-NN-IN-JJ-NN-,', 2), ('NNS-RB-.', 2), ('NNP-PRP$-JJ-NN-.', 2), ('NN-:', 2), ('DT-NNS-:', 2), ('IN-DT-NNS-CC-NN-.', 2), ('PRP$-NNS-.', 2), ('CC-NNS-IN-DT-NN-.', 2), ('WDT-VBP-NNS-IN-NN-CC-NN-,', 2), ('NNS-,-NNS-,-NNS-,', 2), ('RB-CC-RB-VBZ-DT-NN-VBN-VBG-,', 2), ('NNP-NNP-,', 2), ('NNP-,-NN-,-NN-,-NN-CC-NN-,', 2), ('CC-NN-NNP-,', 2), ('NNP-,-CC-DT-NN-,', 2), ('NN-IN-RB-,', 2), ('NN-CC-NN-.-)', 2), ('DT-NN-IN-NNS-.', 2), ('NN-PRP-.', 2), ('JJ-CC-JJ-,', 2), ('NNS-IN-NNS-CC-NNS-,', 2), ('NN-CC-JJ-NN-,', 2), ('RB-TO-DT-NN-,', 2), ('RB-JJ-.', 2), ('IN-PRP-DT-JJ-NN-,', 2), ('NN-,-VBG-.', 2), ('CC-PRP$-NNS-,', 2), ('NNP-NN-.-NNP-VBG-NN-.', 2), ('NNP-PRP$-NN-.', 2), ('IN-PRP-VBD-DT-NNS-PRP-VBP-,', 2), ('IN-DT-NN-IN-NN-,', 2), ('CC-DT-NN-,', 2), ('IN-NN-NNS-.', 2), ('NNP-NN-.', 2), ('MD-RB-VB-,', 2), ('NNP-PRP-PRP$-NNS-.', 2), ('IN-DT-NNP-NN-,', 2), ('NN-IN-DT-NN-NN-,', 2), ('IN-DT-NN-CC-JJ-NN-.', 2), ('NNP-CC-NNP-.', 2), ('IN-NN-NN-,', 2), ('VB-VBN-,', 2), ('DT-NNP-POS-NNP-.', 2), ('NNP-,-DT-VBZ-DT-NN-,', 2), ('PRP$-NNS-,', 2), ('NN-JJ-,', 2), ('VBN-TO-NN-,', 2), ('RB-JJ-CD-,', 2), ('VB-DT-NN-:', 2), ('(-NNP-NNP-,-.-)', 2), ('NN-,-)', 2), ('NNP-JJ-NN-,', 2), ('NNP-JJ-CC-JJ-.', 2), ('NN-IN-PRP-RB-.', 2), ('JJ-NN-NN-,', 2), ('VBN-NN-.', 2), ('NN-,-CC-DT-NN-IN-DT-NN-,', 2), ('WP-NN-.', 2), ('NN-VBZ-JJ-,', 2), ('CC-JJ-NNS-,', 2), ('NNS-NN-.', 2), ('NNP-NN-IN-NN-,-NN-CC-NN-.', 2), ('NNP-JJ-NN-NN-NN-.', 2), ('VBG-CC-VBG-.', 2), ('NNP-NN-IN-DT-NN-,', 2), ('CC-NN-IN-NN-,', 2), ('JJ-NN-IN-NNS-,', 2), ('NNP-NNP-IN-NNP-NNP-.', 2), ('WP-NNP-NNP-NNP-NNP-.', 2), ('PRP$-NNP-.', 2), ('DT-NNP-NNPS-.', 2), ('NN-TO-JJR-IN-NNP-.', 2), ('NNS-VBP-:', 2), ('NNS-VBP-NNP-NNP-.', 2), ('CD-NNS-.', 2), ('NNP-NNP-NNP-,-NNP-NNP-.', 2), ('IN-JJ-NN-,-NN-,-DT-JJ-NN-.', 2), ('JJ-VBG-NN-,', 2), ('PRP$-JJ-NN-.', 2), ('VBG-NN-:', 2), ('NNP-NNP-,-NNP-NNP-NNP-.', 2), ('NN-POS-NN-,', 2), ('JJ-NNS-IN-NN-,', 2), ('NN-NNP-NNP-NNP-NNP-.', 2), ('NNP-,-NN-,-NN-.', 2), ('NNP-,-NNP-NNP-.', 2), ('IN-DT-NN-IN-NN-.', 3), ('VBG-NNS-.', 3), ('DT-NN-CC-DT-NN-,', 3), ('IN-NNP-,', 3), ('NN-IN-NN-.', 3), ('NN-MD-IN-NN-,', 3), ('DT-JJ-JJ-NNS-,', 3), ('RB-TO-PRP-,', 3), ('NNP-,', 3), ('CC-DT-NN-.', 3), ('IN-DT-JJ-NNS-,', 3), ('NNS-VBP-,', 3), ('NN-CD-,', 3), ('NNS-CC-NNS-.', 3), ('PRP-VBP-RB-,', 3), ('NN-IN-DT-JJ-NN-,', 3), ('NN-RB-.', 3), ('JJ-NN-IN-DT-NN-,', 3), ('IN-NN-.', 3), ('IN-DT-NNP-.', 3), ('NN-NNP-NNP-NNP-.', 3), ('IN-NNS-CC-NNS-,', 3), ('PRP-VBP-DT-JJ-NN-,', 3), ('RB-IN-JJ-NN-.', 3), ('RB-VBN-,', 3), ('NN-IN-JJ-NNS-,', 3), ('DT-NN-NNP-NNP-.', 3), ('NN-NNS-.', 3), ('IN-JJ-NNS-,', 3), ('JJ-NNS-CC-NNS-,', 3), ('VB-DT-NN-,', 3), ('VBG-NN-.', 3), ('NN-.-NN-.-NN-.', 3), ('DT-NNS-.', 3), ('DT-NNP-IN-NNP-NNP-.', 3), ('NNP-NNP-NNP-NNP-NNP-NNP-NNP-.', 3), ('NNS-NN-,', 3), ('IN-NNP-NNP-POS-NNP-NNP-.', 3), ('NNS-IN-NN-,', 3), ('NNP-NNP-NN-,', 3), ('NNP-NNP-NNP-POS-NNP-.', 3), ('NNS-IN-DT-NN-.', 3), ('NN-,-NN-,-NN-,', 3), ('PRP-VBP-,-PRP-VBP-,-PRP-VBP-.', 3), ('JJ-MD-NNP-,-.', 3), ('DT-JJ-NNS-,', 4), ('IN-DT-JJ-NN-,', 4), ('IN-PRP$-NN-.', 4), ('NNS-,-NNS-.', 4), ('TO-DT-NNP-NNP-.', 4), ('CC-JJ-,', 4), ('NNS-IN-JJ-NNS-,', 4), ('PRP$-NN-.', 4), ('NN-IN-PRP-.', 4), ('CC-NN-.', 4), ('DT-NN-NNS-,', 4), ('DT-NN-CC-NN-,', 4), ('NNS-IN-PRP-,', 4), ('IN-DT-NNS-.', 4), ('IN-DT-JJ-NN-.', 4), ('JJS-NN-,', 4), ('NN-IN-PRP$-NNS-,', 4), ('VBG-DT-NN-,', 4), ('VBN-NNS-,', 4), ('NN-IN-DT-NN-.', 4), ('DT-NN-IN-NN-,', 4), ('JJ-NNP-.', 4), ('NN-,-NN-.', 4), ('VBN-,', 4), ('CC-JJ-NN-,', 4), ('PRP-VBP-,', 4), ('NN-PRP-,', 4), ('NNP-JJ-PRP$-NNP-.', 4), ('DT-JJ-NN-.', 4), ('NN-TO-NNP-.', 4), ('NNS-VBG-,', 4), ('IN-JJ-NN-,', 4), ('TO-DT-NNP-.', 5), ('NN-CC-DT-NN-,', 5), ('VBN-NN-,', 5), ('RB-JJ-,', 5), ('VB-PRP-,', 5), ('NN-CC-NN-.', 5), ('NN-MD-VB-,', 5), ('DT-NN-IN-DT-NN-,', 5), ('RB-,', 5), ('RB-IN-DT-NN-,', 5), ('NNS-IN-DT-NN-,', 5), ('JJ-,', 5), ('NN-PRP-VBP-,', 5), ('DT-NNP-NNP-NNP-.', 5), ('IN-DT-NN-POS-NN-.', 5), ('DT-NNS-NN-.', 5), ('PRP$-NN-,', 6), ('DT-NN-.', 6), ('NN-NN-.', 6), ('VBG-NN-,', 6), ('IN-PRP-.', 6), ('DT-NNP-NNP-NNP-NNP-.', 6), ('NNP-NNP-NNP-NNP-NNP-NNP-.', 6), ('IN-NNP-NNP-NNP-NNP-NNP-.', 6), ('NN-IN-NNP-NNP-.', 6), ('JJ-NN-:', 6), ('IN-NNP-NNP-NNP-NNP-.', 6), ('NNS-IN-NNS-,', 7), ('NNS-RB-,', 7), ('NN-IN-DT-NNS-,', 7), ('NNS-CC-NNS-,', 8), ('IN-DT-NN-.', 8), ('NN-IN-NNS-,', 8), ('CC-NNS-,', 9), ('IN-DT-NNS-,', 9), ('NN-IN-PRP$-NN-,', 9), ('IN-NN-,', 9), ('DT-NN-NN-,', 9), ('IN-PRP$-NNS-,', 9), ('JJ-NNS-.', 9), ('DT-JJ-NN-,', 10), ('IN-NNS-,', 10), ('IN-PRP$-NN-,', 10), ('RB-NN-,', 10), ('VBG-NNS-,', 10), ('NN-,-NN-,', 10), ('NN-NNS-,', 10), ('NNP-.', 11), ('NN-NNP-NNP-.', 11), ('NN-RB-,', 11), ('IN-PRP-,', 11), ('NNS-.', 12), ('JJ-NN-.', 12), ('NN-CC-NN-,', 12), ('NNS-,-NNS-,', 12), ('NNP-NNP-NNP-NNP-NNP-.', 12), ('DT-NNP-.', 12), ('NN-IN-NN-,', 13), ('CC-NN-,', 14), ('NN-.', 15), ('NNP-NNP-NNP-NNP-.', 16), ('NN-IN-DT-NN-,', 16), ('DT-NNS-,', 16), ('NN-NN-,', 19), ('IN-DT-NN-,', 20), ('DT-NN-,', 21), ('NNP-NNP-.', 21), ('DT-NNP-NNP-.', 25), ('NNS-.-NNP-NNS-.', 26), ('JJ-NNS-,', 27), ('NNP-NNP-NNP-.', 30), ('JJ-NN-,', 32), ('NNS-,', 34), ('NN-,', 45), ('', 382)]\n"
     ]
    }
   ],
   "source": [
    "import nltk\n",
    "import re\n",
    "from numpy.random import choice\n",
    "from functools import reduce\n",
    "import operator\n",
    "\n",
    "poets = {\"Shakespeare\" : \"Shakespeare_Sonnets.txt\", \"Frost\" : \"Robert_Frost.txt\", \"Whitman\" : \"Walt_Whitman.txt\"}\n",
    "\n",
    "def build_templates(poets):\n",
    "    templates = {}\n",
    "    \n",
    "    # Threshold for template length. Templates are ignored if they are longer than this value.\n",
    "    threshold = 10\n",
    "\n",
    "    for poet, filename in poets.items():\n",
    "        poet_template = {}\n",
    "\n",
    "        with open(filename, \"r\") as f:\n",
    "            for line in list(filter(lambda x: len(x) > 10, f)):\n",
    "                line = line.strip()\n",
    "                # Uncomment to strip punctuation\n",
    "                # line = re.sub(r'[^\\w\\s]', '', line)\n",
    "                text = nltk.word_tokenize(line)\n",
    "                template = [word[1] for word in nltk.pos_tag(text)]\n",
    "                \n",
    "                # If the template length exceeds the threshold, don't include it\n",
    "                if len(template) > threshold:\n",
    "                    continue\n",
    "                    \n",
    "                template_str = \"-\".join(template)\n",
    "                \n",
    "                count = poet_template.get(template_str, 0)\n",
    "                poet_template[template_str] = count + 1\n",
    "                \n",
    "        # Filter out rare templates that only occurred once in corpus\n",
    "        filtered_templates = { template : val for template, val in poet_template.items() if val > 1 }\n",
    "        sorted_x = sorted(filtered_templates.items(), key=operator.itemgetter(1))\n",
    "        print(sorted_x)\n",
    "        \n",
    "        # Find the total number of processed lines by summing the counts in the filtered dictionary\n",
    "        total_count = reduce(lambda a, b: a + b, filtered_templates.values())\n",
    "        \n",
    "        # Get a list of the unique templates\n",
    "        candidates = list(filtered_templates.keys())\n",
    "            \n",
    "        # Compute the probability distribution and store it under the poet's name\n",
    "        probability_dist = list(map(lambda x: filtered_templates[x] / total_count, candidates))\n",
    "        templates[poet] = (candidates, probability_dist)\n",
    "        \n",
    "    return templates\n",
    "\n",
    "def random_weighted_template(templates, poet):\n",
    "    candidates, dist = templates[poet][0], templates[poet][1]\n",
    "    template_index = choice(range(len(candidates)), 1, p=dist).item()\n",
    "\n",
    "    return candidates[template_index].split(\"-\")\n",
    "\n",
    "templates = build_templates(poets)"
   ]
  },
  {
   "cell_type": "code",
   "execution_count": 2,
   "metadata": {},
   "outputs": [
    {
     "name": "stdout",
     "output_type": "stream",
     "text": [
      "['NNP', 'PRP', 'IN', 'DT', 'NN', 'MD', 'VB', ':']\n"
     ]
    }
   ],
   "source": [
    "print(random_weighted_template(templates, \"Frost\"))"
   ]
  },
  {
   "cell_type": "code",
   "execution_count": 3,
   "metadata": {},
   "outputs": [],
   "source": [
    "def build_common_words(poets):\n",
    "    word_counts = {}\n",
    "    \n",
    "    for poet, filename in poets.items():\n",
    "        with open(filename, \"r\") as f:\n",
    "            for line in list(filter(lambda x: len(x) > 10, f)):\n",
    "                line = line.strip()\n",
    "\n",
    "                words = line.split()\n",
    "                for word in words:\n",
    "                    count = word_counts.get(word, 0)\n",
    "                    word_counts[word] = count + 1\n",
    "                    \n",
    "    words = list(word_counts.keys())\n",
    "    words.sort(key=lambda x: -word_counts[x])\n",
    "                \n",
    "    return word_counts, words\n",
    "        \n",
    "word_counts, words = build_common_words(poets)"
   ]
  },
  {
   "cell_type": "code",
   "execution_count": 4,
   "metadata": {},
   "outputs": [
    {
     "name": "stdout",
     "output_type": "stream",
     "text": [
      "['the', 'and', 'of', 'I', 'to', 'in', 'a', 'The', 'with', 'And', 'is', 'my', 'you', 'that', 'it', 'for', 'not', 'or', 'as', 'all', 'on', 'me', 'be', 'from', 'are', 'his', 'at', 'have', 'by', 'was', 'he', 'To', 'what', 'they', 'O', 'But', 'one', 'their', 'your', 'see', 'but', 'so', 'A', 'thy', 'no', 'we', 'out', 'this', 'them', 'will', 'do', 'more', 'than', 'her', 'there', 'me,', 'That', 'shall', 'him', 'You', 'its', 'had', 'if', 'For', 'up', 'thou', 'know', 'It', 'He', 'In', 'am', 'where', 'As', 'like', 'through', 'old', 'love', 'an', 'some', 'Of', 'these', 'now', 'any', 'when', 'you,', 'With', 'has', 'yet', 'who', 'were', 'those', 'Or', 'every', 'can', 'she', 'What', 'They', 'THE', 'make', 'would']\n"
     ]
    }
   ],
   "source": [
    "print(words[:100])"
   ]
  }
 ],
 "metadata": {
  "kernelspec": {
   "display_name": "Python 3",
   "language": "python",
   "name": "python3"
  },
  "language_info": {
   "codemirror_mode": {
    "name": "ipython",
    "version": 3
   },
   "file_extension": ".py",
   "mimetype": "text/x-python",
   "name": "python",
   "nbconvert_exporter": "python",
   "pygments_lexer": "ipython3",
   "version": "3.7.0"
  }
 },
 "nbformat": 4,
 "nbformat_minor": 2
}
