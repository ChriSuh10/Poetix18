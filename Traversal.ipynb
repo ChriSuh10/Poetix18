{
 "cells": [
  {
   "cell_type": "code",
   "execution_count": 18,
   "metadata": {},
   "outputs": [],
   "source": [
    "from nltk.corpus import wordnet as wn\n",
    "from nltk.stem import WordNetLemmatizer\n",
    "from nltk import word_tokenize, pos_tag"
   ]
  },
  {
   "cell_type": "code",
   "execution_count": 67,
   "metadata": {},
   "outputs": [],
   "source": [
    "def least_similar(synsets):\n",
    "    # returns entries with highest wup similarity score\n",
    "    the_max = 0\n",
    "    for i in range(len(synsets)):\n",
    "        for j in range(i + 1, len(synsets)):\n",
    "            this_similarity = synsets[i].wup_similarity(synsets[j])\n",
    "            if this_similarity is not None and this_similarity > the_max:\n",
    "                the_max = this_similarity\n",
    "                s1 = synsets[i]\n",
    "                s2 = synsets[j]\n",
    "    return (s1, s2)\n",
    "\n",
    "def best_corresponding_pos(synset):\n",
    "    # inspects definition and returns most similar word with\n",
    "    # same pos as input word excluding the input word\n",
    "    # right now only works for nouns, verbs, adjectives\n",
    "    this_pos = synset.pos()\n",
    "    def_token = word_tokenize(synset.definition())\n",
    "    \n",
    "    if  this_pos == wn.NOUN:\n",
    "        pos_token = 'NN'\n",
    "    elif this_pos == wn.VERB:\n",
    "        pos_token = 'V'\n",
    "    elif this_pos == wn.ADJ:\n",
    "        pos_token = 'JJ'\n",
    "    else:\n",
    "        raise ValueError('Input synset must be a Noun, Verb, or Adjective')\n",
    "        \n",
    "    lm = WordNetLemmatizer()\n",
    "    max_similarity = -1\n",
    "    best_corr_pos = None\n",
    "    \n",
    "    for tagged_word in pos_tag(def_token):\n",
    "        if pos_token in tagged_word[1]:\n",
    "            lemma = lm.lemmatize(tagged_word[0], pos=synset.pos())\n",
    "            other_synsets = wn.synsets(lemma, pos=synset.pos())\n",
    "            if len(other_synsets) > 0:\n",
    "                # just pick the first synset\n",
    "                this_similarity = synset.wup_similarity(other_synsets[0])\n",
    "                if this_similarity > max_similarity:\n",
    "                    max_similarity = this_similarity\n",
    "                    best_corr_pos = tagged_word[0]\n",
    "    return best_corr_pos\n",
    "\n",
    "def first_corresponding_pos(synset):\n",
    "    # inspects definition and returns first word with same pos\n",
    "    # as input word\n",
    "    # right now only works for nouns, verbs, adjectives\n",
    "    this_pos = synset.pos()\n",
    "    def_token = word_tokenize(synset.definition())\n",
    "    \n",
    "    if this_pos == 'n':\n",
    "        pos_token = 'NN'\n",
    "    elif this_pos == 'v':\n",
    "        pos_token = 'V'\n",
    "    elif this_pos == 'a':\n",
    "        pos_token = 'JJ'\n",
    "    else:\n",
    "        raise ValueError('Input synset must be a Noun, Verb, or Adjective')\n",
    "    \n",
    "    for tagged_word in pos_tag(def_token):\n",
    "        if pos_token in tagged_word[1]:\n",
    "            return tagged_word[0]\n",
    "        \n",
    "def get_two_senses(seed_word):\n",
    "    synsets = wn.synsets(seed_word)\n",
    "    pair = least_similar(synsets)\n",
    "    return best_corresponding_pos(pair[0]), best_corresponding_pos(pair[1])\n",
    "#     return first_corresponding_pos(pair[0]), first_corresponding_pos(pair[1])\n",
    "\n",
    "def traverse_wn(word):\n",
    "    # traverses wn synsets for word and returns first\n",
    "    # word in definition of synsets with same pos\n",
    "    for synset in wn.synsets(word):\n",
    "        first_pos = best_corresponding_pos(synset)\n",
    "#         first_pos = first_corresponding_pos(synset)\n",
    "        if first_pos is not None and first_pos != word:\n",
    "            return first_pos\n",
    "        \n",
    "def five_word_algorithm(seed_word):\n",
    "    word_c, word_d = get_two_senses(seed_word)\n",
    "    word_b = traverse_wn(word_c)\n",
    "    word_a = traverse_wn(word_b)\n",
    "    word_e = traverse_wn(word_d)\n",
    "    return word_a, word_b, word_c, word_d, word_e\n",
    "\n",
    "def print_five_words(seed_word):\n",
    "    words = five_word_algorithm(seed_word)\n",
    "    print(words[0] + '->' + words[1] + '->\\033[4m' + words[2] + \n",
    "          '\\033[0m\\033[1m~~>\\033[0m\\033[4m' + words[3] + '\\033[0m->' + words[4])"
   ]
  },
  {
   "cell_type": "code",
   "execution_count": 3,
   "metadata": {},
   "outputs": [
    {
     "name": "stdout",
     "output_type": "stream",
     "text": [
      "flesh->bird->\u001b[4mfowl\u001b[0m\u001b[1m~~>\u001b[0m\u001b[4mperson\u001b[0m->body\n",
      "person->follower->\u001b[4mdevotee\u001b[0m\u001b[1m~~>\u001b[0m\u001b[4mfollower\u001b[0m->person\n",
      "sound->noise->\u001b[4mracket\u001b[0m\u001b[1m~~>\u001b[0m\u001b[4mclub\u001b[0m->team\n",
      "property->number->\u001b[4mgroup\u001b[0m\u001b[1m~~>\u001b[0m\u001b[4munit\u001b[0m->division\n",
      "document->act->\u001b[4mjourney\u001b[0m\u001b[1m~~>\u001b[0m\u001b[4mlight\u001b[0m->radiation\n"
     ]
    }
   ],
   "source": [
    "# first word\n",
    "print_five_words('chicken')\n",
    "print_five_words('fan')\n",
    "print_five_words('Bat')\n",
    "print_five_words('Battery')\n",
    "print_five_words('Trip')"
   ]
  },
  {
   "cell_type": "code",
   "execution_count": 68,
   "metadata": {},
   "outputs": [
    {
     "name": "stdout",
     "output_type": "stream",
     "text": [
      "substance->food->\u001b[4mfowl\u001b[0m\u001b[1m~~>\u001b[0m\u001b[4mperson\u001b[0m->body\n",
      "person->follower->\u001b[4mdevotee\u001b[0m\u001b[1m~~>\u001b[0m\u001b[4mfollower\u001b[0m->person\n",
      "buildings->plants->\u001b[4msquash\u001b[0m\u001b[1m~~>\u001b[0m\u001b[4mball\u001b[0m->round\n",
      "existence->entities->\u001b[4mgroup\u001b[0m\u001b[1m~~>\u001b[0m\u001b[4munit\u001b[0m->quantity\n",
      "document->act->\u001b[4mjourney\u001b[0m\u001b[1m~~>\u001b[0m\u001b[4mtread\u001b[0m->step\n"
     ]
    }
   ],
   "source": [
    "# best word\n",
    "print_five_words('chicken')\n",
    "print_five_words('fan')\n",
    "print_five_words('Bat')\n",
    "print_five_words('Battery')\n",
    "print_five_words('Trip')"
   ]
  },
  {
   "cell_type": "code",
   "execution_count": 69,
   "metadata": {},
   "outputs": [
    {
     "name": "stdout",
     "output_type": "stream",
     "text": [
      "kind->make->\u001b[4mprepare\u001b[0m\u001b[1m~~>\u001b[0m\u001b[4mapplying\u001b[0m->make\n",
      "person->substance->\u001b[4mfiber\u001b[0m\u001b[1m~~>\u001b[0m\u001b[4mstem\u001b[0m->form\n"
     ]
    }
   ],
   "source": [
    "print_five_words('Cook')\n",
    "print_five_words('Straw')"
   ]
  },
  {
   "cell_type": "code",
   "execution_count": 70,
   "metadata": {},
   "outputs": [
    {
     "ename": "AttributeError",
     "evalue": "'NoneType' object has no attribute 'lower'",
     "output_type": "error",
     "traceback": [
      "\u001b[0;31m---------------------------------------------------------------------------\u001b[0m",
      "\u001b[0;31mAttributeError\u001b[0m                            Traceback (most recent call last)",
      "\u001b[0;32m<ipython-input-70-6e20c5a560c3>\u001b[0m in \u001b[0;36m<module>\u001b[0;34m\u001b[0m\n\u001b[0;32m----> 1\u001b[0;31m \u001b[0mprint_five_words\u001b[0m\u001b[0;34m(\u001b[0m\u001b[0;34m'Fiddle'\u001b[0m\u001b[0;34m)\u001b[0m\u001b[0;34m\u001b[0m\u001b[0m\n\u001b[0m",
      "\u001b[0;32m<ipython-input-67-baf21e3d6e16>\u001b[0m in \u001b[0;36mprint_five_words\u001b[0;34m(seed_word)\u001b[0m\n\u001b[1;32m     86\u001b[0m \u001b[0;34m\u001b[0m\u001b[0m\n\u001b[1;32m     87\u001b[0m \u001b[0;32mdef\u001b[0m \u001b[0mprint_five_words\u001b[0m\u001b[0;34m(\u001b[0m\u001b[0mseed_word\u001b[0m\u001b[0;34m)\u001b[0m\u001b[0;34m:\u001b[0m\u001b[0;34m\u001b[0m\u001b[0m\n\u001b[0;32m---> 88\u001b[0;31m     \u001b[0mwords\u001b[0m \u001b[0;34m=\u001b[0m \u001b[0mfive_word_algorithm\u001b[0m\u001b[0;34m(\u001b[0m\u001b[0mseed_word\u001b[0m\u001b[0;34m)\u001b[0m\u001b[0;34m\u001b[0m\u001b[0m\n\u001b[0m\u001b[1;32m     89\u001b[0m     print(words[0] + '->' + words[1] + '->\\033[4m' + words[2] + \n\u001b[1;32m     90\u001b[0m           '\\033[0m\\033[1m~~>\\033[0m\\033[4m' + words[3] + '\\033[0m->' + words[4])\n",
      "\u001b[0;32m<ipython-input-67-baf21e3d6e16>\u001b[0m in \u001b[0;36mfive_word_algorithm\u001b[0;34m(seed_word)\u001b[0m\n\u001b[1;32m     80\u001b[0m \u001b[0;32mdef\u001b[0m \u001b[0mfive_word_algorithm\u001b[0m\u001b[0;34m(\u001b[0m\u001b[0mseed_word\u001b[0m\u001b[0;34m)\u001b[0m\u001b[0;34m:\u001b[0m\u001b[0;34m\u001b[0m\u001b[0m\n\u001b[1;32m     81\u001b[0m     \u001b[0mword_c\u001b[0m\u001b[0;34m,\u001b[0m \u001b[0mword_d\u001b[0m \u001b[0;34m=\u001b[0m \u001b[0mget_two_senses\u001b[0m\u001b[0;34m(\u001b[0m\u001b[0mseed_word\u001b[0m\u001b[0;34m)\u001b[0m\u001b[0;34m\u001b[0m\u001b[0m\n\u001b[0;32m---> 82\u001b[0;31m     \u001b[0mword_b\u001b[0m \u001b[0;34m=\u001b[0m \u001b[0mtraverse_wn\u001b[0m\u001b[0;34m(\u001b[0m\u001b[0mword_c\u001b[0m\u001b[0;34m)\u001b[0m\u001b[0;34m\u001b[0m\u001b[0m\n\u001b[0m\u001b[1;32m     83\u001b[0m     \u001b[0mword_a\u001b[0m \u001b[0;34m=\u001b[0m \u001b[0mtraverse_wn\u001b[0m\u001b[0;34m(\u001b[0m\u001b[0mword_b\u001b[0m\u001b[0;34m)\u001b[0m\u001b[0;34m\u001b[0m\u001b[0m\n\u001b[1;32m     84\u001b[0m     \u001b[0mword_e\u001b[0m \u001b[0;34m=\u001b[0m \u001b[0mtraverse_wn\u001b[0m\u001b[0;34m(\u001b[0m\u001b[0mword_d\u001b[0m\u001b[0;34m)\u001b[0m\u001b[0;34m\u001b[0m\u001b[0m\n",
      "\u001b[0;32m<ipython-input-67-baf21e3d6e16>\u001b[0m in \u001b[0;36mtraverse_wn\u001b[0;34m(word)\u001b[0m\n\u001b[1;32m     72\u001b[0m     \u001b[0;31m# traverses wn synsets for word and returns first\u001b[0m\u001b[0;34m\u001b[0m\u001b[0;34m\u001b[0m\u001b[0m\n\u001b[1;32m     73\u001b[0m     \u001b[0;31m# word in definition of synsets with same pos\u001b[0m\u001b[0;34m\u001b[0m\u001b[0;34m\u001b[0m\u001b[0m\n\u001b[0;32m---> 74\u001b[0;31m     \u001b[0;32mfor\u001b[0m \u001b[0msynset\u001b[0m \u001b[0;32min\u001b[0m \u001b[0mwn\u001b[0m\u001b[0;34m.\u001b[0m\u001b[0msynsets\u001b[0m\u001b[0;34m(\u001b[0m\u001b[0mword\u001b[0m\u001b[0;34m)\u001b[0m\u001b[0;34m:\u001b[0m\u001b[0;34m\u001b[0m\u001b[0m\n\u001b[0m\u001b[1;32m     75\u001b[0m         \u001b[0mfirst_pos\u001b[0m \u001b[0;34m=\u001b[0m \u001b[0mbest_corresponding_pos\u001b[0m\u001b[0;34m(\u001b[0m\u001b[0msynset\u001b[0m\u001b[0;34m)\u001b[0m\u001b[0;34m\u001b[0m\u001b[0m\n\u001b[1;32m     76\u001b[0m \u001b[0;31m#         first_pos = first_corresponding_pos(synset)\u001b[0m\u001b[0;34m\u001b[0m\u001b[0;34m\u001b[0m\u001b[0m\n",
      "\u001b[0;32m~/.pyenv/versions/3.7.0/envs/poetix/lib/python3.7/site-packages/nltk/corpus/reader/wordnet.py\u001b[0m in \u001b[0;36msynsets\u001b[0;34m(self, lemma, pos, lang, check_exceptions)\u001b[0m\n\u001b[1;32m   1531\u001b[0m         \u001b[0mof\u001b[0m \u001b[0mthat\u001b[0m \u001b[0mlanguage\u001b[0m \u001b[0mwill\u001b[0m \u001b[0mbe\u001b[0m \u001b[0mreturned\u001b[0m\u001b[0;34m.\u001b[0m\u001b[0;34m\u001b[0m\u001b[0m\n\u001b[1;32m   1532\u001b[0m         \"\"\"\n\u001b[0;32m-> 1533\u001b[0;31m         \u001b[0mlemma\u001b[0m \u001b[0;34m=\u001b[0m \u001b[0mlemma\u001b[0m\u001b[0;34m.\u001b[0m\u001b[0mlower\u001b[0m\u001b[0;34m(\u001b[0m\u001b[0;34m)\u001b[0m\u001b[0;34m\u001b[0m\u001b[0m\n\u001b[0m\u001b[1;32m   1534\u001b[0m \u001b[0;34m\u001b[0m\u001b[0m\n\u001b[1;32m   1535\u001b[0m         \u001b[0;32mif\u001b[0m \u001b[0mlang\u001b[0m \u001b[0;34m==\u001b[0m \u001b[0;34m'eng'\u001b[0m\u001b[0;34m:\u001b[0m\u001b[0;34m\u001b[0m\u001b[0m\n",
      "\u001b[0;31mAttributeError\u001b[0m: 'NoneType' object has no attribute 'lower'"
     ]
    }
   ],
   "source": [
    "print_five_words('Fiddle')"
   ]
  },
  {
   "cell_type": "code",
   "execution_count": 71,
   "metadata": {},
   "outputs": [
    {
     "data": {
      "text/plain": [
       "(None, 'falsify')"
      ]
     },
     "execution_count": 71,
     "metadata": {},
     "output_type": "execute_result"
    }
   ],
   "source": [
    "get_two_senses('Fiddle')"
   ]
  },
  {
   "cell_type": "code",
   "execution_count": 74,
   "metadata": {},
   "outputs": [
    {
     "data": {
      "text/plain": [
       "(Synset('toy.v.02'), Synset('tamper.v.01'))"
      ]
     },
     "execution_count": 74,
     "metadata": {},
     "output_type": "execute_result"
    }
   ],
   "source": [
    "least_similar(wn.synsets('Fiddle'))"
   ]
  },
  {
   "cell_type": "code",
   "execution_count": 76,
   "metadata": {},
   "outputs": [
    {
     "data": {
      "text/plain": [
       "\"manipulate manually or in one's mind or imagination\""
      ]
     },
     "execution_count": 76,
     "metadata": {},
     "output_type": "execute_result"
    }
   ],
   "source": [
    "wn.synset('toy.v.02').definition()"
   ]
  },
  {
   "cell_type": "code",
   "execution_count": 77,
   "metadata": {},
   "outputs": [
    {
     "data": {
      "text/plain": [
       "[('manipulate', 'NN'),\n",
       " ('manually', 'RB'),\n",
       " ('or', 'CC'),\n",
       " ('in', 'IN'),\n",
       " ('one', 'CD'),\n",
       " (\"'s\", 'POS'),\n",
       " ('mind', 'NN'),\n",
       " ('or', 'CC'),\n",
       " ('imagination', 'NN')]"
      ]
     },
     "execution_count": 77,
     "metadata": {},
     "output_type": "execute_result"
    }
   ],
   "source": [
    "pos_tag(word_tokenize(wn.synset('toy.v.02').definition()))"
   ]
  },
  {
   "cell_type": "code",
   "execution_count": null,
   "metadata": {},
   "outputs": [],
   "source": []
  }
 ],
 "metadata": {
  "kernelspec": {
   "display_name": "Python 3",
   "language": "python",
   "name": "python3"
  },
  "language_info": {
   "codemirror_mode": {
    "name": "ipython",
    "version": 3
   },
   "file_extension": ".py",
   "mimetype": "text/x-python",
   "name": "python",
   "nbconvert_exporter": "python",
   "pygments_lexer": "ipython3",
   "version": "3.7.0"
  }
 },
 "nbformat": 4,
 "nbformat_minor": 2
}
