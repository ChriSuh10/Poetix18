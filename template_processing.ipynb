{
 "cells": [
  {
   "cell_type": "code",
   "execution_count": 1,
   "metadata": {},
   "outputs": [],
   "source": [
    "special_words = set(['TO', 'ABOUT', 'THROUGH', 'WITH', 'THAT', 'WHICH'])"
   ]
  },
  {
   "cell_type": "code",
   "execution_count": 38,
   "metadata": {},
   "outputs": [
    {
     "name": "stdout",
     "output_type": "stream",
     "text": [
      "$: dollar\n",
      "    $ -$ --$ A$ C$ HK$ M$ NZ$ S$ U.S.$ US$\n",
      "'': closing quotation mark\n",
      "    ' ''\n",
      "(: opening parenthesis\n",
      "    ( [ {\n",
      "): closing parenthesis\n",
      "    ) ] }\n",
      ",: comma\n",
      "    ,\n",
      "--: dash\n",
      "    --\n",
      ".: sentence terminator\n",
      "    . ! ?\n",
      ":: colon or ellipsis\n",
      "    : ; ...\n",
      "CC: conjunction, coordinating\n",
      "    & 'n and both but either et for less minus neither nor or plus so\n",
      "    therefore times v. versus vs. whether yet\n",
      "CD: numeral, cardinal\n",
      "    mid-1890 nine-thirty forty-two one-tenth ten million 0.5 one forty-\n",
      "    seven 1987 twenty '79 zero two 78-degrees eighty-four IX '60s .025\n",
      "    fifteen 271,124 dozen quintillion DM2,000 ...\n",
      "DT: determiner\n",
      "    all an another any both del each either every half la many much nary\n",
      "    neither no some such that the them these this those\n",
      "EX: existential there\n",
      "    there\n",
      "FW: foreign word\n",
      "    gemeinschaft hund ich jeux habeas Haementeria Herr K'ang-si vous\n",
      "    lutihaw alai je jour objets salutaris fille quibusdam pas trop Monte\n",
      "    terram fiche oui corporis ...\n",
      "IN: preposition or conjunction, subordinating\n",
      "    astride among uppon whether out inside pro despite on by throughout\n",
      "    below within for towards near behind atop around if like until below\n",
      "    next into if beside ...\n",
      "JJ: adjective or numeral, ordinal\n",
      "    third ill-mannered pre-war regrettable oiled calamitous first separable\n",
      "    ectoplasmic battery-powered participatory fourth still-to-be-named\n",
      "    multilingual multi-disciplinary ...\n",
      "JJR: adjective, comparative\n",
      "    bleaker braver breezier briefer brighter brisker broader bumper busier\n",
      "    calmer cheaper choosier cleaner clearer closer colder commoner costlier\n",
      "    cozier creamier crunchier cuter ...\n",
      "JJS: adjective, superlative\n",
      "    calmest cheapest choicest classiest cleanest clearest closest commonest\n",
      "    corniest costliest crassest creepiest crudest cutest darkest deadliest\n",
      "    dearest deepest densest dinkiest ...\n",
      "LS: list item marker\n",
      "    A A. B B. C C. D E F First G H I J K One SP-44001 SP-44002 SP-44005\n",
      "    SP-44007 Second Third Three Two * a b c d first five four one six three\n",
      "    two\n",
      "MD: modal auxiliary\n",
      "    can cannot could couldn't dare may might must need ought shall should\n",
      "    shouldn't will would\n",
      "NN: noun, common, singular or mass\n",
      "    common-carrier cabbage knuckle-duster Casino afghan shed thermostat\n",
      "    investment slide humour falloff slick wind hyena override subhumanity\n",
      "    machinist ...\n",
      "NNP: noun, proper, singular\n",
      "    Motown Venneboerger Czestochwa Ranzer Conchita Trumplane Christos\n",
      "    Oceanside Escobar Kreisler Sawyer Cougar Yvette Ervin ODI Darryl CTCA\n",
      "    Shannon A.K.C. Meltex Liverpool ...\n",
      "NNPS: noun, proper, plural\n",
      "    Americans Americas Amharas Amityvilles Amusements Anarcho-Syndicalists\n",
      "    Andalusians Andes Andruses Angels Animals Anthony Antilles Antiques\n",
      "    Apache Apaches Apocrypha ...\n",
      "NNS: noun, common, plural\n",
      "    undergraduates scotches bric-a-brac products bodyguards facets coasts\n",
      "    divestitures storehouses designs clubs fragrances averages\n",
      "    subjectivists apprehensions muses factory-jobs ...\n",
      "PDT: pre-determiner\n",
      "    all both half many quite such sure this\n",
      "POS: genitive marker\n",
      "    ' 's\n",
      "PRP: pronoun, personal\n",
      "    hers herself him himself hisself it itself me myself one oneself ours\n",
      "    ourselves ownself self she thee theirs them themselves they thou thy us\n",
      "PRP$: pronoun, possessive\n",
      "    her his mine my our ours their thy your\n",
      "RB: adverb\n",
      "    occasionally unabatingly maddeningly adventurously professedly\n",
      "    stirringly prominently technologically magisterially predominately\n",
      "    swiftly fiscally pitilessly ...\n",
      "RBR: adverb, comparative\n",
      "    further gloomier grander graver greater grimmer harder harsher\n",
      "    healthier heavier higher however larger later leaner lengthier less-\n",
      "    perfectly lesser lonelier longer louder lower more ...\n",
      "RBS: adverb, superlative\n",
      "    best biggest bluntest earliest farthest first furthest hardest\n",
      "    heartiest highest largest least less most nearest second tightest worst\n",
      "RP: particle\n",
      "    aboard about across along apart around aside at away back before behind\n",
      "    by crop down ever fast for forth from go high i.e. in into just later\n",
      "    low more off on open out over per pie raising start teeth that through\n",
      "    under unto up up-pp upon whole with you\n",
      "SYM: symbol\n",
      "    % & ' '' ''. ) ). * + ,. < = > @ A[fj] U.S U.S.S.R * ** ***\n",
      "TO: \"to\" as preposition or infinitive marker\n",
      "    to\n",
      "UH: interjection\n",
      "    Goodbye Goody Gosh Wow Jeepers Jee-sus Hubba Hey Kee-reist Oops amen\n",
      "    huh howdy uh dammit whammo shucks heck anyways whodunnit honey golly\n",
      "    man baby diddle hush sonuvabitch ...\n",
      "VB: verb, base form\n",
      "    ask assemble assess assign assume atone attention avoid bake balkanize\n",
      "    bank begin behold believe bend benefit bevel beware bless boil bomb\n",
      "    boost brace break bring broil brush build ...\n",
      "VBD: verb, past tense\n",
      "    dipped pleaded swiped regummed soaked tidied convened halted registered\n",
      "    cushioned exacted snubbed strode aimed adopted belied figgered\n",
      "    speculated wore appreciated contemplated ...\n",
      "VBG: verb, present participle or gerund\n",
      "    telegraphing stirring focusing angering judging stalling lactating\n",
      "    hankerin' alleging veering capping approaching traveling besieging\n",
      "    encrypting interrupting erasing wincing ...\n",
      "VBN: verb, past participle\n",
      "    multihulled dilapidated aerosolized chaired languished panelized used\n",
      "    experimented flourished imitated reunifed factored condensed sheared\n",
      "    unsettled primed dubbed desired ...\n",
      "VBP: verb, present tense, not 3rd person singular\n",
      "    predominate wrap resort sue twist spill cure lengthen brush terminate\n",
      "    appear tend stray glisten obtain comprise detest tease attract\n",
      "    emphasize mold postpone sever return wag ...\n",
      "VBZ: verb, present tense, 3rd person singular\n",
      "    bases reconstructs marks mixes displeases seals carps weaves snatches\n",
      "    slumps stretches authorizes smolders pictures emerges stockpiles\n",
      "    seduces fizzes uses bolsters slaps speaks pleads ...\n",
      "WDT: WH-determiner\n",
      "    that what whatever which whichever\n",
      "WP: WH-pronoun\n",
      "    that what whatever whatsoever which who whom whosoever\n",
      "WP$: WH-pronoun, possessive\n",
      "    whose\n",
      "WRB: Wh-adverb\n",
      "    how however whence whenever where whereby whereever wherein whereof why\n",
      "``: opening quotation mark\n",
      "    ` ``\n"
     ]
    }
   ],
   "source": [
    "import nltk\n",
    "nltk.help.upenn_tagset()"
   ]
  },
  {
   "cell_type": "code",
   "execution_count": 1,
   "metadata": {},
   "outputs": [],
   "source": [
    "%load_ext autoreload\n",
    "%autoreload 2"
   ]
  },
  {
   "cell_type": "code",
   "execution_count": 3,
   "metadata": {},
   "outputs": [
    {
     "name": "stdout",
     "output_type": "stream",
     "text": [
      "4\n",
      "{'BELOW', 'WHOEVER', 'BY', 'ALL', 'DARE', 'DOWN', 'ON', 'ONWARD', 'WHATEVER', 'ANOTHER', 'BEFORE', 'PER', 'MANY', 'AGAINST', 'OR', 'SHALL', 'WOULD', 'WHAT', 'NEXT', 'BECAUSE', 'IF', 'QUITE', 'FROM', 'WHOM', 'WHERE', 'AT', 'PLUS', 'TOWARD', 'WHETHER', 'WHICHEVER', 'NEITHER', 'THERE', 'NEAR', 'SOME', 'WHY', 'WHOSE', 'JUST', 'UPON', 'THE', 'AWAY', 'UNTIL', 'ABOVE', 'THIS', 'THAN', 'WHENEVER', 'ALONG', 'APART', 'ASIDE', 'WHOSOEVER', 'SO', 'COULD', 'DESPITE', 'WILL', 'NEED', 'EVER', 'EVERY', 'UNTO', 'MIGHT', 'ABOUT', 'OF', 'THROUGH', 'MUST', 'LIKE', 'AFTER', 'AMONG', 'WHATSOEVER', 'THROUGHOUT', 'THAT', 'CAN', 'UP', 'OVER', 'WHEN', 'YET', 'EXCEPT', 'WHO', 'REGARD', 'BEHIND', 'BENEATH', 'OUT', 'INTO', 'FOR', 'MAY', 'LATER', 'AROUND', 'BOTH', 'ONTO', 'WHILE', 'SINCE', 'UNDER', 'EACH', 'TO', 'THOSE', 'ALBEIT', 'WHOLE', 'OFF', 'BEYOND', 'WITH', 'ANY', 'ACROSS', 'AS', 'IN', 'BETWEEN', 'AN', 'BACK', 'WHICH', 'OUGHT', 'NOR', 'HOW', 'ABOARD', 'THESE', 'DURING', 'EITHER', 'MORE', 'BESIDE', 'AND', 'A', 'SHOULD', 'HALF', 'WHEREVER', 'CANNOT', 'SUCH', 'INSIDE', 'WITHOUT', 'BUT'}\n"
     ]
    }
   ],
   "source": [
    "from py_files.Limericks_new2 import Limerick_Generate_new\n",
    "lg = Limerick_Generate_new()"
   ]
  },
  {
   "cell_type": "code",
   "execution_count": null,
   "metadata": {},
   "outputs": [],
   "source": [
    "print(lg.special_words)"
   ]
  },
  {
   "cell_type": "code",
   "execution_count": 58,
   "metadata": {},
   "outputs": [
    {
     "name": "stdout",
     "output_type": "stream",
     "text": [
      "defaultdict(<class 'list'>, {'WP$ NN VBD DT NN IN NN': [['whose', 'pa', 'made', 'a', 'fortune', 'in', 'pork']], 'WHO VBD JJ NN IN NN': [['who', 'was', 'quite', 'fond', 'of', 'feedin']], 'WHO VBD DT JJ NN DT NN': [['who', 'read', 'a', 'love', 'story', 'each', 'day']], 'WHO VBD DT PRP$ NN IN DT NN': [['who', 'kept', 'all', 'his', 'cash', 'in', 'a', 'bucket']], 'WHO VBD AS PRP VBD IN DT NN': [['who', 'smiled', 'as', 'she', 'rode', 'on', 'a', 'tiger']], 'WHO VBD DT NN IN NN': [['who', 'hadnt', 'an', 'atom', 'of', 'fear']], 'WHO VBD RP PRP$ NNS IN DT NN': [['who', 'sent', 'out', 'his', 'cards', 'for', 'a', 'party']], 'WHO VBD PRP RB IN DT NN': [['who', 'found', 'himself', 'quite', 'at', 'a', 'loss']], 'WHO VBD IN JJ NN': [['who', 'lived', 'on', 'distilled', 'kerosene']], 'WHO VBD DT JJ NN IN PRP$ NN': [['who', 'had', 'a', 'large', 'wart', 'on', 'her', 'nose']], 'WP$ NN VBD RB JJR THAN NN': [['whose', 'speed', 'was', 'much', 'faster', 'than', 'light']], 'WHO RB VBD IN NNS': [['who', 'simply', 'doted', 'on', 'gherkins']], 'WHO VBD IN DT NN IN NNS': [['who', 'slipped', 'on', 'a', 'peel', 'of', 'bananas']], 'WHO VBD IN CD IN PRP$ NNS': [['who', 'married', 'on', 'one', 'of', 'his', 'trips']], 'WHO VBD DT JJ NN CC VBD': [['who', 'ate', 'a', 'green', 'apple', 'and', 'died']], 'WP VBD , PRP$ RB AS PRP VBD': [['who', 'said', ',', 'its', 'just', 'as', 'i', 'feared']], 'WP$ NN VBD JJR CC JJR': [['whose', 'knowledge', 'grew', 'lesser', 'and', 'lesser']], 'WP VBD , DT MD VB VBN JJR': [['who', 'murmured', ',', 'this', 'might', 'have', 'been', 'worse']], 'WP$ NNS RB MD VB': [['whose', 'limericks', 'never', 'would', 'scan']], 'WP$ NN VBD RBS RB JJ': [['whose', 'nose', 'was', 'most', 'awfully', 'bent']], 'WHO VBD SO RB JJ': [['who', 'was', 'so', 'excessively', 'thin']], 'WP$ NN RB VBD JJ': [['whose', 'appetite', 'simply', 'was', 'unich']], 'WP$ NN VBD JJ CC JJ': [['whose', 'knowledge', 'grew', 'green', 'and', 'strong']], 'WHEN VBD DT VBD SO': [['when', 'told', 'this', 'was', 'so']], 'IN PRP$ NNS IN DT NNS': [['with', 'your', 'toes', 'on', 'the', 'keys']], 'IN PRP$ NN , PRP$ NNS': [['from', 'your', 'offspring', ',', 'my', 'dears']], 'AS NN WDT VBZ VBN': [['as', 'spacetime', 'that', 'is', 'curved']], 'CC WHEN PRP VBP VBN': [['but', 'when', 'I', 'have', 'dough']], 'IN PRP$ NNS VBZ VBN': [['because', 'its', 'feet', 'is', 'stuck']], 'VBD DT NN , VB PRP VB': [['said', 'the', 'fly', ',', 'let', 'us', 'flee']], 'VBD DT NN , VB RB VB': [['said', 'the', 'waiter', ',', 'do', 'not', 'shout']], 'PRP MD VB EX VBP DT': [['I', 'could', 'swear', 'there', 'are', 'some']], 'CC PRP VBD VBG': [['but', 'she', 'started', 'absorbing']], 'PDT DT NNS VBD IN': [['all', 'the', 'flowers', 'looked', 'around']], 'PRP MD VB TO DT NN': [['he', 'would', 'go', 'to', 'a', 'party']], 'PRP VBD CD TO NN': [['she', 'gave', 'one', 'to', 'adam']], 'VBN IN DT NN': [['collapsed', 'from', 'the', 'strain']], 'PRP VBD , IN DT NN': [['he', 'said', ',', 'with', 'a', 'sigh']], 'PRP VBD IN PRP$ NN': [['he', 'bought', 'for', 'his', 'daughter']], 'PRP VBD RP CD NN': [['she', 'set', 'out', 'one', 'day']], 'WHEN DT NN VBZ PRP$ NN': [['when', 'a', 'dame', 'wears', 'my', 'coat'], ['when', 'a', 'girl', 'wears', 'my', 'coat']], 'DT NN IN DT NN': [['a', 'fish', 'with', 'a', 'grin']], 'VBD DT CD TO DT NN': [['said', 'the', 'two', 'to', 'the', 'tutor']], 'VBD DT NN IN DT NN': [['said', 'the', 'man', 'at', 'the', 'door']], 'VBD DT NN , DT NN': [['had', 'a', 'quarrel', ',', 'no', 'doubt']], 'PRP VBD RB IN DT NN': [['they', 'came', 'back', 'from', 'the', 'ride']], 'IN VBG PRP$ NN': [['after', 'croaking', 'his', 'wife']], 'DT NN VBN NN': [['a', 'widow', 'named', 'block']], 'CC IN PRP$ NN': [['and', 'as for', 'my', 'hair'], ['and', 'in', 'his', 'lapel']], 'PRP VBD DT NN': [['he', 'indulged', 'a', 'desire'], ['he', 'inserted', 'some', 'mice']], 'IN PRP$ JJ NN': [['since', 'her', 'apple-cheeked', 'groom'], ['because of', 'his', 'scanty', 'regalia']], 'VBD PRP IN , WP DT NN': [['switched', 'it', 'on', ',', 'what', 'a', 'din']], 'DT NN IN PRP$ NN': [['the', 'cause', 'of', 'his', 'sorrow']], 'CD NNS CC DT NN': [['two', 'owls', 'and', 'a', 'hen'], ['four', 'larks', 'and', 'a', 'wren'], ['four', 'larks', 'and', 'a', 'wren']], 'IN PRP$ NN IN NN': [['in', 'my', 'pocket', 'for', 'cash']], 'IN JJ NN': [['due to', 'up-to-date', 'science'], ['with', 'intelligent', 'thought']], 'THAN DT NN IN NN': [['than', 'a', 'goulash', 'of', 'rat']], 'PRP VBP DT NN NN': [['you', 'are', 'a', 'simpleton', 'loon']], 'PRP VBD IN DT NN': [['it', 'said', 'on', 'the', 'door'], ['she', 'sat', 'on', 'a', 'stile']], 'VBN TO DT NN': [['collapsed', 'to', 'the', 'ground']], 'MD RB VB RP TO NN': [[\"'did\", 'not', 'rush', 'off', 'to', 'town']], 'PRP MD VBN IN DT NN': [['they', 'had', 'laid', 'on', 'a', 'chair']], 'EX VBZ NN IN DT NN': [['there', 'was', 'nothing', 'like', 'a', 'food']], 'PRP VBD , RB VBD': [['she', 'ran', ',', 'almost', 'flew']], 'CC DT NN PRP VBD': [['but', 'the', 'copy', 'he', 'wrote']], 'IN WHEN PRP VBD': [['that', 'when', 'she', 'assayed']], 'PRP RB VBD': [['he', 'gladly', 'proclaimed'], ['she', 'contentedly', 'cooed']], 'WHILE PRP$ NN VBD': [['while', 'her', 'lover', 'lamented']], 'CC VBN , PRP VBD': [['but', 'shaken', ',', 'he', 'shot']], 'IN DT NNS IN PRP VBD': [[\"'til\", 'the', 'salts', 'that', 'she', 'shook']], 'CC PRP$ NN , VBN NNP': [['but', 'his', 'daughter', ',', 'named', 'nan']], 'PRP$ NNS VBD SO JJ': [['her', 'thanks', 'were', 'so', 'cold']], 'SO JJ CC JJ': [['so', 'exclusive', 'and', 'few']], 'CC JJ , CC JJ': [['and', 'flat', ',', 'and', 'compressed']], 'PRP IN VBD SO JJ': [['it', 'at last', 'grew', 'so', 'small']], 'DT NN VBD , RB JJ': [['the', 'teacher', 'said', ',', 'not', 'right']], 'IN DT NN VBZ DT JJ': [['for', 'the', 'pattern', 'is', 'all', 'wrong']], 'CC DT CD VBD JJ': [['but', 'this', 'one', 'was', 'easy']], 'PRP VBZ JJ': [['it', 'expresses', 'nothing']], 'WHEN VBN , WP VBZ JJ .': [['when', 'asked', ',', 'who', 'is', 'dead', '?']], 'VBD DT NN , VB PRP VB .': [['said', 'the', 'fly', ',', 'let', 'us', 'flee', '!']], 'VB PRP VB NN CC NN .': [['do', 'you', 'haveneedle', 'and', 'thread', '?']], 'CC VBD , MD PRP VB .': [['and', 'said', ',', 'can', 'we', 'dance', '?']], 'WHEN VBN , WRB SO JJ .': [['when', 'asked', ',', \"'why\", 'so', 'blue', '?']], 'RB DT JJ NN VBD PRP': [['soon', 'a', 'happy', 'thought', 'hit', 'her']], 'IN DT JJ NN NNS': [['in', 'the', 'right', 'reverend', 'shins']], 'WDT VBD NN CC NNS': [['which', 'brought', 'meanness', 'and', 'scorn']], 'TO JJS IN PRP$ NNS': [['to', 'most', 'of', 'his', 'clients']], 'NNS , NNS CC NNS': [['muslims', ',', 'catholics', 'and', 'jews'], ['slugs', ',', 'peacocks', 'and', 'quails']], 'VB PRP$ NN CC PRP$ NNS': [['stung', 'his', 'nose', 'and', 'his', 'knees']], 'CC NN IN PRP$ NNS': [['and', 'stuck', 'through', 'her', 'feet']], 'PRP , DT NNS': [['he', ',', 'all', 'unawares']], 'IN DT NN IN PRP$ NNS': [['bang', 'the', 'floor', 'with', 'your', 'knees']], 'MD VB DT PRP$ NNS': [['could', 'pay', 'all', 'my', 'bills']], 'CC AS NNS VBP DT NNS': [['and', 'as', 'cops', 'walk', 'the', 'beats']], 'VBD DT NN IN PRP$ NNS': [['wet', 'the', 'bloom', 'on', 'her', 'cheeks']], 'CC VB PRP$ NNS': [['and', 'soil', 'my', 'pants']], 'IN PRP$ NNS CC PRP$ NNS': [['with', 'their', 'wiles', 'and', 'their', 'wits']], 'CC VBD NNS IN NNS': [['and', 'ate', 'thousands', 'of', 'figs']], 'CC VB VBG PRP$ NNS': [['or', 'be', 'flapping', 'your', 'gums']], 'VBG DT NNS CC NNS': [['crushing', 'all', 'boys', 'and', 'girls']], 'IN VBG NNS': [['for', 'acting', 'positions']], 'CC PRP RB VBD NNS': [['but', 'he', 'never', 'kicked', 'onths']], 'IN DT NN IN NNS': [['in', 'a', 'couple', 'of', 'years']], 'VBN NNS VBP': [['made', 'people', 'suspect']], 'CD NN , PRP VBP': [['one', 'day', ',', 'I', 'suppose']], 'SO DT NN PRP VBP': [['so', 'this', 'tribute', 'we', 'pay']], 'VBD DT NN IN': [['pulled', 'the', 'fisherman', 'in']], 'PRP VBD NN IN': [['it', 'sucked', 'everything', 'in']], 'CC NN IN ,': [['and', 'wander', 'about', ',']], 'VBZ PRP JJR TO VB , CC': [['is', 'it', 'harder', 'to', 'toot', ',', 'or']], 'IN NNP NN , CC': [['as soon as', \"'twas\", 'baughan', ',', 'but'], ['as soon as', \"'twas\", 'baughan', ',', 'but']], 'WP VBD , NN PRP , VB CC': [['who', 'said', ',', 'thank', 'you', ',', 'madam', 'and']], 'VBN , PRP VB WRB PRP VBZ ,': [['cried', ',', \"'i\", 'know', 'how', 'she', 'sings', ',']], 'IN VBG IN PRP': [['upon', 'finding', 'that', 'it']], 'VBZ VBN RP , CC PRP': [['has', 'worn', 'off', ',', 'and', 'he']], 'DT NN WP VBD PRP': [['a', 'tutor', 'who', 'taught', 'her']], 'NN VB PRP': [['please', 'tell', 'me']], 'IN PRP$ NN PRP MD VB PRP': [['for', 'her', 'skill', 'we', 'must', 'praise', 'her']], 'CC RB VBD PRP': [['and', 'carefully', 'lopped', 'it']], 'DT NN NN , RB PRP': [['that', 'park', 'bench', ',', 'well', 'I']], 'IN PRP VBD RP PRP$ NN': [['though', 'you', 'piled', 'up', 'her', 'plate']], 'IN DT JJ NN': [['with', 'all', 'due', 'propriety'], ['in', 'a', 'relative', 'way'], ['with', 'a', 'thunderous', 'sound']], 'DT NN CC IN NN': [['either', 'night', 'or', 'by', 'dee']], 'CC PRP$ NN CC NN': [['and', 'her', 'brother', 'and', 'pa']], 'CC NN NN': [['and', 'daniel', 'defoe']], 'PRP VBD VBN IN DT NN': [['he', 'was', 'pained', 'by', 'a', 'tooth']], 'RB VBN IN DT NN': [['then', 'collapsed', 'in', 'a', 'cell']], 'CC JJ NN': [['or', 'hungarian', 'cat'], ['and', 'comic', 'astuteness']], 'PRP MD VB DT NN': [['he', 'would', 'wave', 'a', 'cigar'], ['he', 'would', 'wave', 'a', 'cigar']], 'DT VBZ VBN IN IN NN': [['that', 'has', 'run', 'out', 'of', 'pluck']], 'DT JJ NN': [['a', 'new', 'hydrocarbon']], 'IN PRP$ NN VBD PRP$ NN': [['that', 'his', 'back', 'touched', 'his', 'chest']], 'IN PRP$ NNS CC PRP$ NN': [['in', 'my', 'legs', 'and', 'my', 'bum'], ['in', 'his', 'boots', 'and', 'his', 'vest']], 'PDT DT NNS IN DT NN': [['all', 'the', 'birds', 'in', 'the', 'air']], 'CC VBD DT JJ NN': [['but', 'got', 'a', 'great', 'fright']], 'VBP RB PRP VB DT JJ NN .': [['do', \"n't\", 'you', 'know', 'a', 'good', 'tune', '?']], 'IN DT NN IN NNS VBZ DT NN': [['that', 'a', 'game', 'by', 'jinks', 'is', 'the', 'thing']], 'DT CD VBD PDT DT NN': [['no', 'one', 'heard', 'such', 'a', 'scream']], 'IN DT NNS CC DT NN': [['like', 'the', 'mumps', 'or', 'the', 'flu']], 'IN DT NN IN PRP$ NN': [['with', 'this', 'verse', 'on', 'my', 'wall'], ['with', 'a', 'hat', 'on', 'my', 'head']], 'DT JJ NN NN': [['the', 'bad', 'background', 'noise']], 'CC VBD NN IN NN': [['but', 'made', 'plenty', 'of', 'dough']], 'PRP VBD CD JJ NN': [['he', 'was', 'one', 'funny', 'brit']], 'VBD CD NNS IN NN': [['drank', 'three', 'kinds', 'of', 'wine']], 'VBZ DT JJ NN POS NN': [['wears', 'an', 'old', 'chicken', \"'s\", 'wing']], 'VBD DT NN DT NN': [['packed', 'the', 'house', 'every', 'night']], 'CC PRP VBD VBN IN DT NN': [['but', 'he', 'was', 'stopped', 'in', 'the', 'hall']], 'DT VBN TO DT NN': [['all', 'exposed', 'to', 'the', 'breeze']], 'CC PRP VBD TO DT NN': [['and', 'they', 'rushed', 'to', 'the', 'rail']], 'WDT VBD TO PRP$ NN': [['which', 'came', 'to', 'his', 'aid']], 'IN DT JJ , JJ NN': [['with', 'a', 'dull', ',', 'sickening', 'thud']], 'IN DT NN IN DT NN': [['at', 'the', 'man', 'in', 'the', 'store'], ['with', 'the', 'faith', 'of', 'a', 'marytr']], 'PRP$ NN CC PRP$ NN': [['his', 'grief', 'and', 'his', 'rage']], 'CC VBD PRP$ NN': [['and', 'pummelled', 'his', 'nose']], 'PRP POS DT NN': [['she', \"'s\", 'a', 'person']], 'WDT PRP VBD IN DT NN': [['which', 'he', 'loosed', 'in', 'the', 'house']], 'VB RP IN DT NN': [['ran', 'away', 'with', 'a', 'man']], 'PRP VBD SO JJ NN': [['she', 'ate', 'so', 'much', 'spice'], ['she', 'ate', 'so', 'much', 'spice']], 'AS DT JJ NN': [['as', 'the', 'inverted', 'square'], ['as', 'the', 'unique', 'motivation']], 'IN CD NNS IN DT NN': [['with', 'three', 'wives', 'in', 'the', 'tomb']], 'VB PRP VB , VBD DT NN': [['let', 'us', 'fly', ',', 'said', 'the', 'flea']], 'NN CC DT NN POS RB JJ NN': [['(', 'or', 'the', 'paper', \"'s\", 'too', 'long', ')']], 'VBD NN': [['was', 'paradichloroand']], 'PRP POS DT NN IN NN': [['she', \"'s\", 'a', 'person', 'of', 'note']], 'VBP RB VB IN DT NN': [['do', \"n't\", 'spit', 'on', 'the', 'floor']], 'PRP RB RB IN DT NN': [['it', 'right', 'there', 'on', 'the', 'spot']], 'AS PRP VBD DT NN NN': [['as', 'he', 'struck', 'the', 'ground', 'floor']], 'IN JJ NN NN': [['in', 'davy', \"jones'\", 'locker']], 'PRP VBD VBN IN PRP$ NN': [['he', 'was', 'told', 'by', 'his', 'wife']], 'IN PDT DT NN': [['at', 'all', 'this', 'garbage']], 'VBG NN IN DT NN': [['dumping', 'dirt', 'near', 'the', 'store']], 'IN DT NN': [['without', 'any', 'nightie']], 'WP DT JJ NN': [['what', 'the', 'clerical', 'fee']], 'CC VB RB AS NN': [['and', 'eat', 'just', 'as', 'hearty']], 'RB PRP VBD PRP$ JJ NN': [['then', 'he', 'took', 'his', 'own', 'life']], 'NN PRP VBP VBN PRP$ NN': [['`when', 'I', 'have', 'punctured', 'his', 'hide']], 'TO VB NN': [['to', 'drink', 'lemonade'], ['to', 'drink', 'lemonade']], 'VBD , PRP VBP RB DT NN': [['said', ',', 'I', 'have', \"n't\", 'a', 'clue']], 'VB DT NN IN PRP$ NN': [['take', 'a', 'pull', 'at', 'his', 'hair']], 'IN DT RB JJ NN': [['at', 'the', 'very', 'first', 'toot']], 'TO VB RP DT NN': [['to', 'scare', 'off', 'the', 'critter']], 'IF PRP VBD RB VB DT NN': [['if', 'I', 'did', \"n't\", 'curb', 'the', 'sound']], 'DT NN VBD NN': [['this', 'turk', 'made', 'reply']], 'IN DT NN IN JJ NN': [['that', 'a', 'wave', 'of', 'great', 'joy']], 'SO JJ VBD PRP$ NN': [['so', 'short', 'was', 'his', 'fin']], 'CC PRP$ JJ JJ NN': [['and', 'our', 'social', 'faux', 'pas']], 'RB PRP$ NN VB IN DT NN': [['now', 'his', 'brain', 'is', 'in', 'a', 'whirl']], 'VBD PRP$ NN , PRP VBZ NN': [['said', 'her', 'doctor', ',', 'it', \"'s\", 'plain']], 'RB VBD IN DT NN': [['then', 'died', 'of', 'the', 'shock'], ['then', 'died', 'of', 'the', 'shock']], 'PRP$ NN VBD DT NN': [['my', 'mama', 'was', 'a', 'goat']], 'JJ NN , JJ NN': [['`your', 'manner', ',', 'dear', 'creature']], 'PRP VBP VBN RP JJ CC JJ': [['you', 'have', 'mixed', 'up', 'green', 'and', 'red']], 'PRP RB VBD JJ': [['I', 'only', 'felt', 'queasy']], 'WHEN DT NN VBZ JJ': [['when', 'the', 'weather', 'turns', 'cool'], ['when', 'the', 'weather', 'turns', 'cool']], 'CC PRP$ NN , WP VBZ IN JJ': [['and', 'his', 'wife', ',', 'who', \"'s\", 'in', 'black']], 'VBG NN JJ': [['using', 'language', 'extreme']], 'PRP$ NN VBZ DT JJ .': [['your', 'page', 'is', 'all', 'white', '!']], 'CC VBD RP , PRP VBZ JJ .': [['and', 'called', 'out', ',', \"'who\", \"'s\", 'afraid', '?'], ['and', 'called', 'out', ',', \"'who\", \"'s\", 'afraid', '?'], ['and', 'called', 'out', ',', \"'who\", \"'s\", 'afraid', '?']], 'MD DT VB JJ': [['should', 'any', 'be', 'living']], 'VBD RB JJ': [['grew', 'very', 'defiant']], 'PRP$ NN VBD SO JJ': [['her', 'hair', 'got', 'so', 'light']], 'SO JJ SO JJ': [['so', 'unique', 'so', \"sincere'\"]], 'PRP$ NNS VBP DT JJ': [['their', 'rates', 'are', 'the', 'same']], 'VBZ RB JJ': [['is', 'simply', 'immense']], 'CC VBD NN JJR JJ': [['and', 'bought', 'something', 'less', 'flash'], ['and', 'bought', 'something', 'less', 'flash']], 'NN CC DT NN POS RB RB JJ': [['\\\\(', 'or', 'the', 'paper', \"'s\", 'too', 'long', '\\\\)']], 'DT NN IN DT JJ': [['a', 'share', 'of', 'the', 'same']], 'DT PRP$ NNS VBD JJ': [['both', 'his', 'parents', 'were', 'proud']], 'VBD , VBP RB VB JJ': [['said', ',', \"'do\", \"n't\", 'be', 'absurd']], 'IN DT NN TO VB JJ': [['with', 'a', 'chance', 'to', 'get', 'rich']], 'NN CC DT NN POS RB JJ JJ': [['\\\\(', 'or', 'the', 'paper', \"'s\", 'too', 'long', '\\\\)']], 'IN DT NN IN PRP VBD': [['in', 'the', 'bath', 'that', 'she', 'took'], ['in', 'the', 'bath', 'that', 'she', 'took']], 'WHEN DT NN VBD': [['when', 'a', 'chance', 'came']], 'VBD DT NNS IN PRP VBD': [['were', 'the', 'friends', 'that', 'he', 'knew']], 'CC VBD PRP RB VBD': [['or', 'was', 'it', 'just', 'luck'], ['or', 'was', 'it', 'just', 'luck']], 'WHEN DT NNS VBD': [['when', 'the', 'gentlemen', 'said']], 'CC JJR NNS PRP VBD': [['and', 'more', 'stars', 'she', 'spied'], ['and', 'more', 'stars', 'she', 'spied']], 'CC RB VBD': [['and', 'jappily', 'sat']], 'PRP$ NN VBD CC VBD': [['her', 'ma', 'came', 'and', 'tarried']], 'CC WP PRP RB VBD': [['and', 'what', 'he', 'then', 'said']], 'VB DT NN NNS VBD': [['till', 'the', 'jungle', 'folks', 'roared']], 'PRP VBD CC VBD': [['he', 'giggled', 'and', 'said'], ['she', 'sighed', 'and', 'replied']], 'RBR NNS PRP VBD': [['more', 'stars', 'she', 'espied']], 'DT NN VBD': [['the', 'apple', 'fermented']], 'IN DT SO': [['instead of', 'another', 'so']], 'PRP$ NN VBD RB': [['her', 'complexion', 'did', 'too']], 'CC MD VB IN NN RB': [['but', 'would', 'sleep', 'on', 'till', 'late']], 'CC VB PRP RB': [['and', 'wave', 'it', 'about']], 'PRP RB VBD RB': [['he', 'never', 'came', 'back']], 'CC PRP$ NNS RB': [['and', 'their', 'gums', 'underneath']], 'IN DT NN RB': [['with', 'the', 'lady', 'inside']], 'CC RB VB RB RB': [['and', 'just', 'scarf', 'eos', 'down'], ['and', 'just', 'scarf', 'eos', 'down']], 'IN NNS IN DT JJS': [['with', 'remains', 'of', 'the', 'best']], 'CC IN DT WHILE': [['and', 'after', 'a', 'while']], 'DT JJ NN NNP': [['the', 'second', 'day', \"`munday'\"]], 'RB NN TO VB': [['lovely', 'poetry', 'to', 'write'], ['lovely', 'poetry', 'to', 'write']], 'TO VB TO CC VB': [['to', 'walk', 'to', 'and', 'fro']], 'PRP VBP TO VB': [['I', 'want', 'to', 'deny']], 'PRP VBD JJ TO VB': [['he', 'was', 'ready', 'to', 'faint']], 'IN DT NN PRP VBD VB': [['in', 'a', 'stove', 'she', 'did', 'bake']], 'IN DT NNS PRP MD VB': [['at', 'the', 'things', 'he', \"'d\", 'forecast'], ['at', 'the', 'things', 'he', \"'d\", 'forecast']], 'VBG TO VB': [['attempting', 'to', 'learn']], 'CC NN MD VB': [['and', 'that', 'will', 'serve']], 'DT NN VBZ TO VB': [['no', 'one', 'seems', 'to', 'ceir']], 'RB AS JJ AS MD VB': [['just', 'as', 'plain', 'as', 'can', 'be']], 'VBN , PRP VBP VBN': [['preceded', ',', 'I', 'have', 'found']], 'CC DT NN MD VB VBN': [['but', 'no', 'horse', 'could', 'be', 'found']], 'WHEN IN JJS PRP VBD VBN': [['when', 'at', 'least', 'she', 'was', 'wed'], ['when', 'at', 'least', 'she', 'was', 'wed']], 'VB RB , VB POS VB VBN': [['come', 'away', ',', 'let', \"'s\", 'be', 'wed']], 'PRP$ NN VBN': [['her', 'appearance', 'improved']], 'DT NN IN PRP$ VBN': [['every', 'night', 'in', 'his', 'shed']], 'PRP VBD NN IN DT': [['he', 'wore', 'nothing', 'at', 'all'], ['he', 'knew', 'nothing', 'at', 'all']], 'VBD DT NN IN DT': [['was', 'no', 'use', 'at', 'all']], 'NN IN PRP MD': [['anything', 'that', 'he', 'can']], 'IN DT NN VBN IN VBG PRP': [['of', 'the', 'bishop', 'engaged', 'in', 'confirming', \"'em\"]], 'CC RB EX VBD JJ JJ IN PRP': [['and', 'right', 'there', 'became', 'awful', 'sick', 'in', \"'em\"]], 'MD VB VBD DT NN VBN IN PRP': [['would', 'arise', 'were', 'the', 'kid', 'taken', 'from', 'us']], 'CC DT NN MD RB MD DT MD , MD PRP': [['but', 'a', 'canner', 'ca', \"n't\", 'can', 'a', 'can', ',', 'can', 'he']], 'IN DT NN VBD RB PRP$ NN POS': [['that', 'the', 'outfit', 'was', 'really', 'his', 'mama', \"'s\"]], 'NN . NN IN DT NN IN DT NN POS': [['`oh', '!', 'look', 'at', 'the', 'legs', 'on', 'the', 'table', \"'\"]], 'PRP MD RB VB NNS IN CD NNS POS': [['you', 'can', \"n't\", 'put', 'toucans', 'in', 'two', 'cans', \"'\"]], 'CC PRP VBP VBN IN IN NNS IN DT NN POS': [['and', 'I', 'am', 'made', 'out', 'of', 'curds', 'by', 'the', 'whey', \"'\"]], 'VBZ JJR THAN PRP$ JJ NNS POS': [['is', 'more', 'than', 'your', 'scholarship', 'warrants', \"'\"]], 'RB PRP VBP VBG DT NN IN NN': [['now', 'they', 'are', 'fishing', 'the', 'fissure', 'for', 'fisher']], 'CC VBD DT NN IN NN': [['and', 'finished', 'the', 'solo', 'with', 'honour']], 'VBD DT NN DT JJR THAN NN': [['was', 'a', 'tipple', 'no', 'stronger', 'than', 'toui']], 'VBZ CC VBZ DT NN': [['perspires', 'and', 'pushes', 'no', 'mower']], 'TO VB JJ NNS IN PRP NN': [['to', 'balance', 'green', 'peas', 'on', 'her', 'fork']], 'VBZ DT NN DT NN NN .': [['is', 'a', 'buttress', 'a', 'feminine', 'butter', '?']], 'PRP RB VBD PRP$ NN': [['he', 'never', 'completed', 'his', 'task']], 'IN DT NN CC NN CC NN': [['of', 'the', 'gravy', 'and', 'chicken', 'and', 'ham']], 'VBP DT VBN PRP$ NNS IN PRP$ NN .': [['have', 'all', 'built', 'their', 'nests', 'in', 'my', 'beard', '!']], 'VBP JJ TO VB IN PRP$ NN .': [['are', 'welcome', 'to', 'sit', 'on', 'my', 'bonnet', '!']], 'WHEN DT NN VBD CD RB VB DT NN .': [['when', 'the', 'moon', 'said', \"'do\", \"n't\", 'be', 'a', 'buffoon', '!']], 'RB PRP VBD PRP NN IN DT NN': [['then', 'he', 'walloped', 'me', 'square', 'in', 'the', 'face']], ', SO PRP VBP IN DT NN': [[',', 'so', 'they', 'played', 'on', 'the', 'lynx']], 'IN JJ NN IN NN': [['by', 'that', 'lady', 'of', 'russia']], 'WDT VBD JJ NN IN NN': [['which', 'refreshed', 'that', 'person', 'of', 'ewell']], 'CC DT NN IN DT JJ NN': [['or', 'the', 'joy', 'of', 'a', 'pleasant', 'surprise']], 'CC PRP VBP IN PRP$ NN VBZ DT NN': [['and', 'I', 'hope', 'that', 'your', 'day', 'is', 'a', 'blast']], 'PRP$ NN POS JJ NN': [['my', 'neighbor', \"'s\", 'fat', 'wife']], 'IN DT NNS IN NN': [['like', 'the', 'movies', 'of', 'tandy']], 'IN DT JJ NN IN NN IN PRP$ NN': [['with', 'a', 'nice', 'head', 'of', 'hair', 'on', 'his', 'pate']], 'CC VBD IN DT JJ NN': [['and', 'retired', 'with', 'a', 'bad', 'stomach ache'], ['and', 'returned', 'on', 'the', 'previous', 'night']], 'CC PRP VBZ DT NN IN DT NN': [['and', 'that', 'is', 'the', 'cause', 'of', 'this', 'sonnet']], 'IN NN , PRP MD RB VB NN': [['in', 'fact', ',', 'they', 'could', 'hardly', 'get', 'ynne']], 'PRP RB VBD DT NN': [['he', 'carelessly', 'stuck', 'a', 'verbena']], 'WDT VBZ PRP IN RB JJ NN': [['which', 'leaves', 'him', 'in', 'very', 'bad', 'shape']], 'IN CD NNS VBD JJ IN NN': [['for', 'six', 'sikhs', 'were', 'seasick', 'at', 'eos']], 'VBD RB DT JJ NN': [['found', 'only', 'a', 'sleeveless', 'tuxedo']], 'CC DT NN RB VBD DT JJ NN': [['and', 'the', 'captain', 'then', 'swore', 'a', 'whole', 'lacht']], 'IN RB VBG PRP JJ NN': [['for', 'not', 'selling', 'her', 'waterproof', 'paint']], 'WHEN DT JJ NN VBD VBN IN NN': [['when', 'the', 'wrong', 'tooth', 'was', 'pulled', 'by', 'mistake']], 'CC VBD PRP JJ NN': [['and', 'showed', 'him', 'many', 'cstar']], 'WHEN PRP VBP PRP , PRP VBP VBN DT NN': [['when', 'I', 'wear', 'it', ',', 'I', 'am', 'called', 'a', 'vermine']], 'VBP VBG DT NN IN PRP$ NN': [['are', 'making', 'a', 'nest', 'in', 'my', 'beard']], 'DT NN VBZ VBN NN': [['the', 'confusion', 'is', 'called', 'harem-scarem']], 'CC AS RB AS DT NN': [['and', 'as', 'far', 'as', 'the', 'bucket']], 'IN PRP VBD PRP JJ NN': [['that', 'she', 'pickled', 'her', 'internal', \"workins'\"]], 'IN DT NN IN NN TO NN': [['of', 'the', 'distance', 'from', 'object', 'to', 'source']], 'VBD VBG PRP$ IN DT NN': [['kept', 'insuring', 'her', 'during', 'the', 'service']], 'SO PRP VBP IN DT NN IN DT NN': [['so', 'they', 'flew', 'through', 'a', 'flaw', 'in', 'the', 'flue']], 'CC PRP VBP VBN TO DT NN IN NN': [['and', 'I', 'am', 'stuck', 'to', 'the', 'toilet', 'with', 'glue']], 'NNS IN IN PRP$ NNS IN NN': [['seeps', 'out', 'of', 'my', 'pockets', 'like', 'honey']], 'WHEN PRP VBP PRP , PRP VBP VBN RB NN': [['when', 'I', 'wear', 'it', ',', 'I', 'am', 'called', 'only', 'vermin']], 'SO PRP VBD RB CC VB IN DT NN': [['so', 'he', 'jumped', 'up', 'and', 'spat', 'on', 'the', 'ceiling']], 'AS PRP VBD TO VB , PRP VBP DT NN': [['as', 'it', 'tried', 'to', 'explain', ',', 'I', 'am', 'a', 'spi']], 'IN PRP$ NN CC NN IN DT NN': [['with', 'his', 'spanner', 'and', 'jack', 'in', 'the', 'box']], 'CC TO VB PRP JJ NNS IN NN': [['and', 'to', 'write', 'it', 'used', 'acres', 'of', 'time']], 'POS VB PDT DT NN NN': [[\"'twill\", 'take', 'all', 'the', 'afternoon', 'cleaning']], 'DT NN JJ NN POS NN DT NN': [['the', \"bloomin'\", 'old', 'tub', \"'s\", 'sprung', 'a', 'leak']], 'PRP VBD PRP$ JJ NNS CC CD NN': [['they', 'found', 'his', 'front', 'teeth', 'and', 'one', 'cuff']], 'PRP RB VBP IN DT NN .': [['I', 'invariably', 'get', 'in', 'a', 'stew', '!']], 'NN VBD , PRP VBZ DT JJ NN IN NN': [['bo', 'said', ',', 'it', 'is', 'a', 'polar', 'bear', 'in', 'snow']], 'WDT VBD JJ NN': [['which', 'distracted', 'that', 'bull']], 'PRP MD VB RP DT NN': [['they', \"'d\", 'kick', 'up', 'a', 'hullabaloo']], 'CC VBD PRP$ NN DT NN': [['and', 'gave', 'his', 'proboscis', 'a', 'tweak']], 'IN PRP$ NN VBD NN': [['that', 'her', 'head', 'was', 'bare']], 'CC VBD PRP$ IN PRP VBD NN': [['and', 'kissed', 'her', 'because', 'he', 'was', 'wuise']], 'CC RB JJ IN NN': [['and', 'quite', 'independent', 'of', 'girth']], 'CC PRP VBZ RB VB IN PRP$ NN': [['but', 'it', 'does', \"n't\", 'come', 'out of', 'my', 'purse']], 'WP VBD VBN IN DT NN NN': [['what', 'was', 'shown', 'on', 'the', 'cinema', 'screen']], 'RB , PRP VBD JJ NN': [['alas', ',', 'he', 'proved', 'treaulieu', 'unreaulieu'], ['alas', ',', 'he', 'proved', 'treaulieu', 'unreaulieu']], 'RB DT VBN IN NN': [['then', 'both', 'skedaddled', 'from', 'eden']], 'IN DT IN NNS IN IN NN': [['by', 'another', 'with', 'beans', 'from', 'near', 'fargo']], 'SO PRP RB VB , IN NN': [['so', 'he', 'just', 'rhododendron', ',', 'of', 'course']], 'PRP VBD RB VB NN VBD DT NN': [['I', 'did', \"n't\", 'think', 'life', 'was', 'this', 'way']], 'CC PRP VBD CC PRP VBD , NN': [['but', 'she', 'sighed', 'and', 'she', 'said', ',', 'canteloupe']], 'VBG TO VB NN': [['pretending', 'to', 'represent', 'chile']], 'CC RB PRP VBZ DT NN NN': [['and', 'now', 'he', \"'s\", 'a', 'college', 'professor']], 'DT IN DT NN IN NN': [['all', 'of', 'this', 'homework', 'after', 'school']], 'JJ NN IN DT NN': [['that', 'man', 'in', 'a', 'boat']], 'JJ NN IN NN': [['that', 'man', 'of', 'peru'], ['that', 'person', 'of', 'ischia']], 'CC VB NN TO PRP$ NN IN NN': [['and', 'give', 'vent', 'to', 'their', 'terror', 'in', 'scremyss']], 'VBP DT JJ NNS IN DT NN': [['are', 'all', 'easy', 'marks', 'for', 'a', 'jolly']], 'DT NN IN NN': [['the', 'theory', 'of', 'witten']], 'IN PRP VBP RB VBN VBN IN DT NN': [['that', 'I', 'have', \"n't\", 'been', 'born', 'with', 'a', 'breign']], 'CC PRP VBD RB CC VBD PRP$ NN': [['and', 'it', 'dropped', 'down', 'and', 'ruined', 'her', 'gown']], 'CC RB VB RB NN': [['and', 'sometimes', 'get', 'quite', 'cranky']], 'WDT VBD JJ , RB IN NN': [['that', 'were', 'funny', ',', 'just', 'like', 'fudd']], 'IN DT NN IN PRP$ NN CC NN': [['on', 'the', 'phone', 'with', 'your', 'brother', 'or', 'seester']], 'RB VBD IN DT NN IN NN': [['then', 'fell', 'into', 'a', 'vat', 'of', 'grease']], 'CC RB MD VB DT NN': [['and', 'soon', 'could', 'afford', 'a', 'rolls-royce']], 'IN DT NN VBZ VBN RP PRP$ NN': [['for', 'a', 'surgeon', 'has', 'cut', 'off', 'his', 'fuite']], 'MD VB DT NN IN NN': [['may', 'evolve', 'a', 'professor', 'at', 'yale']], 'IN DT NN , VBG NN .': [['upon', 'the', 'fence', ',', 'crying', 'hooray', '!']], 'THAN VB TO DT JJ NN': [['than', 'belong', 'to', 'the', 'star-spangled', 'banner']], 'CC PRP VBD RB IN NN IN NN': [['and', 'he', 'did', \"n't\", 'like', 'mother', 'of', 'pearl']], 'VBD RB DT NN IN NN': [['was', 'quite', 'the', 'reverse', 'of', \"'hosanna'\"]], 'RB PRP$ NN VBD DT NN IN PRP$ NN': [['then', 'his', 'wife', 'tied', 'a', 'knot', 'in', 'his', 'trunk']], 'PRP VBP RB VB , PRP RB VBD IN DT NN': [['I', 'do', \"n't\", 'know', ',', 'I', 'just', 'came', 'for', 'the', 'ride']], 'THAN EX VBP IN DT JJ NN': [['than', 'there', 'are', 'in', 'the', 'star-spangled', 'banner']], 'AS PRP VBD RP CD NNS IN PRP$ NN': [['as', 'she', 'let', 'out', 'three', 'tucks', 'in', 'her', 'tunic']], 'CC VBD NN IN PRP$ NN': [['and', 'made', 'cider', 'inside', 'her', 'inside']], 'VBD RP TO VB NN IN NN': [['turned', 'out', 'to', 'be', 'plaster', 'of', 'paris']], 'IN PRP VBP IN PRP VBP PRP VBZ JJ , NN': [['for', 'I', 'fear', 'that', 'I', 'am', 'handel', \"'s\", 'miss', ',', 'sire']], 'DT NNS VBN RB IN DT NN': [['the', 'police', 'have', 'been', 'here', 'with', 'some', 'worrence']], 'IN DT JJ NN NN': [['in', 'a', 'sugary', 'takeover', 'bid']], 'CC DT NN IN DT NN IN DT NN': [['and', 'the', 'smile', 'on', 'the', 'face', 'of', 'the', 'tiger']], 'VBD RB , CC VBD VBN NN': [['sat', 'down', ',', 'and', 'was', 'bitten', 'beneath']], 'PRP VBD WHEN PRP VBP IN NN': [['I', 'relaxed', 'when', 'I', 'eos', 'across', 'aunt']], 'TO DT NN WP VBD VBN IN DT NN': [['to', 'a', 'man', 'who', 'was', 'shaped', 'like', 'a', 'cello']], 'TO VB CD NNS TO VB': [['to', 'tutor', 'two', 'tutors', 'to', 'toot']], 'RB AS DT JJ NN MD VB': [['just', 'as', 'every', 'sweet', 'maiden', 'should', 'dioux']], 'PRP VBD JJ TO VB CC TO VB': [['she', 'was', 'ready', 'to', 'give', 'and', 'to', 'take']], 'IN DT NN VBD CC VB': [['because', 'the', 'man', 'bullied', 'and', 'boucestcr']], 'CC DT NN NN VBD PRP VB': [['but', 'the', 'telephone', 'book', 'caused', 'him', 'pain']], 'WDT PRP$ NN MD RB VB , JJ TO VB': [['which', 'his', 'faith', 'could', \"n't\", 'heal', ',', 'strange', 'to', 'say']], 'JJ NNS VBZ DT NN PRP MD VB': [['thirty', 'days', 'is', 'the', 'time', 'he', 'will', 'do']], 'CC PRP VBP IN PRP RB VB': [['but', 'I', 'guess', 'that', 'you', 'probably', 'gnu']], 'CC NN , NN RB , CC RB PRP MD VB': [['and', 'shout', ',', 'freeze', 'there', ',', 'or', 'else', 'I', 'will', 'cheroot']], 'SO PRP RB RB VBD RB TO VB': [['so', 'he', 'very', 'soon', 'went', 'back', 'to', 'dover']], 'CC VBD RB IN PRP$ NNS VB': [['but', 'slept', 'poorly', 'because', 'her', 'toes', 'froze']], 'VBD PRP$ NN NN PRP$ NNS CC VB': [['put', 'his', 'arm', 'round', 'her', 'shoulders', 'and', 'kr']], 'VBP WRB JJ . DT NNS MD VB': [['oh', 'how', 'modern', '!', 'the', 'critics', 'will', 'say']], 'CC MD , IF PRP VBD RB VB': [['and', 'would', ',', 'if', 'I', 'did', \"n't\", 'forgezzo']], 'RB PRP VBP JJ IN DT NN TO VB': [['now', 'I', 'am', 'homeless', 'with', 'no', 'place', 'to', 'stay']], 'DT JJ NN VBD DT NN TO VB': [['the', 'old', 'dame', 'said', 'no', 'word', 'to', 'rebuchre']], 'IN DT NN NNS PRP MD VB': [['from', 'the', 'comedy', 'roles', 'he', 'could', 'play']], 'NNP JJ RB TO VB PRP$': [['`twas', 'impossible', 'ever', 'to', 'fill', 'her']], 'DT IN WDT , DT NN VBD , VBD PRP$': [['all', 'of', 'which', ',', 'the', 'lady', 'said', ',', 'shocked', 'her']], 'CC VBN VBG IN NNS CC JJ NNS': [['and', 'been', 'feasting', 'on', 'peas', 'and', 'green', 'beans']], 'IN PRP VBD VBG PRP$ NNS': [['because', 'I', 'was', 'sniffing', 'my', 'toes']], 'IN JJ JJ NN IN NNS': [['that', 'unlucky', 'old', 'person', 'of', 'ems'], ['that', 'unlucky', 'old', 'person', 'of', 'ems']], 'CC PRP$ NNS VBD RB TO PRP$ NNS': [['but', 'her', 'glasses', 'slipped', 'down', 'to', 'her', 'toes']], 'IN PRP$ NN CC NN NNS': [['of', 'their', 'city', 'and', 'town', 'promenades']], 'DT VBD RB VB TO PRP$ NNS': [['this', 'did', \"n't\", 'apply', 'to', 'her', 'feet']], 'CC PRP VBD RB JJ NN NNS': [['and', 'she', 'baked', 'really', 'great', 'apple', 'pies']], 'CC PRP MD RB VB PRP$ NN IN PRP$ NNS': [['and', 'he', 'can', \"n't\", 'tell', 'his', 'head', 'from', 'his', 'feet']], 'PRP VBP VBG PRP , IN NNS': [['you', 'are', 'killing', 'yourself', ',', 'by', 'degrees']], 'WHEN PRP VBD EX VBD CD JJ NNS': [['when', 'he', 'saw', 'there', 'were', 'six', 'little', 'chips']], 'CC DT JJ VBD JJ NNS': [['but', 'the', 'other', 'won', 'several', 'prizes']], 'SO IN NN PRP VBD': [['so', 'for', 'over-achievement', 'he', 'strived']], 'PRP VBD RB DT NN PRP VBD': [['he', 'was', \"n't\", 'the', 'wizard', 'he', 'woz']], 'AS PRP$ NN CC NN VBD': [['as', 'his', 'talent', 'and', 'confidence', 'swelled']], 'RB PRP VBP IN PRP$ NN CC VBD': [['then', 'I', 'sat', 'on', 'my', 'moped', 'and', 'moped']], 'CC DT NN VBZ WDT NN PRP VBD': [['and', 'no', 'one', 'knows', 'which', 'way', 'she', 'went']], 'CC PRP VBD PRP$ NNS CC VBD': [['but', 'he', 'thanked', 'his', 'detractors', 'and', 'bowed']], 'PRP VBD RP IN NN CC VBD': [['she', 'sat', 'up', 'in', 'bed', 'and', 'meowed']], 'CC DT NN WDT VBZ VBN RB VBN': [['or', 'a', 'lamb', 'that', \"'s\", 'been', 'recently', 'fleeced']], 'CC IN RB VBZ RB VBN': [['and', 'since', 'then', 'has', 'never', 'benzene']], 'CC VBZ PRP MD RB VB VBN': [['and', 'sideways', 'he', 'could', \"n't\", 'be', 'seen']], 'PRP VBP RB VBN IN DT NN PRP VBD VBN': [['I', 'have', 'not', 'used', 'since', 'the', 'year', 'I', 'was', 'born']], 'IF VBN , IN PRP$ JJS NN VBZ VBN': [['if', 'dressed', ',', 'for', 'my', 'best', 'frock', 'is', 'frayed']], 'RB , PRP MD VB PRP NN , PRP VBP': [['well', ',', 'I', 'will', 'do', 'it', 'tomorrow', ',', 'I', 'mean']], 'CC PRP VBD NN RB VBP': [['and', 'she', 'reached', 'home', 'exceedingly', 'plain']], 'CC RB DT JJ NN PRP VBP': [['and', 'now', 'a', 'new', 'teacher', 'they', 'seek']], 'PRP VBZ DT NNS IN NN IN PRP VBP': [['it', \"'s\", 'the', 'people', 'in', 'front', 'that', 'I', 'jar']], 'IN DT JJ NN PRP VBP': [['of', 'the', 'classical', 'music', 'I', 'play']], 'JJ NN VBZ JJ , PRP VBP': [[\"'to\", 'drink', 'is', 'forbidden', ',', 'you', 'loon']], 'DT , VB PRP RB VB PRP , PRP VBP': [['no', ',', 'igloo', 'them', 'not', 'sew', 'them', ',', 'you', 'know']], 'JJ MD TO VB RP RB RB .': [['`you', 'ought', 'to', 'go', 'out', 'there', 'again', '!']], 'VBD DT NN IN DT NN RB RB': [['dumped', 'the', 'boy', 'in', 'a', 'bin', 'upside', 'down']], 'CC MD RB VB RB RB': [['and', 'could', \"n't\", 'bend', 'back', 'again']], 'VBZ TO VB PRP$ NN NN RB': [['hopes', 'to', 'draw', 'his', 'insurance', 'cheque', 'soon']], 'CC DT NN MD VB VBG CD , RB': [['or', 'the', 'rest', 'will', 'be', 'wanting', 'one', ',', 'too']], 'IN DT NN VBZ VBN , SO VBZ PRP$ JJ': [['for', 'the', 'corn', 'is', 'gone', ',', 'so', 'is', 'her', 'teaux']], 'CC RB DT JJ NN VBZ RB JJ': [['and', 'now', 'the', 'dumb', 'thing', 'is', 'too', 'small']], 'CC VBD DT JJ': [['and', 'shocked', 'the', 'ultra-fastidious']], 'VB IN JJ VB JJ JJ': [['be', 'before', 'phoebe', 'be', 'phoebe', 'bee-bee']], 'AS IF PRP MD VBN JJ': [['as', 'if', 'he', \"'d\", 'been', 'invited']], 'IN NN VBD RB JJ , PRP VBD JJ': [['that', 'bird', 'was', \"n't\", 'black', ',', 'he', 'was', 'yellow']], 'TO VB PRP$ JJ NN JJ': [['to', 'call', 'my', 'last', 'novel', 'impure']], 'CC VBG VBP PRP VBZ CC JJ .': [['and', 'awakening', 'find', 'it', \"'s\", 'but', 'dreymss', '!'], ['and', 'awakening', 'find', 'it', \"'s\", 'but', 'dreyrnss', '!']], 'CC DT NNS DT VBD NNP RB JJ': [['but', 'the', 'others', 'all', 'thought', \"'twas\", 'too', 'breezy']], 'IN DT NN VBD JJ CC JJ': [['that', 'no', 'one', 'was', 'present', 'but', 'smarty']], 'CC VBZ NN VB NNS SO JJ': [['or', 'does', 'gravity', 'miss', 'things', 'so', 'small']], 'IN DT JJ JJ NN PRP VBZ JJ': [['with', 'the', 'old', 'black', 'decker', \"'\", 'he', \"'s\", 'skilled']], 'RB VB RP DT JJ CC JJ': [['then', 'wake', 'up', 'all', 'snappy', 'and', 'snarly']], 'CC CD NN PRP RB MD RB VB IN': [['but', 'one', 'god', 'he', 'just', 'could', \"n't\", 'believe', 'in']], 'PRP VBD IN DT NN CC VBD IN': [['she', 'slipped', 'through', 'the', 'straw', 'and', 'fell', 'in'], ['he', 'slipped', 'through', 'the', 'straw', 'and', 'fell', 'in']], 'PRP VBP RB RB TO VB RP IN': [['I', 'am', 'eos', 'down', 'to', 'put', 'eos', 'across']], 'PRP MD VB IN PRP VBZ RB VBN VBN IN': [['I', 'will', 'know', 'that', 'it', 'has', \"n't\", 'been', 'sat', 'on']], 'WP DT NN PRP VBD RB VB IN': [['what', 'a', 'blessing', 'they', 'did', \"n't\", 'fall', 'in']], 'DT NNS , RB , VBD RB VB DT': [['the', 'drivers', ',', 'therefore', ',', 'did', \"n't\", 'dump', 'any']], 'RB IN CD NNS , EX VBP RB DT': [['now', 'instead of', 'two', 'cats', ',', 'there', 'are', \"n't\", 'any']], 'THAN JJ NN NN FW FW FW FW': [['than', 'eos', 'point', 'eos', 'eos', 'eos', 'eos', 'eos']], 'VBG RB DT NN IN FW FW': [['leaving', 'only', 'a', 'pile', 'of', 'de', 'brie']], 'IN IN PRP$ NNS PRP VBD VBG': [['because', 'on', 'her', 'toes', 'he', 'kept', 'prancing']], 'RB VBD PRP , RB WRB PRP VBP VBG': [['just', 'painted', 'it', ',', 'right', 'where', 'you', 'are', 'sitting']], 'PRP VBD PRP CC VBD NNS CC TO': [['he', 'reversed', 'it', 'and', 'walked', 'fro', 'and', 'to']], 'CC PRP RB VBP TO VB AS JJ NNS IN DT JJ NN AS PRP RB MD': [['but', 'I', 'always', 'try', 'to', 'get', 'as', 'many', 'syllables', 'into', 'the', 'last', 'line', 'as', 'I', 'possibly', 'can']], 'RB VB RP DT NN CC CD': [['then', 'grind', 'out', 'a', 'limerick', 'or', 'two']], 'IN PRP MD RB VB RP': [['that', 'he', 'could', \"n't\", 'reach', 'up']], 'JJ NN , PRP VBD , MD VB JJR': [['`no', 'mixture', ',', 'she', 'said', ',', 'could', 'be', 'finer']], 'CC PRP$ NNS VBD JJR CC JJR': [['and', 'her', 'freckles', 'grew', 'rarer', 'and', 'rarer']], 'PRP VBD PDT PRP$ NNS VBG JJR': [['he', 'left', 'all', 'his', 'fans', 'wanting', 'more']], 'PRP MD VB RB VBD , WHEN PRP VBZ': [['I', 'will', 'be', 'awfully', 'said', ',', 'when', 'it', 'goes']]})\n"
     ]
    }
   ],
   "source": [
    "with open(\"py_files/saved_objects/template_to_line.pickle\",\"rb\") as pickle_in:\n",
    "    print(pickle.load(pickle_in))"
   ]
  },
  {
   "cell_type": "code",
   "execution_count": 35,
   "metadata": {},
   "outputs": [
    {
     "name": "stdout",
     "output_type": "stream",
     "text": [
      "Processed: 1\r",
      "Processed: 2\r",
      "Processed: 3\r",
      "Processed: 4\r",
      "Processed: 5\r",
      "Processed: 6\r",
      "Processed: 7\r",
      "Processed: 8\r",
      "Processed: 9\r",
      "Processed: 10\r",
      "Processed: 11\r",
      "Processed: 12\r",
      "Processed: 13\r",
      "Processed: 14\r",
      "Processed: 15\r",
      "Processed: 16\r",
      "Processed: 17\r",
      "Processed: 18\r",
      "Processed: 19\r",
      "Processed: 20\r",
      "Processed: 21\r",
      "Processed: 22\r",
      "Processed: 23\r",
      "Processed: 24\r",
      "Processed: 25\r",
      "Processed: 26\r",
      "Processed: 27\r",
      "Processed: 28\r",
      "Processed: 29\r",
      "Processed: 30\r",
      "Processed: 31\r",
      "Processed: 32\r",
      "Processed: 33\r",
      "Processed: 34\r",
      "Processed: 35\r",
      "Processed: 36\r",
      "Processed: 37\r",
      "Processed: 38\r",
      "Processed: 39\r",
      "Processed: 40\r",
      "Processed: 41\r",
      "Processed: 42\r",
      "Processed: 43\r",
      "Processed: 44\r",
      "Processed: 45\r",
      "Processed: 46\r",
      "Processed: 47\r",
      "Processed: 48\r",
      "Processed: 49\r",
      "Processed: 50\r",
      "Processed: 51\r",
      "Processed: 52\r",
      "Processed: 53\r",
      "Processed: 54\r",
      "Processed: 55\r",
      "Processed: 56\r",
      "Processed: 57\r",
      "Processed: 58\r",
      "Processed: 59\r",
      "Processed: 60\r",
      "Processed: 61\r",
      "Processed: 62\r",
      "Processed: 63\r",
      "Processed: 64\r",
      "Processed: 65\r",
      "Processed: 66\r",
      "Processed: 67\r",
      "Processed: 68\r",
      "Processed: 69\r",
      "Processed: 70\r",
      "Processed: 71\r",
      "Processed: 72\r",
      "Processed: 73\r",
      "Processed: 74\r",
      "Processed: 75\r",
      "Processed: 76\r",
      "Processed: 77\r",
      "Processed: 78\r",
      "Processed: 79\r",
      "Processed: 80\r",
      "Processed: 81\r",
      "Processed: 82\r",
      "Processed: 83\r",
      "Processed: 84\r",
      "Processed: 85\r",
      "Processed: 86\r",
      "Processed: 87\r",
      "Processed: 88\r",
      "Processed: 89\r",
      "Processed: 90\r",
      "Processed: 91\r",
      "Processed: 92\r",
      "Processed: 93\r",
      "Processed: 94\r",
      "Processed: 95\r",
      "Processed: 96\r",
      "Processed: 97\r",
      "Processed: 98\r",
      "Processed: 99\r",
      "Processed: 100\r",
      "Processed: 101\r",
      "Processed: 102\r",
      "Processed: 103\r",
      "Processed: 104\r",
      "Processed: 105\r",
      "Processed: 106\r",
      "Processed: 107\r",
      "Processed: 108\r",
      "Processed: 109\r",
      "Processed: 110\r",
      "Processed: 111\r",
      "Processed: 112\r",
      "Processed: 113\r",
      "Processed: 114\r",
      "Processed: 115\r",
      "Processed: 116\r",
      "Processed: 117\r",
      "Processed: 118\r",
      "Processed: 119\r"
     ]
    }
   ],
   "source": [
    "d = lg.templates\n",
    "processed = 0\n",
    "for line in d:\n",
    "    for POS in d[line]:\n",
    "        for index, sentence in enumerate(d[line][POS]):\n",
    "            curr_POS = list(sentence[0])\n",
    "            has_special_word = False\n",
    "            for i in range(len(sentence[1])):\n",
    "                if sentence[1][i].upper() in special_words:\n",
    "                    curr_POS[i] = sentence[1][i].upper()\n",
    "                    has_special_word = True\n",
    "            if has_special_word:\n",
    "                d[line][POS][index] = tuple([tuple(curr_POS), sentence[1], sentence[2]])\n",
    "#                 print(d[line][POS][index])\n",
    "#                 break\n",
    "                processed += 1\n",
    "                print(\"Processed: \" + str(processed), end=\"\\r\")"
   ]
  },
  {
   "cell_type": "code",
   "execution_count": 36,
   "metadata": {},
   "outputs": [],
   "source": [
    "import pickle\n",
    "pickle.dump(d, open( \"py_files/saved_objects/templates_processed.pickle\", \"wb\" ) )"
   ]
  },
  {
   "cell_type": "code",
   "execution_count": 65,
   "metadata": {},
   "outputs": [
    {
     "data": {
      "text/plain": [
       "(1, 2, 3, 4)"
      ]
     },
     "execution_count": 65,
     "metadata": {},
     "output_type": "execute_result"
    }
   ],
   "source": [
    "(1,2,3) + (4,)"
   ]
  },
  {
   "cell_type": "code",
   "execution_count": 69,
   "metadata": {},
   "outputs": [
    {
     "ename": "TypeError",
     "evalue": "can only concatenate list (not \"tuple\") to list",
     "output_type": "error",
     "traceback": [
      "\u001b[0;31m---------------------------------------------------------------------------\u001b[0m",
      "\u001b[0;31mTypeError\u001b[0m                                 Traceback (most recent call last)",
      "\u001b[0;32m<ipython-input-69-076efd6f19a6>\u001b[0m in \u001b[0;36m<module>\u001b[0;34m()\u001b[0m\n\u001b[0;32m----> 1\u001b[0;31m \u001b[0;34m[\u001b[0m\u001b[0;34m]\u001b[0m \u001b[0;34m+\u001b[0m \u001b[0;34m(\u001b[0m\u001b[0;36m1\u001b[0m\u001b[0;34m,\u001b[0m\u001b[0;36m2\u001b[0m\u001b[0;34m,\u001b[0m\u001b[0;36m3\u001b[0m\u001b[0;34m,\u001b[0m\u001b[0;36m4\u001b[0m\u001b[0;34m)\u001b[0m\u001b[0;34m\u001b[0m\u001b[0m\n\u001b[0m",
      "\u001b[0;31mTypeError\u001b[0m: can only concatenate list (not \"tuple\") to list"
     ]
    }
   ],
   "source": [
    "[] + (1,2,3,4)"
   ]
  },
  {
   "cell_type": "code",
   "execution_count": null,
   "metadata": {},
   "outputs": [],
   "source": []
  }
 ],
 "metadata": {
  "kernelspec": {
   "display_name": "Python 3",
   "language": "python",
   "name": "python3"
  },
  "language_info": {
   "codemirror_mode": {
    "name": "ipython",
    "version": 3
   },
   "file_extension": ".py",
   "mimetype": "text/x-python",
   "name": "python",
   "nbconvert_exporter": "python",
   "pygments_lexer": "ipython3",
   "version": "3.6.5"
  }
 },
 "nbformat": 4,
 "nbformat_minor": 2
}
