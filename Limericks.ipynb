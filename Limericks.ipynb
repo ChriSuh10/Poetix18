{
 "cells": [
  {
   "cell_type": "code",
   "execution_count": 1,
   "metadata": {},
   "outputs": [],
   "source": [
    "%load_ext autoreload\n",
    "%autoreload 2"
   ]
  },
  {
   "cell_type": "code",
   "execution_count": 2,
   "metadata": {},
   "outputs": [],
   "source": [
    "from py_files.Limericks import Limerick_Generate"
   ]
  },
  {
   "cell_type": "code",
   "execution_count": 3,
   "metadata": {},
   "outputs": [],
   "source": [
    "lg = Limerick_Generate()"
   ]
  },
  {
   "cell_type": "code",
   "execution_count": 4,
   "metadata": {
    "scrolled": false
   },
   "outputs": [
    {
     "name": "stdout",
     "output_type": "stream",
     "text": [
      "Unable to find rhyming words of word 1 'donovan'\n",
      "Unable to find rhyming words of word 1 'helaine'\n",
      "Getting rhyming words of word 1 'summer' ...... 1 / 20 done.\n",
      "Unable to find rhyming words of word 1 'betsy'\n",
      "Unable to find rhyming words of word 1 'christin'\n",
      "Getting rhyming words of word 1 'arlie' ...... 2 / 20 done.\n",
      "Getting rhyming words of word 1 'karon' ...... 3 / 20 done.\n",
      "Getting rhyming words of word 1 'suzy' ...... 4 / 20 done.\n",
      "Getting rhyming words of word 1 'bonnie' ...... 5 / 20 done.\n",
      "Unable to find rhyming words of word 1 'jene'\n",
      "Getting rhyming words of word 1 'sunni' ...... 6 / 20 done.\n",
      "Getting rhyming words of word 1 'carlo' ...... 7 / 20 done.\n",
      "Unable to find rhyming words of word 1 'dominick'\n",
      "Getting rhyming words of word 1 'lan' ...... 8 / 20 done.\n",
      "Getting rhyming words of word 1 'shon' ...... 9 / 20 done.\n",
      "Unable to find rhyming words of word 1 'ressie'\n",
      "Getting rhyming words of word 1 'jon' ...... 10 / 20 done.\n",
      "Unable to find rhyming words of word 1 'erasmo'\n",
      "Getting rhyming words of word 1 'renato' ...... 11 / 20 done.\n",
      "Unable to find rhyming words of word 1 'anjanette'\n",
      "Unable to find rhyming words of word 1 'elinor'\n",
      "Unable to find rhyming words of word 1 'cherise'\n",
      "Unable to find rhyming words of word 1 'sheron'\n",
      "Getting rhyming words of word 1 'marcus' ...... 12 / 20 done.\n",
      "Unable to find rhyming words of word 1 'destiny'\n",
      "Unable to find rhyming words of word 1 'idell'\n",
      "Unable to find rhyming words of word 1 'cherelle'\n",
      "Unable to find rhyming words of word 1 'anthony'\n",
      "Unable to find rhyming words of word 1 'stephnie'\n",
      "Getting rhyming words of word 1 'grover' ...... 13 / 20 done.\n",
      "Unable to find rhyming words of word 1 'chanelle'\n",
      "Getting rhyming words of word 1 'mason' ...... 14 / 20 done.\n",
      "Unable to find rhyming words of word 1 'kyoko'\n",
      "Unable to find rhyming words of word 1 'lanette'\n",
      "Unable to find rhyming words of word 1 'yael'\n",
      "Getting rhyming words of word 1 'brock' ...... 15 / 20 done.\n",
      "Getting rhyming words of word 1 'bennie' ...... 16 / 20 done.\n",
      "Getting rhyming words of word 1 'chong' ...... 17 / 20 done.\n",
      "Unable to find rhyming words of word 1 'linsey'\n",
      "Getting rhyming words of word 1 'mike' ...... 18 / 20 done.\n",
      "Getting rhyming words of word 1 'gerry' ...... 19 / 20 done.\n",
      "Getting rhyming words of word 1 'cortez' ...... 20 / 20 done.\n",
      "Getting rhyming words of word 3 'earth' ...... 1 / 20 done.\n",
      "Unable to find rhyming words of word 3 'jupiter'\n",
      "Getting rhyming words of word 3 'mars' ...... 3 / 20 done.\n",
      "Getting rhyming words of word 3 'pluto' ...... 4 / 20 done.\n",
      "Unable to find rhyming words of word 3 'uranus'\n",
      "Getting rhyming words of word 3 'solar' ...... 6 / 20 done.\n",
      "Getting rhyming words of word 3 'saturn' ...... 7 / 20 done.\n",
      "Getting rhyming words of word 3 'sun' ...... 8 / 20 done.\n",
      "Getting rhyming words of word 3 'celestial' ...... 9 / 20 done.\n",
      "Getting rhyming words of word 3 'star' ...... 10 / 20 done.\n",
      "Unable to find rhyming words of word 3 'jupiter'\n",
      "Getting rhyming words of word 3 'mars' ...... 12 / 20 done.\n",
      "Getting rhyming words of word 3 'universe' ...... 13 / 20 done.\n",
      "Unable to find rhyming words of word 3 'orbit'\n",
      "Getting rhyming words of word 3 'moon' ...... 15 / 20 done.\n",
      "Getting rhyming words of word 3 'planetary' ...... 16 / 20 done.\n",
      "Getting rhyming words of word 3 'dwarf' ...... 17 / 20 done.\n",
      "Getting rhyming words of word 3 'moons' ...... 18 / 20 done.\n",
      "Unable to find rhyming words of word 3 'galaxy'\n",
      "Getting rhyming words of word 3 'creatures' ...... 20 / 20 done.\n",
      "'carlo' and 'earth' are unable to generate storyline\n",
      "'carlo' and 'mars' are unable to generate storyline\n",
      "'carlo' and 'pluto' are unable to generate storyline\n",
      "'carlo' and 'solar' are unable to generate storyline\n",
      "'carlo' and 'saturn' are unable to generate storyline\n",
      "'carlo' and 'sun' are unable to generate storyline\n",
      "'carlo' and 'celestial' are unable to generate storyline\n",
      "'carlo' and 'star' are unable to generate storyline\n",
      "'carlo' and 'universe' are unable to generate storyline\n",
      "'carlo' and 'moon' are unable to generate storyline\n",
      "'carlo' and 'planetary' are unable to generate storyline\n",
      "'carlo' and 'dwarf' are unable to generate storyline\n",
      "'carlo' and 'moons' are unable to generate storyline\n",
      "'carlo' and 'creatures' are unable to generate storyline\n"
     ]
    },
    {
     "data": {
      "text/plain": [
       "[['Summer', 'midsummer', 'earth', 'birth', 'drummer'],\n",
       " ['Summer', 'midsummer', 'mars', 'space', 'sumer'],\n",
       " ['Summer', 'newcomer', 'pluto', 'benvenuto', 'drummer'],\n",
       " ['Summer', 'newcomer', 'solar', 'polar', 'drummer'],\n",
       " ['Summer', 'newcomer', 'saturn', 'pattern', 'midsummer'],\n",
       " ['Summer', 'newcomer', 'sun', 'man', 'drummer'],\n",
       " ['Summer', 'midsummer', 'celestial', 'bestial', 'sumer'],\n",
       " ['Summer', 'hummer', 'star', 'car', 'drummer'],\n",
       " ['Summer', 'newcomer', 'universe', 'diverse', 'drummer'],\n",
       " ['Summer', 'midsummer', 'moon', 'afternoon', 'sumer'],\n",
       " ['Summer', 'hummer', 'planetary', 'stationary', 'midsummer'],\n",
       " ['Summer', 'hummer', 'dwarf', 'wharf', 'midsummer'],\n",
       " ['Summer', 'newcomer', 'moons', 'junes', 'midsummer'],\n",
       " ['Summer', 'drummer', 'creatures', 'features', 'newcomer'],\n",
       " ['Arlie', 'harley', 'earth', 'birth', 'parley'],\n",
       " ['Arlie', 'harley', 'mars', 'space', 'parley'],\n",
       " ['Arlie', 'harley', 'pluto', 'benvenuto', 'parley'],\n",
       " ['Arlie', 'harley', 'solar', 'polar', 'parley'],\n",
       " ['Arlie', 'harley', 'saturn', 'pattern', 'parley'],\n",
       " ['Arlie', 'parley', 'sun', 'skin', 'harley'],\n",
       " ['Arlie', 'parley', 'celestial', 'bestial', 'harley'],\n",
       " ['Arlie', 'harley', 'star', 'car', 'parley'],\n",
       " ['Arlie', 'parley', 'universe', 'curse', 'harley'],\n",
       " ['Arlie', 'parley', 'moon', 'balloon', 'harley'],\n",
       " ['Arlie', 'harley', 'planetary', 'stationary', 'parley'],\n",
       " ['Arlie', 'harley', 'dwarf', 'wharf', 'parley'],\n",
       " ['Arlie', 'harley', 'moons', 'junes', 'parley'],\n",
       " ['Arlie', 'harley', 'creatures', 'features', 'parley'],\n",
       " ['Karon', 'baron', 'earth', 'birth', 'heron'],\n",
       " ['Karon', 'baron', 'mars', 'space', 'barren'],\n",
       " ['Karon', 'heron', 'pluto', 'benvenuto', 'charon'],\n",
       " ['Karon', 'karan', 'solar', 'polar', 'charon'],\n",
       " ['Karon', 'karan', 'saturn', 'pattern', 'charon'],\n",
       " ['Karon', 'barren', 'sun', 'skin', 'heron'],\n",
       " ['Karon', 'barren', 'celestial', 'bestial', 'charon'],\n",
       " ['Karon', 'baron', 'star', 'bar', 'heron'],\n",
       " ['Karon', 'heron', 'universe', 'diverse', 'barren'],\n",
       " ['Karon', 'karan', 'moon', 'soon', 'charon'],\n",
       " ['Karon', 'charon', 'planetary', 'stationary', 'heron'],\n",
       " ['Karon', 'charon', 'dwarf', 'wharf', 'heron'],\n",
       " ['Karon', 'barren', 'moons', 'dunes', 'heron'],\n",
       " ['Karon', 'heron', 'creatures', 'features', 'charon'],\n",
       " ['Suzy', 'woozy', 'earth', 'birth', 'jacuzzi'],\n",
       " ['Suzy', 'woozy', 'mars', 'space', 'jacuzzi'],\n",
       " ['Suzy', 'jacuzzi', 'pluto', 'benvenuto', 'woozy'],\n",
       " ['Suzy', 'jacuzzi', 'solar', 'polar', 'woozy'],\n",
       " ['Suzy', 'jacuzzi', 'saturn', 'pattern', 'woozy'],\n",
       " ['Suzy', 'woozy', 'sun', 'skin', 'jacuzzi'],\n",
       " ['Suzy', 'jacuzzi', 'celestial', 'bestial', 'woozy'],\n",
       " ['Suzy', 'jacuzzi', 'star', 'bar', 'woozy'],\n",
       " ['Suzy', 'woozy', 'universe', 'curse', 'jacuzzi'],\n",
       " ['Suzy', 'woozy', 'moon', 'tune', 'jacuzzi'],\n",
       " ['Suzy', 'woozy', 'planetary', 'stationary', 'jacuzzi'],\n",
       " ['Suzy', 'jacuzzi', 'dwarf', 'wharf', 'woozy'],\n",
       " ['Suzy', 'jacuzzi', 'moons', 'junes', 'woozy'],\n",
       " ['Suzy', 'jacuzzi', 'creatures', 'features', 'woozy'],\n",
       " ['Bonnie', 'scrawny', 'earth', 'birth', 'brawny'],\n",
       " ['Bonnie', 'scrawny', 'mars', 'space', 'brawny'],\n",
       " ['Bonnie', 'tawny', 'pluto', 'benvenuto', 'scrawny'],\n",
       " ['Bonnie', 'bonnie', 'solar', 'polar', 'connie'],\n",
       " ['Bonnie', 'giovanni', 'saturn', 'pattern', 'tawny'],\n",
       " ['Bonnie', 'bonnie', 'sun', 'dawn', 'connie'],\n",
       " ['Bonnie', 'scrawny', 'celestial', 'bestial', 'brawny'],\n",
       " ['Bonnie', 'giovanni', 'star', 'bar', 'bonnie'],\n",
       " ['Bonnie', 'bonnie', 'universe', 'curse', 'connie'],\n",
       " ['Bonnie', 'connie', 'moon', 'afternoon', 'bonnie'],\n",
       " ['Bonnie', 'giovanni', 'planetary', 'stationary', 'brawny'],\n",
       " ['Bonnie', 'tawny', 'dwarf', 'wharf', 'scrawny'],\n",
       " ['Bonnie', 'scrawny', 'moons', 'junes', 'tawny'],\n",
       " ['Bonnie', 'giovanni', 'creatures', 'features', 'bonnie'],\n",
       " ['Sunni', 'moony', 'earth', 'birth', 'puny'],\n",
       " ['Sunni', 'puny', 'mars', 'space', 'moony'],\n",
       " ['Sunni', 'puny', 'pluto', 'benvenuto', 'moony'],\n",
       " ['Sunni', 'moony', 'solar', 'polar', 'puny'],\n",
       " ['Sunni', 'puny', 'saturn', 'pattern', 'moony'],\n",
       " ['Sunni', 'puny', 'sun', 'fun', 'moony'],\n",
       " ['Sunni', 'moony', 'celestial', 'bestial', 'puny'],\n",
       " ['Sunni', 'puny', 'star', 'far', 'moony'],\n",
       " ['Sunni', 'puny', 'universe', 'worse', 'moony'],\n",
       " ['Sunni', 'moony', 'moon', 'dune', 'puny'],\n",
       " ['Sunni', 'moony', 'planetary', 'imaginary', 'puny'],\n",
       " ['Sunni', 'moony', 'dwarf', 'wharf', 'puny'],\n",
       " ['Sunni', 'moony', 'moons', 'junes', 'puny'],\n",
       " ['Sunni', 'moony', 'creatures', 'features', 'puny'],\n",
       " ['Lan', 'man', 'earth', 'birth', 'one'],\n",
       " ['Lan', 'man', 'mars', 'space', 'one'],\n",
       " ['Lan', 'fun', 'pluto', 'benvenuto', 'everyone'],\n",
       " ['Lan', 'one', 'solar', 'polar', 'an'],\n",
       " ['Lan', 'avalon', 'saturn', 'pattern', 'sun'],\n",
       " ['Lan', 'upon', 'sun', 'when', 'on'],\n",
       " ['Lan', 'one', 'celestial', 'bestial', 'man'],\n",
       " ['Lan', 'man', 'star', 'far', 'one'],\n",
       " ['Lan', 'phenomenon', 'universe', 'diverse', 'within'],\n",
       " ['Lan', 'man', 'moon', 'afternoon', 'one'],\n",
       " ['Lan', 'scan', 'planetary', 'stationary', 'photon'],\n",
       " ['Lan', 'skin', 'dwarf', 'wharf', 'sun'],\n",
       " ['Lan', 'skin', 'moons', 'lagoons', 'thin'],\n",
       " ['Lan', 'man', 'creatures', 'features', 'one'],\n",
       " ['Shon', 'one', 'earth', 'birth', 'than'],\n",
       " ['Shon', 'fun', 'mars', 'space', 'everyone'],\n",
       " ['Shon', 'babylon', 'pluto', 'benvenuto', 'avalon'],\n",
       " ['Shon', 'upon', 'solar', 'polar', 'on'],\n",
       " ['Shon', 'amazon', 'saturn', 'pattern', 'phenomenon'],\n",
       " ['Shon', 'man', 'sun', 'one', 'someone'],\n",
       " ['Shon', 'phenomenon', 'celestial', 'bestial', 'spawn'],\n",
       " ['Shon', 'sun', 'star', 'far', 'than'],\n",
       " ['Shon', 'one', 'universe', 'diverse', 'than'],\n",
       " ['Shon', 'gone', 'moon', 'soon', 'done'],\n",
       " ['Shon', 'photon', 'planetary', 'stationary', 'scan'],\n",
       " ['Shon', 'sun', 'dwarf', 'wharf', 'fisherman'],\n",
       " ['Shon', 'phenomenon', 'moons', 'dunes', 'sun'],\n",
       " ['Shon', 'sun', 'creatures', 'features', 'fun'],\n",
       " ['Jon', 'one', 'earth', 'birth', 'than'],\n",
       " ['Jon', 'sun', 'mars', 'space', 'than'],\n",
       " ['Jon', 'gone', 'pluto', 'benvenuto', 'done'],\n",
       " ['Jon', 'sun', 'solar', 'polar', 'phenomenon'],\n",
       " ['Jon', 'fun', 'saturn', 'pattern', 'everyone'],\n",
       " ['Jon', 'upon', 'sun', 'when', 'on'],\n",
       " ['Jon', 'phenomenon', 'celestial', 'bestial', 'spawn'],\n",
       " ['Jon', 'phenomenon', 'star', 'far', 'gone'],\n",
       " ['Jon', 'phenomenon', 'universe', 'diverse', 'everyone'],\n",
       " ['Jon', 'sun', 'moon', 'afternoon', 'dawn'],\n",
       " ['Jon', 'photon', 'planetary', 'stationary', 'scan'],\n",
       " ['Jon', 'babylon', 'dwarf', 'wharf', 'avalon'],\n",
       " ['Jon', 'one', 'moons', 'balloons', 'than'],\n",
       " ['Jon', 'phenomenon', 'creatures', 'features', 'fun'],\n",
       " ['Renato', 'motto', 'earth', 'birth', 'mulatto'],\n",
       " ['Renato', 'sato', 'mars', 'space', 'auto'],\n",
       " ['Renato', 'sato', 'pluto', 'benvenuto', 'auto'],\n",
       " ['Renato', 'motto', 'solar', 'polar', 'mulatto'],\n",
       " ['Renato', 'mulatto', 'saturn', 'pattern', 'motto'],\n",
       " ['Renato', 'sato', 'sun', 'yin', 'auto'],\n",
       " ['Renato', 'auto', 'celestial', 'bestial', 'sato'],\n",
       " ['Renato', 'auto', 'star', 'car', 'sato'],\n",
       " ['Renato', 'motto', 'universe', 'curse', 'mulatto'],\n",
       " ['Renato', 'motto', 'moon', 'tune', 'auto'],\n",
       " ['Renato', 'motto', 'planetary', 'imaginary', 'mulatto'],\n",
       " ['Renato', 'auto', 'dwarf', 'wharf', 'sato'],\n",
       " ['Renato', 'sato', 'moons', 'junes', 'auto'],\n",
       " ['Renato', 'motto', 'creatures', 'features', 'auto'],\n",
       " ['Marcus', 'carcass', 'earth', 'birth', 'marcus'],\n",
       " ['Marcus', 'marcus', 'mars', 'space', 'carcass'],\n",
       " ['Marcus', 'carcass', 'pluto', 'benvenuto', 'marcus'],\n",
       " ['Marcus', 'marcus', 'solar', 'polar', 'carcass'],\n",
       " ['Marcus', 'marcus', 'saturn', 'pattern', 'carcass'],\n",
       " ['Marcus', 'marcus', 'sun', 'son', 'carcass'],\n",
       " ['Marcus', 'carcass', 'celestial', 'bestial', 'marcus'],\n",
       " ['Marcus', 'carcass', 'star', 'car', 'marcus'],\n",
       " ['Marcus', 'carcass', 'universe', 'curse', 'marcus'],\n",
       " ['Marcus', 'carcass', 'moon', 'balloon', 'marcus'],\n",
       " ['Marcus', 'carcass', 'planetary', 'stationary', 'marcus'],\n",
       " ['Marcus', 'marcus', 'dwarf', 'wharf', 'carcass'],\n",
       " ['Marcus', 'carcass', 'moons', 'lagoons', 'marcus'],\n",
       " ['Marcus', 'carcass', 'creatures', 'features', 'marcus'],\n",
       " ['Grover', 'makeover', 'earth', 'birth', 'hangover'],\n",
       " ['Grover', 'rover', 'mars', 'space', 'over'],\n",
       " ['Grover', 'over', 'pluto', 'benvenuto', 'moreover'],\n",
       " ['Grover', 'hangover', 'solar', 'polar', 'makeover'],\n",
       " ['Grover', 'rover', 'saturn', 'pattern', 'over'],\n",
       " ['Grover', 'makeover', 'sun', 'fun', 'hangover'],\n",
       " ['Grover', 'hangover', 'celestial', 'bestial', 'makeover'],\n",
       " ['Grover', 'hangover', 'star', 'far', 'makeover'],\n",
       " ['Grover', 'over', 'universe', 'diverse', 'moreover'],\n",
       " ['Grover', 'over', 'moon', 'soon', 'moreover'],\n",
       " ['Grover', 'rover', 'planetary', 'stationary', 'over'],\n",
       " ['Grover', 'over', 'dwarf', 'wharf', 'moreover'],\n",
       " ['Grover', 'rover', 'moons', 'dunes', 'clover'],\n",
       " ['Grover', 'moreover', 'creatures', 'features', 'over'],\n",
       " ['Mason', 'basin', 'earth', 'birth', 'hasten'],\n",
       " ['Mason', 'freemason', 'mars', 'space', 'basin'],\n",
       " ['Mason', 'basin', 'pluto', 'benvenuto', 'freemason'],\n",
       " ['Mason', 'basin', 'solar', 'polar', 'freemason'],\n",
       " ['Mason', 'basin', 'saturn', 'pattern', 'freemason'],\n",
       " ['Mason', 'freemason', 'sun', 'inn', 'basin'],\n",
       " ['Mason', 'hasten', 'celestial', 'bestial', 'freemason'],\n",
       " ['Mason', 'basin', 'star', 'far', 'freemason'],\n",
       " ['Mason', 'basin', 'universe', 'diverse', 'freemason'],\n",
       " ['Mason', 'hasten', 'moon', 'soon', 'basin'],\n",
       " ['Mason', 'freemason', 'planetary', 'stationary', 'basin'],\n",
       " ['Mason', 'basin', 'dwarf', 'wharf', 'freemason'],\n",
       " ['Mason', 'freemason', 'moons', 'runes', 'basin'],\n",
       " ['Mason', 'freemason', 'creatures', 'features', 'basin'],\n",
       " ['Brock', 'walk', 'earth', 'birth', 'back'],\n",
       " ['Brock', 'soundtrack', 'mars', 'space', 'rock'],\n",
       " ['Brock', 'rock', 'pluto', 'benvenuto', 'soundtrack'],\n",
       " ['Brock', 'zodiac', 'solar', 'polar', 'clock'],\n",
       " ['Brock', 'walk', 'saturn', 'pattern', 'back'],\n",
       " ['Brock', 'zodiac', 'sun', 'yin', 'loch'],\n",
       " ['Brock', 'zodiac', 'celestial', 'bestial', 'loch'],\n",
       " ['Brock', 'rock', 'star', 'far', 'back'],\n",
       " ['Brock', 'back', 'universe', 'worse', 'talk'],\n",
       " ['Brock', 'zodiac', 'moon', 'balloon', 'clock'],\n",
       " ['Brock', 'clock', 'planetary', 'stationary', 'walk'],\n",
       " ['Brock', 'zodiac', 'dwarf', 'wharf', 'loch'],\n",
       " ['Brock', 'zodiac', 'moons', 'runes', 'tomahawk'],\n",
       " ['Brock', 'soundtrack', 'creatures', 'features', 'rock'],\n",
       " ['Bennie', 'any', 'earth', 'birth', 'many'],\n",
       " ['Bennie', 'twenty', 'mars', 'space', 'many'],\n",
       " ['Bennie', 'antennae', 'pluto', 'benvenuto', 'cognoscenti'],\n",
       " ['Bennie', 'plenty', 'solar', 'polar', 'many'],\n",
       " ['Bennie', 'plenty', 'saturn', 'pattern', 'many'],\n",
       " ['Bennie', 'any', 'sun', 'one', 'many'],\n",
       " ['Bennie', 'twenty', 'celestial', 'bestial', 'many'],\n",
       " ['Bennie', 'many', 'star', 'far', 'any'],\n",
       " ['Bennie', 'any', 'universe', 'worse', 'many'],\n",
       " ['Bennie', 'twenty', 'moon', 'soon', 'many'],\n",
       " ['Bennie', 'twenty', 'planetary', 'stationary', 'many'],\n",
       " ['Bennie', 'twenty', 'dwarf', 'wharf', 'many'],\n",
       " ['Bennie', 'antennae', 'moons', 'lagoons', 'cognoscenti'],\n",
       " ['Bennie', 'antennae', 'creatures', 'features', 'many'],\n",
       " ['Chong', 'song', 'earth', 'birth', 'wrong'],\n",
       " ['Chong', 'wrong', 'mars', 'space', 'long'],\n",
       " ['Chong', 'belong', 'pluto', 'benvenuto', 'wrong'],\n",
       " ['Chong', 'long', 'solar', 'polar', 'along'],\n",
       " ['Chong', 'bang', 'saturn', 'pattern', 'song'],\n",
       " ['Chong', 'song', 'sun', 'man', 'sang'],\n",
       " ['Chong', 'song', 'celestial', 'bestial', 'sang'],\n",
       " ['Chong', 'long', 'star', 'far', 'along'],\n",
       " ['Chong', 'song', 'universe', 'verse', 'sang'],\n",
       " ['Chong', 'armstrong', 'moon', 'balloon', 'song'],\n",
       " ['Chong', 'belong', 'planetary', 'stationary', 'along'],\n",
       " ['Chong', 'gong', 'dwarf', 'wharf', 'hong'],\n",
       " ['Chong', 'armstrong', 'moons', 'dunes', 'along'],\n",
       " ['Chong', 'wrong', 'creatures', 'features', 'song'],\n",
       " ['Mike', 'strike', 'earth', 'birth', 'like'],\n",
       " ['Mike', 'bike', 'mars', 'space', 'like'],\n",
       " ['Mike', 'lookalike', 'pluto', 'benvenuto', 'lifelike'],\n",
       " ['Mike', 'unlike', 'solar', 'polar', 'like'],\n",
       " ['Mike', 'pike', 'saturn', 'pattern', 'like'],\n",
       " ['Mike', 'like', 'sun', 'when', 'unlike'],\n",
       " ['Mike', 'unlike', 'celestial', 'bestial', 'like'],\n",
       " ['Mike', 'like', 'star', 'far', 'unlike'],\n",
       " ['Mike', 'unlike', 'universe', 'diverse', 'like'],\n",
       " ['Mike', 'strike', 'moon', 'soon', 'like'],\n",
       " ['Mike', 'unlike', 'planetary', 'stationary', 'like'],\n",
       " ['Mike', 'unlike', 'dwarf', 'wharf', 'like'],\n",
       " ['Mike', 'bike', 'moons', 'dunes', 'hike'],\n",
       " ['Mike', 'bike', 'creatures', 'features', 'like'],\n",
       " ['Gerry', 'very', 'earth', 'birth', 'necessary'],\n",
       " ['Gerry', 'legendary', 'mars', 'space', 'contemporary'],\n",
       " ['Gerry', 'scary', 'pluto', 'benvenuto', 'imaginary'],\n",
       " ['Gerry', 'very', 'solar', 'polar', 'stationary'],\n",
       " ['Gerry', 'scary', 'saturn', 'pattern', 'very'],\n",
       " ['Gerry', 'legendary', 'sun', 'man', 'extraordinary'],\n",
       " ['Gerry', 'sanctuary', 'celestial', 'bestial', 'estuary'],\n",
       " ['Gerry', 'scary', 'star', 'far', 'very'],\n",
       " ['Gerry', 'scary', 'universe', 'worse', 'very'],\n",
       " ['Gerry', 'stationary', 'moon', 'dune', 'imaginary'],\n",
       " ['Gerry', 'imaginary', 'planetary', 'stationary', 'arbitrary'],\n",
       " ['Gerry', 'imaginary', 'dwarf', 'wharf', 'canary'],\n",
       " ['Gerry', 'fairy', 'moons', 'dunes', 'prairie'],\n",
       " ['Gerry', 'legendary', 'creatures', 'features', 'contemporary'],\n",
       " ['Cortez', 'reality', 'earth', 'birth', 'way'],\n",
       " ['Cortez', 'debris', 'mars', 'space', 'away'],\n",
       " ['Cortez', 'debris', 'pluto', 'benvenuto', 'trash'],\n",
       " ['Cortez', 'debris', 'solar', 'polar', 'sea'],\n",
       " ['Cortez', 'debris', 'saturn', 'pattern', 'plume'],\n",
       " ['Cortez', 'cafe', 'sun', 'inn', 'room'],\n",
       " ['Cortez', 'way', 'celestial', 'bestial', 'reality'],\n",
       " ['Cortez', 'reality', 'star', 'far', 'way'],\n",
       " ['Cortez', 'decay', 'universe', 'inverse', 'z'],\n",
       " ['Cortez', 'sea', 'moon', 'afternoon', 'day'],\n",
       " ['Cortez', 'reality', 'planetary', 'imaginary', 'everyday'],\n",
       " ['Cortez', 'way', 'dwarf', 'wharf', 'sea'],\n",
       " ['Cortez', 'debris', 'moons', 'dunes', 'ash'],\n",
       " ['Cortez', 'way', 'creatures', 'features', 'be']]"
      ]
     },
     "execution_count": 4,
     "metadata": {},
     "output_type": "execute_result"
    }
   ],
   "source": [
    "lg.get_five_words_henry('planet')"
   ]
  },
  {
   "cell_type": "code",
   "execution_count": 22,
   "metadata": {},
   "outputs": [
    {
     "name": "stdout",
     "output_type": "stream",
     "text": [
      "('gath', 'path', 'say', 'way', 'bath')\n",
      "('hath', 'path', 'say', 'way', 'footpath')\n"
     ]
    }
   ],
   "source": [
    "print(lg.get_five_words('path'))\n",
    "print(lg.get_five_words_henry('path'))"
   ]
  },
  {
   "cell_type": "code",
   "execution_count": 25,
   "metadata": {},
   "outputs": [
    {
     "name": "stdout",
     "output_type": "stream",
     "text": [
      "('everything', 'spring', 'reason', 'season', 'ring')\n",
      "('pling', 'spring', 'reason', 'season', 'thing')\n"
     ]
    }
   ],
   "source": [
    "print(lg.get_five_words('spring'))\n",
    "print(lg.get_five_words_henry('spring'))"
   ]
  },
  {
   "cell_type": "code",
   "execution_count": 31,
   "metadata": {},
   "outputs": [
    {
     "name": "stdout",
     "output_type": "stream",
     "text": [
      "('dame', 'game', 'they', 'play', 'name')\n"
     ]
    },
    {
     "name": "stderr",
     "output_type": "stream",
     "text": [
      "D:\\0\\Github\\Poetix18\\py_files\\Limericks.py:196: RuntimeWarning: invalid value encountered in power\n",
      "  sim += self.poetic_vectors.similarity(word, other_word) ** 0.5\n",
      "D:\\0\\Github\\Poetix18\\py_files\\Limericks.py:296: RuntimeWarning: invalid value encountered in power\n",
      "  sim = self.poetic_vectors.similarity(w2, r) ** 0.5\n",
      "D:\\0\\Github\\Poetix18\\py_files\\Limericks.py:297: RuntimeWarning: invalid value encountered in power\n",
      "  sim += self.poetic_vectors.similarity(w4, r) ** 0.5\n",
      "D:\\0\\Github\\Poetix18\\py_files\\Limericks.py:311: RuntimeWarning: invalid value encountered in power\n",
      "  sim = self.poetic_vectors.similarity(w2, r) ** 0.5 * 2\n",
      "D:\\0\\Github\\Poetix18\\py_files\\Limericks.py:312: RuntimeWarning: invalid value encountered in power\n",
      "  sim += self.poetic_vectors.similarity(w4, r) ** 0.5 * 1\n"
     ]
    },
    {
     "name": "stdout",
     "output_type": "stream",
     "text": [
      "('maim', 'game', 'way', 'play', 'came')\n"
     ]
    }
   ],
   "source": [
    "print(lg.get_five_words('game'))\n",
    "print(lg.get_five_words_henry('game'))"
   ]
  },
  {
   "cell_type": "code",
   "execution_count": 32,
   "metadata": {
    "scrolled": false
   },
   "outputs": [
    {
     "name": "stdout",
     "output_type": "stream",
     "text": [
      "['WHO', 'VBD', 'DT', 'JJ', 'NN', 'IN', 'PRP$', 'NN']\n",
      "INFO:tensorflow:Restoring parameters from py_files/models/all_combined_back\\model.ckpt-120000\n",
      "['WP$', 'NN', 'VBD', 'DT', 'NN', 'IN', 'NN']\n",
      "INFO:tensorflow:Restoring parameters from py_files/models/all_combined_back\\model.ckpt-120000\n",
      "['WHO', 'VBD', 'DT', 'PRP$', 'NN', 'IN', 'DT', 'NN']\n",
      "INFO:tensorflow:Restoring parameters from py_files/models/all_combined_back\\model.ckpt-120000\n",
      "['WHO', 'VBD', 'DT', 'NN', 'IN', 'NN']\n",
      "INFO:tensorflow:Restoring parameters from py_files/models/all_combined_back\\model.ckpt-120000\n",
      "['WP$', 'NN', 'VBD', 'RB', 'JJR', 'THAN', 'NN']\n",
      "INFO:tensorflow:Restoring parameters from py_files/models/all_combined_back\\model.ckpt-120000\n",
      "[(['who', 'hesitated', 'the', 'first', 'part', 'of', 'her', 'game'], -4.20305871963501, ['WHO', 'VBD', 'DT', 'JJ', 'NN', 'IN', 'PRP$', 'NN'], ['who', 'had', 'a', 'large', 'wart', 'on', 'her', 'nose']), (['who', 'fascinated', 'all', 'his', 'look', 'at', 'some', 'game'], -4.708104133605957, ['WHO', 'VBD', 'DT', 'PRP$', 'NN', 'IN', 'DT', 'NN'], ['who', 'kept', 'all', 'his', 'cash', 'in', 'a', 'bucket']), (['whose', 'personality', 'was', 'not', 'more', 'than', 'game'], -4.719402313232422, ['WP$', 'NN', 'VBD', 'RB', 'JJR', 'THAN', 'NN'], ['whose', 'speed', 'was', 'much', 'faster', 'than', 'light']), (['who', 'deteriorated', 'the', 'way', 'out', 'game'], -4.988438606262207, ['WHO', 'VBD', 'DT', 'NN', 'IN', 'NN'], ['who', 'hadnt', 'an', 'atom', 'of', 'fear']), (['whose', 'life', 'eliminated', 'the', 'way', 'out', 'game'], -5.094135829380581, ['WP$', 'NN', 'VBD', 'DT', 'NN', 'IN', 'NN'], ['whose', 'pa', 'made', 'a', 'fortune', 'in', 'pork'])]\n",
      "['RB', 'DT', 'JJ', 'NN', 'VBD', 'PRP']\n",
      "INFO:tensorflow:Restoring parameters from py_files/models/all_combined_back\\model.ckpt-120000\n",
      "[(['only', 'the', 'whole', 'thing', 'was', 'they'], -3.443039894104004, ['RB', 'DT', 'JJ', 'NN', 'VBD', 'PRP'], ['soon', 'a', 'happy', 'thought', 'hit', 'her'])]\n",
      "['DT', 'VBN', 'TO', 'DT', 'NN']\n",
      "INFO:tensorflow:Restoring parameters from py_files/models/all_combined_back\\model.ckpt-120000\n",
      "['PRP', 'VBD', 'DT', 'NN']\n",
      "INFO:tensorflow:Restoring parameters from py_files/models/all_combined_back\\model.ckpt-120000\n",
      "['PRP', 'POS', 'DT', 'NN', 'IN', 'NN']\n",
      "INFO:tensorflow:Restoring parameters from py_files/models/all_combined_back\\model.ckpt-120000\n",
      "['CC', 'IN', 'PRP$', 'NN']\n",
      "INFO:tensorflow:Restoring parameters from py_files/models/all_combined_back\\model.ckpt-120000\n",
      "['VBZ', 'DT', 'JJ', 'NN', 'POS', 'NN']\n",
      "INFO:tensorflow:Restoring parameters from py_files/models/all_combined_back\\model.ckpt-120000\n",
      "[(['that', 'come', 'to', 'another', 'play'], -4.002622985839844, ['DT', 'VBN', 'TO', 'DT', 'NN'], ['all', 'exposed', 'to', 'the', 'breeze']), (['i', 'hesitated', 'all', 'play'], -4.113086223602295, ['PRP', 'VBD', 'DT', 'NN'], ['he', 'inserted', 'some', 'mice']), (['and', 'addition', 'ours', 'play'], -5.885270118713379, ['CC', 'IN', 'PRP$', 'NN'], ['and', 'in', 'his', 'lapel'])]\n",
      "['WDT', 'VBZ', 'PRP', 'IN', 'RB', 'JJ', 'NN']\n",
      "INFO:tensorflow:Restoring parameters from py_files/models/all_combined_back\\model.ckpt-120000\n",
      "['WDT', 'VBD', 'JJ', 'NN', 'IN', 'NN']\n",
      "INFO:tensorflow:Restoring parameters from py_files/models/all_combined_back\\model.ckpt-120000\n",
      "['WHEN', 'PRP', 'VBP', 'PRP', ',', 'PRP', 'VBP', 'VBN', 'RB', 'NN']\n",
      "INFO:tensorflow:Restoring parameters from py_files/models/all_combined_back\\model.ckpt-120000\n",
      "['PRP', 'RB', 'VBD', 'DT', 'NN']\n",
      "INFO:tensorflow:Restoring parameters from py_files/models/all_combined_back\\model.ckpt-120000\n",
      "['CC', 'PRP', 'VBZ', 'DT', 'NN', 'IN', 'DT', 'NN']\n",
      "INFO:tensorflow:Restoring parameters from py_files/models/all_combined_back\\model.ckpt-120000\n",
      "[(['and', 'it', 'is', 'the', 'reality', 'of', 'all', 'name'], -3.0360076427459717, ['CC', 'PRP', 'VBZ', 'DT', 'NN', 'IN', 'DT', 'NN'], ['and', 'that', 'is', 'the', 'cause', 'of', 'this', 'sonnet']), (['when', 'you', 'understand', 'me', ',', 'i', 'am', 'come', 'close', 'name'], -3.1270063400268553, ['WHEN', 'PRP', 'VBP', 'PRP', ',', 'PRP', 'VBP', 'VBN', 'RB', 'NN'], ['when', 'I', 'wear', 'it', ',', 'I', 'am', 'called', 'only', 'vermin']), (['which', 'is', 'it', 'as', 'not', 'intolerable', 'name'], -4.17210578918457, ['WDT', 'VBZ', 'PRP', 'IN', 'RB', 'JJ', 'NN'], ['which', 'leaves', 'him', 'in', 'very', 'bad', 'shape']), (['i', 'conspiratorially', 'saw', 'that', 'name'], -5.430389022827148, ['PRP', 'RB', 'VBD', 'DT', 'NN'], ['he', 'carelessly', 'stuck', 'a', 'verbena']), (['which', 'deteriorated', 'first', 'look', 'on', 'name'], -6.1767832438151045, ['WDT', 'VBD', 'JJ', 'NN', 'IN', 'NN'], ['which', 'refreshed', 'that', 'person', 'of', 'ewell'])]\n",
      "************\n",
      "there once was a young woman whose name was ame\n",
      "who hesitated the first part of her game\n",
      "only the whole thing was they\n",
      "that come to another play\n",
      "and it is the reality of all name\n",
      "\n",
      "['WHO', 'VBD', 'DT', 'JJ', 'NN', 'DT', 'NN']\n",
      "INFO:tensorflow:Restoring parameters from py_files/models/all_combined_back\\model.ckpt-120000\n",
      "['WHO', 'VBD', 'DT', 'JJ', 'NN', 'IN', 'PRP$', 'NN']\n",
      "INFO:tensorflow:Restoring parameters from py_files/models/all_combined_back\\model.ckpt-120000\n",
      "['WHO', 'VBD', 'PRP', 'RB', 'IN', 'DT', 'NN']\n",
      "INFO:tensorflow:Restoring parameters from py_files/models/all_combined_back\\model.ckpt-120000\n",
      "['WHO', 'VBD', 'IN', 'DT', 'NN', 'IN', 'NNS']\n",
      "INFO:tensorflow:Restoring parameters from py_files/models/all_combined_back\\model.ckpt-120000\n",
      "['WP$', 'NN', 'VBD', 'DT', 'NN', 'IN', 'NN']\n",
      "INFO:tensorflow:Restoring parameters from py_files/models/all_combined_back\\model.ckpt-120000\n",
      "[(['who', 'came', 'to', 'the', 'conservatory', 'out', 'game'], -4.073335102626255, ['WHO', 'VBD', 'IN', 'DT', 'NN', 'IN', 'NNS'], ['who', 'slipped', 'on', 'a', 'peel', 'of', 'bananas']), (['who', 'hesitated', 'the', 'first', 'part', 'of', 'her', 'game'], -4.20305871963501, ['WHO', 'VBD', 'DT', 'JJ', 'NN', 'IN', 'PRP$', 'NN'], ['who', 'had', 'a', 'large', 'wart', 'on', 'her', 'nose']), (['who', 'had', 'a', 'psychological', 'place', 'all', 'game'], -4.339798791067941, ['WHO', 'VBD', 'DT', 'JJ', 'NN', 'DT', 'NN'], ['who', 'read', 'a', 'love', 'story', 'each', 'day']), (['who', 'gave', 'me', 'immediately', 'to', 'some', 'game'], -4.39716420854841, ['WHO', 'VBD', 'PRP', 'RB', 'IN', 'DT', 'NN'], ['who', 'found', 'himself', 'quite', 'at', 'a', 'loss']), (['whose', 'life', 'was', 'the', 'imagination', 'out', 'game'], -4.439111164637974, ['WP$', 'NN', 'VBD', 'DT', 'NN', 'IN', 'NN'], ['whose', 'pa', 'made', 'a', 'fortune', 'in', 'pork'])]\n",
      "['PRP', 'VBP', 'DT', 'NN', 'NN']\n",
      "INFO:tensorflow:Restoring parameters from py_files/models/all_combined_back\\model.ckpt-120000\n",
      "['WHEN', 'DT', 'NN', 'VBZ', 'PRP$', 'NN']\n",
      "INFO:tensorflow:Restoring parameters from py_files/models/all_combined_back\\model.ckpt-120000\n",
      "['PRP', 'VBD', 'DT', 'NN']\n",
      "INFO:tensorflow:Restoring parameters from py_files/models/all_combined_back\\model.ckpt-120000\n",
      "['VBD', 'DT', 'CD', 'TO', 'DT', 'NN']\n",
      "INFO:tensorflow:Restoring parameters from py_files/models/all_combined_back\\model.ckpt-120000\n",
      "['EX', 'VBZ', 'NN', 'IN', 'DT', 'NN']\n",
      "INFO:tensorflow:Restoring parameters from py_files/models/all_combined_back\\model.ckpt-120000\n",
      "[(['i', 'have', 'no', 'expression', 'way'], -2.75305118560791, ['PRP', 'VBP', 'DT', 'NN', 'NN'], ['you', 'are', 'a', 'simpleton', 'loon']), (['there', 'is', 'something', 'of', 'all', 'way'], -3.175832748413086, ['EX', 'VBZ', 'NN', 'IN', 'DT', 'NN'], ['there', 'was', 'nothing', 'like', 'a', 'food']), (['when', 'the', 'word', 'reminds', 'her', 'way'], -4.118831952412923, ['WHEN', 'DT', 'NN', 'VBZ', 'PRP$', 'NN'], ['when', 'a', 'girl', 'wears', 'my', 'coat']), (['i', 'hesitated', 'all', 'way'], -4.159818649291992, ['PRP', 'VBD', 'DT', 'NN'], ['he', 'indulged', 'a', 'desire']), (['were', 'the', 'thousand', 'to', 'all', 'way'], -4.879453976949056, ['VBD', 'DT', 'CD', 'TO', 'DT', 'NN'], ['said', 'the', 'two', 'to', 'the', 'tutor'])]\n",
      "['CC', 'VB', 'RB', 'AS', 'NN']\n",
      "INFO:tensorflow:Restoring parameters from py_files/models/all_combined_back\\model.ckpt-120000\n",
      "['IN', 'DT', 'NN']\n",
      "INFO:tensorflow:Restoring parameters from py_files/models/all_combined_back\\model.ckpt-120000\n",
      "['WP', 'DT', 'JJ', 'NN']\n",
      "INFO:tensorflow:Restoring parameters from py_files/models/all_combined_back\\model.ckpt-120000\n"
     ]
    },
    {
     "name": "stdout",
     "output_type": "stream",
     "text": [
      "['IN', 'DT', 'NN', 'CC', 'VBD', 'IN']\n",
      "INFO:tensorflow:Restoring parameters from py_files/models/all_combined_back\\model.ckpt-120000\n",
      "['SO', 'JJ', 'VBD', 'PRP$', 'NN']\n",
      "INFO:tensorflow:Restoring parameters from py_files/models/all_combined_back\\model.ckpt-120000\n",
      "[(['of', 'any', 'life', 'or', 'thought', 'play'], -3.58531920115153, ['IN', 'DT', 'NN', 'CC', 'VBD', 'IN'], ['with', 'a', 'yell', 'and', 'eloped', 'with']), (['and', 'come', 'together', 'as', 'play'], -3.7545085906982423, ['CC', 'VB', 'RB', 'AS', 'NN'], ['and', 'eat', 'just', 'as', 'hearty']), (['so', 'beautiful', 'was', 'mine', 'play'], -4.403765106201172, ['SO', 'JJ', 'VBD', 'PRP$', 'NN'], ['so', 'short', 'was', 'his', 'fin']), (['addition', 'another', 'play'], -6.840391159057617, ['IN', 'DT', 'NN'], ['without', 'any', 'nightie'])]\n",
      "['AS', 'IF', 'PRP', 'MD', 'VBN', 'JJ']\n",
      "INFO:tensorflow:Restoring parameters from py_files/models/all_combined_back\\model.ckpt-120000\n",
      "['CC', 'VBD', 'DT', 'JJ']\n",
      "INFO:tensorflow:Restoring parameters from py_files/models/all_combined_back\\model.ckpt-120000\n",
      "['VB', 'IN', 'JJ', 'VB', 'JJ', 'JJ']\n",
      "INFO:tensorflow:Restoring parameters from py_files/models/all_combined_back\\model.ckpt-120000\n",
      "['DT', 'JJ', 'NN']\n",
      "['IN', 'PRP', 'MD', 'RB', 'VB', 'RP']\n",
      "INFO:tensorflow:Restoring parameters from py_files/models/all_combined_back\\model.ckpt-120000\n",
      "[(['if', 'i', 'can', 'instantaneously', 'look', 'same'], -4.455282847086589, ['IN', 'PRP', 'MD', 'RB', 'VB', 'RP'], ['that', 'he', 'could', \"n't\", 'reach', 'up']), (['as', 'if', 'himself', 'would', 'accumulated', 'same'], -5.268693606058757, ['AS', 'IF', 'PRP', 'MD', 'VBN', 'JJ'], ['as', 'if', 'he', \"'d\", 'been', 'invited']), (['think', 'of', 'such', 'incomprehensible', 'kind', 'same'], -5.338955561319987, ['VB', 'IN', 'JJ', 'VB', 'JJ', 'JJ'], ['be', 'before', 'phoebe', 'be', 'phoebe', 'bee-bee']), (['and', 'deteriorated', 'another', 'same'], -6.283439636230469, ['CC', 'VBD', 'DT', 'JJ'], ['and', 'shocked', 'the', 'ultra-fastidious'])]\n",
      "************\n",
      "there once was a young woman whose name was mame\n",
      "who came to the conservatory out game\n",
      "i have no expression way\n",
      "of any life or thought play\n",
      "if i can instantaneously look same\n",
      "\n"
     ]
    },
    {
     "data": {
      "text/plain": [
       "[[['there',\n",
       "   'once',\n",
       "   'was',\n",
       "   'a',\n",
       "   'young',\n",
       "   'woman',\n",
       "   'whose',\n",
       "   'name',\n",
       "   'was',\n",
       "   'mame']],\n",
       " (['who', 'came', 'to', 'the', 'conservatory', 'out', 'game'],\n",
       "  -4.073335102626255,\n",
       "  ['WHO', 'VBD', 'IN', 'DT', 'NN', 'IN', 'NNS'],\n",
       "  ['who', 'slipped', 'on', 'a', 'peel', 'of', 'bananas']),\n",
       " (['i', 'have', 'no', 'expression', 'way'],\n",
       "  -2.75305118560791,\n",
       "  ['PRP', 'VBP', 'DT', 'NN', 'NN'],\n",
       "  ['you', 'are', 'a', 'simpleton', 'loon']),\n",
       " (['of', 'any', 'life', 'or', 'thought', 'play'],\n",
       "  -3.58531920115153,\n",
       "  ['IN', 'DT', 'NN', 'CC', 'VBD', 'IN'],\n",
       "  ['with', 'a', 'yell', 'and', 'eloped', 'with']),\n",
       " (['if', 'i', 'can', 'instantaneously', 'look', 'same'],\n",
       "  -4.455282847086589,\n",
       "  ['IN', 'PRP', 'MD', 'RB', 'VB', 'RP'],\n",
       "  ['that', 'he', 'could', \"n't\", 'reach', 'up'])]"
      ]
     },
     "execution_count": 32,
     "metadata": {},
     "output_type": "execute_result"
    }
   ],
   "source": [
    "lg.gen_poem_independent_matias('game', 11)\n",
    "lg.gen_poem_independent_matias('game', 11, storyline=1)"
   ]
  },
  {
   "cell_type": "code",
   "execution_count": 33,
   "metadata": {},
   "outputs": [
    {
     "name": "stdout",
     "output_type": "stream",
     "text": [
      "('diem', 'dream', 'kind', 'mind', 'beam')\n",
      "('scream', 'dream', 'pope', 'hope', 'theme')\n"
     ]
    }
   ],
   "source": [
    "print(lg.get_five_words('dream'))\n",
    "print(lg.get_five_words_henry('dream'))"
   ]
  },
  {
   "cell_type": "code",
   "execution_count": 38,
   "metadata": {},
   "outputs": [
    {
     "name": "stdout",
     "output_type": "stream",
     "text": [
      "('remake', 'cake', 'staked', 'baked', 'awake')\n",
      "('flake', 'cake', 'raked', 'baked', 'steak')\n"
     ]
    }
   ],
   "source": [
    "print(lg.get_five_words('cake'))\n",
    "print(lg.get_five_words_henry('cake'))"
   ]
  },
  {
   "cell_type": "code",
   "execution_count": 39,
   "metadata": {},
   "outputs": [
    {
     "name": "stdout",
     "output_type": "stream",
     "text": [
      "('smite', 'night', 'stark', 'dark', 'light')\n",
      "('wight', 'night', 'overnight', 'midnight', 'light')\n"
     ]
    }
   ],
   "source": [
    "print(lg.get_five_words('night'))\n",
    "print(lg.get_five_words_henry('night'))"
   ]
  },
  {
   "cell_type": "code",
   "execution_count": 45,
   "metadata": {},
   "outputs": [
    {
     "name": "stdout",
     "output_type": "stream",
     "text": [
      "('meadow', 'snow', 'they', 'away', 'go')\n",
      "('potato', 'snow', 'rice', 'ice', 'below')\n"
     ]
    }
   ],
   "source": [
    "print(lg.get_five_words('snow'))\n",
    "print(lg.get_five_words_henry('snow'))"
   ]
  },
  {
   "cell_type": "code",
   "execution_count": 48,
   "metadata": {},
   "outputs": [
    {
     "name": "stdout",
     "output_type": "stream",
     "text": [
      "('sabine', 'machine', 'return', 'turn', 'mean')\n",
      "('demean', 'machine', 'scenery', 'machinery', 'screen')\n"
     ]
    }
   ],
   "source": [
    "print(lg.get_five_words('machine'))\n",
    "print(lg.get_five_words_henry('machine'))"
   ]
  },
  {
   "cell_type": "code",
   "execution_count": 53,
   "metadata": {},
   "outputs": [
    {
     "name": "stdout",
     "output_type": "stream",
     "text": [
      "('severe', 'tear', 'start', 'apart', 'bear')\n",
      "('beer', 'tear', 'start', 'apart', 'there')\n"
     ]
    }
   ],
   "source": [
    "print(lg.get_five_words('tear'))\n",
    "print(lg.get_five_words_henry('tear'))"
   ]
  },
  {
   "cell_type": "code",
   "execution_count": 54,
   "metadata": {},
   "outputs": [
    {
     "name": "stdout",
     "output_type": "stream",
     "text": [
      "('marguerite', 'street', 'unlike', 'like', 'beat')\n",
      "('heartbeat', 'street', 'blocks', 'sidewalks', 'concrete')\n"
     ]
    }
   ],
   "source": [
    "print(lg.get_five_words('street'))\n",
    "print(lg.get_five_words_henry('street'))"
   ]
  },
  {
   "cell_type": "code",
   "execution_count": null,
   "metadata": {},
   "outputs": [],
   "source": [
    "********************************************\n",
    "--------------------------------------------\n",
    "********************************************"
   ]
  },
  {
   "cell_type": "code",
   "execution_count": null,
   "metadata": {},
   "outputs": [],
   "source": []
  },
  {
   "cell_type": "code",
   "execution_count": null,
   "metadata": {},
   "outputs": [
    {
     "name": "stdout",
     "output_type": "stream",
     "text": [
      "five words are: \n",
      "('doth', 'broth', 'scoop', 'soup', 'moth')\n",
      "['WHO', 'VBD', 'RP', 'PRP$', 'NNS', 'IN', 'DT', 'NN']\n",
      "INFO:tensorflow:Restoring parameters from py_files/models/all_combined_back\\model.ckpt-120000\n",
      "['WHO', 'VBD', 'JJ', 'NN', 'IN', 'NN']\n",
      "INFO:tensorflow:Restoring parameters from py_files/models/all_combined_back\\model.ckpt-120000\n",
      "['WHO', 'VBD', 'DT', 'JJ', 'NN', 'DT', 'NN']\n",
      "INFO:tensorflow:Restoring parameters from py_files/models/all_combined_back\\model.ckpt-120000\n",
      "['WHO', 'VBD', 'AS', 'PRP', 'VBD', 'IN', 'DT', 'NN']\n",
      "INFO:tensorflow:Restoring parameters from py_files/models/all_combined_back\\model.ckpt-120000\n",
      "['WP$', 'NN', 'VBD', 'RB', 'JJR', 'THAN', 'NN']\n",
      "INFO:tensorflow:Restoring parameters from py_files/models/all_combined_back\\model.ckpt-120000\n",
      "No templates for POS\n",
      "five words are: \n",
      "('transformation', 'probation', 'lenders', 'offenders', 'communication')\n",
      "['WHO', 'VBD', 'AS', 'PRP', 'VBD', 'IN', 'DT', 'NN']\n",
      "INFO:tensorflow:Restoring parameters from py_files/models/all_combined_back\\model.ckpt-120000\n",
      "['WHO', 'VBD', 'PRP', 'RB', 'IN', 'DT', 'NN']\n",
      "INFO:tensorflow:Restoring parameters from py_files/models/all_combined_back\\model.ckpt-120000\n",
      "['WHO', 'VBD', 'IN', 'JJ', 'NN']\n",
      "INFO:tensorflow:Restoring parameters from py_files/models/all_combined_back\\model.ckpt-120000\n",
      "['WHO', 'VBD', 'DT', 'JJ', 'NN', 'DT', 'NN']\n",
      "INFO:tensorflow:Restoring parameters from py_files/models/all_combined_back\\model.ckpt-120000\n",
      "['WP$', 'NN', 'VBD', 'DT', 'NN', 'IN', 'NN']\n",
      "INFO:tensorflow:Restoring parameters from py_files/models/all_combined_back\\model.ckpt-120000\n",
      "['IN', 'PRP$', 'NN', ',', 'PRP$', 'NNS']\n",
      "INFO:tensorflow:Restoring parameters from py_files/models/all_combined_back\\model.ckpt-120000\n",
      "['PRP', 'VBD', ',', 'RB', 'VBD']\n",
      "INFO:tensorflow:Restoring parameters from py_files/models/all_combined_back\\model.ckpt-120000\n",
      "['IN', 'PRP$', 'NNS', 'IN', 'DT', 'NNS']\n",
      "INFO:tensorflow:Restoring parameters from py_files/models/all_combined_back\\model.ckpt-120000\n",
      "['RB', 'VBD', 'IN', 'DT', 'NN', 'IN', 'NN']\n",
      "INFO:tensorflow:Restoring parameters from py_files/models/all_combined_back\\model.ckpt-120000\n",
      "INFO:tensorflow:Restoring parameters from py_files/models/all_combined_back\\model.ckpt-120000\n",
      "['VBG', 'DT', 'NNS', 'CC', 'NNS']\n",
      "INFO:tensorflow:Restoring parameters from py_files/models/all_combined_back\\model.ckpt-120000\n",
      "['JJ', 'NN', 'IN', 'NN']\n",
      "INFO:tensorflow:Restoring parameters from py_files/models/all_combined_back\\model.ckpt-120000\n",
      "INFO:tensorflow:Restoring parameters from py_files/models/all_combined_back\\model.ckpt-120000\n",
      "['CC', 'VBD', 'NNS', 'IN', 'NNS']\n",
      "INFO:tensorflow:Restoring parameters from py_files/models/all_combined_back\\model.ckpt-120000\n",
      "['IN', 'DT', 'NN', 'VBZ', 'VBN', 'RP', 'PRP$', 'NN']\n",
      "five words are: \n",
      "('athwart', 'passport', 'resistance', 'assistance', 'support')\n",
      "['WHO', 'VBD', 'DT', 'NN', 'IN', 'NN']\n",
      "INFO:tensorflow:Restoring parameters from py_files/models/all_combined_back\\model.ckpt-120000\n",
      "['WHO', 'VBD', 'IN', 'CD', 'IN', 'PRP$', 'NNS']\n",
      "INFO:tensorflow:Restoring parameters from py_files/models/all_combined_back\\model.ckpt-120000\n",
      "['WHO', 'VBD', 'JJ', 'NN', 'IN', 'NN']\n",
      "INFO:tensorflow:Restoring parameters from py_files/models/all_combined_back\\model.ckpt-120000\n",
      "['WHO', 'VBD', 'IN', 'JJ', 'NN']\n",
      "INFO:tensorflow:Restoring parameters from py_files/models/all_combined_back\\model.ckpt-120000\n",
      "['WP$', 'NN', 'VBD', 'DT', 'NN', 'IN', 'NN']\n",
      "INFO:tensorflow:Restoring parameters from py_files/models/all_combined_back\\model.ckpt-120000\n",
      "['CC', 'IN', 'PRP$', 'NN']\n",
      "INFO:tensorflow:Restoring parameters from py_files/models/all_combined_back\\model.ckpt-120000\n",
      "['DT', 'NN', 'IN', 'DT', 'NN']\n",
      "INFO:tensorflow:Restoring parameters from py_files/models/all_combined_back\\model.ckpt-120000\n",
      "['PRP', 'VBD', 'RP', 'CD', 'NN']\n",
      "INFO:tensorflow:Restoring parameters from py_files/models/all_combined_back\\model.ckpt-120000\n",
      "['VBD', 'DT', 'NN', 'IN', 'DT', 'NN']\n",
      "INFO:tensorflow:Restoring parameters from py_files/models/all_combined_back\\model.ckpt-120000\n",
      "['PRP', 'VBD', ',', 'IN', 'DT', 'NN']\n",
      "INFO:tensorflow:Restoring parameters from py_files/models/all_combined_back\\model.ckpt-120000\n",
      "['IN', 'PRP$', 'NN', 'CC', 'NN', 'IN', 'DT', 'NN']\n",
      "INFO:tensorflow:Restoring parameters from py_files/models/all_combined_back\\model.ckpt-120000\n",
      "INFO:tensorflow:Restoring parameters from py_files/models/all_combined_back\\model.ckpt-120000\n",
      "['IN', 'PRP$', 'NNS', 'CC', 'PRP$', 'NN']\n",
      "INFO:tensorflow:Restoring parameters from py_files/models/all_combined_back\\model.ckpt-120000\n",
      "['PRP$', 'NN', 'POS', 'JJ', 'NN']\n",
      "INFO:tensorflow:Restoring parameters from py_files/models/all_combined_back\\model.ckpt-120000\n",
      "five words are: \n",
      "('remake', 'stake', 'asleep', 'sleep', 'awake')\n",
      "['WHO', 'VBD', 'IN', 'DT', 'NN', 'IN', 'NNS']\n",
      "INFO:tensorflow:Restoring parameters from py_files/models/all_combined_back\\model.ckpt-120000\n",
      "['WP$', 'NN', 'VBD', 'RB', 'JJR', 'THAN', 'NN']\n",
      "INFO:tensorflow:Restoring parameters from py_files/models/all_combined_back\\model.ckpt-120000\n",
      "['WHO', 'VBD', 'IN', 'CD', 'IN', 'PRP$', 'NNS']\n",
      "INFO:tensorflow:Restoring parameters from py_files/models/all_combined_back\\model.ckpt-120000\n",
      "['WHO', 'VBD', 'IN', 'JJ', 'NN']\n",
      "INFO:tensorflow:Restoring parameters from py_files/models/all_combined_back\\model.ckpt-120000\n",
      "['WP$', 'NN', 'VBD', 'DT', 'NN', 'IN', 'NN']\n",
      "INFO:tensorflow:Restoring parameters from py_files/models/all_combined_back\\model.ckpt-120000\n",
      "No templates for POS\n",
      "five words are: \n",
      "('heald', 'yield', 'devil', 'level', 'field')\n",
      "['WP$', 'NNS', 'RB', 'MD', 'VB']\n",
      "INFO:tensorflow:Restoring parameters from py_files/models/all_combined_back\\model.ckpt-120000\n",
      "['DT', 'NN', 'IN', 'DT', 'NN']\n",
      "INFO:tensorflow:Restoring parameters from py_files/models/all_combined_back\\model.ckpt-120000\n",
      "['IN', 'JJ', 'NN']\n",
      "INFO:tensorflow:Restoring parameters from py_files/models/all_combined_back\\model.ckpt-120000\n",
      "['PRP', 'VBD', ',', 'IN', 'DT', 'NN']\n",
      "INFO:tensorflow:Restoring parameters from py_files/models/all_combined_back\\model.ckpt-120000\n",
      "['PRP', 'VBD', 'RB', 'IN', 'DT', 'NN']\n",
      "INFO:tensorflow:Restoring parameters from py_files/models/all_combined_back\\model.ckpt-120000\n",
      "['VBD', 'PRP', 'IN', ',', 'WP', 'DT', 'NN']\n",
      "INFO:tensorflow:Restoring parameters from py_files/models/all_combined_back\\model.ckpt-120000\n",
      "['CC', 'AS', 'RB', 'AS', 'DT', 'NN']\n",
      "INFO:tensorflow:Restoring parameters from py_files/models/all_combined_back\\model.ckpt-120000\n",
      "INFO:tensorflow:Restoring parameters from py_files/models/all_combined_back\\model.ckpt-120000\n",
      "['VB', 'RP', 'IN', 'DT', 'NN']\n",
      "INFO:tensorflow:Restoring parameters from py_files/models/all_combined_back\\model.ckpt-120000\n",
      "['CC', 'VBD', 'IN', 'DT', 'JJ', 'NN']\n",
      "INFO:tensorflow:Restoring parameters from py_files/models/all_combined_back\\model.ckpt-120000\n",
      "INFO:tensorflow:Restoring parameters from py_files/models/all_combined_back\\model.ckpt-120000\n",
      "['VBD', 'CD', 'NNS', 'IN', 'NN']\n",
      "INFO:tensorflow:Restoring parameters from py_files/models/all_combined_back\\model.ckpt-120000\n",
      "['IN', 'JJ', 'NN', 'IN', 'NN']\n",
      "INFO:tensorflow:Restoring parameters from py_files/models/all_combined_back\\model.ckpt-120000\n",
      "INFO:tensorflow:Restoring parameters from py_files/models/all_combined_back\\model.ckpt-120000\n",
      "['DT', 'CD', 'VBD', 'PDT', 'DT', 'NN']\n",
      "INFO:tensorflow:Restoring parameters from py_files/models/all_combined_back\\model.ckpt-120000\n",
      "['WDT', 'VBZ', 'PRP', 'IN', 'RB', 'JJ', 'NN']\n",
      "INFO:tensorflow:Restoring parameters from py_files/models/all_combined_back\\model.ckpt-120000\n",
      "INFO:tensorflow:Restoring parameters from py_files/models/all_combined_back\\model.ckpt-120000\n",
      "['DT', 'VBN', 'TO', 'DT', 'NN']\n",
      "INFO:tensorflow:Restoring parameters from py_files/models/all_combined_back\\model.ckpt-120000\n",
      "[]\n",
      "five words are: \n",
      "('hale', 'flail', 'amplitude', 'magnitude', 'scale')\n",
      "five words are: \n",
      "('secession', 'transgression', 'latter', 'matter', 'question')\n",
      "['WHO', 'VBD', 'IN', 'JJ', 'NN']\n",
      "INFO:tensorflow:Restoring parameters from py_files/models/all_combined_back\\model.ckpt-120000\n",
      "['WHO', 'VBD', 'IN', 'DT', 'NN', 'IN', 'NNS']\n",
      "INFO:tensorflow:Restoring parameters from py_files/models/all_combined_back\\model.ckpt-120000\n",
      "['WHO', 'VBD', 'AS', 'PRP', 'VBD', 'IN', 'DT', 'NN']\n",
      "INFO:tensorflow:Restoring parameters from py_files/models/all_combined_back\\model.ckpt-120000\n"
     ]
    },
    {
     "name": "stdout",
     "output_type": "stream",
     "text": [
      "['WHO', 'VBD', 'DT', 'PRP$', 'NN', 'IN', 'DT', 'NN']\n",
      "INFO:tensorflow:Restoring parameters from py_files/models/all_combined_back\\model.ckpt-120000\n",
      "['WHO', 'VBD', 'JJ', 'NN', 'IN', 'NN']\n",
      "['PRP', 'VBZ', 'NN']\n",
      "INFO:tensorflow:Restoring parameters from py_files/models/all_combined_back\\model.ckpt-120000\n",
      "['DT', 'NN', 'VBD', ',', 'RB', 'JJ']\n",
      "['CC', 'JJ', ',', 'CC', 'JJ']\n",
      "INFO:tensorflow:Restoring parameters from py_files/models/all_combined_back\\model.ckpt-120000\n",
      "['PRP$', 'NNS', 'VBD', 'SO', 'JJ']\n",
      "INFO:tensorflow:Restoring parameters from py_files/models/all_combined_back\\model.ckpt-120000\n",
      "['CC', 'DT', 'CD', 'VBD', 'JJ']\n",
      "INFO:tensorflow:Restoring parameters from py_files/models/all_combined_back\\model.ckpt-120000\n",
      "['VBP', 'VBG', 'DT', 'NN', 'IN', 'PRP$', 'NN']\n"
     ]
    }
   ],
   "source": [
    "import random\n",
    "statement=True\n",
    "word=random.choice(lg.pos_to_words['NN'])\n",
    "while statement:\n",
    "    try:\n",
    "        poem=lg.gen_poem_conditioned(word, 11)\n",
    "        statement=False\n",
    "    except:\n",
    "        word=random.choice(lg.pos_to_words['NN'])"
   ]
  },
  {
   "cell_type": "markdown",
   "metadata": {},
   "source": [
    "## gen_poem_conditioned"
   ]
  },
  {
   "cell_type": "markdown",
   "metadata": {},
   "source": [
    "Generate 2nd, 3rd and 5th lines independently, then generate 1st conditioned on second and 4th conditioned on 5th."
   ]
  },
  {
   "cell_type": "markdown",
   "metadata": {},
   "source": [
    "#### mate"
   ]
  },
  {
   "cell_type": "code",
   "execution_count": 41,
   "metadata": {},
   "outputs": [
    {
     "name": "stderr",
     "output_type": "stream",
     "text": [
      "c:\\users\\hp\\anaconda2\\envs\\translator\\lib\\site-packages\\gensim\\matutils.py:737: FutureWarning: Conversion of the second argument of issubdtype from `int` to `np.signedinteger` is deprecated. In future, it will be treated as `np.int32 == np.dtype(int).type`.\n",
      "  if np.issubdtype(vec.dtype, np.int):\n"
     ]
    },
    {
     "name": "stdout",
     "output_type": "stream",
     "text": [
      "five words are: \n",
      "('alternate', 'mate', 'dream', 'team', 'state')\n",
      "['WHO', 'VBD', 'PRP', 'RB', 'IN', 'DT', 'NN']\n",
      "INFO:tensorflow:Restoring parameters from py_files/models/all_combined_back\\model.ckpt-120000\n",
      "['PRP', 'VBD', ',', 'IN', 'DT', 'NN']\n",
      "INFO:tensorflow:Restoring parameters from py_files/models/all_combined_back\\model.ckpt-120000\n",
      "['VBP', 'VBG', 'DT', 'NN', 'IN', 'PRP$', 'NN']\n",
      "INFO:tensorflow:Restoring parameters from py_files/models/all_combined_back\\model.ckpt-120000\n",
      "INFO:tensorflow:Restoring parameters from py_files/models/all_combined_back\\model.ckpt-120000\n",
      "INFO:tensorflow:Restoring parameters from py_files/models/all_combined_back\\model.ckpt-120000\n",
      "['IN', 'DT', 'JJ', 'NN', 'NN', 'VBP']\n",
      "INFO:tensorflow:Restoring parameters from py_files/models/all_combined_back\\model.ckpt-120000\n",
      "['CD', 'NNS', 'CC', 'DT', 'NN']\n",
      "INFO:tensorflow:Restoring parameters from py_files/models/all_combined_back\\model.ckpt-120000\n",
      "************\n",
      "of the whole thing everything alternate\n",
      "who fascinated me now as a mate\n",
      "i continued , with a dream\n",
      "undertone eyes and the team\n",
      "cant sing the fascination of her state\n",
      "\n"
     ]
    }
   ],
   "source": [
    "poem=lg.gen_poem_conditioned('mate', 10)"
   ]
  },
  {
   "cell_type": "code",
   "execution_count": null,
   "metadata": {},
   "outputs": [
    {
     "name": "stderr",
     "output_type": "stream",
     "text": [
      "c:\\users\\hp\\anaconda2\\envs\\translator\\lib\\site-packages\\gensim\\matutils.py:737: FutureWarning: Conversion of the second argument of issubdtype from `int` to `np.signedinteger` is deprecated. In future, it will be treated as `np.int32 == np.dtype(int).type`.\n",
      "  if np.issubdtype(vec.dtype, np.int):\n"
     ]
    },
    {
     "name": "stdout",
     "output_type": "stream",
     "text": [
      "five words are: \n",
      "('bonfire', 'fire', 'kettle', 'metal', 'wire')\n",
      "['WHO', 'VBD', 'RP', 'PRP$', 'NNS', 'IN', 'DT', 'NN']\n",
      "INFO:tensorflow:Restoring parameters from py_files/models/all_combined_back\\model.ckpt-120000\n",
      "['WHO', 'VBD', 'AS', 'PRP', 'VBD', 'IN', 'DT', 'NN']\n",
      "INFO:tensorflow:Restoring parameters from py_files/models/all_combined_back\\model.ckpt-120000\n",
      "['WHO', 'VBD', 'PRP', 'RB', 'IN', 'DT', 'NN']\n",
      "INFO:tensorflow:Restoring parameters from py_files/models/all_combined_back\\model.ckpt-120000\n",
      "['WHO', 'VBD', 'IN', 'JJ', 'NN']\n",
      "INFO:tensorflow:Restoring parameters from py_files/models/all_combined_back\\model.ckpt-120000\n",
      "['WHO', 'VBD', 'DT', 'JJ', 'NN', 'IN', 'PRP$', 'NN']\n",
      "INFO:tensorflow:Restoring parameters from py_files/models/all_combined_back\\model.ckpt-120000\n",
      "['THAN', 'DT', 'NN', 'IN', 'NN']\n",
      "INFO:tensorflow:Restoring parameters from py_files/models/all_combined_back\\model.ckpt-120000\n",
      "['CC', 'IN', 'PRP$', 'NN']\n",
      "INFO:tensorflow:Restoring parameters from py_files/models/all_combined_back\\model.ckpt-120000\n",
      "['PRP', 'VBP', 'DT', 'NN', 'NN']\n",
      "INFO:tensorflow:Restoring parameters from py_files/models/all_combined_back\\model.ckpt-120000\n",
      "['VBD', 'DT', 'CD', 'TO', 'DT', 'NN']\n",
      "INFO:tensorflow:Restoring parameters from py_files/models/all_combined_back\\model.ckpt-120000\n",
      "['PRP', 'VBD', 'IN', 'DT', 'NN']\n"
     ]
    }
   ],
   "source": [
    "poem2=lg.gen_poem_conditioned('fire', 10)"
   ]
  },
  {
   "cell_type": "code",
   "execution_count": 106,
   "metadata": {},
   "outputs": [
    {
     "data": {
      "text/plain": [
       "[(['been', 'one', 'perturbations', 'of', 'his', 'liar'],\n",
       "  -6.998078028361003,\n",
       "  ['VBN', 'CD', 'NNS', 'IN', 'PRP$', 'NN']),\n",
       " (['who', 'initiated', 'at', 'last', 'fire'],\n",
       "  -5.47464599609375,\n",
       "  ['WHO', 'VBD', 'IN', 'JJ', 'NN']),\n",
       " (['in', 'his', 'tremulous', 'kettle'],\n",
       "  -3.5174553394317627,\n",
       "  ['IN', 'PRP$', 'JJ', 'NN']),\n",
       " (['of', 'my', 'eyes', 'and', 'his', 'metal'],\n",
       "  -5.591676712036133,\n",
       "  ['IN', 'PRP$', 'NNS', 'CC', 'PRP$', 'NN']),\n",
       " (['of', 'my', 'body', 'and', 'look', 'at', 'some', 'wire'],\n",
       "  -3.539680242538452,\n",
       "  ['IN', 'PRP$', 'NN', 'CC', 'NN', 'IN', 'DT', 'NN'])]"
      ]
     },
     "execution_count": 106,
     "metadata": {},
     "output_type": "execute_result"
    }
   ],
   "source": [
    "poem2"
   ]
  },
  {
   "cell_type": "code",
   "execution_count": 103,
   "metadata": {},
   "outputs": [
    {
     "name": "stderr",
     "output_type": "stream",
     "text": [
      "c:\\users\\hp\\anaconda2\\envs\\translator\\lib\\site-packages\\gensim\\matutils.py:737: FutureWarning: Conversion of the second argument of issubdtype from `int` to `np.signedinteger` is deprecated. In future, it will be treated as `np.int32 == np.dtype(int).type`.\n",
      "  if np.issubdtype(vec.dtype, np.int):\n"
     ]
    },
    {
     "name": "stdout",
     "output_type": "stream",
     "text": [
      "five words are: \n",
      "('outright', 'height', 'indicate', 'weight', 'light')\n",
      "['WHO', 'VBD', 'DT', 'JJ', 'NN', 'DT', 'NN']\n",
      "INFO:tensorflow:Restoring parameters from py_files/models/all_combined_back\\model.ckpt-120000\n",
      "['PRP', 'VBD', 'CD', 'TO', 'NN']\n",
      "INFO:tensorflow:Restoring parameters from py_files/models/all_combined_back\\model.ckpt-120000\n",
      "['IN', 'PRP$', 'NN', 'CC', 'NN', 'IN', 'DT', 'NN']\n",
      "INFO:tensorflow:Restoring parameters from py_files/models/all_combined_back\\model.ckpt-120000\n",
      "INFO:tensorflow:Restoring parameters from py_files/models/all_combined_back\\model.ckpt-120000\n",
      "INFO:tensorflow:Restoring parameters from py_files/models/all_combined_back\\model.ckpt-120000\n",
      "['NN', 'IN', 'PRP', 'MD']\n",
      "INFO:tensorflow:Restoring parameters from py_files/models/all_combined_back\\model.ckpt-120000\n",
      "['IN', 'PRP$', 'NNS', 'CC', 'PRP$', 'NN']\n",
      "INFO:tensorflow:Restoring parameters from py_files/models/all_combined_back\\model.ckpt-120000\n",
      "************\n",
      "individuality as we outright\n",
      "who initiated the light round each height\n",
      "i was favour to indicate\n",
      "in my eyes behemoth your weight\n",
      "of my philosophy and look in some light\n",
      "\n"
     ]
    }
   ],
   "source": [
    "poem3=lg.gen_poem_conditioned('height', 11)"
   ]
  },
  {
   "cell_type": "markdown",
   "metadata": {},
   "source": [
    "## Best line"
   ]
  },
  {
   "cell_type": "code",
   "execution_count": 120,
   "metadata": {},
   "outputs": [
    {
     "name": "stdout",
     "output_type": "stream",
     "text": [
      "['WHO', 'IN', 'NNS', 'VBD', 'JJ', 'NN', 'IN', 'NN']\n",
      "INFO:tensorflow:Restoring parameters from py_files/models/all_combined_back\\model.ckpt-120000\n",
      "['WHO', 'VBD', 'IN', 'CD', 'IN', 'PRP$', 'NNS']\n",
      "INFO:tensorflow:Restoring parameters from py_files/models/all_combined_back\\model.ckpt-120000\n",
      "['WHO', 'VBD', 'DT', 'JJ', 'NN', 'DT', 'NN']\n",
      "INFO:tensorflow:Restoring parameters from py_files/models/all_combined_back\\model.ckpt-120000\n",
      "['WHO', 'VBD', 'RP', 'PRP$', 'NNS', 'IN', 'DT', 'NN']\n",
      "INFO:tensorflow:Restoring parameters from py_files/models/all_combined_back\\model.ckpt-120000\n",
      "['WHO', 'VBD', 'DT', 'NN', 'IN', 'NN']\n",
      "INFO:tensorflow:Restoring parameters from py_files/models/all_combined_back\\model.ckpt-120000\n",
      "['WHO', 'VBD', 'PRP', 'RB', 'IN', 'DT', 'NN']\n",
      "INFO:tensorflow:Restoring parameters from py_files/models/all_combined_back\\model.ckpt-120000\n",
      "['WHO', 'VBD', 'IN', 'JJ', 'NN']\n",
      "INFO:tensorflow:Restoring parameters from py_files/models/all_combined_back\\model.ckpt-120000\n",
      "['WP$', 'NN', 'VBD', 'DT', 'NN', 'IN', 'NN']\n",
      "INFO:tensorflow:Restoring parameters from py_files/models/all_combined_back\\model.ckpt-120000\n"
     ]
    }
   ],
   "source": [
    "from py_files.templates import get_templates\n",
    "dataset, second_line, third_line, last_two=get_templates()\n",
    "p=lg.gen_best_line('sky', set_of_templates=second_line, rand_templates=5)"
   ]
  },
  {
   "cell_type": "code",
   "execution_count": 121,
   "metadata": {},
   "outputs": [
    {
     "data": {
      "text/plain": [
       "[(['who', 'was', 'a', 'solitary', 'round', 'the', 'sky'],\n",
       "  -3.8050354548863004,\n",
       "  ['WHO', 'VBD', 'DT', 'JJ', 'NN', 'DT', 'NN'],\n",
       "  ['who', 'read', 'a', 'love', 'story', 'each', 'day']),\n",
       " (['who', 'fascinated', 'me', 'there', 'in', 'the', 'sky'],\n",
       "  -3.8535614013671875,\n",
       "  ['WHO', 'VBD', 'PRP', 'RB', 'IN', 'DT', 'NN'],\n",
       "  ['who', 'found', 'himself', 'quite', 'at', 'a', 'loss']),\n",
       " (['who', 'repeated', 'on', 'my', 'feet', 'in', 'the', 'sky'],\n",
       "  -4.04962682723999,\n",
       "  ['WHO', 'VBD', 'RP', 'PRP$', 'NNS', 'IN', 'DT', 'NN'],\n",
       "  ['who', 'sent', 'out', 'his', 'cards', 'for', 'a', 'party']),\n",
       " (['whose', 'life', 'was', 'the', 'reality', 'on', 'sky'],\n",
       "  -4.351373400006976,\n",
       "  ['WP$', 'NN', 'VBD', 'DT', 'NN', 'IN', 'NN'],\n",
       "  ['whose', 'pa', 'made', 'a', 'fortune', 'in', 'pork']),\n",
       " (['who', 'hesitated', 'in', 'one', 'of', 'my', 'sky'],\n",
       "  -4.458645139421735,\n",
       "  ['WHO', 'VBD', 'IN', 'CD', 'IN', 'PRP$', 'NNS'],\n",
       "  ['who', 'married', 'on', 'one', 'of', 'his', 'trips']),\n",
       " (['who', 'investigated', 'the', 'way', 'on', 'sky'],\n",
       "  -5.081632296244304,\n",
       "  ['WHO', 'VBD', 'DT', 'NN', 'IN', 'NN'],\n",
       "  ['who', 'hadnt', 'an', 'atom', 'of', 'fear']),\n",
       " (['who', 'at', 'years', 'deserted', 'last', 'night', 'on', 'sky'],\n",
       "  -5.279506206512451,\n",
       "  ['WHO', 'IN', 'NNS', 'VBD', 'JJ', 'NN', 'IN', 'NN'],\n",
       "  ['who', 'on', 'apples', 'was', 'quite', 'fond', 'of', 'feedin']),\n",
       " (['who', 'deteriorated', 'in', 'large', 'sky'],\n",
       "  -5.725870132446289,\n",
       "  ['WHO', 'VBD', 'IN', 'JJ', 'NN'],\n",
       "  ['who', 'lived', 'on', 'distilled', 'kerosene'])]"
      ]
     },
     "execution_count": 121,
     "metadata": {},
     "output_type": "execute_result"
    }
   ],
   "source": [
    "p"
   ]
  },
  {
   "cell_type": "code",
   "execution_count": 146,
   "metadata": {},
   "outputs": [
    {
     "name": "stdout",
     "output_type": "stream",
     "text": [
      "['VBD', 'DT', 'NN', 'IN', 'DT', 'NN']\n",
      "INFO:tensorflow:Restoring parameters from py_files/models/all_combined_back\\model.ckpt-120000\n",
      "['VBD', 'DT', 'CD', 'TO', 'DT', 'NN']\n",
      "INFO:tensorflow:Restoring parameters from py_files/models/all_combined_back\\model.ckpt-120000\n",
      "['MD', 'RB', 'VB', 'RP', 'TO', 'NN']\n",
      "INFO:tensorflow:Restoring parameters from py_files/models/all_combined_back\\model.ckpt-120000\n",
      "['PRP', 'MD', 'VB', 'TO', 'DT', 'NN']\n",
      "INFO:tensorflow:Restoring parameters from py_files/models/all_combined_back\\model.ckpt-120000\n",
      "['PRP', 'VBD', 'IN', 'DT', 'NN']\n",
      "INFO:tensorflow:Restoring parameters from py_files/models/all_combined_back\\model.ckpt-120000\n"
     ]
    }
   ],
   "source": [
    "p=lg.gen_best_line('height', set_of_templates=third_line, rand_templates=5, num_sylls=8)"
   ]
  },
  {
   "cell_type": "code",
   "execution_count": 147,
   "metadata": {},
   "outputs": [
    {
     "data": {
      "text/plain": [
       "[(['i', 'hesitated', 'with', 'some', 'height'],\n",
       "  -3.943877410888672,\n",
       "  ['PRP', 'VBD', 'IN', 'DT', 'NN'],\n",
       "  ['it', 'said', 'on', 'the', 'door']),\n",
       " (['was', 'no', 'one', 'to', 'every', 'height'],\n",
       "  -4.294746081034343,\n",
       "  ['VBD', 'DT', 'CD', 'TO', 'DT', 'NN'],\n",
       "  ['said', 'the', 'two', 'to', 'the', 'tutor']),\n",
       " (['will', 'probably', 'come', 'back', 'to', 'height'],\n",
       "  -4.311198552449544,\n",
       "  ['MD', 'RB', 'VB', 'RP', 'TO', 'NN'],\n",
       "  [\"'did\", 'not', 'rush', 'off', 'to', 'town']),\n",
       " (['ourselves', 'will', 'come', 'to', 'each', 'height'],\n",
       "  -4.62187131245931,\n",
       "  ['PRP', 'MD', 'VB', 'TO', 'DT', 'NN'],\n",
       "  ['he', 'would', 'go', 'to', 'a', 'party'])]"
      ]
     },
     "execution_count": 147,
     "metadata": {},
     "output_type": "execute_result"
    }
   ],
   "source": [
    "p"
   ]
  },
  {
   "cell_type": "markdown",
   "metadata": {},
   "source": [
    "## Gen Poem"
   ]
  },
  {
   "cell_type": "code",
   "execution_count": 148,
   "metadata": {},
   "outputs": [
    {
     "name": "stderr",
     "output_type": "stream",
     "text": [
      "c:\\users\\hp\\anaconda2\\envs\\translator\\lib\\site-packages\\gensim\\matutils.py:737: FutureWarning: Conversion of the second argument of issubdtype from `int` to `np.signedinteger` is deprecated. In future, it will be treated as `np.int32 == np.dtype(int).type`.\n",
      "  if np.issubdtype(vec.dtype, np.int):\n"
     ]
    },
    {
     "name": "stdout",
     "output_type": "stream",
     "text": [
      "['WHO', 'VBD', 'IN', 'DT', 'NN', 'IN', 'NNS']\n",
      "INFO:tensorflow:Restoring parameters from py_files/models/all_combined_back\\model.ckpt-120000\n",
      "['WP$', 'NN', 'VBD', 'RB', 'JJR', 'THAN', 'NN']\n",
      "INFO:tensorflow:Restoring parameters from py_files/models/all_combined_back\\model.ckpt-120000\n",
      "['WHO', 'VBD', 'AS', 'PRP', 'VBD', 'IN', 'DT', 'NN']\n",
      "INFO:tensorflow:Restoring parameters from py_files/models/all_combined_back\\model.ckpt-120000\n",
      "['WHO', 'VBD', 'RP', 'PRP$', 'NNS', 'IN', 'DT', 'NN']\n",
      "INFO:tensorflow:Restoring parameters from py_files/models/all_combined_back\\model.ckpt-120000\n",
      "['WHO', 'VBD', 'DT', 'PRP$', 'NN', 'IN', 'DT', 'NN']\n",
      "INFO:tensorflow:Restoring parameters from py_files/models/all_combined_back\\model.ckpt-120000\n",
      "[(['who', 'came', 'to', 'the', 'elevator', 'out', 'height'], -3.9964888436453685, ['WHO', 'VBD', 'IN', 'DT', 'NN', 'IN', 'NNS'], ['who', 'slipped', 'on', 'a', 'peel', 'of', 'bananas']), (['who', 'came', 'on', 'my', 'hands', 'in', 'every', 'height'], -4.1248602867126465, ['WHO', 'VBD', 'RP', 'PRP$', 'NNS', 'IN', 'DT', 'NN'], ['who', 'sent', 'out', 'his', 'cards', 'for', 'a', 'party']), (['who', 'were', 'as', 'ourselves', 'seemed', 'to', 'some', 'height'], -4.955960750579834, ['WHO', 'VBD', 'AS', 'PRP', 'VBD', 'IN', 'DT', 'NN'], ['who', 'smiled', 'as', 'she', 'rode', 'on', 'a', 'tiger']), (['whose', 'life', 'was', 'absolutely', 'less', 'than', 'height'], -5.163310459681919, ['WP$', 'NN', 'VBD', 'RB', 'JJR', 'THAN', 'NN'], ['whose', 'speed', 'was', 'much', 'faster', 'than', 'light']), (['who', 'had', 'all', 'my', 'love', 'addition', 'some', 'height'], -5.454594135284424, ['WHO', 'VBD', 'DT', 'PRP$', 'NN', 'IN', 'DT', 'NN'], ['who', 'kept', 'all', 'his', 'cash', 'in', 'a', 'bucket'])]\n",
      "['VBD', 'DT', 'NN', ',', 'VB', 'PRP', 'VB']\n",
      "['VBD', 'DT', 'NN', ',', 'VB', 'RB', 'VB']\n",
      "['PRP', 'VBD', 'CD', 'TO', 'NN']\n"
     ]
    },
    {
     "ename": "ValueError",
     "evalue": "No lines can be constructed",
     "output_type": "error",
     "traceback": [
      "\u001b[1;31m---------------------------------------------------------------------------\u001b[0m",
      "\u001b[1;31mValueError\u001b[0m                                Traceback (most recent call last)",
      "\u001b[1;32m<ipython-input-148-287535113fb7>\u001b[0m in \u001b[0;36m<module>\u001b[1;34m()\u001b[0m\n\u001b[1;32m----> 1\u001b[1;33m \u001b[0mpoem\u001b[0m\u001b[1;33m=\u001b[0m\u001b[0mlg\u001b[0m\u001b[1;33m.\u001b[0m\u001b[0mgen_poem_independent_matias\u001b[0m\u001b[1;33m(\u001b[0m\u001b[1;34m'height'\u001b[0m\u001b[1;33m,\u001b[0m \u001b[1;36m10\u001b[0m\u001b[1;33m)\u001b[0m\u001b[1;33m\u001b[0m\u001b[0m\n\u001b[0m",
      "\u001b[1;32m~\\Documents\\Poetix18\\py_files\\Limericks.py\u001b[0m in \u001b[0;36mgen_poem_independent_matias\u001b[1;34m(self, seed_word, first_line_sylls, rand_template)\u001b[0m\n\u001b[0;32m    549\u001b[0m             \u001b[1;32melif\u001b[0m \u001b[0mi\u001b[0m\u001b[1;33m==\u001b[0m\u001b[1;36m2\u001b[0m\u001b[1;33m:\u001b[0m\u001b[1;33m\u001b[0m\u001b[0m\n\u001b[0;32m    550\u001b[0m                 \u001b[0mthis_line_sylls\u001b[0m \u001b[1;33m=\u001b[0m \u001b[0mthird_line_sylls\u001b[0m\u001b[1;33m\u001b[0m\u001b[0m\n\u001b[1;32m--> 551\u001b[1;33m                 \u001b[0mout\u001b[0m \u001b[1;33m=\u001b[0m \u001b[0mself\u001b[0m\u001b[1;33m.\u001b[0m\u001b[0mgen_best_line\u001b[0m\u001b[1;33m(\u001b[0m\u001b[0mw\u001b[0m\u001b[1;33m,\u001b[0m \u001b[0mnum_sylls\u001b[0m\u001b[1;33m=\u001b[0m\u001b[0mthis_line_sylls\u001b[0m\u001b[1;33m,\u001b[0m \u001b[0mset_of_templates\u001b[0m\u001b[1;33m=\u001b[0m\u001b[0mthird_line_\u001b[0m\u001b[1;33m)\u001b[0m\u001b[1;33m\u001b[0m\u001b[0m\n\u001b[0m\u001b[0;32m    552\u001b[0m             \u001b[1;32melif\u001b[0m \u001b[0mi\u001b[0m\u001b[1;33m==\u001b[0m\u001b[1;36m3\u001b[0m\u001b[1;33m:\u001b[0m\u001b[1;33m\u001b[0m\u001b[0m\n\u001b[0;32m    553\u001b[0m                 \u001b[0mout\u001b[0m \u001b[1;33m=\u001b[0m \u001b[0mself\u001b[0m\u001b[1;33m.\u001b[0m\u001b[0mgen_best_line\u001b[0m\u001b[1;33m(\u001b[0m\u001b[0mw\u001b[0m\u001b[1;33m,\u001b[0m \u001b[0mnum_sylls\u001b[0m\u001b[1;33m=\u001b[0m\u001b[0mthird_line_sylls\u001b[0m\u001b[1;33m,\u001b[0m \u001b[0mtemplates\u001b[0m\u001b[1;33m=\u001b[0m\u001b[0mfourth\u001b[0m\u001b[1;33m)\u001b[0m\u001b[1;33m\u001b[0m\u001b[0m\n",
      "\u001b[1;32m~\\Documents\\Poetix18\\py_files\\Limericks.py\u001b[0m in \u001b[0;36mgen_best_line\u001b[1;34m(self, w1, pos, templates, set_of_templates, rand_templates, num_sylls, state, score, return_state)\u001b[0m\n\u001b[0;32m    458\u001b[0m         \u001b[0mlines\u001b[0m\u001b[1;33m.\u001b[0m\u001b[0msort\u001b[0m\u001b[1;33m(\u001b[0m\u001b[0mkey\u001b[0m\u001b[1;33m=\u001b[0m\u001b[1;32mlambda\u001b[0m \u001b[0mx\u001b[0m\u001b[1;33m:\u001b[0m \u001b[0mx\u001b[0m\u001b[1;33m[\u001b[0m\u001b[1;36m1\u001b[0m\u001b[1;33m]\u001b[0m\u001b[1;33m,\u001b[0m \u001b[0mreverse\u001b[0m \u001b[1;33m=\u001b[0m \u001b[1;32mTrue\u001b[0m\u001b[1;33m)\u001b[0m\u001b[1;33m\u001b[0m\u001b[0m\n\u001b[0;32m    459\u001b[0m         \u001b[1;32mif\u001b[0m \u001b[0mlen\u001b[0m\u001b[1;33m(\u001b[0m\u001b[0mlines\u001b[0m\u001b[1;33m)\u001b[0m\u001b[1;33m==\u001b[0m\u001b[1;36m0\u001b[0m\u001b[1;33m:\u001b[0m\u001b[1;33m\u001b[0m\u001b[0m\n\u001b[1;32m--> 460\u001b[1;33m             \u001b[1;32mraise\u001b[0m \u001b[0mValueError\u001b[0m\u001b[1;33m(\u001b[0m\u001b[1;34m'No lines can be constructed'\u001b[0m\u001b[1;33m)\u001b[0m\u001b[1;33m\u001b[0m\u001b[0m\n\u001b[0m\u001b[0;32m    461\u001b[0m         \u001b[1;32mreturn\u001b[0m \u001b[0mlines\u001b[0m\u001b[1;33m\u001b[0m\u001b[0m\n\u001b[0;32m    462\u001b[0m \u001b[1;33m\u001b[0m\u001b[0m\n",
      "\u001b[1;31mValueError\u001b[0m: No lines can be constructed"
     ]
    }
   ],
   "source": [
    "poem=lg.gen_poem_independent_matias('height', 10)"
   ]
  },
  {
   "cell_type": "code",
   "execution_count": 144,
   "metadata": {},
   "outputs": [
    {
     "data": {
      "text/plain": [
       "[(['who', 'saw', 'it', 'curiously', 'in', 'the', 'sky'],\n",
       "  -4.016473225184849,\n",
       "  ['WHO', 'VBD', 'PRP', 'RB', 'IN', 'DT', 'NN'],\n",
       "  ['who', 'found', 'himself', 'quite', 'at', 'a', 'loss']),\n",
       " (['i', 'believe', 'the', 'mine', 'birth'],\n",
       "  -3.178923797607422,\n",
       "  ['PRP', 'VBP', 'DT', 'NN', 'NN'],\n",
       "  ['you', 'are', 'a', 'simpleton', 'loon']),\n",
       " (['it', 'was', 'so', 'little', 'earth'],\n",
       "  -3.326568603515625,\n",
       "  ['PRP', 'VBD', 'SO', 'JJ', 'NN'],\n",
       "  ['she', 'ate', 'so', 'much', 'spice']),\n",
       " (['it', 'is', 'any', 'words', 'of', 'love', 'for', 'me', 'lie'],\n",
       "  -3.3755276997884116,\n",
       "  ['PRP', 'VBZ', 'DT', 'NNS', 'IN', 'NN', 'IN', 'PRP', 'VBP'],\n",
       "  ['it', \"'s\", 'the', 'people', 'in', 'front', 'that', 'I', 'jar'])]"
      ]
     },
     "execution_count": 144,
     "metadata": {},
     "output_type": "execute_result"
    }
   ],
   "source": [
    "poem"
   ]
  },
  {
   "cell_type": "code",
   "execution_count": 151,
   "metadata": {},
   "outputs": [
    {
     "name": "stderr",
     "output_type": "stream",
     "text": [
      "c:\\users\\hp\\anaconda2\\envs\\translator\\lib\\site-packages\\gensim\\matutils.py:737: FutureWarning: Conversion of the second argument of issubdtype from `int` to `np.signedinteger` is deprecated. In future, it will be treated as `np.int32 == np.dtype(int).type`.\n",
      "  if np.issubdtype(vec.dtype, np.int):\n"
     ]
    },
    {
     "name": "stdout",
     "output_type": "stream",
     "text": [
      "five words are: \n",
      "('goodbye', 'sky', 'birth', 'earth', 'lie')\n",
      "['WHO', 'VBD', 'AS', 'PRP', 'VBD', 'IN', 'DT', 'NN']\n",
      "INFO:tensorflow:Restoring parameters from py_files/models/all_combined_back\\model.ckpt-120000\n",
      "['WHO', 'VBD', 'RP', 'PRP$', 'NNS', 'IN', 'DT', 'NN']\n",
      "INFO:tensorflow:Restoring parameters from py_files/models/all_combined_back\\model.ckpt-120000\n",
      "['WHO', 'VBD', 'IN', 'CD', 'IN', 'PRP$', 'NNS']\n",
      "INFO:tensorflow:Restoring parameters from py_files/models/all_combined_back\\model.ckpt-120000\n",
      "['WHO', 'VBD', 'DT', 'JJ', 'NN', 'IN', 'PRP$', 'NN']\n",
      "INFO:tensorflow:Restoring parameters from py_files/models/all_combined_back\\model.ckpt-120000\n",
      "['WHO', 'VBD', 'IN', 'JJ', 'NN']\n",
      "INFO:tensorflow:Restoring parameters from py_files/models/all_combined_back\\model.ckpt-120000\n",
      "['VBD', 'DT', 'NN', ',', 'DT', 'NN']\n",
      "INFO:tensorflow:Restoring parameters from py_files/models/all_combined_back\\model.ckpt-120000\n",
      "['PRP', 'VBD', 'RP', 'CD', 'NN']\n",
      "INFO:tensorflow:Restoring parameters from py_files/models/all_combined_back\\model.ckpt-120000\n",
      "['PDT', 'DT', 'NNS', 'VBD', 'IN']\n",
      "INFO:tensorflow:Restoring parameters from py_files/models/all_combined_back\\model.ckpt-120000\n",
      "['VBN', 'TO', 'DT', 'NN']\n",
      "INFO:tensorflow:Restoring parameters from py_files/models/all_combined_back\\model.ckpt-120000\n",
      "['THAN', 'DT', 'NN', 'IN', 'NN']\n",
      "INFO:tensorflow:Restoring parameters from py_files/models/all_combined_back\\model.ckpt-120000\n",
      "['PRP', 'VBZ', 'DT', 'NNS', 'IN', 'NN', 'IN', 'PRP', 'VBP']\n",
      "INFO:tensorflow:Restoring parameters from py_files/models/all_combined_back\\model.ckpt-120000\n",
      "INFO:tensorflow:Restoring parameters from py_files/models/all_combined_back\\model.ckpt-120000\n",
      "['PRP', 'VBD', 'SO', 'JJ', 'NN']\n",
      "INFO:tensorflow:Restoring parameters from py_files/models/all_combined_back\\model.ckpt-120000\n",
      "['IN', 'DT', 'JJ', 'NN', 'PRP', 'VBP']\n",
      "INFO:tensorflow:Restoring parameters from py_files/models/all_combined_back\\model.ckpt-120000\n",
      "INFO:tensorflow:Restoring parameters from py_files/models/all_combined_back\\model.ckpt-120000\n",
      "['IF', 'PRP', 'VBD', 'RB', 'VB', 'DT', 'NN']\n",
      "INFO:tensorflow:Restoring parameters from py_files/models/all_combined_back\\model.ckpt-120000\n"
     ]
    },
    {
     "ename": "ValueError",
     "evalue": "no lines can be constructed",
     "output_type": "error",
     "traceback": [
      "\u001b[1;31m---------------------------------------------------------------------------\u001b[0m",
      "\u001b[1;31mValueError\u001b[0m                                Traceback (most recent call last)",
      "\u001b[1;32m<ipython-input-151-69b31b4e077e>\u001b[0m in \u001b[0;36m<module>\u001b[1;34m()\u001b[0m\n\u001b[1;32m----> 1\u001b[1;33m \u001b[0mpoem\u001b[0m\u001b[1;33m=\u001b[0m\u001b[0mlg\u001b[0m\u001b[1;33m.\u001b[0m\u001b[0mgen_poem_conditioned\u001b[0m\u001b[1;33m(\u001b[0m\u001b[1;34m'sky'\u001b[0m\u001b[1;33m,\u001b[0m\u001b[1;36m10\u001b[0m\u001b[1;33m)\u001b[0m\u001b[1;33m\u001b[0m\u001b[0m\n\u001b[0m",
      "\u001b[1;32m~\\Documents\\Poetix18\\py_files\\Limericks.py\u001b[0m in \u001b[0;36mgen_poem_conditioned\u001b[1;34m(self, seed_word, second_line_sylls, rand_template)\u001b[0m\n\u001b[0;32m    616\u001b[0m         \u001b[0mlast\u001b[0m\u001b[1;33m.\u001b[0m\u001b[0msort\u001b[0m\u001b[1;33m(\u001b[0m\u001b[0mkey\u001b[0m\u001b[1;33m=\u001b[0m\u001b[1;32mlambda\u001b[0m \u001b[0mx\u001b[0m\u001b[1;33m:\u001b[0m \u001b[0mx\u001b[0m\u001b[1;33m[\u001b[0m\u001b[1;36m2\u001b[0m\u001b[1;33m]\u001b[0m\u001b[1;33m,\u001b[0m \u001b[0mreverse\u001b[0m \u001b[1;33m=\u001b[0m \u001b[1;32mTrue\u001b[0m\u001b[1;33m)\u001b[0m\u001b[1;33m\u001b[0m\u001b[0m\n\u001b[0;32m    617\u001b[0m         \u001b[1;32mif\u001b[0m \u001b[0mlen\u001b[0m\u001b[1;33m(\u001b[0m\u001b[0mlast\u001b[0m\u001b[1;33m)\u001b[0m\u001b[1;33m==\u001b[0m\u001b[1;36m0\u001b[0m\u001b[1;33m:\u001b[0m\u001b[1;33m\u001b[0m\u001b[0m\n\u001b[1;32m--> 618\u001b[1;33m             \u001b[1;32mraise\u001b[0m \u001b[0mValueError\u001b[0m\u001b[1;33m(\u001b[0m\u001b[1;34m'no lines can be constructed'\u001b[0m\u001b[1;33m)\u001b[0m\u001b[1;33m\u001b[0m\u001b[0m\n\u001b[0m\u001b[0;32m    619\u001b[0m         \u001b[0mline4\u001b[0m\u001b[1;33m=\u001b[0m\u001b[0mlast\u001b[0m\u001b[1;33m[\u001b[0m\u001b[1;36m0\u001b[0m\u001b[1;33m]\u001b[0m\u001b[1;33m[\u001b[0m\u001b[1;36m0\u001b[0m\u001b[1;33m]\u001b[0m\u001b[1;33m[\u001b[0m\u001b[1;36m0\u001b[0m\u001b[1;33m]\u001b[0m\u001b[1;33m\u001b[0m\u001b[0m\n\u001b[0;32m    620\u001b[0m         \u001b[0mscore4\u001b[0m\u001b[1;33m=\u001b[0m\u001b[0mlast\u001b[0m\u001b[1;33m[\u001b[0m\u001b[1;36m0\u001b[0m\u001b[1;33m]\u001b[0m\u001b[1;33m[\u001b[0m\u001b[1;36m0\u001b[0m\u001b[1;33m]\u001b[0m\u001b[1;33m[\u001b[0m\u001b[1;36m1\u001b[0m\u001b[1;33m]\u001b[0m\u001b[1;33m\u001b[0m\u001b[0m\n",
      "\u001b[1;31mValueError\u001b[0m: no lines can be constructed"
     ]
    }
   ],
   "source": [
    "poem=lg.gen_poem_conditioned('sky',10)"
   ]
  },
  {
   "cell_type": "code",
   "execution_count": 2,
   "metadata": {},
   "outputs": [],
   "source": [
    "pronouns = {\n",
    "            'he': 'she',\n",
    "            'him':'her',\n",
    "            'his': 'hers'\n",
    "            }\n",
    "inv_pronouns = {v: k for k, v in pronouns.items()}\n",
    "\n",
    "def postprocess_gender_continuity(poem):\n",
    "    found_pronoun = False\n",
    "    male_pronouns = set(pronouns.keys())\n",
    "    female_pronouns = set(inv_pronouns.keys())\n",
    "    for line in poem:\n",
    "        for i, word in enumerate(line):\n",
    "            if not found_pronoun:\n",
    "                if word in male_pronouns:\n",
    "                    found_pronoun = True\n",
    "                    is_female = False\n",
    "                if word in female_pronouns:\n",
    "                    found_pronoun = True\n",
    "                    is_female = True\n",
    "            else:\n",
    "                if is_female and word in male_pronouns:\n",
    "                    line[i] = pronouns[word]\n",
    "                if is_male and word in female_pronouns:\n",
    "                    line[i] = inv_pronouns[word]"
   ]
  },
  {
   "cell_type": "code",
   "execution_count": null,
   "metadata": {},
   "outputs": [],
   "source": []
  }
 ],
 "metadata": {
  "kernelspec": {
   "display_name": "Python 3",
   "language": "python",
   "name": "python3"
  },
  "language_info": {
   "codemirror_mode": {
    "name": "ipython",
    "version": 3
   },
   "file_extension": ".py",
   "mimetype": "text/x-python",
   "name": "python",
   "nbconvert_exporter": "python",
   "pygments_lexer": "ipython3",
   "version": "3.6.7"
  }
 },
 "nbformat": 4,
 "nbformat_minor": 2
}
