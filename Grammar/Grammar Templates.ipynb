{
 "cells": [
  {
   "cell_type": "code",
   "execution_count": null,
   "metadata": {},
   "outputs": [],
   "source": [
    "import nltk\n",
    "import re\n",
    "from numpy.random import choice\n",
    "from functools import reduce\n",
    "\n",
    "poets = {\"Shakespeare\" : \"Shakespeare_Sonnets.txt\", \"Frost\" : \"Robert_Frost.txt\", \"Whitman\" : \"Walt_Whitman.txt\"}\n",
    "\n",
    "def build_templates(poets):\n",
    "    templates = {}\n",
    "    \n",
    "    # Threshold for template length. Templates are ignored if they are longer than this value.\n",
    "    threshold = 10\n",
    "\n",
    "    for poet, filename in poets.items():\n",
    "        poet_template = {}\n",
    "\n",
    "        with open(filename, \"r\") as f:\n",
    "            for line in list(filter(lambda x: len(x) > 10, f)):\n",
    "                line = line.strip()\n",
    "                # Uncomment to strip punctuation\n",
    "                # line = re.sub(r'[^\\w\\s]', '', line)\n",
    "                text = nltk.word_tokenize(line)\n",
    "                template = [word[1] for word in nltk.pos_tag(text)]\n",
    "                \n",
    "                # If the template length exceeds the threshold, don't include it\n",
    "                if len(template) > threshold:\n",
    "                    continue\n",
    "                    \n",
    "                template_str = \"-\".join(template)\n",
    "                \n",
    "                count = poet_template.get(template_str, 0)\n",
    "                poet_template[template_str] = count + 1\n",
    "                \n",
    "        # Filter out rare templates that only occurred once in corpus\n",
    "        filtered_templates = { template : val for template, val in poet_template.items() if val > 1 }\n",
    "        \n",
    "        # Find the total number of processed lines by summing the counts in the filtered dictionary\n",
    "        total_count = reduce(lambda a, b: a + b, filtered_templates.values())\n",
    "        \n",
    "        # Get a list of the unique templates\n",
    "        candidates = list(filtered_templates.keys())\n",
    "            \n",
    "        # Compute the probability distribution and store it under the poet's name\n",
    "        probability_dist = list(map(lambda x: filtered_templates[x] / total_count, candidates))\n",
    "        templates[poet] = (candidates, probability_dist)\n",
    "        \n",
    "    return templates\n",
    "\n",
    "def random_weighted_template(templates, poet):\n",
    "    candidates, dist = templates[poet][0], templates[poet][1]\n",
    "    template_index = choice(range(len(candidates)), 1, p=dist).item()\n",
    "\n",
    "    return candidates[template_index].split(\"-\")\n",
    "\n",
    "templates = build_templates(poets)"
   ]
  },
  {
   "cell_type": "code",
   "execution_count": null,
   "metadata": {},
   "outputs": [],
   "source": [
    "print(random_weighted_template(templates, \"Frost\"))"
   ]
  },
  {
   "cell_type": "code",
   "execution_count": null,
   "metadata": {},
   "outputs": [],
   "source": [
    "def build_common_words(poets):\n",
    "    word_counts = {}\n",
    "    \n",
    "    for poet, filename in poets.items():\n",
    "        with open(filename, \"r\") as f:\n",
    "            for line in list(filter(lambda x: len(x) > 10, f)):\n",
    "                line = line.strip()\n",
    "\n",
    "                words = line.split()\n",
    "                for word in words:\n",
    "                    count = word_counts.get(word, 0)\n",
    "                    word_counts[word] = count + 1\n",
    "                    \n",
    "    words = list(word_counts.keys())\n",
    "    words.sort(key=lambda x: -word_counts[x])\n",
    "                \n",
    "    return word_counts, words\n",
    "        \n",
    "word_counts, words = build_common_words(poets)"
   ]
  },
  {
   "cell_type": "code",
   "execution_count": null,
   "metadata": {},
   "outputs": [],
   "source": [
    "print(words[:100])"
   ]
  }
 ],
 "metadata": {
  "kernelspec": {
   "display_name": "Python 3",
   "language": "python",
   "name": "python3"
  },
  "language_info": {
   "codemirror_mode": {
    "name": "ipython",
    "version": 3
   },
   "file_extension": ".py",
   "mimetype": "text/x-python",
   "name": "python",
   "nbconvert_exporter": "python",
   "pygments_lexer": "ipython3",
   "version": "3.7.0"
  }
 },
 "nbformat": 4,
 "nbformat_minor": 2
}
