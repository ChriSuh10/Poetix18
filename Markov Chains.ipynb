{
 "cells": [
  {
   "cell_type": "code",
   "execution_count": 1,
   "metadata": {},
   "outputs": [],
   "source": [
    "%load_ext autoreload\n",
    "%autoreload 2"
   ]
  },
  {
   "cell_type": "code",
   "execution_count": 17,
   "metadata": {},
   "outputs": [],
   "source": [
    "from py_files.Limericks import Limerick_Generate\n",
    "from py_files.templates import *\n",
    "\n",
    "import re\n",
    "import random"
   ]
  },
  {
   "cell_type": "code",
   "execution_count": 152,
   "metadata": {},
   "outputs": [],
   "source": [
    "def clean_corpus(file):\n",
    "    corpus = open(file, encoding='latin1')\n",
    "    raw_text = corpus.read()\n",
    "    \n",
    "    processed_text = re.sub(r'[0-9]', r'', raw_text)\n",
    "    processed_text = re.sub(r'\\n\\n', r' ', processed_text)\n",
    "    processed_text = re.sub(r'[.,?!;:]', r'', processed_text).lower().split()\n",
    "    corpus.close()\n",
    "    return processed_text\n",
    "\n",
    "def train_on_corpus(processed_text):\n",
    "    chain = {}\n",
    "    for i in range(1, len(processed_text)):\n",
    "        key = processed_text[i - 1]\n",
    "        token = processed_text[i]\n",
    "        if key not in chain:\n",
    "            chain[key] = []\n",
    "        chain[key].append(token)\n",
    "    return chain"
   ]
  },
  {
   "cell_type": "code",
   "execution_count": 153,
   "metadata": {},
   "outputs": [],
   "source": [
    "all_tokens = [*clean_corpus('data/all_combined/input.txt'), *clean_corpus('data/limericks.txt')]\n",
    "forward_chain = train_on_corpus(all_tokens)"
   ]
  },
  {
   "cell_type": "code",
   "execution_count": 154,
   "metadata": {},
   "outputs": [],
   "source": [
    "all_tokens.reverse()\n",
    "backward_chain = train_on_corpus(all_tokens)"
   ]
  },
  {
   "cell_type": "code",
   "execution_count": 83,
   "metadata": {},
   "outputs": [],
   "source": [
    "lg = Limerick_Generate()"
   ]
  },
  {
   "cell_type": "code",
   "execution_count": 165,
   "metadata": {},
   "outputs": [],
   "source": [
    "def fill_word_pos(chain, pos, prev):\n",
    "    if pos in ['.', ',']:\n",
    "        return pos\n",
    "    i = 0\n",
    "    if prev is None or prev is '[EMPTY]':\n",
    "        word = random.choice(list(chain.keys()))\n",
    "        while pos not in lg.words_to_pos[word] and i < 100:\n",
    "            word = random.choice(list(chain.keys()))\n",
    "            i += 1\n",
    "        if i >= 100:\n",
    "            word = random.choice(lg.pos_to_words[pos])\n",
    "        return word\n",
    "    # o/w has a previous word\n",
    "    word = random.choice(chain[prev])\n",
    "    while pos not in lg.words_to_pos[word] and i < 100:\n",
    "        word = random.choice(chain[prev])\n",
    "        i += 1\n",
    "    if i >= 100:\n",
    "        word = random.choice(lg.pos_to_words[pos])\n",
    "    return word\n",
    "        \n",
    "def fill_forward(template):\n",
    "    prev_word = None\n",
    "    line = []\n",
    "    for pos in template:\n",
    "        line.append(fill_word_pos(forward_chain, pos, prev_word))\n",
    "        prev_word = line[-1]\n",
    "    return line\n",
    "    \n",
    "def fill_rand_templates(template, num_gen=10):\n",
    "    for i in range(num_gen):\n",
    "        line = fill_forward(t)\n",
    "        print(\"*****************\")\n",
    "        print(line)\n",
    "        print(t)"
   ]
  },
  {
   "cell_type": "code",
   "execution_count": 80,
   "metadata": {},
   "outputs": [
    {
     "name": "stdout",
     "output_type": "stream",
     "text": [
      "['oh', 'how', 'modern', '!', 'the', 'critics', 'will', 'say']\n",
      "*****************\n",
      "[\"'scape\", 'us-', 'o', 'you', 'any', 'images', 'from', 'mount']\n",
      "['UH', 'WRB', 'JJ', '.', 'DT', 'NNS', 'MD', 'VB']\n",
      "*****************\n",
      "['outstretching', 'of', 'singular', 'sweetness', 'speak', 'words', 'would', 'know']\n",
      "['UH', 'WRB', 'JJ', '.', 'DT', 'NNS', 'MD', 'VB']\n",
      "*****************\n",
      "[\"to't\", \"i'd\", 'bubble', 'of', 'the', 'ages', 'hence:', 'yet']\n",
      "['UH', 'WRB', 'JJ', '.', 'DT', 'NNS', 'MD', 'VB']\n",
      "*****************\n",
      "['pasture', 'where', 'thou', 'freest', 'waters', 'animals', 'can', 'wait']\n",
      "['UH', 'WRB', 'JJ', '.', 'DT', 'NNS', 'MD', 'VB']\n",
      "*****************\n",
      "['renovates', 'and', 'flat', 'leather', 'that', 'lies', 'would', 'come']\n",
      "['UH', 'WRB', 'JJ', '.', 'DT', 'NNS', 'MD', 'VB']\n",
      "*****************\n",
      "['given', 'up', 'hoarse', 'voice', 'that', 'others', 'will', 'see']\n",
      "['UH', 'WRB', 'JJ', '.', 'DT', 'NNS', 'MD', 'VB']\n",
      "*****************\n",
      "['them\\x97old', \"age's\", 'lambent', 'peaks', 'the', 'bushes', 'at', 'risk']\n",
      "['UH', 'WRB', 'JJ', '.', 'DT', 'NNS', 'MD', 'VB']\n",
      "*****************\n",
      "['cornices)', 'all', 'right', 'about', 'this', 'evenings', 'we', 'think']\n",
      "['UH', 'WRB', 'JJ', '.', 'DT', 'NNS', 'MD', 'VB']\n",
      "*****************\n",
      "['strutted', 'up', 'enough', 'to', 'a', 'young', 'leaves', 'lie']\n",
      "['UH', 'WRB', 'JJ', '.', 'DT', 'NNS', 'MD', 'VB']\n",
      "*****************\n",
      "['bodiless', 'scenes', 'spiritual', 'istic', 'had', 'moccasins', 'and', 'hit']\n",
      "['UH', 'WRB', 'JJ', '.', 'DT', 'NNS', 'MD', 'VB']\n"
     ]
    }
   ],
   "source": [
    "l = random.choice(list(dataset.values()))\n",
    "t, og = random.choice(l)\n",
    "print(og)\n",
    "fill_rand_templates(t)"
   ]
  },
  {
   "cell_type": "code",
   "execution_count": 86,
   "metadata": {},
   "outputs": [],
   "source": [
    "first_templates = get_first_line()\n",
    "dataset, second_line, third_line, last_two = get_templates()\n",
    "templates = {\n",
    "    1: first_templates,\n",
    "    2: second_line,\n",
    "    3: third_line,\n",
    "    4: last_two\n",
    "}"
   ]
  },
  {
   "cell_type": "code",
   "execution_count": 190,
   "metadata": {},
   "outputs": [],
   "source": [
    "def fill_backward(template, prev_word=None):\n",
    "    if prev_word:\n",
    "        line = [prev_word]\n",
    "    else:\n",
    "        line = []\n",
    "    i = len(template) - len(line) - 1\n",
    "    while i >= 0:\n",
    "        pos = template[i]\n",
    "        line.insert(0, fill_word_pos(backward_chain, pos, prev_word))\n",
    "        if line[0] not in ['.', ',']:\n",
    "            prev_word = line[0]\n",
    "        i -= 1\n",
    "    return line\n",
    "\n",
    "def gen_poem(five_words):\n",
    "    poem = []\n",
    "    for i in range(3):\n",
    "        word_pos = lg.words_to_pos[five_words[i]][0]\n",
    "        t, og = random.choice(templates[i + 1][word_pos])\n",
    "        poem.append((fill_backward(t, prev_word=five_words[i]), t, og))\n",
    "    last_two_pos = lg.words_to_pos[five_words[3]][0] + '-' + lg.words_to_pos[five_words[4]][0]\n",
    "    t, og, idx = random.choice(templates[4][last_two_pos])\n",
    "    poem.append((fill_backward(t[:idx + 1], prev_word=five_words[3]), t[:idx + 1], og[:idx + 1]))\n",
    "    poem.append((fill_backward(t[idx + 1:], prev_word=five_words[4]), t[idx + 1:], og[idx + 1:]))\n",
    "    return poem"
   ]
  },
  {
   "cell_type": "code",
   "execution_count": 187,
   "metadata": {},
   "outputs": [
    {
     "data": {
      "text/plain": [
       "('thrace', 'face', 'report', 'court', 'case')"
      ]
     },
     "execution_count": 187,
     "metadata": {},
     "output_type": "execute_result"
    }
   ],
   "source": [
    "lg.get_five_words('face')"
   ]
  },
  {
   "cell_type": "code",
   "execution_count": 186,
   "metadata": {},
   "outputs": [],
   "source": [
    "lg.words_to_pos[''].remove('NNP')\n",
    "lg.pos_to_words['NNP'].remove('birthplace')"
   ]
  },
  {
   "cell_type": "code",
   "execution_count": 136,
   "metadata": {},
   "outputs": [],
   "source": [
    "def print_poem(five_words):\n",
    "    for line, template, og in gen_poem(five_words):\n",
    "        print(' '.join(line))\n",
    "        print(template)\n",
    "        print(og)\n",
    "        print('**********************')"
   ]
  },
  {
   "cell_type": "code",
   "execution_count": 166,
   "metadata": {},
   "outputs": [
    {
     "name": "stdout",
     "output_type": "stream",
     "text": [
      "all right fair crown of greece\n",
      "['DT', 'JJ', 'JJ', 'NN', 'IN', 'NNP']\n",
      "['a', 'silly', 'young', 'man', 'from', 'clyde']\n",
      "**********************\n",
      "who was the lack of peace\n",
      "['WHO', 'VBD', 'DT', 'NN', 'IN', 'NN']\n",
      "['who', 'hadnt', 'an', 'atom', 'of', 'fear']\n",
      "**********************\n",
      "both some brigades inclined mind\n",
      "['PDT', 'DT', 'NNS', 'VBD', 'IN']\n",
      "['all', 'the', 'flowers', 'looked', 'around']\n",
      "**********************\n",
      "these briar and a kind\n",
      "['DT', 'NN', 'CC', 'DT', 'NN']\n",
      "['a', 'howl', 'and', 'a', 'squeak']\n",
      "**********************\n",
      "but your sawyer had only piece\n",
      "['CC', 'PRP$', 'NN', 'VBD', 'RB', 'JJ']\n",
      "['and', 'his', 'language', 'was', 'really', 'good']\n",
      "**********************\n"
     ]
    }
   ],
   "source": [
    "print_poem(('greece', 'peace', 'mind', 'kind', 'piece'))"
   ]
  },
  {
   "cell_type": "code",
   "execution_count": 168,
   "metadata": {},
   "outputs": [
    {
     "name": "stdout",
     "output_type": "stream",
     "text": [
      "that mine whatever found the dane\n",
      "['DT', 'NN', 'WP', 'VBD', 'DT', 'NN']\n",
      "['a', 'tutor', 'who', 'tooted', 'a', 'flute']\n",
      "**********************\n",
      "who dug herself gaily of the gain\n",
      "['WHO', 'VBD', 'PRP', 'RB', 'IN', 'DT', 'NN']\n",
      "['who', 'found', 'himself', 'quite', 'at', 'a', 'loss']\n",
      "**********************\n",
      "both another subjects wrung decrease\n",
      "['PDT', 'DT', 'NNS', 'VBD', 'IN']\n",
      "['all', 'the', 'flowers', 'looked', 'around']\n",
      "**********************\n",
      "that came to its increase\n",
      "['WDT', 'VBD', 'TO', 'PRP$', 'NN']\n",
      "['which', 'came', 'to', 'his', 'aid']\n",
      "**********************\n",
      "took long the mossy vein\n",
      "['VBD', 'RB', 'DT', 'JJ', 'NN']\n",
      "['found', 'only', 'a', 'sleeveless', 'tuxedo']\n",
      "**********************\n"
     ]
    }
   ],
   "source": [
    "print_poem(('dane', 'gain', 'decrease', 'increase', 'vein'))"
   ]
  },
  {
   "cell_type": "code",
   "execution_count": 191,
   "metadata": {},
   "outputs": [
    {
     "name": "stdout",
     "output_type": "stream",
     "text": [
      "there lived a long cedar choked thrace\n",
      "['EX', 'VBD', 'DT', 'JJ', 'NN', 'VBN', 'NNP']\n",
      "['there', 'was', 'a', 'young', 'lady', 'named', 'rose']\n",
      "**********************\n",
      "who made of golden face\n",
      "['WHO', 'VBD', 'IN', 'JJ', 'NN']\n",
      "['who', 'lived', 'on', 'distilled', 'kerosene']\n",
      "**********************\n",
      "the ruin upon your report\n",
      "['DT', 'NN', 'IN', 'PRP$', 'NN']\n",
      "['the', 'cause', 'of', 'his', 'sorrow']\n",
      "**********************\n",
      "ruffled every word in our court\n",
      "['VBD', 'DT', 'NN', 'IN', 'PRP$', 'NNS']\n",
      "['wet', 'the', 'bloom', 'on', 'her', 'cheeks']\n",
      "**********************\n",
      "and they were witty and turned our case\n",
      "['CC', 'PRP', 'VBD', 'RB', 'CC', 'VBD', 'PRP$', 'NN']\n",
      "['and', 'it', 'dropped', 'down', 'and', 'ruined', 'her', 'gown']\n",
      "**********************\n"
     ]
    }
   ],
   "source": [
    "print_poem(('thrace', 'face', 'report', 'court', 'case'))"
   ]
  },
  {
   "cell_type": "code",
   "execution_count": 127,
   "metadata": {},
   "outputs": [
    {
     "name": "stdout",
     "output_type": "stream",
     "text": [
      "The course of Time and nationsEgypt, India, Greece and \n",
      "\n"
     ]
    }
   ],
   "source": [
    "with open('data/all_combined/input.txt', encoding='latin1') as f:\n",
    "    for i, line in enumerate(f):\n",
    "        if i == 40841:\n",
    "            print(line)"
   ]
  },
  {
   "cell_type": "code",
   "execution_count": 197,
   "metadata": {},
   "outputs": [],
   "source": [
    "import pickle\n",
    "\n",
    "with open('py_files/saved_objects/postag_dict_all.p', 'rb') as f:\n",
    "    postag = pickle.load(f)\n",
    "\n",
    "postag[1] = lg.pos_to_words\n",
    "postag[2] = lg.words_to_pos\n",
    "\n",
    "with open('py_files/saved_objects/postag_dict_all.p', 'wb') as f:\n",
    "    pickle.dump(postag, f)"
   ]
  },
  {
   "cell_type": "code",
   "execution_count": null,
   "metadata": {},
   "outputs": [],
   "source": []
  }
 ],
 "metadata": {
  "kernelspec": {
   "display_name": "Python 3",
   "language": "python",
   "name": "python3"
  },
  "language_info": {
   "codemirror_mode": {
    "name": "ipython",
    "version": 3
   },
   "file_extension": ".py",
   "mimetype": "text/x-python",
   "name": "python",
   "nbconvert_exporter": "python",
   "pygments_lexer": "ipython3",
   "version": "3.6.0"
  }
 },
 "nbformat": 4,
 "nbformat_minor": 2
}
