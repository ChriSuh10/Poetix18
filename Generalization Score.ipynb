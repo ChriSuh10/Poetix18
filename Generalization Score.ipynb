{
 "cells": [
  {
   "cell_type": "code",
   "execution_count": 1,
   "metadata": {},
   "outputs": [],
   "source": [
    "from Generate import Generate\n",
    "\n",
    "from nltk.corpus import stopwords\n",
    "import nltk \n",
    "import numpy as np\n",
    "from gensim.models import KeyedVectors\n",
    "\n",
    "import matplotlib.pyplot as plt\n",
    "import os\n",
    "import random"
   ]
  },
  {
   "cell_type": "code",
   "execution_count": 2,
   "metadata": {},
   "outputs": [
    {
     "name": "stdout",
     "output_type": "stream",
     "text": [
      "CPU times: user 1min 46s, sys: 1.7 s, total: 1min 48s\n",
      "Wall time: 1min 48s\n"
     ]
    }
   ],
   "source": [
    "%%time\n",
    "\n",
    "glove_model = KeyedVectors.load_word2vec_format(\"/Users/chris/Downloads/glove.6B/glove.6B.300d.w2v.txt\", \n",
    "                                                binary=False)"
   ]
  },
  {
   "cell_type": "code",
   "execution_count": 3,
   "metadata": {},
   "outputs": [
    {
     "name": "stdout",
     "output_type": "stream",
     "text": [
      "CPU times: user 3.49 s, sys: 138 ms, total: 3.63 s\n",
      "Wall time: 3.64 s\n"
     ]
    }
   ],
   "source": [
    "%%time\n",
    "\n",
    "g = Generate(wv=glove_model)"
   ]
  },
  {
   "cell_type": "code",
   "execution_count": 5,
   "metadata": {},
   "outputs": [
    {
     "name": "stdout",
     "output_type": "stream",
     "text": [
      "['memories', 'old']\n",
      "['NNS', 'JJ']\n",
      "['JJ', 'NNS', 'VBN', 'CC', 'IN', 'NN']\n",
      "First noun: old\n",
      "Last noun: memories\n",
      "['JJ']\n",
      "#################################\n",
      "\n",
      "WARNING:tensorflow:From /Users/chris/projects/poetix/model_forw.py:37: BasicLSTMCell.__init__ (from tensorflow.python.ops.rnn_cell_impl) is deprecated and will be removed in a future version.\n",
      "Instructions for updating:\n",
      "This class is deprecated, please use tf.nn.rnn_cell.LSTMCell, which supports all the feature this cell currently has. Please replace the existing code with tf.nn.rnn_cell.LSTMCell(name='basic_lstm_cell').\n",
      "6885\n",
      "INFO:tensorflow:Restoring parameters from save_2/model.ckpt-63199\n",
      "Generation took 3.946 seconds\n",
      "6885\n",
      "INFO:tensorflow:Restoring parameters from save_2/model.ckpt-63199\n",
      "INFO:tensorflow:Restoring parameters from save_2/model.ckpt-63199\n",
      "INFO:tensorflow:Restoring parameters from frost_model/model.ckpt-227699\n",
      "['memories', 'old']\n",
      "['NNS', 'JJ']\n",
      "['NNP', 'JJ', 'NNS', 'IN', 'NN']\n",
      "First noun: old\n",
      "Last noun: memories\n",
      "['JJ']\n",
      "#################################\n",
      "\n",
      "6885\n",
      "INFO:tensorflow:Restoring parameters from save_2/model.ckpt-63199\n",
      "Generation took 3.193 seconds\n",
      "6885\n",
      "INFO:tensorflow:Restoring parameters from save_2/model.ckpt-63199\n",
      "INFO:tensorflow:Restoring parameters from save_2/model.ckpt-63199\n",
      "INFO:tensorflow:Restoring parameters from frost_model/model.ckpt-227699\n",
      "['memories', 'old']\n",
      "['NNS', 'JJ']\n",
      "['IN', 'DT', 'NN', 'IN', 'CD', 'JJ', 'NNS']\n",
      "First noun: old\n",
      "Last noun: memories\n",
      "['JJ']\n",
      "#################################\n",
      "\n",
      "6885\n",
      "INFO:tensorflow:Restoring parameters from save_2/model.ckpt-63199\n",
      "Generation took 3.253 seconds\n",
      "6885\n",
      "INFO:tensorflow:Restoring parameters from save_2/model.ckpt-63199\n",
      "INFO:tensorflow:Restoring parameters from save_2/model.ckpt-63199\n",
      "INFO:tensorflow:Restoring parameters from frost_model/model.ckpt-227699\n",
      "['memories', 'old']\n",
      "['NNS', 'JJ']\n",
      "['CC', 'RB', 'NN', 'IN', 'JJ', 'NNS']\n",
      "First noun: old\n",
      "Last noun: memories\n",
      "['JJ']\n",
      "#################################\n",
      "\n",
      "6885\n",
      "INFO:tensorflow:Restoring parameters from save_2/model.ckpt-63199\n",
      "Generation took 3.054 seconds\n",
      "6885\n",
      "INFO:tensorflow:Restoring parameters from save_2/model.ckpt-63199\n",
      "INFO:tensorflow:Restoring parameters from save_2/model.ckpt-63199\n",
      "INFO:tensorflow:Restoring parameters from frost_model/model.ckpt-227699\n",
      "['memories', 'old']\n",
      "['NNS', 'JJ']\n",
      "['NNP', 'VBP', 'RB', 'JJ', 'NN', 'NNS', 'VBP']\n",
      "First noun: old\n",
      "Last noun: memories\n",
      "['JJ', 'NN']\n",
      "#################################\n",
      "\n",
      "6885\n",
      "INFO:tensorflow:Restoring parameters from save_2/model.ckpt-63199\n",
      "Generation took 3.141 seconds\n",
      "6885\n",
      "INFO:tensorflow:Restoring parameters from save_2/model.ckpt-63199\n",
      "INFO:tensorflow:Restoring parameters from save_2/model.ckpt-63199\n",
      "INFO:tensorflow:Restoring parameters from frost_model/model.ckpt-227699\n",
      "['memories', 'old']\n",
      "['NNS', 'JJ']\n",
      "['NNP', 'VBD', 'NNS', 'VBD', 'DT', 'JJ', 'NN']\n",
      "First noun: memories\n",
      "Last noun: old\n",
      "['NNS', 'VBD', 'DT']\n",
      "#################################\n",
      "\n",
      "6885\n",
      "INFO:tensorflow:Restoring parameters from save_2/model.ckpt-63199\n",
      "Generation took 3.494 seconds\n",
      "6885\n",
      "INFO:tensorflow:Restoring parameters from save_2/model.ckpt-63199\n",
      "INFO:tensorflow:Restoring parameters from save_2/model.ckpt-63199\n",
      "INFO:tensorflow:Restoring parameters from frost_model/model.ckpt-227699\n",
      "['memories', 'old']\n",
      "['NNS', 'JJ']\n",
      "['CC', 'NN', 'IN', 'JJ', 'NNS']\n",
      "First noun: old\n",
      "Last noun: memories\n",
      "['JJ']\n",
      "#################################\n",
      "\n",
      "6885\n",
      "INFO:tensorflow:Restoring parameters from save_2/model.ckpt-63199\n",
      "Generation took 3.085 seconds\n",
      "6885\n",
      "INFO:tensorflow:Restoring parameters from save_2/model.ckpt-63199\n",
      "INFO:tensorflow:Restoring parameters from save_2/model.ckpt-63199\n",
      "INFO:tensorflow:Restoring parameters from frost_model/model.ckpt-227699\n",
      "['memories', 'old']\n",
      "['NNS', 'JJ']\n",
      "['IN', 'JJ', 'NNS', 'CC', 'VBG', 'NN']\n",
      "First noun: old\n",
      "Last noun: memories\n",
      "['JJ']\n",
      "#################################\n",
      "\n",
      "6885\n",
      "INFO:tensorflow:Restoring parameters from save_2/model.ckpt-63199\n",
      "Generation took 3.053 seconds\n",
      "6885\n",
      "INFO:tensorflow:Restoring parameters from save_2/model.ckpt-63199\n",
      "INFO:tensorflow:Restoring parameters from save_2/model.ckpt-63199\n",
      "INFO:tensorflow:Restoring parameters from frost_model/model.ckpt-227699\n",
      "CPU times: user 2min 20s, sys: 19.6 s, total: 2min 40s\n",
      "Wall time: 2min 20s\n"
     ]
    }
   ],
   "source": [
    "%%time\n",
    "\n",
    "line = g.print_gen_line('memories', 'old')"
   ]
  },
  {
   "cell_type": "code",
   "execution_count": 6,
   "metadata": {},
   "outputs": [
    {
     "data": {
      "text/html": [
       "<div>\n",
       "<style scoped>\n",
       "    .dataframe tbody tr th:only-of-type {\n",
       "        vertical-align: middle;\n",
       "    }\n",
       "\n",
       "    .dataframe tbody tr th {\n",
       "        vertical-align: top;\n",
       "    }\n",
       "\n",
       "    .dataframe thead th {\n",
       "        text-align: right;\n",
       "    }\n",
       "</style>\n",
       "<table border=\"1\" class=\"dataframe\">\n",
       "  <thead>\n",
       "    <tr style=\"text-align: right;\">\n",
       "      <th></th>\n",
       "      <th>line</th>\n",
       "      <th>score</th>\n",
       "      <th>POS</th>\n",
       "    </tr>\n",
       "  </thead>\n",
       "  <tbody>\n",
       "    <tr>\n",
       "      <th>0</th>\n",
       "      <td>old memories hidden and in air</td>\n",
       "      <td>-9.51988</td>\n",
       "      <td>[JJ, NNS, VBN, CC, IN, NN]</td>\n",
       "    </tr>\n",
       "    <tr>\n",
       "      <th>1</th>\n",
       "      <td>hes old memories with night</td>\n",
       "      <td>[[-8.769373]]</td>\n",
       "      <td>[NNP, JJ, NNS, IN, NN]</td>\n",
       "    </tr>\n",
       "    <tr>\n",
       "      <th>2</th>\n",
       "      <td>in the bed of one old memories</td>\n",
       "      <td>[[-5.8963685]]</td>\n",
       "      <td>[IN, DT, NN, IN, CD, JJ, NNS]</td>\n",
       "    </tr>\n",
       "    <tr>\n",
       "      <th>3</th>\n",
       "      <td>and never love of old memories</td>\n",
       "      <td>[[-6.202788]]</td>\n",
       "      <td>[CC, RB, NN, IN, JJ, NNS]</td>\n",
       "    </tr>\n",
       "    <tr>\n",
       "      <th>4</th>\n",
       "      <td>dont know so old day memories are</td>\n",
       "      <td>[[-7.2055206]]</td>\n",
       "      <td>[NNP, VBP, RB, JJ, NN, NNS, VBP]</td>\n",
       "    </tr>\n",
       "    <tr>\n",
       "      <th>5</th>\n",
       "      <td>hampshire came memories was a old house</td>\n",
       "      <td>[[-6.927326]]</td>\n",
       "      <td>[NNP, VBD, NNS, VBD, DT, JJ, NN]</td>\n",
       "    </tr>\n",
       "    <tr>\n",
       "      <th>6</th>\n",
       "      <td>and love of old memories</td>\n",
       "      <td>[[-7.0644484]]</td>\n",
       "      <td>[CC, NN, IN, JJ, NNS]</td>\n",
       "    </tr>\n",
       "    <tr>\n",
       "      <th>7</th>\n",
       "      <td>of old memories and moving eos</td>\n",
       "      <td>[[-7.5898285]]</td>\n",
       "      <td>[IN, JJ, NNS, CC, VBG, NN]</td>\n",
       "    </tr>\n",
       "  </tbody>\n",
       "</table>\n",
       "</div>"
      ],
      "text/plain": [
       "                                      line           score  \\\n",
       "0           old memories hidden and in air        -9.51988   \n",
       "1              hes old memories with night   [[-8.769373]]   \n",
       "2           in the bed of one old memories  [[-5.8963685]]   \n",
       "3           and never love of old memories   [[-6.202788]]   \n",
       "4        dont know so old day memories are  [[-7.2055206]]   \n",
       "5  hampshire came memories was a old house   [[-6.927326]]   \n",
       "6                 and love of old memories  [[-7.0644484]]   \n",
       "7           of old memories and moving eos  [[-7.5898285]]   \n",
       "\n",
       "                                POS  \n",
       "0        [JJ, NNS, VBN, CC, IN, NN]  \n",
       "1            [NNP, JJ, NNS, IN, NN]  \n",
       "2     [IN, DT, NN, IN, CD, JJ, NNS]  \n",
       "3         [CC, RB, NN, IN, JJ, NNS]  \n",
       "4  [NNP, VBP, RB, JJ, NN, NNS, VBP]  \n",
       "5  [NNP, VBD, NNS, VBD, DT, JJ, NN]  \n",
       "6             [CC, NN, IN, JJ, NNS]  \n",
       "7        [IN, JJ, NNS, CC, VBG, NN]  "
      ]
     },
     "execution_count": 6,
     "metadata": {},
     "output_type": "execute_result"
    }
   ],
   "source": [
    "line"
   ]
  },
  {
   "cell_type": "code",
   "execution_count": 7,
   "metadata": {},
   "outputs": [],
   "source": [
    "#templates with punctuation throw errors\n",
    "#['NNS', 'VBD', 'IN', 'DT', 'JJ', 'NN', '.']\n",
    "# BasicLSTMCell is deprecated\n",
    "# divide by zero sometimes encountered in model_back 207\n",
    "# search forward 235 gets truth value with more than one is ambiguous\n",
    "# keyerror ','\n",
    "# build up possible parts of speech with commas, etc. "
   ]
  },
  {
   "cell_type": "code",
   "execution_count": 4,
   "metadata": {},
   "outputs": [],
   "source": [
    "def generalization_score(word_pair_list, template):\n",
    "    sum_score = 0;\n",
    "    for word1, word2 in word_pair_list:\n",
    "        try:\n",
    "            template, k = g.generate_line(word1, word2, template=template)\n",
    "        except TypeError:\n",
    "            print('Words don\\'t fit into template')\n",
    "            continue\n",
    "        if k != []:\n",
    "            # add score normalized by line length\n",
    "            sum_score += (k[0][0] / len(k[0][1][1]))\n",
    "    return sum_score / len(word_pair_list), template"
   ]
  },
  {
   "cell_type": "code",
   "execution_count": 5,
   "metadata": {},
   "outputs": [
    {
     "data": {
      "text/plain": [
       "[('The', 'DT'),\n",
       " ('old', 'JJ'),\n",
       " ('memories', 'NNS'),\n",
       " ('shined', 'VBN'),\n",
       " ('with', 'IN'),\n",
       " ('emotion', 'NN')]"
      ]
     },
     "execution_count": 5,
     "metadata": {},
     "output_type": "execute_result"
    }
   ],
   "source": [
    "nltk.pos_tag(nltk.word_tokenize(\"The old memories shined with emotion\"))"
   ]
  },
  {
   "cell_type": "code",
   "execution_count": 6,
   "metadata": {},
   "outputs": [
    {
     "name": "stdout",
     "output_type": "stream",
     "text": [
      "['old', 'memories']\n",
      "['DT', 'JJ', 'NNS', 'VBN', 'IN', 'NN']\n",
      "First noun: old\n",
      "Last noun: memories\n",
      "['JJ']\n",
      "#################################\n",
      "\n",
      "WARNING:tensorflow:From /Users/chris/projects/poetix/model_forw.py:37: BasicLSTMCell.__init__ (from tensorflow.python.ops.rnn_cell_impl) is deprecated and will be removed in a future version.\n",
      "Instructions for updating:\n",
      "This class is deprecated, please use tf.nn.rnn_cell.LSTMCell, which supports all the feature this cell currently has. Please replace the existing code with tf.nn.rnn_cell.LSTMCell(name='basic_lstm_cell').\n",
      "6885\n",
      "INFO:tensorflow:Restoring parameters from save_2/model.ckpt-63199\n",
      "Generation took 3.749 seconds\n",
      "6885\n",
      "INFO:tensorflow:Restoring parameters from save_2/model.ckpt-63199\n",
      "INFO:tensorflow:Restoring parameters from save_2/model.ckpt-63199\n",
      "INFO:tensorflow:Restoring parameters from frost_model/model.ckpt-227699\n",
      "['bright', 'light']\n",
      "['DT', 'JJ', 'NNS', 'VBN', 'IN', 'NN']\n",
      "First noun: bright\n",
      "Last noun: light\n",
      "['JJ', 'NNS', 'VBN', 'IN']\n",
      "#################################\n",
      "\n",
      "6885\n",
      "INFO:tensorflow:Restoring parameters from save_2/model.ckpt-63199\n",
      "Generation took 3.895 seconds\n",
      "6885\n",
      "INFO:tensorflow:Restoring parameters from save_2/model.ckpt-63199\n",
      "INFO:tensorflow:Restoring parameters from save_2/model.ckpt-63199\n",
      "INFO:tensorflow:Restoring parameters from frost_model/model.ckpt-227699\n",
      "['climb', 'stairs']\n",
      "Words don't fit into template\n",
      "['eyes', 'emotion']\n",
      "['DT', 'JJ', 'NNS', 'VBN', 'IN', 'NN']\n",
      "First noun: eyes\n",
      "Last noun: emotion\n",
      "['NNS', 'VBN', 'IN']\n",
      "#################################\n",
      "\n",
      "6885\n",
      "INFO:tensorflow:Restoring parameters from save_2/model.ckpt-63199\n",
      "Generation took 3.399 seconds\n",
      "6885\n",
      "INFO:tensorflow:Restoring parameters from save_2/model.ckpt-63199\n",
      "INFO:tensorflow:Restoring parameters from save_2/model.ckpt-63199\n",
      "INFO:tensorflow:Restoring parameters from frost_model/model.ckpt-227699\n"
     ]
    },
    {
     "name": "stderr",
     "output_type": "stream",
     "text": [
      "/Users/chris/projects/poetix/model_back.py:207: RuntimeWarning: divide by zero encountered in log\n",
      "  dist = p.squeeze() + np.log(probs.squeeze())\n"
     ]
    },
    {
     "name": "stdout",
     "output_type": "stream",
     "text": [
      "CPU times: user 42.3 s, sys: 7.55 s, total: 49.9 s\n",
      "Wall time: 42.4 s\n"
     ]
    }
   ],
   "source": [
    "%%time\n",
    "\n",
    "template = ['DT', 'JJ', 'NNS', 'VBN', 'IN', 'NN']\n",
    "l = [('old', 'memories'), ('bright', 'light'), ('climb', 'stairs'), ('eyes', 'emotion')]\n",
    "avg_score, template = generalization_score(l, template)"
   ]
  },
  {
   "cell_type": "code",
   "execution_count": 7,
   "metadata": {},
   "outputs": [
    {
     "name": "stdout",
     "output_type": "stream",
     "text": [
      "[[-5.867297]]\n",
      "['DT', 'JJ', 'NNS', 'VBN', 'IN', 'NN']\n"
     ]
    }
   ],
   "source": [
    "print(avg_score)\n",
    "print(template)"
   ]
  },
  {
   "cell_type": "code",
   "execution_count": 8,
   "metadata": {},
   "outputs": [],
   "source": [
    "def random_pair_list(length):\n",
    "    ret = []\n",
    "    for i in range(length):\n",
    "        words = random.sample(g.get_postag_dict()[2].keys(), 2)\n",
    "        ret.append(words)\n",
    "    return ret"
   ]
  },
  {
   "cell_type": "code",
   "execution_count": 9,
   "metadata": {},
   "outputs": [
    {
     "name": "stdout",
     "output_type": "stream",
     "text": [
      "['suns', 'psuedo']\n"
     ]
    }
   ],
   "source": [
    "postag= g.place_words_in_template(['suns', 'psuedo'], template)"
   ]
  },
  {
   "cell_type": "code",
   "execution_count": 14,
   "metadata": {},
   "outputs": [
    {
     "name": "stdout",
     "output_type": "stream",
     "text": [
      "[['slight', 'apply'], ['wildest', 'reluctant'], ['eat', 'calls'], ['coffee', 'formal'], ['patina', 'weeding'], ['sudden', 'thought'], ['disarmed', 'nail'], ['third', 'suspicion'], ['toes', 'reasons'], ['grace', 'breathe']]\n",
      "['slight', 'apply']\n",
      "Words don't fit into template\n",
      "['wildest', 'reluctant']\n",
      "Words don't fit into template\n",
      "['eat', 'calls']\n",
      "Words don't fit into template\n",
      "['coffee', 'formal']\n",
      "['DT', 'JJ', 'NNS', 'VBN', 'IN', 'NN']\n",
      "First noun: formal\n",
      "Last noun: coffee\n",
      "['JJ', 'NNS', 'VBN', 'IN']\n",
      "#################################\n",
      "\n",
      "6885\n",
      "INFO:tensorflow:Restoring parameters from save_2/model.ckpt-63199\n",
      "Generation took 5.289 seconds\n",
      "6885\n",
      "INFO:tensorflow:Restoring parameters from save_2/model.ckpt-63199\n",
      "INFO:tensorflow:Restoring parameters from save_2/model.ckpt-63199\n",
      "INFO:tensorflow:Restoring parameters from frost_model/model.ckpt-227699\n",
      "['patina', 'weeding']\n",
      "Words don't fit into template\n",
      "['sudden', 'thought']\n",
      "Words don't fit into template\n",
      "['disarmed', 'nail']\n",
      "Words don't fit into template\n",
      "['third', 'suspicion']\n",
      "['DT', 'JJ', 'NNS', 'VBN', 'IN', 'NN']\n",
      "First noun: third\n",
      "Last noun: suspicion\n",
      "['JJ', 'NNS', 'VBN', 'IN']\n",
      "#################################\n",
      "\n",
      "6885\n",
      "INFO:tensorflow:Restoring parameters from save_2/model.ckpt-63199\n",
      "Generation took 4.172 seconds\n",
      "6885\n",
      "INFO:tensorflow:Restoring parameters from save_2/model.ckpt-63199\n",
      "INFO:tensorflow:Restoring parameters from save_2/model.ckpt-63199\n",
      "INFO:tensorflow:Restoring parameters from frost_model/model.ckpt-227699\n",
      "['toes', 'reasons']\n",
      "Words don't fit into template\n",
      "['grace', 'breathe']\n",
      "Words don't fit into template\n"
     ]
    },
    {
     "data": {
      "text/plain": [
       "(array([[-1.6284454]], dtype=float32), ['DT', 'JJ', 'NNS', 'VBN', 'IN', 'NN'])"
      ]
     },
     "execution_count": 14,
     "metadata": {},
     "output_type": "execute_result"
    }
   ],
   "source": [
    "l = random_pair_list(10)\n",
    "print(l)\n",
    "generalization_score(l, template)"
   ]
  },
  {
   "cell_type": "code",
   "execution_count": null,
   "metadata": {},
   "outputs": [],
   "source": []
  }
 ],
 "metadata": {
  "kernelspec": {
   "display_name": "Python 3",
   "language": "python",
   "name": "python3"
  },
  "language_info": {
   "codemirror_mode": {
    "name": "ipython",
    "version": 3
   },
   "file_extension": ".py",
   "mimetype": "text/x-python",
   "name": "python",
   "nbconvert_exporter": "python",
   "pygments_lexer": "ipython3",
   "version": "3.6.0"
  }
 },
 "nbformat": 4,
 "nbformat_minor": 2
}
