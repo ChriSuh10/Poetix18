{
 "cells": [
  {
   "cell_type": "code",
   "execution_count": 1,
   "metadata": {},
   "outputs": [],
   "source": [
    "%load_ext autoreload\n",
    "%autoreload 2"
   ]
  },
  {
   "cell_type": "code",
   "execution_count": 2,
   "metadata": {},
   "outputs": [
    {
     "name": "stderr",
     "output_type": "stream",
     "text": [
      "c:\\users\\hp\\anaconda2\\envs\\translator\\lib\\site-packages\\h5py\\__init__.py:36: FutureWarning: Conversion of the second argument of issubdtype from `float` to `np.floating` is deprecated. In future, it will be treated as `np.float64 == np.dtype(float).type`.\n",
      "  from ._conv import register_converters as _register_converters\n",
      "c:\\users\\hp\\anaconda2\\envs\\translator\\lib\\site-packages\\gensim\\utils.py:1209: UserWarning: detected Windows; aliasing chunkize to chunkize_serial\n",
      "  warnings.warn(\"detected Windows; aliasing chunkize to chunkize_serial\")\n"
     ]
    }
   ],
   "source": [
    "from py_files.Limericks import Limerick_Generate"
   ]
  },
  {
   "cell_type": "code",
<<<<<<< HEAD
   "execution_count": 4,
=======
   "execution_count": 7,
>>>>>>> 61a23e9df9b9dd295e51c1fb6c360f03c5b93c3f
   "metadata": {},
   "outputs": [],
   "source": [
    "lg = Limerick_Generate(\n",
    "    wv_file='py_files/saved_objects/poetic_embeddings.300d.txt',\n",
    "    syllables_file='py_files/saved_objects/cmudict-0.7b.txt',\n",
    "    postag_file='py_files/saved_objects/postag_dict_all.p',\n",
    "    model_dir='py_files/models/all_combined_back')"
   ]
  },
  {
   "cell_type": "code",
<<<<<<< HEAD
   "execution_count": 5,
=======
   "execution_count": 92,
>>>>>>> 61a23e9df9b9dd295e51c1fb6c360f03c5b93c3f
   "metadata": {},
   "outputs": [
    {
     "name": "stderr",
     "output_type": "stream",
     "text": [
<<<<<<< HEAD
      "/Users/chris/.pyenv/versions/3.6.0/envs/poetix/lib/python3.6/site-packages/gensim/matutils.py:737: FutureWarning: Conversion of the second argument of issubdtype from `int` to `np.signedinteger` is deprecated. In future, it will be treated as `np.int64 == np.dtype(int).type`.\n",
=======
      "c:\\users\\hp\\anaconda2\\envs\\translator\\lib\\site-packages\\gensim\\matutils.py:737: FutureWarning: Conversion of the second argument of issubdtype from `int` to `np.signedinteger` is deprecated. In future, it will be treated as `np.int32 == np.dtype(int).type`.\n",
>>>>>>> 61a23e9df9b9dd295e51c1fb6c360f03c5b93c3f
      "  if np.issubdtype(vec.dtype, np.int):\n"
     ]
    },
    {
     "data": {
      "text/plain": [
       "('creed', 'speed', 'last', 'fast', 'read')"
      ]
     },
<<<<<<< HEAD
     "execution_count": 5,
=======
     "execution_count": 92,
>>>>>>> 61a23e9df9b9dd295e51c1fb6c360f03c5b93c3f
     "metadata": {},
     "output_type": "execute_result"
    }
   ],
   "source": [
    "lg.get_five_words('speed')"
   ]
  },
  {
   "cell_type": "markdown",
   "metadata": {},
   "source": [
    "### Teach"
   ]
  },
  {
   "cell_type": "code",
   "execution_count": 8,
   "metadata": {},
   "outputs": [
    {
     "name": "stderr",
     "output_type": "stream",
     "text": [
      "c:\\users\\hp\\anaconda2\\envs\\translator\\lib\\site-packages\\gensim\\matutils.py:737: FutureWarning: Conversion of the second argument of issubdtype from `int` to `np.signedinteger` is deprecated. In future, it will be treated as `np.int32 == np.dtype(int).type`.\n",
      "  if np.issubdtype(vec.dtype, np.int):\n"
     ]
    },
    {
     "name": "stdout",
     "output_type": "stream",
     "text": [
      "line 2 in dataset\n",
      "line 3 in dataset\n",
      "line 4-5 in dataset\n",
      "['WP$', 'NNS', 'RB', 'MD', 'VB']\n",
      "INFO:tensorflow:Restoring parameters from py_files/models/all_combined_back\\model.ckpt-120000\n",
      "['IN', 'VBG', 'PRP$', 'NN']\n",
      "INFO:tensorflow:Restoring parameters from py_files/models/all_combined_back\\model.ckpt-120000\n",
      "['IN', 'DT', 'JJ', 'NN']\n",
      "INFO:tensorflow:Restoring parameters from py_files/models/all_combined_back\\model.ckpt-120000\n",
      "['IN', 'DT', 'NN', 'IN', 'NN', 'TO', 'NN']\n",
      "INFO:tensorflow:Restoring parameters from py_files/models/all_combined_back\\model.ckpt-120000\n"
     ]
    }
   ],
   "source": [
    "poem=lg.gen_poem_independent_matias('teach', 11)"
   ]
  },
  {
   "cell_type": "code",
   "execution_count": 14,
   "metadata": {},
   "outputs": [
    {
     "name": "stdout",
     "output_type": "stream",
     "text": [
      "whose eyes conspiratorially will teach\n",
      "that sing its expectation\n",
      "of the past obligation\n",
      "with the immortality of life to breach\n",
      "\n"
     ]
    }
   ],
   "source": [
    "string=''\n",
    "for x in poem:\n",
    "    string+=' '.join(x[0])+'\\n'\n",
    "print(string)"
   ]
  },
  {
   "cell_type": "markdown",
   "metadata": {},
   "source": [
    "### sky"
   ]
  },
  {
   "cell_type": "code",
   "execution_count": 19,
   "metadata": {},
   "outputs": [
    {
     "name": "stderr",
     "output_type": "stream",
     "text": [
      "c:\\users\\hp\\anaconda2\\envs\\translator\\lib\\site-packages\\gensim\\matutils.py:737: FutureWarning: Conversion of the second argument of issubdtype from `int` to `np.signedinteger` is deprecated. In future, it will be treated as `np.int32 == np.dtype(int).type`.\n",
      "  if np.issubdtype(vec.dtype, np.int):\n"
     ]
    },
    {
     "name": "stdout",
     "output_type": "stream",
     "text": [
      "['WHO', 'VBD', 'PRP', 'RB', 'IN', 'DT', 'NN']\n",
      "INFO:tensorflow:Restoring parameters from py_files/models/all_combined_back\\model.ckpt-120000\n",
      "['WHEN', 'DT', 'NN', 'VBZ', 'PRP$', 'NN']\n",
      "INFO:tensorflow:Restoring parameters from py_files/models/all_combined_back\\model.ckpt-120000\n",
      "['IF', 'PRP', 'VBD', 'DT', 'NN', 'IN']\n",
      "INFO:tensorflow:Restoring parameters from py_files/models/all_combined_back\\model.ckpt-120000\n",
      "['DT', 'JJ', 'NN', 'PRP', 'VBP']\n",
      "INFO:tensorflow:Restoring parameters from py_files/models/all_combined_back\\model.ckpt-120000\n"
     ]
    }
   ],
   "source": [
    "poem=lg.gen_poem_independent_matias('sky', 10)"
   ]
  },
  {
   "cell_type": "code",
   "execution_count": 20,
   "metadata": {},
   "outputs": [
    {
     "name": "stdout",
     "output_type": "stream",
     "text": [
      "who fascinated me there in the sky\n",
      "when the earth is my birth\n",
      "if i heard the blue earth\n",
      "the extraordinary way you lie\n",
      "\n"
     ]
    }
   ],
   "source": [
    "string=''\n",
    "for x in poem:\n",
    "    string+=' '.join(x[0])+'\\n'\n",
    "print(string)"
   ]
  },
  {
   "cell_type": "markdown",
   "metadata": {},
   "source": [
    "### shame"
   ]
  },
  {
   "cell_type": "code",
   "execution_count": 17,
   "metadata": {},
   "outputs": [
    {
     "name": "stderr",
     "output_type": "stream",
     "text": [
      "c:\\users\\hp\\anaconda2\\envs\\translator\\lib\\site-packages\\gensim\\matutils.py:737: FutureWarning: Conversion of the second argument of issubdtype from `int` to `np.signedinteger` is deprecated. In future, it will be treated as `np.int32 == np.dtype(int).type`.\n",
      "  if np.issubdtype(vec.dtype, np.int):\n"
     ]
    },
    {
     "name": "stdout",
     "output_type": "stream",
     "text": [
      "['WHO', 'VBD', 'IN', 'DT', 'NN', 'IN', 'NNS']\n",
      "INFO:tensorflow:Restoring parameters from py_files/models/all_combined_back\\model.ckpt-120000\n",
      "['RB', 'DT', 'JJ', 'NN', 'VBD', 'PRP']\n",
      "INFO:tensorflow:Restoring parameters from py_files/models/all_combined_back\\model.ckpt-120000\n",
      "['IN', 'DT', 'CD', 'NN', 'NN']\n",
      "INFO:tensorflow:Restoring parameters from py_files/models/all_combined_back\\model.ckpt-120000\n",
      "['VBD', 'SO', 'JJ', 'PRP', 'VBZ', 'RB', 'IN', 'NN']\n",
      "INFO:tensorflow:Restoring parameters from py_files/models/all_combined_back\\model.ckpt-120000\n"
     ]
    }
   ],
   "source": [
    "poem=lg.gen_poem_independent_matias('shame', 10)"
   ]
  },
  {
   "cell_type": "code",
   "execution_count": 18,
   "metadata": {},
   "outputs": [
    {
     "name": "stdout",
     "output_type": "stream",
     "text": [
      "who hesitated with the sense of shame\n",
      "not a young man said they\n",
      "about the ten room play\n",
      "was so wonderful it is not out game\n",
      "\n"
     ]
    }
   ],
   "source": [
    "string=''\n",
    "for x in poem:\n",
    "    string+=' '.join(x[0])+'\\n'\n",
    "print(string)"
   ]
  },
  {
   "cell_type": "code",
<<<<<<< HEAD
   "execution_count": 8,
=======
   "execution_count": 19,
>>>>>>> 61a23e9df9b9dd295e51c1fb6c360f03c5b93c3f
   "metadata": {},
   "outputs": [
    {
     "name": "stdout",
     "output_type": "stream",
     "text": [
<<<<<<< HEAD
      "['NNP', 'NN', 'CC', 'DT', 'NN', 'VBD']\n",
      "WARNING:tensorflow:From /Users/chris/projects/poetix/py_files/model_back.py:37: BasicLSTMCell.__init__ (from tensorflow.python.ops.rnn_cell_impl) is deprecated and will be removed in a future version.\n",
      "Instructions for updating:\n",
      "This class is deprecated, please use tf.nn.rnn_cell.LSTMCell, which supports all the feature this cell currently has. Please replace the existing code with tf.nn.rnn_cell.LSTMCell(name='basic_lstm_cell').\n",
      "INFO:tensorflow:Restoring parameters from py_files/models/all_combined_back/model.ckpt-120000\n"
=======
      "who slipped on a peel of bananas\n",
      "soon a happy thought hit her\n",
      "of a five dollar note\n",
      "was so good he is now in sing\n",
      "\n"
     ]
    }
   ],
   "source": [
    "#lines used for the templates\n",
    "string=''\n",
    "for x in poem:\n",
    "    string+=' '.join(x[3])+'\\n'\n",
    "print(string)"
   ]
  },
  {
   "cell_type": "markdown",
   "metadata": {},
   "source": [
    "### seat"
   ]
  },
  {
   "cell_type": "code",
   "execution_count": 21,
   "metadata": {},
   "outputs": [
    {
     "name": "stderr",
     "output_type": "stream",
     "text": [
      "c:\\users\\hp\\anaconda2\\envs\\translator\\lib\\site-packages\\gensim\\matutils.py:737: FutureWarning: Conversion of the second argument of issubdtype from `int` to `np.signedinteger` is deprecated. In future, it will be treated as `np.int32 == np.dtype(int).type`.\n",
      "  if np.issubdtype(vec.dtype, np.int):\n"
>>>>>>> 61a23e9df9b9dd295e51c1fb6c360f03c5b93c3f
     ]
    }
   ],
   "source": [
    "t, o = lg.gen_line('sat', num_sylls=7)"
   ]
  },
  {
   "cell_type": "code",
   "execution_count": 9,
   "metadata": {},
   "outputs": [
    {
     "name": "stdout",
     "output_type": "stream",
     "text": [
<<<<<<< HEAD
      "['ill', 'sleep', 'either', 'the', 'light', 'sat']\n",
      "-5.047295252482097\n",
      "['NNP', 'NN', 'CC', 'DT', 'NN', 'VBD']\n"
=======
      "['WHO', 'VBD', 'IN', 'CD', 'IN', 'PRP$', 'NNS']\n",
      "INFO:tensorflow:Restoring parameters from py_files/models/all_combined_back\\model.ckpt-120000\n",
      "['PRP', 'VBD', 'DT', 'NN']\n",
      "INFO:tensorflow:Restoring parameters from py_files/models/all_combined_back\\model.ckpt-120000\n",
      "['IN', 'PRP$', 'NNS', 'CC', 'PRP$', 'NN']\n",
      "INFO:tensorflow:Restoring parameters from py_files/models/all_combined_back\\model.ckpt-120000\n",
      "['IN', 'PRP$', 'NN', 'CC', 'NN', 'IN', 'DT', 'NN']\n",
      "INFO:tensorflow:Restoring parameters from py_files/models/all_combined_back\\model.ckpt-120000\n"
     ]
    }
   ],
   "source": [
    "poem=lg.gen_poem_independent_matias('seat', 10)"
   ]
  },
  {
   "cell_type": "code",
   "execution_count": 22,
   "metadata": {},
   "outputs": [
    {
     "name": "stdout",
     "output_type": "stream",
     "text": [
      "who hesitated for one of her seat\n",
      "i remembered the bare\n",
      "in my eyes and her chair\n",
      "underneath my hand and look on all beat\n",
      "\n"
     ]
    }
   ],
   "source": [
    "string=''\n",
    "for x in poem:\n",
    "    string+=' '.join(x[0])+'\\n'\n",
    "print(string)"
   ]
  },
  {
   "cell_type": "code",
   "execution_count": 23,
   "metadata": {},
   "outputs": [
    {
     "name": "stdout",
     "output_type": "stream",
     "text": [
      "who married on one of his trips\n",
      "he indulged a desire\n",
      "in his boots and his vest\n",
      "with his spanner and jack in the box\n",
      "\n"
>>>>>>> 61a23e9df9b9dd295e51c1fb6c360f03c5b93c3f
     ]
    }
   ],
   "source": [
<<<<<<< HEAD
    "print(o[0][1][1])\n",
    "print(o[0][0].item() / len(o[0][1][1]))\n",
    "print(t)"
   ]
  },
  {
   "cell_type": "code",
   "execution_count": 10,
   "metadata": {},
   "outputs": [
    {
     "name": "stdout",
     "output_type": "stream",
     "text": [
      "['IN', 'IN', 'PRP$', 'NN', 'DT', 'NN', 'NNP']\n",
      "INFO:tensorflow:Restoring parameters from py_files/models/all_combined_back/model.ckpt-120000\n",
      "['NNP', 'NN', 'RB', 'VB', 'DT', 'NN', 'NN']\n",
      "INFO:tensorflow:Restoring parameters from py_files/models/all_combined_back/model.ckpt-120000\n",
      "['NNS', 'NN', 'VBD', 'JJ']\n",
      "INFO:tensorflow:Restoring parameters from py_files/models/all_combined_back/model.ckpt-120000\n",
      "['NNS', 'NN', 'VBD', 'JJ']\n",
      "INFO:tensorflow:Restoring parameters from py_files/models/all_combined_back/model.ckpt-120000\n",
      "['NN', 'IN', 'JJ', 'NNS', 'VBN', ',', 'VB']\n",
      "INFO:tensorflow:Restoring parameters from py_files/models/all_combined_back/model.ckpt-120000\n",
      "\n",
      "out of my singing the calm creed                             line score: -3.667\n",
      "['IN', 'IN', 'PRP$', 'NN', 'DT', 'NN', 'NNP']\n",
      "games need not be a hour speed                               line score: -4.408\n",
      "['NNP', 'NN', 'RB', 'VB', 'DT', 'NN', 'NN']\n",
      "people look set last                                         line score: -4.360\n",
      "['NNS', 'NN', 'VBD', 'JJ']\n",
      "eyes look started fast                                       line score: -4.945\n",
      "['NNS', 'NN', 'VBD', 'JJ']\n",
      "part of thy animals come , read                              line score: -4.485\n",
      "['NN', 'IN', 'JJ', 'NNS', 'VBN', ',', 'VB']\n",
      "CPU times: user 44.3 s, sys: 6.97 s, total: 51.3 s\n",
      "Wall time: 42.4 s\n"
     ]
    }
   ],
   "source": [
    "%%time\n",
    "\n",
    "lg.print_poem('speed', lg.gen_poem_independent, 8)"
   ]
  },
  {
   "cell_type": "code",
   "execution_count": 27,
   "metadata": {},
   "outputs": [
    {
     "name": "stdout",
     "output_type": "stream",
     "text": [
      "['RB', 'JJ', 'IN', 'PRP$', 'NN', 'VBD', 'NN']\n",
      "INFO:tensorflow:Restoring parameters from py_files/models/all_combined_back/model.ckpt-120000\n",
      "['NNS', 'NN', 'VBD', 'JJ']\n",
      "INFO:tensorflow:Restoring parameters from py_files/models/all_combined_back/model.ckpt-120000\n",
      "['IN', 'CD', 'NN', 'NNS', 'NN', 'MD', 'VB']\n",
      "INFO:tensorflow:Restoring parameters from py_files/models/all_combined_back/model.ckpt-120000\n",
      "INFO:tensorflow:Restoring parameters from py_files/models/all_combined_back/model.ckpt-120000\n",
      "INFO:tensorflow:Restoring parameters from py_files/models/all_combined_back/model.ckpt-120000\n",
      "\n",
      "very deep in my head made speed                              line score: -0.576\n",
      "['DT', 'NN', 'NNS', ',', 'CC', 'JJ', 'NNP']\n",
      "very deep in my head made speed                              line score: -4.034\n",
      "['RB', 'JJ', 'IN', 'PRP$', 'NN', 'VBD', 'NN']\n",
      "eyes look started fast                                       line score: -1.236\n",
      "['NNS', 'NN', 'VBD', 'JJ']\n",
      "eyes look started fast                                       line score: -4.945\n",
      "['NNS', 'NN', 'VBD', 'JJ']\n",
      "for thousand past days time will read                        line score: -4.835\n",
      "['IN', 'CD', 'NN', 'NNS', 'NN', 'MD', 'VB']\n",
      "CPU times: user 37.6 s, sys: 6.84 s, total: 44.5 s\n",
      "Wall time: 35.1 s\n"
     ]
    }
   ],
   "source": [
    "%%time\n",
    "\n",
    "lg.print_poem('speed', lg.gen_poem_conditioned, 8)"
   ]
  },
  {
   "cell_type": "code",
   "execution_count": 7,
   "metadata": {},
   "outputs": [],
   "source": [
    "lg.words_to_pos['fast'].remove('RB')"
   ]
  },
  {
   "cell_type": "code",
   "execution_count": 34,
   "metadata": {},
   "outputs": [
    {
     "data": {
      "text/plain": [
       "['JJ']"
      ]
     },
     "execution_count": 34,
     "metadata": {},
     "output_type": "execute_result"
    }
   ],
   "source": [
    "lg.words_to_pos['fast']"
   ]
  },
  {
   "cell_type": "code",
   "execution_count": 28,
   "metadata": {},
   "outputs": [],
   "source": [
    "lg.pos_to_words['RB'].remove('fast')"
   ]
  },
  {
   "cell_type": "code",
   "execution_count": 31,
   "metadata": {},
   "outputs": [],
   "source": [
    "import pickle\n",
    "\n",
    "with open('py_files/saved_objects/postag_dict_all.p', 'rb') as f:\n",
    "    postag_dict = pickle.load(f)\n",
    "\n",
    "postag_dict[1] = lg.pos_to_words\n",
    "postag_dict[2] = lg.words_to_pos\n",
    "\n",
    "with open('py_files/saved_objects/postag_dict_all.p', 'wb') as f:\n",
    "    pickle.dump(postag_dict, f)"
=======
    "#lines used for the templates\n",
    "string=''\n",
    "for x in poem:\n",
    "    string+=' '.join(x[3])+'\\n'\n",
    "print(string)"
>>>>>>> 61a23e9df9b9dd295e51c1fb6c360f03c5b93c3f
   ]
  },
  {
   "cell_type": "code",
   "execution_count": null,
   "metadata": {},
   "outputs": [],
   "source": []
  }
 ],
 "metadata": {
  "kernelspec": {
   "display_name": "Python 3",
   "language": "python",
   "name": "python3"
  },
  "language_info": {
   "codemirror_mode": {
    "name": "ipython",
    "version": 3
   },
   "file_extension": ".py",
   "mimetype": "text/x-python",
   "name": "python",
   "nbconvert_exporter": "python",
   "pygments_lexer": "ipython3",
   "version": "3.6.6"
  }
 },
 "nbformat": 4,
 "nbformat_minor": 2
}
