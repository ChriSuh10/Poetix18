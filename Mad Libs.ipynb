{
 "cells": [
  {
   "cell_type": "code",
   "execution_count": 1,
   "metadata": {},
   "outputs": [],
   "source": [
    "from gensim.models import KeyedVectors\n",
    "from nltk import pos_tag, word_tokenize\n",
    "from nltk.stem import PorterStemmer\n",
    "import pickle"
   ]
  },
  {
   "cell_type": "code",
   "execution_count": 2,
   "metadata": {},
   "outputs": [],
   "source": [
    "wv_file = 'py_files/saved_objects/poetic_embeddings.300d.txt'\n",
    "# wv_file = '~/Downloads/glove.6B/glove.6B.300d.w2v.txt'\n",
    "postag_file = 'py_files/saved_objects/postag_dict_all.p'\n",
    "poetic_vectors = KeyedVectors.load_word2vec_format(wv_file, binary=False)\n",
    "\n",
    "with open(postag_file, 'rb') as f:\n",
    "    postag_dict = pickle.load(f)\n",
    "pos_to_words = postag_dict[1]\n",
    "words_to_pos = postag_dict[2]"
   ]
  },
  {
   "cell_type": "code",
   "execution_count": 3,
   "metadata": {},
   "outputs": [
    {
     "data": {
      "text/plain": [
       "[('There', 'EX'),\n",
       " ('once', 'RB'),\n",
       " ('was', 'VBD'),\n",
       " ('a', 'DT'),\n",
       " ('girl', 'NN'),\n",
       " ('named', 'VBN'),\n",
       " ('Mary', 'NNP'),\n",
       " (',', ','),\n",
       " ('who', 'WP'),\n",
       " ('loved', 'VBD'),\n",
       " ('to', 'TO'),\n",
       " ('read', 'VB'),\n",
       " ('in', 'IN'),\n",
       " ('the', 'DT'),\n",
       " ('library', 'NN'),\n",
       " ('.', '.'),\n",
       " ('She', 'PRP'),\n",
       " ('borrowed', 'VBD'),\n",
       " ('a', 'DT'),\n",
       " ('thick', 'JJ'),\n",
       " ('book', 'NN'),\n",
       " (',', ','),\n",
       " ('and', 'CC'),\n",
       " ('found', 'VBD'),\n",
       " ('a', 'DT'),\n",
       " ('nice', 'JJ'),\n",
       " ('nook', 'NN'),\n",
       " (',', ','),\n",
       " ('and', 'CC'),\n",
       " ('flew', 'VBD'),\n",
       " ('away', 'RB'),\n",
       " ('like', 'IN'),\n",
       " ('a', 'DT'),\n",
       " ('fairy', 'NN')]"
      ]
     },
     "execution_count": 3,
     "metadata": {},
     "output_type": "execute_result"
    }
   ],
   "source": [
    "pos_tag(word_tokenize('There once was a girl named Mary, who loved to read in the library. She borrowed a thick book, and found a nice nook, and flew away like a fairy'))"
   ]
  },
  {
   "cell_type": "code",
   "execution_count": 4,
   "metadata": {},
   "outputs": [],
   "source": [
    "storyline = ['mary', 'library', 'book', 'nook', 'fairy']\n",
    "template = [['EX', 'RB', 'VBD', 'DT', 'NN', 'VBN', 'NNP'],\n",
    "             ['WP', 'VBD', 'TO', 'VB', 'IN', 'DT', 'NN'],\n",
    "             ['PRR', 'VBD', 'DT', 'JJ', 'NN'],\n",
    "             ['CC', 'VBD', 'DT', 'JJ', 'NN'],\n",
    "             ['CC', 'VBD', 'RB', 'IN', 'DT', 'NN']]"
   ]
  },
  {
   "cell_type": "code",
   "execution_count": 5,
   "metadata": {},
   "outputs": [
    {
     "data": {
      "text/plain": [
       "[('library', 4.65390157699585),\n",
       " ('mary', 4.639703273773193),\n",
       " ('elizabeth', 3.633802890777588),\n",
       " ('chapel', 3.4066123962402344),\n",
       " ('hall', 3.095370054244995),\n",
       " ('dedicated', 3.0537571907043457),\n",
       " ('margaret', 3.0534539222717285),\n",
       " ('college', 3.0436367988586426),\n",
       " ('church', 2.99871563911438),\n",
       " ('librarian', 2.894843816757202)]"
      ]
     },
     "execution_count": 5,
     "metadata": {},
     "output_type": "execute_result"
    }
   ],
   "source": [
    "poetic_vectors.most_similar_cosmul(positive=[poetic_vectors.get_vector('mary'), poetic_vectors.get_vector('library')], topn=10)"
   ]
  },
  {
   "cell_type": "code",
   "execution_count": 16,
   "metadata": {},
   "outputs": [],
   "source": [
    "def similar_pos(words, pos, topn=200):\n",
    "    matching_words = []\n",
    "    embeddings = [poetic_vectors.get_vector(w) for w in words]\n",
    "    for candidate_word, similarity in poetic_vectors.most_similar(positive=embeddings, topn=topn):\n",
    "        if pos in words_to_pos[candidate_word]:\n",
    "            matching_words.append(candidate_word)\n",
    "    return matching_words"
   ]
  },
  {
   "cell_type": "code",
   "execution_count": 8,
   "metadata": {},
   "outputs": [
    {
     "data": {
      "text/plain": [
       "['housed', 'established', 'became', 'devoted', 'wrote', 'sacred']"
      ]
     },
     "execution_count": 8,
     "metadata": {},
     "output_type": "execute_result"
    }
   ],
   "source": [
    "similar_pos(['mary', 'library'], ['VBD'])"
   ]
  },
  {
   "cell_type": "code",
   "execution_count": 31,
   "metadata": {},
   "outputs": [],
   "source": [
    "def get_sliding_window_words(storyline, window_padding=1):\n",
    "    context_words = []\n",
    "    for i, word in enumerate(storyline):\n",
    "        start = max(0, i - window_padding)\n",
    "        end = min(len(storyline), i + window_padding) + 1\n",
    "        words = storyline[start:end]\n",
    "        context_words.append(words)\n",
    "    return context_words\n",
    "\n",
    "def fill_in_template(template, storyline, fill_pos):\n",
    "    print(template)\n",
    "    empty_template = []\n",
    "    for i, line in enumerate(template):\n",
    "        empty_line = ['' for j in range(len(line) - 1)]\n",
    "        empty_line.append(storyline[i])\n",
    "        empty_template.append(empty_line)\n",
    "    context_words = get_sliding_window_words(storyline)\n",
    "    ps = PorterStemmer()\n",
    "    used_words = set([ps.stem(w) for w in storyline])\n",
    "    for i, line in enumerate(template):\n",
    "        for j, pos in enumerate(line):\n",
    "            if pos == 'EX':\n",
    "                empty_template[i][j] = 'there'\n",
    "            if pos == 'TO':\n",
    "                empty_template[i][j] = 'to'\n",
    "            if pos == 'WP$':\n",
    "                empty_template[i][j] = 'whose'\n",
    "            if pos == 'SO':\n",
    "                empty_template[i][j] = 'so'\n",
    "            if pos == 'WHO':\n",
    "                empty_template[i][j] = 'who'\n",
    "            if pos == 'THAN':\n",
    "                empty_template[i][j] = 'than'\n",
    "            if pos == 'AS':\n",
    "                empty_template[i][j] = 'as'\n",
    "            if pos == 'WHEN':\n",
    "                empty_template[i][j] = 'when'\n",
    "            if pos == 'IF':\n",
    "                empty_template[i][j] = 'if'\n",
    "            if pos == 'POS':\n",
    "                empty_template[i][j] = '\\'s'\n",
    "            if pos == 'WHILE':\n",
    "                empty_template[i][j] = 'while'\n",
    "            if pos in fill_pos and j < len(line) - 1:\n",
    "                fill_words = [w for w in similar_pos(context_words[i], pos) if ps.stem(w) not in used_words]\n",
    "                if len(fill_words) > 0:\n",
    "                    empty_template[i][j] = fill_words[0]\n",
    "                    used_words.add(ps.stem(fill_words[0]))\n",
    "    return empty_template"
   ]
  },
  {
   "cell_type": "code",
   "execution_count": 38,
   "metadata": {},
   "outputs": [
    {
     "name": "stdout",
     "output_type": "stream",
     "text": [
      "[['EX', 'RB', 'VBD', 'DT', 'NN', 'VBN', 'NNP'], ['WP', 'VBD', 'TO', 'VB', 'IN', 'DT', 'NN'], ['PRR', 'VBD', 'DT', 'JJ', 'NN'], ['CC', 'VBD', 'DT', 'JJ', 'NN'], ['CC', 'VBD', 'RB', 'IN', 'DT', 'NN']]\n"
     ]
    },
    {
     "data": {
      "text/plain": [
       "[['there', '', 'housed', '', '', '', 'mary'],\n",
       " ['', 'wrote', 'to', '', '', '', 'library'],\n",
       " ['', 'read', '', '', 'book'],\n",
       " ['', 'enchanted', '', '', 'nook'],\n",
       " ['', 'eared', '', '', '', 'fairy']]"
      ]
     },
     "execution_count": 38,
     "metadata": {},
     "output_type": "execute_result"
    }
   ],
   "source": [
    "fill_in_template(template, storyline, ['VBD'])"
   ]
  },
  {
   "cell_type": "code",
   "execution_count": 19,
   "metadata": {},
   "outputs": [
    {
     "name": "stdout",
     "output_type": "stream",
     "text": [
      "[['EX', 'RB', 'VBD', 'DT', 'NN', 'VBN', 'NNP'], ['WP', 'VBD', 'TO', 'VB', 'IN', 'DT', 'NN'], ['PRR', 'VBD', 'DT', 'JJ', 'NN'], ['CC', 'VBD', 'DT', 'JJ', 'NN'], ['CC', 'VBD', 'RB', 'IN', 'DT', 'NN']]\n"
     ]
    },
    {
     "data": {
      "text/plain": [
       "[['', '', '', '', '', '', 'mary'],\n",
       " ['', '', '', '', '', '', 'library'],\n",
       " ['', '', '', 'novel', 'book'],\n",
       " ['', '', '', 'comic', 'nook'],\n",
       " ['', '', '', '', '', 'fairy']]"
      ]
     },
     "execution_count": 19,
     "metadata": {},
     "output_type": "execute_result"
    }
   ],
   "source": [
    "fill_in_template(template, storyline, ['JJ'])"
   ]
  },
  {
   "cell_type": "code",
   "execution_count": 20,
   "metadata": {},
   "outputs": [
    {
     "name": "stdout",
     "output_type": "stream",
     "text": [
      "[['EX', 'RB', 'VBD', 'DT', 'NN', 'VBN', 'NNP'], ['WP', 'VBD', 'TO', 'VB', 'IN', 'DT', 'NN'], ['PRR', 'VBD', 'DT', 'JJ', 'NN'], ['CC', 'VBD', 'DT', 'JJ', 'NN'], ['CC', 'VBD', 'RB', 'IN', 'DT', 'NN']]\n"
     ]
    },
    {
     "data": {
      "text/plain": [
       "[['', 'later', '', '', '', '', 'mary'],\n",
       " ['', '', '', '', '', '', 'library'],\n",
       " ['', '', '', '', 'book'],\n",
       " ['', '', '', '', 'nook'],\n",
       " ['', '', 'lovely', '', '', 'fairy']]"
      ]
     },
     "execution_count": 20,
     "metadata": {},
     "output_type": "execute_result"
    }
   ],
   "source": [
    "fill_in_template(template, storyline, ['RB'])"
   ]
  },
  {
   "cell_type": "code",
   "execution_count": 37,
   "metadata": {},
   "outputs": [
    {
     "name": "stdout",
     "output_type": "stream",
     "text": [
      "[['EX', 'RB', 'VBD', 'DT', 'NN', 'VBN', 'NNP'], ['WP', 'VBD', 'TO', 'VB', 'IN', 'DT', 'NN'], ['PRR', 'VBD', 'DT', 'JJ', 'NN'], ['CC', 'VBD', 'DT', 'JJ', 'NN'], ['CC', 'VBD', 'RB', 'IN', 'DT', 'NN']]\n"
     ]
    },
    {
     "data": {
      "text/plain": [
       "[['there', 'later', 'housed', '', '', '', 'mary'],\n",
       " ['', 'wrote', 'to', '', '', '', 'library'],\n",
       " ['', 'read', '', 'novel', 'book'],\n",
       " ['', 'enchanted', '', 'comic', 'nook'],\n",
       " ['', 'eared', 'lovely', '', '', 'fairy']]"
      ]
     },
     "execution_count": 37,
     "metadata": {},
     "output_type": "execute_result"
    }
   ],
   "source": [
    "fill_in_template(template, storyline, ['VBD', 'JJ', 'RB'])"
   ]
  },
  {
   "cell_type": "code",
   "execution_count": null,
   "metadata": {},
   "outputs": [],
   "source": []
  }
 ],
 "metadata": {
  "kernelspec": {
   "display_name": "Python 3",
   "language": "python",
   "name": "python3"
  },
  "language_info": {
   "codemirror_mode": {
    "name": "ipython",
    "version": 3
   },
   "file_extension": ".py",
   "mimetype": "text/x-python",
   "name": "python",
   "nbconvert_exporter": "python",
   "pygments_lexer": "ipython3",
   "version": "3.6.7"
  }
 },
 "nbformat": 4,
 "nbformat_minor": 2
}
