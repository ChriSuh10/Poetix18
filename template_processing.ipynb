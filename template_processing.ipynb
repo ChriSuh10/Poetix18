{
 "cells": [
  {
   "cell_type": "code",
   "execution_count": 1,
   "metadata": {},
   "outputs": [],
   "source": [
    "special_words = set(['TO', 'ABOUT', 'THROUGH', 'WITH', 'THAT', 'WHICH'])"
   ]
  },
  {
   "cell_type": "code",
   "execution_count": 2,
   "metadata": {},
   "outputs": [],
   "source": [
    "%load_ext autoreload\n",
    "%autoreload 2"
   ]
  },
  {
   "cell_type": "code",
   "execution_count": 3,
   "metadata": {},
   "outputs": [
    {
     "name": "stderr",
     "output_type": "stream",
     "text": [
      "/anaconda3/lib/python3.6/site-packages/h5py/__init__.py:36: FutureWarning: Conversion of the second argument of issubdtype from `float` to `np.floating` is deprecated. In future, it will be treated as `np.float64 == np.dtype(float).type`.\n",
      "  from ._conv import register_converters as _register_converters\n"
     ]
    },
    {
     "name": "stdout",
     "output_type": "stream",
     "text": [
      "4\n"
     ]
    }
   ],
   "source": [
    "from py_files.Limericks_new2 import Limerick_Generate_new\n",
    "lg = Limerick_Generate_new()"
   ]
  },
  {
   "cell_type": "code",
   "execution_count": 6,
   "metadata": {},
   "outputs": [
    {
     "name": "stdout",
     "output_type": "stream",
     "text": [
      "Processed: 1\r",
      "Processed: 2\r",
      "Processed: 3\r",
      "Processed: 4\r",
      "Processed: 5\r",
      "Processed: 6\r",
      "Processed: 7\r",
      "Processed: 8\r",
      "Processed: 9\r",
      "Processed: 10\r",
      "Processed: 11\r",
      "Processed: 12\r",
      "Processed: 13\r",
      "Processed: 14\r",
      "Processed: 15\r",
      "Processed: 16\r",
      "Processed: 17\r",
      "Processed: 18\r",
      "Processed: 19\r",
      "Processed: 20\r",
      "Processed: 21\r",
      "Processed: 22\r",
      "Processed: 23\r",
      "Processed: 24\r",
      "Processed: 25\r",
      "Processed: 26\r",
      "Processed: 27\r",
      "Processed: 28\r",
      "Processed: 29\r",
      "Processed: 30\r",
      "Processed: 31\r",
      "Processed: 32\r",
      "Processed: 33\r",
      "Processed: 34\r",
      "Processed: 35\r",
      "Processed: 36\r",
      "Processed: 37\r",
      "Processed: 38\r",
      "Processed: 39\r",
      "Processed: 40\r",
      "Processed: 41\r",
      "Processed: 42\r",
      "Processed: 43\r",
      "Processed: 44\r",
      "Processed: 45\r",
      "Processed: 46\r",
      "Processed: 47\r",
      "Processed: 48\r",
      "Processed: 49\r",
      "Processed: 50\r",
      "Processed: 51\r",
      "Processed: 52\r",
      "Processed: 53\r",
      "Processed: 54\r",
      "Processed: 55\r",
      "Processed: 56\r",
      "Processed: 57\r",
      "Processed: 58\r",
      "Processed: 59\r",
      "Processed: 60\r",
      "Processed: 61\r",
      "Processed: 62\r",
      "Processed: 63\r",
      "Processed: 64\r",
      "Processed: 65\r",
      "Processed: 66\r",
      "Processed: 67\r",
      "Processed: 68\r",
      "Processed: 69\r",
      "Processed: 70\r",
      "Processed: 71\r",
      "Processed: 72\r",
      "Processed: 73\r",
      "Processed: 74\r",
      "Processed: 75\r",
      "Processed: 76\r",
      "Processed: 77\r",
      "Processed: 78\r",
      "Processed: 79\r",
      "Processed: 80\r",
      "Processed: 81\r",
      "Processed: 82\r",
      "Processed: 83\r",
      "Processed: 84\r",
      "Processed: 85\r",
      "Processed: 86\r",
      "Processed: 87\r",
      "Processed: 88\r",
      "Processed: 89\r",
      "Processed: 90\r",
      "Processed: 91\r",
      "Processed: 92\r",
      "Processed: 93\r",
      "Processed: 94\r",
      "Processed: 95\r",
      "Processed: 96\r",
      "Processed: 97\r",
      "Processed: 98\r",
      "Processed: 99\r",
      "Processed: 100\r",
      "Processed: 101\r",
      "Processed: 102\r",
      "Processed: 103\r",
      "Processed: 104\r",
      "Processed: 105\r",
      "Processed: 106\r",
      "Processed: 107\r",
      "Processed: 108\r",
      "Processed: 109\r",
      "Processed: 110\r",
      "Processed: 111\r",
      "Processed: 112\r",
      "Processed: 113\r",
      "Processed: 114\r",
      "Processed: 115\r",
      "Processed: 116\r",
      "Processed: 117\r",
      "Processed: 118\r",
      "Processed: 119\r",
      "Processed: 120\r",
      "Processed: 121\r",
      "Processed: 122\r",
      "Processed: 123\r",
      "Processed: 124\r",
      "Processed: 125\r",
      "Processed: 126\r",
      "Processed: 127\r",
      "Processed: 128\r",
      "Processed: 129\r",
      "Processed: 130\r"
     ]
    }
   ],
   "source": [
    "d = lg.templates\n",
    "processed = 0\n",
    "for line in d:\n",
    "    for POS in d[line]:\n",
    "        for sentence in d[line][POS]:\n",
    "            for i in range(len(sentence[1])):\n",
    "                if sentence[1][i].upper() in special_words:\n",
    "                    sentence[0][i] = sentence[1][i].upper()\n",
    "                    processed += 1\n",
    "                    print(\"Processed: \" + str(processed), end=\"\\r\")"
   ]
  },
  {
   "cell_type": "code",
   "execution_count": 7,
   "metadata": {},
   "outputs": [
    {
     "ename": "NameError",
     "evalue": "name 'pickle' is not defined",
     "output_type": "error",
     "traceback": [
      "\u001b[0;31m---------------------------------------------------------------------------\u001b[0m",
      "\u001b[0;31mNameError\u001b[0m                                 Traceback (most recent call last)",
      "\u001b[0;32m<ipython-input-7-d61184df7b82>\u001b[0m in \u001b[0;36m<module>\u001b[0;34m()\u001b[0m\n\u001b[0;32m----> 1\u001b[0;31m \u001b[0mpickle\u001b[0m\u001b[0;34m.\u001b[0m\u001b[0mdump\u001b[0m\u001b[0;34m(\u001b[0m\u001b[0md\u001b[0m\u001b[0;34m,\u001b[0m \u001b[0mopen\u001b[0m\u001b[0;34m(\u001b[0m \u001b[0;34m\"py_files/saved_objects/templates_processed.pickle\"\u001b[0m\u001b[0;34m,\u001b[0m \u001b[0;34m\"wb\"\u001b[0m \u001b[0;34m)\u001b[0m \u001b[0;34m)\u001b[0m\u001b[0;34m\u001b[0m\u001b[0m\n\u001b[0m",
      "\u001b[0;31mNameError\u001b[0m: name 'pickle' is not defined"
     ]
    }
   ],
   "source": [
    "pickle.dump(d, open( \"py_files/saved_objects/templates_processed.pickle\", \"wb\" ) )"
   ]
  },
  {
   "cell_type": "code",
   "execution_count": null,
   "metadata": {},
   "outputs": [],
   "source": []
  }
 ],
 "metadata": {
  "kernelspec": {
   "display_name": "Python 3",
   "language": "python",
   "name": "python3"
  },
  "language_info": {
   "codemirror_mode": {
    "name": "ipython",
    "version": 3
   },
   "file_extension": ".py",
   "mimetype": "text/x-python",
   "name": "python",
   "nbconvert_exporter": "python",
   "pygments_lexer": "ipython3",
   "version": "3.6.5"
  }
 },
 "nbformat": 4,
 "nbformat_minor": 2
}
