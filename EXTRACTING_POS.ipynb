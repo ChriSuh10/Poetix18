{
 "cells": [
  {
   "cell_type": "markdown",
   "metadata": {},
   "source": [
    "### GET TEMPLATES CONTAINING > 2 NOUNS\n",
    "\n",
    "### GET DICTIONARIES POSTAG --> WORDS\n",
    "\n",
    "### GET DICTIONARIES WORDS --> POSTAG\n"
   ]
  },
  {
   "cell_type": "code",
   "execution_count": 1,
   "metadata": {},
   "outputs": [
    {
     "name": "stderr",
     "output_type": "stream",
     "text": [
      "c:\\users\\hp\\anaconda2\\envs\\translator\\lib\\site-packages\\h5py\\__init__.py:36: FutureWarning: Conversion of the second argument of issubdtype from `float` to `np.floating` is deprecated. In future, it will be treated as `np.float64 == np.dtype(float).type`.\n",
      "  from ._conv import register_converters as _register_converters\n",
      "Using TensorFlow backend.\n"
     ]
    }
   ],
   "source": [
    "import nltk\n",
    "import keras.preprocessing\n",
    "import codecs\n",
    "import re\n",
    "import pickle\n",
    "import random"
   ]
  },
  {
   "cell_type": "code",
   "execution_count": 2,
   "metadata": {},
   "outputs": [],
   "source": [
    "with codecs.open('data/frost/input.txt','rb', encoding='utf-8') as f:\n",
    "    data=f.read()"
   ]
  },
  {
   "cell_type": "code",
   "execution_count": 3,
   "metadata": {},
   "outputs": [],
   "source": [
    "#CLEAN TEXT\n",
    "def simple_clean(string):\n",
    "        string = re.sub(r\"\\n\", \" KKK \", string) #MARK LINES\n",
    "        string = re.sub(r\"[^가-힣A-Za-z0-9(),!?\\'\\`]\", \" \", string)\n",
    "        string = re.sub(r\"\\'\", \"\", string)\n",
    "        string = re.sub(r\"-\", \"\", string)\n",
    "        string = re.sub(r\":\", \"\", string)\n",
    "\n",
    "        string = re.sub(r\"\\'s\", \" \\'s\", string)\n",
    "        string = re.sub(r\"\\'d\", \"ed\", string) #for the old style\n",
    "        string = re.sub(r\"n\\'t\", \" n\\'t\", string)\n",
    "        string = re.sub(r\"I\\'ve\", \"I have\", string)\n",
    "        string = re.sub(r\"\\'ll\", \" will\", string)\n",
    "\n",
    "        string = re.sub(r\"[0-9]+\", \"EOS\", string) # EOS tag for numeric titling\n",
    "\n",
    "        string = re.sub(r\";\", \",\", string)\n",
    "        string = re.sub(r\",\", \" , \", string)\n",
    "        string = re.sub(r\"!\", \" ! \", string)\n",
    "        string = re.sub(r\"\\?\", \" ? \", string)\n",
    "        string = re.sub(r\"\\.\", \" . \", string)\n",
    "\n",
    "        string = re.sub(r\"\\(\", \" \\( \", string)\n",
    "        string = re.sub(r\"\\)\", \" \\) \", string)\n",
    "        string = re.sub(r\"\\s{2,}\", \" \", string)\n",
    "\n",
    "        return string.strip().split('KKK')"
   ]
  },
  {
   "cell_type": "code",
   "execution_count": 4,
   "metadata": {},
   "outputs": [],
   "source": [
    "#GET TOKENIZED LINES\n",
    "def get_token_sent(data):\n",
    "    k=simple_clean(data)\n",
    "    result=[]\n",
    "    for el in k:\n",
    "        res=el.split(' ')\n",
    "        if set(res)!=set(['']):\n",
    "            res=[x for x in res if x!='']\n",
    "            #res=['sos']+res+['eos']\n",
    "            result.append(res)\n",
    "    return result\n",
    "\n",
    "#GET POSTAG FOR SENTENCE\n",
    "def get_pos_tag(sent):\n",
    "    res=nltk.pos_tag(sent)\n",
    "    res=[tup[1] for tup in res]\n",
    "    return res"
   ]
  },
  {
   "cell_type": "code",
   "execution_count": 5,
   "metadata": {},
   "outputs": [],
   "source": [
    "#GET TOKENIZED SENTENCE FOR THE TEXT\n",
    "dat=get_token_sent(data)"
   ]
  },
  {
   "cell_type": "code",
   "execution_count": 6,
   "metadata": {},
   "outputs": [],
   "source": [
    "#POSTAG ALL LINES\n",
    "i=0\n",
    "dataset=[]\n",
    "while True:\n",
    "    try:\n",
    "        r=dat[i]\n",
    "    except:\n",
    "        break\n",
    "    tag=get_pos_tag(r)\n",
    "    if (tag.count('NN')+tag.count('NNS'))>1:\n",
    "        dataset.append(tag)\n",
    "    i+=1"
   ]
  },
  {
   "cell_type": "code",
   "execution_count": 7,
   "metadata": {},
   "outputs": [
    {
     "data": {
      "text/plain": [
       "0"
      ]
     },
     "execution_count": 7,
     "metadata": {},
     "output_type": "execute_result"
    }
   ],
   "source": [
    "# HOW MANY SINGULAR NOUNS WITH HAVE IN LINE 2?\n",
    "get_pos_tag(dat[1]).count('NN')"
   ]
  },
  {
   "cell_type": "code",
   "execution_count": 8,
   "metadata": {},
   "outputs": [
    {
     "data": {
      "text/plain": [
       "[('fly', 'NN')]"
      ]
     },
     "execution_count": 8,
     "metadata": {},
     "output_type": "execute_result"
    }
   ],
   "source": [
    "#fly is a noun according to this, but it should also be a verb\n",
    "nltk.pos_tag(['fly'])"
   ]
  },
  {
   "cell_type": "code",
   "execution_count": 9,
   "metadata": {},
   "outputs": [],
   "source": [
    "# In order to get all possible tags for a particular word, we need to search over some corpus and find them.\n",
    "#Search all tags for every word in the dataset\n",
    "from collections import defaultdict, Counter\n",
    "import itertools\n",
    "counts = defaultdict(Counter)\n",
    "tagged_sents = [nltk.pos_tag(sent) for sent in dat]\n",
    "for word, pos in itertools.chain(*tagged_sents):\n",
    "     counts[word][pos] += 1"
   ]
  },
  {
   "cell_type": "code",
   "execution_count": 10,
   "metadata": {},
   "outputs": [],
   "source": [
    "from collections import defaultdict, Counter\n",
    "import itertools\n",
    "counts_sent= defaultdict(int)\n",
    "for sent in dataset:\n",
    "    str_sent=' '.join(sent)\n",
    "    counts_sent[str_sent] += 1"
   ]
  },
  {
   "cell_type": "code",
   "execution_count": null,
   "metadata": {},
   "outputs": [],
   "source": []
  },
  {
   "cell_type": "code",
   "execution_count": 11,
   "metadata": {},
   "outputs": [
    {
     "data": {
      "text/plain": [
       "Counter({'NN': 13, 'VB': 6})"
      ]
     },
     "execution_count": 11,
     "metadata": {},
     "output_type": "execute_result"
    }
   ],
   "source": [
    "#fly is a verb and a noun\n",
    "counts['fly']"
   ]
  },
  {
   "cell_type": "code",
   "execution_count": 12,
   "metadata": {},
   "outputs": [
    {
     "name": "stdout",
     "output_type": "stream",
     "text": [
      "Counter()\n",
      "Counter({'NN': 16})\n"
     ]
    }
   ],
   "source": [
    "#kind is a noun, but \n",
    "print (counts['report'])\n",
    "print(counts['kind'])\n",
    "\n",
    "##add more examples pbt or brown nltk.corpus.brown"
   ]
  },
  {
   "cell_type": "code",
   "execution_count": 13,
   "metadata": {},
   "outputs": [
    {
     "data": {
      "text/plain": [
       "'from nltk.corpus import brown\\nprint (brown.words())\\ntagged_sents = nltk.pos_tag(brown.words())\\nfor word, pos in tagged_sents:\\n     counts[word][pos] += 1'"
      ]
     },
     "execution_count": 13,
     "metadata": {},
     "output_type": "execute_result"
    }
   ],
   "source": [
    "# search over brown corpus too\n",
    "\"\"\"from nltk.corpus import brown\n",
    "print (brown.words())\n",
    "tagged_sents = nltk.pos_tag(brown.words())\n",
    "for word, pos in tagged_sents:\n",
    "     counts[word][pos] += 1\"\"\""
   ]
  },
  {
   "cell_type": "code",
   "execution_count": 14,
   "metadata": {},
   "outputs": [],
   "source": [
    "#create dictionary TAG--> WORDS\n",
    "tag2words=defaultdict(list)\n",
    "wordTOtags=defaultdict(list)\n",
    "word2tags=defaultdict(list)\n",
    "for word, tag in zip(list(counts.keys()), list(counts.values())):\n",
    "    mc=tag.most_common(3)\n",
    "    for pos_t in mc:\n",
    "        #tag2words[pos_t].append(word.lower())\n",
    "        wordTOtags[word.lower()].append(pos_t)\n",
    "for word, tag in zip(list(wordTOtags.keys()), list(wordTOtags.values())):\n",
    "    list_t=sorted(tag, key=lambda tup: tup[1], reverse=True)\n",
    "    for x in list_t:\n",
    "        if float(x[1])/(list_t[0][1])>0.3:\n",
    "            word2tags[word].append(x[0])\n",
    "            tag2words[x[0]].append(word)\n",
    "            "
   ]
  },
  {
   "cell_type": "code",
   "execution_count": 15,
   "metadata": {},
   "outputs": [
    {
     "data": {
      "text/plain": [
       "[('DT', 70), ('NNP', 19)]"
      ]
     },
     "execution_count": 15,
     "metadata": {},
     "output_type": "execute_result"
    }
   ],
   "source": [
    "list(counts.values())[192].most_common(2)"
   ]
  },
  {
   "cell_type": "code",
   "execution_count": 16,
   "metadata": {},
   "outputs": [
    {
     "data": {
      "text/plain": [
       "['VBD']"
      ]
     },
     "execution_count": 16,
     "metadata": {},
     "output_type": "execute_result"
    }
   ],
   "source": [
    "word2tags['was']"
   ]
  },
  {
   "cell_type": "code",
   "execution_count": 17,
   "metadata": {},
   "outputs": [
    {
     "data": {
      "text/plain": [
       "['wishes',\n",
       " 'trees',\n",
       " 'walls',\n",
       " 'raspberries',\n",
       " 'fences',\n",
       " 'vines',\n",
       " 'woods',\n",
       " 'chops',\n",
       " 'forgotten',\n",
       " 'bats']"
      ]
     },
     "execution_count": 17,
     "metadata": {},
     "output_type": "execute_result"
    }
   ],
   "source": [
    "tag2words['NNS'][:10]"
   ]
  },
  {
   "cell_type": "code",
   "execution_count": 18,
   "metadata": {},
   "outputs": [
    {
     "data": {
      "text/plain": [
       "'CD IN PRP$ NNS VBZ IN DT JJ NNS ,'"
      ]
     },
     "execution_count": 18,
     "metadata": {},
     "output_type": "execute_result"
    }
   ],
   "source": [
    "' '.join(dataset[0])"
   ]
  },
  {
   "cell_type": "code",
   "execution_count": 19,
   "metadata": {},
   "outputs": [],
   "source": [
    "NN2postag=defaultdict(list)\n",
    "for sent in dataset:\n",
    "    if sent.count('NN')>1:\n",
    "        aux=[i for i,x in enumerate(sent) if x == 'NN']\n",
    "        aux=random.sample(aux, 2)\n",
    "        NN2postag['NN-NN'].append((sent, aux))\n",
    "    if sent.count('NN')==1 and sent.count('NNS')==1:\n",
    "        idxnn=sent.index('NN')\n",
    "        idxnns=sent.index('NNS')\n",
    "        NN2postag['NN-NNS'].append((sent,[idxnn, idxnns]))\n",
    "    if sent.count('NNS')>1:\n",
    "        aux=[i for i,x in enumerate(sent) if x == 'NNS']\n",
    "        aux=random.sample(aux, 2)\n",
    "        NN2postag['NNS-NNS'].append((sent, aux))\n",
    "    #####################################\n",
    "    if sent.count('VB')>1:\n",
    "        aux=[i for i,x in enumerate(sent) if x == 'VB']\n",
    "        aux=random.sample(aux, 2)\n",
    "        NN2postag['VB-VB'].append((sent, aux))\n",
    "    if sent.count('VB')>1:\n",
    "        aux=[i for i,x in enumerate(sent) if x == 'VB']\n",
    "        aux=random.sample(aux, 2)\n",
    "        NN2postag['VB-VB'].append((sent, aux))\n",
    "    if sent.count('NN')==1 and sent.count('VB')==1:\n",
    "        idxnn=sent.index('NN')\n",
    "        idxnns=sent.index('VB')\n",
    "        NN2postag['NN-VB'].append((sent,[idxnn, idxnns]))\n",
    "    if sent.count('NNS')==1 and sent.count('VB')==1:\n",
    "        idxnn=sent.index('NNS')\n",
    "        idxnns=sent.index('VB')\n",
    "        NN2postag['NNS-VB'].append((sent,[idxnn, idxnns]))\n",
    "    ##################################################\n",
    "    if sent.count('RB')>1:\n",
    "        aux=[i for i,x in enumerate(sent) if x == 'RB']\n",
    "        aux=random.sample(aux, 2)\n",
    "        NN2postag['RB-RB'].append((sent, aux))\n",
    "    if sent.count('NN')==1 and sent.count('RB')==1:\n",
    "        idxnn=sent.index('NN')\n",
    "        idxnns=sent.index('RB')\n",
    "        NN2postag['NN-RB'].append((sent,[idxnn, idxnns]))\n",
    "    if sent.count('NNS')==1 and sent.count('RB')==1:\n",
    "        idxnn=sent.index('NNS')\n",
    "        idxnns=sent.index('RB')\n",
    "        NN2postag['NNS-RB'].append((sent,[idxnn, idxnns]))\n",
    "    if sent.count('RB')==1 and sent.count('VB')==1:\n",
    "        idxnn=sent.index('RB')\n",
    "        idxnns=sent.index('VB')\n",
    "        NN2postag['RB-VB'].append((sent,[idxnn, idxnns]))\n",
    "    #####################################################\n",
    "    if sent.count('JJ')>1:\n",
    "        aux=[i for i,x in enumerate(sent) if x == 'JJ']\n",
    "        aux=random.sample(aux, 2)\n",
    "        NN2postag['JJ-JJ'].append((sent, aux))\n",
    "    if sent.count('NN')==1 and sent.count('JJ')==1:\n",
    "        idxnn=sent.index('JJ')\n",
    "        idxnns=sent.index('NN')\n",
    "        NN2postag['JJ-NN'].append((sent,[idxnn, idxnns]))\n",
    "    if sent.count('NNS')==1 and sent.count('JJ')==1:\n",
    "        idxnn=sent.index('JJ')\n",
    "        idxnns=sent.index('NNS')\n",
    "        NN2postag['JJ-NNS'].append((sent,[idxnn, idxnns]))\n",
    "    if sent.count('JJ')==1 and sent.count('VB')==1:\n",
    "        idxnn=sent.index('JJ')\n",
    "        idxnns=sent.index('VB')\n",
    "        NN2postag['JJ-VB'].append((sent,[idxnn, idxnns]))\n",
    "    if sent.count('JJ')==1 and sent.count('RB')==1:\n",
    "        idxnn=sent.index('JJ')\n",
    "        idxnns=sent.index('RB')\n",
    "        NN2postag['JJ-RB'].append((sent,[idxnn, idxnns]))"
   ]
  },
  {
   "cell_type": "code",
   "execution_count": 27,
   "metadata": {},
   "outputs": [],
   "source": [
    "tagTowords={}\n",
    "for key, value in tag2words.items():\n",
    "    tagTowords[key]=list(set(value))"
   ]
  },
  {
   "cell_type": "code",
   "execution_count": 96,
   "metadata": {},
   "outputs": [
    {
     "name": "stdout",
     "output_type": "stream",
     "text": [
      "$: dollar\n",
      "    $ -$ --$ A$ C$ HK$ M$ NZ$ S$ U.S.$ US$\n",
      "'': closing quotation mark\n",
      "    ' ''\n",
      "(: opening parenthesis\n",
      "    ( [ {\n",
      "): closing parenthesis\n",
      "    ) ] }\n",
      ",: comma\n",
      "    ,\n",
      "--: dash\n",
      "    --\n",
      ".: sentence terminator\n",
      "    . ! ?\n",
      ":: colon or ellipsis\n",
      "    : ; ...\n",
      "CC: conjunction, coordinating\n",
      "    & 'n and both but either et for less minus neither nor or plus so\n",
      "    therefore times v. versus vs. whether yet\n",
      "CD: numeral, cardinal\n",
      "    mid-1890 nine-thirty forty-two one-tenth ten million 0.5 one forty-\n",
      "    seven 1987 twenty '79 zero two 78-degrees eighty-four IX '60s .025\n",
      "    fifteen 271,124 dozen quintillion DM2,000 ...\n",
      "DT: determiner\n",
      "    all an another any both del each either every half la many much nary\n",
      "    neither no some such that the them these this those\n",
      "EX: existential there\n",
      "    there\n",
      "FW: foreign word\n",
      "    gemeinschaft hund ich jeux habeas Haementeria Herr K'ang-si vous\n",
      "    lutihaw alai je jour objets salutaris fille quibusdam pas trop Monte\n",
      "    terram fiche oui corporis ...\n",
      "IN: preposition or conjunction, subordinating\n",
      "    astride among uppon whether out inside pro despite on by throughout\n",
      "    below within for towards near behind atop around if like until below\n",
      "    next into if beside ...\n",
      "JJ: adjective or numeral, ordinal\n",
      "    third ill-mannered pre-war regrettable oiled calamitous first separable\n",
      "    ectoplasmic battery-powered participatory fourth still-to-be-named\n",
      "    multilingual multi-disciplinary ...\n",
      "JJR: adjective, comparative\n",
      "    bleaker braver breezier briefer brighter brisker broader bumper busier\n",
      "    calmer cheaper choosier cleaner clearer closer colder commoner costlier\n",
      "    cozier creamier crunchier cuter ...\n",
      "JJS: adjective, superlative\n",
      "    calmest cheapest choicest classiest cleanest clearest closest commonest\n",
      "    corniest costliest crassest creepiest crudest cutest darkest deadliest\n",
      "    dearest deepest densest dinkiest ...\n",
      "LS: list item marker\n",
      "    A A. B B. C C. D E F First G H I J K One SP-44001 SP-44002 SP-44005\n",
      "    SP-44007 Second Third Three Two * a b c d first five four one six three\n",
      "    two\n",
      "MD: modal auxiliary\n",
      "    can cannot could couldn't dare may might must need ought shall should\n",
      "    shouldn't will would\n",
      "NN: noun, common, singular or mass\n",
      "    common-carrier cabbage knuckle-duster Casino afghan shed thermostat\n",
      "    investment slide humour falloff slick wind hyena override subhumanity\n",
      "    machinist ...\n",
      "NNP: noun, proper, singular\n",
      "    Motown Venneboerger Czestochwa Ranzer Conchita Trumplane Christos\n",
      "    Oceanside Escobar Kreisler Sawyer Cougar Yvette Ervin ODI Darryl CTCA\n",
      "    Shannon A.K.C. Meltex Liverpool ...\n",
      "NNPS: noun, proper, plural\n",
      "    Americans Americas Amharas Amityvilles Amusements Anarcho-Syndicalists\n",
      "    Andalusians Andes Andruses Angels Animals Anthony Antilles Antiques\n",
      "    Apache Apaches Apocrypha ...\n",
      "NNS: noun, common, plural\n",
      "    undergraduates scotches bric-a-brac products bodyguards facets coasts\n",
      "    divestitures storehouses designs clubs fragrances averages\n",
      "    subjectivists apprehensions muses factory-jobs ...\n",
      "PDT: pre-determiner\n",
      "    all both half many quite such sure this\n",
      "POS: genitive marker\n",
      "    ' 's\n",
      "PRP: pronoun, personal\n",
      "    hers herself him himself hisself it itself me myself one oneself ours\n",
      "    ourselves ownself self she thee theirs them themselves they thou thy us\n",
      "PRP$: pronoun, possessive\n",
      "    her his mine my our ours their thy your\n",
      "RB: adverb\n",
      "    occasionally unabatingly maddeningly adventurously professedly\n",
      "    stirringly prominently technologically magisterially predominately\n",
      "    swiftly fiscally pitilessly ...\n",
      "RBR: adverb, comparative\n",
      "    further gloomier grander graver greater grimmer harder harsher\n",
      "    healthier heavier higher however larger later leaner lengthier less-\n",
      "    perfectly lesser lonelier longer louder lower more ...\n",
      "RBS: adverb, superlative\n",
      "    best biggest bluntest earliest farthest first furthest hardest\n",
      "    heartiest highest largest least less most nearest second tightest worst\n",
      "RP: particle\n",
      "    aboard about across along apart around aside at away back before behind\n",
      "    by crop down ever fast for forth from go high i.e. in into just later\n",
      "    low more off on open out over per pie raising start teeth that through\n",
      "    under unto up up-pp upon whole with you\n",
      "SYM: symbol\n",
      "    % & ' '' ''. ) ). * + ,. < = > @ A[fj] U.S U.S.S.R * ** ***\n",
      "TO: \"to\" as preposition or infinitive marker\n",
      "    to\n",
      "UH: interjection\n",
      "    Goodbye Goody Gosh Wow Jeepers Jee-sus Hubba Hey Kee-reist Oops amen\n",
      "    huh howdy uh dammit whammo shucks heck anyways whodunnit honey golly\n",
      "    man baby diddle hush sonuvabitch ...\n",
      "VB: verb, base form\n",
      "    ask assemble assess assign assume atone attention avoid bake balkanize\n",
      "    bank begin behold believe bend benefit bevel beware bless boil bomb\n",
      "    boost brace break bring broil brush build ...\n",
      "VBD: verb, past tense\n",
      "    dipped pleaded swiped regummed soaked tidied convened halted registered\n",
      "    cushioned exacted snubbed strode aimed adopted belied figgered\n",
      "    speculated wore appreciated contemplated ...\n",
      "VBG: verb, present participle or gerund\n",
      "    telegraphing stirring focusing angering judging stalling lactating\n",
      "    hankerin' alleging veering capping approaching traveling besieging\n",
      "    encrypting interrupting erasing wincing ...\n",
      "VBN: verb, past participle\n",
      "    multihulled dilapidated aerosolized chaired languished panelized used\n",
      "    experimented flourished imitated reunifed factored condensed sheared\n",
      "    unsettled primed dubbed desired ...\n",
      "VBP: verb, present tense, not 3rd person singular\n",
      "    predominate wrap resort sue twist spill cure lengthen brush terminate\n",
      "    appear tend stray glisten obtain comprise detest tease attract\n",
      "    emphasize mold postpone sever return wag ...\n",
      "VBZ: verb, present tense, 3rd person singular\n",
      "    bases reconstructs marks mixes displeases seals carps weaves snatches\n",
      "    slumps stretches authorizes smolders pictures emerges stockpiles\n",
      "    seduces fizzes uses bolsters slaps speaks pleads ...\n",
      "WDT: WH-determiner\n",
      "    that what whatever which whichever\n",
      "WP: WH-pronoun\n",
      "    that what whatever whatsoever which who whom whosoever\n",
      "WP$: WH-pronoun, possessive\n",
      "    whose\n",
      "WRB: Wh-adverb\n",
      "    how however whence whenever where whereby whereever wherein whereof why\n",
      "``: opening quotation mark\n",
      "    ` ``\n"
     ]
    }
   ],
   "source": [
    "nltk.help.upenn_tagset()"
   ]
  },
  {
   "cell_type": "code",
   "execution_count": 30,
   "metadata": {},
   "outputs": [],
   "source": [
    "#save results\n",
    "with open('postag_dict.p', 'wb') as f:\n",
    "    pickle.dump([NN2postag, tagTowords,word2tags],f, protocol=2 )"
   ]
  },
  {
   "cell_type": "code",
   "execution_count": 88,
   "metadata": {},
   "outputs": [
    {
     "data": {
      "text/plain": [
       "184"
      ]
     },
     "execution_count": 88,
     "metadata": {},
     "output_type": "execute_result"
    }
   ],
   "source": [
    "len(NN2postag['JJ-VB'])"
   ]
  },
  {
   "cell_type": "code",
   "execution_count": 89,
   "metadata": {},
   "outputs": [
    {
     "data": {
      "text/plain": [
       "(['CC', 'VBD', 'DT', 'NN', 'CC', 'DT', 'JJ', 'NNS', ','], [3, 7])"
      ]
     },
     "execution_count": 89,
     "metadata": {},
     "output_type": "execute_result"
    }
   ],
   "source": [
    "NN2postag['NN-NNS'][0]"
   ]
  },
  {
   "cell_type": "code",
   "execution_count": 90,
   "metadata": {},
   "outputs": [
    {
     "data": {
      "text/plain": [
       "714"
      ]
     },
     "execution_count": 90,
     "metadata": {},
     "output_type": "execute_result"
    }
   ],
   "source": [
    "len(NN2postag['NN-NNS'])"
   ]
  },
  {
   "cell_type": "code",
   "execution_count": 91,
   "metadata": {},
   "outputs": [
    {
     "data": {
      "text/plain": [
       "3721"
      ]
     },
     "execution_count": 91,
     "metadata": {},
     "output_type": "execute_result"
    }
   ],
   "source": [
    "len(dataset)"
   ]
  },
  {
   "cell_type": "code",
   "execution_count": null,
   "metadata": {},
   "outputs": [],
   "source": []
  },
  {
   "cell_type": "code",
   "execution_count": null,
   "metadata": {},
   "outputs": [],
   "source": []
  }
 ],
 "metadata": {
  "kernelspec": {
   "display_name": "Python 3",
   "language": "python",
   "name": "python3"
  },
  "language_info": {
   "codemirror_mode": {
    "name": "ipython",
    "version": 3
   },
   "file_extension": ".py",
   "mimetype": "text/x-python",
   "name": "python",
   "nbconvert_exporter": "python",
   "pygments_lexer": "ipython3",
   "version": "3.6.6"
  }
 },
 "nbformat": 4,
 "nbformat_minor": 2
}
