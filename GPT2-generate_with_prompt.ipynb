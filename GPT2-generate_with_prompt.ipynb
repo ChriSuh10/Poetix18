{
 "cells": [
  {
   "cell_type": "code",
   "execution_count": 1,
   "metadata": {},
   "outputs": [],
   "source": [
    "%load_ext autoreload\n",
    "%autoreload 2\n",
    "import re"
   ]
  },
  {
   "cell_type": "code",
   "execution_count": 2,
   "metadata": {},
   "outputs": [],
   "source": [
    "from py_files.Limericks import Limerick_Generate"
   ]
  },
  {
   "cell_type": "code",
   "execution_count": 3,
   "metadata": {},
   "outputs": [],
   "source": [
    "lg = Limerick_Generate()"
   ]
  },
  {
   "cell_type": "code",
   "execution_count": 4,
   "metadata": {},
   "outputs": [],
   "source": [
    "f = open('prompt2.txt','r')\n",
    "template = f.read()"
   ]
  },
  {
   "cell_type": "code",

   "execution_count": 82,
   "metadata": {},
   "outputs": [
    {
     "name": "stdout",
     "output_type": "stream",
     "text": [
      "[[1326], [1326], [72], [1326], [258], [732], [270], [18855], [732], [1326], [258]]\n",
      "INFO:tensorflow:Restoring parameters from gpt2/models/117M/model.ckpt\n",
      "[[1326, 83], [1326, 46037], [72, 7174], [1326, 65], [258, 83], [732, 66], [270, 83], [18855, 28895], [732, 28895], [1326, 4529], [258, 9776]]\n",
      "INFO:tensorflow:Restoring parameters from gpt2/models/117M/model.ckpt\n",
      "[[1326, 83, 505], [1326, 46037, 505], [72, 7174, 505], [1326, 65, 505], [258, 83, 505], [732, 66, 505], [270, 83, 505], [18855, 28895, 505], [732, 28895, 505], [1326, 4529, 505], [258, 9776, 505]]\n",
      "INFO:tensorflow:Restoring parameters from gpt2/models/117M/model.ckpt\n",
      "[[1326, 83, 505, 1084], [1326, 46037, 505, 37330], [72, 7174, 505, 9979], [1326, 65, 505, 46037], [258, 83, 505, 9979], [732, 66, 505, 12001], [270, 83, 505, 1904], [18855, 28895, 505, 14664], [732, 28895, 505, 489], [1326, 4529, 505, 23913], [258, 9776, 505, 12543]]\n",
      "INFO:tensorflow:Restoring parameters from gpt2/models/117M/model.ckpt\n",
      "[[1326, 83, 505, 1084, 85], [1326, 46037, 505, 37330, 28895], [72, 7174, 505, 9979, 22680], [1326, 65, 505, 46037, 19205], [258, 83, 505, 9979, 17319], [732, 66, 505, 12001, 28895], [270, 83, 505, 1904, 4853], [18855, 28895, 505, 14664, 86], [732, 28895, 505, 489, 28895], [1326, 4529, 505, 23913, 9688], [258, 9776, 505, 12543, 22932]]\n",
      "INFO:tensorflow:Restoring parameters from gpt2/models/117M/model.ckpt\n",
      "[[1326, 83, 505, 1084, 85, 448], [1326, 46037, 505, 37330, 28895, 1659], [72, 7174, 505, 9979, 22680, 2502], [1326, 65, 505, 46037, 19205, 1525], [258, 83, 505, 9979, 17319, 6738], [732, 66, 505, 12001, 28895, 361], [270, 83, 505, 1904, 4853, 1659], [18855, 28895, 505, 14664, 86, 1640], [732, 28895, 505, 489, 28895, 13893], [1326, 4529, 505, 23913, 9688, 1525], [258, 9776, 505, 12543, 22932, 4480]]\n",
      "INFO:tensorflow:Restoring parameters from gpt2/models/117M/model.ckpt\n",
      "[[1326, 83, 505, 1084, 85, 448, 5562], [1326, 46037, 505, 37330, 28895, 1659, 3919], [72, 7174, 505, 9979, 22680, 2502, 27218], [1326, 65, 505, 46037, 19205, 1525, 5562], [258, 83, 505, 9979, 17319, 6738, 5562], [732, 66, 505, 12001, 28895, 361, 25591], [270, 83, 505, 1904, 4853, 1659, 64], [18855, 28895, 505, 14664, 86, 1640, 27218], [732, 28895, 505, 489, 28895, 13893, 1169], [1326, 4529, 505, 23913, 9688, 1525, 64], [258, 9776, 505, 12543, 22932, 4480, 64]]\n",
      "INFO:tensorflow:Restoring parameters from gpt2/models/117M/model.ckpt\n",
      "[[1326, 83, 505, 1084, 85, 448, 5562, 14261], [1326, 46037, 505, 37330, 28895, 1659, 3919, 29468], [72, 7174, 505, 9979, 22680, 2502, 27218, 2382], [1326, 65, 505, 46037, 19205, 1525, 5562, 29468], [258, 83, 505, 9979, 17319, 6738, 5562, 9509], [732, 66, 505, 12001, 28895, 361, 25591, 13424], [270, 83, 505, 1904, 4853, 1659, 64, 1904], [18855, 28895, 505, 14664, 86, 1640, 27218, 9979], [732, 28895, 505, 489, 28895, 13893, 1169, 31642], [1326, 4529, 505, 23913, 9688, 1525, 64, 33282], [258, 9776, 505, 12543, 22932, 4480, 64, 44460]]\n",
      "INFO:tensorflow:Restoring parameters from gpt2/models/117M/model.ckpt\n",
      "[['me', 'took', 'one', 'minor', 'vocation', 'out', 'that', 'big', 'year'], ['me', 'interrupted', 'one', 'supreme', 'thought', 'of', 'no', 'daily', 'city'], ['i', 'called', 'one', 'constant', 'business', 'over', 'these', 'american', 'insult'], ['me', 'brought', 'one', 'interrupted', 'city', 'by', 'that', 'daily', 'way'], ['he', 'tried', 'one', 'constant', 'course', 'from', 'that', 'electrical', 'while'], ['we', 'came', 'one', 'local', 'thought', 'if', 'those', 'black', 'shift'], ['it', 'took', 'one', 'useful', 'equipment', 'of', 'a', 'useful', 'question'], ['them', 'thought', 'one', 'musical', 'wicked', 'for', 'these', 'constant', 'vocation'], ['we', 'thought', 'one', 'plush', 'thought', 'because', 'the', 'same', 'mission'], ['me', 'mailed', 'one', 'average', 'start', 'by', 'a', 'brown', 'equipment'], ['he', 'was', 'one', 'funny', 'guy', 'with', 'a', 'nice', 'car']]\n",
      "[-71.72274684906006, -84.4507827758789, -87.47336006164551, -77.24297523498535, -80.71968078613281, -83.54064512252808, -75.2580795288086, -76.95113897323608, -70.17250204086304, -83.5114426612854, -64.13277053833008]\n"

     ]
    }
   ],
   "source": [
    "lg.gen_line_with_template(template, (['PRP', 'VBD', 'CD', 'JJ', 'NN', 'IN', 'DT', 'JJ', 'NN'], \n",
    "                                     ['he', 'was', 'one', 'funny', 'guy', 'with', 'a', 'nice', 'car'], 4))"
   ]
  },
  {
   "cell_type": "code",
   "execution_count": 29,
   "metadata": {
    "collapsed": true
   },
   "outputs": [
    {
     "name": "stdout",
     "output_type": "stream",
     "text": [
      "INFO:tensorflow:Restoring parameters from gpt2/models/117M/model.ckpt\n",
      "INFO:tensorflow:Restoring parameters from gpt2/models/117M/model.ckpt\n",
      "INFO:tensorflow:Restoring parameters from gpt2/models/117M/model.ckpt\n",
      "INFO:tensorflow:Restoring parameters from gpt2/models/117M/model.ckpt\n",
      "INFO:tensorflow:Restoring parameters from gpt2/models/117M/model.ckpt\n",
      "INFO:tensorflow:Restoring parameters from gpt2/models/117M/model.ckpt\n",
      "INFO:tensorflow:Restoring parameters from gpt2/models/117M/model.ckpt\n",
      "INFO:tensorflow:Restoring parameters from gpt2/models/117M/model.ckpt\n",
      "INFO:tensorflow:Restoring parameters from gpt2/models/117M/model.ckpt\n",
      "INFO:tensorflow:Restoring parameters from gpt2/models/117M/model.ckpt\n",
      "INFO:tensorflow:Restoring parameters from gpt2/models/117M/model.ckpt\n",
      "INFO:tensorflow:Restoring parameters from gpt2/models/117M/model.ckpt\n",
      "INFO:tensorflow:Restoring parameters from gpt2/models/117M/model.ckpt\n",
      "[('he was one funny brit with a nice head of hair on his pate', -176.0026502609253)]\n"
     ]
    }
   ],
   "source": [
    "lg.gen_line_with_template(template, (['PRP', 'VBD', 'CD', 'JJ', 'NN', 'IN', 'DT', 'JJ', 'NN', 'IN', 'NN', 'IN', 'PRP$', 'NN'], \n",
    "                                     ['he', 'was', 'one', 'funny', 'brit', 'with', 'a', 'nice', 'head', 'of', 'hair', 'on', 'his', 'pate'], 4))"
   ]
  },
  {
   "cell_type": "code",
   "execution_count": 11,
   "metadata": {},
   "outputs": [
    {
     "name": "stderr",
     "output_type": "stream",
     "text": [
      "\n",
      "  0%|          | 0/5 [00:00<?, ?it/s]\u001b[A"
     ]
    },
    {
     "name": "stdout",
     "output_type": "stream",
     "text": [
      "INFO:tensorflow:Restoring parameters from gpt2/models/117M/model.ckpt\n"
     ]
    },
    {
     "name": "stderr",
     "output_type": "stream",
     "text": [
      "\n",
      " 20%|██        | 1/5 [00:11<00:45, 11.43s/it]\u001b[A"
     ]
    },
    {
     "name": "stdout",
     "output_type": "stream",
     "text": [
      "INFO:tensorflow:Restoring parameters from gpt2/models/117M/model.ckpt\n"
     ]
    },
    {
     "name": "stderr",
     "output_type": "stream",
     "text": [
      "\n",
      " 40%|████      | 2/5 [00:18<00:30, 10.25s/it]\u001b[A"
     ]
    },
    {
     "name": "stdout",
     "output_type": "stream",
     "text": [
      "INFO:tensorflow:Restoring parameters from gpt2/models/117M/model.ckpt\n"
     ]
    },
    {
     "name": "stderr",
     "output_type": "stream",
     "text": [
      "\n",
      " 60%|██████    | 3/5 [00:26<00:19,  9.54s/it]\u001b[A"
     ]
    },
    {
     "name": "stdout",
     "output_type": "stream",
     "text": [
      "INFO:tensorflow:Restoring parameters from gpt2/models/117M/model.ckpt\n"
     ]
    },
    {
     "name": "stderr",
     "output_type": "stream",
     "text": [
      "\n",
      " 80%|████████  | 4/5 [00:35<00:09,  9.20s/it]\u001b[A"
     ]
    },
    {
     "name": "stdout",
     "output_type": "stream",
     "text": [
      "INFO:tensorflow:Restoring parameters from gpt2/models/117M/model.ckpt\n"
     ]
    },
    {
     "name": "stderr",
     "output_type": "stream",
     "text": [
      "\n",
      "100%|██████████| 5/5 [00:44<00:00,  9.09s/it]\u001b[A"
     ]
    },
    {
     "name": "stdout",
     "output_type": "stream",
     "text": [
      "-35.618250370025635:['onesself', 'ought', 'get', 'to', 'the', 'head']\n",
      "-36.94826126098633:['self', 'will', 'get', 'to', 'this', 'meant']\n",
      "-37.41518306732178:['he', 'would', 'go', 'to', 'a', 'party']\n",
      "-37.52329349517822:['elf', 'could', 'have', 'to', 'an', 'joy']\n",
      "-37.756487131118774:['herself', 'couldnt', 'answer', 'to', 'the', 'kind']\n",
      "-38.27815294265747:['it', 'may', 'have', 'to', 'an', 'power']\n",
      "-38.4107871055603:['myself', 'would', 'get', 'to', 'neither', 'universe']\n",
      "-38.89037036895752:['yourself', 'can', 'answer', 'to', 'that', 'meant']\n",
      "-38.90909433364868:['yelps', 'ought', 'see', 'to', 'the', 'right']\n",
      "-40.10876798629761:['himself', 'will', 'get', 'to', 'such', 'something']\n",
      "-40.37603235244751:['they', 'must', 'know', 'to', 'both', 'meant']\n",
      "-40.41864204406738:['thyself', 'would', 'look', 'to', 'those', 'universe']\n",
      "-40.431214332580566:['himself', 'would', 'get', 'to', 'no', 'question']\n",
      "-40.55288600921631:['i', 'can', 'stare', 'at', 'the', 'sky']\n",
      "-40.632033348083496:['it', 'would', 'change', 'to', 'this', 'nature']\n",
      "-40.63859033584595:['onesself', 'could', 'make', 'to', 'another', 'mind']\n",
      "-40.76220512390137:['it', 'shall', 'read', 'to', 'that', 'place']\n",
      "-40.82319974899292:['thyself', 'shall', 'have', 'to', 'the', 'friendship']\n",
      "-41.07271146774292:['himself', 'could', 'create', 'to', 'that', 'look']\n",
      "-41.134456157684326:['we', 'need', 'get', 'to', 'those', 'universe']\n",
      "-41.18645524978638:['oneself', 'shouldnt', 'make', 'to', 'such', 'world']\n",
      "-41.234347343444824:['overthrow', 'couldnt', 'be', 'to', 'this', 'look']\n",
      "-41.24026823043823:['yourself', 'could', 'answer', 'to', 'that', 'compassion']\n",
      "-41.29003620147705:['overthrow', 'dare', 'have', 'to', 'any', 'part']\n",
      "-41.54408931732178:['yelps', 'would', 'know', 'to', 'such', 'part']\n",
      "-41.76845693588257:['myself', 'might', 'answer', 'to', 'these', 'head']\n",
      "-41.970362186431885:['they', 'need', 'have', 'to', 'some', 'object']\n",
      "-42.05702066421509:['theirs', 'might', 'look', 'to', 'either', 'meant']\n",
      "-42.32712984085083:['theirs', 'will', 're', 'to', 'the', 'look']\n",
      "-42.40623474121094:['self', 'would', 'change', 'to', 'every', 'something']\n",
      "-42.47628927230835:['themselves', 'must', 'be', 'to', 'any', 'love']\n",
      "-42.568084716796875:['onesself', 'could', 'object', 'to', 'a', 'head']\n",
      "-42.99645280838013:['himself', 'shall', 'do', 'to', 'every', 'place']\n",
      "-43.006187915802:['them', 'must', 're', 'to', 'an', 'head']\n",
      "-43.13183033466339:['you', 'shall', 'want', 'to', 'another', 'nature']\n",
      "-43.17368936538696:['theirs', 'couldnt', 'be', 'to', 'no', 'place']\n",
      "-43.333688735961914:['it', 'might', 'see', 'to', 'half', 'spirit']\n",
      "-43.61013746261597:['ont', 'must', 'answer', 'to', 'these', 'head']\n",
      "-43.640931129455566:['theirs', 'shall', 'be', 'to', 'a', 'question']\n",
      "-43.75807237625122:['us', 'couldnt', 'be', 'to', 'some', 'friendship']\n",
      "-43.812437534332275:['handfuls', 'ought', 'see', 'to', 'all', 'part']\n",
      "-43.99864721298218:['onesself', 'shall', 'get', 'to', 'a', 'compassion']\n",
      "-44.21208882331848:['they', 'might', 'have', 'to', 'half', 'object']\n",
      "-44.30803966522217:['oneself', 'cannot', 'want', 'to', 'all', 'something']\n",
      "-44.392898082733154:['massacred', 'shouldnt', 'have', 'to', 'neither', 'thought']\n",
      "-44.478670597076416:['they', 'couldnt', 'object', 'to', 'each', 'right']\n",
      "-44.53952884674072:['us', 'will', 'know', 'to', 'such', 'kindness']\n",
      "-44.56842041015625:['him', 'shall', 'get', 'to', 'these', 'spirit']\n",
      "-44.65755796432495:['handfuls', 'could', 'look', 'to', 'some', 'acceptance']\n",
      "-44.6889853477478:['she', 'dare', 'make', 'to', 'either', 'universe']\n",
      "-44.83735656738281:['me', 'dare', 'read', 'to', 'any', 'question']\n",
      "-44.89295053482056:['we', 'shall', 'answer', 'to', 'half', 'head']\n",
      "-44.937650203704834:['myself', 'need', 'answer', 'to', 'an', 'place']\n",
      "-44.9398398399353:['he', 'ought', 'make', 'to', 'another', 'head']\n",
      "-45.22154474258423:['them', 'need', 'look', 'to', 'any', 'object']\n",
      "-45.44110631942749:['he', 'dare', 'make', 'to', 'a', 'spirit']\n",
      "-45.58148002624512:['it', 'dare', 'change', 'to', 'either', 'power']\n",
      "-45.620378494262695:['them', 'shall', 'look', 'to', 'no', 'question']\n",
      "-45.77477025985718:['we', 'must', 'realize', 'to', 'an', 'nature']\n",
      "-45.8527717590332:['he', 'dare', 'make', 'to', 'this', 'mind']\n",
      "-46.138901710510254:['oftener', 'will', 'know', 'to', 'each', 'right']\n",
      "-46.27555513381958:['theirs', 'shall', 'change', 'to', 'both', 'understood']\n",
      "-46.41998338699341:['him', 'ought', 'perspective', 'to', 'a', 'head']\n",
      "-46.462711334228516:['i', 'would', 'do', 'to', 'both', 'sense']\n",
      "-46.52701950073242:['me', 'may', 'look', 'to', 'those', 'right']\n",
      "-46.61326742172241:['theirs', 'shall', 'answer', 'to', 'either', 'part']\n",
      "-46.790067195892334:['handfuls', 'would', 'see', 'to', 'no', 'everyone']\n",
      "-46.83842945098877:['it', 'shouldnt', 'create', 'to', 'those', 'joy']\n",
      "-47.01490497589111:['ourselves', 'may', 're', 'to', 'each', 'meant']\n",
      "-47.10071134567261:['elf', 'shouldnt', 'feel', 'to', 'this', 'spirit']\n",
      "-47.45151948928833:['ont', 'might', 'do', 'to', 'those', 'right']\n",
      "-47.51769161224365:['overthrow', 'cannot', 'be', 'to', 'any', 'luck']\n",
      "-47.614319801330566:['ourselves', 'may', 'make', 'to', 'that', 'key']\n",
      "-47.62021064758301:['meltst', 'may', 'feel', 'to', 'no', 'understood']\n",
      "-47.676005363464355:['it', 'shall', 'know', 'to', 'any', 're']\n",
      "-47.81748628616333:['yourself', 'shall', 'answer', 'to', 'either', 'everyone']\n",
      "-47.90272521972656:['they', 'need', 'object', 'to', 'some', 'right']\n",
      "-48.064697265625:['itself', 'shouldnt', 'feel', 'to', 'either', 'joy']\n",
      "-48.114638328552246:['herself', 'cannot', 'create', 'to', 'a', 'mind']\n",
      "-48.16156196594238:['onesself', 'dare', 'create', 'to', 'every', 'right']\n",
      "-48.298988819122314:['oftener', 'might', 're', 'to', 'any', 'luck']\n",
      "-48.391889572143555:['oneself', 'would', 'realize', 'to', 'both', 'create']\n",
      "-48.757526874542236:['elf', 'might', 'make', 'to', 'every', 'understood']\n",
      "-48.82694053649902:['herself', 'must', 'see', 'to', 'either', 'answer']\n",
      "-49.07833194732666:['mantelshelf', 'dare', 're', 'to', 'this', 'friendship']\n",
      "-49.09814691543579:['overthrow', 'ought', 'answer', 'to', 'half', 'question']\n",
      "-49.27568197250366:['ourselves', 'would', 'object', 'to', 'these', 'nothing']\n",
      "-49.40233135223389:['oftener', 'ought', 'know', 'to', 'every', 'head']\n",
      "-49.52407503128052:['itself', 'will', 'look', 'to', 'no', 'nature']\n",
      "-49.65809917449951:['us', 'will', 'object', 'to', 'every', 'answer']\n",
      "-50.04577684402466:['handfuls', 'ought', 'object', 'to', 'such', 'head']\n",
      "-50.16535520553589:['myself', 'must', 'realize', 'to', 'these', 'spirit']\n",
      "-50.273756980895996:['massacred', 'shall', 'do', 'to', 'such', 'thought']\n",
      "-50.529006004333496:['mantelshelf', 'may', 'do', 'to', 'some', 'friendship']\n",
      "-51.249709129333496:['ourselves', 'need', 'answer', 'to', 'both', 'acceptance']\n",
      "-51.383779525756836:['they', 'must', 'realize', 'to', 'either', 'spirit']\n",
      "-51.60080003738403:['thyself', 'ought', 're', 'to', 'either', 'everyone']\n",
      "-54.08293342590332:['it', 'must', 'perspective', 'to', 'no', 'perspective']\n",
      "-54.384799003601074:['theirs', 'may', 'perspective', 'to', 'these', 'kind']\n",
      "-54.776819705963135:['theirs', 'shall', 'perspective', 'to', 'that', 'love']\n",
      "-54.96657848358154:['thyself', 'ought', 'do', 'to', 'either', 'nothing']\n",
      "-59.24257183074951:['ye', 'will', 'perspective', 'to', 'half', 'nothing']\n"
     ]
    }
   ],
   "source": [
    "lg.gen_line_with_template2(template,['PRP', 'MD', 'VB', 'TO','DT', 'NN'],100)"
   ]
  },
  {
   "cell_type": "code",
   "execution_count": 48,
   "metadata": {},
   "outputs": [],
   "source": []
  },
  {
   "cell_type": "code",
   "execution_count": 52,
   "metadata": {},
   "outputs": [
    {
     "data": {
      "text/plain": [
       "41484"
      ]
     },
     "execution_count": 52,
     "metadata": {},
     "output_type": "execute_result"
    }
   ],
   "source": [
    "x[1][2]"
   ]
  },
  {
   "cell_type": "code",
   "execution_count": null,
   "metadata": {},
   "outputs": [],
   "source": []
  }
 ],
 "metadata": {
  "kernelspec": {
   "display_name": "Python 3",
   "language": "python",
   "name": "python3"
  },
  "language_info": {
   "codemirror_mode": {
    "name": "ipython",
    "version": 3
   },
   "file_extension": ".py",
   "mimetype": "text/x-python",
   "name": "python",
   "nbconvert_exporter": "python",
   "pygments_lexer": "ipython3",
   "version": "3.5.0"
  }
 },
 "nbformat": 4,
 "nbformat_minor": 2
}
