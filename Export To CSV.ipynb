{
 "cells": [
  {
   "cell_type": "code",
   "execution_count": 1,
   "metadata": {},
   "outputs": [
    {
     "name": "stderr",
     "output_type": "stream",
     "text": [
      "E:\\Anaconda3\\lib\\site-packages\\numpy\\_distributor_init.py:32: UserWarning: loaded more than 1 DLL from .libs:\n",
      "E:\\Anaconda3\\lib\\site-packages\\numpy\\.libs\\libopenblas.IPBC74C7KURV7CB2PKT5Z5FNR3SIBV4J.gfortran-win_amd64.dll\n",
      "E:\\Anaconda3\\lib\\site-packages\\numpy\\.libs\\libopenblas.PYQHXLVVQ7VESDPUVUADXEVJOBGHJPAY.gfortran-win_amd64.dll\n",
      "  stacklevel=1)\n"
     ]
    }
   ],
   "source": [
    "from pandas import DataFrame"
   ]
  },
  {
   "cell_type": "code",
   "execution_count": 94,
   "metadata": {},
   "outputs": [],
   "source": [
    "def create_generated_line_dictionary(in_paths, poem_type):\n",
    "    lines = {'keyword': [],\n",
    "             'line1': [],\n",
    "             'line2': [],\n",
    "             'line3': [],\n",
    "             'line4': [],\n",
    "             'line5': []}\n",
    "    for in_path in in_paths:\n",
    "        in_txt = open(in_path, 'rb')\n",
    "\n",
    "        counter = 0\n",
    "        curr_keyword = None\n",
    "        # We only write to csv if it is the first poem in the \n",
    "        should_write_to_csv = False\n",
    "        for line in in_txt:\n",
    "            line = line.rstrip().decode('utf-8')\n",
    "            # Process keyword\n",
    "            if len(line.split(':')) == 2:\n",
    "                new_keyword = line.split(':')[0]\n",
    "                if new_keyword != curr_keyword:\n",
    "                    should_write_to_csv = True\n",
    "                    lines['keyword'].append(new_keyword)\n",
    "                else:\n",
    "                    should_write_to_csv = False\n",
    "                curr_keyword = new_keyword\n",
    "            # Write line to dictionary\n",
    "            elif len(line) >= 5 and should_write_to_csv:\n",
    "                # Process line\n",
    "                line = line.strip()\n",
    "                line = line[0].upper() + line[1:]\n",
    "                if not line[-1].isalpha():\n",
    "                    line = ' '.join(line.split()[:-1]) + line[-1]\n",
    "                lines['line' + str(counter+1)].append(line)\n",
    "                counter += 1\n",
    "                counter %= 5\n",
    "    poem_count = len(lines['line1'])\n",
    "    lines['type'] = [poem_type] * poem_count\n",
    "    print(\"Dictionary created with \" + str(poem_count) + \" poems\")\n",
    "    return lines"
   ]
  },
  {
   "cell_type": "code",
   "execution_count": 92,
   "metadata": {},
   "outputs": [],
   "source": [
    "def create_line_dictionary(in_paths, poem_type):\n",
    "    lines = {'line1': [],\n",
    "             'line2': [],\n",
    "             'line3': [],\n",
    "             'line4': [],\n",
    "             'line5': []}\n",
    "    for in_path in in_paths:\n",
    "        in_txt = open(in_path, 'rb')\n",
    "\n",
    "        counter = 0\n",
    "        for line in in_txt:\n",
    "            line = line.rstrip().decode('utf-8')\n",
    "            if len(line) < 5:\n",
    "                continue\n",
    "            lines['line' + str(counter+1)].append(line)\n",
    "            counter += 1\n",
    "            counter %= 5\n",
    "    poem_count = len(lines['line1'])\n",
    "    lines['type'] = [poem_type] * poem_count\n",
    "    print(\"Dictionary created with \" + str(poem_count) + \" poems\")\n",
    "    return lines\n",
    "\n",
    "def print_single_poem(poem_dict, index):\n",
    "    for key in poem_dict:\n",
    "        print(poem_dict[key][index])"
   ]
  },
  {
   "cell_type": "code",
   "execution_count": 95,
   "metadata": {},
   "outputs": [
    {
     "name": "stdout",
     "output_type": "stream",
     "text": [
      "Dictionary created with 447 poems\n",
      "Dictionary created with 48 poems\n",
      "Dictionary created with 45 poems\n",
      "Dictionary created with 58 poems\n",
      "Dictionary created with 48 poems\n"
     ]
    }
   ],
   "source": [
    "human_dict = create_line_dictionary(['py_files/saved_objects/limericks.txt', 'py_files/saved_objects/limericks2.txt', 'py_files/saved_objects/limericks3.txt'], 'HUMAN')\n",
    "DTS_NO_STORY = create_generated_line_dictionary(['final_testing_DTS_no_story2/20_30_0.1_multi_True_no_story.txt'], 'DTS_NO_STORY')\n",
    "DTS_STORY = create_generated_line_dictionary(['final_testing_DTS_storyline3/20_30_0.1_multi_True_original.txt'], 'DTS_STORY')\n",
    "SINGLE_NO_STORY = create_generated_line_dictionary(['final_testing_single_no_story1/20_30_0.1_5_True_no_story.txt'], 'SINGLE_NO_STORY')\n",
    "SINGLE_STORY = create_generated_line_dictionary(['final_testing_single_storyline1/20_30_0.1_5_True_original.txt'], 'DTS_NO_STORY')"
   ]
  },
  {
   "cell_type": "code",
   "execution_count": 98,
   "metadata": {},
   "outputs": [
    {
     "name": "stdout",
     "output_type": "stream",
     "text": [
      "fire\n",
      "There was a fierce boy named fred\n",
      "Who carried a big stick on his head.\n",
      "When a kid gets his gun,\n",
      "It 's a lot of fun,\n",
      "And you know that your friend has a lead.\n",
      "DTS_STORY\n"
     ]
    }
   ],
   "source": [
    "print_single_poem(DTS_STORY, 40)"
   ]
  },
  {
   "cell_type": "code",
   "execution_count": null,
   "metadata": {},
   "outputs": [],
   "source": [
    "\n",
    "def export_poetic_measure_experiment(batch, DTS_NO_STORY, DTS_STORY, SINGLE_NO_STORY, SINGLE_STORY):\n",
    "    length = min(len(DTS_NO_STORY['line1']), len(DTS_STORY['line1']), len(SINGLE_NO_STORY['line1']), len(SINGLE_STORY['line1']))\n",
    "    index = 0\n",
    "    while index + 5 <= length:\n",
    "        d1, d2, d3, d4 = DTS_NO_STORY[index:index+5], DTS_STORY[index:index+5], SINGLE_NO_STORY[index:index+5], SINGLE_STORY[index:index+5]\n",
    "        out_path = 'py_files/saved_objects/csv/poetic_measure_'+ str(index/5) + '.csv'\n",
    "        df = DataFrame(lines, columns= ['keyword', 'type', 'line1', 'line2', 'line3', 'line4', 'line5'])\n",
    "        export_csv = df.to_csv (out_path, index = None, header=True)"
   ]
  }
 ],
 "metadata": {
  "kernelspec": {
   "display_name": "Python 3",
   "language": "python",
   "name": "python3"
  },
  "language_info": {
   "codemirror_mode": {
    "name": "ipython",
    "version": 3
   },
   "file_extension": ".py",
   "mimetype": "text/x-python",
   "name": "python",
   "nbconvert_exporter": "python",
   "pygments_lexer": "ipython3",
   "version": "3.7.0"
  }
 },
 "nbformat": 4,
 "nbformat_minor": 2
}
