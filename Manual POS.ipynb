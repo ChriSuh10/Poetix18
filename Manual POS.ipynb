{
 "cells": [
  {
   "cell_type": "markdown",
   "metadata": {},
   "source": [
    "### Useful links\n",
    "https://www.ling.upenn.edu/courses/Fall_2003/ling001/penn_treebank_pos.html\n",
    "\n",
    "https://sites.google.com/site/partofspeechhelp/home#TOC-IN"
   ]
  },
  {
   "cell_type": "code",
   "execution_count": 42,
   "metadata": {},
   "outputs": [],
   "source": [
    "# Toggle if you don't have GPT-2/its dependencies\n",
    "use_gpt = False"
   ]
  },
  {
   "cell_type": "code",
   "execution_count": 2,
   "metadata": {},
   "outputs": [],
   "source": [
    "import random\n",
    "import pickle\n",
    "\n",
    "if use_gpt:\n",
    "    from gpt2.src.encoder import *"
   ]
  },
  {
   "cell_type": "code",
   "execution_count": 3,
   "metadata": {},
   "outputs": [],
   "source": [
    "# load local version of dicts\n",
    "with open('py_files/saved_objects/postag_dict_all.p', 'rb') as f:\n",
    "    postag = pickle.load(f)\n",
    "    \n",
    "pos_to_words = postag[1]\n",
    "words_to_pos = postag[2]"
   ]
  },
  {
   "cell_type": "code",
   "execution_count": 4,
   "metadata": {},
   "outputs": [],
   "source": [
    "# loads latest copy of words that have been checked\n",
    "checked = set()\n",
    "checked_this_session = set()\n",
    "with open('data/checked_words.txt') as f:\n",
    "    for w in f:\n",
    "        checked.add(w.strip('\\n'))\n",
    "\n",
    "if use_gpt:\n",
    "    enc = get_encoder('117M')"
   ]
  },
  {
   "cell_type": "code",
   "execution_count": 43,
   "metadata": {},
   "outputs": [
    {
     "name": "stdout",
     "output_type": "stream",
     "text": [
      "He snowflakes\n",
      "He worries\n",
      "He curst\n",
      "He persists\n",
      "He todays\n",
      "He provokes\n",
      "He swam\n",
      "He loghouses\n",
      "He swells\n",
      "He turns\n",
      "He unawares\n",
      "He overweighs\n",
      "He weakens\n",
      "He buzz\n",
      "He distills\n",
      "\n",
      "111 words checked this session, 2200 checked overall\n"
     ]
    }
   ],
   "source": [
    "# Edit this so the pos will make sense when appended\n",
    "line = ['He']\n",
    "\n",
    "# run this to get new batch of words\n",
    "num_words = 15\n",
    "\n",
    "### CHANGE THIS FOR YOUR POS ###\n",
    "# POS you will be working on\n",
    "# Chris - VBZ\n",
    "# Andre - VBG\n",
    "# Isaac - JJ\n",
    "# Henry - NNP\n",
    "# Matias - VB\n",
    "# Cynthia - RB\n",
    "pos = 'VBZ'\n",
    "to_print = []\n",
    "for i in range(num_words):\n",
    "    w = random.choice(pos_to_words[pos])\n",
    "    while w in checked or w in checked_this_session or (use_gpt and len(enc.encode(w)) != 1):\n",
    "        w = random.choice(pos_to_words[pos])\n",
    "    checked_this_session.add(w)\n",
    "    this_line = [*line, w]\n",
    "    to_print.append(' '.join(this_line))\n",
    "    \n",
    "for l in to_print:\n",
    "    print(l)\n",
    "print('')\n",
    "print('{:d} words checked this session, {:d} checked overall'.format(len(checked_this_session), \n",
    "                                                                     len(checked_this_session) + len(checked)))"
   ]
  },
  {
   "cell_type": "code",
   "execution_count": 58,
   "metadata": {},
   "outputs": [
    {
     "data": {
      "text/plain": [
       "['NNS', 'VBZ']"
      ]
     },
     "execution_count": 58,
     "metadata": {},
     "output_type": "execute_result"
    }
   ],
   "source": [
    "# show pos of words you want to check\n",
    "word = 'unawares'\n",
    "words_to_pos[word]"
   ]
  },
  {
   "cell_type": "code",
   "execution_count": 59,
   "metadata": {},
   "outputs": [],
   "source": [
    "# remove pos from word and word from pos\n",
    "remove_pos = ['VBZ', 'NNS']\n",
    "for pos in remove_pos:\n",
    "    words_to_pos[word].remove(pos)\n",
    "    pos_to_words[pos].remove(word)"
   ]
  },
  {
   "cell_type": "code",
   "execution_count": 60,
   "metadata": {},
   "outputs": [],
   "source": [
    "# add pos to word and word to pos\n",
    "add_pos = 'RB'\n",
    "words_to_pos[word].append(add_pos)\n",
    "pos_to_words[add_pos].append(word)"
   ]
  },
  {
   "cell_type": "code",
   "execution_count": 31,
   "metadata": {},
   "outputs": [],
   "source": [
    "# Delete the word (for words that don't make sense)\n",
    "for pos in words_to_pos[word]:\n",
    "    try:\n",
    "        pos_to_words[pos].remove(word)\n",
    "    except:\n",
    "        continue\n",
    "_ = words_to_pos.pop(word)"
   ]
  },
  {
   "cell_type": "code",
   "execution_count": 40,
   "metadata": {},
   "outputs": [],
   "source": [
    "# At end, when you need to commit changes to the dictionary\n",
    "with open('data/checked_words.txt', 'a+') as f:\n",
    "    for w in checked_this_session:\n",
    "        f.write(w)\n",
    "        f.write('\\n')\n",
    "        \n",
    "postag[1] = pos_to_words\n",
    "postag[2] = words_to_pos\n",
    "with open('py_files/saved_objects/postag_dict_all.p', 'wb') as f:\n",
    "    pickle.dump(postag, f)"
   ]
  },
  {
   "cell_type": "code",
   "execution_count": null,
   "metadata": {},
   "outputs": [],
   "source": [
    "# words that we don't know what to do with\n",
    "# wouldnt, doesnt, aint, heres, ___-___-olds, hes, heres, thats, milan's, ryan's, satan's, today's"
   ]
  },
  {
   "cell_type": "markdown",
   "metadata": {},
   "source": [
    "### Add Roman numerals as symbols"
   ]
  },
  {
   "cell_type": "code",
   "execution_count": 20,
   "metadata": {},
   "outputs": [
    {
     "data": {
      "text/plain": [
       "['NN']"
      ]
     },
     "execution_count": 20,
     "metadata": {},
     "output_type": "execute_result"
    }
   ],
   "source": [
    "sym = 'lv'\n",
    "words_to_pos[sym]"
   ]
  },
  {
   "cell_type": "code",
   "execution_count": 58,
   "metadata": {},
   "outputs": [],
   "source": [
    "pos_to_words['NN'].remove(sym)\n",
    "words_to_pos[sym] = ['SYM']\n",
    "pos_to_words['SYM'] = sym"
   ]
  },
  {
   "cell_type": "code",
   "execution_count": 161,
   "metadata": {},
   "outputs": [],
   "source": [
    "# lv, xc, ii, xx, xi, ll, xxx, ci, iii, li"
   ]
  },
  {
   "cell_type": "markdown",
   "metadata": {},
   "source": [
    "# Use NLTK to add words to pos dict"
   ]
  },
  {
   "cell_type": "code",
   "execution_count": 273,
   "metadata": {},
   "outputs": [],
   "source": [
    "from py_files.Limericks import Limerick_Generate\n",
    "from nltk.corpus import words\n",
    "import nltk"
   ]
  },
  {
   "cell_type": "code",
   "execution_count": 249,
   "metadata": {},
   "outputs": [],
   "source": [
    "lg = Limerick_Generate()"
   ]
  },
  {
   "cell_type": "code",
   "execution_count": 274,
   "metadata": {},
   "outputs": [
    {
     "name": "stdout",
     "output_type": "stream",
     "text": [
      "[nltk_data] Downloading package words to /Users/isaac/nltk_data...\n",
      "[nltk_data]   Unzipping corpora/words.zip.\n"
     ]
    },
    {
     "data": {
      "text/plain": [
       "True"
      ]
     },
     "execution_count": 274,
     "metadata": {},
     "output_type": "execute_result"
    }
   ],
   "source": [
    "nltk.download('words')"
   ]
  },
  {
   "cell_type": "code",
   "execution_count": 275,
   "metadata": {},
   "outputs": [],
   "source": [
    "word_list = words.words()"
   ]
  },
  {
   "cell_type": "code",
   "execution_count": 299,
   "metadata": {},
   "outputs": [
    {
     "name": "stdout",
     "output_type": "stream",
     "text": [
      "4910\r"
     ]
    }
   ],
   "source": [
    "count = 0\n",
    "for i in range(50257):\n",
    "    word = lg.enc.decode([i]).lower().strip()\n",
    "    if word in word_list:\n",
    "        # Word length constraint because many prefixes and sufixes are in NLTK word list\n",
    "        if len(words_to_pos[word]) == 0 and len(word) >= 4: \n",
    "            words_to_pos[word].append(nltk.pos_tag([word.lower().strip()])[0][1])\n",
    "            count += 1\n",
    "            print(count,end=\"\\r\")"
   ]
  },
  {
   "cell_type": "code",
   "execution_count": 102,
   "metadata": {},
   "outputs": [],
   "source": [
    "postag[2] = words_to_pos\n",
    "with open('py_files/saved_objects/postag_dict_all.p', 'wb') as f:\n",
    "    pickle.dump(postag, f)"
   ]
  },
  {
   "cell_type": "code",
   "execution_count": 6,
   "metadata": {},
   "outputs": [
    {
     "name": "stdout",
     "output_type": "stream",
     "text": [
      "VBG 1784\n",
      "IN 62\n",
      "PRP 25\n",
      "DT 19\n",
      "NN 9717\n",
      "WDT 3\n",
      "VBZ 960\n",
      "VBN 1662\n",
      ", 1\n",
      "RB 1044\n",
      "VBP 1231\n",
      "VB 1619\n",
      "JJ 3851\n",
      "WP 5\n",
      "MD 17\n",
      "TO 1\n",
      "NNP 2877\n",
      "CC 9\n",
      "VBD 1631\n",
      "CD 19\n",
      "NNS 4458\n",
      "PRP$ 12\n",
      "EX 1\n",
      "JJS 222\n",
      "JJR 108\n",
      "RBR 11\n",
      "UH 9\n",
      "FW 21\n",
      "PDT 6\n",
      "WRB 7\n",
      "RP 48\n",
      ". 2\n",
      "WP$ 1\n",
      "RBS 2\n",
      "NNPS 68\n",
      "SYM 2\n",
      "SO 1\n",
      "WHO 1\n",
      "THAN 1\n",
      "AS 1\n",
      "WHEN 1\n",
      "IF 1\n",
      "POS 1\n"
     ]
    }
   ],
   "source": [
    "for k, l in pos_to_words.items():\n",
    "    print(k, len(l))"
   ]
  },
  {
   "cell_type": "markdown",
   "metadata": {},
   "source": [
    "# 3-4 line link"
   ]
  },
  {
   "cell_type": "code",
   "execution_count": 1,
   "metadata": {},
   "outputs": [
    {
     "name": "stderr",
     "output_type": "stream",
     "text": [
      "/anaconda3/lib/python3.6/site-packages/h5py/__init__.py:36: FutureWarning: Conversion of the second argument of issubdtype from `float` to `np.floating` is deprecated. In future, it will be treated as `np.float64 == np.dtype(float).type`.\n",
      "  from ._conv import register_converters as _register_converters\n"
     ]
    }
   ],
   "source": [
    "from py_files.Limericks_new2 import Limerick_Generate"
   ]
  },
  {
   "cell_type": "code",
   "execution_count": 2,
   "metadata": {},
   "outputs": [],
   "source": [
    "import pickle"
   ]
  },
  {
   "cell_type": "code",
   "execution_count": 3,
   "metadata": {},
   "outputs": [],
   "source": [
    "with open(\"py_files/saved_objects/templates_processed_more_tuple.pickle\",\"rb\") as pickle_in:\n",
    "    templates= pickle.load(pickle_in)"
   ]
  },
  {
   "cell_type": "code",
   "execution_count": 4,
   "metadata": {},
   "outputs": [
    {
     "name": "stdout",
     "output_type": "stream",
     "text": [
      "{'second': defaultdict(<class 'list'>, {'NN': [(('WHOSE', 'NN', 'VBD', 'A', 'NN', 'IN', 'NN'), ('whose', 'pa', 'made', 'a', 'fortune', 'in', 'pork'), (7, 8)), (('WHO', 'VBD', 'QUITE', 'NN', 'OF', 'NN'), ('who', 'was', 'quite', 'fond', 'of', 'feedin'), (6, 6)), (('WHO', 'VBD', 'A', 'JJ', 'NN', 'EACH', 'NN'), ('who', 'read', 'a', 'love', 'story', 'each', 'day'), (7, 8)), (('WHO', 'VBD', 'ALL', 'PRP$', 'NN', 'IN', 'A', 'NN'), ('who', 'kept', 'all', 'his', 'cash', 'in', 'a', 'bucket'), (8, 9)), (('WHO', 'VBD', 'AS', 'PRP', 'VBD', 'ON', 'A', 'NN'), ('who', 'smiled', 'as', 'she', 'rode', 'on', 'a', 'tiger'), (8, 9)), (('WHO', 'VBD', 'AN', 'NN', 'OF', 'NN'), ('who', 'hadnt', 'an', 'atom', 'of', 'fear'), (6, 7)), (('WHO', 'VBD', 'OUT', 'PRP$', 'NNS', 'FOR', 'A', 'NN'), ('who', 'sent', 'out', 'his', 'cards', 'for', 'a', 'party'), (8, 9)), (('WHO', 'VBD', 'PRP', 'QUITE', 'AT', 'A', 'NN'), ('who', 'found', 'himself', 'quite', 'at', 'a', 'loss'), (7, 8)), (('WHO', 'VBD', 'ON', 'JJ', 'NN'), ('who', 'lived', 'on', 'distilled', 'kerosene'), (5, 8)), (('WHO', 'VBD', 'A', 'JJ', 'NN', 'ON', 'PRP$', 'NN'), ('who', 'had', 'a', 'large', 'wart', 'on', 'her', 'nose'), (8, 8)), (('WHOSE', 'NN', 'VBD', 'RB', 'JJR', 'THAN', 'NN'), ('whose', 'speed', 'was', 'much', 'faster', 'than', 'light'), (7, 8))], 'NNS': [(('WHO', 'RB', 'VBD', 'ON', 'NNS'), ('who', 'simply', 'doted', 'on', 'gherkins'), (5, 6)), (('WHO', 'VBD', 'ON', 'A', 'NN', 'OF', 'NNS'), ('who', 'slipped', 'on', 'a', 'peel', 'of', 'bananas'), (7, 9)), (('WHO', 'VBD', 'ON', 'CD', 'OF', 'PRP$', 'NNS'), ('who', 'married', 'on', 'one', 'of', 'his', 'trips'), (7, 8))], 'VBD': [(('WHO', 'VBD', 'A', 'JJ', 'NN', 'AND', 'VBD'), ('who', 'ate', 'a', 'green', 'apple', 'and', 'died'), (7, 8)), (('WHO', 'VBD', ',', 'PRP$', 'JUST', 'AS', 'PRP', 'VBD'), ('who', 'said', ',', 'its', 'just', 'as', 'i', 'feared'), (7, 7))], 'JJR': [(('WHOSE', 'NN', 'VBD', 'JJR', 'AND', 'JJR'), ('whose', 'knowledge', 'grew', 'lesser', 'and', 'lesser'), (6, 9)), (('WHO', 'VBD', ',', 'THIS', 'MIGHT', 'VB', 'VBN', 'JJR'), ('who', 'murmured', ',', 'this', 'might', 'have', 'been', 'worse'), (7, 8))], 'VB': [(('WHOSE', 'NNS', 'RB', 'WOULD', 'VB'), ('whose', 'limericks', 'never', 'would', 'scan'), (5, 8))], 'JJ': [(('WHOSE', 'NN', 'VBD', 'RBS', 'RB', 'JJ'), ('whose', 'nose', 'was', 'most', 'awfully', 'bent'), (6, 8)), (('WHO', 'VBD', 'SO', 'RB', 'JJ'), ('who', 'was', 'so', 'excessively', 'thin'), (5, 8)), (('WHOSE', 'NN', 'RB', 'VBD', 'JJ'), ('whose', 'appetite', 'simply', 'was', 'unich'), (5, 8)), (('WHOSE', 'NN', 'VBD', 'JJ', 'AND', 'JJ'), ('whose', 'knowledge', 'grew', 'green', 'and', 'strong'), (6, 7))]}), 'third': defaultdict(<class 'list'>, {'SO': [(('WHEN', 'VBD', 'THIS', 'VBD', 'SO'), ('when', 'told', 'this', 'was', 'so'), (5, 5))], 'NNS': [(('WITH', 'PRP$', 'NNS', 'ON', 'THE', 'NNS'), ('with', 'your', 'toes', 'on', 'the', 'keys'), (6, 6)), (('FROM', 'PRP$', 'NN', ',', 'PRP$', 'NNS'), ('from', 'your', 'offspring', ',', 'my', 'dears'), (5, 6))], 'VBN': [(('AS', 'NN', 'THAT', 'VBZ', 'VBN'), ('as', 'spacetime', 'that', 'is', 'curved'), (5, 5)), (('BUT', 'WHEN', 'PRP', 'VBP', 'VBN'), ('but', 'when', 'I', 'have', 'dough'), (5, 5)), (('BECAUSE', 'PRP$', 'NNS', 'VBZ', 'VBN'), ('because', 'its', 'feet', 'is', 'stuck'), (5, 6))], 'VB': [(('VBD', 'THE', 'NN', ',', 'VB', 'PRP', 'VB'), ('said', 'the', 'fly', ',', 'let', 'us', 'flee'), (6, 6)), (('VBD', 'THE', 'NN', ',', 'VB', 'RB', 'VB'), ('said', 'the', 'waiter', ',', 'do', 'not', 'shout'), (6, 7))], 'SOME': [(('PRP', 'COULD', 'VB', 'THERE', 'VBP', 'SOME'), ('I', 'could', 'swear', 'there', 'are', 'some'), (6, 6))], 'VBG': [(('BUT', 'PRP', 'VBD', 'VBG'), ('but', 'she', 'started', 'absorbing'), (4, 7))], 'AROUND': [(('ALL', 'THE', 'NNS', 'VBD', 'AROUND'), ('all', 'the', 'flowers', 'looked', 'around'), (5, 7))], 'NN': [(('PRP', 'WOULD', 'VB', 'TO', 'A', 'NN'), ('he', 'would', 'go', 'to', 'a', 'party'), (6, 7)), (('PRP', 'VBD', 'CD', 'TO', 'NN'), ('she', 'gave', 'one', 'to', 'adam'), (5, 6)), (('VBN', 'FROM', 'THE', 'NN'), ('collapsed', 'from', 'the', 'strain'), (4, 5)), (('PRP', 'VBD', ',', 'WITH', 'A', 'NN'), ('he', 'said', ',', 'with', 'a', 'sigh'), (5, 5)), (('PRP', 'VBD', 'FOR', 'PRP$', 'NN'), ('he', 'bought', 'for', 'his', 'daughter'), (5, 6)), (('PRP', 'VBD', 'OUT', 'CD', 'NN'), ('she', 'set', 'out', 'one', 'day'), (5, 5)), (('WHEN', 'A', 'NN', 'VBZ', 'PRP$', 'NN'), ('when', 'a', 'dame', 'wears', 'my', 'coat'), (6, 6)), (('A', 'NN', 'WITH', 'A', 'NN'), ('a', 'fish', 'with', 'a', 'grin'), (5, 5)), (('VBD', 'THE', 'CD', 'TO', 'THE', 'NN'), ('said', 'the', 'two', 'to', 'the', 'tutor'), (6, 7)), (('VBD', 'THE', 'NN', 'AT', 'THE', 'NN'), ('said', 'the', 'man', 'at', 'the', 'door'), (6, 6)), (('VBD', 'A', 'NN', ',', 'DT', 'NN'), ('had', 'a', 'quarrel', ',', 'no', 'doubt'), (5, 6)), (('PRP', 'VBD', 'BACK', 'FROM', 'THE', 'NN'), ('they', 'came', 'back', 'from', 'the', 'ride'), (6, 6)), (('AFTER', 'VBG', 'PRP$', 'NN'), ('after', 'croaking', 'his', 'wife'), (4, 6)), (('A', 'NN', 'VBN', 'NN'), ('a', 'widow', 'named', 'block'), (4, 5)), (('AND', 'IN', 'PRP$', 'NN'), ('and', 'as for', 'my', 'hair'), (4, 4)), (('PRP', 'VBD', 'A', 'NN'), ('he', 'indulged', 'a', 'desire'), (4, 7)), (('SINCE', 'PRP$', 'JJ', 'NN'), ('since', 'her', 'apple-cheeked', 'groom'), (4, 4)), (('VBD', 'PRP', 'ON', ',', 'WHAT', 'A', 'NN'), ('switched', 'it', 'on', ',', 'what', 'a', 'din'), (6, 6)), (('THE', 'NN', 'OF', 'PRP$', 'NN'), ('the', 'cause', 'of', 'his', 'sorrow'), (5, 6)), (('CD', 'NNS', 'AND', 'A', 'NN'), ('two', 'owls', 'and', 'a', 'hen'), (5, 5)), (('IN', 'PRP$', 'NN', 'FOR', 'NN'), ('in', 'my', 'pocket', 'for', 'cash'), (5, 6)), (('IN', 'JJ', 'NN'), ('due to', 'up-to-date', 'science'), (3, 4)), (('WHEN', 'A', 'NN', 'VBZ', 'PRP$', 'NN'), ('when', 'a', 'girl', 'wears', 'my', 'coat'), (6, 6)), (('THAN', 'A', 'NN', 'OF', 'NN'), ('than', 'a', 'goulash', 'of', 'rat'), (5, 6)), (('PRP', 'VBP', 'A', 'NN', 'NN'), ('you', 'are', 'a', 'simpleton', 'loon'), (5, 5)), (('PRP', 'VBD', 'ON', 'THE', 'NN'), ('it', 'said', 'on', 'the', 'door'), (5, 5)), (('VBN', 'TO', 'THE', 'NN'), ('collapsed', 'to', 'the', 'ground'), (4, 5)), (('MD', 'RB', 'VB', 'OFF', 'TO', 'NN'), (\"'did\", 'not', 'rush', 'off', 'to', 'town'), (6, 6)), (('PRP', 'MD', 'VBN', 'ON', 'A', 'NN'), ('they', 'had', 'laid', 'on', 'a', 'chair'), (6, 6)), (('THERE', 'VBZ', 'NN', 'LIKE', 'A', 'NN'), ('there', 'was', 'nothing', 'like', 'a', 'food'), (6, 7))], 'VBD': [(('PRP', 'VBD', ',', 'RB', 'VBD'), ('she', 'ran', ',', 'almost', 'flew'), (4, 5)), (('BUT', 'THE', 'NN', 'PRP', 'VBD'), ('but', 'the', 'copy', 'he', 'wrote'), (5, 6)), (('THAT', 'WHEN', 'PRP', 'VBD'), ('that', 'when', 'she', 'assayed'), (4, 4)), (('PRP', 'RB', 'VBD'), ('he', 'gladly', 'proclaimed'), (3, 5)), (('WHILE', 'PRP$', 'NN', 'VBD'), ('while', 'her', 'lover', 'lamented'), (3, 7)), (('BUT', 'VBN', ',', 'PRP', 'VBD'), ('but', 'shaken', ',', 'he', 'shot'), (4, 5)), (('IN', 'THE', 'NNS', 'THAT', 'PRP', 'VBD'), (\"'til\", 'the', 'salts', 'that', 'she', 'shook'), (6, 6))], 'NNP': [(('BUT', 'PRP$', 'NN', ',', 'VBN', 'NNP'), ('but', 'his', 'daughter', ',', 'named', 'nan'), (5, 6))], 'JJ': [(('PRP$', 'NNS', 'VBD', 'SO', 'JJ'), ('her', 'thanks', 'were', 'so', 'cold'), (5, 5)), (('SO', 'JJ', 'AND', 'JJ'), ('so', 'exclusive', 'and', 'few'), (4, 6)), (('AND', 'JJ', ',', 'AND', 'JJ'), ('and', 'flat', ',', 'and', 'compressed'), (4, 5)), (('PRP', 'IN', 'VBD', 'SO', 'JJ'), ('it', 'at last', 'grew', 'so', 'small'), (5, 5)), (('THE', 'NN', 'VBD', ',', 'RB', 'JJ'), ('the', 'teacher', 'said', ',', 'not', 'right'), (5, 6)), (('FOR', 'THE', 'NN', 'VBZ', 'ALL', 'JJ'), ('for', 'the', 'pattern', 'is', 'all', 'wrong'), (6, 7)), (('BUT', 'THIS', 'CD', 'VBD', 'JJ'), ('but', 'this', 'one', 'was', 'easy'), (5, 6)), (('PRP', 'VBZ', 'JJ'), ('it', 'expresses', 'nothing'), (3, 6))], '.': [(('WHEN', 'VBN', ',', 'WHO', 'VBZ', 'JJ', '.'), ('when', 'asked', ',', 'who', 'is', 'dead', '?'), (5, 5)), (('VBD', 'THE', 'NN', ',', 'VB', 'PRP', 'VB', '.'), ('said', 'the', 'fly', ',', 'let', 'us', 'flee', '!'), (6, 6)), (('AND', 'VBD', ',', 'CAN', 'PRP', 'VB', '.'), ('and', 'said', ',', 'can', 'we', 'dance', '?'), (5, 5)), (('WHEN', 'VBN', ',', 'WRB', 'SO', 'JJ', '.'), ('when', 'asked', ',', \"'why\", 'so', 'blue', '?'), (5, 5))], 'PRP': [(('RB', 'A', 'JJ', 'NN', 'VBD', 'PRP'), ('soon', 'a', 'happy', 'thought', 'hit', 'her'), (6, 7))]}), 'fourth': defaultdict(<class 'list'>, {'NNS': [(('IN', 'THE', 'JJ', 'NN', 'NNS'), ('in', 'the', 'right', 'reverend', 'shins'), (5, 7)), (('WHICH', 'VBD', 'NN', 'AND', 'NNS'), ('which', 'brought', 'meanness', 'and', 'scorn'), (5, 6)), (('TO', 'JJS', 'OF', 'PRP$', 'NNS'), ('to', 'most', 'of', 'his', 'clients'), (5, 6)), (('VB', 'PRP$', 'NN', 'AND', 'PRP$', 'NNS'), ('stung', 'his', 'nose', 'and', 'his', 'knees'), (6, 6)), (('AND', 'NN', 'THROUGH', 'PRP$', 'NNS'), ('and', 'stuck', 'through', 'her', 'feet'), (5, 5)), (('IN', 'THE', 'NN', 'WITH', 'PRP$', 'NNS'), ('bang', 'the', 'floor', 'with', 'your', 'knees'), (6, 6)), (('COULD', 'VB', 'ALL', 'PRP$', 'NNS'), ('could', 'pay', 'all', 'my', 'bills'), (5, 5)), (('AND', 'AS', 'NNS', 'VBP', 'THE', 'NNS'), ('and', 'as', 'cops', 'walk', 'the', 'beats'), (6, 6)), (('VBD', 'THE', 'NN', 'ON', 'PRP$', 'NNS'), ('wet', 'the', 'bloom', 'on', 'her', 'cheeks'), (6, 6)), (('AND', 'VB', 'PRP$', 'NNS'), ('and', 'soil', 'my', 'pants'), (4, 4)), (('WITH', 'PRP$', 'NNS', 'AND', 'PRP$', 'NNS'), ('with', 'their', 'wiles', 'and', 'their', 'wits'), (6, 6)), (('AND', 'VBD', 'NNS', 'OF', 'NNS'), ('and', 'ate', 'thousands', 'of', 'figs'), (5, 6)), (('OR', 'VB', 'VBG', 'PRP$', 'NNS'), ('or', 'be', 'flapping', 'your', 'gums'), (5, 6)), (('VBG', 'ALL', 'NNS', 'AND', 'NNS'), ('crushing', 'all', 'boys', 'and', 'girls'), (5, 6)), (('FOR', 'VBG', 'NNS'), ('for', 'acting', 'positions'), (3, 6)), (('BUT', 'PRP', 'RB', 'VBD', 'NNS'), ('but', 'he', 'never', 'kicked', 'onths'), (5, 6)), (('IN', 'A', 'NN', 'OF', 'NNS'), ('in', 'a', 'couple', 'of', 'years'), (5, 6))], 'VBP': [(('VBN', 'NNS', 'VBP'), ('made', 'people', 'suspect'), (3, 5)), (('SO', 'THIS', 'NN', 'PRP', 'VBP'), ('so', 'this', 'tribute', 'we', 'pay'), (5, 6))], 'IN': [(('VBD', 'THE', 'NN', 'IN'), ('pulled', 'the', 'fisherman', 'in'), (4, 6)), (('PRP', 'VBD', 'NN', 'IN'), ('it', 'sucked', 'everything', 'in'), (4, 6))], 'PRP': [(('UPON', 'VBG', 'THAT', 'PRP'), ('upon', 'finding', 'that', 'it'), (4, 6)), (('A', 'NN', 'WHO', 'VBD', 'PRP'), ('a', 'tutor', 'who', 'taught', 'her'), (5, 6)), (('NN', 'VB', 'PRP'), ('please', 'tell', 'me'), (3, 3)), (('FOR', 'PRP$', 'NN', 'PRP', 'MUST', 'VB', 'PRP'), ('for', 'her', 'skill', 'we', 'must', 'praise', 'her'), (7, 7)), (('AND', 'RB', 'VBD', 'PRP'), ('and', 'carefully', 'lopped', 'it'), (4, 6))], 'NN': [(('IN', 'PRP', 'VBD', 'UP', 'PRP$', 'NN'), ('though', 'you', 'piled', 'up', 'her', 'plate'), (6, 6)), (('WITH', 'ALL', 'JJ', 'NN'), ('with', 'all', 'due', 'propriety'), (4, 7)), (('EITHER', 'NN', 'OR', 'BY', 'NN'), ('either', 'night', 'or', 'by', 'dee'), (5, 6)), (('AND', 'PRP$', 'NN', 'AND', 'NN'), ('and', 'her', 'brother', 'and', 'pa'), (5, 6)), (('AND', 'NN', 'NN'), ('and', 'daniel', 'defoe'), (3, 5)), (('PRP', 'VBD', 'VBN', 'BY', 'A', 'NN'), ('he', 'was', 'pained', 'by', 'a', 'tooth'), (6, 6)), (('RB', 'VBN', 'IN', 'A', 'NN'), ('then', 'collapsed', 'in', 'a', 'cell'), (5, 6)), (('OR', 'JJ', 'NN'), ('or', 'hungarian', 'cat'), (3, 6)), (('PRP', 'WOULD', 'VB', 'A', 'NN'), ('he', 'would', 'wave', 'a', 'cigar'), (5, 6)), (('THAT', 'VBZ', 'VBN', 'OUT', 'OF', 'NN'), ('that', 'has', 'run', 'out', 'of', 'pluck'), (6, 6)), (('A', 'JJ', 'NN'), ('a', 'new', 'hydrocarbon'), (3, 6)), (('THAT', 'PRP$', 'BACK', 'VBD', 'PRP$', 'NN'), ('that', 'his', 'back', 'touched', 'his', 'chest'), (6, 6)), (('IN', 'PRP$', 'NNS', 'AND', 'PRP$', 'NN'), ('in', 'my', 'legs', 'and', 'my', 'bum'), (6, 6)), (('CD', 'NNS', 'AND', 'A', 'NN'), ('four', 'larks', 'and', 'a', 'wren'), (5, 5)), (('ALL', 'THE', 'NNS', 'IN', 'THE', 'NN'), ('all', 'the', 'birds', 'in', 'the', 'air'), (6, 6)), (('BUT', 'VBD', 'A', 'JJ', 'NN'), ('but', 'got', 'a', 'great', 'fright'), (5, 5)), (('THAT', 'A', 'NN', 'BY', 'NNS', 'VBZ', 'THE', 'NN'), ('that', 'a', 'game', 'by', 'jinks', 'is', 'the', 'thing'), (8, 8)), (('DT', 'CD', 'VBD', 'SUCH', 'A', 'NN'), ('no', 'one', 'heard', 'such', 'a', 'scream'), (6, 6)), (('PRP', 'VBD', 'SOME', 'NN'), ('he', 'inserted', 'some', 'mice'), (4, 6)), (('LIKE', 'THE', 'NNS', 'OR', 'THE', 'NN'), ('like', 'the', 'mumps', 'or', 'the', 'flu'), (6, 6)), (('WITH', 'THIS', 'NN', 'ON', 'PRP$', 'NN'), ('with', 'this', 'verse', 'on', 'my', 'wall'), (6, 6)), (('THE', 'JJ', 'NN', 'NN'), ('the', 'bad', 'background', 'noise'), (4, 5)), (('BUT', 'VBD', 'NN', 'OF', 'NN'), ('but', 'made', 'plenty', 'of', 'dough'), (5, 6)), (('PRP', 'VBD', 'CD', 'JJ', 'NN'), ('he', 'was', 'one', 'funny', 'brit'), (5, 6)), (('VBD', 'CD', 'NNS', 'OF', 'NN'), ('drank', 'three', 'kinds', 'of', 'wine'), (5, 5)), (('VBZ', 'AN', 'JJ', 'NN', 'POS', 'NN'), ('wears', 'an', 'old', 'chicken', \"'s\", 'wing'), (6, 7)), (('VBD', 'THE', 'NN', 'EVERY', 'NN'), ('packed', 'the', 'house', 'every', 'night'), (5, 7)), (('AND', 'IN', 'PRP$', 'NN'), ('and', 'in', 'his', 'lapel'), (4, 5)), (('BUT', 'PRP', 'VBD', 'VBN', 'IN', 'THE', 'NN'), ('but', 'he', 'was', 'stopped', 'in', 'the', 'hall'), (7, 7)), (('ALL', 'VBN', 'TO', 'THE', 'NN'), ('all', 'exposed', 'to', 'the', 'breeze'), (5, 6)), (('AND', 'PRP', 'VBD', 'TO', 'THE', 'NN'), ('and', 'they', 'rushed', 'to', 'the', 'rail'), (6, 6)), (('WHICH', 'VBD', 'TO', 'PRP$', 'NN'), ('which', 'came', 'to', 'his', 'aid'), (5, 5)), (('AT', 'THE', 'NN', 'IN', 'THE', 'NN'), ('at', 'the', 'man', 'in', 'the', 'store'), (6, 6)), (('PRP$', 'NN', 'AND', 'PRP$', 'NN'), ('his', 'grief', 'and', 'his', 'rage'), (5, 5)), (('AND', 'VBD', 'PRP$', 'NN'), ('and', 'pummelled', 'his', 'nose'), (4, 4)), (('PRP', 'POS', 'A', 'NN'), ('she', \"'s\", 'a', 'person'), (4, 5)), (('CD', 'NNS', 'AND', 'A', 'NN'), ('four', 'larks', 'and', 'a', 'wren'), (5, 5)), (('IN', 'A', 'JJ', 'NN'), ('in', 'a', 'relative', 'way'), (4, 6)), (('WHICH', 'PRP', 'VBD', 'IN', 'THE', 'NN'), ('which', 'he', 'loosed', 'in', 'the', 'house'), (6, 6)), (('VB', 'AWAY', 'WITH', 'A', 'NN'), ('ran', 'away', 'with', 'a', 'man'), (5, 6)), (('PRP', 'VBD', 'SO', 'JJ', 'NN'), ('she', 'ate', 'so', 'much', 'spice'), (5, 5)), (('AS', 'THE', 'JJ', 'NN'), ('as', 'the', 'inverted', 'square'), (4, 6)), (('WITH', 'CD', 'NNS', 'IN', 'THE', 'NN'), ('with', 'three', 'wives', 'in', 'the', 'tomb'), (6, 6)), (('VBD', 'NN'), ('was', 'paradichloroand'), (2, 2)), (('PRP', 'POS', 'A', 'NN', 'OF', 'NN'), ('she', \"'s\", 'a', 'person', 'of', 'note'), (6, 7)), (('VBP', 'RB', 'VB', 'ON', 'THE', 'NN'), ('do', \"n't\", 'spit', 'on', 'the', 'floor'), (6, 6)), (('PRP', 'RB', 'THERE', 'ON', 'THE', 'NN'), ('it', 'right', 'there', 'on', 'the', 'spot'), (6, 6)), (('IN', 'PRP$', 'NNS', 'AND', 'PRP$', 'NN'), ('in', 'his', 'boots', 'and', 'his', 'vest'), (6, 6)), (('WITH', 'JJ', 'NN'), ('with', 'intelligent', 'thought'), (3, 6)), (('AS', 'PRP', 'VBD', 'THE', 'NN', 'NN'), ('as', 'he', 'struck', 'the', 'ground', 'floor'), (6, 6)), (('IN', 'JJ', 'NN', 'NN'), ('in', 'davy', \"jones'\", 'locker'), (4, 6)), (('PRP', 'VBD', 'VBN', 'BY', 'PRP$', 'NN'), ('he', 'was', 'told', 'by', 'his', 'wife'), (6, 6)), (('AT', 'ALL', 'THIS', 'NN'), ('at', 'all', 'this', 'garbage'), (4, 5)), (('VBG', 'NN', 'NEAR', 'THE', 'NN'), ('dumping', 'dirt', 'near', 'the', 'store'), (5, 6)), (('WITHOUT', 'ANY', 'NN'), ('without', 'any', 'nightie'), (3, 5)), (('WHAT', 'THE', 'JJ', 'NN'), ('what', 'the', 'clerical', 'fee'), (4, 6)), (('AND', 'VB', 'JUST', 'AS', 'NN'), ('and', 'eat', 'just', 'as', 'hearty'), (5, 6)), (('RB', 'PRP', 'VBD', 'PRP$', 'JJ', 'NN'), ('then', 'he', 'took', 'his', 'own', 'life'), (6, 6)), (('NN', 'PRP', 'VBP', 'VBN', 'PRP$', 'NN'), ('`when', 'I', 'have', 'punctured', 'his', 'hide'), (6, 7)), (('PRP', 'WOULD', 'VB', 'A', 'NN'), ('he', 'would', 'wave', 'a', 'cigar'), (5, 6)), (('TO', 'VB', 'NN'), ('to', 'drink', 'lemonade'), (3, 5)), (('WITH', 'A', 'NN', 'ON', 'PRP$', 'NN'), ('with', 'a', 'hat', 'on', 'my', 'head'), (6, 6)), (('TO', 'VB', 'NN'), ('to', 'drink', 'lemonade'), (3, 5)), (('VB', 'A', 'NN', 'AT', 'PRP$', 'NN'), ('take', 'a', 'pull', 'at', 'his', 'hair'), (6, 6)), (('WITH', 'A', 'JJ', 'NN'), ('with', 'a', 'thunderous', 'sound'), (4, 6)), (('AT', 'THE', 'RB', 'JJ', 'NN'), ('at', 'the', 'very', 'first', 'toot'), (5, 6)), (('TO', 'VB', 'OFF', 'THE', 'NN'), ('to', 'scare', 'off', 'the', 'critter'), (5, 6)), (('PRP', 'VBD', 'SO', 'JJ', 'NN'), ('she', 'ate', 'so', 'much', 'spice'), (5, 5)), (('IF', 'PRP', 'VBD', 'RB', 'VB', 'THE', 'NN'), ('if', 'I', 'did', \"n't\", 'curb', 'the', 'sound'), (7, 7)), (('THIS', 'NN', 'VBD', 'NN'), ('this', 'turk', 'made', 'reply'), (4, 5)), (('PRP', 'VBD', 'ON', 'A', 'NN'), ('she', 'sat', 'on', 'a', 'stile'), (5, 5)), (('THAT', 'A', 'NN', 'OF', 'JJ', 'NN'), ('that', 'a', 'wave', 'of', 'great', 'joy'), (6, 6)), (('SO', 'JJ', 'VBD', 'PRP$', 'NN'), ('so', 'short', 'was', 'his', 'fin'), (5, 5)), (('AND', 'PRP$', 'JJ', 'JJ', 'NN'), ('and', 'our', 'social', 'faux', 'pas'), (5, 7)), (('RB', 'PRP$', 'NN', 'VB', 'IN', 'A', 'NN'), ('now', 'his', 'brain', 'is', 'in', 'a', 'whirl'), (7, 7)), (('RB', 'VBD', 'OF', 'THE', 'NN'), ('then', 'died', 'of', 'the', 'shock'), (5, 5)), (('WITH', 'THE', 'NN', 'OF', 'A', 'NN'), ('with', 'the', 'faith', 'of', 'a', 'marytr'), (6, 6)), (('AND', 'JJ', 'NN'), ('and', 'comic', 'astuteness'), (3, 6)), (('RB', 'VBD', 'OF', 'THE', 'NN'), ('then', 'died', 'of', 'the', 'shock'), (5, 5)), (('PRP$', 'NN', 'VBD', 'A', 'NN'), ('my', 'mama', 'was', 'a', 'goat'), (5, 6))], 'JJ': [(('PRP', 'VBP', 'VBN', 'UP', 'JJ', 'AND', 'JJ'), ('you', 'have', 'mixed', 'up', 'green', 'and', 'red'), (7, 7)), (('PRP', 'RB', 'VBD', 'JJ'), ('I', 'only', 'felt', 'queasy'), (4, 6)), (('WHEN', 'THE', 'NN', 'VBZ', 'JJ'), ('when', 'the', 'weather', 'turns', 'cool'), (5, 6)), (('VBG', 'NN', 'JJ'), ('using', 'language', 'extreme'), (3, 6)), (('WHEN', 'THE', 'NN', 'VBZ', 'JJ'), ('when', 'the', 'weather', 'turns', 'cool'), (5, 6)), (('SHOULD', 'ANY', 'VB', 'JJ'), ('should', 'any', 'be', 'living'), (4, 6)), (('VBD', 'RB', 'JJ'), ('grew', 'very', 'defiant'), (3, 6)), (('PRP$', 'NN', 'VBD', 'SO', 'JJ'), ('her', 'hair', 'got', 'so', 'light'), (5, 5)), (('SO', 'JJ', 'SO', 'JJ'), ('so', 'unique', 'so', \"sincere'\"), (4, 5)), (('PRP$', 'NNS', 'VBP', 'THE', 'JJ'), ('their', 'rates', 'are', 'the', 'same'), (5, 5)), (('VBZ', 'RB', 'JJ'), ('is', 'simply', 'immense'), (3, 5)), (('AND', 'VBD', 'NN', 'JJR', 'JJ'), ('and', 'bought', 'something', 'less', 'flash'), (5, 6)), (('NN', 'OR', 'THE', 'NN', 'POS', 'RB', 'RB', 'JJ'), ('\\\\(', 'or', 'the', 'paper', \"'s\", 'too', 'long', '\\\\)'), (8, 9)), (('A', 'NN', 'OF', 'THE', 'JJ'), ('a', 'share', 'of', 'the', 'same'), (5, 5)), (('BOTH', 'PRP$', 'NNS', 'VBD', 'JJ'), ('both', 'his', 'parents', 'were', 'proud'), (5, 6)), (('AND', 'VBD', 'NN', 'JJR', 'JJ'), ('and', 'bought', 'something', 'less', 'flash'), (5, 6)), (('WITH', 'A', 'NN', 'TO', 'VB', 'JJ'), ('with', 'a', 'chance', 'to', 'get', 'rich'), (6, 6)), (('NN', 'OR', 'THE', 'NN', 'POS', 'RB', 'JJ', 'JJ'), ('\\\\(', 'or', 'the', 'paper', \"'s\", 'too', 'long', '\\\\)'), (8, 9))], 'VBD': [(('IN', 'THE', 'NN', 'THAT', 'PRP', 'VBD'), ('in', 'the', 'bath', 'that', 'she', 'took'), (6, 6)), (('WHEN', 'A', 'NN', 'VBD'), ('when', 'a', 'chance', 'came'), (4, 4)), (('VBD', 'THE', 'NNS', 'THAT', 'PRP', 'VBD'), ('were', 'the', 'friends', 'that', 'he', 'knew'), (6, 6)), (('OR', 'VBD', 'PRP', 'JUST', 'VBD'), ('or', 'was', 'it', 'just', 'luck'), (5, 5)), (('WHEN', 'THE', 'NNS', 'VBD'), ('when', 'the', 'gentlemen', 'said'), (4, 6)), (('AND', 'MORE', 'NNS', 'PRP', 'VBD'), ('and', 'more', 'stars', 'she', 'spied'), (5, 5)), (('AND', 'RB', 'VBD'), ('and', 'jappily', 'sat'), (3, 3)), (('AND', 'MORE', 'NNS', 'PRP', 'VBD'), ('and', 'more', 'stars', 'she', 'spied'), (5, 5)), (('PRP$', 'NN', 'VBD', 'AND', 'VBD'), ('her', 'ma', 'came', 'and', 'tarried'), (5, 5)), (('AND', 'WHAT', 'PRP', 'RB', 'VBD'), ('and', 'what', 'he', 'then', 'said'), (5, 5)), (('VB', 'THE', 'NN', 'NNS', 'VBD'), ('till', 'the', 'jungle', 'folks', 'roared'), (5, 6)), (('PRP', 'VBD', 'AND', 'VBD'), ('he', 'giggled', 'and', 'said'), (4, 5)), (('MORE', 'NNS', 'PRP', 'VBD'), ('more', 'stars', 'she', 'espied'), (4, 4)), (('PRP', 'RB', 'VBD'), ('she', 'contentedly', 'cooed'), (3, 6)), (('THE', 'NN', 'VBD'), ('the', 'apple', 'fermented'), (3, 6)), (('IN', 'THE', 'NN', 'THAT', 'PRP', 'VBD'), ('in', 'the', 'bath', 'that', 'she', 'took'), (6, 6)), (('OR', 'VBD', 'PRP', 'JUST', 'VBD'), ('or', 'was', 'it', 'just', 'luck'), (5, 5)), (('PRP', 'VBD', 'AND', 'VBD'), ('she', 'sighed', 'and', 'replied'), (4, 5))], 'SO': [(('IN', 'ANOTHER', 'SO'), ('instead of', 'another', 'so'), (3, 5))], 'RB': [(('PRP$', 'NN', 'VBD', 'RB'), ('her', 'complexion', 'did', 'too'), (4, 6)), (('BUT', 'WOULD', 'VB', 'ON', 'NN', 'RB'), ('but', 'would', 'sleep', 'on', 'till', 'late'), (6, 6)), (('AND', 'PRP$', 'NNS', 'RB'), ('and', 'their', 'gums', 'underneath'), (4, 6))], 'ABOUT': [(('AND', 'VB', 'PRP', 'ABOUT'), ('and', 'wave', 'it', 'about'), (4, 5))], 'BACK': [(('PRP', 'RB', 'VBD', 'BACK'), ('he', 'never', 'came', 'back'), (4, 5))], 'INSIDE': [(('WITH', 'THE', 'NN', 'INSIDE'), ('with', 'the', 'lady', 'inside'), (4, 6))], 'DOWN': [(('AND', 'JUST', 'VB', 'RB', 'DOWN'), ('and', 'just', 'scarf', 'eos', 'down'), (5, 6)), (('AND', 'JUST', 'VB', 'RB', 'DOWN'), ('and', 'just', 'scarf', 'eos', 'down'), (5, 6))], 'JJS': [(('WITH', 'NNS', 'OF', 'THE', 'JJS'), ('with', 'remains', 'of', 'the', 'best'), (5, 6))], 'WHILE': [(('AND', 'AFTER', 'A', 'WHILE'), ('and', 'after', 'a', 'while'), (3, 5))], 'NNP': [(('THE', 'JJ', 'NN', 'NNP'), ('the', 'second', 'day', \"`munday'\"), (4, 5))], 'VB': [(('RB', 'NN', 'TO', 'VB'), ('lovely', 'poetry', 'to', 'write'), (4, 7)), (('RB', 'NN', 'TO', 'VB'), ('lovely', 'poetry', 'to', 'write'), (4, 7)), (('TO', 'VB', 'TO', 'AND', 'VB'), ('to', 'walk', 'to', 'and', 'fro'), (5, 5)), (('PRP', 'VBP', 'TO', 'VB'), ('I', 'want', 'to', 'deny'), (4, 5)), (('PRP', 'VBD', 'JJ', 'TO', 'VB'), ('he', 'was', 'ready', 'to', 'faint'), (5, 6)), (('IN', 'A', 'NN', 'PRP', 'VBD', 'VB'), ('in', 'a', 'stove', 'she', 'did', 'bake'), (6, 6)), (('AT', 'THE', 'NNS', 'PRP', 'MD', 'VB'), ('at', 'the', 'things', 'he', \"'d\", 'forecast'), (6, 7)), (('AT', 'THE', 'NNS', 'PRP', 'MD', 'VB'), ('at', 'the', 'things', 'he', \"'d\", 'forecast'), (6, 7)), (('VBG', 'TO', 'VB'), ('attempting', 'to', 'learn'), (3, 5)), (('AND', 'THAT', 'WILL', 'VB'), ('and', 'that', 'will', 'serve'), (4, 4)), (('DT', 'NN', 'VBZ', 'TO', 'VB'), ('no', 'one', 'seems', 'to', 'ceir'), (5, 5)), (('JUST', 'AS', 'JJ', 'AS', 'CAN', 'VB'), ('just', 'as', 'plain', 'as', 'can', 'be'), (6, 6))], 'VBN': [(('BUT', 'DT', 'NN', 'COULD', 'VB', 'VBN'), ('but', 'no', 'horse', 'could', 'be', 'found'), (6, 6)), (('WHEN', 'AT', 'JJS', 'PRP', 'VBD', 'VBN'), ('when', 'at', 'least', 'she', 'was', 'wed'), (6, 6)), (('PRP$', 'NN', 'VBN'), ('her', 'appearance', 'improved'), (3, 6)), (('EVERY', 'NN', 'IN', 'PRP$', 'VBN'), ('every', 'night', 'in', 'his', 'shed'), (5, 7)), (('WHEN', 'AT', 'JJS', 'PRP', 'VBD', 'VBN'), ('when', 'at', 'least', 'she', 'was', 'wed'), (6, 6))], 'ALL': [(('PRP', 'VBD', 'NN', 'AT', 'ALL'), ('he', 'wore', 'nothing', 'at', 'all'), (5, 6)), (('PRP', 'VBD', 'NN', 'AT', 'ALL'), ('he', 'knew', 'nothing', 'at', 'all'), (5, 6)), (('VBD', 'DT', 'NN', 'AT', 'ALL'), ('was', 'no', 'use', 'at', 'all'), (5, 5))], 'CAN': [(('NN', 'THAT', 'PRP', 'CAN'), ('anything', 'that', 'he', 'can'), (4, 6))]}), 'fifth': defaultdict(<class 'list'>, {'PRP': [(('OF', 'THE', 'NN', 'VBN', 'IN', 'VBG', 'PRP'), ('of', 'the', 'bishop', 'engaged', 'in', 'confirming', \"'em\"), (7, 11)), (('AND', 'RB', 'THERE', 'VBD', 'JJ', 'JJ', 'IN', 'PRP'), ('and', 'right', 'there', 'became', 'awful', 'sick', 'in', \"'em\"), (8, 10)), (('WOULD', 'VB', 'VBD', 'THE', 'NN', 'VBN', 'FROM', 'PRP'), ('would', 'arise', 'were', 'the', 'kid', 'taken', 'from', 'us'), (8, 10)), (('BUT', 'A', 'NN', 'MD', 'RB', 'CAN', 'A', 'CAN', ',', 'CAN', 'PRP'), ('but', 'a', 'canner', 'ca', \"n't\", 'can', 'a', 'can', ',', 'can', 'he'), (10, 11))], 'POS': [(('THAT', 'THE', 'NN', 'VBD', 'RB', 'PRP$', 'NN', 'POS'), ('that', 'the', 'outfit', 'was', 'really', 'his', 'mama', \"'s\"), (8, 11)), (('NN', '.', 'NN', 'AT', 'THE', 'NN', 'ON', 'THE', 'NN', 'POS'), ('`oh', '!', 'look', 'at', 'the', 'legs', 'on', 'the', 'table', \"'\"), (9, 10)), (('PRP', 'CAN', 'RB', 'VB', 'NNS', 'IN', 'CD', 'NNS', 'POS'), ('you', 'can', \"n't\", 'put', 'toucans', 'in', 'two', 'cans', \"'\"), (9, 9)), (('AND', 'PRP', 'VBP', 'VBN', 'OUT', 'OF', 'NNS', 'BY', 'THE', 'NN', 'POS'), ('and', 'I', 'am', 'made', 'out', 'of', 'curds', 'by', 'the', 'whey', \"'\"), (11, 11)), (('VBZ', 'MORE', 'THAN', 'PRP$', 'JJ', 'NNS', 'POS'), ('is', 'more', 'than', 'your', 'scholarship', 'warrants', \"'\"), (7, 10))], 'NN': [(('RB', 'PRP', 'VBP', 'VBG', 'THE', 'NN', 'FOR', 'NN'), ('now', 'they', 'are', 'fishing', 'the', 'fissure', 'for', 'fisher'), (8, 11)), (('AND', 'VBD', 'THE', 'NN', 'WITH', 'NN'), ('and', 'finished', 'the', 'solo', 'with', 'honour'), (6, 9)), (('VBD', 'A', 'NN', 'DT', 'JJR', 'THAN', 'NN'), ('was', 'a', 'tipple', 'no', 'stronger', 'than', 'toui'), (7, 9)), (('VBZ', 'AND', 'VBZ', 'DT', 'NN'), ('perspires', 'and', 'pushes', 'no', 'mower'), (5, 7)), (('TO', 'VB', 'JJ', 'NNS', 'ON', 'PRP', 'NN'), ('to', 'balance', 'green', 'peas', 'on', 'her', 'fork'), (7, 8)), (('VBZ', 'A', 'NN', 'A', 'NN', 'NN', '.'), ('is', 'a', 'buttress', 'a', 'feminine', 'butter', '?'), (6, 11)), (('PRP', 'RB', 'VBD', 'PRP$', 'NN'), ('he', 'never', 'completed', 'his', 'task'), (5, 8)), (('OF', 'THE', 'NN', 'AND', 'NN', 'AND', 'NN'), ('of', 'the', 'gravy', 'and', 'chicken', 'and', 'ham'), (7, 9)), (('VBP', 'ALL', 'VBN', 'PRP$', 'NNS', 'IN', 'PRP$', 'NN', '.'), ('have', 'all', 'built', 'their', 'nests', 'in', 'my', 'beard', '!'), (8, 9)), (('VBP', 'JJ', 'TO', 'VB', 'ON', 'PRP$', 'NN', '.'), ('are', 'welcome', 'to', 'sit', 'on', 'my', 'bonnet', '!'), (7, 10)), (('WHEN', 'THE', 'NN', 'VBD', 'CD', 'RB', 'VB', 'A', 'NN', '.'), ('when', 'the', 'moon', 'said', \"'do\", \"n't\", 'be', 'a', 'buffoon', '!'), (9, 11)), (('RB', 'PRP', 'VBD', 'PRP', 'NN', 'IN', 'THE', 'NN'), ('then', 'he', 'walloped', 'me', 'square', 'in', 'the', 'face'), (8, 8)), ((',', 'SO', 'PRP', 'VBP', 'ON', 'THE', 'NN'), (',', 'so', 'they', 'played', 'on', 'the', 'lynx'), (6, 6)), (('BY', 'THAT', 'NN', 'OF', 'NN'), ('by', 'that', 'lady', 'of', 'russia'), (5, 7)), (('WHICH', 'VBD', 'THAT', 'NN', 'OF', 'NN'), ('which', 'refreshed', 'that', 'person', 'of', 'ewell'), (6, 9)), (('OR', 'THE', 'NN', 'OF', 'A', 'JJ', 'NN'), ('or', 'the', 'joy', 'of', 'a', 'pleasant', 'surprise'), (7, 9)), (('AND', 'PRP', 'VBP', 'THAT', 'PRP$', 'NN', 'VBZ', 'A', 'NN'), ('and', 'I', 'hope', 'that', 'your', 'day', 'is', 'a', 'blast'), (9, 9)), (('PRP$', 'NN', 'POS', 'JJ', 'NN'), ('my', 'neighbor', \"'s\", 'fat', 'wife'), (5, 6)), (('LIKE', 'THE', 'NNS', 'OF', 'NN'), ('like', 'the', 'movies', 'of', 'tandy'), (5, 7)), (('WITH', 'A', 'JJ', 'NN', 'OF', 'NN', 'ON', 'PRP$', 'NN'), ('with', 'a', 'nice', 'head', 'of', 'hair', 'on', 'his', 'pate'), (9, 9)), (('AND', 'VBD', 'WITH', 'A', 'JJ', 'NN'), ('and', 'retired', 'with', 'a', 'bad', 'stomach ache'), (6, 7)), (('AND', 'THAT', 'VBZ', 'THE', 'NN', 'OF', 'THIS', 'NN'), ('and', 'that', 'is', 'the', 'cause', 'of', 'this', 'sonnet'), (8, 9)), (('IN', 'NN', ',', 'PRP', 'COULD', 'RB', 'VB', 'NN'), ('in', 'fact', ',', 'they', 'could', 'hardly', 'get', 'ynne'), (7, 8)), (('PRP', 'RB', 'VBD', 'A', 'NN'), ('he', 'carelessly', 'stuck', 'a', 'verbena'), (5, 9)), (('IN', 'PRP$', 'JJ', 'NN'), ('because of', 'his', 'scanty', 'regalia'), (4, 7)), (('WHICH', 'VBZ', 'PRP', 'IN', 'RB', 'JJ', 'NN'), ('which', 'leaves', 'him', 'in', 'very', 'bad', 'shape'), (7, 8)), (('FOR', 'CD', 'NNS', 'VBD', 'JJ', 'AT', 'NN'), ('for', 'six', 'sikhs', 'were', 'seasick', 'at', 'eos'), (7, 9)), (('VBD', 'RB', 'A', 'JJ', 'NN'), ('found', 'only', 'a', 'sleeveless', 'tuxedo'), (5, 9)), (('AND', 'THE', 'NN', 'RB', 'VBD', 'A', 'WHOLE', 'NN'), ('and', 'the', 'captain', 'then', 'swore', 'a', 'whole', 'lacht'), (8, 9)), (('FOR', 'RB', 'VBG', 'PRP', 'JJ', 'NN'), ('for', 'not', 'selling', 'her', 'waterproof', 'paint'), (6, 9)), (('WHEN', 'THE', 'JJ', 'NN', 'VBD', 'VBN', 'BY', 'NN'), ('when', 'the', 'wrong', 'tooth', 'was', 'pulled', 'by', 'mistake'), (8, 9)), (('AND', 'VBD', 'PRP', 'MANY', 'NN'), ('and', 'showed', 'him', 'many', 'cstar'), (5, 6)), (('WHEN', 'PRP', 'VBP', 'PRP', ',', 'PRP', 'VBP', 'VBN', 'A', 'NN'), ('when', 'I', 'wear', 'it', ',', 'I', 'am', 'called', 'a', 'vermine'), (9, 9)), (('VBP', 'VBG', 'A', 'NN', 'IN', 'PRP$', 'NN'), ('are', 'making', 'a', 'nest', 'in', 'my', 'beard'), (7, 8)), (('AND', 'VBD', 'ON', 'THE', 'JJ', 'NN'), ('and', 'returned', 'on', 'the', 'previous', 'night'), (6, 9)), (('THE', 'NN', 'VBZ', 'VBN', 'NN'), ('the', 'confusion', 'is', 'called', 'harem-scarem'), (5, 7)), (('AND', 'AS', 'RB', 'AS', 'THE', 'NN'), ('and', 'as', 'far', 'as', 'the', 'bucket'), (6, 7)), (('THAT', 'PRP', 'VBD', 'PRP', 'JJ', 'NN'), ('that', 'she', 'pickled', 'her', 'internal', \"workins'\"), (6, 9)), (('OF', 'THE', 'NN', 'FROM', 'NN', 'TO', 'NN'), ('of', 'the', 'distance', 'from', 'object', 'to', 'source'), (7, 9)), (('VBD', 'VBG', 'PRP$', 'DURING', 'THE', 'NN'), ('kept', 'insuring', 'her', 'during', 'the', 'service'), (6, 10)), (('SO', 'PRP', 'VBP', 'THROUGH', 'A', 'NN', 'IN', 'THE', 'NN'), ('so', 'they', 'flew', 'through', 'a', 'flaw', 'in', 'the', 'flue'), (9, 9)), (('AND', 'PRP', 'VBP', 'VBN', 'TO', 'THE', 'NN', 'WITH', 'NN'), ('and', 'I', 'am', 'stuck', 'to', 'the', 'toilet', 'with', 'glue'), (9, 10)), (('NNS', 'OUT', 'OF', 'PRP$', 'NNS', 'LIKE', 'NN'), ('seeps', 'out', 'of', 'my', 'pockets', 'like', 'honey'), (7, 9)), (('WHEN', 'PRP', 'VBP', 'PRP', ',', 'PRP', 'VBP', 'VBN', 'RB', 'NN'), ('when', 'I', 'wear', 'it', ',', 'I', 'am', 'called', 'only', 'vermin'), (9, 11)), (('SO', 'PRP', 'VBD', 'UP', 'AND', 'VB', 'ON', 'THE', 'NN'), ('so', 'he', 'jumped', 'up', 'and', 'spat', 'on', 'the', 'ceiling'), (9, 10)), (('AS', 'PRP', 'VBD', 'TO', 'VB', ',', 'PRP', 'VBP', 'A', 'NN'), ('as', 'it', 'tried', 'to', 'explain', ',', 'I', 'am', 'a', 'spi'), (9, 10)), (('WITH', 'PRP$', 'NN', 'AND', 'NN', 'IN', 'THE', 'NN'), ('with', 'his', 'spanner', 'and', 'jack', 'in', 'the', 'box'), (8, 9)), (('AND', 'TO', 'VB', 'PRP', 'JJ', 'NNS', 'OF', 'NN'), ('and', 'to', 'write', 'it', 'used', 'acres', 'of', 'time'), (8, 9)), (('POS', 'VB', 'ALL', 'THE', 'NN', 'NN'), (\"'twill\", 'take', 'all', 'the', 'afternoon', 'cleaning'), (6, 10)), (('THE', 'NN', 'JJ', 'NN', 'POS', 'NN', 'A', 'NN'), ('the', \"bloomin'\", 'old', 'tub', \"'s\", 'sprung', 'a', 'leak'), (8, 9)), (('PRP', 'VBD', 'PRP$', 'JJ', 'NNS', 'AND', 'CD', 'NN'), ('they', 'found', 'his', 'front', 'teeth', 'and', 'one', 'cuff'), (8, 8)), (('PRP', 'RB', 'VBP', 'IN', 'A', 'NN', '.'), ('I', 'invariably', 'get', 'in', 'a', 'stew', '!'), (6, 11)), (('NN', 'VBD', ',', 'PRP', 'VBZ', 'A', 'JJ', 'NN', 'IN', 'NN'), ('bo', 'said', ',', 'it', 'is', 'a', 'polar', 'bear', 'in', 'snow'), (9, 10)), (('WHICH', 'VBD', 'THAT', 'NN'), ('which', 'distracted', 'that', 'bull'), (4, 6)), (('PRP', 'MD', 'VB', 'UP', 'A', 'NN'), ('they', \"'d\", 'kick', 'up', 'a', 'hullabaloo'), (6, 9)), (('AND', 'VBD', 'PRP$', 'NN', 'A', 'NN'), ('and', 'gave', 'his', 'proboscis', 'a', 'tweak'), (6, 8)), (('THAT', 'PRP$', 'NN', 'VBD', 'NN'), ('that', 'her', 'head', 'was', 'bare'), (5, 5)), (('AND', 'VBD', 'PRP$', 'BECAUSE', 'PRP', 'VBD', 'NN'), ('and', 'kissed', 'her', 'because', 'he', 'was', 'wuise'), (7, 8)), (('AND', 'QUITE', 'JJ', 'OF', 'NN'), ('and', 'quite', 'independent', 'of', 'girth'), (5, 8)), (('BUT', 'PRP', 'VBZ', 'RB', 'VB', 'IN', 'PRP$', 'NN'), ('but', 'it', 'does', \"n't\", 'come', 'out of', 'my', 'purse'), (8, 8)), (('WHAT', 'VBD', 'VBN', 'ON', 'THE', 'NN', 'NN'), ('what', 'was', 'shown', 'on', 'the', 'cinema', 'screen'), (7, 9)), (('RB', ',', 'PRP', 'VBD', 'JJ', 'NN'), ('alas', ',', 'he', 'proved', 'treaulieu', 'unreaulieu'), (5, 6)), (('RB', ',', 'PRP', 'VBD', 'JJ', 'NN'), ('alas', ',', 'he', 'proved', 'treaulieu', 'unreaulieu'), (5, 6)), (('RB', 'BOTH', 'VBN', 'FROM', 'NN'), ('then', 'both', 'skedaddled', 'from', 'eden'), (5, 6)), (('BY', 'ANOTHER', 'WITH', 'NNS', 'FROM', 'NEAR', 'NN'), ('by', 'another', 'with', 'beans', 'from', 'near', 'fargo'), (7, 10)), (('SO', 'PRP', 'JUST', 'VB', ',', 'OF', 'NN'), ('so', 'he', 'just', 'rhododendron', ',', 'of', 'course'), (6, 9)), (('PRP', 'VBD', 'RB', 'VB', 'NN', 'VBD', 'THIS', 'NN'), ('I', 'did', \"n't\", 'think', 'life', 'was', 'this', 'way'), (8, 8)), (('BUT', 'PRP', 'VBD', 'AND', 'PRP', 'VBD', ',', 'NN'), ('but', 'she', 'sighed', 'and', 'she', 'said', ',', 'canteloupe'), (7, 7)), (('VBG', 'TO', 'VB', 'NN'), ('pretending', 'to', 'represent', 'chile'), (4, 9)), (('AND', 'RB', 'PRP', 'VBZ', 'A', 'NN', 'NN'), ('and', 'now', 'he', \"'s\", 'a', 'college', 'professor'), (7, 10)), (('ALL', 'OF', 'THIS', 'NN', 'AFTER', 'NN'), ('all', 'of', 'this', 'homework', 'after', 'school'), (6, 8)), (('THAT', 'NN', 'IN', 'A', 'NN'), ('that', 'man', 'in', 'a', 'boat'), (5, 5)), (('THAT', 'NN', 'OF', 'NN'), ('that', 'man', 'of', 'peru'), (4, 5)), (('AND', 'VB', 'NN', 'TO', 'PRP$', 'NN', 'IN', 'NN'), ('and', 'give', 'vent', 'to', 'their', 'terror', 'in', 'scremyss'), (8, 9)), (('VBP', 'ALL', 'JJ', 'NNS', 'FOR', 'A', 'NN'), ('are', 'all', 'easy', 'marks', 'for', 'a', 'jolly'), (7, 9)), (('THE', 'NN', 'OF', 'NN'), ('the', 'theory', 'of', 'witten'), (4, 6)), (('AS', 'THE', 'JJ', 'NN'), ('as', 'the', 'unique', 'motivation'), (4, 8)), (('THAT', 'PRP', 'VBP', 'RB', 'VBN', 'VBN', 'WITH', 'A', 'NN'), ('that', 'I', 'have', \"n't\", 'been', 'born', 'with', 'a', 'breign'), (9, 10)), (('AND', 'PRP', 'VBD', 'DOWN', 'AND', 'VBD', 'PRP$', 'NN'), ('and', 'it', 'dropped', 'down', 'and', 'ruined', 'her', 'gown'), (8, 9)), (('AND', 'RB', 'VB', 'QUITE', 'NN'), ('and', 'sometimes', 'get', 'quite', 'cranky'), (5, 7)), (('THAT', 'VBD', 'JJ', ',', 'JUST', 'LIKE', 'NN'), ('that', 'were', 'funny', ',', 'just', 'like', 'fudd'), (6, 7)), (('THAT', 'NN', 'OF', 'NN'), ('that', 'person', 'of', 'ischia'), (4, 5)), (('ON', 'THE', 'NN', 'WITH', 'PRP$', 'NN', 'OR', 'NN'), ('on', 'the', 'phone', 'with', 'your', 'brother', 'or', 'seester'), (8, 9)), (('RB', 'VBD', 'INTO', 'A', 'NN', 'OF', 'NN'), ('then', 'fell', 'into', 'a', 'vat', 'of', 'grease'), (7, 8)), (('AND', 'RB', 'COULD', 'VB', 'A', 'NN'), ('and', 'soon', 'could', 'afford', 'a', 'rolls-royce'), (6, 7)), (('FOR', 'A', 'NN', 'VBZ', 'VBN', 'OFF', 'PRP$', 'NN'), ('for', 'a', 'surgeon', 'has', 'cut', 'off', 'his', 'fuite'), (8, 9)), (('MAY', 'VB', 'A', 'NN', 'AT', 'NN'), ('may', 'evolve', 'a', 'professor', 'at', 'yale'), (6, 9)), (('UPON', 'THE', 'NN', ',', 'VBG', 'NN', '.'), ('upon', 'the', 'fence', ',', 'crying', 'hooray', '!'), (5, 8)), (('THAN', 'VB', 'TO', 'THE', 'JJ', 'NN'), ('than', 'belong', 'to', 'the', 'star-spangled', 'banner'), (6, 8)), (('AND', 'PRP', 'VBD', 'RB', 'LIKE', 'NN', 'OF', 'NN'), ('and', 'he', 'did', \"n't\", 'like', 'mother', 'of', 'pearl'), (8, 9)), (('VBD', 'QUITE', 'THE', 'NN', 'OF', 'NN'), ('was', 'quite', 'the', 'reverse', 'of', \"'hosanna'\"), (6, 7)), (('RB', 'PRP$', 'NN', 'VBD', 'A', 'NN', 'IN', 'PRP$', 'NN'), ('then', 'his', 'wife', 'tied', 'a', 'knot', 'in', 'his', 'trunk'), (9, 9)), (('PRP', 'VBP', 'RB', 'VB', ',', 'PRP', 'JUST', 'VBD', 'FOR', 'THE', 'NN'), ('I', 'do', \"n't\", 'know', ',', 'I', 'just', 'came', 'for', 'the', 'ride'), (10, 10)), (('THAN', 'THERE', 'VBP', 'IN', 'THE', 'JJ', 'NN'), ('than', 'there', 'are', 'in', 'the', 'star-spangled', 'banner'), (7, 8)), (('AS', 'PRP', 'VBD', 'OUT', 'CD', 'NNS', 'IN', 'PRP$', 'NN'), ('as', 'she', 'let', 'out', 'three', 'tucks', 'in', 'her', 'tunic'), (9, 10)), (('VBD', 'OUT', 'TO', 'VB', 'NN', 'OF', 'NN'), ('turned', 'out', 'to', 'be', 'plaster', 'of', 'paris'), (7, 9)), (('FOR', 'PRP', 'VBP', 'THAT', 'PRP', 'VBP', 'PRP', 'VBZ', 'JJ', ',', 'NN'), ('for', 'I', 'fear', 'that', 'I', 'am', 'handel', \"'s\", 'miss', ',', 'sire'), (10, 12)), (('IN', 'A', 'JJ', 'NN', 'NN'), ('in', 'a', 'sugary', 'takeover', 'bid'), (5, 9)), (('AND', 'THE', 'NN', 'ON', 'THE', 'NN', 'OF', 'THE', 'NN'), ('and', 'the', 'smile', 'on', 'the', 'face', 'of', 'the', 'tiger'), (9, 10)), (('PRP', 'VBD', 'WHEN', 'PRP', 'VBP', 'ACROSS', 'NN'), ('I', 'relaxed', 'when', 'I', 'eos', 'across', 'aunt'), (7, 11)), (('TO', 'A', 'NN', 'WHO', 'VBD', 'VBN', 'LIKE', 'A', 'NN'), ('to', 'a', 'man', 'who', 'was', 'shaped', 'like', 'a', 'cello'), (9, 10))], 'INSIDE': [(('AND', 'VBD', 'NN', 'INSIDE', 'PRP$', 'INSIDE'), ('and', 'made', 'cider', 'inside', 'her', 'inside'), (6, 9))], 'BENEATH': [(('VBD', 'DOWN', ',', 'AND', 'VBD', 'VBN', 'BENEATH'), ('sat', 'down', ',', 'and', 'was', 'bitten', 'beneath'), (6, 8))], 'VB': [(('TO', 'VB', 'CD', 'NNS', 'TO', 'VB'), ('to', 'tutor', 'two', 'tutors', 'to', 'toot'), (6, 8)), (('JUST', 'AS', 'EVERY', 'JJ', 'NN', 'SHOULD', 'VB'), ('just', 'as', 'every', 'sweet', 'maiden', 'should', 'dioux'), (7, 10)), (('PRP', 'VBD', 'JJ', 'TO', 'VB', 'AND', 'TO', 'VB'), ('she', 'was', 'ready', 'to', 'give', 'and', 'to', 'take'), (8, 9)), (('BECAUSE', 'THE', 'NN', 'VBD', 'AND', 'VB'), ('because', 'the', 'man', 'bullied', 'and', 'boucestcr'), (6, 8)), (('BUT', 'THE', 'NN', 'NN', 'VBD', 'PRP', 'VB'), ('but', 'the', 'telephone', 'book', 'caused', 'him', 'pain'), (7, 9)), (('WHICH', 'PRP$', 'NN', 'COULD', 'RB', 'VB', ',', 'JJ', 'TO', 'VB'), ('which', 'his', 'faith', 'could', \"n't\", 'heal', ',', 'strange', 'to', 'say'), (9, 9)), (('JJ', 'NNS', 'VBZ', 'THE', 'NN', 'PRP', 'WILL', 'VB'), ('thirty', 'days', 'is', 'the', 'time', 'he', 'will', 'do'), (8, 9)), (('BUT', 'PRP', 'VBP', 'THAT', 'PRP', 'RB', 'VB'), ('but', 'I', 'guess', 'that', 'you', 'probably', 'gnu'), (7, 9)), (('AND', 'NN', ',', 'NN', 'THERE', ',', 'OR', 'RB', 'PRP', 'WILL', 'VB'), ('and', 'shout', ',', 'freeze', 'there', ',', 'or', 'else', 'I', 'will', 'cheroot'), (9, 9)), (('SO', 'PRP', 'RB', 'RB', 'VBD', 'BACK', 'TO', 'VB'), ('so', 'he', 'very', 'soon', 'went', 'back', 'to', 'dover'), (8, 10)), (('BUT', 'VBD', 'RB', 'BECAUSE', 'PRP$', 'NNS', 'VB'), ('but', 'slept', 'poorly', 'because', 'her', 'toes', 'froze'), (7, 9)), (('VBD', 'PRP$', 'NN', 'NN', 'PRP$', 'NNS', 'AND', 'VB'), ('put', 'his', 'arm', 'round', 'her', 'shoulders', 'and', 'kr'), (8, 9)), (('VBP', 'HOW', 'JJ', '.', 'THE', 'NNS', 'WILL', 'VB'), ('oh', 'how', 'modern', '!', 'the', 'critics', 'will', 'say'), (7, 9)), (('AND', 'WOULD', ',', 'IF', 'PRP', 'VBD', 'RB', 'VB'), ('and', 'would', ',', 'if', 'I', 'did', \"n't\", 'forgezzo'), (7, 8)), (('RB', 'PRP', 'VBP', 'JJ', 'WITH', 'DT', 'NN', 'TO', 'VB'), ('now', 'I', 'am', 'homeless', 'with', 'no', 'place', 'to', 'stay'), (9, 10)), (('THE', 'JJ', 'NN', 'VBD', 'DT', 'NN', 'TO', 'VB'), ('the', 'old', 'dame', 'said', 'no', 'word', 'to', 'rebuchre'), (8, 8)), (('FROM', 'THE', 'NN', 'NNS', 'PRP', 'COULD', 'VB'), ('from', 'the', 'comedy', 'roles', 'he', 'could', 'play'), (7, 9))], 'PRP$': [(('NNP', 'JJ', 'EVER', 'TO', 'VB', 'PRP$'), ('`twas', 'impossible', 'ever', 'to', 'fill', 'her'), (6, 10)), (('ALL', 'OF', 'WHICH', ',', 'THE', 'NN', 'VBD', ',', 'VBD', 'PRP$'), ('all', 'of', 'which', ',', 'the', 'lady', 'said', ',', 'shocked', 'her'), (8, 9))], 'NNS': [(('AND', 'VBN', 'VBG', 'ON', 'NNS', 'AND', 'JJ', 'NNS'), ('and', 'been', 'feasting', 'on', 'peas', 'and', 'green', 'beans'), (8, 9)), (('BECAUSE', 'PRP', 'VBD', 'VBG', 'PRP$', 'NNS'), ('because', 'I', 'was', 'sniffing', 'my', 'toes'), (6, 8)), (('THAT', 'JJ', 'JJ', 'NN', 'OF', 'NNS'), ('that', 'unlucky', 'old', 'person', 'of', 'ems'), (6, 9)), (('THAT', 'JJ', 'JJ', 'NN', 'OF', 'NNS'), ('that', 'unlucky', 'old', 'person', 'of', 'ems'), (6, 9)), (('BUT', 'PRP$', 'NNS', 'VBD', 'DOWN', 'TO', 'PRP$', 'NNS'), ('but', 'her', 'glasses', 'slipped', 'down', 'to', 'her', 'toes'), (8, 9)), (('OF', 'PRP$', 'NN', 'AND', 'NN', 'NNS'), ('of', 'their', 'city', 'and', 'town', 'promenades'), (6, 9)), (('THIS', 'VBD', 'RB', 'VB', 'TO', 'PRP$', 'NNS'), ('this', 'did', \"n't\", 'apply', 'to', 'her', 'feet'), (7, 8)), (('AND', 'PRP', 'VBD', 'RB', 'JJ', 'NN', 'NNS'), ('and', 'she', 'baked', 'really', 'great', 'apple', 'pies'), (7, 9)), (('AND', 'PRP', 'CAN', 'RB', 'VB', 'PRP$', 'NN', 'FROM', 'PRP$', 'NNS'), ('and', 'he', 'can', \"n't\", 'tell', 'his', 'head', 'from', 'his', 'feet'), (10, 10)), (('PRP', 'VBP', 'VBG', 'PRP', ',', 'BY', 'NNS'), ('you', 'are', 'killing', 'yourself', ',', 'by', 'degrees'), (6, 9)), (('WHEN', 'PRP', 'VBD', 'THERE', 'VBD', 'CD', 'JJ', 'NNS'), ('when', 'he', 'saw', 'there', 'were', 'six', 'little', 'chips'), (8, 9)), (('BUT', 'THE', 'JJ', 'VBD', 'JJ', 'NNS'), ('but', 'the', 'other', 'won', 'several', 'prizes'), (6, 10))], 'VBD': [(('SO', 'FOR', 'NN', 'PRP', 'VBD'), ('so', 'for', 'over-achievement', 'he', 'strived'), (5, 5)), (('PRP', 'VBD', 'RB', 'THE', 'NN', 'PRP', 'VBD'), ('he', 'was', \"n't\", 'the', 'wizard', 'he', 'woz'), (7, 8)), (('AS', 'PRP$', 'NN', 'AND', 'NN', 'VBD'), ('as', 'his', 'talent', 'and', 'confidence', 'swelled'), (6, 9)), (('RB', 'PRP', 'VBP', 'ON', 'PRP$', 'NN', 'AND', 'VBD'), ('then', 'I', 'sat', 'on', 'my', 'moped', 'and', 'moped'), (8, 8)), (('AND', 'DT', 'NN', 'VBZ', 'WHICH', 'NN', 'PRP', 'VBD'), ('and', 'no', 'one', 'knows', 'which', 'way', 'she', 'went'), (8, 8)), (('BUT', 'PRP', 'VBD', 'PRP$', 'NNS', 'AND', 'VBD'), ('but', 'he', 'thanked', 'his', 'detractors', 'and', 'bowed'), (7, 9)), (('PRP', 'VBD', 'UP', 'IN', 'NN', 'AND', 'VBD'), ('she', 'sat', 'up', 'in', 'bed', 'and', 'meowed'), (7, 7))], 'VBN': [(('OR', 'A', 'NN', 'THAT', 'VBZ', 'VBN', 'RB', 'VBN'), ('or', 'a', 'lamb', 'that', \"'s\", 'been', 'recently', 'fleeced'), (8, 10)), (('AND', 'SINCE', 'RB', 'VBZ', 'RB', 'VBN'), ('and', 'since', 'then', 'has', 'never', 'benzene'), (6, 8)), (('AND', 'VBZ', 'PRP', 'COULD', 'RB', 'VB', 'VBN'), ('and', 'sideways', 'he', 'could', \"n't\", 'be', 'seen'), (7, 8)), (('PRP', 'VBP', 'RB', 'VBN', 'SINCE', 'THE', 'NN', 'PRP', 'VBD', 'VBN'), ('I', 'have', 'not', 'used', 'since', 'the', 'year', 'I', 'was', 'born'), (10, 10)), (('IF', 'VBN', ',', 'FOR', 'PRP$', 'JJS', 'NN', 'VBZ', 'VBN'), ('if', 'dressed', ',', 'for', 'my', 'best', 'frock', 'is', 'frayed'), (8, 9))], 'VBP': [(('RB', ',', 'PRP', 'WILL', 'VB', 'PRP', 'NN', ',', 'PRP', 'VBP'), ('well', ',', 'I', 'will', 'do', 'it', 'tomorrow', ',', 'I', 'mean'), (8, 10)), (('AND', 'PRP', 'VBD', 'NN', 'RB', 'VBP'), ('and', 'she', 'reached', 'home', 'exceedingly', 'plain'), (6, 9)), (('AND', 'RB', 'A', 'JJ', 'NN', 'PRP', 'VBP'), ('and', 'now', 'a', 'new', 'teacher', 'they', 'seek'), (7, 8)), (('PRP', 'VBZ', 'THE', 'NNS', 'IN', 'NN', 'THAT', 'PRP', 'VBP'), ('it', \"'s\", 'the', 'people', 'in', 'front', 'that', 'I', 'jar'), (9, 10)), (('OF', 'THE', 'JJ', 'NN', 'PRP', 'VBP'), ('of', 'the', 'classical', 'music', 'I', 'play'), (6, 9)), (('JJ', 'NN', 'VBZ', 'JJ', ',', 'PRP', 'VBP'), (\"'to\", 'drink', 'is', 'forbidden', ',', 'you', 'loon'), (6, 9)), (('DT', ',', 'VB', 'PRP', 'RB', 'VB', 'PRP', ',', 'PRP', 'VBP'), ('no', ',', 'igloo', 'them', 'not', 'sew', 'them', ',', 'you', 'know'), (8, 9))], 'RB': [(('JJ', 'OUGHT', 'TO', 'VB', 'OUT', 'THERE', 'RB', '.'), ('`you', 'ought', 'to', 'go', 'out', 'there', 'again', '!'), (7, 9)), (('AND', 'COULD', 'RB', 'VB', 'BACK', 'RB'), ('and', 'could', \"n't\", 'bend', 'back', 'again'), (6, 7)), (('VBZ', 'TO', 'VB', 'PRP$', 'NN', 'NN', 'RB'), ('hopes', 'to', 'draw', 'his', 'insurance', 'cheque', 'soon'), (7, 9)), (('OR', 'THE', 'NN', 'WILL', 'VB', 'VBG', 'CD', ',', 'RB'), ('or', 'the', 'rest', 'will', 'be', 'wanting', 'one', ',', 'too'), (8, 9))], 'DOWN': [(('VBD', 'THE', 'NN', 'IN', 'A', 'NN', 'RB', 'DOWN'), ('dumped', 'the', 'boy', 'in', 'a', 'bin', 'upside', 'down'), (8, 9))], 'JJ': [(('FOR', 'THE', 'NN', 'VBZ', 'VBN', ',', 'SO', 'VBZ', 'PRP$', 'JJ'), ('for', 'the', 'corn', 'is', 'gone', ',', 'so', 'is', 'her', 'teaux'), (9, 9)), (('AND', 'RB', 'THE', 'JJ', 'NN', 'VBZ', 'RB', 'JJ'), ('and', 'now', 'the', 'dumb', 'thing', 'is', 'too', 'small'), (8, 8)), (('AND', 'VBD', 'THE', 'JJ'), ('and', 'shocked', 'the', 'ultra-fastidious'), (4, 4)), (('VB', 'BEFORE', 'JJ', 'VB', 'JJ', 'JJ'), ('be', 'before', 'phoebe', 'be', 'phoebe', 'bee-bee'), (6, 9)), (('AS', 'IF', 'PRP', 'MD', 'VBN', 'JJ'), ('as', 'if', 'he', \"'d\", 'been', 'invited'), (6, 8)), (('THAT', 'NN', 'VBD', 'RB', 'JJ', ',', 'PRP', 'VBD', 'JJ'), ('that', 'bird', 'was', \"n't\", 'black', ',', 'he', 'was', 'yellow'), (8, 9)), (('TO', 'VB', 'PRP$', 'JJ', 'NN', 'JJ'), ('to', 'call', 'my', 'last', 'novel', 'impure'), (6, 9)), (('AND', 'VBG', 'VBP', 'PRP', 'VBZ', 'BUT', 'JJ', '.'), ('and', 'awakening', 'find', 'it', \"'s\", 'but', 'dreymss', '!'), (7, 11)), (('AND', 'VBG', 'VBP', 'PRP', 'VBZ', 'BUT', 'JJ', '.'), ('and', 'awakening', 'find', 'it', \"'s\", 'but', 'dreyrnss', '!'), (7, 11)), (('BUT', 'THE', 'NNS', 'ALL', 'VBD', 'NNP', 'RB', 'JJ'), ('but', 'the', 'others', 'all', 'thought', \"'twas\", 'too', 'breezy'), (8, 10)), (('THAT', 'DT', 'NN', 'VBD', 'JJ', 'BUT', 'JJ'), ('that', 'no', 'one', 'was', 'present', 'but', 'smarty'), (7, 9)), (('OR', 'VBZ', 'NN', 'VB', 'NNS', 'SO', 'JJ'), ('or', 'does', 'gravity', 'miss', 'things', 'so', 'small'), (7, 9)), (('RB', 'VB', 'UP', 'ALL', 'JJ', 'AND', 'JJ'), ('then', 'wake', 'up', 'all', 'snappy', 'and', 'snarly'), (7, 8))], 'IN': [(('BUT', 'CD', 'NN', 'PRP', 'JUST', 'COULD', 'RB', 'VB', 'IN'), ('but', 'one', 'god', 'he', 'just', 'could', \"n't\", 'believe', 'in'), (9, 10)), (('PRP', 'VBD', 'THROUGH', 'THE', 'NN', 'AND', 'VBD', 'IN'), ('she', 'slipped', 'through', 'the', 'straw', 'and', 'fell', 'in'), (8, 8)), (('PRP', 'VBD', 'THROUGH', 'THE', 'NN', 'AND', 'VBD', 'IN'), ('he', 'slipped', 'through', 'the', 'straw', 'and', 'fell', 'in'), (8, 8)), (('WHAT', 'A', 'NN', 'PRP', 'VBD', 'RB', 'VB', 'IN'), ('what', 'a', 'blessing', 'they', 'did', \"n't\", 'fall', 'in'), (8, 9))], 'ACROSS': [(('PRP', 'VBP', 'RB', 'DOWN', 'TO', 'VB', 'RP', 'ACROSS'), ('I', 'am', 'eos', 'down', 'to', 'put', 'eos', 'across'), (8, 11))], 'ON': [(('PRP', 'WILL', 'VB', 'THAT', 'PRP', 'VBZ', 'RB', 'VBN', 'VBN', 'ON'), ('I', 'will', 'know', 'that', 'it', 'has', \"n't\", 'been', 'sat', 'on'), (10, 10))], 'ANY': [(('THE', 'NNS', ',', 'RB', ',', 'VBD', 'RB', 'VB', 'ANY'), ('the', 'drivers', ',', 'therefore', ',', 'did', \"n't\", 'dump', 'any'), (7, 10)), (('RB', 'IN', 'CD', 'NNS', ',', 'THERE', 'VBP', 'RB', 'ANY'), ('now', 'instead of', 'two', 'cats', ',', 'there', 'are', \"n't\", 'any'), (8, 9))], 'FW': [(('THAN', 'JJ', 'NN', 'NN', 'FW', 'FW', 'FW', 'FW'), ('than', 'eos', 'point', 'eos', 'eos', 'eos', 'eos', 'eos'), (8, 14)), (('VBG', 'RB', 'A', 'NN', 'OF', 'FW', 'FW'), ('leaving', 'only', 'a', 'pile', 'of', 'de', 'brie'), (7, 9))], 'VBG': [(('BECAUSE', 'ON', 'PRP$', 'NNS', 'PRP', 'VBD', 'VBG'), ('because', 'on', 'her', 'toes', 'he', 'kept', 'prancing'), (7, 9)), (('JUST', 'VBD', 'PRP', ',', 'RB', 'WHERE', 'PRP', 'VBP', 'VBG'), ('just', 'painted', 'it', ',', 'right', 'where', 'you', 'are', 'sitting'), (8, 11))], 'TO': [(('PRP', 'VBD', 'PRP', 'AND', 'VBD', 'NNS', 'AND', 'TO'), ('he', 'reversed', 'it', 'and', 'walked', 'fro', 'and', 'to'), (8, 9))], 'CAN': [(('BUT', 'PRP', 'RB', 'VBP', 'TO', 'VB', 'AS', 'MANY', 'NNS', 'INTO', 'THE', 'JJ', 'NN', 'AS', 'PRP', 'RB', 'CAN'), ('but', 'I', 'always', 'try', 'to', 'get', 'as', 'many', 'syllables', 'into', 'the', 'last', 'line', 'as', 'I', 'possibly', 'can'), (17, 24))], 'CD': [(('RB', 'VB', 'OUT', 'A', 'NN', 'OR', 'CD'), ('then', 'grind', 'out', 'a', 'limerick', 'or', 'two'), (7, 9))], 'UP': [(('THAT', 'PRP', 'COULD', 'RB', 'VB', 'UP'), ('that', 'he', 'could', \"n't\", 'reach', 'up'), (6, 6))], 'JJR': [(('JJ', 'NN', ',', 'PRP', 'VBD', ',', 'COULD', 'VB', 'JJR'), ('`no', 'mixture', ',', 'she', 'said', ',', 'could', 'be', 'finer'), (7, 11)), (('AND', 'PRP$', 'NNS', 'VBD', 'JJR', 'AND', 'JJR'), ('and', 'her', 'freckles', 'grew', 'rarer', 'and', 'rarer'), (7, 10))], 'MORE': [(('PRP', 'VBD', 'ALL', 'PRP$', 'NNS', 'VBG', 'MORE'), ('he', 'left', 'all', 'his', 'fans', 'wanting', 'more'), (7, 8))], 'VBZ': [(('PRP', 'WILL', 'VB', 'RB', 'VBD', ',', 'WHEN', 'PRP', 'VBZ'), ('I', 'will', 'be', 'awfully', 'said', ',', 'when', 'it', 'goes'), (8, 10))]})}\n"
     ]
    }
   ],
   "source": [
    "print(templates)"
   ]
  },
  {
   "cell_type": "code",
   "execution_count": 5,
   "metadata": {},
   "outputs": [
    {
     "name": "stdout",
     "output_type": "stream",
     "text": [
      "defaultdict(<class 'list'>, {('that', 'the', 'outfit', 'was', 'really', 'his', 'mama', \"'s\"): [('made', 'people', 'suspect')], ('now', 'they', 'are', 'fishing', 'the', 'fissure', 'for', 'fisher'): [('pulled', 'the', 'fisherman', 'in')], ('to', 'balance', 'green', 'peas', 'on', 'her', 'fork'): [('a', 'tutor', 'who', 'taught', 'her')], ('`twas', 'impossible', 'ever', 'to', 'fill', 'her'): [('though', 'you', 'piled', 'up', 'her', 'plate')], ('and', 'been', 'feasting', 'on', 'peas', 'and', 'green', 'beans'): [('you', 'have', 'mixed', 'up', 'green', 'and', 'red')], ('because', 'I', 'was', 'sniffing', 'my', 'toes'): [('I', 'only', 'felt', 'queasy')], ('she', 'was', 'ready', 'to', 'give', 'and', 'to', 'take'): [('either', 'night', 'or', 'by', 'dee')], ('but', 'the', 'telephone', 'book', 'caused', 'him', 'pain'): [('and', 'daniel', 'defoe')], ('which', 'his', 'faith', 'could', \"n't\", 'heal', ',', 'strange', 'to', 'say'): [('he', 'was', 'pained', 'by', 'a', 'tooth')], ('thirty', 'days', 'is', 'the', 'time', 'he', 'will', 'do'): [('then', 'collapsed', 'in', 'a', 'cell')], ('but', 'I', 'guess', 'that', 'you', 'probably', 'gnu'): [('or', 'hungarian', 'cat')], ('and', 'shout', ',', 'freeze', 'there', ',', 'or', 'else', 'I', 'will', 'cheroot'): [('he', 'would', 'wave', 'a', 'cigar')], ('so', 'for', 'over-achievement', 'he', 'strived'): [('which', 'brought', 'meanness', 'and', 'scorn')], ('he', 'was', \"n't\", 'the', 'wizard', 'he', 'woz'): [('to', 'most', 'of', 'his', 'clients')], ('or', 'a', 'lamb', 'that', \"'s\", 'been', 'recently', 'fleeced'): [('that', 'has', 'run', 'out', 'of', 'pluck')], ('and', 'sideways', 'he', 'could', \"n't\", 'be', 'seen'): [('that', 'his', 'back', 'touched', 'his', 'chest')], ('I', 'have', 'not', 'used', 'since', 'the', 'year', 'I', 'was', 'born'): [('in', 'my', 'legs', 'and', 'my', 'bum')], ('well', ',', 'I', 'will', 'do', 'it', 'tomorrow', ',', 'I', 'mean'): [('in', 'the', 'bath', 'that', 'she', 'took')], ('and', 'she', 'reached', 'home', 'exceedingly', 'plain'): [('her', 'complexion', 'did', 'too')], ('have', 'all', 'built', 'their', 'nests', 'in', 'my', 'beard', '!'): [('four', 'larks', 'and', 'a', 'wren')], ('are', 'welcome', 'to', 'sit', 'on', 'my', 'bonnet', '!'): [('all', 'the', 'birds', 'in', 'the', 'air')], ('`you', 'ought', 'to', 'go', 'out', 'there', 'again', '!'): [('he', 'was', 'told', 'by', 'his', 'wife')], ('when', 'the', 'moon', 'said', \"'do\", \"n't\", 'be', 'a', 'buffoon', '!'): [('but', 'got', 'a', 'great', 'fright')], ('they', 'found', 'his', 'front', 'teeth', 'and', 'one', 'cuff'): [('and', 'after', 'a', 'while')], ('for', 'the', 'corn', 'is', 'gone', ',', 'so', 'is', 'her', 'teaux'): [('for', 'her', 'skill', 'we', 'must', 'praise', 'her')], ('and', 'now', 'the', 'dumb', 'thing', 'is', 'too', 'small'): [('and', 'carefully', 'lopped', 'it')], ('and', 'could', \"n't\", 'bend', 'back', 'again'): [('when', 'the', 'weather', 'turns', 'cool')], ('so', 'he', 'very', 'soon', 'went', 'back', 'to', 'dover'): [('stung', 'his', 'nose', 'and', 'his', 'knees')], ('but', 'slept', 'poorly', 'because', 'her', 'toes', 'froze'): [('and', 'stuck', 'through', 'her', 'feet')], ('oh', 'how', 'modern', '!', 'the', 'critics', 'will', 'say'): [('bang', 'the', 'floor', 'with', 'your', 'knees')], ('the', 'drivers', ',', 'therefore', ',', 'did', \"n't\", 'dump', 'any'): [('dumping', 'dirt', 'near', 'the', 'store')], ('and', 'now', 'a', 'new', 'teacher', 'they', 'seek'): [('the', 'second', 'day', \"`munday'\")], ('all', 'of', 'which', ',', 'the', 'lady', 'said', ',', 'shocked', 'her'): [('using', 'language', 'extreme')], ('I', 'invariably', 'get', 'in', 'a', 'stew', '!'): [('when', 'the', 'weather', 'turns', 'cool')], ('as', 'if', 'he', \"'d\", 'been', 'invited'): [('and', 'eat', 'just', 'as', 'hearty')], ('that', 'bird', 'was', \"n't\", 'black', ',', 'he', 'was', 'yellow'): [('then', 'he', 'took', 'his', 'own', 'life')], ('to', 'call', 'my', 'last', 'novel', 'impure'): [('`when', 'I', 'have', 'punctured', 'his', 'hide')], ('now', 'I', 'am', 'homeless', 'with', 'no', 'place', 'to', 'stay'): [('it', 'sucked', 'everything', 'in')], ('he', 'reversed', 'it', 'and', 'walked', 'fro', 'and', 'to'): [('to', 'walk', 'to', 'and', 'fro')], ('the', 'old', 'dame', 'said', 'no', 'word', 'to', 'rebuchre'): [('when', 'a', 'chance', 'came')], ('that', 'no', 'one', 'was', 'present', 'but', 'smarty'): [('were', 'the', 'friends', 'that', 'he', 'knew')], ('or', 'does', 'gravity', 'miss', 'things', 'so', 'small'): [('or', 'was', 'it', 'just', 'luck')], ('is', 'a', 'buttress', 'a', 'feminine', 'butter', '?'): [('please', 'tell', 'me')], ('she', 'slipped', 'through', 'the', 'straw', 'and', 'fell', 'in'): [('to', 'drink', 'lemonade')], ('I', 'will', 'know', 'that', 'it', 'has', \"n't\", 'been', 'sat', 'on'): [('with', 'a', 'hat', 'on', 'my', 'head')], ('he', 'slipped', 'through', 'the', 'straw', 'and', 'fell', 'in'): [('to', 'drink', 'lemonade')], ('`oh', '!', 'look', 'at', 'the', 'legs', 'on', 'the', 'table', \"'\"): [('when', 'the', 'gentlemen', 'said')], ('as', 'his', 'talent', 'and', 'confidence', 'swelled'): [('both', 'his', 'parents', 'were', 'proud')], ('then', 'I', 'sat', 'on', 'my', 'moped', 'and', 'moped'): [('and', 'bought', 'something', 'less', 'flash')], ('then', 'grind', 'out', 'a', 'limerick', 'or', 'two'): [('take', 'a', 'pull', 'at', 'his', 'hair')], ('leaving', 'only', 'a', 'pile', 'of', 'de', 'brie'): [('with', 'a', 'thunderous', 'sound')], ('I', 'did', \"n't\", 'think', 'life', 'was', 'this', 'way'): [('when', 'at', 'least', 'she', 'was', 'wed')], ('pretending', 'to', 'represent', 'chile'): [('he', 'wore', 'nothing', 'at', 'all')], ('and', 'now', 'he', \"'s\", 'a', 'college', 'professor'): [('he', 'knew', 'nothing', 'at', 'all')], ('she', 'sat', 'up', 'in', 'bed', 'and', 'meowed'): [('to', 'scare', 'off', 'the', 'critter')], ('from', 'the', 'comedy', 'roles', 'he', 'could', 'play'): [('with', 'a', 'chance', 'to', 'get', 'rich')], ('of', 'the', 'classical', 'music', 'I', 'play'): [('if', 'I', 'did', \"n't\", 'curb', 'the', 'sound')], (\"'to\", 'drink', 'is', 'forbidden', ',', 'you', 'loon'): [('this', 'turk', 'made', 'reply')], ('but', 'her', 'glasses', 'slipped', 'down', 'to', 'her', 'toes'): [('her', 'appearance', 'improved')], ('of', 'their', 'city', 'and', 'town', 'promenades'): [('and', 'as', 'cops', 'walk', 'the', 'beats')], ('and', 'gave', 'his', 'proboscis', 'a', 'tweak'): [('grew', 'very', 'defiant')], ('that', 'her', 'head', 'was', 'bare'): [('her', 'hair', 'got', 'so', 'light')], ('and', 'kissed', 'her', 'because', 'he', 'was', 'wuise'): [('so', 'unique', 'so', \"sincere'\")], ('and', 'quite', 'independent', 'of', 'girth'): [('their', 'rates', 'are', 'the', 'same')], ('all', 'of', 'this', 'homework', 'after', 'school'): [('I', 'want', 'to', 'deny')], ('that', 'man', 'in', 'a', 'boat'): [('he', 'was', 'ready', 'to', 'faint')], ('that', 'man', 'of', 'peru'): [('in', 'a', 'stove', 'she', 'did', 'bake')], ('the', 'theory', 'of', 'witten'): [('attempting', 'to', 'learn')], ('as', 'the', 'unique', 'motivation'): [('and', 'that', 'will', 'serve')], ('that', 'I', 'have', \"n't\", 'been', 'born', 'with', 'a', 'breign'): [('no', 'one', 'seems', 'to', 'ceir')], ('by', 'that', 'lady', 'of', 'russia'): [('no', 'one', 'heard', 'such', 'a', 'scream')], ('which', 'refreshed', 'that', 'person', 'of', 'ewell'): [('he', 'inserted', 'some', 'mice')], ('with', 'a', 'nice', 'head', 'of', 'hair', 'on', 'his', 'pate'): [('he', 'was', 'one', 'funny', 'brit')], ('and', 'retired', 'with', 'a', 'bad', 'stomach ache'): [('drank', 'three', 'kinds', 'of', 'wine')], ('and', 'that', 'is', 'the', 'cause', 'of', 'this', 'sonnet'): [('wears', 'an', 'old', 'chicken', \"'s\", 'wing')], ('in', 'fact', ',', 'they', 'could', 'hardly', 'get', 'ynne'): [('packed', 'the', 'house', 'every', 'night')], ('he', 'carelessly', 'stuck', 'a', 'verbena'): [('and', 'in', 'his', 'lapel')], ('because of', 'his', 'scanty', 'regalia'): [('but', 'he', 'was', 'stopped', 'in', 'the', 'hall')], ('which', 'leaves', 'him', 'in', 'very', 'bad', 'shape'): [('all', 'exposed', 'to', 'the', 'breeze')], ('for', 'six', 'sikhs', 'were', 'seasick', 'at', 'eos'): [('and', 'they', 'rushed', 'to', 'the', 'rail')], ('for', 'not', 'selling', 'her', 'waterproof', 'paint'): [('at', 'the', 'man', 'in', 'the', 'store')], ('when', 'I', 'wear', 'it', ',', 'I', 'am', 'called', 'a', 'vermine'): [('she', \"'s\", 'a', 'person')], ('are', 'making', 'a', 'nest', 'in', 'my', 'beard'): [('four', 'larks', 'and', 'a', 'wren')], ('the', 'confusion', 'is', 'called', 'harem-scarem'): [('which', 'he', 'loosed', 'in', 'the', 'house')], ('and', 'as', 'far', 'as', 'the', 'bucket'): [('ran', 'away', 'with', 'a', 'man')], ('that', 'she', 'pickled', 'her', 'internal', \"workins'\"): [('she', 'ate', 'so', 'much', 'spice')], ('kept', 'insuring', 'her', 'during', 'the', 'service'): [('with', 'three', 'wives', 'in', 'the', 'tomb')], ('seeps', 'out', 'of', 'my', 'pockets', 'like', 'honey'): [('was', 'paradichloroand')], ('when', 'I', 'wear', 'it', ',', 'I', 'am', 'called', 'only', 'vermin'): [('she', \"'s\", 'a', 'person', 'of', 'note')], ('so', 'he', 'jumped', 'up', 'and', 'spat', 'on', 'the', 'ceiling'): [('do', \"n't\", 'spit', 'on', 'the', 'floor')], ('as', 'it', 'tried', 'to', 'explain', ',', 'I', 'am', 'a', 'spi'): [('it', 'right', 'there', 'on', 'the', 'spot')], ('with', 'his', 'spanner', 'and', 'jack', 'in', 'the', 'box'): [('in', 'his', 'boots', 'and', 'his', 'vest')], (\"'twill\", 'take', 'all', 'the', 'afternoon', 'cleaning'): [('as', 'he', 'struck', 'the', 'ground', 'floor')], ('and', 'right', 'there', 'became', 'awful', 'sick', 'in', \"'em\"): [('she', 'sat', 'on', 'a', 'stile')], ('and', 'it', 'dropped', 'down', 'and', 'ruined', 'her', 'gown'): [('wet', 'the', 'bloom', 'on', 'her', 'cheeks')], ('and', 'sometimes', 'get', 'quite', 'cranky'): [('and', 'soil', 'my', 'pants')], ('that', 'person', 'of', 'ischia'): [('and', 'ate', 'thousands', 'of', 'figs')], ('for', 'a', 'surgeon', 'has', 'cut', 'off', 'his', 'fuite'): [('but', 'he', 'never', 'kicked', 'onths')], ('that', 'he', 'could', \"n't\", 'reach', 'up'): [('so', 'short', 'was', 'his', 'fin')], ('and', 'she', 'baked', 'really', 'great', 'apple', 'pies'): [('and', 'our', 'social', 'faux', 'pas')], ('and', 'he', 'can', \"n't\", 'tell', 'his', 'head', 'from', 'his', 'feet'): [('now', 'his', 'brain', 'is', 'in', 'a', 'whirl')], ('when', 'he', 'saw', 'there', 'were', 'six', 'little', 'chips'): [('then', 'died', 'of', 'the', 'shock')], ('then', 'wake', 'up', 'all', 'snappy', 'and', 'snarly'): [('but', 'would', 'sleep', 'on', 'till', 'late')], ('and', 'her', 'freckles', 'grew', 'rarer', 'and', 'rarer'): [('with', 'the', 'faith', 'of', 'a', 'marytr')], ('upon', 'the', 'fence', ',', 'crying', 'hooray', '!'): [('and', 'jappily', 'sat')], ('than', 'belong', 'to', 'the', 'star-spangled', 'banner'): [('and', 'more', 'stars', 'she', 'spied')], ('and', 'he', 'did', \"n't\", 'like', 'mother', 'of', 'pearl'): [('her', 'ma', 'came', 'and', 'tarried')], ('was', 'quite', 'the', 'reverse', 'of', \"'hosanna'\"): [('and', 'what', 'he', 'then', 'said')], ('I', 'do', \"n't\", 'know', ',', 'I', 'just', 'came', 'for', 'the', 'ride'): [('he', 'giggled', 'and', 'said')], ('than', 'there', 'are', 'in', 'the', 'star-spangled', 'banner'): [('more', 'stars', 'she', 'espied')], ('as', 'she', 'let', 'out', 'three', 'tucks', 'in', 'her', 'tunic'): [('she', 'contentedly', 'cooed')], ('and', 'made', 'cider', 'inside', 'her', 'inside'): [('the', 'apple', 'fermented')], ('for', 'I', 'fear', 'that', 'I', 'am', 'handel', \"'s\", 'miss', ',', 'sire'): [('or', 'was', 'it', 'just', 'luck')], ('the', 'police', 'have', 'been', 'here', 'with', 'some', 'worrence'): [('she', 'sighed', 'and', 'replied')], ('or', 'the', 'rest', 'will', 'be', 'wanting', 'one', ',', 'too'): [('and', 'wave', 'it', 'about')], ('if', 'dressed', ',', 'for', 'my', 'best', 'frock', 'is', 'frayed'): [('he', 'never', 'came', 'back')], ('what', 'a', 'blessing', 'they', 'did', \"n't\", 'fall', 'in'): [('when', 'at', 'least', 'she', 'was', 'wed')], ('in', 'a', 'sugary', 'takeover', 'bid'): [('and', 'their', 'gums', 'underneath')], ('to', 'a', 'man', 'who', 'was', 'shaped', 'like', 'a', 'cello'): [('so', 'this', 'tribute', 'we', 'pay')], ('and', 'I', 'am', 'made', 'out', 'of', 'curds', 'by', 'the', 'whey', \"'\"): [('my', 'mama', 'was', 'a', 'goat')]})\n"
     ]
    }
   ],
   "source": [
    "with open(\"py_files/saved_objects/last2_tuple_concise.pickle\",\"rb\") as pickle_in:\n",
    "    last2= pickle.load(pickle_in)\n",
    "    print(last2)"
   ]
  },
  {
   "cell_type": "code",
   "execution_count": 6,
   "metadata": {},
   "outputs": [
    {
     "name": "stdout",
     "output_type": "stream",
     "text": [
      "('in', 'the', 'right', 'reverend', 'shins')\n",
      "('made', 'people', 'suspect')\n",
      "('pulled', 'the', 'fisherman', 'in')\n",
      "('upon', 'finding', 'that', 'it')\n",
      "('though', 'you', 'piled', 'up', 'her', 'plate')\n",
      "('you', 'have', 'mixed', 'up', 'green', 'and', 'red')\n",
      "('in', 'the', 'bath', 'that', 'she', 'took')\n",
      "('instead of', 'another', 'so')\n",
      "('her', 'complexion', 'did', 'too')\n",
      "('and', 'wave', 'it', 'about')\n",
      "('he', 'never', 'came', 'back')\n",
      "('with', 'the', 'lady', 'inside')\n",
      "('and', 'just', 'scarf', 'eos', 'down')\n",
      "('with', 'remains', 'of', 'the', 'best')\n",
      "('and', 'after', 'a', 'while')\n",
      "('the', 'second', 'day', \"`munday'\")\n",
      "('lovely', 'poetry', 'to', 'write')\n",
      "('but', 'no', 'horse', 'could', 'be', 'found')\n",
      "('he', 'wore', 'nothing', 'at', 'all')\n",
      "('anything', 'that', 'he', 'can')\n",
      "\n",
      "\n",
      "('of', 'the', 'bishop', 'engaged', 'in', 'confirming', \"'em\")\n",
      "('that', 'the', 'outfit', 'was', 'really', 'his', 'mama', \"'s\")\n",
      "('now', 'they', 'are', 'fishing', 'the', 'fissure', 'for', 'fisher')\n",
      "('and', 'made', 'cider', 'inside', 'her', 'inside')\n",
      "('sat', 'down', ',', 'and', 'was', 'bitten', 'beneath')\n",
      "('to', 'tutor', 'two', 'tutors', 'to', 'toot')\n",
      "('`twas', 'impossible', 'ever', 'to', 'fill', 'her')\n",
      "('and', 'been', 'feasting', 'on', 'peas', 'and', 'green', 'beans')\n",
      "('so', 'for', 'over-achievement', 'he', 'strived')\n",
      "('or', 'a', 'lamb', 'that', \"'s\", 'been', 'recently', 'fleeced')\n",
      "('well', ',', 'I', 'will', 'do', 'it', 'tomorrow', ',', 'I', 'mean')\n",
      "('`you', 'ought', 'to', 'go', 'out', 'there', 'again', '!')\n",
      "('dumped', 'the', 'boy', 'in', 'a', 'bin', 'upside', 'down')\n",
      "('for', 'the', 'corn', 'is', 'gone', ',', 'so', 'is', 'her', 'teaux')\n",
      "('but', 'one', 'god', 'he', 'just', 'could', \"n't\", 'believe', 'in')\n",
      "('I', 'am', 'eos', 'down', 'to', 'put', 'eos', 'across')\n",
      "('I', 'will', 'know', 'that', 'it', 'has', \"n't\", 'been', 'sat', 'on')\n",
      "('the', 'drivers', ',', 'therefore', ',', 'did', \"n't\", 'dump', 'any')\n",
      "('than', 'eos', 'point', 'eos', 'eos', 'eos', 'eos', 'eos')\n",
      "('because', 'on', 'her', 'toes', 'he', 'kept', 'prancing')\n",
      "('he', 'reversed', 'it', 'and', 'walked', 'fro', 'and', 'to')\n",
      "('but', 'I', 'always', 'try', 'to', 'get', 'as', 'many', 'syllables', 'into', 'the', 'last', 'line', 'as', 'I', 'possibly', 'can')\n",
      "('then', 'grind', 'out', 'a', 'limerick', 'or', 'two')\n",
      "('that', 'he', 'could', \"n't\", 'reach', 'up')\n",
      "('`no', 'mixture', ',', 'she', 'said', ',', 'could', 'be', 'finer')\n",
      "('he', 'left', 'all', 'his', 'fans', 'wanting', 'more')\n",
      "('I', 'will', 'be', 'awfully', 'said', ',', 'when', 'it', 'goes')\n"
     ]
    }
   ],
   "source": [
    "for last_pos_category in templates['fourth']:\n",
    "    for line in templates['fourth'][last_pos_category]:\n",
    "        print(line[1])\n",
    "        break\n",
    "\n",
    "print('\\n')\n",
    "\n",
    "for last_pos_category in templates['fifth']:\n",
    "    for line in templates['fifth'][last_pos_category]:\n",
    "        print(line[1])\n",
    "        break\n",
    "\n"
   ]
  },
  {
   "cell_type": "code",
   "execution_count": 7,
   "metadata": {},
   "outputs": [
    {
     "name": "stdout",
     "output_type": "stream",
     "text": [
      "[('I', 'PRP'), ('do', 'VBP'), (\"n't\", 'RB'), ('want', 'VB'), ('to', 'TO'), ('do', 'VB'), ('this', 'DT'), ('at', 'IN'), ('all', 'DT')]\n",
      "I do n't want to do this at all\n",
      "[('I', 'PRP'), ('do', 'VBP'), (\"n't\", 'RB'), ('want', 'VB'), ('to', 'TO'), ('do', 'VB'), ('this', 'DT'), ('at', 'IN'), ('all', 'DT')]\n"
     ]
    }
   ],
   "source": [
    "import importlib\n",
    "import nltk\n",
    "import re\n",
    "\n",
    "def simple_clean(string):\n",
    "        string = string.strip()\n",
    "        string = re.sub(r\"[^A-Za-z0-9(),;!?\\-\\'\\`]\", \" \", string) # Exclude all characters not in this set\n",
    "        \n",
    "        string = re.sub(r\"-{2,}\", \",\", string) # exclude multiple hyphens\n",
    "        string = re.sub(r\"-( |$)\", \"\", string) # exclude hyphens not connecting two words\n",
    "\n",
    "        string = re.sub(r\"\\'s\", \" \\'s\", string) # seperate 's\n",
    "        string = re.sub(r\"\\'d\", \" \\'d\", string) # seperate 'd\n",
    "        string = re.sub(r\"n\\'t\", \" n\\'t\", string) # seperate n't\n",
    "        string = re.sub(r\"\\'ve\", \" have\", string) # seperate have\n",
    "        string = re.sub(r\"\\'ll\", \" will\", string) # seperate will\n",
    "        string = re.sub(r\"\\'re\", \" are\", string) # seperate are\n",
    "        string = re.sub(r\"\\'m\", \" am\", string) # seperate am\n",
    "        \n",
    "        string = re.sub(r\"[0-9]+\", \"EOS\", string) # EOS tag for numeric titling\n",
    "\n",
    "        string = re.sub(r\";\", \",\", string)\n",
    "        string = re.sub(r\",$\", \"\", string) # discard commas at the end of the sentence\n",
    "        string = re.sub(r\",\", \" , \", string)\n",
    "        string = re.sub(r\"!\", \" ! \", string)\n",
    "        string = re.sub(r\"\\?\", \" ? \", string)\n",
    "\n",
    "        string = re.sub(r\"\\(\", \" \\( \", string)\n",
    "        string = re.sub(r\"\\)\", \" \\) \", string)\n",
    "        string = re.sub(r\"\\s{2,}\", \" \", string)\n",
    "\n",
    "        string = string.lower()\n",
    "        string = re.sub(r\"(^| )i \", \" I \", string)\n",
    "        return string.strip()\n",
    "\n",
    "\n",
    "#GET TOKENIZED LINES\n",
    "def get_token_sent(data):\n",
    "    k = simple_clean(data).split(' ')\n",
    "    result = []\n",
    "    for el in k:\n",
    "        res = el.split(' ')\n",
    "        if set(res) != set(['']):\n",
    "            res = [x for x in res if x!='']\n",
    "            result += res\n",
    "    return result\n",
    "\n",
    "#GET POSTAG FOR SENTENCE\n",
    "def get_pos_tag(sent):\n",
    "    res = nltk.pos_tag(sent)\n",
    "    res = [tup[1] for tup in res]\n",
    "    return res, sent\n",
    "\n",
    "#SPECIAL TREATMENT FOR CERTAIN WORDS\n",
    "special_word_list = ['while', 'if', 'when', 'so', 'as', 'than']\n",
    "def process_special_words(tags, original):\n",
    "    for i in range(len(original)):\n",
    "        if original[i] in special_word_list:\n",
    "            tags[i] = original[i].upper()\n",
    "    return tags, original\n",
    "\n",
    "sentence = simple_clean(\"I don't want to do this at all\")\n",
    "print(nltk.pos_tag(nltk.word_tokenize(sentence)))\n",
    "print(sentence)\n",
    "print(nltk.pos_tag(sentence.split(\" \")))"
   ]
  },
  {
   "cell_type": "code",
   "execution_count": 77,
   "metadata": {},
   "outputs": [
    {
     "name": "stdout",
     "output_type": "stream",
     "text": [
      "62\n",
      "160\n"
     ]
    }
   ],
   "source": [
    "matching_dictionary = {}\n",
    "for last_pos_category in templates['fourth']:\n",
    "    for line in templates['fourth'][last_pos_category]:\n",
    "        matching_dictionary[line[1]] = set()\n",
    "        \n",
    "third_lines = set()\n",
    "for last_pos_category in templates['third']:\n",
    "    for line in templates['third'][last_pos_category]:\n",
    "        third_lines.add(line[1])\n",
    "print(len(third_lines))\n",
    "print(len(matching_dictionary.keys()))"
   ]
  },
  {
   "cell_type": "code",
   "execution_count": 83,
   "metadata": {},
   "outputs": [
    {
     "name": "stdout",
     "output_type": "stream",
     "text": [
      "Empty:8\n",
      "Completed:152\n"
     ]
    }
   ],
   "source": [
    "temp = ()\n",
    "i = 0\n",
    "f = open(\"py_files/saved_objects/limericks2.txt\", \"r\")\n",
    "pronoun_threhold = 1\n",
    "for line in f.readlines():\n",
    "    # If blank line, continue\n",
    "    if len(line) < 5:\n",
    "        continue\n",
    "    tags, original = get_pos_tag(get_token_sent(line))\n",
    "    tags, original = process_special_words(tags, original)\n",
    "    \n",
    "    # if see more than one personal pronoun, continue\n",
    "    if tags.count('PRP') > pronoun_threhold:\n",
    "        i += 1; i %= 5\n",
    "        continue\n",
    "        \n",
    "    if i == 2:\n",
    "        temp = tuple(original)\n",
    "    elif i == 3:\n",
    "        key = tuple(original)\n",
    "        if key in matching_dictionary: #and temp in third_lines:\n",
    "            matching_dictionary[key].add(temp)\n",
    "    i += 1; i %= 5\n",
    "    \n",
    "empty = 0\n",
    "completed = 0\n",
    "for key in matching_dictionary:\n",
    "    if len(matching_dictionary[key]) == 0:\n",
    "        empty += 1\n",
    "    else:\n",
    "        completed += 1\n",
    "print(\"Empty:\" + str(empty))\n",
    "print(\"Completed:\" + str(completed))"
   ]
  },
  {
   "cell_type": "code",
   "execution_count": 64,
   "metadata": {},
   "outputs": [
    {
     "name": "stdout",
     "output_type": "stream",
     "text": [
      "False\n"
     ]
    }
   ],
   "source": [
    "t1 = tuple('Till he met a sweet girl'.lower().split())\n",
    "# matching_dictionary[('now', 'his', 'brain', 'is', 'in', 'a', 'whirl')].add()\n",
    "print(t1 in third_lines)"
   ]
  },
  {
   "cell_type": "code",
   "execution_count": 68,
   "metadata": {},
   "outputs": [
    {
     "name": "stdout",
     "output_type": "stream",
     "text": [
      "{('all', 'the', 'flowers', 'looked', 'around'), ('and', 'said', ',', 'can', 'we', 'dance', '?'), ('he', 'would', 'go', 'to', 'a', 'party'), ('for', 'the', 'pattern', 'is', 'all', 'wrong'), ('when', 'told', 'this', 'was', 'so'), ('there', 'was', 'nothing', 'like', 'a', 'food'), ('two', 'owls', 'and', 'a', 'hen'), ('it', 'expresses', 'nothing'), ('said', 'the', 'fly', ',', 'let', 'us', 'flee'), ('a', 'widow', 'named', 'block'), ('but', 'when', 'I', 'have', 'dough'), ('when', 'asked', ',', \"'why\", 'so', 'blue', '?'), ('when', 'a', 'dame', 'wears', 'my', 'coat'), ('said', 'the', 'waiter', ',', 'do', 'not', 'shout'), ('than', 'a', 'goulash', 'of', 'rat'), ('said', 'the', 'fly', ',', 'let', 'us', 'flee', '!'), ('they', 'came', 'back', 'from', 'the', 'ride'), ('switched', 'it', 'on', ',', 'what', 'a', 'din'), ('she', 'gave', 'one', 'to', 'adam'), ('he', 'bought', 'for', 'his', 'daughter'), ('collapsed', 'from', 'the', 'strain'), ('since', 'her', 'apple-cheeked', 'groom'), ('she', 'ran', ',', 'almost', 'flew'), ('said', 'the', 'man', 'at', 'the', 'door'), ('while', 'her', 'lover', 'lamented'), ('her', 'thanks', 'were', 'so', 'cold'), ('soon', 'a', 'happy', 'thought', 'hit', 'her'), ('but', 'she', 'started', 'absorbing'), ('he', 'said', ',', 'with', 'a', 'sigh'), ('but', 'this', 'one', 'was', 'easy'), ('with', 'your', 'toes', 'on', 'the', 'keys'), ('but', 'shaken', ',', 'he', 'shot'), ('that', 'when', 'she', 'assayed'), ('when', 'a', 'girl', 'wears', 'my', 'coat'), ('the', 'teacher', 'said', ',', 'not', 'right'), ('had', 'a', 'quarrel', ',', 'no', 'doubt'), ('due to', 'up-to-date', 'science'), ('I', 'could', 'swear', 'there', 'are', 'some'), ('said', 'the', 'two', 'to', 'the', 'tutor'), ('and', 'flat', ',', 'and', 'compressed'), ('you', 'are', 'a', 'simpleton', 'loon'), (\"'til\", 'the', 'salts', 'that', 'she', 'shook'), ('he', 'indulged', 'a', 'desire'), ('a', 'fish', 'with', 'a', 'grin'), ('because', 'its', 'feet', 'is', 'stuck'), ('the', 'cause', 'of', 'his', 'sorrow'), ('but', 'the', 'copy', 'he', 'wrote'), ('after', 'croaking', 'his', 'wife'), ('collapsed', 'to', 'the', 'ground'), ('from', 'your', 'offspring', ',', 'my', 'dears'), ('it', 'said', 'on', 'the', 'door'), ('in', 'my', 'pocket', 'for', 'cash'), ('he', 'gladly', 'proclaimed'), ('it', 'at last', 'grew', 'so', 'small'), ('she', 'set', 'out', 'one', 'day'), ('so', 'exclusive', 'and', 'few'), (\"'did\", 'not', 'rush', 'off', 'to', 'town'), ('as', 'spacetime', 'that', 'is', 'curved'), ('they', 'had', 'laid', 'on', 'a', 'chair'), ('and', 'as for', 'my', 'hair'), ('but', 'his', 'daughter', ',', 'named', 'nan'), ('when', 'asked', ',', 'who', 'is', 'dead', '?')}\n"
     ]
    }
   ],
   "source": [
    "print(third_lines)"
   ]
  },
  {
   "cell_type": "code",
   "execution_count": null,
   "metadata": {},
   "outputs": [],
   "source": []
  }
 ],
 "metadata": {
  "kernelspec": {
   "display_name": "Python 3",
   "language": "python",
   "name": "python3"
  },
  "language_info": {
   "codemirror_mode": {
    "name": "ipython",
    "version": 3
   },
   "file_extension": ".py",
   "mimetype": "text/x-python",
   "name": "python",
   "nbconvert_exporter": "python",
   "pygments_lexer": "ipython3",
   "version": "3.6.5"
  }
 },
 "nbformat": 4,
 "nbformat_minor": 2
}
