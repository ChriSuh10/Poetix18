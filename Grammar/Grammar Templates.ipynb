{
 "cells": [
  {
   "cell_type": "code",
   "execution_count": 5,
   "metadata": {},
   "outputs": [
    {
     "name": "stdout",
     "output_type": "stream",
     "text": [
      "[('VBN-TO-VB-DT-NN-VBN-NNP-.', 1), (\"``-CC-,-''-PRP-VBD-,-``-PRP-MD-VB\", 1), ('WP-DT-JJ-NN', 1), ('VB-IN-NNP-VB-NNP-NNP-.', 1), ('EX-VBD-DT-JJ-NN-RB-JJ', 1), ('PRP-RB-VBD-WRB-PRP-VBD-VBN-:', 1), ('PRP-MD-VB-TO-DT-NN', 1), ('CC-VB-RB-IN-NN-,', 1), ('IN-IN-PRP-MD-VBN-RB-VBN-.', 1), ('DT-NN-IN-NN-,-NNP-NNP-,', 1), ('VBN-RP-IN-NNP-CC-NNP-POS-,', 1), ('VBN-IN-DT-NN-,', 1), ('NNP-PRP$-NN-,-``-PRP-VBZ-NN', 1), (\"PRP-VBP-VBG-PRP-:-:-IN-NNS-.-''\", 1), ('DT-NN-,-WP-VBD-IN-NNP-NNP-,', 1), (\"VBN-CD-NNS-IN-PRP$-NN-''\", 1), ('PRP-VBD-,-IN-DT-NN-,', 1), ('``-DT-NN-NN-:-RB-PRP', 1), (\"RB-VBN-PRP-,-RB-WRB-PRP-VBP-JJ-.-''-''\", 1), ('DT-NN-,-RB-JJ-,', 1), ('CD-NN-VBD-TO-PRP$-NN-,', 1), ('``-DT-NN-MD-MD', 1), ('NN-IN-PRP-MD-:', 1), (\"CC-DT-NN-MD-RB-MD-DT-MD-,-MD-PRP-.-''\", 1), ('RB-VBZ-TO-DT-NN-,', 1), ('DT-NN-WDT-VBZ-DT-JJR', 1), ('IN-DT-NN-IN-DT-JJ-NN-:', 1), ('CC-DT-NN-IN-PRP-VBZ', 1), ('JJ-NNS-IN-NNS-,', 1), ('CC-DT-VBZ-WRB-DT-NN-VBZ-IN-.', 1), ('DT-JJ-JJ-NN-IN-NNP', 1), ('IN-DT-JJ-NN-VBD-VBN-:', 1), (\"WRB-VBD-,-``-WP-VBZ-JJ-.-''\", 1), ('PRP-VBD-CC-VBD-,', 1), (\"``-PRP-VBP-RB-VB-:-PRP-RB-VBD-IN-DT-NN-.-''\", 1), ('NNP-NNP-VBD-DT-NN-IN-NN-:', 1), ('PRP-VBD-IN-PRP$-NN', 1), ('DT-NN-WP-VBD-PRP', 1), ('TO-VB-JJ-NNS-IN-PRP$-NN-.', 1), ('DT-NN-IN-PRP$-NN-VBD-NNP-NNP', 1), ('PRP-VBD-VBN-:-PRP-MD-VB-VBN-.', 1), ('RB-DT-JJ-NN-VBD-PRP-:', 1), ('TO-VB-RP-DT-NN-,', 1), ('PRP-VBD-RP-IN-NN-CC-NN-.', 1), ('NNP-NN-VBD-RB-JJR-IN-NN-,', 1), ('PRP-VBD-RP-CD-NN-,', 1), ('IN-DT-JJ-NN-,', 1), ('CC-VBN-IN-DT-JJ-NN-.', 1), ('WP-IN-NNS-VBD-RB-NN-IN-NN-POS-:', 1), ('PRP-VBD-CD-TO-NNP-,', 1), (\"NNP-VBD-,-``-NNP-PRP-,-NNP-,-''\", 1), ('CC-RB-DT-VBN-IN-NNP-.', 1), ('PRP-VBZ-DT-NN-IN-NN-:', 1), (\"WRB-PRP-VBP-PRP-,-PRP-VBP-VBN-DT-NN-.-''\", 1), ('DT-NN-JJ-NN-VBD-NNP', 1), ('RB-VBN-IN-DT-NN-IN-DT-NN-.', 1), ('DT-NN-IN-DT-NN', 1), ('VBD-DT-NN-IN-:-:', 1), ('RB-PRP-VBP-VBG-DT-NN-IN-NNP-.', 1), ('DT-NN-NN-VBD-VBG', 1), (\"NNP-VB-``-NN-''-IN-DT-JJ-NN-.\", 1), ('CC-DT-NN-PRP-VBD', 1), ('IN-DT-CD-NN-NN', 1), ('NNP-RB-JJ-PRP-VBZ-RB-IN-VBG-NNP-.', 1), (\"``-VB-PRP-VB-,-''-VBD-DT-NN-,\", 1), ('CC-PRP-VBD-IN-DT-NN-IN-DT-NN-.', 1), ('DT-NN-WP-VBD-DT-NN', 1), ('VBN-TO-VB-CD-JJ-NNS-TO-VB-.', 1), ('VBD-DT-CD-TO-DT-NN-,', 1), (\"``-VBZ-PRP-JJR-TO-VB-,-PRP-''\", 1), (\"``-TO-VB-CD-NNS-TO-VB-.-''\", 1), ('DT-JJ-,-IN-JJ-NN-,', 1), ('VBN-RP-IN-NNP-NNP-IN-DT-NN-.', 1), ('PDT-DT-NNS-VBD-NN-,', 1), ('CC-DT-NN-MD-VB-VBN-:', 1), ('RB-PRP-RB-VB-,-IN-NN-.', 1), ('CC-JJ-,-CC-VBD-,', 1), ('DT-PRP$-NN-VBD-PRP$-NN-,', 1), ('CC-NNS-PRP-MD-RB-VB-VBN-.', 1), ('WP-VBD-IN-DT-NN-IN-NN-.', 1), ('IN-PRP-VBD-IN-PRP-NN-,', 1), ('JJR-NNS-PRP-VBD', 1), ('IN-EX-VBP-IN-DT-JJ-NNP-.', 1), ('DT-NNP-VBD-RB-IN-PRP$-NN-,', 1), ('CC-VBD-DT-NN-IN-TO-VB-PRP-:', 1), ('PRP-VBD-PRP-DT-NN', 1), ('IN-PRP-VBD-IN-DT-NN', 1), ('(-DT-NN-VBZ-VBN-NN-.-)', 1), ('IN-VBG-VBD-VBN-IN-DT-NN-.', 1), ('PRP-VBD-:-RB-NN-,', 1), ('PRP$-NN-VBD-RB-,', 1), ('CC-PRP-VBD-NN-RB-RB-.', 1), ('EX-VBD-DT-JJ-NN-IN-DT-NN-,', 1), ('WP-VBD-,-``-DT-MD-VB-VBN-JJR-:', 1), ('IN-NN-DT-NN', 1), ('VBZ-RB-JJ-,', 1), (\"CC-PRP-VBZ-RB-VB-IN-IN-PRP$-NN-.-''\", 1), (\"``-EX-VBZ-DT-NN-IN-CD-,-''-VBD-NNP-NNP-.\", 1), (\"``-CD-NNS-PRP-MD-VB-:-VB-PRP-DT-.-''\", 1), ('VBD-DT-NN-IN-DT-NN-,', 1), ('``-RB-CD-IN-CD-,', 1), (\"IN-CD-IN-CD-VBZ-RB-JJ-.-''\", 1), ('NNP-NN-VBD-RBS-RB-JJ-.', 1), ('PRP-VBD-PRP-NN', 1), ('CD-NN-,-PRP-VBP-:', 1), ('CC-DT-NN-VBZ-WDT-NN-PRP-VBD-.', 1), ('WP-VBD-DT-JJ-NN-DT-NN-.', 1), (\"``-PRP-VBZ-JJ-,-''-PRP-VBD-,\", 1), ('WRB-IN-JJS-PRP-VBD-VBN-:', 1), (\"``-PRP-VBD-RB-VB-NN-VBD-DT-NN-.-''\", 1), ('DT-NN-CC-PRP$-NN-,-NNP-,', 1), ('VBN-RP-WRB-DT-NN-VBD-RB-JJ-,', 1), ('VBD-DT-NN-,-DT-NN-,', 1), ('IN-PRP-VBP-PRP-VBD-RP-:', 1), ('WP-DT-NN-PRP-VBD-RB-VB-IN-.', 1), ('NNP-NN-RB-VBD-JJ-,', 1), (\"``-EX-VBZ-NN-IN-DT-NN-,-''\", 1), ('IN-PRP-VBD-RP-CD-NNS-IN-PRP$-NN-.', 1), ('WP-VBD-DT-PRP$-NN-IN-DT-NN-:', 1), ('CC-PRP$-NN-,-VBN-NNP', 1), ('NNP-RB-IN-DT-NN-:', 1), ('CC-RB-RB-IN-DT-NN-,-NNP-.', 1), ('WP-VBD-IN-PRP-VBD-IN-DT-NN-.', 1), ('PRP-VBD-RB-IN-DT-NN', 1), ('IN-DT-NN-RB-,', 1), ('CC-DT-NN-IN-DT-NN-IN-DT-NN-.', 1), ('DT-NN-,-JJ-NN-:', 1), ('IN-VBG-PRP$-NN-,', 1), ('RB-PRP-VBD-PRP$-JJ-NN-:-:', 1), ('DT-NN-VBD-RB-JJ-,-PRP-VBD-JJ-.', 1), ('WP-RB-RB-VBN-IN-NNS-.', 1), ('IN-NN-IN-NN-,', 1), ('PRP-VBD-RB-JJ-NN-,', 1), ('DT-PRP-VBD-PRP-JJ-NNS-POS-.', 1), ('IN-DT-NN-PRP-VBP-RB-DT-NN-,', 1), ('EX-VBP-NNS-RBR-JJ-IN-RB-:', 1), ('CC-PRP$-NN-:-PRP-VBP-RB-VB-PRP-,', 1), ('IN-PRP-VBP-IN-PRP-:', 1), ('PRP-VBZ-DT-NNS-IN-NN-IN-PRP-VBP-.', 1), ('TO-VB-DT-NN-NN-,', 1), ('VBP-RB-VB-IN-DT-JJ-NN-:', 1), ('IN-PRP$-NNS-IN-DT-NNS-,', 1), ('NNP-DT-NN-IN-PRP$-NNS-:', 1), (\"``-UH-WRB-JJ-.-''-DT-NNS-MD-VB-.\", 1), ('RB-VBZ-DT-JJ-NN-VBN-NNP-,', 1), ('WP-VBD-IN-CD-IN-PRP$-NNS-,', 1), ('DT-NN-VBN-NNP-,', 1), ('RB-VBD-IN-DT-NN-,', 1), ('WRB-PRP-VBD-EX-VBD-CD-JJ-NNS-.', 1), ('PRP-MD-RB-VB-NNS-IN-NNS-:', 1), ('PRP-MD-RB-VB-NNP-IN-DT-NNP-:', 1), ('CC-IN-IN-PRP$-NNP-,', 1), ('PRP-VBP-JJ-PRP-VBZ-DT-RB-:', 1), ('PRP-MD-VB-RB-VBD-,-WRB-PRP-VBZ-.', 1), ('WP-VBD-RB-DT-NN-IN-NN-.', 1), ('PRP-VBD-DT-NN', 1), ('TO-VB-DT-JJ-NN-.', 1), ('(-JJS-DT-JJ-NN-MD-VB-RB-.-)', 1), ('DT-JJ-JJ-NN-IN-DT-NNP', 1), ('NNP-RB-VBP-NN-TO-VB-.', 1), ('WRB-PRP-VBD-PRP-,-PRP-VBP-,', 1), ('TO-VB-TO-CC-VB-,', 1), ('PRP-VBD-PRP-CC-VBD-NNS-CC-TO-.', 1), ('DT-NN-IN-NN-IN-NNP-VBD', 1), ('NNP-RB-VBG-TO-NNP-:', 1), ('PRP$-NNS-VBD-RB-JJ', 1), ('PRP-VBD-,-PRP-VBP-JJ-,', 1), ('IN-DT-JJ-JJ-NNP-VBD-NNP-.', 1), ('WP-VBD-RP-PRP$-NNS-IN-DT-NN-:', 1), ('RB-JJ-CC-JJ', 1), ('WRB-DT-NNS-IN-PRP-VBD', 1), ('DT-DT-NN-VBD-JJ-CC-NNP-.', 1), ('PRP-VBD-NNP-IN-NN', 1), ('TO-VB-PRP$-CD-NNS-VBP-TO-NNP-.', 1), ('``-PRP$-NNS-VBP-DT-JJ-,', 1), (\"CC-RB-JJ-IN-NN-.-''\", 1), ('RB-NNP-VBD-IN-JJ-NN', 1), ('PRP$-JJ-NN-IN-NN-POS-NN-:', 1), ('``-PRP-VBZ-,-PRP-VBP-,', 1), (\"IN-DT-NN-IN-NN-TO-NN-.-''\", 1), ('CC-RB-,-NNP-POS-NN', 1), ('NNS-TO-VB-NN', 1), ('IN-NN-WDT-VBZ-VBN-,', 1), ('CC-PRP-VBZ-DT-WDT-MD-VB', 1), ('IN-DT-NNS-POS-JJ-NN-.', 1), ('RB-DT-NN-IN-DT-NN-POS-RB-VBN-:', 1), ('IN-DT-JJ-NN-IN-NN-PRP-VBP-JJ-.', 1), ('PRP-VBP-CC-PRP-VBP-,', 1), ('VBG-TO-VB', 1), ('DT-NNP-NNP-IN-NNP-.', 1), ('DT-JJ-NN-IN-NNP-NNP', 1), ('NNP-RB-JJ-NN-.', 1), ('IN-PRP$-JJ-NN-,', 1), ('IN-CD-NNS-IN-DT-NN-,', 1), ('NNP-VBG-PRP$-IN-DT-NN-.', 1), (\"``-VB-PRP-VB-,-''-VBD-DT-NN-.\", 1), ('IN-PRP-VBP-IN-DT-NN-IN-DT-NN-.', 1), ('PRP-VBD-DT-JJ-NNP-NN-,', 1), ('VBD-PRP-IN-IN-DT-JJ-NN-,', 1), ('VBD-PRP-IN-:-WP-DT-NN-:', 1), ('PRP-VBD-NN-IN-,', 1), ('RB-PRP-VBP-JJ-IN-DT-NN-TO-VB-.', 1), ('EX-RB-VBD-DT-JJ-NN-IN-NNP-,', 1), ('NNP-NN-VBD-JJR-CC-JJR-,', 1), ('PRP-IN-JJ-VBD-RB-JJ', 1), ('PRP-VBD-NN-IN-DT', 1), ('CC-RB-PRP-VBZ-DT-NN-NN-.', 1), ('WP-VBP-DT-JJ-NN-CC-VBD-.', 1), ('IN-PRP$-NN-VBD-,', 1), ('DT-NN-VBD-,', 1), ('CC-VBD-NN-IN-PRP$-NN-.', 1), ('WP-VBD-PRP-RB-IN-DT-NN', 1), (\"WRB-VBN-,-''-IN-JJ-.-''\", 1), ('NNP-,-NNP-VBP-RB-DT-NN', 1), (\"PRP-VBP-CD-NNP-TO-VB-CD-NNP-.-''\", 1), ('DT-JJ-JJ-NN-VBN-NNP-,', 1), ('TO-DT-NN-NN-VBD-TO-VB-.', 1), ('DT-NN-VBD-,-``-NNP-NN', 1), (\"PRP$-NN-VBZ-DT-JJ-.-''\", 1), (\"NNP-VBD-,-``-PRP-VBZ-DT-JJ-NN-IN-NN-.-''\", 1), ('PRP-VBP-VBG-NNS-IN-DT-NN', 1), ('CC-RB-RB-PRP-VBP-RB-DT-NN-:', 1), ('IN-DT-NN-POS-DT-JJ', 1), ('(-CC-DT-NN-POS-RB-RB-)', 1), ('CC-PRP-VBP-JJ-TO-DT-NN-IN-NN-.', 1), ('DT-NNS-IN-JJ-NNP-NNP', 1), ('NNP-RB-IN-PRP-VBD-IN-DT-NN-.', 1), (\"``-VBP-PRP-JJ-CC-JJ-.-''\", 1), ('PRP-VBD-,-CC-PRP-VBD-,', 1), (\"``-DT-,-VB-PRP-RB-VB-PRP-,-PRP-VBP-.-''\", 1), ('VB-DT-JJ-NN-IN-NN-,', 1), ('DT-JJ-NN-IN-NN-TO-VB-.', 1), ('PRP-MD-VB-PRP-IN-CD-,', 1), ('IN-PRP-VBZ-NN-,-PRP-VBP-,', 1), ('$-CD-NN-CD-CD-CD-CD-CD', 1), ('WP-VBD-IN-JJ-NN-.', 1), (\"CC-PRP-VBD-NN-''\", 1), ('DT-JJ-NN-,', 1), ('CC-IN-RB-VBZ-RB-VBN-.', 1), ('DT-NN-VBD-VBN-TO-VB-,', 1), (\"JJ-NN-VBZ-VBN-PRP$-NN-.-''\", 1), ('DT-NN-IN-PRP$-NN', 1), ('VBD-JJ', 1), ('NN-.', 1), ('VBZ-PRP-PRP-CC-DT-NN-IN-NN', 1), ('DT-VBZ-JJ-CC-JJ-.-NNP-,', 1), ('CC-WRB-PRP-VBP-VBN', 1), ('PRP-VBZ-RB-,-PRP-VBP-,', 1), ('CC-VBZ-IN-IN-PRP$-NNS-IN-NN-.', 1), ('EX-VBD-DT-JJ-NN-IN-DT-NN', 1), ('NNP-VBD-,-``-PRP-VBZ-RB-IN-PRP-VBD-.', 1), ('CD-NN-CC-DT-NN-,', 1), ('CD-NNS-CC-DT-NN', 1), (\"NNP-VBG-DT-NN-IN-PRP$-NN-.-''\", 1), ('IN-CD-PRP-VBD-IN-PRP-VBD', 1), ('IN-DT-NN-IN-DT-NNP-.-PRP-VBD', 1), ('IN-PRP$-NN-IN-NN', 1), ('CC-VBD-NN-JJR-NN-:', 1), ('RB-PRP-VBP-IN-PRP$-NN-CC-VBD-.', 1), ('NNP-WRB-RB-JJ', 1), ('IN-PRP$-RB-JJ-NN-IN-DT-NN', 1), ('IN-DT-NNS-.-IN-UH-,', 1), ('RB-PRP-VBP-PRP-MD-RB-VB', 1), ('WP-VBD-VBN-IN-DT-NN-NN-.', 1), ('DT-JJ-NNP-IN-NNP', 1), ('VBN-IN-PRP$-NN-NN', 1), ('JJ-TO-JJ-NN-,', 1), ('TO-JJS-IN-PRP$-NNS-,', 1), ('PRP-VBD-RB-DT-NNP-PRP-VBD-.', 1), ('PRP-VBZ-DT-NN-IN-NN-.', 1), (\"WRB-PRP-VBP-PRP-,-PRP-VBP-VBN-RB-NN-.-''\", 1), ('WP-MD-VB-TO-VB-IN-PRP$-NN-IN-.', 1), (\"POS-PRP-VBP-RB-,-''-PRP-VBD-,\", 1), ('VB-DT-NN-IN-PRP$-NN-,', 1), (\"PRP-MD-VB-IN-PRP-VBZ-RB-VBN-VBN-IN-.-''\", 1), ('NNS-PRP-MD-RB-VB', 1), ('IN-JJ-NNS-IN-PRP$-NN-:', 1), ('CC-DT-CD-VBD-JJ', 1), ('PRP-RB-VBD-JJ', 1), ('IN-PRP-VBD-VBG-PRP$-NNS-.', 1), ('RB-,-VBP-NN', 1), ('VBZ-RB-RBR-IN-PRP', 1), ('IN-DT-NN-IN-NN', 1), ('CC-JJ-NN-:', 1), ('CC-PRP-VBP-IN-PRP-RB-VBP-.', 1), ('PRP$-NN-VBD-IN-TO-VB', 1), ('(-IN-RB-IN-DT-JJ-NN-)', 1), ('IN-PRP-MD-VB-PRP-IN', 1), ('IN-PRP-VBD-RB-VB-DT-NN', 1), ('IN-DT-JJ-NN-PRP-VBP-.', 1), ('PRP-VBD-PRP-,-``-VBP-IN-IN-PRP$-NN', 1), ('PRP-VBP-DT-JJ-JJ-NN-:', 1), ('PRP-VBP-DT-NN-NN-.', 1), (\"VBP-RB-PRP-VB-DT-JJ-NN-.-''\", 1), ('RB-PRP-VBD-PRP-NN-IN-DT-NN-.', 1), ('DT-JJ-NN-NN-IN-NNP', 1), ('IN-DT-RB-JJ-NN-IN-PRP$-NN-.', 1), ('VBD-DT-NN-,-``-VBP-RB-VB', 1), ('CC-VB-PRP-IN-,', 1), (\"CC-DT-NN-MD-VB-VBG-CD-,-RB-.-''\", 1), ('EX-VBD-DT-JJ-NN-IN-VBG', 1), ('WP-VBD-DT-NN-IN-NNP-.', 1), ('PRP-VBD-IN-DT-NN', 1), ('MD-RB-VB-IN-DT-NN-POS', 1), ('RB-PRP-VBD-RB-CC-VB-IN-DT-NN', 1), ('IN-CD-NNS-IN', 1), (\"PRP-VBD-DT-JJ-NN-VBP-,-``-NNP-.-''\", 1), ('CC-NN-,-PRP-VBD', 1), ('PRP-RB-RB-IN-DT-NN', 1), (\"IN-PRP-VBD-TO-VB-,-``-PRP-VBP-DT-NN-:-''\", 1), ('EX-VBD-DT-JJ-NN-WP-VBD', 1), ('TO-DT-NN-IN-DT-JJ-VBG-VBN-:', 1), ('PRP-MD-VB-,-PRP-VBD', 1), ('DT-NN-IN-PRP$-JJ-NN', 1), ('IN-DT-JJ-NNP-CC-NNP-POS-PRP-VBZ-VBN-.', 1), ('NNP-VBD-IN-NN-NNS-.', 1), ('PRP-VBD-PRP-TO-VB', 1), ('IN-PRP$-NN-CC-NN-IN-DT-NN-.', 1), ('CD-NNP-NN-IN-CD', 1), ('DT-NN-POS-NN-IN-NNP', 1), ('VBN-TO-DT-NN', 1), ('VBG-RB-DT-NN-IN-FW-FW-.', 1), (\"NN-POS-NN-VBD-NNS-IN-PRP-VBP-''\", 1), ('NNP-DT-RB-,-JJ-NN-.', 1), ('MD-RB-VB-RP-TO-NN', 1), ('CC-RB-VB-CD-NNP-:', 1), (\"PRP-VBD-WRB-PRP-CD-IN-NN-.-''\", 1), ('DT-JJ-NN-VBN-NNP', 1), ('NNP-PRP$-NN-IN-JJ-NNS-:', 1), ('PRP-MD-VBN-VBN-IN-DT-NN-,', 1), ('PRP-MD-VB-PRP-VBD-RB-,', 1), ('NNP-RB-,-CC-VBD-VBN-NN-.', 1), ('NNP-NN-MD-RB-VB', 1), ('IN-DT-NNS-IN-PRP-VBD', 1), ('IN-DT-NN-IN-PRP-VBD', 1), ('VBN-RP-TO-VB-NNP-IN-NNP-.', 1), ('PRP-VBP-RB-VBN-CC-VB', 1), ('TO-VB-VBG-DT-NN-DT-NN-NN-.', 1), ('PRP-MD-VB-PRP-PRP-VBP-,', 1), ('UH-,-PRP-MD-VB-PRP-NN-:', 1), ('RB-,-PRP-MD-VB-PRP-NN-,-PRP-VBP-.', 1), ('PRP-VBP-VBN-PRP-:-PRP-VBP-VBN-IN-DT-NN-,', 1), ('CC-PRP$-NNS-VBP-VBG-CC-JJ-.', 1), ('PRP-MD-VB-EX-VBP-DT', 1), ('PRP-VBP-RB-VBN-IN-DT-NN-PRP-VBD-VBN-.', 1), ('NNP-DT-NN-IN-PRP-VBZ-IN-PRP$-NN-,', 1), ('TO-PRP$-VBG-DT-JJ-CC-NN-,', 1), ('``-IN-PRP$-NN-,-PRP$-NNS-,', 1), ('IN-DT-NN-IN-NNS-,', 1), (\"NNP-VB-DT-NN-IN-NNP-.-''\", 1), ('DT-JJ-NN-NN', 1), ('VBD-DT-JJ-NN-IN-DT-NN-:', 1), ('CC-PRP-VBD-IN-PRP-VBD-,', 1), (\"``-VB-RB-,-VB-POS-VB-VBN-.-''\", 1), (\"CC-PRP-VBD-CC-PRP-VBD-,-``-NNP-.-''\", 1), ('WP-VBD-DT-JJ-NN-IN-PRP$-NN-.', 1), ('WRB-PRP-VBD-PRP-VBD', 1), ('PRP$-NN-VBD-,', 1), ('CC-PRP$-NNS-VBD-RB-TO-PRP$-NNS-.', 1), ('DT-NN-POS-RB-JJ', 1), ('CC-VBG-IN-NN-CC-NN-:', 1), ('PRP-VBZ-CC-JJ', 1), ('IN-JJ-NN', 1), ('CC-TO-VB-PRP-JJ-NNS-IN-NN-.', 1), ('EX-RB-VBD-DT-NN-IN-DT-NN', 1), ('PRP-VBP-WRB-VBD-RB-PRP-VB', 1), ('IN-PRP$-NNS-VBN', 1), ('CC-VBD-PRP-RB-VBD', 1), ('CC-VBZ-NN-VB-NNS-RB-JJ-.', 1), ('DT-JJ-NN-IN-DT-JJ-NN', 1), ('NNP-DT-RB-JJ-NN-IN-DT-NN', 1), (\"CC-VBD-,-``-NNP-,-MD-PRP-VB-.-''\", 1), ('CC-PRP-VBD-PRP-,-``-DT-NN-:', 1), (\"IN-PRP-VBP-IN-PRP-VBP-NNP-POS-NN-,-NN-.-''\", 1), ('WP-VBD-RB-RB-JJ', 1), ('PRP-VBP-DT-JJ-NN-IN-PRP$-NN-:', 1), ('DT-NN-PRP-VBD-VBD-RB-JJ-.', 1), ('RB-PRP-VBD-PRP-CC-VBD-PRP', 1), ('CC-RB-VBD-PRP-:', 1), ('CC-RB-DT-JJ-NN-VBZ-RB-JJ-.', 1), ('DT-JJ-NN-IN-NNP', 1), ('VBN-RP-NNS-IN-DT-JJ-NN-:', 1), ('RBR-JJ-IN-IN-RB-,', 1), ('PRP-MD-VB-DT-NN', 1), (\"CC-NN-,-``-NN-RB-,-CC-RB-PRP-MD-VB-.-''\", 1), ('JJ-NNS-RB-MD-VB-.', 1), ('WRB-VBD-DT-VBD-RB-,', 1), ('PRP-VBD-,-UH-,-PRP-VBP-.', 1), (\"POS-PRP-RB-VBP-TO-VB-IN-JJ-NNS-IN-DT-JJ-NN-IN-PRP-RB-MD-.-''\", 1), ('DT-JJ-JJ-NN-VBN-NNP', 2), ('NNP-DT-JJ-,-JJ-NN-,', 2), ('``-EX-VBZ-CD-NN-PRP-MD-RB-VB-:', 2), ('WRB-DT-NN-VBZ-PRP$-NN-,', 2), ('DT-NN-CC-DT-NN-IN-DT-NN-,', 2), ('NNP-VBN-,-IN-WP-MD-PRP-VB-.', 2), (\"VBD-DT-NN-,-``-VB-PRP-VB-.-''\", 2), ('WP-VBD-RB-RB-JJ-,', 2), ('DT-WRB-PRP-VBD', 2), ('TO-VB-NN', 2), ('PRP-VBD-IN-DT-NN-CC-VBD-IN-.', 2), ('PRP-RB-VBD-,', 2), ('EX-VBD-DT-JJ-NN-IN-NNP', 2), ('EX-RB-VBD-DT-NN-VBN-NNP-,', 2), ('IN-DT-JJ-NN', 2), ('DT-NN-NN-VBN-NNP', 2), ('IN-PRP$-NNS-CC-PRP$-NN', 2), ('EX-VBD-DT-JJ-NN-VBN-NNP', 3), ('EX-VBD-DT-JJ-NN-VBN-NNP-,', 7), ('EX-VBD-DT-JJ-NN-IN-NNP-,', 8)]\n"
     ]
    }
   ],
   "source": [
    "import nltk\n",
    "import re\n",
    "from numpy.random import choice\n",
    "from functools import reduce\n",
    "import operator\n",
    "\n",
    "sonnet_poets = {\"Shakespeare\" : \"Shakespeare_Sonnets.txt\", \"Frost\" : \"Robert_Frost.txt\", \"Whitman\" : \"Walt_Whitman.txt\"}\n",
    "limerick_poets = {\"Limericks\" : \"limericks.txt\"}\n",
    "\n",
    "def build_templates(poets):\n",
    "    templates = {}\n",
    "    row_map = {\n",
    "        1: [],\n",
    "        2: [],\n",
    "        3: [],\n",
    "        4: [],\n",
    "        5: []\n",
    "    }\n",
    "    \n",
    "    # Threshold for template length. Templates are ignored if they are longer than this value.\n",
    "    max_threshold = 20\n",
    "    min_threshold = 1\n",
    "\n",
    "    for poet, filename in poets.items():\n",
    "        poet_template = {}\n",
    "\n",
    "        with open(filename, \"r\") as f:\n",
    "            line_num = 1\n",
    "            for line in list(filter(lambda x: len(x) > 5, f)):\n",
    "                line = line.strip()\n",
    "                # Uncomment to strip punctuation\n",
    "                # line = re.sub(r'[^\\w\\s]', '', line)\n",
    "                text = nltk.word_tokenize(line)\n",
    "                template = [word[1] for word in nltk.pos_tag(text)]\n",
    "\n",
    "                # If the template length exceeds the threshold, don't include it\n",
    "                if len(template) > max_threshold or len(template) < min_threshold:\n",
    "                    continue\n",
    "                    \n",
    "                template_str = \"-\".join(template)\n",
    "                \n",
    "                count = poet_template.get(template_str, 0)\n",
    "                poet_template[template_str] = count + 1\n",
    "                row_map[line_num].append(template)\n",
    "                line_num = (line_num % 5) + 1\n",
    "                                \n",
    "        # Filter out rare templates that only occurred once in corpus\n",
    "        filtered_templates = { template : val for template, val in poet_template.items() if val > 0 }\n",
    "        sorted_x = sorted(filtered_templates.items(), key=operator.itemgetter(1))\n",
    "        print(sorted_x)\n",
    "        \n",
    "        # Find the total number of processed lines by summing the counts in the filtered dictionary\n",
    "        total_count = reduce(lambda a, b: a + b, filtered_templates.values())\n",
    "        \n",
    "        # Get a list of the unique templates\n",
    "        candidates = list(filtered_templates.keys())\n",
    "            \n",
    "        # Compute the probability distribution and store it under the poet's name\n",
    "        probability_dist = list(map(lambda x: filtered_templates[x] / total_count, candidates))\n",
    "        templates[poet] = (candidates, probability_dist)\n",
    "        \n",
    "    templates['Lines'] = row_map\n",
    "    return templates\n",
    "\n",
    "def random_weighted_template(templates, poet):\n",
    "    candidates, dist = templates[poet][0], templates[poet][1]\n",
    "    template_index = choice(range(len(candidates)), 1, p=dist).item()\n",
    "\n",
    "    return candidates[template_index].split(\"-\")\n",
    "\n",
    "templates = build_templates(limerick_poets)"
   ]
  },
  {
   "cell_type": "code",
   "execution_count": 6,
   "metadata": {},
   "outputs": [
    {
     "name": "stdout",
     "output_type": "stream",
     "text": [
      "{1: [['DT', 'JJ', 'JJ', 'NN', 'VBN', 'NNP'], ['EX', 'VBD', 'DT', 'JJ', 'NN', 'RB', 'JJ'], ['DT', 'NN', 'IN', 'NN', ',', 'NNP', 'NNP', ','], ['DT', 'NN', ',', 'WP', 'VBD', 'IN', 'NNP', 'NNP', ','], ['DT', 'NN', ',', 'RB', 'JJ', ','], ['RB', 'VBZ', 'TO', 'DT', 'NN', ','], ['CC', 'DT', 'VBZ', 'WRB', 'DT', 'NN', 'VBZ', 'IN', '.'], ['``', 'PRP', 'VBP', 'RB', 'VB', ':', 'PRP', 'RB', 'VBD', 'IN', 'DT', 'NN', '.', \"''\"], ['TO', 'VB', 'JJ', 'NNS', 'IN', 'PRP$', 'NN', '.'], ['PRP', 'VBD', 'RP', 'IN', 'NN', 'CC', 'NN', '.'], ['CC', 'VBN', 'IN', 'DT', 'JJ', 'NN', '.'], ['CC', 'RB', 'DT', 'VBN', 'IN', 'NNP', '.'], ['WRB', 'PRP', 'VBP', 'PRP', ',', 'PRP', 'VBP', 'VBN', 'DT', 'NN', '.', \"''\"], ['RB', 'PRP', 'VBP', 'VBG', 'DT', 'NN', 'IN', 'NNP', '.'], ['NNP', 'RB', 'JJ', 'PRP', 'VBZ', 'RB', 'IN', 'VBG', 'NNP', '.'], ['CC', 'PRP', 'VBD', 'IN', 'DT', 'NN', 'IN', 'DT', 'NN', '.'], ['``', 'TO', 'VB', 'CD', 'NNS', 'TO', 'VB', '.', \"''\"], ['RB', 'PRP', 'RB', 'VB', ',', 'IN', 'NN', '.'], ['CC', 'NNS', 'PRP', 'MD', 'RB', 'VB', 'VBN', '.'], ['IN', 'EX', 'VBP', 'IN', 'DT', 'JJ', 'NNP', '.'], ['(', 'DT', 'NN', 'VBZ', 'VBN', 'NN', '.', ')'], ['CC', 'PRP', 'VBD', 'NN', 'RB', 'RB', '.'], ['CC', 'PRP', 'VBZ', 'RB', 'VB', 'IN', 'IN', 'PRP$', 'NN', '.', \"''\"], ['IN', 'CD', 'IN', 'CD', 'VBZ', 'RB', 'JJ', '.', \"''\"], ['CC', 'DT', 'NN', 'VBZ', 'WDT', 'NN', 'PRP', 'VBD', '.'], ['PRP', 'VBD', 'IN', 'DT', 'NN', 'CC', 'VBD', 'IN', '.'], ['``', 'PRP', 'VBD', 'RB', 'VB', 'NN', 'VBD', 'DT', 'NN', '.', \"''\"], ['WP', 'DT', 'NN', 'PRP', 'VBD', 'RB', 'VB', 'IN', '.'], ['IN', 'PRP', 'VBD', 'RP', 'CD', 'NNS', 'IN', 'PRP$', 'NN', '.'], ['CC', 'RB', 'RB', 'IN', 'DT', 'NN', ',', 'NNP', '.'], ['CC', 'DT', 'NN', 'IN', 'DT', 'NN', 'IN', 'DT', 'NN', '.'], ['DT', 'NN', 'VBD', 'RB', 'JJ', ',', 'PRP', 'VBD', 'JJ', '.'], ['DT', 'PRP', 'VBD', 'PRP', 'JJ', 'NNS', 'POS', '.'], ['PRP', 'VBZ', 'DT', 'NNS', 'IN', 'NN', 'IN', 'PRP', 'VBP', '.'], ['``', 'UH', 'WRB', 'JJ', '.', \"''\", 'DT', 'NNS', 'MD', 'VB', '.'], ['WRB', 'PRP', 'VBD', 'EX', 'VBD', 'CD', 'JJ', 'NNS', '.'], ['PRP', 'MD', 'VB', 'RB', 'VBD', ',', 'WRB', 'PRP', 'VBZ', '.'], ['(', 'JJS', 'DT', 'JJ', 'NN', 'MD', 'VB', 'RB', '.', ')'], ['PRP', 'VBD', 'PRP', 'CC', 'VBD', 'NNS', 'CC', 'TO', '.'], ['IN', 'DT', 'JJ', 'JJ', 'NNP', 'VBD', 'NNP', '.'], ['DT', 'DT', 'NN', 'VBD', 'JJ', 'CC', 'NNP', '.'], ['CC', 'RB', 'JJ', 'IN', 'NN', '.', \"''\"], ['IN', 'DT', 'NN', 'IN', 'NN', 'TO', 'NN', '.', \"''\"], ['IN', 'DT', 'NNS', 'POS', 'JJ', 'NN', '.'], ['DT', 'NNP', 'NNP', 'IN', 'NNP', '.'], ['NNP', 'VBG', 'PRP$', 'IN', 'DT', 'NN', '.'], ['IN', 'PRP', 'VBP', 'IN', 'DT', 'NN', 'IN', 'DT', 'NN', '.'], ['RB', 'PRP', 'VBP', 'JJ', 'IN', 'DT', 'NN', 'TO', 'VB', '.'], ['CC', 'RB', 'PRP', 'VBZ', 'DT', 'NN', 'NN', '.'], ['CC', 'VBD', 'NN', 'IN', 'PRP$', 'NN', '.'], ['PRP', 'VBP', 'CD', 'NNP', 'TO', 'VB', 'CD', 'NNP', '.', \"''\"], ['NNP', 'VBD', ',', '``', 'PRP', 'VBZ', 'DT', 'JJ', 'NN', 'IN', 'NN', '.', \"''\"], ['CC', 'PRP', 'VBP', 'JJ', 'TO', 'DT', 'NN', 'IN', 'NN', '.'], ['``', 'DT', ',', 'VB', 'PRP', 'RB', 'VB', 'PRP', ',', 'PRP', 'VBP', '.', \"''\"], ['$', 'CD', 'NN', 'CD', 'CD', 'CD', 'CD', 'CD'], ['CC', 'IN', 'RB', 'VBZ', 'RB', 'VBN', '.'], ['NN', '.'], ['CC', 'VBZ', 'IN', 'IN', 'PRP$', 'NNS', 'IN', 'NN', '.'], ['NNP', 'VBG', 'DT', 'NN', 'IN', 'PRP$', 'NN', '.', \"''\"], ['RB', 'PRP', 'VBP', 'IN', 'PRP$', 'NN', 'CC', 'VBD', '.'], ['WP', 'VBD', 'VBN', 'IN', 'DT', 'NN', 'NN', '.'], ['PRP', 'VBD', 'RB', 'DT', 'NNP', 'PRP', 'VBD', '.'], ['WRB', 'PRP', 'VBP', 'PRP', ',', 'PRP', 'VBP', 'VBN', 'RB', 'NN', '.', \"''\"], ['PRP', 'MD', 'VB', 'IN', 'PRP', 'VBZ', 'RB', 'VBN', 'VBN', 'IN', '.', \"''\"], ['IN', 'PRP', 'VBD', 'VBG', 'PRP$', 'NNS', '.'], ['CC', 'PRP', 'VBP', 'IN', 'PRP', 'RB', 'VBP', '.'], ['IN', 'DT', 'JJ', 'NN', 'PRP', 'VBP', '.'], ['RB', 'PRP', 'VBD', 'PRP', 'NN', 'IN', 'DT', 'NN', '.'], ['CC', 'DT', 'NN', 'MD', 'VB', 'VBG', 'CD', ',', 'RB', '.', \"''\"], ['RB', 'PRP', 'VBD', 'RB', 'CC', 'VB', 'IN', 'DT', 'NN'], ['IN', 'PRP', 'VBD', 'TO', 'VB', ',', '``', 'PRP', 'VBP', 'DT', 'NN', ':', \"''\"], ['IN', 'DT', 'JJ', 'NNP', 'CC', 'NNP', 'POS', 'PRP', 'VBZ', 'VBN', '.'], ['IN', 'PRP$', 'NN', 'CC', 'NN', 'IN', 'DT', 'NN', '.'], ['VBG', 'RB', 'DT', 'NN', 'IN', 'FW', 'FW', '.'], ['PRP', 'VBD', 'WRB', 'PRP', 'CD', 'IN', 'NN', '.', \"''\"], ['NNP', 'RB', ',', 'CC', 'VBD', 'VBN', 'NN', '.'], ['VBN', 'RP', 'TO', 'VB', 'NNP', 'IN', 'NNP', '.'], ['RB', ',', 'PRP', 'MD', 'VB', 'PRP', 'NN', ',', 'PRP', 'VBP', '.'], ['PRP', 'VBP', 'RB', 'VBN', 'IN', 'DT', 'NN', 'PRP', 'VBD', 'VBN', '.'], ['NNP', 'VB', 'DT', 'NN', 'IN', 'NNP', '.', \"''\"], ['CC', 'PRP', 'VBD', 'CC', 'PRP', 'VBD', ',', '``', 'NNP', '.', \"''\"], ['CC', 'PRP$', 'NNS', 'VBD', 'RB', 'TO', 'PRP$', 'NNS', '.'], ['CC', 'TO', 'VB', 'PRP', 'JJ', 'NNS', 'IN', 'NN', '.'], ['CC', 'VBZ', 'NN', 'VB', 'NNS', 'RB', 'JJ', '.'], ['IN', 'PRP', 'VBP', 'IN', 'PRP', 'VBP', 'NNP', 'POS', 'NN', ',', 'NN', '.', \"''\"], ['PRP', 'VBD', 'IN', 'DT', 'NN', 'CC', 'VBD', 'IN', '.'], ['CC', 'RB', 'DT', 'JJ', 'NN', 'VBZ', 'RB', 'JJ', '.'], ['CC', 'NN', ',', '``', 'NN', 'RB', ',', 'CC', 'RB', 'PRP', 'MD', 'VB', '.', \"''\"], ['POS', 'PRP', 'RB', 'VBP', 'TO', 'VB', 'IN', 'JJ', 'NNS', 'IN', 'DT', 'JJ', 'NN', 'IN', 'PRP', 'RB', 'MD', '.', \"''\"]], 2: [['VBN', 'TO', 'VB', 'DT', 'NN', 'VBN', 'NNP', '.'], ['PRP', 'RB', 'VBD', 'WRB', 'PRP', 'VBD', 'VBN', ':'], ['VBN', 'RP', 'IN', 'NNP', 'CC', 'NNP', 'POS', ','], ['VBN', 'CD', 'NNS', 'IN', 'PRP$', 'NN', \"''\"], ['CD', 'NN', 'VBD', 'TO', 'PRP$', 'NN', ','], ['DT', 'NN', 'WDT', 'VBZ', 'DT', 'JJR'], ['DT', 'JJ', 'JJ', 'NN', 'IN', 'NNP'], ['EX', 'VBD', 'DT', 'JJ', 'NN', 'IN', 'NNP', ','], ['DT', 'NN', 'IN', 'PRP$', 'NN', 'VBD', 'NNP', 'NNP'], ['EX', 'VBD', 'DT', 'JJ', 'NN', 'VBN', 'NNP', ','], ['EX', 'VBD', 'DT', 'JJ', 'NN', 'IN', 'NNP', ','], ['NNP', 'DT', 'JJ', ',', 'JJ', 'NN', ','], ['DT', 'NN', 'JJ', 'NN', 'VBD', 'NNP'], ['DT', 'NN', 'NN', 'VBD', 'VBG'], ['DT', 'NN', 'CC', 'DT', 'NN', 'IN', 'DT', 'NN', ','], ['DT', 'NN', 'WP', 'VBD', 'DT', 'NN'], ['DT', 'JJ', ',', 'IN', 'JJ', 'NN', ','], ['EX', 'VBD', 'DT', 'JJ', 'NN', 'VBN', 'NNP', ','], ['EX', 'VBD', 'DT', 'JJ', 'NN', 'VBN', 'NNP', ','], ['DT', 'NNP', 'VBD', 'RB', 'IN', 'PRP$', 'NN', ','], ['DT', 'JJ', 'JJ', 'NN', 'VBN', 'NNP'], ['EX', 'VBD', 'DT', 'JJ', 'NN', 'IN', 'DT', 'NN', ','], ['``', 'EX', 'VBZ', 'DT', 'NN', 'IN', 'CD', ',', \"''\", 'VBD', 'NNP', 'NNP', '.'], ['EX', 'VBD', 'DT', 'JJ', 'NN', 'IN', 'NNP', ','], ['EX', 'VBD', 'DT', 'JJ', 'NN', 'IN', 'NNP', ','], ['EX', 'VBD', 'DT', 'JJ', 'NN', 'VBN', 'NNP', ','], ['DT', 'NN', 'CC', 'PRP$', 'NN', ',', 'NNP', ','], ['EX', 'VBD', 'DT', 'JJ', 'NN', 'IN', 'NNP', ','], ['EX', 'VBD', 'DT', 'JJ', 'NN', 'IN', 'NNP'], ['EX', 'VBD', 'DT', 'JJ', 'NN', 'IN', 'NNP', ','], ['EX', 'RB', 'VBD', 'DT', 'NN', 'VBN', 'NNP', ','], ['EX', 'VBD', 'DT', 'JJ', 'NN', 'VBN', 'NNP', ','], ['IN', 'DT', 'NN', 'PRP', 'VBP', 'RB', 'DT', 'NN', ','], ['TO', 'VB', 'DT', 'NN', 'NN', ','], ['RB', 'VBZ', 'DT', 'JJ', 'NN', 'VBN', 'NNP', ','], ['PRP', 'MD', 'RB', 'VB', 'NNS', 'IN', 'NNS', ':'], ['EX', 'VBD', 'DT', 'JJ', 'NN', 'VBN', 'NNP', ','], ['DT', 'JJ', 'JJ', 'NN', 'IN', 'DT', 'NNP'], ['DT', 'NN', 'IN', 'NN', 'IN', 'NNP', 'VBD'], ['EX', 'VBD', 'DT', 'JJ', 'NN', 'VBN', 'NNP', ','], ['PRP', 'VBD', 'NNP', 'IN', 'NN'], ['RB', 'NNP', 'VBD', 'IN', 'JJ', 'NN'], ['CC', 'RB', ',', 'NNP', 'POS', 'NN'], ['RB', 'DT', 'NN', 'IN', 'DT', 'NN', 'POS', 'RB', 'VBN', ':'], ['DT', 'JJ', 'NN', 'IN', 'NNP', 'NNP'], ['DT', 'NN', 'CC', 'DT', 'NN', 'IN', 'DT', 'NN', ','], ['PRP', 'VBD', 'DT', 'JJ', 'NNP', 'NN', ','], ['EX', 'RB', 'VBD', 'DT', 'JJ', 'NN', 'IN', 'NNP', ','], ['EX', 'VBD', 'DT', 'JJ', 'NN', 'IN', 'NNP', ','], ['DT', 'NN', 'NN', 'VBN', 'NNP'], ['DT', 'JJ', 'JJ', 'NN', 'VBN', 'NNP', ','], ['PRP', 'VBP', 'VBG', 'NNS', 'IN', 'DT', 'NN'], ['DT', 'NNS', 'IN', 'JJ', 'NNP', 'NNP'], ['VB', 'DT', 'JJ', 'NN', 'IN', 'NN', ','], ['EX', 'RB', 'VBD', 'DT', 'NN', 'VBN', 'NNP', ','], ['DT', 'NN', 'VBD', 'VBN', 'TO', 'VB', ','], ['VBZ', 'PRP', 'PRP', 'CC', 'DT', 'NN', 'IN', 'NN'], ['EX', 'VBD', 'DT', 'JJ', 'NN', 'IN', 'DT', 'NN'], ['IN', 'CD', 'PRP', 'VBD', 'IN', 'PRP', 'VBD'], ['NNP', 'WRB', 'RB', 'JJ'], ['DT', 'JJ', 'NNP', 'IN', 'NNP'], ['NNP', 'DT', 'JJ', ',', 'JJ', 'NN', ','], ['EX', 'VBD', 'DT', 'JJ', 'NN', 'IN', 'NNP'], ['NNS', 'PRP', 'MD', 'RB', 'VB'], ['RB', ',', 'VBP', 'NN'], ['PRP$', 'NN', 'VBD', 'IN', 'TO', 'VB'], ['PRP', 'VBD', 'PRP', ',', '``', 'VBP', 'IN', 'IN', 'PRP$', 'NN'], ['DT', 'JJ', 'NN', 'NN', 'IN', 'NNP'], ['EX', 'VBD', 'DT', 'JJ', 'NN', 'IN', 'VBG'], ['IN', 'CD', 'NNS', 'IN'], ['EX', 'VBD', 'DT', 'JJ', 'NN', 'WP', 'VBD'], ['DT', 'NN', 'NN', 'VBN', 'NNP'], ['CD', 'NNP', 'NN', 'IN', 'CD'], ['NN', 'POS', 'NN', 'VBD', 'NNS', 'IN', 'PRP', 'VBP', \"''\"], ['DT', 'JJ', 'NN', 'VBN', 'NNP'], ['EX', 'VBD', 'DT', 'JJ', 'NN', 'VBN', 'NNP'], ['PRP', 'VBP', 'RB', 'VBN', 'CC', 'VB'], ['PRP', 'VBP', 'VBN', 'PRP', ':', 'PRP', 'VBP', 'VBN', 'IN', 'DT', 'NN', ','], ['NNP', 'DT', 'NN', 'IN', 'PRP', 'VBZ', 'IN', 'PRP$', 'NN', ','], ['DT', 'JJ', 'NN', 'NN'], ['EX', 'VBD', 'DT', 'JJ', 'NN', 'VBN', 'NNP'], ['DT', 'NN', 'POS', 'RB', 'JJ'], ['EX', 'RB', 'VBD', 'DT', 'NN', 'IN', 'DT', 'NN'], ['DT', 'JJ', 'NN', 'IN', 'DT', 'JJ', 'NN'], ['EX', 'VBD', 'DT', 'JJ', 'NN', 'VBN', 'NNP'], ['PRP', 'VBP', 'DT', 'JJ', 'NN', 'IN', 'PRP$', 'NN', ':'], ['DT', 'JJ', 'NN', 'IN', 'NNP'], ['EX', 'VBD', 'DT', 'JJ', 'NN', 'IN', 'NNP', ',']], 3: [['``', 'CC', ',', \"''\", 'PRP', 'VBD', ',', '``', 'PRP', 'MD', 'VB'], ['PRP', 'MD', 'VB', 'TO', 'DT', 'NN'], ['VBN', 'IN', 'DT', 'NN', ','], ['PRP', 'VBD', ',', 'IN', 'DT', 'NN', ','], ['``', 'DT', 'NN', 'MD', 'MD'], ['IN', 'DT', 'NN', 'IN', 'DT', 'JJ', 'NN', ':'], ['IN', 'DT', 'JJ', 'NN', 'VBD', 'VBN', ':'], ['NNP', 'NNP', 'VBD', 'DT', 'NN', 'IN', 'NN', ':'], ['PRP', 'VBD', 'VBN', ':', 'PRP', 'MD', 'VB', 'VBN', '.'], ['NNP', 'NN', 'VBD', 'RB', 'JJR', 'IN', 'NN', ','], ['WP', 'IN', 'NNS', 'VBD', 'RB', 'NN', 'IN', 'NN', 'POS', ':'], ['``', 'EX', 'VBZ', 'CD', 'NN', 'PRP', 'MD', 'RB', 'VB', ':'], ['RB', 'VBN', 'IN', 'DT', 'NN', 'IN', 'DT', 'NN', '.'], ['NNP', 'VB', '``', 'NN', \"''\", 'IN', 'DT', 'JJ', 'NN', '.'], ['NNP', 'VBN', ',', 'IN', 'WP', 'MD', 'PRP', 'VB', '.'], ['VBN', 'TO', 'VB', 'CD', 'JJ', 'NNS', 'TO', 'VB', '.'], ['VBN', 'RP', 'IN', 'NNP', 'NNP', 'IN', 'DT', 'NN', '.'], ['WP', 'VBD', 'RB', 'RB', 'JJ', ','], ['WP', 'VBD', 'IN', 'DT', 'NN', 'IN', 'NN', '.'], ['CC', 'VBD', 'DT', 'NN', 'IN', 'TO', 'VB', 'PRP', ':'], ['IN', 'VBG', 'VBD', 'VBN', 'IN', 'DT', 'NN', '.'], ['WP', 'VBD', ',', '``', 'DT', 'MD', 'VB', 'VBN', 'JJR', ':'], ['``', 'CD', 'NNS', 'PRP', 'MD', 'VB', ':', 'VB', 'PRP', 'DT', '.', \"''\"], ['NNP', 'NN', 'VBD', 'RBS', 'RB', 'JJ', '.'], ['WP', 'VBD', 'RB', 'RB', 'JJ', ','], ['WP', 'VBD', 'DT', 'JJ', 'NN', 'DT', 'NN', '.'], ['VBN', 'RP', 'WRB', 'DT', 'NN', 'VBD', 'RB', 'JJ', ','], ['NNP', 'NN', 'RB', 'VBD', 'JJ', ','], ['WP', 'VBD', 'DT', 'PRP$', 'NN', 'IN', 'DT', 'NN', ':'], ['WP', 'VBD', 'IN', 'PRP', 'VBD', 'IN', 'DT', 'NN', '.'], ['DT', 'NN', ',', 'JJ', 'NN', ':'], ['WP', 'RB', 'RB', 'VBN', 'IN', 'NNS', '.'], ['EX', 'VBP', 'NNS', 'RBR', 'JJ', 'IN', 'RB', ':'], ['VBP', 'RB', 'VB', 'IN', 'DT', 'JJ', 'NN', ':'], ['WP', 'VBD', 'IN', 'CD', 'IN', 'PRP$', 'NNS', ','], ['PRP', 'MD', 'RB', 'VB', 'NNP', 'IN', 'DT', 'NNP', ':'], ['WP', 'VBD', 'RB', 'DT', 'NN', 'IN', 'NN', '.'], ['NNP', 'RB', 'VBP', 'NN', 'TO', 'VB', '.'], ['NNP', 'RB', 'VBG', 'TO', 'NNP', ':'], ['WP', 'VBD', 'RP', 'PRP$', 'NNS', 'IN', 'DT', 'NN', ':'], ['TO', 'VB', 'PRP$', 'CD', 'NNS', 'VBP', 'TO', 'NNP', '.'], ['PRP$', 'JJ', 'NN', 'IN', 'NN', 'POS', 'NN', ':'], ['NNS', 'TO', 'VB', 'NN'], ['IN', 'DT', 'JJ', 'NN', 'IN', 'NN', 'PRP', 'VBP', 'JJ', '.'], ['NNP', 'RB', 'JJ', 'NN', '.'], ['NNP', 'VBN', ',', 'IN', 'WP', 'MD', 'PRP', 'VB', '.'], ['VBD', 'PRP', 'IN', 'IN', 'DT', 'JJ', 'NN', ','], ['NNP', 'NN', 'VBD', 'JJR', 'CC', 'JJR', ','], ['WP', 'VBP', 'DT', 'JJ', 'NN', 'CC', 'VBD', '.'], ['WP', 'VBD', 'PRP', 'RB', 'IN', 'DT', 'NN'], ['TO', 'DT', 'NN', 'NN', 'VBD', 'TO', 'VB', '.'], ['CC', 'RB', 'RB', 'PRP', 'VBP', 'RB', 'DT', 'NN', ':'], ['NNP', 'RB', 'IN', 'PRP', 'VBD', 'IN', 'DT', 'NN', '.'], ['DT', 'JJ', 'NN', 'IN', 'NN', 'TO', 'VB', '.'], ['WP', 'VBD', 'IN', 'JJ', 'NN', '.'], ['JJ', 'NN', 'VBZ', 'VBN', 'PRP$', 'NN', '.', \"''\"], ['DT', 'VBZ', 'JJ', 'CC', 'JJ', '.', 'NNP', ','], ['NNP', 'VBD', ',', '``', 'PRP', 'VBZ', 'RB', 'IN', 'PRP', 'VBD', '.'], ['IN', 'DT', 'NN', 'IN', 'DT', 'NNP', '.', 'PRP', 'VBD'], ['IN', 'PRP$', 'RB', 'JJ', 'NN', 'IN', 'DT', 'NN'], ['VBN', 'IN', 'PRP$', 'NN', 'NN'], ['``', 'EX', 'VBZ', 'CD', 'NN', 'PRP', 'MD', 'RB', 'VB', ':'], ['WP', 'MD', 'VB', 'TO', 'VB', 'IN', 'PRP$', 'NN', 'IN', '.'], ['IN', 'JJ', 'NNS', 'IN', 'PRP$', 'NN', ':'], ['VBZ', 'RB', 'RBR', 'IN', 'PRP'], ['(', 'IN', 'RB', 'IN', 'DT', 'JJ', 'NN', ')'], ['PRP', 'VBP', 'DT', 'JJ', 'JJ', 'NN', ':'], ['IN', 'DT', 'RB', 'JJ', 'NN', 'IN', 'PRP$', 'NN', '.'], ['WP', 'VBD', 'DT', 'NN', 'IN', 'NNP', '.'], ['PRP', 'VBD', 'DT', 'JJ', 'NN', 'VBP', ',', '``', 'NNP', '.', \"''\"], ['TO', 'DT', 'NN', 'IN', 'DT', 'JJ', 'VBG', 'VBN', ':'], ['NNP', 'VBD', 'IN', 'NN', 'NNS', '.'], ['DT', 'NN', 'POS', 'NN', 'IN', 'NNP'], ['NNP', 'DT', 'RB', ',', 'JJ', 'NN', '.'], ['NNP', 'PRP$', 'NN', 'IN', 'JJ', 'NNS', ':'], ['NNP', 'NN', 'MD', 'RB', 'VB'], ['TO', 'VB', 'VBG', 'DT', 'NN', 'DT', 'NN', 'NN', '.'], ['CC', 'PRP$', 'NNS', 'VBP', 'VBG', 'CC', 'JJ', '.'], ['TO', 'PRP$', 'VBG', 'DT', 'JJ', 'CC', 'NN', ','], ['VBD', 'DT', 'JJ', 'NN', 'IN', 'DT', 'NN', ':'], ['WP', 'VBD', 'DT', 'JJ', 'NN', 'IN', 'PRP$', 'NN', '.'], ['CC', 'VBG', 'IN', 'NN', 'CC', 'NN', ':'], ['PRP', 'VBP', 'WRB', 'VBD', 'RB', 'PRP', 'VB'], ['NNP', 'DT', 'RB', 'JJ', 'NN', 'IN', 'DT', 'NN'], ['WP', 'VBD', 'RB', 'RB', 'JJ'], ['DT', 'NN', 'PRP', 'VBD', 'VBD', 'RB', 'JJ', '.'], ['VBN', 'RP', 'NNS', 'IN', 'DT', 'JJ', 'NN', ':'], ['JJ', 'NNS', 'RB', 'MD', 'VB', '.']], 4: [['WP', 'DT', 'JJ', 'NN'], ['CC', 'VB', 'RB', 'IN', 'NN', ','], ['NNP', 'PRP$', 'NN', ',', '``', 'PRP', 'VBZ', 'NN'], ['``', 'DT', 'NN', 'NN', ':', 'RB', 'PRP'], ['NN', 'IN', 'PRP', 'MD', ':'], ['CC', 'DT', 'NN', 'IN', 'PRP', 'VBZ'], ['WRB', 'VBD', ',', '``', 'WP', 'VBZ', 'JJ', '.', \"''\"], ['PRP', 'VBD', 'IN', 'PRP$', 'NN'], ['RB', 'DT', 'JJ', 'NN', 'VBD', 'PRP', ':'], ['PRP', 'VBD', 'RP', 'CD', 'NN', ','], ['PRP', 'VBD', 'CD', 'TO', 'NNP', ','], ['WRB', 'DT', 'NN', 'VBZ', 'PRP$', 'NN', ','], ['DT', 'NN', 'IN', 'DT', 'NN'], ['CC', 'DT', 'NN', 'PRP', 'VBD'], ['VBD', 'DT', 'NN', ',', '``', 'VB', 'PRP', 'VB', '.', \"''\"], ['VBD', 'DT', 'CD', 'TO', 'DT', 'NN', ','], ['PDT', 'DT', 'NNS', 'VBD', 'NN', ','], ['CC', 'JJ', ',', 'CC', 'VBD', ','], ['IN', 'PRP', 'VBD', 'IN', 'PRP', 'NN', ','], ['PRP', 'VBD', 'PRP', 'DT', 'NN'], ['PRP', 'VBD', ':', 'RB', 'NN', ','], ['IN', 'NN', 'DT', 'NN'], ['VBD', 'DT', 'NN', 'IN', 'DT', 'NN', ','], ['PRP', 'VBD', 'PRP', 'NN'], ['DT', 'WRB', 'PRP', 'VBD'], ['``', 'PRP', 'VBZ', 'JJ', ',', \"''\", 'PRP', 'VBD', ','], ['VBD', 'DT', 'NN', ',', 'DT', 'NN', ','], ['``', 'EX', 'VBZ', 'NN', 'IN', 'DT', 'NN', ',', \"''\"], ['CC', 'PRP$', 'NN', ',', 'VBN', 'NNP'], ['PRP', 'VBD', 'RB', 'IN', 'DT', 'NN'], ['IN', 'VBG', 'PRP$', 'NN', ','], ['IN', 'NN', 'IN', 'NN', ','], ['CC', 'PRP$', 'NN', ':', 'PRP', 'VBP', 'RB', 'VB', 'PRP', ','], ['IN', 'PRP$', 'NNS', 'IN', 'DT', 'NNS', ','], ['DT', 'NN', 'VBN', 'NNP', ','], ['CC', 'IN', 'IN', 'PRP$', 'NNP', ','], ['PRP', 'VBD', 'DT', 'NN'], ['WRB', 'PRP', 'VBD', 'PRP', ',', 'PRP', 'VBP', ','], ['PRP$', 'NNS', 'VBD', 'RB', 'JJ'], ['RB', 'JJ', 'CC', 'JJ'], ['PRP', 'RB', 'VBD', ','], ['``', 'PRP', 'VBZ', ',', 'PRP', 'VBP', ','], ['IN', 'NN', 'WDT', 'VBZ', 'VBN', ','], ['PRP', 'VBP', 'CC', 'PRP', 'VBP', ','], ['IN', 'PRP$', 'JJ', 'NN', ','], ['VBD', 'DT', 'NN', ',', '``', 'VB', 'PRP', 'VB', '.', \"''\"], ['VBD', 'PRP', 'IN', ':', 'WP', 'DT', 'NN', ':'], ['PRP', 'IN', 'JJ', 'VBD', 'RB', 'JJ'], ['IN', 'PRP$', 'NN', 'VBD', ','], ['WRB', 'VBN', ',', \"''\", 'IN', 'JJ', '.', \"''\"], ['DT', 'NN', 'VBD', ',', '``', 'NNP', 'NN'], ['IN', 'DT', 'NN', 'POS', 'DT', 'JJ'], ['``', 'VBP', 'PRP', 'JJ', 'CC', 'JJ', '.', \"''\"], ['PRP', 'MD', 'VB', 'PRP', 'IN', 'CD', ','], ['CC', 'PRP', 'VBD', 'NN', \"''\"], ['DT', 'NN', 'IN', 'PRP$', 'NN'], ['CC', 'WRB', 'PRP', 'VBP', 'VBN'], ['CD', 'NN', 'CC', 'DT', 'NN', ','], ['IN', 'PRP$', 'NN', 'IN', 'NN'], ['IN', 'DT', 'NNS', '.', 'IN', 'UH', ','], ['JJ', 'TO', 'JJ', 'NN', ','], ['WRB', 'DT', 'NN', 'VBZ', 'PRP$', 'NN', ','], ['POS', 'PRP', 'VBP', 'RB', ',', \"''\", 'PRP', 'VBD', ','], ['CC', 'DT', 'CD', 'VBD', 'JJ'], ['IN', 'DT', 'NN', 'IN', 'NN'], ['IN', 'PRP', 'MD', 'VB', 'PRP', 'IN'], ['PRP', 'VBP', 'DT', 'NN', 'NN', '.'], ['VBD', 'DT', 'NN', ',', '``', 'VBP', 'RB', 'VB'], ['PRP', 'VBD', 'IN', 'DT', 'NN'], ['CC', 'NN', ',', 'PRP', 'VBD'], ['PRP', 'MD', 'VB', ',', 'PRP', 'VBD'], ['PRP', 'VBD', 'PRP', 'TO', 'VB'], ['VBN', 'TO', 'DT', 'NN'], ['MD', 'RB', 'VB', 'RP', 'TO', 'NN'], ['PRP', 'MD', 'VBN', 'VBN', 'IN', 'DT', 'NN', ','], ['IN', 'DT', 'NNS', 'IN', 'PRP', 'VBD'], ['PRP', 'MD', 'VB', 'PRP', 'PRP', 'VBP', ','], ['PRP', 'MD', 'VB', 'EX', 'VBP', 'DT'], ['``', 'IN', 'PRP$', 'NN', ',', 'PRP$', 'NNS', ','], ['CC', 'PRP', 'VBD', 'IN', 'PRP', 'VBD', ','], ['WRB', 'PRP', 'VBD', 'PRP', 'VBD'], ['PRP', 'VBZ', 'CC', 'JJ'], ['IN', 'PRP$', 'NNS', 'VBN'], ['CC', 'VBD', ',', '``', 'NNP', ',', 'MD', 'PRP', 'VB', '.', \"''\"], ['DT', 'WRB', 'PRP', 'VBD'], ['RB', 'PRP', 'VBD', 'PRP', 'CC', 'VBD', 'PRP'], ['RBR', 'JJ', 'IN', 'IN', 'RB', ','], ['WRB', 'VBD', 'DT', 'VBD', 'RB', ',']], 5: [['VB', 'IN', 'NNP', 'VB', 'NNP', 'NNP', '.'], ['IN', 'IN', 'PRP', 'MD', 'VBN', 'RB', 'VBN', '.'], ['PRP', 'VBP', 'VBG', 'PRP', ':', ':', 'IN', 'NNS', '.', \"''\"], ['RB', 'VBN', 'PRP', ',', 'RB', 'WRB', 'PRP', 'VBP', 'JJ', '.', \"''\", \"''\"], ['CC', 'DT', 'NN', 'MD', 'RB', 'MD', 'DT', 'MD', ',', 'MD', 'PRP', '.', \"''\"], ['JJ', 'NNS', 'IN', 'NNS', ','], ['PRP', 'VBD', 'CC', 'VBD', ','], ['DT', 'NN', 'WP', 'VBD', 'PRP'], ['TO', 'VB', 'RP', 'DT', 'NN', ','], ['IN', 'DT', 'JJ', 'NN', ','], ['NNP', 'VBD', ',', '``', 'NNP', 'PRP', ',', 'NNP', ',', \"''\"], ['PRP', 'VBZ', 'DT', 'NN', 'IN', 'NN', ':'], ['VBD', 'DT', 'NN', 'IN', ':', ':'], ['IN', 'DT', 'CD', 'NN', 'NN'], ['``', 'VB', 'PRP', 'VB', ',', \"''\", 'VBD', 'DT', 'NN', ','], ['``', 'VBZ', 'PRP', 'JJR', 'TO', 'VB', ',', 'PRP', \"''\"], ['CC', 'DT', 'NN', 'MD', 'VB', 'VBN', ':'], ['DT', 'PRP$', 'NN', 'VBD', 'PRP$', 'NN', ','], ['JJR', 'NNS', 'PRP', 'VBD'], ['IN', 'PRP', 'VBD', 'IN', 'DT', 'NN'], ['PRP$', 'NN', 'VBD', 'RB', ','], ['VBZ', 'RB', 'JJ', ','], ['``', 'RB', 'CD', 'IN', 'CD', ','], ['CD', 'NN', ',', 'PRP', 'VBP', ':'], ['TO', 'VB', 'NN'], ['WRB', 'IN', 'JJS', 'PRP', 'VBD', 'VBN', ':'], ['IN', 'PRP', 'VBP', 'PRP', 'VBD', 'RP', ':'], ['PRP', 'RB', 'VBD', ','], ['NNP', 'RB', 'IN', 'DT', 'NN', ':'], ['IN', 'DT', 'NN', 'RB', ','], ['RB', 'PRP', 'VBD', 'PRP$', 'JJ', 'NN', ':', ':'], ['PRP', 'VBD', 'RB', 'JJ', 'NN', ','], ['IN', 'PRP', 'VBP', 'IN', 'PRP', ':'], ['NNP', 'DT', 'NN', 'IN', 'PRP$', 'NNS', ':'], ['RB', 'VBD', 'IN', 'DT', 'NN', ','], ['PRP', 'VBP', 'JJ', 'PRP', 'VBZ', 'DT', 'RB', ':'], ['TO', 'VB', 'DT', 'JJ', 'NN', '.'], ['TO', 'VB', 'TO', 'CC', 'VB', ','], ['PRP', 'VBD', ',', 'PRP', 'VBP', 'JJ', ','], ['WRB', 'DT', 'NNS', 'IN', 'PRP', 'VBD'], ['``', 'PRP$', 'NNS', 'VBP', 'DT', 'JJ', ','], ['IN', 'DT', 'JJ', 'NN'], ['CC', 'PRP', 'VBZ', 'DT', 'WDT', 'MD', 'VB'], ['VBG', 'TO', 'VB'], ['IN', 'CD', 'NNS', 'IN', 'DT', 'NN', ','], ['``', 'VB', 'PRP', 'VB', ',', \"''\", 'VBD', 'DT', 'NN', '.'], ['PRP', 'VBD', 'NN', 'IN', ','], ['PRP', 'VBD', 'NN', 'IN', 'DT'], ['DT', 'NN', 'VBD', ','], ['NNP', ',', 'NNP', 'VBP', 'RB', 'DT', 'NN'], ['PRP$', 'NN', 'VBZ', 'DT', 'JJ', '.', \"''\"], ['(', 'CC', 'DT', 'NN', 'POS', 'RB', 'RB', ')'], ['PRP', 'VBD', ',', 'CC', 'PRP', 'VBD', ','], ['IN', 'PRP', 'VBZ', 'NN', ',', 'PRP', 'VBP', ','], ['DT', 'JJ', 'NN', ','], ['VBD', 'JJ'], ['PRP', 'VBZ', 'RB', ',', 'PRP', 'VBP', ','], ['CD', 'NNS', 'CC', 'DT', 'NN'], ['CC', 'VBD', 'NN', 'JJR', 'NN', ':'], ['RB', 'PRP', 'VBP', 'PRP', 'MD', 'RB', 'VB'], ['TO', 'JJS', 'IN', 'PRP$', 'NNS', ','], ['PRP', 'VBZ', 'DT', 'NN', 'IN', 'NN', '.'], ['VB', 'DT', 'NN', 'IN', 'PRP$', 'NN', ','], ['PRP', 'RB', 'VBD', 'JJ'], ['CC', 'JJ', 'NN', ':'], ['IN', 'PRP', 'VBD', 'RB', 'VB', 'DT', 'NN'], ['VBP', 'RB', 'PRP', 'VB', 'DT', 'JJ', 'NN', '.', \"''\"], ['CC', 'VB', 'PRP', 'IN', ','], ['MD', 'RB', 'VB', 'IN', 'DT', 'NN', 'POS'], ['PRP', 'RB', 'RB', 'IN', 'DT', 'NN'], ['DT', 'NN', 'IN', 'PRP$', 'JJ', 'NN'], ['IN', 'PRP$', 'NNS', 'CC', 'PRP$', 'NN'], ['IN', 'DT', 'JJ', 'NN'], ['CC', 'RB', 'VB', 'CD', 'NNP', ':'], ['PRP', 'MD', 'VB', 'PRP', 'VBD', 'RB', ','], ['IN', 'DT', 'NN', 'IN', 'PRP', 'VBD'], ['UH', ',', 'PRP', 'MD', 'VB', 'PRP', 'NN', ':'], ['IN', 'PRP$', 'NNS', 'CC', 'PRP$', 'NN'], ['IN', 'DT', 'NN', 'IN', 'NNS', ','], ['``', 'VB', 'RB', ',', 'VB', 'POS', 'VB', 'VBN', '.', \"''\"], ['PRP$', 'NN', 'VBD', ','], ['IN', 'JJ', 'NN'], ['CC', 'VBD', 'PRP', 'RB', 'VBD'], ['CC', 'PRP', 'VBD', 'PRP', ',', '``', 'DT', 'NN', ':'], ['TO', 'VB', 'NN'], ['CC', 'RB', 'VBD', 'PRP', ':'], ['PRP', 'MD', 'VB', 'DT', 'NN'], ['PRP', 'VBD', ',', 'UH', ',', 'PRP', 'VBP', '.']]}\n"
     ]
    }
   ],
   "source": [
    "print(templates[\"Lines\"])"
   ]
  },
  {
   "cell_type": "code",
   "execution_count": 8,
   "metadata": {},
   "outputs": [
    {
     "name": "stdout",
     "output_type": "stream",
     "text": [
      "['CC', 'PRP$', 'NN', ':', 'PRP', 'VBP', 'RB', 'VB', 'PRP', ',']\n"
     ]
    }
   ],
   "source": [
    "print(random_weighted_template(templates, \"Limericks\"))"
   ]
  },
  {
   "cell_type": "code",
   "execution_count": 10,
   "metadata": {},
   "outputs": [],
   "source": [
    "def build_common_words(poets):\n",
    "    word_counts = {}\n",
    "    \n",
    "    for poet, filename in poets.items():\n",
    "        with open(filename, \"r\") as f:\n",
    "            for line in list(filter(lambda x: len(x) > 10, f)):\n",
    "                line = line.strip()\n",
    "\n",
    "                words = line.split()\n",
    "                for word in words:\n",
    "                    count = word_counts.get(word, 0)\n",
    "                    word_counts[word] = count + 1\n",
    "                    \n",
    "    words = list(word_counts.keys())\n",
    "    words.sort(key=lambda x: -word_counts[x])\n",
    "                \n",
    "    return word_counts, words\n",
    "        \n",
    "word_counts, words = build_common_words(limerick_poets)"
   ]
  },
  {
   "cell_type": "code",
   "execution_count": 11,
   "metadata": {},
   "outputs": [
    {
     "name": "stdout",
     "output_type": "stream",
     "text": [
      "['a', 'the', 'was', 'I', 'of', 'in', 'to', 'and', 'And', 'There', 'A', 'young', 'his', 'he', 'on', 'it', 'named', 'Who', 'my', 'But', 'she', 'He', 'her', 'said,', 'an', 'man', 'as', 'from', 'that', 'for', 'lady', 'To', 'so', 'at', 'old', 'with', 'When', 'The', \"I'm\", 'you', 'As', 'Said', 'She', 'out', 'be', 'In', 'one', 'they', 'With', 'when', 'just', 'is', 'called', 'That', 'For', 'It', 'would', 'by', 'are', 'no', 'Whose', 'quite', 'Then', 'will', 'who', 'two', 'can', 'could', 'said', 'So', 'have', \"I'll\", 'this', 'all', 'not', 'fellow', 'been', 'it,', 'Than', 'like', 'bought', '--', '\"There\\'s', 'person', 'Of', '\"Let', 'us', 'through', 'slipped', 'there', 'simply', 'too', \"didn't\", 'once', 'your', 'do', 'new', 'An', '1', 'Or']\n"
     ]
    }
   ],
   "source": [
    "print(words[:100])"
   ]
  },
  {
   "cell_type": "code",
   "execution_count": null,
   "metadata": {},
   "outputs": [],
   "source": [
    "def generate_collocations(filename):\n",
    "    collocations = {{}}\n",
    "    \n",
    "    with open(filename, \"r\") as f:\n",
    "            for line in list(filter(lambda x: len(x) > 10, f)):\n",
    "                line = line.strip()\n",
    "                \n",
    "            "
   ]
  }
 ],
 "metadata": {
  "kernelspec": {
   "display_name": "Python 3",
   "language": "python",
   "name": "python3"
  },
  "language_info": {
   "codemirror_mode": {
    "name": "ipython",
    "version": 3
   },
   "file_extension": ".py",
   "mimetype": "text/x-python",
   "name": "python",
   "nbconvert_exporter": "python",
   "pygments_lexer": "ipython3",
   "version": "3.6.6"
  }
 },
 "nbformat": 4,
 "nbformat_minor": 2
}
