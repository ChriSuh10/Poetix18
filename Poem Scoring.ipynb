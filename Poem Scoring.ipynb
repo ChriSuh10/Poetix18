{
 "cells": [
  {
   "cell_type": "code",
   "execution_count": 2,
   "metadata": {},
   "outputs": [
    {
     "name": "stderr",
     "output_type": "stream",
     "text": [
      "E:\\Anaconda3\\lib\\site-packages\\tensorflow\\python\\framework\\dtypes.py:526: FutureWarning: Passing (type, 1) or '1type' as a synonym of type is deprecated; in a future version of numpy, it will be understood as (type, (1,)) / '(1,)type'.\n",
      "  _np_qint8 = np.dtype([(\"qint8\", np.int8, 1)])\n",
      "E:\\Anaconda3\\lib\\site-packages\\tensorflow\\python\\framework\\dtypes.py:527: FutureWarning: Passing (type, 1) or '1type' as a synonym of type is deprecated; in a future version of numpy, it will be understood as (type, (1,)) / '(1,)type'.\n",
      "  _np_quint8 = np.dtype([(\"quint8\", np.uint8, 1)])\n",
      "E:\\Anaconda3\\lib\\site-packages\\tensorflow\\python\\framework\\dtypes.py:528: FutureWarning: Passing (type, 1) or '1type' as a synonym of type is deprecated; in a future version of numpy, it will be understood as (type, (1,)) / '(1,)type'.\n",
      "  _np_qint16 = np.dtype([(\"qint16\", np.int16, 1)])\n",
      "E:\\Anaconda3\\lib\\site-packages\\tensorflow\\python\\framework\\dtypes.py:529: FutureWarning: Passing (type, 1) or '1type' as a synonym of type is deprecated; in a future version of numpy, it will be understood as (type, (1,)) / '(1,)type'.\n",
      "  _np_quint16 = np.dtype([(\"quint16\", np.uint16, 1)])\n",
      "E:\\Anaconda3\\lib\\site-packages\\tensorflow\\python\\framework\\dtypes.py:530: FutureWarning: Passing (type, 1) or '1type' as a synonym of type is deprecated; in a future version of numpy, it will be understood as (type, (1,)) / '(1,)type'.\n",
      "  _np_qint32 = np.dtype([(\"qint32\", np.int32, 1)])\n",
      "E:\\Anaconda3\\lib\\site-packages\\tensorflow\\python\\framework\\dtypes.py:535: FutureWarning: Passing (type, 1) or '1type' as a synonym of type is deprecated; in a future version of numpy, it will be understood as (type, (1,)) / '(1,)type'.\n",
      "  np_resource = np.dtype([(\"resource\", np.ubyte, 1)])\n"
     ]
    }
   ],
   "source": [
    "import tensorflow as tf\n",
    "import numpy as np\n",
    "import nltk\n",
    "from nltk.corpus import wordnet as wn\n",
    "from gensim.models import KeyedVectors\n",
    "from gensim.parsing.preprocessing import remove_stopwords\n",
    "import collections\n",
    "from collections import defaultdict\n",
    "import os\n",
    "import re\n",
    "import pickle\n",
    "from gpt2.src.score import score_model\n",
    "from gpt2.src.generate_prompt import generate_prompt\n",
    "from gpt2.src.encoder import get_encoder\n",
    "from py_files.Limericks import Limerick_Generate\n",
    "lg = Limerick_Generate(model_name='345M')"
   ]
  },
  {
   "cell_type": "code",
   "execution_count": 4,
   "metadata": {},
   "outputs": [],
   "source": [
    "in_path = 'py_files/saved_objects/silly_poems.txt'\n",
    "\n",
    "batch_size = 10\n",
    "model_name = '345M'\n",
    "enc = get_encoder(model_name)"
   ]
  },
  {
   "cell_type": "code",
   "execution_count": 6,
   "metadata": {},
   "outputs": [],
   "source": [
    "in_txt = open(in_path, 'rb')\n",
    "lines = [[],[],[],[],[]]\n",
    "\n",
    "counter = 0\n",
    "for line in in_txt:\n",
    "    line = line.rstrip().decode('utf-8')\n",
    "    if len(line) < 5:\n",
    "        continue\n",
    "    lines[counter].append([re.sub('[^a-zA-Z]+', '', word.lower()) for word in line.split()])\n",
    "    counter += 1\n",
    "    counter %= 5\n",
    "poems = []\n",
    "for i in range(0, len(lines[0])):\n",
    "    poems.append(lines[0][i] + lines[1][i] + lines[2][i] + lines[3][i] + lines[4][i])"
   ]
  },
  {
   "cell_type": "code",
   "execution_count": 6,
   "metadata": {},
   "outputs": [
    {
     "name": "stdout",
     "output_type": "stream",
     "text": [
      "INFO:tensorflow:Restoring parameters from gpt2/models\\345M\\model.ckpt\n",
      "word not found!!!\n",
      "word not found!!!\n",
      "INFO:tensorflow:Restoring parameters from gpt2/models\\345M\\model.ckpt\n",
      "word not found!!!\n",
      "word not found!!!\n",
      "INFO:tensorflow:Restoring parameters from gpt2/models\\345M\\model.ckpt\n",
      "word not found!!!\n",
      "word not found!!!\n",
      "INFO:tensorflow:Restoring parameters from gpt2/models\\345M\\model.ckpt\n",
      "word not found!!!\n",
      "word not found!!!\n",
      "INFO:tensorflow:Restoring parameters from gpt2/models\\345M\\model.ckpt\n",
      "word not found!!!\n"
     ]
    }
   ],
   "source": [
    "encodes = [[[], poems[i], [], 0] for i in range(len(poems))]\n",
    "finished = []\n",
    "index = 10\n",
    "while True:\n",
    "    new_encodes = []\n",
    "    for i in range(len(encodes)):\n",
    "        if len(encodes[i][0]) < len(encodes[i][1]):\n",
    "            encodes[i][0].append(enc.encode(encodes[i][1][index])[0])\n",
    "            new_encodes.append(encodes[i])\n",
    "        else:\n",
    "            finished.append(encodes[i])\n",
    "    index += 1\n",
    "    encodes = new_encodes\n",
    "    logits = score_model(model_name=model_name, context_token=[e[0] for e in encodes])\n",
    "    for i in range(len(encodes)):\n",
    "        # Calculate logit score\n",
    "        for j in range(len(logits[i])):\n",
    "            word = enc.decode([j]).lower().strip()\n",
    "            if word == encodes[i][1][index + 1]:\n",
    "                encodes[i][2].append(np.log(logits[i][j]))\n",
    "                break\n",
    "        else:\n",
    "            print(\"word not found!!!\") \n",
    "        # Calculate WEMA\n",
    "        embedding_distance = lg.get_word_similarity(word, [encodes[i][1][-1]])\n",
    "        encodes[i][3] = (1 - lg.word_embedding_alpha) * encodes[i][3] + lg.word_embedding_alpha * embedding_distance \\\n",
    "                         if embedding_distance is not None \\\n",
    "                         else encodes[i][3]\n",
    "    if index == 15:\n",
    "        break"
   ]
  },
  {
   "cell_type": "code",
   "execution_count": 7,
   "metadata": {},
   "outputs": [
    {
     "name": "stdout",
     "output_type": "stream",
     "text": [
      "['there', 'was', 'a', 'kind', 'girl', 'whose', 'name', 'is', 'jane', 'a', 'girl', 'who', 'i', 'did', 'not', 'know', 'he', 'then', 'added', 'she', 'had', 'tons', 'of', 'luggage', 'it', 'seemed', 'i', 'could', 'walk', 'where', 'she']\n",
      "-8.519290861487388\n",
      "------\n",
      "['there', 'was', 'a', 'kind', 'girl', 'whose', 'name', 'is', 'jane', 'we', 'are', 'not', 'actually', 'marissa', 'now', 'determine', 'her', 'said', 'harry', 'at', 'once', 'cause', 'he', 'has', 'her', 'dna', 'on', 'him']\n",
      "-11.186942100524902\n",
      "------\n",
      "['there', 'was', 'a', 'kind', 'girl', 'whose', 'name', 'is', 'jane', 'she', 'went', 'by', 'the', 'name', 'mama', 'or', 'mama', 'roger', 'if', 'she', 'so', 'wanted', 'to', 'who', 'wanted', 'to', 'be', 'mama', 'roger']\n",
      "-11.288053512573242\n",
      "------\n",
      "['there', 'was', 'a', 'kind', 'girl', 'whose', 'name', 'is', 'jane', 'she', 'became', 'a', 'confederate', 'soldier', 'lived', 'by', 'herself', 'and', 'then', 'died', 'young', 'after', 'four', 'years', 'she', 'moved', 'to', 'huachuca']\n",
      "-12.56987190246582\n",
      "------\n",
      "['there', 'was', 'a', 'kind', 'girl', 'whose', 'name', 'is', 'jane', 'whenever', 'you', 'went', 'to', 'school', 'she', 'would', 'come', 'to', 'spring', 'to', 'you', 'it', 'was', 'wonderful', 'whenever', 'i', 'went', 'to', 'a', 'museum']\n",
      "-11.43681818395853\n",
      "------\n",
      "['there', 'was', 'a', 'kind', 'girl', 'whose', 'name', 'is', 'jane', 'she', 'lived', 'in', 'edmonds', 'in', 'mississippi', 'upstate', 'new', 'york', 'where', 'she', 'met', 'weston', 'they', 'become', 'family', 'in', 'a', 'trailer', 'park']\n",
      "-9.574922187626361\n",
      "------\n",
      "['there', 'was', 'a', 'kind', 'girl', 'whose', 'name', 'is', 'jane', 'she', 'was', 'beloved', 'by', 'the', 'children', 'her', 'mother', 'said', 'goodbye', 'she', 'died', 'very', 'early', 'there', 'was', 'probably', 'a', 'lesbian']\n",
      "-8.79141546189785\n",
      "------\n",
      "['there', 'was', 'a', 'kind', 'girl', 'whose', 'name', 'is', 'jane', 'she', 'fucking', 'shot', 'upon', 'the', 'door', 'stopped', 'the', 'house', 'up', 'brought', 'the', 'boys', 'in', 'and', 'then', 'i', 'went', 'all', 'alone']\n",
      "-11.173479426652193\n",
      "------\n",
      "['there', 'was', 'a', 'kind', 'girl', 'whose', 'name', 'is', 'jane', 'he', 'had', 'two', 'sisters', 'mila', 'and', 'horace', 'god', 'he', 'looked', 'around', 'and', 'suddenly', 'from', 'a', 'few', 'images', 'you', 'see']\n",
      "-9.714160919189453\n",
      "------\n",
      "['there', 'was', 'a', 'kind', 'girl', 'whose', 'name', 'is', 'jane', 'she', 'was', 'premature', 'and', 'her', 'home', 'beverly', 'hills', 'had', 'only', 'three', 'people', 'despite', 'madame', 'valleys', 'saying']\n",
      "-11.161913903057576\n",
      "------\n",
      "['there', 'was', 'a', 'kind', 'boy', 'whose', 'name', 'is', 'harry', 'the', 'boy', 'knew', 'the', 'morning', 'he', 'woke', 'up', 'he', 'was', 'wounded', 'and', 'crawling', 'he', 'was', 'moving', 'slowly', 'he', 'turned', 'from', 'the', 'fountains', 'directions']\n",
      "-9.857666470110416\n",
      "------\n",
      "['there', 'was', 'a', 'kind', 'boy', 'whose', 'name', 'is', 'harry', 'there', 'was', 'a', 'woman', 'named', 'miriam', 'he', 'barely', 'after', 'fifteen', 'maybe', 'fourteen', 'she', 'was', 'sixteen', 'at', 'that', 'point']\n",
      "-10.638621241226792\n",
      "------\n",
      "['there', 'was', 'a', 'kind', 'boy', 'whose', 'name', 'is', 'harry', 'i', 'remember', 'asking', 'him', 'where', 'are', 'you', 'from', 'he', 'gave', 'me', 'all', 'the', 'answers', 'while', 'sherlock', 'recognized', 'him', 'instantly']\n",
      "-7.766281464323401\n",
      "------\n",
      "['there', 'was', 'a', 'kind', 'boy', 'whose', 'name', 'is', 'harry', 'he', 'had', 'drowned', 'in', 'the', 'river', 'small', 'children', 'waiting', 'it', 'out', 'draco', 'looks', 'startled', 'and', 'suddenly', 'takes', 'it', 'in', 'his', 'hands']\n",
      "-9.899080183915794\n",
      "------\n",
      "['there', 'was', 'a', 'kind', 'boy', 'whose', 'name', 'is', 'harry', 'the', 'wolf', 'cut', 'his', 'head', 'off', 'and', 'said', 'where', 'have', 'you', 'go', 'all', 'around', 'here', 'he', 'said', 'there', 'were', 'plumes', 'of', 'spite', 'in', 'all', 'places']\n",
      "-8.022934218868613\n",
      "------\n",
      "['there', 'was', 'a', 'kind', 'boy', 'whose', 'name', 'is', 'harry', 'he', 'had', 'not', 'been', 'of', 'neville', 'family', 'i', 'knew', 'better', 'so', 'i', 'jumped', 'to', 'meet', 'him', 'where', 'are', 'the', 'librarians']\n",
      "-10.2148742379155\n",
      "------\n",
      "['there', 'was', 'a', 'kind', 'boy', 'whose', 'name', 'is', 'harry', 'it', 'was', 'one', 'of', 'the', 'puppets', 'bearded', 'and', 'rhyming', 'with', 'a', 'switch', 'on', 'his', 'forehead', 'he', 'was', 'like', 'a', 'hog', 'on', 'a', 'greyhound']\n",
      "-8.628069877624512\n",
      "------\n",
      "['there', 'was', 'a', 'kind', 'boy', 'whose', 'name', 'is', 'harry', 'we', 'would', 'watch', 'each', 'other', 'looks', 'like', 'potty', 'and', 'obviously', 'eyes', 'need', 'a', 'mother', 'look', 'at', 'each', 'other', 'with', 'love']\n",
      "-10.84165536686778\n",
      "------\n",
      "['there', 'was', 'a', 'kind', 'boy', 'whose', 'name', 'is', 'harry', 'he', 'had', 'a', 'crack', 'in', 'the', 'back', 'they', 'tried', 'to', 'kick', 'my', 'ass', 'but', 'i', 'hit', 'him', 'once', 'they', 'hit', 'him', 'again', 'after', 'that']\n",
      "-9.85540424734354\n",
      "------\n",
      "['there', 'was', 'a', 'kind', 'boy', 'whose', 'name', 'is', 'harry', 'in', 'the', 'united', 'states', 'he', 'was', 'thirteen', 'at', 'the', 'age', 'of', 'twelve', 'brought', 'here', 'on', 'an', 'emigrant', 'who', 'proceeded', 'out', 'of', 'transylvania']\n",
      "-10.382973670959473\n",
      "------\n",
      "['there', 'was', 'a', 'clever', 'boy', 'whose', 'name', 'is', 'james', 'he', 'had', 'certainly', 'got', 'through', 'it', 'though', 'not', 'so', 'well', 'he', 'fouled', 'the', 'ball', 'upright', 'it', 'was', 'a', 'very', 'elegant']\n",
      "-7.986245023831725\n",
      "------\n",
      "['there', 'was', 'a', 'clever', 'boy', 'whose', 'name', 'is', 'james', 'he', 'never', 'understood', 'his', 'name', 'when', 'he', 'went', 'out', 'at', 'eight', 'on', 'top', 'of', 'his', 'head', 'right', 'up', 'to', 'the', 'fortieth', 'year']\n",
      "-10.052515859156847\n",
      "------\n",
      "['there', 'was', 'a', 'clever', 'boy', 'whose', 'name', 'is', 'james', 'i', 'told', 'him', 'to', 'stop', 'saying', 'that', 'he', 'opened', 'his', 'eyes', 'came', 'down', 'to', 'him', 'and', 'said', 'hey', 'world', 'cant', 'handle', 'a', 'bastard']\n",
      "-8.73204399588285\n",
      "------\n",
      "['there', 'was', 'a', 'clever', 'boy', 'whose', 'name', 'is', 'james', 'he', 'sat', 'on', 'the', 'deck', 'of', 'a', 'scottish', 'ship', 'and', 'i', 'florin', 'made', 'earplugs', 'for', 'him', 'i', 'still', 'remember', 'that', 'day']\n",
      "-11.28464433401823\n",
      "------\n",
      "['there', 'was', 'a', 'clever', 'boy', 'whose', 'name', 'is', 'james', 'andrew', 'said', 'god', 'gives', 'to', 'man', 'who', 'repent', 'he', 'saved', 'his', 'brother', 'james', 'but', 'having', 'loved', 'his', 'brother', 'the', 'lord', 'gave', 'up', 'due', 'honour', 'to', 'him']\n",
      "-11.462426402047276\n",
      "------\n",
      "['there', 'was', 'a', 'clever', 'boy', 'whose', 'name', 'is', 'james', 'but', 'when', 'my', 'grandmothers', 'spirit', 'hit', 'her', 'he', 'paid', 'for', 'it', 'went', 'back', 'to', 'fairies', 'and', 'cut', 'off', 'her', 'one', 'daughter']\n",
      "-11.506130937859416\n",
      "------\n",
      "['there', 'was', 'a', 'clever', 'boy', 'whose', 'name', 'is', 'james', 'you', 'could', 'hardly', 'call', 'him', 'james', 'boy', 'but', 'he', 'was', 'so', 'elegant', 'and', 'so', 'charming', 'he', 'was', 'also', 'a', 'god', 'and', 'hero']\n",
      "-9.71513302475214\n",
      "------\n",
      "['there', 'was', 'a', 'clever', 'boy', 'whose', 'name', 'is', 'james', 'he', 'looks', 'up', 'at', 'me', 'and', 'says', 'something', 'like', 'what', 'time', 'is', 'it', 'and', 'i', 'bit', 'my', 'lip', 'it', 'was', 'my', 'fathers', 'birthday']\n",
      "-8.15291368328035\n",
      "------\n",
      "['there', 'was', 'a', 'clever', 'boy', 'whose', 'name', 'is', 'james', 'from', 'a', 'who', 'overheard', 'his', 'confession', 'he', 'grew', 'restless', 'and', 'he', 'sneaked', 'out', 'and', 'it', 'was', 'too', 'late', 'for', 'him']\n",
      "-12.410546282865107\n",
      "------\n",
      "['there', 'was', 'a', 'clever', 'boy', 'whose', 'name', 'is', 'james', 'a', 'highly', 'intelligent', 'man', 'a', 'person', 'of', 'trade', 'belief', 'in', 'god', 'and', 'knowing', 'all', 'the', 'things', 'that', 'are', 'known']\n",
      "-11.789296489208937\n",
      "------\n"
     ]
    }
   ],
   "source": [
    "for encode in encodes:\n",
    "    print(encode[1])\n",
    "    print(np.mean(encode[2]) + lg.word_embedding_coefficient*encode[3])\n",
    "    print(\"------\")"
   ]
  },
  {
   "cell_type": "code",
   "execution_count": 15,
   "metadata": {},
   "outputs": [
    {
     "data": {
      "image/png": "[encoded data removed]",
      "text/plain": [
       "<Figure size 432x288 with 1 Axes>"
      ]
     },
     "metadata": {
      "needs_background": "light"
     },
     "output_type": "display_data"
    }
   ],
   "source": [
    "import matplotlib.pyplot as plt\n",
    "\n",
    "plt.hist([np.mean(encode[2]) + lg.word_embedding_coefficient*encode[3] for encode in encodes], \n",
    "         color = 'blue', edgecolor = 'black', bins = 10)\n",
    "plt.show()"
   ]
  },
  {
   "cell_type": "code",
   "execution_count": 27,
   "metadata": {},
   "outputs": [
    {
     "name": "stdout",
     "output_type": "stream",
     "text": [
      "score generated successfully\n",
      "saved at limericks_data_experiment/30_poems_generated_at_23_59_55.p\n"
     ]
    }
   ],
   "source": [
    "print(\"score generated successfully\")\n",
    "now = datetime.now().time() # time object\n",
    "file_name = \"limericks_data_experiment/\" + str(len(poems)) + \"_poems_generated_at_\" + now.strftime(\"%H_%M_%S\") + \".p\"\n",
    "print(\"saved at \" + file_name)\n",
    "pickle.dump(encodes, open(file_name, \"wb\"))"
   ]
  },
  {
   "cell_type": "code",
   "execution_count": null,
   "metadata": {},
   "outputs": [],
   "source": []
  }
 ],
 "metadata": {
  "kernelspec": {
   "display_name": "Python 3",
   "language": "python",
   "name": "python3"
  },
  "language_info": {
   "codemirror_mode": {
    "name": "ipython",
    "version": 3
   },
   "file_extension": ".py",
   "mimetype": "text/x-python",
   "name": "python",
   "nbconvert_exporter": "python",
   "pygments_lexer": "ipython3",
   "version": "3.7.0"
  }
 },
 "nbformat": 4,
 "nbformat_minor": 2
}
