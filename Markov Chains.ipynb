{
 "cells": [
  {
   "cell_type": "code",
   "execution_count": 1,
   "metadata": {},
   "outputs": [],
   "source": [
    "%load_ext autoreload\n",
    "%autoreload 2"
   ]
  },
  {
   "cell_type": "code",
   "execution_count": 5,
   "metadata": {},
   "outputs": [],
   "source": [
    "# from py_files.Limericks import Limerick_Generate\n",
    "from py_files.templates import *\n",
    "\n",
    "import re\n",
    "import random\n",
    "import pickle"
   ]
  },
  {
   "cell_type": "code",
   "execution_count": 3,
   "metadata": {},
   "outputs": [],
   "source": [
    "def clean_corpus(file):\n",
    "    corpus = open(file, encoding='latin1')\n",
    "    raw_text = corpus.read()\n",
    "    \n",
    "    processed_text = re.sub(r'[0-9]', r'', raw_text)\n",
    "    processed_text = re.sub(r'\\n\\n', r' ', processed_text)\n",
    "    processed_text = re.sub(r'[.,?!;:]', r'', processed_text).lower().split()\n",
    "    corpus.close()\n",
    "    return processed_text\n",
    "\n",
    "def train_on_corpus(processed_text):\n",
    "    chain = {}\n",
    "    for i in range(1, len(processed_text)):\n",
    "        key = processed_text[i - 1]\n",
    "        token = processed_text[i]\n",
    "        if key not in chain:\n",
    "            chain[key] = []\n",
    "        chain[key].append(token)\n",
    "    return chain"
   ]
  },
  {
   "cell_type": "code",
   "execution_count": 11,
   "metadata": {},
   "outputs": [],
   "source": [
    "all_tokens = [*clean_corpus('data/all_combined/input.txt'), *clean_corpus('data/limericks.txt'),\n",
    "             *clean_corpus('data/gutenberg-poetry-v001.txt')]"
   ]
  },
  {
   "cell_type": "code",
   "execution_count": 6,
   "metadata": {},
   "outputs": [],
   "source": [
    "with open('py_files/saved_objects/postag_dict_all.p', 'rb') as f:\n",
    "    postag = pickle.load(f)\n",
    "    \n",
    "pos_to_words = postag[1]\n",
    "words_to_pos = postag[2]"
   ]
  },
  {
   "cell_type": "code",
   "execution_count": 12,
   "metadata": {},
   "outputs": [
    {
     "name": "stdout",
     "output_type": "stream",
     "text": [
      "CPU times: user 28.5 s, sys: 1.92 s, total: 30.4 s\n",
      "Wall time: 30.6 s\n"
     ]
    }
   ],
   "source": [
    "%%time\n",
    "\n",
    "forward_chain = train_on_corpus(all_tokens)\n",
    "all_tokens.reverse()\n",
    "backward_chain = train_on_corpus(all_tokens)"
   ]
  },
  {
   "cell_type": "code",
   "execution_count": 13,
   "metadata": {},
   "outputs": [],
   "source": [
    "def fill_word_pos(chain, pos, prev):\n",
    "    if pos in ['.', ',']:\n",
    "        return pos\n",
    "    i = 0\n",
    "    if prev is None or prev is '[EMPTY]':\n",
    "        word = random.choice(list(chain.keys()))\n",
    "        while pos not in words_to_pos[word] and i < 100:\n",
    "            word = random.choice(list(chain.keys()))\n",
    "            i += 1\n",
    "        if i >= 100:\n",
    "            word = random.choice(pos_to_words[pos])\n",
    "        return word\n",
    "    # o/w has a previous word\n",
    "    word = random.choice(chain[prev])\n",
    "    while pos not in words_to_pos[word] and i < 100:\n",
    "        word = random.choice(chain[prev])\n",
    "        i += 1\n",
    "    if i >= 100:\n",
    "        word = random.choice(pos_to_words[pos])\n",
    "    return word\n",
    "        \n",
    "def fill_forward(template):\n",
    "    prev_word = None\n",
    "    line = []\n",
    "    for pos in template:\n",
    "        line.append(fill_word_pos(forward_chain, pos, prev_word))\n",
    "        prev_word = line[-1]\n",
    "    return line\n",
    "    \n",
    "def fill_rand_templates(template, num_gen=10):\n",
    "    for i in range(num_gen):\n",
    "        line = fill_forward(t)\n",
    "        print(\"*****************\")\n",
    "        print(line)\n",
    "        print(t)"
   ]
  },
  {
   "cell_type": "code",
   "execution_count": 14,
   "metadata": {},
   "outputs": [],
   "source": [
    "first_templates = get_first_line()\n",
    "dataset, second_line, third_line, last_two = get_templates()\n",
    "templates = {\n",
    "    1: first_templates,\n",
    "    2: second_line,\n",
    "    3: third_line,\n",
    "    4: last_two\n",
    "}"
   ]
  },
  {
   "cell_type": "code",
   "execution_count": 17,
   "metadata": {},
   "outputs": [
    {
     "name": "stdout",
     "output_type": "stream",
     "text": [
      "['soon', 'a', 'happy', 'thought', 'hit', 'her']\n",
      "*****************\n",
      "['fitfully', 'the', 'consecrated', 'bower', 'faced', 'my']\n",
      "['RB', 'DT', 'JJ', 'NN', 'VBD', 'PRP$']\n",
      "*****************\n",
      "['madly', 'another', 'worn', 'song', 'was', 'his']\n",
      "['RB', 'DT', 'JJ', 'NN', 'VBD', 'PRP$']\n",
      "*****************\n",
      "['imagind', 'these', 'lethal', 'vapor', 'was', 'his']\n",
      "['RB', 'DT', 'JJ', 'NN', 'VBD', 'PRP$']\n",
      "*****************\n",
      "['silverly', 'the', 'small', 'table', 'drank', 'their']\n",
      "['RB', 'DT', 'JJ', 'NN', 'VBD', 'PRP$']\n",
      "*****************\n",
      "['flexibly', 'some', 'poor', 'blind', 'said', 'their']\n",
      "['RB', 'DT', 'JJ', 'NN', 'VBD', 'PRP$']\n",
      "*****************\n",
      "['monotonously', 'the', 'hollow', 'pearl', 'poured', 'his']\n",
      "['RB', 'DT', 'JJ', 'NN', 'VBD', 'PRP$']\n",
      "*****************\n",
      "['deadliness', 'every', 'good', 'mother', 'lent', 'its']\n",
      "['RB', 'DT', 'JJ', 'NN', 'VBD', 'PRP$']\n",
      "*****************\n",
      "['lovingly', 'each', 'rocky', 'seat', 'took', 'their']\n",
      "['RB', 'DT', 'JJ', 'NN', 'VBD', 'PRP$']\n",
      "*****************\n",
      "['affectionately', 'the', 'sacred', 'dream', 'fled', 'our']\n",
      "['RB', 'DT', 'JJ', 'NN', 'VBD', 'PRP$']\n",
      "*****************\n",
      "['instinctively', 'each', 'holy', 'holy', 'was', 'our']\n",
      "['RB', 'DT', 'JJ', 'NN', 'VBD', 'PRP$']\n"
     ]
    }
   ],
   "source": [
    "l = random.choice(list(dataset.values()))\n",
    "t, og = random.choice(l)\n",
    "print(og)\n",
    "fill_rand_templates(t)"
   ]
  },
  {
   "cell_type": "code",
   "execution_count": 21,
   "metadata": {},
   "outputs": [],
   "source": [
    "def fill_backward(template, prev_word=None):\n",
    "    if prev_word:\n",
    "        line = [prev_word]\n",
    "    else:\n",
    "        line = []\n",
    "    i = len(template) - len(line) - 1\n",
    "    while i >= 0:\n",
    "        pos = template[i]\n",
    "        line.insert(0, fill_word_pos(backward_chain, pos, prev_word))\n",
    "        if line[0] not in ['.', ',']:\n",
    "            prev_word = line[0]\n",
    "        i -= 1\n",
    "    return line\n",
    "\n",
    "def gen_poem(five_words):\n",
    "    poem = []\n",
    "    for i in range(3):\n",
    "        word_pos = words_to_pos[five_words[i]][0]\n",
    "        t, og = random.choice(templates[i + 1][word_pos])\n",
    "        poem.append((fill_backward(t, prev_word=five_words[i]), t, og))\n",
    "    last_two_pos = words_to_pos[five_words[3]][0] + '-' + words_to_pos[five_words[4]][0]\n",
    "    t, og, idx = random.choice(templates[4][last_two_pos])\n",
    "    poem.append((fill_backward(t[:idx + 1], prev_word=five_words[3]), t[:idx + 1], og[:idx + 1]))\n",
    "    poem.append((fill_backward(t[idx + 1:], prev_word=five_words[4]), t[idx + 1:], og[idx + 1:]))\n",
    "    return poem"
   ]
  },
  {
   "cell_type": "code",
   "execution_count": 22,
   "metadata": {},
   "outputs": [],
   "source": [
    "def print_poem(five_words):\n",
    "    for line, template, og in gen_poem(five_words):\n",
    "        print(' '.join(line))\n",
    "        print(template)\n",
    "        print(og)\n",
    "        print('**********************')"
   ]
  },
  {
   "cell_type": "code",
   "execution_count": 23,
   "metadata": {},
   "outputs": [
    {
     "name": "stdout",
     "output_type": "stream",
     "text": [
      "there found a manly pride sent greece\n",
      "['EX', 'VBD', 'DT', 'JJ', 'NN', 'VBN', 'NNP']\n",
      "['there', 'was', 'a', 'young', 'fellow', 'called', 'binn']\n",
      "**********************\n",
      "who loved the picture of peace\n",
      "['WHO', 'VBD', 'DT', 'NN', 'IN', 'NN']\n",
      "['who', 'hadnt', 'an', 'atom', 'of', 'fear']\n",
      "**********************\n",
      "himself lackeyed twentyeight to mind\n",
      "['PRP', 'VBD', 'CD', 'TO', 'NN']\n",
      "['she', 'gave', 'one', 'to', 'adam']\n",
      "**********************\n",
      "he was so human kind\n",
      "['PRP', 'VBD', 'SO', 'JJ', 'NN']\n",
      "['she', 'ate', 'so', 'much', 'spice']\n",
      "**********************\n",
      "that they called it hot piece\n",
      "['IN', 'PRP', 'VBD', 'PRP', 'JJ', 'NN']\n",
      "['that', 'she', 'pickled', 'her', 'internal', \"workins'\"]\n",
      "**********************\n"
     ]
    }
   ],
   "source": [
    "print_poem(('greece', 'peace', 'mind', 'kind', 'piece'))"
   ]
  },
  {
   "cell_type": "code",
   "execution_count": 29,
   "metadata": {},
   "outputs": [
    {
     "name": "stdout",
     "output_type": "stream",
     "text": [
      "there here bribed the wind in the dane\n",
      "['EX', 'RB', 'VBD', 'DT', 'NN', 'IN', 'DT', 'NN']\n",
      "['there', 'once', 'was', 'a', 'fly', 'on', 'the', 'wall']\n",
      "**********************\n",
      "who cut off their bones as doth gain\n",
      "['WHO', 'VBD', 'RP', 'PRP$', 'NNS', 'IN', 'DT', 'NN']\n",
      "['who', 'sent', 'out', 'his', 'cards', 'for', 'a', 'party']\n",
      "**********************\n",
      "and our birdsong , wellgristled decrease\n",
      "['CC', 'PRP$', 'NN', ',', 'VBN', 'NN']\n",
      "['but', 'his', 'daughter', ',', 'named', 'nan']\n",
      "**********************\n",
      "it is no increase\n",
      "['PRP', 'VBZ', 'DT', 'NN']\n",
      "['she', \"'s\", 'a', 'person']\n",
      "**********************\n",
      "when me molest me , i have exhausted every vein\n",
      "['WHEN', 'PRP', 'VBP', 'PRP', ',', 'PRP', 'VBP', 'VBN', 'DT', 'NN']\n",
      "['when', 'I', 'wear', 'it', ',', 'I', 'am', 'called', 'a', 'vermine']\n",
      "**********************\n"
     ]
    }
   ],
   "source": [
    "print_poem(('dane', 'gain', 'decrease', 'increase', 'vein'))"
   ]
  },
  {
   "cell_type": "code",
   "execution_count": 32,
   "metadata": {},
   "outputs": [
    {
     "name": "stdout",
     "output_type": "stream",
     "text": [
      "there held a general system described thrace\n",
      "['EX', 'VBD', 'DT', 'JJ', 'NN', 'VBN', 'NNP']\n",
      "['there', 'was', 'a', 'young', 'lady', 'named', 'rose']\n",
      "**********************\n",
      "who thought with thy face\n",
      "['WHO', 'VBD', 'IN', 'JJ', 'NN']\n",
      "['who', 'lived', 'on', 'distilled', 'kerosene']\n",
      "**********************\n",
      "and its honey , made report\n",
      "['CC', 'PRP$', 'NN', ',', 'VBN', 'NN']\n",
      "['but', 'his', 'daughter', ',', 'named', 'nan']\n",
      "**********************\n",
      "fry yet melt into the court\n",
      "['VBP', 'RB', 'VB', 'IN', 'DT', 'NN']\n",
      "['do', \"n't\", 'spit', 'on', 'the', 'floor']\n",
      "**********************\n",
      "so they left now and scrap of this case\n",
      "['SO', 'PRP', 'VBD', 'RB', 'CC', 'VB', 'IN', 'DT', 'NN']\n",
      "['so', 'he', 'jumped', 'up', 'and', 'spat', 'on', 'the', 'ceiling']\n",
      "**********************\n"
     ]
    }
   ],
   "source": [
    "print_poem(('thrace', 'face', 'report', 'court', 'case'))"
   ]
  },
  {
   "cell_type": "code",
   "execution_count": 127,
   "metadata": {},
   "outputs": [
    {
     "name": "stdout",
     "output_type": "stream",
     "text": [
      "The course of Time and nationsEgypt, India, Greece and \n",
      "\n"
     ]
    }
   ],
   "source": [
    "with open('data/all_combined/input.txt', encoding='latin1') as f:\n",
    "    for i, line in enumerate(f):\n",
    "        if i == 40841:\n",
    "            print(line)"
   ]
  },
  {
   "cell_type": "code",
   "execution_count": 221,
   "metadata": {},
   "outputs": [],
   "source": [
    "postag[1] = lg.pos_to_words\n",
    "postag[2] = lg.words_to_pos\n",
    "\n",
    "with open('py_files/saved_objects/postag_dict_all.p', 'wb') as f:\n",
    "    pickle.dump(postag, f)"
   ]
  },
  {
   "cell_type": "code",
   "execution_count": null,
   "metadata": {},
   "outputs": [],
   "source": []
  }
 ],
 "metadata": {
  "kernelspec": {
   "display_name": "Python 3",
   "language": "python",
   "name": "python3"
  },
  "language_info": {
   "codemirror_mode": {
    "name": "ipython",
    "version": 3
   },
   "file_extension": ".py",
   "mimetype": "text/x-python",
   "name": "python",
   "nbconvert_exporter": "python",
   "pygments_lexer": "ipython3",
   "version": "3.6.0"
  }
 },
 "nbformat": 4,
 "nbformat_minor": 2
}
