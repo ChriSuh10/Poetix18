{
 "cells": [
  {
   "cell_type": "code",
   "execution_count": 1,
   "metadata": {},
   "outputs": [
    {
     "name": "stderr",
     "output_type": "stream",
     "text": [
      "c:\\users\\hp\\anaconda2\\envs\\translator\\lib\\site-packages\\h5py\\__init__.py:36: FutureWarning: Conversion of the second argument of issubdtype from `float` to `np.floating` is deprecated. In future, it will be treated as `np.float64 == np.dtype(float).type`.\n",
      "  from ._conv import register_converters as _register_converters\n",
      "c:\\users\\hp\\anaconda2\\envs\\translator\\lib\\site-packages\\gensim\\utils.py:1209: UserWarning: detected Windows; aliasing chunkize to chunkize_serial\n",
      "  warnings.warn(\"detected Windows; aliasing chunkize to chunkize_serial\")\n"
     ]
    }
   ],
   "source": [
    "import importlib\n",
    "from Generate import *\n",
    "from functions import *\n",
    "from Traversal_Glove import *\n",
    "from limerick import *"
   ]
  },
  {
   "cell_type": "markdown",
   "metadata": {},
   "source": [
    "### Generate limericks without metric"
   ]
  },
  {
   "cell_type": "code",
   "execution_count": 2,
   "metadata": {},
   "outputs": [],
   "source": [
    "lim=limerick()"
   ]
  },
  {
   "cell_type": "code",
   "execution_count": 3,
   "metadata": {},
   "outputs": [
    {
     "name": "stdout",
     "output_type": "stream",
     "text": [
      "Five words are:  ('grace', 'support', 'court', 'case')\n",
      "['NN', 'NN', 'NN', 'NN']\n",
      "(['RB', 'VBN', 'IN', 'DT', 'NN', 'IN', 'DT', 'NN'], ['once', 'fished', 'from', 'the', 'edge', 'of', 'a', 'fissure'])\n",
      "WARNING:tensorflow:From C:\\Users\\hp\\Desktop\\Poetix18-master\\model_back.py:37: BasicLSTMCell.__init__ (from tensorflow.python.ops.rnn_cell_impl) is deprecated and will be removed in a future version.\n",
      "Instructions for updating:\n",
      "This class is deprecated, please use tf.nn.rnn_cell.LSTMCell, which supports all the feature this cell currently has. Please replace the existing code with tf.nn.rnn_cell.LSTMCell(name='basic_lstm_cell').\n",
      "INFO:tensorflow:Restoring parameters from all_combined_back\\model.ckpt-120000\n",
      "Generation took 21.563 seconds\n",
      "(['NN', 'DT', 'NN', 'NN'], ['youre', 'a', 'simpleton', 'loon'])\n",
      "INFO:tensorflow:Restoring parameters from all_combined_back\\model.ckpt-120000\n",
      "Generation took 11.153 seconds\n",
      "(['TO', 'VB', 'VBG', 'DT', 'NN', 'DT', 'NN', 'NN'], ['to', 'start', 'giving', 'this', 'house', 'a', 'spring', 'clean'])\n",
      "INFO:tensorflow:Restoring parameters from all_combined_back\\model.ckpt-120000\n",
      "Generation took 13.522 seconds\n",
      "(['TO', 'VB', 'VBG', 'DT', 'NN', 'DT', 'NN', 'NN'], ['to', 'start', 'giving', 'this', 'house', 'a', 'spring', 'clean'])\n",
      "INFO:tensorflow:Restoring parameters from all_combined_forward\\model.ckpt-114000\n",
      "25676\n",
      "INFO:tensorflow:Restoring parameters from all_combined_forward\\model.ckpt-114000\n",
      "Generation took 27.559 seconds\n",
      "INFO:tensorflow:Restoring parameters from all_combined_forward\\model.ckpt-114000\n",
      "['RB', 'VBN', 'IN', 'DT', 'NN', 'IN', 'DT', 'NN']\n",
      "['NN', 'DT', 'NN', 'NN']\n",
      "['TO', 'VB', 'VBG', 'DT', 'NN', 'DT', 'NN', 'NN']\n",
      "['TO', 'VB', 'VBG', 'DT', 'NN', 'DT', 'NN', 'NN']\n",
      "*************\n",
      "\n",
      "\n",
      "not come in the rest of every grace\n",
      "round the clouds support\n",
      "to help telling the way that pours court\n",
      "to sleep taking a moment the way case\n"
     ]
    }
   ],
   "source": [
    "lim.gen_limerick('grace')"
   ]
  },
  {
   "cell_type": "markdown",
   "metadata": {},
   "source": [
    "# Generate Sonnets without metric"
   ]
  },
  {
   "cell_type": "code",
   "execution_count": 4,
   "metadata": {},
   "outputs": [],
   "source": [
    "gen=Generate(wv_file='./storyline_for_reference/glove.6B.300d.word2vec.txt')"
   ]
  },
  {
   "cell_type": "code",
   "execution_count": 5,
   "metadata": {},
   "outputs": [
    {
     "name": "stdout",
     "output_type": "stream",
     "text": [
      "#################################\n",
      "\n",
      "25676\n",
      "INFO:tensorflow:Restoring parameters from all_combined_forward\\model.ckpt-114000\n",
      "Generation took 11.271 seconds\n",
      "INFO:tensorflow:Restoring parameters from all_combined_forward\\model.ckpt-114000\n",
      "INFO:tensorflow:Restoring parameters from all_combined_forward\\model.ckpt-114000\n",
      "INFO:tensorflow:Restoring parameters from all_combined_back\\model.ckpt-120000\n"
     ]
    },
    {
     "ename": "TypeError",
     "evalue": "search_back() missing 2 required positional arguments: 'TemplateSyllables' and 'dictSyllables'",
     "output_type": "error",
     "traceback": [
      "\u001b[1;31m---------------------------------------------------------------------------\u001b[0m",
      "\u001b[1;31mTypeError\u001b[0m                                 Traceback (most recent call last)",
      "\u001b[1;32m<ipython-input-5-998bdb083f3f>\u001b[0m in \u001b[0;36m<module>\u001b[1;34m()\u001b[0m\n\u001b[1;32m----> 1\u001b[1;33m \u001b[0mk\u001b[0m\u001b[1;33m=\u001b[0m\u001b[0mgen\u001b[0m\u001b[1;33m.\u001b[0m\u001b[0mgenerate_line\u001b[0m\u001b[1;33m(\u001b[0m\u001b[1;34m'stars'\u001b[0m\u001b[1;33m,\u001b[0m\u001b[1;34m'sky'\u001b[0m\u001b[1;33m,\u001b[0m\u001b[0mpostag_\u001b[0m\u001b[1;33m=\u001b[0m\u001b[1;33m(\u001b[0m\u001b[1;33m[\u001b[0m\u001b[1;34m\"DT\"\u001b[0m\u001b[1;33m,\u001b[0m\u001b[1;34m'NNS'\u001b[0m\u001b[1;33m,\u001b[0m \u001b[1;34m'VB'\u001b[0m\u001b[1;33m,\u001b[0m\u001b[1;34m\"IN\"\u001b[0m\u001b[1;33m,\u001b[0m\u001b[1;34m\"DT\"\u001b[0m\u001b[1;33m,\u001b[0m \u001b[1;34m'NN'\u001b[0m\u001b[1;33m]\u001b[0m\u001b[1;33m,\u001b[0m\u001b[1;33m[\u001b[0m\u001b[1;36m1\u001b[0m\u001b[1;33m,\u001b[0m\u001b[1;36m5\u001b[0m\u001b[1;33m]\u001b[0m\u001b[1;33m,\u001b[0m\u001b[1;33m[\u001b[0m\u001b[1;34m\"stars\"\u001b[0m\u001b[1;33m,\u001b[0m\u001b[1;34m\"sky\"\u001b[0m\u001b[1;33m]\u001b[0m\u001b[1;33m)\u001b[0m\u001b[1;33m)\u001b[0m\u001b[1;33m\u001b[0m\u001b[0m\n\u001b[0m",
      "\u001b[1;32m~\\Desktop\\Poetix18-master\\Generate.py\u001b[0m in \u001b[0;36mgenerate_line\u001b[1;34m(self, word1, word2, postag_)\u001b[0m\n\u001b[0;32m    407\u001b[0m                     \u001b[1;31m#generate text before word1\u001b[0m\u001b[1;33m\u001b[0m\u001b[1;33m\u001b[0m\u001b[0m\n\u001b[0;32m    408\u001b[0m                     lst = search_back(model, vocab, init_score,seq,state, sess, 1,\\\n\u001b[1;32m--> 409\u001b[1;33m                                   self.dictPartSpeechTags,self.dictPossiblePartsSpeech,self.width,self.wordPools[wordPool_ind], self.PartOfSpeachSet, template)\n\u001b[0m\u001b[0;32m    410\u001b[0m \u001b[1;33m\u001b[0m\u001b[0m\n\u001b[0;32m    411\u001b[0m                     \u001b[0mtt_4\u001b[0m\u001b[1;33m+=\u001b[0m\u001b[0mlst\u001b[0m\u001b[1;33m\u001b[0m\u001b[0m\n",
      "\u001b[1;31mTypeError\u001b[0m: search_back() missing 2 required positional arguments: 'TemplateSyllables' and 'dictSyllables'"
     ]
    }
   ],
   "source": [
    "k=gen.generate_line('stars','sky',postag_=([\"DT\",'NNS', 'VB',\"IN\",\"DT\", 'NN'],[1,5],[\"stars\",\"sky\"]))"
   ]
  },
  {
   "cell_type": "code",
   "execution_count": null,
   "metadata": {},
   "outputs": [],
   "source": [
    "print ('*************\\n')\n",
    "#print ('POS: ', TemplatePOS)\n",
    "\n",
    "print('\\n'+' '.join(k[1][0][1][1]))"
   ]
  },
  {
   "cell_type": "code",
   "execution_count": null,
   "metadata": {},
   "outputs": [],
   "source": []
  },
  {
   "cell_type": "code",
   "execution_count": null,
   "metadata": {},
   "outputs": [],
   "source": []
  }
 ],
 "metadata": {
  "kernelspec": {
   "display_name": "Python 3",
   "language": "python",
   "name": "python3"
  },
  "language_info": {
   "codemirror_mode": {
    "name": "ipython",
    "version": 3
   },
   "file_extension": ".py",
   "mimetype": "text/x-python",
   "name": "python",
   "nbconvert_exporter": "python",
   "pygments_lexer": "ipython3",
   "version": "3.6.6"
  }
 },
 "nbformat": 4,
 "nbformat_minor": 2
}
