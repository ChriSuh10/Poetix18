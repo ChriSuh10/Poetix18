{
 "cells": [
  {
   "cell_type": "code",
   "execution_count": 3,
   "metadata": {},
   "outputs": [],
   "source": [
    "from nltk.corpus import wordnet as wn\n",
    "from nltk import word_tokenize, pos_tag"
   ]
  },
  {
   "cell_type": "code",
   "execution_count": 82,
   "metadata": {},
   "outputs": [],
   "source": [
    "def least_similar(synsets):\n",
    "    # returns entries with highest wup similarity score\n",
    "    the_max = 0\n",
    "    for i in range(len(synsets)):\n",
    "        for j in range(i + 1, len(synsets)):\n",
    "            this_similarity = synsets[i].wup_similarity(synsets[j])\n",
    "            if this_similarity is not None and this_similarity > the_max:\n",
    "                the_max = this_similarity\n",
    "                s1 = synsets[i]\n",
    "                s2 = synsets[j]\n",
    "    return (s1, s2)\n",
    "\n",
    "def first_corresponding_pos(synset):\n",
    "    # inspects definition and returns first word with same pos\n",
    "    # as input word\n",
    "    # right now only works for nouns, verbs, adjectives\n",
    "    this_pos = synset.pos()\n",
    "    def_token = word_tokenize(synset.definition())\n",
    "    \n",
    "    if this_pos == 'n':\n",
    "        pos_token = 'NN'\n",
    "    elif this_pos == 'v':\n",
    "        pos_token = 'V'\n",
    "    elif this_pos == 'a':\n",
    "        pos_token = 'JJ'\n",
    "    else:\n",
    "        raise ValueError('Input synset must be Noun, Verb, or Adjective')\n",
    "    \n",
    "    for tagged_word in pos_tag(def_token):\n",
    "        if tagged_word[1] == pos_token:\n",
    "            return tagged_word[0]\n",
    "        \n",
    "def get_two_senses(seed_word):\n",
    "    synsets = wn.synsets(seed_word)\n",
    "    pair = least_similar(synsets)\n",
    "    return first_corresponding_pos(pair[0]), first_corresponding_pos(pair[1])\n",
    "\n",
    "def traverse_wn(word):\n",
    "    # traverses wn synsets for word and returns first\n",
    "    # word in definition of synsets with same pos\n",
    "    for synset in wn.synsets(word):\n",
    "        first_pos = first_corresponding_pos(synset)\n",
    "        if first_pos is not None and first_pos != word:\n",
    "            return first_pos\n",
    "        \n",
    "def five_word_algorithm(seed_word):\n",
    "    word_c, word_d = get_two_senses(seed_word)\n",
    "    word_b = traverse_wn(word_c)\n",
    "    word_a = traverse_wn(word_b)\n",
    "    word_e = traverse_wn(word_d)\n",
    "    return word_a, word_b, word_c, word_d, word_e\n",
    "\n",
    "def print_five_words(seed_word):\n",
    "    words = five_word_algorithm(seed_word)\n",
    "    print(words[0] + '->' + words[1] + '->\\033[4m' + words[2] + \n",
    "          '\\033[0m\\033[1m~~>\\033[0m\\033[4m' + words[3] + '\\033[0m->' + words[4])"
   ]
  },
  {
   "cell_type": "code",
   "execution_count": 89,
   "metadata": {},
   "outputs": [
    {
     "name": "stdout",
     "output_type": "stream",
     "text": [
      "flesh->bird->\u001b[4mfowl\u001b[0m\u001b[1m~~>\u001b[0m\u001b[4mperson\u001b[0m->body\n",
      "person->follower->\u001b[4mdevotee\u001b[0m\u001b[1m~~>\u001b[0m\u001b[4mfollower\u001b[0m->person\n",
      "sound->noise->\u001b[4mracket\u001b[0m\u001b[1m~~>\u001b[0m\u001b[4mclub\u001b[0m->team\n",
      "property->number->\u001b[4mgroup\u001b[0m\u001b[1m~~>\u001b[0m\u001b[4munit\u001b[0m->division\n",
      "document->act->\u001b[4mjourney\u001b[0m\u001b[1m~~>\u001b[0m\u001b[4mlight\u001b[0m->radiation\n"
     ]
    }
   ],
   "source": [
    "print_five_words('chicken')\n",
    "print_five_words('fan')\n",
    "print_five_words('Bat')\n",
    "print_five_words('Battery')\n",
    "print_five_words('Trip')"
   ]
  },
  {
   "cell_type": "code",
   "execution_count": 90,
   "metadata": {},
   "outputs": [
    {
     "ename": "AttributeError",
     "evalue": "'NoneType' object has no attribute 'lower'",
     "output_type": "error",
     "traceback": [
      "\u001b[0;31m---------------------------------------------------------------------------\u001b[0m",
      "\u001b[0;31mAttributeError\u001b[0m                            Traceback (most recent call last)",
      "\u001b[0;32m<ipython-input-90-6a57e8907f79>\u001b[0m in \u001b[0;36m<module>\u001b[0;34m\u001b[0m\n\u001b[0;32m----> 1\u001b[0;31m \u001b[0mprint_five_words\u001b[0m\u001b[0;34m(\u001b[0m\u001b[0;34m'Cook'\u001b[0m\u001b[0;34m)\u001b[0m\u001b[0;34m\u001b[0m\u001b[0m\n\u001b[0m\u001b[1;32m      2\u001b[0m \u001b[0mprint_five_words\u001b[0m\u001b[0;34m(\u001b[0m\u001b[0;34m'Straw'\u001b[0m\u001b[0;34m)\u001b[0m\u001b[0;34m\u001b[0m\u001b[0m\n",
      "\u001b[0;32m<ipython-input-82-2d556f0fc712>\u001b[0m in \u001b[0;36mprint_five_words\u001b[0;34m(seed_word)\u001b[0m\n\u001b[1;32m     52\u001b[0m \u001b[0;34m\u001b[0m\u001b[0m\n\u001b[1;32m     53\u001b[0m \u001b[0;32mdef\u001b[0m \u001b[0mprint_five_words\u001b[0m\u001b[0;34m(\u001b[0m\u001b[0mseed_word\u001b[0m\u001b[0;34m)\u001b[0m\u001b[0;34m:\u001b[0m\u001b[0;34m\u001b[0m\u001b[0m\n\u001b[0;32m---> 54\u001b[0;31m     \u001b[0mwords\u001b[0m \u001b[0;34m=\u001b[0m \u001b[0mfive_word_algorithm\u001b[0m\u001b[0;34m(\u001b[0m\u001b[0mseed_word\u001b[0m\u001b[0;34m)\u001b[0m\u001b[0;34m\u001b[0m\u001b[0m\n\u001b[0m\u001b[1;32m     55\u001b[0m     print(words[0] + '->' + words[1] + '->\\033[4m' + words[2] + \n\u001b[1;32m     56\u001b[0m           '\\033[0m\\033[1m~~>\\033[0m\\033[4m' + words[3] + '\\033[0m->' + words[4])\n",
      "\u001b[0;32m<ipython-input-82-2d556f0fc712>\u001b[0m in \u001b[0;36mfive_word_algorithm\u001b[0;34m(seed_word)\u001b[0m\n\u001b[1;32m     46\u001b[0m \u001b[0;32mdef\u001b[0m \u001b[0mfive_word_algorithm\u001b[0m\u001b[0;34m(\u001b[0m\u001b[0mseed_word\u001b[0m\u001b[0;34m)\u001b[0m\u001b[0;34m:\u001b[0m\u001b[0;34m\u001b[0m\u001b[0m\n\u001b[1;32m     47\u001b[0m     \u001b[0mword_c\u001b[0m\u001b[0;34m,\u001b[0m \u001b[0mword_d\u001b[0m \u001b[0;34m=\u001b[0m \u001b[0mget_two_senses\u001b[0m\u001b[0;34m(\u001b[0m\u001b[0mseed_word\u001b[0m\u001b[0;34m)\u001b[0m\u001b[0;34m\u001b[0m\u001b[0m\n\u001b[0;32m---> 48\u001b[0;31m     \u001b[0mword_b\u001b[0m \u001b[0;34m=\u001b[0m \u001b[0mtraverse_wn\u001b[0m\u001b[0;34m(\u001b[0m\u001b[0mword_c\u001b[0m\u001b[0;34m)\u001b[0m\u001b[0;34m\u001b[0m\u001b[0m\n\u001b[0m\u001b[1;32m     49\u001b[0m     \u001b[0mword_a\u001b[0m \u001b[0;34m=\u001b[0m \u001b[0mtraverse_wn\u001b[0m\u001b[0;34m(\u001b[0m\u001b[0mword_b\u001b[0m\u001b[0;34m)\u001b[0m\u001b[0;34m\u001b[0m\u001b[0m\n\u001b[1;32m     50\u001b[0m     \u001b[0mword_e\u001b[0m \u001b[0;34m=\u001b[0m \u001b[0mtraverse_wn\u001b[0m\u001b[0;34m(\u001b[0m\u001b[0mword_d\u001b[0m\u001b[0;34m)\u001b[0m\u001b[0;34m\u001b[0m\u001b[0m\n",
      "\u001b[0;32m<ipython-input-82-2d556f0fc712>\u001b[0m in \u001b[0;36mtraverse_wn\u001b[0;34m(word)\u001b[0m\n\u001b[1;32m     39\u001b[0m     \u001b[0;31m# traverses wn synsets for word and returns first\u001b[0m\u001b[0;34m\u001b[0m\u001b[0;34m\u001b[0m\u001b[0m\n\u001b[1;32m     40\u001b[0m     \u001b[0;31m# word in definition of synsets with same pos\u001b[0m\u001b[0;34m\u001b[0m\u001b[0;34m\u001b[0m\u001b[0m\n\u001b[0;32m---> 41\u001b[0;31m     \u001b[0;32mfor\u001b[0m \u001b[0msynset\u001b[0m \u001b[0;32min\u001b[0m \u001b[0mwn\u001b[0m\u001b[0;34m.\u001b[0m\u001b[0msynsets\u001b[0m\u001b[0;34m(\u001b[0m\u001b[0mword\u001b[0m\u001b[0;34m)\u001b[0m\u001b[0;34m:\u001b[0m\u001b[0;34m\u001b[0m\u001b[0m\n\u001b[0m\u001b[1;32m     42\u001b[0m         \u001b[0mfirst_pos\u001b[0m \u001b[0;34m=\u001b[0m \u001b[0mfirst_corresponding_pos\u001b[0m\u001b[0;34m(\u001b[0m\u001b[0msynset\u001b[0m\u001b[0;34m)\u001b[0m\u001b[0;34m\u001b[0m\u001b[0m\n\u001b[1;32m     43\u001b[0m         \u001b[0;32mif\u001b[0m \u001b[0mfirst_pos\u001b[0m \u001b[0;32mis\u001b[0m \u001b[0;32mnot\u001b[0m \u001b[0;32mNone\u001b[0m \u001b[0;32mand\u001b[0m \u001b[0mfirst_pos\u001b[0m \u001b[0;34m!=\u001b[0m \u001b[0mword\u001b[0m\u001b[0;34m:\u001b[0m\u001b[0;34m\u001b[0m\u001b[0m\n",
      "\u001b[0;32m~/.pyenv/versions/3.7.0/envs/poetix/lib/python3.7/site-packages/nltk/corpus/reader/wordnet.py\u001b[0m in \u001b[0;36msynsets\u001b[0;34m(self, lemma, pos, lang, check_exceptions)\u001b[0m\n\u001b[1;32m   1531\u001b[0m         \u001b[0mof\u001b[0m \u001b[0mthat\u001b[0m \u001b[0mlanguage\u001b[0m \u001b[0mwill\u001b[0m \u001b[0mbe\u001b[0m \u001b[0mreturned\u001b[0m\u001b[0;34m.\u001b[0m\u001b[0;34m\u001b[0m\u001b[0m\n\u001b[1;32m   1532\u001b[0m         \"\"\"\n\u001b[0;32m-> 1533\u001b[0;31m         \u001b[0mlemma\u001b[0m \u001b[0;34m=\u001b[0m \u001b[0mlemma\u001b[0m\u001b[0;34m.\u001b[0m\u001b[0mlower\u001b[0m\u001b[0;34m(\u001b[0m\u001b[0;34m)\u001b[0m\u001b[0;34m\u001b[0m\u001b[0m\n\u001b[0m\u001b[1;32m   1534\u001b[0m \u001b[0;34m\u001b[0m\u001b[0m\n\u001b[1;32m   1535\u001b[0m         \u001b[0;32mif\u001b[0m \u001b[0mlang\u001b[0m \u001b[0;34m==\u001b[0m \u001b[0;34m'eng'\u001b[0m\u001b[0;34m:\u001b[0m\u001b[0;34m\u001b[0m\u001b[0m\n",
      "\u001b[0;31mAttributeError\u001b[0m: 'NoneType' object has no attribute 'lower'"
     ]
    }
   ],
   "source": [
    "print_five_words('Cook')\n",
    "print_five_words('Straw')"
   ]
  },
  {
   "cell_type": "code",
   "execution_count": null,
   "metadata": {},
   "outputs": [],
   "source": []
  }
 ],
 "metadata": {
  "kernelspec": {
   "display_name": "Python 3",
   "language": "python",
   "name": "python3"
  },
  "language_info": {
   "codemirror_mode": {
    "name": "ipython",
    "version": 3
   },
   "file_extension": ".py",
   "mimetype": "text/x-python",
   "name": "python",
   "nbconvert_exporter": "python",
   "pygments_lexer": "ipython3",
   "version": "3.7.0"
  }
 },
 "nbformat": 4,
 "nbformat_minor": 2
}
