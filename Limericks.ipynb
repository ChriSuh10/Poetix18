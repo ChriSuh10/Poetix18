{
 "cells": [
  {
   "cell_type": "code",
   "execution_count": 1,
   "metadata": {},
   "outputs": [],
   "source": [
    "%load_ext autoreload\n",
    "%autoreload 2"
   ]
  },
  {
   "cell_type": "code",
   "execution_count": 2,
   "metadata": {},
   "outputs": [],
   "source": [
    "from py_files.Limericks import Limerick_Generate"
   ]
  },
  {
   "cell_type": "code",
   "execution_count": 4,
   "metadata": {},
   "outputs": [],
   "source": [
    "lg = Limerick_Generate(\n",
    "    wv_file='py_files/saved_objects/poetic_embeddings.300d.txt',\n",
    "    syllables_file='py_files/saved_objects/cmudict-0.7b.txt',\n",
    "    postag_file='py_files/saved_objects/postag_dict_all.p',\n",
    "    model_dir='py_files/models/all_combined_back')"
   ]
  },
  {
   "cell_type": "code",
   "execution_count": 5,
   "metadata": {},
   "outputs": [
    {
     "name": "stderr",
     "output_type": "stream",
     "text": [
      "/Users/chris/.pyenv/versions/3.6.0/envs/poetix/lib/python3.6/site-packages/gensim/matutils.py:737: FutureWarning: Conversion of the second argument of issubdtype from `int` to `np.signedinteger` is deprecated. In future, it will be treated as `np.int64 == np.dtype(int).type`.\n",
      "  if np.issubdtype(vec.dtype, np.int):\n"
     ]
    },
    {
     "data": {
      "text/plain": [
       "('creed', 'speed', 'last', 'fast', 'read')"
      ]
     },
     "execution_count": 5,
     "metadata": {},
     "output_type": "execute_result"
    }
   ],
   "source": [
    "lg.get_five_words('speed')"
   ]
  },
  {
   "cell_type": "code",
   "execution_count": 8,
   "metadata": {},
   "outputs": [
    {
     "name": "stdout",
     "output_type": "stream",
     "text": [
      "['NNP', 'NN', 'CC', 'DT', 'NN', 'VBD']\n",
      "WARNING:tensorflow:From /Users/chris/projects/poetix/py_files/model_back.py:37: BasicLSTMCell.__init__ (from tensorflow.python.ops.rnn_cell_impl) is deprecated and will be removed in a future version.\n",
      "Instructions for updating:\n",
      "This class is deprecated, please use tf.nn.rnn_cell.LSTMCell, which supports all the feature this cell currently has. Please replace the existing code with tf.nn.rnn_cell.LSTMCell(name='basic_lstm_cell').\n",
      "INFO:tensorflow:Restoring parameters from py_files/models/all_combined_back/model.ckpt-120000\n"
     ]
    }
   ],
   "source": [
    "t, o = lg.gen_line('sat', num_sylls=7)"
   ]
  },
  {
   "cell_type": "code",
   "execution_count": 9,
   "metadata": {},
   "outputs": [
    {
     "name": "stdout",
     "output_type": "stream",
     "text": [
      "['ill', 'sleep', 'either', 'the', 'light', 'sat']\n",
      "-5.047295252482097\n",
      "['NNP', 'NN', 'CC', 'DT', 'NN', 'VBD']\n"
     ]
    }
   ],
   "source": [
    "print(o[0][1][1])\n",
    "print(o[0][0].item() / len(o[0][1][1]))\n",
    "print(t)"
   ]
  },
  {
   "cell_type": "code",
   "execution_count": 10,
   "metadata": {},
   "outputs": [
    {
     "name": "stdout",
     "output_type": "stream",
     "text": [
      "['IN', 'IN', 'PRP$', 'NN', 'DT', 'NN', 'NNP']\n",
      "INFO:tensorflow:Restoring parameters from py_files/models/all_combined_back/model.ckpt-120000\n",
      "['NNP', 'NN', 'RB', 'VB', 'DT', 'NN', 'NN']\n",
      "INFO:tensorflow:Restoring parameters from py_files/models/all_combined_back/model.ckpt-120000\n",
      "['NNS', 'NN', 'VBD', 'JJ']\n",
      "INFO:tensorflow:Restoring parameters from py_files/models/all_combined_back/model.ckpt-120000\n",
      "['NNS', 'NN', 'VBD', 'JJ']\n",
      "INFO:tensorflow:Restoring parameters from py_files/models/all_combined_back/model.ckpt-120000\n",
      "['NN', 'IN', 'JJ', 'NNS', 'VBN', ',', 'VB']\n",
      "INFO:tensorflow:Restoring parameters from py_files/models/all_combined_back/model.ckpt-120000\n",
      "\n",
      "out of my singing the calm creed                             line score: -3.667\n",
      "['IN', 'IN', 'PRP$', 'NN', 'DT', 'NN', 'NNP']\n",
      "games need not be a hour speed                               line score: -4.408\n",
      "['NNP', 'NN', 'RB', 'VB', 'DT', 'NN', 'NN']\n",
      "people look set last                                         line score: -4.360\n",
      "['NNS', 'NN', 'VBD', 'JJ']\n",
      "eyes look started fast                                       line score: -4.945\n",
      "['NNS', 'NN', 'VBD', 'JJ']\n",
      "part of thy animals come , read                              line score: -4.485\n",
      "['NN', 'IN', 'JJ', 'NNS', 'VBN', ',', 'VB']\n",
      "CPU times: user 44.3 s, sys: 6.97 s, total: 51.3 s\n",
      "Wall time: 42.4 s\n"
     ]
    }
   ],
   "source": [
    "%%time\n",
    "\n",
    "lg.print_poem('speed', lg.gen_poem_independent, 8)"
   ]
  },
  {
   "cell_type": "code",
   "execution_count": 27,
   "metadata": {},
   "outputs": [
    {
     "name": "stdout",
     "output_type": "stream",
     "text": [
      "['RB', 'JJ', 'IN', 'PRP$', 'NN', 'VBD', 'NN']\n",
      "INFO:tensorflow:Restoring parameters from py_files/models/all_combined_back/model.ckpt-120000\n",
      "['NNS', 'NN', 'VBD', 'JJ']\n",
      "INFO:tensorflow:Restoring parameters from py_files/models/all_combined_back/model.ckpt-120000\n",
      "['IN', 'CD', 'NN', 'NNS', 'NN', 'MD', 'VB']\n",
      "INFO:tensorflow:Restoring parameters from py_files/models/all_combined_back/model.ckpt-120000\n",
      "INFO:tensorflow:Restoring parameters from py_files/models/all_combined_back/model.ckpt-120000\n",
      "INFO:tensorflow:Restoring parameters from py_files/models/all_combined_back/model.ckpt-120000\n",
      "\n",
      "very deep in my head made speed                              line score: -0.576\n",
      "['DT', 'NN', 'NNS', ',', 'CC', 'JJ', 'NNP']\n",
      "very deep in my head made speed                              line score: -4.034\n",
      "['RB', 'JJ', 'IN', 'PRP$', 'NN', 'VBD', 'NN']\n",
      "eyes look started fast                                       line score: -1.236\n",
      "['NNS', 'NN', 'VBD', 'JJ']\n",
      "eyes look started fast                                       line score: -4.945\n",
      "['NNS', 'NN', 'VBD', 'JJ']\n",
      "for thousand past days time will read                        line score: -4.835\n",
      "['IN', 'CD', 'NN', 'NNS', 'NN', 'MD', 'VB']\n",
      "CPU times: user 37.6 s, sys: 6.84 s, total: 44.5 s\n",
      "Wall time: 35.1 s\n"
     ]
    }
   ],
   "source": [
    "%%time\n",
    "\n",
    "lg.print_poem('speed', lg.gen_poem_conditioned, 8)"
   ]
  },
  {
   "cell_type": "code",
   "execution_count": 7,
   "metadata": {},
   "outputs": [],
   "source": [
    "lg.words_to_pos['fast'].remove('RB')"
   ]
  },
  {
   "cell_type": "code",
   "execution_count": 34,
   "metadata": {},
   "outputs": [
    {
     "data": {
      "text/plain": [
       "['JJ']"
      ]
     },
     "execution_count": 34,
     "metadata": {},
     "output_type": "execute_result"
    }
   ],
   "source": [
    "lg.words_to_pos['fast']"
   ]
  },
  {
   "cell_type": "code",
   "execution_count": 28,
   "metadata": {},
   "outputs": [],
   "source": [
    "lg.pos_to_words['RB'].remove('fast')"
   ]
  },
  {
   "cell_type": "code",
   "execution_count": 31,
   "metadata": {},
   "outputs": [],
   "source": [
    "import pickle\n",
    "\n",
    "with open('py_files/saved_objects/postag_dict_all.p', 'rb') as f:\n",
    "    postag_dict = pickle.load(f)\n",
    "\n",
    "postag_dict[1] = lg.pos_to_words\n",
    "postag_dict[2] = lg.words_to_pos\n",
    "\n",
    "with open('py_files/saved_objects/postag_dict_all.p', 'wb') as f:\n",
    "    pickle.dump(postag_dict, f)"
   ]
  },
  {
   "cell_type": "code",
   "execution_count": null,
   "metadata": {},
   "outputs": [],
   "source": []
  }
 ],
 "metadata": {
  "kernelspec": {
   "display_name": "Python 3",
   "language": "python",
   "name": "python3"
  },
  "language_info": {
   "codemirror_mode": {
    "name": "ipython",
    "version": 3
   },
   "file_extension": ".py",
   "mimetype": "text/x-python",
   "name": "python",
   "nbconvert_exporter": "python",
   "pygments_lexer": "ipython3",
   "version": "3.6.0"
  }
 },
 "nbformat": 4,
 "nbformat_minor": 2
}
