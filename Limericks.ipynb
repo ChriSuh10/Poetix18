{
 "cells": [
  {
   "cell_type": "code",
   "execution_count": 1,
   "metadata": {},
   "outputs": [],
   "source": [
    "%load_ext autoreload\n",
    "%autoreload 2"
   ]
  },
  {
   "cell_type": "code",
   "execution_count": 2,
   "metadata": {},
   "outputs": [
    {
     "name": "stderr",
     "output_type": "stream",
     "text": [
      "c:\\users\\hp\\anaconda2\\envs\\translator\\lib\\site-packages\\h5py\\__init__.py:36: FutureWarning: Conversion of the second argument of issubdtype from `float` to `np.floating` is deprecated. In future, it will be treated as `np.float64 == np.dtype(float).type`.\n",
      "  from ._conv import register_converters as _register_converters\n",
      "c:\\users\\hp\\anaconda2\\envs\\translator\\lib\\site-packages\\gensim\\utils.py:1209: UserWarning: detected Windows; aliasing chunkize to chunkize_serial\n",
      "  warnings.warn(\"detected Windows; aliasing chunkize to chunkize_serial\")\n"
     ]
    }
   ],
   "source": [
    "from py_files.Limericks import Limerick_Generate"
   ]
  },
  {
   "cell_type": "code",
   "execution_count": 7,
   "metadata": {},
   "outputs": [],
   "source": [
    "lg = Limerick_Generate()"
   ]
  },
  {
   "cell_type": "code",
   "execution_count": 92,
   "metadata": {},
   "outputs": [
    {
     "name": "stderr",
     "output_type": "stream",
     "text": [
      "c:\\users\\hp\\anaconda2\\envs\\translator\\lib\\site-packages\\gensim\\matutils.py:737: FutureWarning: Conversion of the second argument of issubdtype from `int` to `np.signedinteger` is deprecated. In future, it will be treated as `np.int32 == np.dtype(int).type`.\n",
      "  if np.issubdtype(vec.dtype, np.int):\n"
     ]
    },
    {
     "data": {
      "text/plain": [
       "('democrat', 'sat', 'admit', 'sit', 'cat')"
      ]
     },
     "execution_count": 92,
     "metadata": {},
     "output_type": "execute_result"
    }
   ],
   "source": [
    "lg.get_five_words('sat')"
   ]
  },
  {
   "cell_type": "markdown",
   "metadata": {},
   "source": [
    "### Teach"
   ]
  },
  {
   "cell_type": "code",
   "execution_count": 8,
   "metadata": {},
   "outputs": [
    {
     "name": "stderr",
     "output_type": "stream",
     "text": [
      "c:\\users\\hp\\anaconda2\\envs\\translator\\lib\\site-packages\\gensim\\matutils.py:737: FutureWarning: Conversion of the second argument of issubdtype from `int` to `np.signedinteger` is deprecated. In future, it will be treated as `np.int32 == np.dtype(int).type`.\n",
      "  if np.issubdtype(vec.dtype, np.int):\n"
     ]
    },
    {
     "name": "stdout",
     "output_type": "stream",
     "text": [
      "line 2 in dataset\n",
      "line 3 in dataset\n",
      "line 4-5 in dataset\n",
      "['WP$', 'NNS', 'RB', 'MD', 'VB']\n",
      "INFO:tensorflow:Restoring parameters from py_files/models/all_combined_back\\model.ckpt-120000\n",
      "['IN', 'VBG', 'PRP$', 'NN']\n",
      "INFO:tensorflow:Restoring parameters from py_files/models/all_combined_back\\model.ckpt-120000\n",
      "['IN', 'DT', 'JJ', 'NN']\n",
      "INFO:tensorflow:Restoring parameters from py_files/models/all_combined_back\\model.ckpt-120000\n",
      "['IN', 'DT', 'NN', 'IN', 'NN', 'TO', 'NN']\n",
      "INFO:tensorflow:Restoring parameters from py_files/models/all_combined_back\\model.ckpt-120000\n"
     ]
    }
   ],
   "source": [
    "poem=lg.gen_poem_independent_matias('teach', 11)"
   ]
  },
  {
   "cell_type": "code",
   "execution_count": 14,
   "metadata": {},
   "outputs": [
    {
     "name": "stdout",
     "output_type": "stream",
     "text": [
      "whose eyes conspiratorially will teach\n",
      "that sing its expectation\n",
      "of the past obligation\n",
      "with the immortality of life to breach\n",
      "\n"
     ]
    }
   ],
   "source": [
    "string=''\n",
    "for x in poem:\n",
    "    string+=' '.join(x[0])+'\\n'\n",
    "print(string)"
   ]
  },
  {
   "cell_type": "markdown",
   "metadata": {},
   "source": [
    "### sky"
   ]
  },
  {
   "cell_type": "code",
   "execution_count": 19,
   "metadata": {},
   "outputs": [
    {
     "name": "stderr",
     "output_type": "stream",
     "text": [
      "c:\\users\\hp\\anaconda2\\envs\\translator\\lib\\site-packages\\gensim\\matutils.py:737: FutureWarning: Conversion of the second argument of issubdtype from `int` to `np.signedinteger` is deprecated. In future, it will be treated as `np.int32 == np.dtype(int).type`.\n",
      "  if np.issubdtype(vec.dtype, np.int):\n"
     ]
    },
    {
     "name": "stdout",
     "output_type": "stream",
     "text": [
      "['WHO', 'VBD', 'PRP', 'RB', 'IN', 'DT', 'NN']\n",
      "INFO:tensorflow:Restoring parameters from py_files/models/all_combined_back\\model.ckpt-120000\n",
      "['WHEN', 'DT', 'NN', 'VBZ', 'PRP$', 'NN']\n",
      "INFO:tensorflow:Restoring parameters from py_files/models/all_combined_back\\model.ckpt-120000\n",
      "['IF', 'PRP', 'VBD', 'DT', 'NN', 'IN']\n",
      "INFO:tensorflow:Restoring parameters from py_files/models/all_combined_back\\model.ckpt-120000\n",
      "['DT', 'JJ', 'NN', 'PRP', 'VBP']\n",
      "INFO:tensorflow:Restoring parameters from py_files/models/all_combined_back\\model.ckpt-120000\n"
     ]
    }
   ],
   "source": [
    "poem=lg.gen_poem_independent_matias('sky', 10)"
   ]
  },
  {
   "cell_type": "code",
   "execution_count": 20,
   "metadata": {},
   "outputs": [
    {
     "name": "stdout",
     "output_type": "stream",
     "text": [
      "who fascinated me there in the sky\n",
      "when the earth is my birth\n",
      "if i heard the blue earth\n",
      "the extraordinary way you lie\n",
      "\n"
     ]
    }
   ],
   "source": [
    "string=''\n",
    "for x in poem:\n",
    "    string+=' '.join(x[0])+'\\n'\n",
    "print(string)"
   ]
  },
  {
   "cell_type": "markdown",
   "metadata": {},
   "source": [
    "### shame"
   ]
  },
  {
   "cell_type": "code",
   "execution_count": 17,
   "metadata": {},
   "outputs": [
    {
     "name": "stderr",
     "output_type": "stream",
     "text": [
      "c:\\users\\hp\\anaconda2\\envs\\translator\\lib\\site-packages\\gensim\\matutils.py:737: FutureWarning: Conversion of the second argument of issubdtype from `int` to `np.signedinteger` is deprecated. In future, it will be treated as `np.int32 == np.dtype(int).type`.\n",
      "  if np.issubdtype(vec.dtype, np.int):\n"
     ]
    },
    {
     "name": "stdout",
     "output_type": "stream",
     "text": [
      "['WHO', 'VBD', 'IN', 'DT', 'NN', 'IN', 'NNS']\n",
      "INFO:tensorflow:Restoring parameters from py_files/models/all_combined_back\\model.ckpt-120000\n",
      "['RB', 'DT', 'JJ', 'NN', 'VBD', 'PRP']\n",
      "INFO:tensorflow:Restoring parameters from py_files/models/all_combined_back\\model.ckpt-120000\n",
      "['IN', 'DT', 'CD', 'NN', 'NN']\n",
      "INFO:tensorflow:Restoring parameters from py_files/models/all_combined_back\\model.ckpt-120000\n",
      "['VBD', 'SO', 'JJ', 'PRP', 'VBZ', 'RB', 'IN', 'NN']\n",
      "INFO:tensorflow:Restoring parameters from py_files/models/all_combined_back\\model.ckpt-120000\n"
     ]
    }
   ],
   "source": [
    "poem=lg.gen_poem_independent_matias('shame', 10)"
   ]
  },
  {
   "cell_type": "code",
   "execution_count": 18,
   "metadata": {},
   "outputs": [
    {
     "name": "stdout",
     "output_type": "stream",
     "text": [
      "who hesitated with the sense of shame\n",
      "not a young man said they\n",
      "about the ten room play\n",
      "was so wonderful it is not out game\n",
      "\n"
     ]
    }
   ],
   "source": [
    "string=''\n",
    "for x in poem:\n",
    "    string+=' '.join(x[0])+'\\n'\n",
    "print(string)"
   ]
  },
  {
   "cell_type": "code",
   "execution_count": 19,
   "metadata": {},
   "outputs": [
    {
     "name": "stdout",
     "output_type": "stream",
     "text": [
      "who slipped on a peel of bananas\n",
      "soon a happy thought hit her\n",
      "of a five dollar note\n",
      "was so good he is now in sing\n",
      "\n"
     ]
    }
   ],
   "source": [
    "#lines used for the templates\n",
    "string=''\n",
    "for x in poem:\n",
    "    string+=' '.join(x[3])+'\\n'\n",
    "print(string)"
   ]
  },
  {
   "cell_type": "markdown",
   "metadata": {},
   "source": [
    "### seat"
   ]
  },
  {
   "cell_type": "code",
   "execution_count": 21,
   "metadata": {},
   "outputs": [
    {
     "name": "stderr",
     "output_type": "stream",
     "text": [
      "c:\\users\\hp\\anaconda2\\envs\\translator\\lib\\site-packages\\gensim\\matutils.py:737: FutureWarning: Conversion of the second argument of issubdtype from `int` to `np.signedinteger` is deprecated. In future, it will be treated as `np.int32 == np.dtype(int).type`.\n",
      "  if np.issubdtype(vec.dtype, np.int):\n"
     ]
    },
    {
     "name": "stdout",
     "output_type": "stream",
     "text": [
      "['WHO', 'VBD', 'IN', 'CD', 'IN', 'PRP$', 'NNS']\n",
      "INFO:tensorflow:Restoring parameters from py_files/models/all_combined_back\\model.ckpt-120000\n",
      "['PRP', 'VBD', 'DT', 'NN']\n",
      "INFO:tensorflow:Restoring parameters from py_files/models/all_combined_back\\model.ckpt-120000\n",
      "['IN', 'PRP$', 'NNS', 'CC', 'PRP$', 'NN']\n",
      "INFO:tensorflow:Restoring parameters from py_files/models/all_combined_back\\model.ckpt-120000\n",
      "['IN', 'PRP$', 'NN', 'CC', 'NN', 'IN', 'DT', 'NN']\n",
      "INFO:tensorflow:Restoring parameters from py_files/models/all_combined_back\\model.ckpt-120000\n"
     ]
    }
   ],
   "source": [
    "poem=lg.gen_poem_independent_matias('seat', 10)"
   ]
  },
  {
   "cell_type": "code",
   "execution_count": 22,
   "metadata": {},
   "outputs": [
    {
     "name": "stdout",
     "output_type": "stream",
     "text": [
      "who hesitated for one of her seat\n",
      "i remembered the bare\n",
      "in my eyes and her chair\n",
      "underneath my hand and look on all beat\n",
      "\n"
     ]
    }
   ],
   "source": [
    "string=''\n",
    "for x in poem:\n",
    "    string+=' '.join(x[0])+'\\n'\n",
    "print(string)"
   ]
  },
  {
   "cell_type": "code",
   "execution_count": 23,
   "metadata": {},
   "outputs": [
    {
     "name": "stdout",
     "output_type": "stream",
     "text": [
      "who married on one of his trips\n",
      "he indulged a desire\n",
      "in his boots and his vest\n",
      "with his spanner and jack in the box\n",
      "\n"
     ]
    }
   ],
   "source": [
    "#lines used for the templates\n",
    "string=''\n",
    "for x in poem:\n",
    "    string+=' '.join(x[3])+'\\n'\n",
    "print(string)"
   ]
  },
  {
   "cell_type": "code",
   "execution_count": null,
   "metadata": {},
   "outputs": [],
   "source": []
  }
 ],
 "metadata": {
  "kernelspec": {
   "display_name": "Python 3",
   "language": "python",
   "name": "python3"
  },
  "language_info": {
   "codemirror_mode": {
    "name": "ipython",
    "version": 3
   },
   "file_extension": ".py",
   "mimetype": "text/x-python",
   "name": "python",
   "nbconvert_exporter": "python",
   "pygments_lexer": "ipython3",
   "version": "3.6.6"
  }
 },
 "nbformat": 4,
 "nbformat_minor": 2
}
