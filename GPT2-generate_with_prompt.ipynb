{
 "cells": [
  {
   "cell_type": "code",
   "execution_count": 1,
   "metadata": {},
   "outputs": [],
   "source": [
    "%load_ext autoreload\n",
    "%autoreload 2"
   ]
  },
  {
   "cell_type": "code",
   "execution_count": 2,
   "metadata": {},
   "outputs": [
    {
     "name": "stderr",
     "output_type": "stream",
     "text": [
      "/anaconda3/lib/python3.6/site-packages/h5py/__init__.py:36: FutureWarning: Conversion of the second argument of issubdtype from `float` to `np.floating` is deprecated. In future, it will be treated as `np.float64 == np.dtype(float).type`.\n",
      "  from ._conv import register_converters as _register_converters\n"
     ]
    }
   ],
   "source": [
    "from py_files.Limericks import Limerick_Generate"
   ]
  },
  {
   "cell_type": "code",
   "execution_count": 31,
   "metadata": {},
   "outputs": [],
   "source": [
    "lg = Limerick_Generate()"
   ]
  },
  {
   "cell_type": "code",
   "execution_count": 14,
   "metadata": {},
   "outputs": [],
   "source": [
    "f = open('template.txt','r')\n",
    "template = f.read()"
   ]
  },
  {
   "cell_type": "code",
   "execution_count": 82,
   "metadata": {},
   "outputs": [
    {
     "name": "stdout",
     "output_type": "stream",
     "text": [
      "[[1326], [1326], [72], [1326], [258], [732], [270], [18855], [732], [1326], [258]]\n",
      "INFO:tensorflow:Restoring parameters from gpt2/models/117M/model.ckpt\n",
      "[[1326, 83], [1326, 46037], [72, 7174], [1326, 65], [258, 83], [732, 66], [270, 83], [18855, 28895], [732, 28895], [1326, 4529], [258, 9776]]\n",
      "INFO:tensorflow:Restoring parameters from gpt2/models/117M/model.ckpt\n",
      "[[1326, 83, 505], [1326, 46037, 505], [72, 7174, 505], [1326, 65, 505], [258, 83, 505], [732, 66, 505], [270, 83, 505], [18855, 28895, 505], [732, 28895, 505], [1326, 4529, 505], [258, 9776, 505]]\n",
      "INFO:tensorflow:Restoring parameters from gpt2/models/117M/model.ckpt\n",
      "[[1326, 83, 505, 1084], [1326, 46037, 505, 37330], [72, 7174, 505, 9979], [1326, 65, 505, 46037], [258, 83, 505, 9979], [732, 66, 505, 12001], [270, 83, 505, 1904], [18855, 28895, 505, 14664], [732, 28895, 505, 489], [1326, 4529, 505, 23913], [258, 9776, 505, 12543]]\n",
      "INFO:tensorflow:Restoring parameters from gpt2/models/117M/model.ckpt\n",
      "[[1326, 83, 505, 1084, 85], [1326, 46037, 505, 37330, 28895], [72, 7174, 505, 9979, 22680], [1326, 65, 505, 46037, 19205], [258, 83, 505, 9979, 17319], [732, 66, 505, 12001, 28895], [270, 83, 505, 1904, 4853], [18855, 28895, 505, 14664, 86], [732, 28895, 505, 489, 28895], [1326, 4529, 505, 23913, 9688], [258, 9776, 505, 12543, 22932]]\n",
      "INFO:tensorflow:Restoring parameters from gpt2/models/117M/model.ckpt\n",
      "[[1326, 83, 505, 1084, 85, 448], [1326, 46037, 505, 37330, 28895, 1659], [72, 7174, 505, 9979, 22680, 2502], [1326, 65, 505, 46037, 19205, 1525], [258, 83, 505, 9979, 17319, 6738], [732, 66, 505, 12001, 28895, 361], [270, 83, 505, 1904, 4853, 1659], [18855, 28895, 505, 14664, 86, 1640], [732, 28895, 505, 489, 28895, 13893], [1326, 4529, 505, 23913, 9688, 1525], [258, 9776, 505, 12543, 22932, 4480]]\n",
      "INFO:tensorflow:Restoring parameters from gpt2/models/117M/model.ckpt\n",
      "[[1326, 83, 505, 1084, 85, 448, 5562], [1326, 46037, 505, 37330, 28895, 1659, 3919], [72, 7174, 505, 9979, 22680, 2502, 27218], [1326, 65, 505, 46037, 19205, 1525, 5562], [258, 83, 505, 9979, 17319, 6738, 5562], [732, 66, 505, 12001, 28895, 361, 25591], [270, 83, 505, 1904, 4853, 1659, 64], [18855, 28895, 505, 14664, 86, 1640, 27218], [732, 28895, 505, 489, 28895, 13893, 1169], [1326, 4529, 505, 23913, 9688, 1525, 64], [258, 9776, 505, 12543, 22932, 4480, 64]]\n",
      "INFO:tensorflow:Restoring parameters from gpt2/models/117M/model.ckpt\n",
      "[[1326, 83, 505, 1084, 85, 448, 5562, 14261], [1326, 46037, 505, 37330, 28895, 1659, 3919, 29468], [72, 7174, 505, 9979, 22680, 2502, 27218, 2382], [1326, 65, 505, 46037, 19205, 1525, 5562, 29468], [258, 83, 505, 9979, 17319, 6738, 5562, 9509], [732, 66, 505, 12001, 28895, 361, 25591, 13424], [270, 83, 505, 1904, 4853, 1659, 64, 1904], [18855, 28895, 505, 14664, 86, 1640, 27218, 9979], [732, 28895, 505, 489, 28895, 13893, 1169, 31642], [1326, 4529, 505, 23913, 9688, 1525, 64, 33282], [258, 9776, 505, 12543, 22932, 4480, 64, 44460]]\n",
      "INFO:tensorflow:Restoring parameters from gpt2/models/117M/model.ckpt\n",
      "[['me', 'took', 'one', 'minor', 'vocation', 'out', 'that', 'big', 'year'], ['me', 'interrupted', 'one', 'supreme', 'thought', 'of', 'no', 'daily', 'city'], ['i', 'called', 'one', 'constant', 'business', 'over', 'these', 'american', 'insult'], ['me', 'brought', 'one', 'interrupted', 'city', 'by', 'that', 'daily', 'way'], ['he', 'tried', 'one', 'constant', 'course', 'from', 'that', 'electrical', 'while'], ['we', 'came', 'one', 'local', 'thought', 'if', 'those', 'black', 'shift'], ['it', 'took', 'one', 'useful', 'equipment', 'of', 'a', 'useful', 'question'], ['them', 'thought', 'one', 'musical', 'wicked', 'for', 'these', 'constant', 'vocation'], ['we', 'thought', 'one', 'plush', 'thought', 'because', 'the', 'same', 'mission'], ['me', 'mailed', 'one', 'average', 'start', 'by', 'a', 'brown', 'equipment'], ['he', 'was', 'one', 'funny', 'guy', 'with', 'a', 'nice', 'car']]\n",
      "[-71.72274684906006, -84.4507827758789, -87.47336006164551, -77.24297523498535, -80.71968078613281, -83.54064512252808, -75.2580795288086, -76.95113897323608, -70.17250204086304, -83.5114426612854, -64.13277053833008]\n"
     ]
    }
   ],
   "source": [
    "lg.gen_line_with_template(template, (['PRP', 'VBD', 'CD', 'JJ', 'NN', 'IN', 'DT', 'JJ', 'NN'], \n",
    "                                     ['he', 'was', 'one', 'funny', 'guy', 'with', 'a', 'nice', 'car'], 4))"
   ]
  },
  {
   "cell_type": "code",
   "execution_count": 29,
   "metadata": {},
   "outputs": [
    {
     "name": "stdout",
     "output_type": "stream",
     "text": [
      "INFO:tensorflow:Restoring parameters from gpt2/models/117M/model.ckpt\n",
      "INFO:tensorflow:Restoring parameters from gpt2/models/117M/model.ckpt\n",
      "INFO:tensorflow:Restoring parameters from gpt2/models/117M/model.ckpt\n",
      "INFO:tensorflow:Restoring parameters from gpt2/models/117M/model.ckpt\n",
      "INFO:tensorflow:Restoring parameters from gpt2/models/117M/model.ckpt\n",
      "INFO:tensorflow:Restoring parameters from gpt2/models/117M/model.ckpt\n",
      "INFO:tensorflow:Restoring parameters from gpt2/models/117M/model.ckpt\n",
      "INFO:tensorflow:Restoring parameters from gpt2/models/117M/model.ckpt\n",
      "INFO:tensorflow:Restoring parameters from gpt2/models/117M/model.ckpt\n",
      "INFO:tensorflow:Restoring parameters from gpt2/models/117M/model.ckpt\n",
      "INFO:tensorflow:Restoring parameters from gpt2/models/117M/model.ckpt\n",
      "INFO:tensorflow:Restoring parameters from gpt2/models/117M/model.ckpt\n",
      "INFO:tensorflow:Restoring parameters from gpt2/models/117M/model.ckpt\n",
      "[('he was one funny brit with a nice head of hair on his pate', -176.0026502609253)]\n"
     ]
    }
   ],
   "source": [
    "lg.gen_line_with_template(template, (['PRP', 'VBD', 'CD', 'JJ', 'NN', 'IN', 'DT', 'JJ', 'NN', 'IN', 'NN', 'IN', 'PRP$', 'NN'], \n",
    "                                     ['he', 'was', 'one', 'funny', 'brit', 'with', 'a', 'nice', 'head', 'of', 'hair', 'on', 'his', 'pate'], 4))"
   ]
  }
 ],
 "metadata": {
  "kernelspec": {
   "display_name": "Python 3",
   "language": "python",
   "name": "python3"
  },
  "language_info": {
   "codemirror_mode": {
    "name": "ipython",
    "version": 3
   },
   "file_extension": ".py",
   "mimetype": "text/x-python",
   "name": "python",
   "nbconvert_exporter": "python",
   "pygments_lexer": "ipython3",
   "version": "3.6.5"
  }
 },
 "nbformat": 4,
 "nbformat_minor": 2
}
