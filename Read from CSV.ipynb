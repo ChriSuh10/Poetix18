{
 "cells": [
  {
   "cell_type": "code",
   "execution_count": 32,
   "metadata": {},
   "outputs": [],
   "source": [
    "import pandas as pd\n",
    "import collections\n",
    "import numpy as np\n",
    "import matplotlib.pyplot as plt"
   ]
  },
  {
   "cell_type": "code",
   "execution_count": 7,
   "metadata": {},
   "outputs": [],
   "source": [
    "results = {}\n",
    "input_path = \"csv/batch_result.csv\"\n",
    "df = pd.read_csv(input_path)"
   ]
  },
  {
   "cell_type": "code",
   "execution_count": 41,
   "metadata": {
    "scrolled": true
   },
   "outputs": [
    {
     "name": "stdout",
     "output_type": "stream",
     "text": [
      "grammar\n",
      "defaultdict(<class 'list'>, {'SINGLE_NO_STORY': [5, 5, 3, 1, 5, 5, 5, 3, 1, 5, 5, 5, 3, 1, 5], 'DTS_NO_STORY': [3, 2, 2, 4, 5, 3, 2, 2, 4, 5, 3, 2, 2, 4, 5], 'SINGLE_STORY': [2, 3, 3, 5, 1, 2, 3, 3, 5, 1, 2, 3, 3, 5, 1], 'DTS_STORY': [3, 4, 3, 3, 3, 3, 4, 3, 3, 3, 3, 4, 3, 3, 3]})\n",
      "humor\n",
      "defaultdict(<class 'list'>, {'SINGLE_NO_STORY': [2, 2, 4, 2, 2, 2, 2, 4, 2, 2, 2, 2, 4, 2, 2], 'DTS_NO_STORY': [4, 4, 3, 4, 5, 4, 4, 3, 4, 5, 4, 4, 3, 4, 5], 'SINGLE_STORY': [2, 3, 3, 2, 3, 2, 3, 3, 2, 3, 2, 3, 3, 2, 3], 'DTS_STORY': [3, 4, 2, 4, 2, 3, 4, 2, 4, 2, 3, 4, 2, 4, 2]})\n",
      "related\n",
      "defaultdict(<class 'list'>, {'SINGLE_NO_STORY': [5, 5, 2, 2, 2, 5, 5, 2, 2, 2, 5, 5, 2, 2, 2], 'DTS_NO_STORY': [2, 2, 3, 3, 5, 2, 2, 3, 3, 5, 2, 2, 3, 3, 5], 'SINGLE_STORY': [4, 5, 4, 5, 2, 4, 5, 4, 5, 2, 4, 5, 4, 5, 2], 'DTS_STORY': [3, 3, 3, 3, 2, 3, 3, 3, 3, 2, 3, 3, 3, 3, 2]})\n",
      "story\n",
      "defaultdict(<class 'list'>, {'SINGLE_NO_STORY': [5, 5, 4, 2, 4, 5, 5, 4, 2, 4, 5, 5, 4, 2, 4], 'DTS_NO_STORY': [3, 2, 4, 3, 5, 3, 2, 4, 3, 5, 3, 2, 4, 3, 5], 'SINGLE_STORY': [4, 4, 4, 5, 2, 4, 4, 4, 5, 2, 4, 4, 4, 5, 2], 'DTS_STORY': [3, 3, 4, 3, 3, 3, 3, 4, 3, 3, 3, 3, 4, 3, 3]})\n"
     ]
    }
   ],
   "source": [
    "for index in range(len(df)):\n",
    "    poem_type = df['Input.type'][index]\n",
    "    for column in df:\n",
    "        if column.startswith('Answer'):\n",
    "            answer_type = column.split('.')[1]\n",
    "            if answer_type not in results:\n",
    "                results[answer_type] = collections.defaultdict(list)\n",
    "            results[answer_type][poem_type].append(df[column][index])\n",
    "for key in results:\n",
    "    print(key)\n",
    "    print(results[key])"
   ]
  },
  {
   "cell_type": "code",
   "execution_count": 42,
   "metadata": {},
   "outputs": [
    {
     "name": "stdout",
     "output_type": "stream",
     "text": [
      "grammar\n",
      "SINGLE_NO_STORY | Mean: 3.80, Std: 1.60\n",
      "DTS_NO_STORY | Mean: 3.20, Std: 1.17\n",
      "SINGLE_STORY | Mean: 2.80, Std: 1.33\n",
      "DTS_STORY | Mean: 3.20, Std: 0.40\n",
      "humor\n",
      "SINGLE_NO_STORY | Mean: 2.40, Std: 0.80\n",
      "DTS_NO_STORY | Mean: 4.00, Std: 0.63\n",
      "SINGLE_STORY | Mean: 2.60, Std: 0.49\n",
      "DTS_STORY | Mean: 3.00, Std: 0.89\n",
      "related\n",
      "SINGLE_NO_STORY | Mean: 3.20, Std: 1.47\n",
      "DTS_NO_STORY | Mean: 3.00, Std: 1.10\n",
      "SINGLE_STORY | Mean: 4.00, Std: 1.10\n",
      "DTS_STORY | Mean: 2.80, Std: 0.40\n",
      "story\n",
      "SINGLE_NO_STORY | Mean: 4.00, Std: 1.10\n",
      "DTS_NO_STORY | Mean: 3.40, Std: 1.02\n",
      "SINGLE_STORY | Mean: 3.80, Std: 0.98\n",
      "DTS_STORY | Mean: 3.20, Std: 0.40\n"
     ]
    }
   ],
   "source": [
    "import matplotlib.pyplot as plt\n",
    "\n",
    "colors = ['blue', 'red', 'green', 'yellow']\n",
    "for key in results:\n",
    "    print(key)\n",
    "    for poem_type in results[key]:\n",
    "        print(\"{0:s} | Mean: {1:.2f}, Std: {2:.2f}\".format(poem_type, np.mean(results[key][poem_type]), np.std(results[key][poem_type])))"
   ]
  }
 ],
 "metadata": {
  "kernelspec": {
   "display_name": "Python 3",
   "language": "python",
   "name": "python3"
  },
  "language_info": {
   "codemirror_mode": {
    "name": "ipython",
    "version": 3
   },
   "file_extension": ".py",
   "mimetype": "text/x-python",
   "name": "python",
   "nbconvert_exporter": "python",
   "pygments_lexer": "ipython3",
   "version": "3.7.0"
  }
 },
 "nbformat": 4,
 "nbformat_minor": 2
}
