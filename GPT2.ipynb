{
 "cells": [
  {
   "cell_type": "code",
   "execution_count": 8,
   "metadata": {
    "pycharm": {
     "is_executing": false
    }
   },
   "outputs": [
    {
     "name": "stdout",
     "output_type": "stream",
     "text": [
      "The autoreload extension is already loaded. To reload it, use:\n",
      "  %reload_ext autoreload\n"
     ]
    }
   ],
   "source": [
    "%load_ext autoreload\n",
    "%autoreload 2"
   ]
  },
  {
   "cell_type": "code",
   "execution_count": 9,
   "metadata": {
    "pycharm": {
     "is_executing": false
    }
   },
   "outputs": [],
   "source": [
    "from py_files.Limericks import Limerick_Generate"
   ]
  },
  {
   "cell_type": "code",
   "execution_count": 10,
   "metadata": {
    "pycharm": {
     "is_executing": false
    }
   },
   "outputs": [],
   "source": [
    "lg = Limerick_Generate(model_name='345M')"
   ]
  },
  {
   "cell_type": "code",
   "execution_count": 14,
   "metadata": {
    "pycharm": {
     "is_executing": false
    }
   },
   "outputs": [
    {
     "data": {
      "text/plain": [
       "[1, 2, 1, 2]"
      ]
     },
     "execution_count": 14,
     "metadata": {},
     "output_type": "execute_result"
    }
   ],
   "source": [
    "lg.valid_permutation_sylls(6,['IN', 'DT', 'JJ', 'NN'], 2)"
   ]
  },
  {
   "cell_type": "code",
   "execution_count": 15,
   "metadata": {
    "pycharm": {
     "is_executing": false
    }
   },
   "outputs": [
    {
     "ename": "KeyError",
     "evalue": "'Enthusiastic'",
     "output_type": "error",
     "traceback": [
      "\u001b[0;31m---------------------------------------------------------------------------\u001b[0m",
      "\u001b[0;31mKeyError\u001b[0m                                  Traceback (most recent call last)",
      "\u001b[0;32m<ipython-input-15-a8327b2854b0>\u001b[0m in \u001b[0;36m<module>\u001b[0;34m\u001b[0m\n\u001b[0;32m----> 1\u001b[0;31m \u001b[0mlg\u001b[0m\u001b[0;34m.\u001b[0m\u001b[0mdict_meters\u001b[0m\u001b[0;34m[\u001b[0m\u001b[0;34m'Enthusiastic'\u001b[0m\u001b[0;34m]\u001b[0m\u001b[0;34m\u001b[0m\u001b[0;34m\u001b[0m\u001b[0m\n\u001b[0m",
      "\u001b[0;31mKeyError\u001b[0m: 'Enthusiastic'"
     ]
    }
   ],
   "source": [
    "lg.dict_meters['Enthusiastic']"
   ]
  },
  {
   "cell_type": "markdown",
   "metadata": {},
   "source": [
    "# Generate the entire poem"
   ]
  },
  {
   "cell_type": "code",
   "execution_count": 25,
   "metadata": {
    "pycharm": {
     "is_executing": false
    }
   },
   "outputs": [
    {
     "ename": "TypeError",
     "evalue": "gen_poem_gpt() got an unexpected keyword argument 'num_sylls'",
     "output_type": "error",
     "traceback": [
      "\u001b[0;31m---------------------------------------------------------------------------\u001b[0m",
      "\u001b[0;31mTypeError\u001b[0m                                 Traceback (most recent call last)",
      "\u001b[0;32m<ipython-input-25-3c545ef0ea3e>\u001b[0m in \u001b[0;36m<module>\u001b[0;34m()\u001b[0m\n\u001b[1;32m      5\u001b[0m                                           \u001b[0;34m[\u001b[0m\u001b[0;34m'IN'\u001b[0m\u001b[0;34m,\u001b[0m \u001b[0;34m'DT'\u001b[0m\u001b[0;34m,\u001b[0m \u001b[0;34m'JJ'\u001b[0m\u001b[0;34m,\u001b[0m \u001b[0;34m'NN'\u001b[0m\u001b[0;34m]\u001b[0m\u001b[0;34m,\u001b[0m\u001b[0;34m\u001b[0m\u001b[0m\n\u001b[1;32m      6\u001b[0m                                           \u001b[0;34m[\u001b[0m\u001b[0;34m'CC'\u001b[0m\u001b[0;34m,\u001b[0m \u001b[0;34m'VBD'\u001b[0m\u001b[0;34m,\u001b[0m \u001b[0;34m'IN'\u001b[0m\u001b[0;34m,\u001b[0m \u001b[0;34m'DT'\u001b[0m\u001b[0;34m,\u001b[0m \u001b[0;34m'JJ'\u001b[0m\u001b[0;34m,\u001b[0m \u001b[0;34m'NN'\u001b[0m\u001b[0;34m]\u001b[0m\u001b[0;34m\u001b[0m\u001b[0m\n\u001b[0;32m----> 7\u001b[0;31m                                          ], num_sylls = 9)\n\u001b[0m",
      "\u001b[0;31mTypeError\u001b[0m: gen_poem_gpt() got an unexpected keyword argument 'num_sylls'"
     ]
    }
   ],
   "source": [
    "poem = lg.gen_poem_gpt(\"plane\", \"wind\", \n",
    "                        prompt_length=50, search_space=100,\n",
    "                       default_templates=[['WHO', 'VBD', 'NNS', 'IN', 'DT', 'NN'],\n",
    "                                          ['PRP', 'VBD', 'RP', 'CD', 'NN'],\n",
    "                                          ['IN', 'DT', 'JJ', 'NN'],\n",
    "                                          ['CC', 'VBD', 'IN', 'DT', 'JJ', 'NN']\n",
    "                                         ], num_sylls = 9)"
   ]
  },
  {
   "cell_type": "code",
   "execution_count": 8,
   "metadata": {},
   "outputs": [
    {
     "name": "stdout",
     "output_type": "stream",
     "text": [
      "['there', 'once', 'was', 'an', 'enthusiastic', 'woman', 'named', 'germaine']\n",
      "INFO:tensorflow:Restoring parameters from gpt2/models\\gwern\\model-519407\n",
      "INFO:tensorflow:Restoring parameters from gpt2/models\\gwern\\model-519407\n",
      "INFO:tensorflow:Restoring parameters from gpt2/models\\gwern\\model-519407\n",
      "INFO:tensorflow:Restoring parameters from gpt2/models\\gwern\\model-519407\n",
      "INFO:tensorflow:Restoring parameters from gpt2/models\\gwern\\model-519407\n",
      "INFO:tensorflow:Restoring parameters from gpt2/models\\gwern\\model-519407\n",
      "INFO:tensorflow:Restoring parameters from gpt2/models\\gwern\\model-519407\n",
      "['who', 'laid', 'eggs', 'on', 'a', 'grain']\n",
      "INFO:tensorflow:Restoring parameters from gpt2/models\\gwern\\model-519407\n",
      "INFO:tensorflow:Restoring parameters from gpt2/models\\gwern\\model-519407\n",
      "INFO:tensorflow:Restoring parameters from gpt2/models\\gwern\\model-519407\n",
      "INFO:tensorflow:Restoring parameters from gpt2/models\\gwern\\model-519407\n",
      "INFO:tensorflow:Restoring parameters from gpt2/models\\gwern\\model-519407\n",
      "['i', 'came', 'up', 'one', 'mind']\n",
      "INFO:tensorflow:Restoring parameters from gpt2/models\\gwern\\model-519407\n",
      "INFO:tensorflow:Restoring parameters from gpt2/models\\gwern\\model-519407\n",
      "INFO:tensorflow:Restoring parameters from gpt2/models\\gwern\\model-519407\n",
      "INFO:tensorflow:Restoring parameters from gpt2/models\\gwern\\model-519407\n",
      "['in', 'a', 'un', 'kind']\n",
      "INFO:tensorflow:Restoring parameters from gpt2/models\\gwern\\model-519407\n",
      "INFO:tensorflow:Restoring parameters from gpt2/models\\gwern\\model-519407\n",
      "INFO:tensorflow:Restoring parameters from gpt2/models\\gwern\\model-519407\n",
      "INFO:tensorflow:Restoring parameters from gpt2/models\\gwern\\model-519407\n",
      "INFO:tensorflow:Restoring parameters from gpt2/models\\gwern\\model-519407\n",
      "INFO:tensorflow:Restoring parameters from gpt2/models\\gwern\\model-519407\n",
      "['and', 'lay', 'in', 'a', 'u', 'vein']\n"
     ]
    }
   ],
   "source": [
    "poem = lg.gen_poem_gpt(\"plane\", \"wind\", \n",
    "                       first_line_sylls=14, prompt_length=50, search_space=150,\n",
    "                       default_templates=[['WHO', 'VBD', 'NNS', 'IN', 'DT', 'NN'],\n",
    "                                          ['PRP', 'VBD', 'RP', 'CD', 'NN'],\n",
    "                                          ['IN', 'DT', 'JJ', 'NN'],\n",
    "                                          ['CC', 'VBD', 'IN', 'DT', 'JJ', 'NN']\n",
    "                                         ])"
   ]
  },
  {
   "cell_type": "code",
   "execution_count": 9,
   "metadata": {},
   "outputs": [
    {
     "name": "stdout",
     "output_type": "stream",
     "text": [
      "['there', 'once', 'was', 'a', 'woman', 'enjoying', 'her', 'life', 'in', 'lamar']\n",
      "INFO:tensorflow:Restoring parameters from gpt2/models\\gwern\\model-519407\n",
      "INFO:tensorflow:Restoring parameters from gpt2/models\\gwern\\model-519407\n",
      "INFO:tensorflow:Restoring parameters from gpt2/models\\gwern\\model-519407\n",
      "INFO:tensorflow:Restoring parameters from gpt2/models\\gwern\\model-519407\n",
      "INFO:tensorflow:Restoring parameters from gpt2/models\\gwern\\model-519407\n",
      "INFO:tensorflow:Restoring parameters from gpt2/models\\gwern\\model-519407\n",
      "INFO:tensorflow:Restoring parameters from gpt2/models\\gwern\\model-519407\n",
      "['who', 'had', 'men', 'in', 'a', 'car']\n",
      "INFO:tensorflow:Restoring parameters from gpt2/models\\gwern\\model-519407\n",
      "INFO:tensorflow:Restoring parameters from gpt2/models\\gwern\\model-519407\n",
      "INFO:tensorflow:Restoring parameters from gpt2/models\\gwern\\model-519407\n",
      "INFO:tensorflow:Restoring parameters from gpt2/models\\gwern\\model-519407\n",
      "INFO:tensorflow:Restoring parameters from gpt2/models\\gwern\\model-519407\n",
      "['i', 'took', 'up', 'one', 'tune']\n",
      "INFO:tensorflow:Restoring parameters from gpt2/models\\gwern\\model-519407\n",
      "INFO:tensorflow:Restoring parameters from gpt2/models\\gwern\\model-519407\n",
      "INFO:tensorflow:Restoring parameters from gpt2/models\\gwern\\model-519407\n",
      "INFO:tensorflow:Restoring parameters from gpt2/models\\gwern\\model-519407\n",
      "['of', 'a', 'new', 'moon']\n",
      "INFO:tensorflow:Restoring parameters from gpt2/models\\gwern\\model-519407\n",
      "INFO:tensorflow:Restoring parameters from gpt2/models\\gwern\\model-519407\n",
      "INFO:tensorflow:Restoring parameters from gpt2/models\\gwern\\model-519407\n",
      "INFO:tensorflow:Restoring parameters from gpt2/models\\gwern\\model-519407\n",
      "INFO:tensorflow:Restoring parameters from gpt2/models\\gwern\\model-519407\n",
      "INFO:tensorflow:Restoring parameters from gpt2/models\\gwern\\model-519407\n",
      "['and', 'was', 'in', 'a', 'th', 'bar']\n"
     ]
    }
   ],
   "source": [
    "poem = lg.gen_poem_gpt(\"star\", \"moon\", \n",
    "                       first_line_sylls=14, prompt_length=50, search_space=150,\n",
    "                       default_templates=[['WHO', 'VBD', 'NNS', 'IN', 'DT', 'NN'],\n",
    "                                          ['PRP', 'VBD', 'RP', 'CD', 'NN'],\n",
    "                                          ['IN', 'DT', 'JJ', 'NN'],\n",
    "                                          ['CC', 'VBD', 'IN', 'DT', 'JJ', 'NN']\n",
    "                                         ])"
   ]
  },
  {
   "cell_type": "code",
   "execution_count": 11,
   "metadata": {},
   "outputs": [
    {
     "name": "stdout",
     "output_type": "stream",
     "text": [
      "['there', 'was', 'an', 'enthusiastic', 'man', 'that', 'lived', 'in', 'dakar']\n",
      "INFO:tensorflow:Restoring parameters from gpt2/models\\117M\\model.ckpt\n",
      "INFO:tensorflow:Restoring parameters from gpt2/models\\117M\\model.ckpt\n",
      "INFO:tensorflow:Restoring parameters from gpt2/models\\117M\\model.ckpt\n",
      "INFO:tensorflow:Restoring parameters from gpt2/models\\117M\\model.ckpt\n",
      "INFO:tensorflow:Restoring parameters from gpt2/models\\117M\\model.ckpt\n",
      "INFO:tensorflow:Restoring parameters from gpt2/models\\117M\\model.ckpt\n",
      "INFO:tensorflow:Restoring parameters from gpt2/models\\117M\\model.ckpt\n",
      "['who', 'saw', 'things', 'from', 'another', 'star']\n",
      "INFO:tensorflow:Restoring parameters from gpt2/models\\117M\\model.ckpt\n",
      "INFO:tensorflow:Restoring parameters from gpt2/models\\117M\\model.ckpt\n",
      "INFO:tensorflow:Restoring parameters from gpt2/models\\117M\\model.ckpt\n",
      "INFO:tensorflow:Restoring parameters from gpt2/models\\117M\\model.ckpt\n",
      "INFO:tensorflow:Restoring parameters from gpt2/models\\117M\\model.ckpt\n",
      "['i', 'found', 'out', 'one', 'afternoon']\n",
      "INFO:tensorflow:Restoring parameters from gpt2/models\\117M\\model.ckpt\n",
      "INFO:tensorflow:Restoring parameters from gpt2/models\\117M\\model.ckpt\n",
      "INFO:tensorflow:Restoring parameters from gpt2/models\\117M\\model.ckpt\n",
      "INFO:tensorflow:Restoring parameters from gpt2/models\\117M\\model.ckpt\n",
      "['that', 'the', 'dark', 'moon']\n",
      "INFO:tensorflow:Restoring parameters from gpt2/models\\117M\\model.ckpt\n",
      "INFO:tensorflow:Restoring parameters from gpt2/models\\117M\\model.ckpt\n",
      "INFO:tensorflow:Restoring parameters from gpt2/models\\117M\\model.ckpt\n",
      "INFO:tensorflow:Restoring parameters from gpt2/models\\117M\\model.ckpt\n",
      "INFO:tensorflow:Restoring parameters from gpt2/models\\117M\\model.ckpt\n",
      "INFO:tensorflow:Restoring parameters from gpt2/models\\117M\\model.ckpt\n",
      "['and', 'lost', 'in', 'the', 'dark', 'scar']\n"
     ]
    }
   ],
   "source": [
    "poem = lg.gen_poem_gpt(\"star\", \"moon\", \n",
    "                       first_line_sylls=14, prompt_length=50, search_space=150,\n",
    "                       default_templates=[['WHO', 'VBD', 'NNS', 'IN', 'DT', 'NN'],\n",
    "                                          ['PRP', 'VBD', 'RP', 'CD', 'NN'],\n",
    "                                          ['IN', 'DT', 'JJ', 'NN'],\n",
    "                                          ['CC', 'VBD', 'IN', 'DT', 'JJ', 'NN']\n",
    "                                         ])"
   ]
  },
  {
   "cell_type": "code",
   "execution_count": 4,
   "metadata": {},
   "outputs": [],
   "source": [
    "default_templates=[['WHO', 'VBD', 'NNS', 'IN', 'DT', 'NN'],\n",
    "                                          ['PRP', 'VBD', 'RP', 'CD', 'NN'],\n",
    "                                          ['IN', 'DT', 'JJ', 'NN'],\n",
    "                                          ['CC', 'VBD', 'IN', 'DT', 'JJ', 'NN']\n",
    "                                         ]\n",
    "rhyme1 = \"plane\"\n",
    "rhyme2 = \"wind\""
   ]
  },
  {
   "cell_type": "code",
   "execution_count": 5,
   "metadata": {},
   "outputs": [
    {
     "name": "stdout",
     "output_type": "stream",
     "text": [
      "WARNING:tensorflow:From E:\\Anaconda3\\lib\\site-packages\\tensorflow\\python\\framework\\op_def_library.py:263: colocate_with (from tensorflow.python.framework.ops) is deprecated and will be removed in a future version.\n",
      "Instructions for updating:\n",
      "Colocations handled automatically by placer.\n",
      "WARNING:tensorflow:From E:\\poetix\\gpt2\\src\\score.py:55: to_float (from tensorflow.python.ops.math_ops) is deprecated and will be removed in a future version.\n",
      "Instructions for updating:\n",
      "Use tf.cast instead.\n",
      "WARNING:tensorflow:From E:\\Anaconda3\\lib\\site-packages\\tensorflow\\python\\training\\saver.py:1266: checkpoint_exists (from tensorflow.python.training.checkpoint_management) is deprecated and will be removed in a future version.\n",
      "Instructions for updating:\n",
      "Use standard file APIs to check for files with this prefix.\n",
      "INFO:tensorflow:Restoring parameters from gpt2/models\\117M\\model.ckpt\n",
      "INFO:tensorflow:Restoring parameters from gpt2/models\\117M\\model.ckpt\n",
      "INFO:tensorflow:Restoring parameters from gpt2/models\\117M\\model.ckpt\n",
      "INFO:tensorflow:Restoring parameters from gpt2/models\\117M\\model.ckpt\n",
      "INFO:tensorflow:Restoring parameters from gpt2/models\\117M\\model.ckpt\n",
      "INFO:tensorflow:Restoring parameters from gpt2/models\\117M\\model.ckpt\n",
      "['who', 'raised', 'funds', 'for', 'the', 'campaign']\n"
     ]
    }
   ],
   "source": [
    "# Generate second sentence\n",
    "f = open('gpt2.pkl', 'rb')\n",
    "prompt = pickle.load(f)\n",
    "new_sentence = lg.gen_line_gpt(w=None, encodes=prompt, default_template = default_templates[0], rhyme=rhyme1, search_space=75)\n",
    "prompt += new_sentence[1]\n",
    "print(new_sentence[0])\n",
    "f = open('gpt2.pkl', 'wb')\n",
    "pickle.dump(prompt, f)"
   ]
  },
  {
   "cell_type": "code",
   "execution_count": 5,
   "metadata": {},
   "outputs": [
    {
     "name": "stdout",
     "output_type": "stream",
     "text": [
      "WARNING:tensorflow:From E:\\Anaconda3\\lib\\site-packages\\tensorflow\\python\\framework\\op_def_library.py:263: colocate_with (from tensorflow.python.framework.ops) is deprecated and will be removed in a future version.\n",
      "Instructions for updating:\n",
      "Colocations handled automatically by placer.\n",
      "WARNING:tensorflow:From E:\\poetix\\gpt2\\src\\score.py:55: to_float (from tensorflow.python.ops.math_ops) is deprecated and will be removed in a future version.\n",
      "Instructions for updating:\n",
      "Use tf.cast instead.\n",
      "WARNING:tensorflow:From E:\\Anaconda3\\lib\\site-packages\\tensorflow\\python\\training\\saver.py:1266: checkpoint_exists (from tensorflow.python.training.checkpoint_management) is deprecated and will be removed in a future version.\n",
      "Instructions for updating:\n",
      "Use standard file APIs to check for files with this prefix.\n",
      "INFO:tensorflow:Restoring parameters from gpt2/models\\117M\\model.ckpt\n",
      "INFO:tensorflow:Restoring parameters from gpt2/models\\117M\\model.ckpt\n",
      "INFO:tensorflow:Restoring parameters from gpt2/models\\117M\\model.ckpt\n",
      "INFO:tensorflow:Restoring parameters from gpt2/models\\117M\\model.ckpt\n",
      "INFO:tensorflow:Restoring parameters from gpt2/models\\117M\\model.ckpt\n",
      "['she', 'set', 'up', 'one', 'mind']\n"
     ]
    }
   ],
   "source": [
    "# Generate third sentence\n",
    "f = open('gpt2.pkl', 'rb')\n",
    "prompt = pickle.load(f)\n",
    "new_sentence = lg.gen_line_gpt(w=None, encodes=prompt, default_template = default_templates[1], rhyme=rhyme2, search_space=60)\n",
    "prompt += new_sentence[1]\n",
    "print(new_sentence[0])"
   ]
  },
  {
   "cell_type": "code",
   "execution_count": 6,
   "metadata": {},
   "outputs": [
    {
     "name": "stdout",
     "output_type": "stream",
     "text": [
      "WARNING:tensorflow:From E:\\Anaconda3\\lib\\site-packages\\tensorflow\\python\\framework\\op_def_library.py:263: colocate_with (from tensorflow.python.framework.ops) is deprecated and will be removed in a future version.\n",
      "Instructions for updating:\n",
      "Colocations handled automatically by placer.\n",
      "WARNING:tensorflow:From E:\\poetix\\gpt2\\src\\score.py:55: to_float (from tensorflow.python.ops.math_ops) is deprecated and will be removed in a future version.\n",
      "Instructions for updating:\n",
      "Use tf.cast instead.\n",
      "WARNING:tensorflow:From E:\\Anaconda3\\lib\\site-packages\\tensorflow\\python\\training\\saver.py:1266: checkpoint_exists (from tensorflow.python.training.checkpoint_management) is deprecated and will be removed in a future version.\n",
      "Instructions for updating:\n",
      "Use standard file APIs to check for files with this prefix.\n",
      "INFO:tensorflow:Restoring parameters from gpt2/models\\117M\\model.ckpt\n",
      "INFO:tensorflow:Restoring parameters from gpt2/models\\117M\\model.ckpt\n",
      "INFO:tensorflow:Restoring parameters from gpt2/models\\117M\\model.ckpt\n",
      "INFO:tensorflow:Restoring parameters from gpt2/models\\117M\\model.ckpt\n",
      "['for', 'a', 'new', 'kind']\n"
     ]
    }
   ],
   "source": [
    "# Generate fourth sentence\n",
    "f = open('gpt2.pkl', 'rb')\n",
    "prompt = pickle.load(f)\n",
    "new_sentence = lg.gen_line_gpt(w=None, encodes=prompt, default_template = default_templates[2], rhyme=rhyme2, search_space=30)\n",
    "prompt += new_sentence[1]\n",
    "print(new_sentence[0])"
   ]
  },
  {
   "cell_type": "code",
   "execution_count": 5,
   "metadata": {},
   "outputs": [
    {
     "name": "stdout",
     "output_type": "stream",
     "text": [
      "WARNING:tensorflow:From E:\\Anaconda3\\lib\\site-packages\\tensorflow\\python\\framework\\op_def_library.py:263: colocate_with (from tensorflow.python.framework.ops) is deprecated and will be removed in a future version.\n",
      "Instructions for updating:\n",
      "Colocations handled automatically by placer.\n",
      "WARNING:tensorflow:From E:\\poetix\\gpt2\\src\\score.py:55: to_float (from tensorflow.python.ops.math_ops) is deprecated and will be removed in a future version.\n",
      "Instructions for updating:\n",
      "Use tf.cast instead.\n",
      "WARNING:tensorflow:From E:\\Anaconda3\\lib\\site-packages\\tensorflow\\python\\training\\saver.py:1266: checkpoint_exists (from tensorflow.python.training.checkpoint_management) is deprecated and will be removed in a future version.\n",
      "Instructions for updating:\n",
      "Use standard file APIs to check for files with this prefix.\n",
      "INFO:tensorflow:Restoring parameters from gpt2/models\\117M\\model.ckpt\n",
      "INFO:tensorflow:Restoring parameters from gpt2/models\\117M\\model.ckpt\n",
      "INFO:tensorflow:Restoring parameters from gpt2/models\\117M\\model.ckpt\n",
      "INFO:tensorflow:Restoring parameters from gpt2/models\\117M\\model.ckpt\n",
      "INFO:tensorflow:Restoring parameters from gpt2/models\\117M\\model.ckpt\n",
      "INFO:tensorflow:Restoring parameters from gpt2/models\\117M\\model.ckpt\n",
      "['and', 'moved', 'for', 'a', 'new', 'campaign']\n"
     ]
    }
   ],
   "source": [
    "# Generate fifth sentence\n",
    "f = open('gpt2.pkl', 'rb')\n",
    "prompt = pickle.load(f)\n",
    "new_sentence = lg.gen_line_gpt(w=None, encodes=prompt, default_template = default_templates[3], rhyme=rhyme1, search_space=10)\n",
    "prompt += new_sentence[1]\n",
    "print(new_sentence[0])"
   ]
  },
  {
   "cell_type": "code",
   "execution_count": 5,
   "metadata": {},
   "outputs": [
    {
     "name": "stdout",
     "output_type": "stream",
     "text": [
      "['there', 'once', 'was', 'an', 'enthusiastic', 'woman', 'named', 'romaine']\n",
      "WARNING:tensorflow:From E:\\Anaconda3\\lib\\site-packages\\tensorflow\\python\\framework\\op_def_library.py:263: colocate_with (from tensorflow.python.framework.ops) is deprecated and will be removed in a future version.\n",
      "Instructions for updating:\n",
      "Colocations handled automatically by placer.\n",
      "WARNING:tensorflow:From E:\\poetix\\gpt2\\src\\sample.py:51: to_float (from tensorflow.python.ops.math_ops) is deprecated and will be removed in a future version.\n",
      "Instructions for updating:\n",
      "Use tf.cast instead.\n",
      "WARNING:tensorflow:From E:\\poetix\\gpt2\\src\\sample.py:53: multinomial (from tensorflow.python.ops.random_ops) is deprecated and will be removed in a future version.\n",
      "Instructions for updating:\n",
      "Use tf.random.categorical instead.\n",
      "WARNING:tensorflow:From E:\\Anaconda3\\lib\\site-packages\\tensorflow\\python\\training\\saver.py:1266: checkpoint_exists (from tensorflow.python.training.checkpoint_management) is deprecated and will be removed in a future version.\n",
      "Instructions for updating:\n",
      "Use standard file APIs to check for files with this prefix.\n",
      "INFO:tensorflow:Restoring parameters from gpt2/models\\117M\\model.ckpt\n",
      "INFO:tensorflow:Restoring parameters from gpt2/models\\117M\\model.ckpt\n",
      "INFO:tensorflow:Restoring parameters from gpt2/models\\117M\\model.ckpt\n",
      "INFO:tensorflow:Restoring parameters from gpt2/models\\117M\\model.ckpt\n",
      "INFO:tensorflow:Restoring parameters from gpt2/models\\117M\\model.ckpt\n",
      "INFO:tensorflow:Restoring parameters from gpt2/models\\117M\\model.ckpt\n",
      "INFO:tensorflow:Restoring parameters from gpt2/models\\117M\\model.ckpt\n",
      "['who', 'told', 'stories', 'about', 'the', 'pain']\n",
      "INFO:tensorflow:Restoring parameters from gpt2/models\\117M\\model.ckpt\n",
      "INFO:tensorflow:Restoring parameters from gpt2/models\\117M\\model.ckpt\n",
      "INFO:tensorflow:Restoring parameters from gpt2/models\\117M\\model.ckpt\n",
      "INFO:tensorflow:Restoring parameters from gpt2/models\\117M\\model.ckpt\n",
      "INFO:tensorflow:Restoring parameters from gpt2/models\\117M\\model.ckpt\n",
      "['she', 'felt', 'off', 'one', 'kind']\n",
      "INFO:tensorflow:Restoring parameters from gpt2/models\\117M\\model.ckpt\n",
      "INFO:tensorflow:Restoring parameters from gpt2/models\\117M\\model.ckpt\n",
      "INFO:tensorflow:Restoring parameters from gpt2/models\\117M\\model.ckpt\n",
      "INFO:tensorflow:Restoring parameters from gpt2/models\\117M\\model.ckpt\n",
      "['of', 'a', 'high', 'wind']\n",
      "INFO:tensorflow:Restoring parameters from gpt2/models\\117M\\model.ckpt\n",
      "INFO:tensorflow:Restoring parameters from gpt2/models\\117M\\model.ckpt\n",
      "INFO:tensorflow:Restoring parameters from gpt2/models\\117M\\model.ckpt\n",
      "INFO:tensorflow:Restoring parameters from gpt2/models\\117M\\model.ckpt\n",
      "INFO:tensorflow:Restoring parameters from gpt2/models\\117M\\model.ckpt\n",
      "INFO:tensorflow:Restoring parameters from gpt2/models\\117M\\model.ckpt\n",
      "['and', 'fell', 'off', 'a', 'high', 'plane']\n"
     ]
    }
   ],
   "source": [
    "poem = lg.gen_poem_gpt(\"plane\", \"wind\", \n",
    "                       first_line_sylls=14, prompt_length=100, search_space=15,\n",
    "                       default_templates=[['WHO', 'VBD', 'NNS', 'IN', 'DT', 'NN'],\n",
    "                                          ['PRP', 'VBD', 'RP', 'CD', 'NN'],\n",
    "                                          ['IN', 'DT', 'JJ', 'NN'],\n",
    "                                          ['CC', 'VBD', 'IN', 'DT', 'JJ', 'NN']\n",
    "                                         ])"
   ]
  },
  {
   "cell_type": "code",
   "execution_count": 26,
   "metadata": {},
   "outputs": [
    {
     "name": "stdout",
     "output_type": "stream",
     "text": [
      "['there', 'once', 'was', 'an', 'enthusiastic', 'man', 'named', 'roan']\n",
      "INFO:tensorflow:Restoring parameters from gpt2/models\\117M\\model.ckpt\n",
      "INFO:tensorflow:Restoring parameters from gpt2/models\\117M\\model.ckpt\n",
      "INFO:tensorflow:Restoring parameters from gpt2/models\\117M\\model.ckpt\n",
      "INFO:tensorflow:Restoring parameters from gpt2/models\\117M\\model.ckpt\n",
      "INFO:tensorflow:Restoring parameters from gpt2/models\\117M\\model.ckpt\n",
      "INFO:tensorflow:Restoring parameters from gpt2/models\\117M\\model.ckpt\n",
      "INFO:tensorflow:Restoring parameters from gpt2/models\\117M\\model.ckpt\n",
      "['who', 'had', 'aspirations', 'of', 'a', 'loan']\n",
      "INFO:tensorflow:Restoring parameters from gpt2/models\\117M\\model.ckpt\n",
      "INFO:tensorflow:Restoring parameters from gpt2/models\\117M\\model.ckpt\n",
      "INFO:tensorflow:Restoring parameters from gpt2/models\\117M\\model.ckpt\n",
      "INFO:tensorflow:Restoring parameters from gpt2/models\\117M\\model.ckpt\n",
      "['it', 'was', 'a', 'glue']\n",
      "INFO:tensorflow:Restoring parameters from gpt2/models\\117M\\model.ckpt\n",
      "INFO:tensorflow:Restoring parameters from gpt2/models\\117M\\model.ckpt\n",
      "INFO:tensorflow:Restoring parameters from gpt2/models\\117M\\model.ckpt\n",
      "INFO:tensorflow:Restoring parameters from gpt2/models\\117M\\model.ckpt\n"
     ]
    },
    {
     "ename": "IndexError",
     "evalue": "list index out of range",
     "output_type": "error",
     "traceback": [
      "\u001b[1;31m---------------------------------------------------------------------------\u001b[0m",
      "\u001b[1;31mIndexError\u001b[0m                                Traceback (most recent call last)",
      "\u001b[1;32m<ipython-input-26-6cdba9db1f54>\u001b[0m in \u001b[0;36m<module>\u001b[1;34m()\u001b[0m\n\u001b[0;32m      4\u001b[0m                                           \u001b[1;33m[\u001b[0m\u001b[1;34m'PRP'\u001b[0m\u001b[1;33m,\u001b[0m \u001b[1;34m'VBD'\u001b[0m\u001b[1;33m,\u001b[0m \u001b[1;34m'DT'\u001b[0m\u001b[1;33m,\u001b[0m \u001b[1;34m'NN'\u001b[0m\u001b[1;33m]\u001b[0m\u001b[1;33m,\u001b[0m\u001b[1;33m\u001b[0m\u001b[0m\n\u001b[0;32m      5\u001b[0m                                           \u001b[1;33m[\u001b[0m\u001b[1;34m'IN'\u001b[0m\u001b[1;33m,\u001b[0m \u001b[1;34m'DT'\u001b[0m\u001b[1;33m,\u001b[0m \u001b[1;34m'JJ'\u001b[0m\u001b[1;33m,\u001b[0m \u001b[1;34m'NN'\u001b[0m\u001b[1;33m]\u001b[0m\u001b[1;33m,\u001b[0m\u001b[1;33m\u001b[0m\u001b[0m\n\u001b[1;32m----> 6\u001b[1;33m                                           \u001b[1;33m[\u001b[0m\u001b[1;34m'CC'\u001b[0m\u001b[1;33m,\u001b[0m \u001b[1;34m'VBD'\u001b[0m\u001b[1;33m,\u001b[0m \u001b[1;34m'IN'\u001b[0m\u001b[1;33m,\u001b[0m \u001b[1;34m'DT'\u001b[0m\u001b[1;33m,\u001b[0m \u001b[1;34m'JJ'\u001b[0m\u001b[1;33m,\u001b[0m \u001b[1;34m'NN'\u001b[0m\u001b[1;33m]\u001b[0m\u001b[1;33m\u001b[0m\u001b[0m\n\u001b[0m\u001b[0;32m      7\u001b[0m                                          ])\n",
      "\u001b[1;32mE:\\poetix\\py_files\\Limericks.py\u001b[0m in \u001b[0;36mgen_poem_gpt\u001b[1;34m(self, rhyme1, rhyme2, default_templates, first_line_sylls, story_line, prompt_length, save_as_pickle, search_space)\u001b[0m\n\u001b[0;32m    942\u001b[0m             \u001b[0mprompt\u001b[0m \u001b[1;33m+=\u001b[0m \u001b[0mnew_sentence\u001b[0m\u001b[1;33m[\u001b[0m\u001b[1;36m1\u001b[0m\u001b[1;33m]\u001b[0m\u001b[1;33m\u001b[0m\u001b[0m\n\u001b[0;32m    943\u001b[0m \u001b[1;33m\u001b[0m\u001b[0m\n\u001b[1;32m--> 944\u001b[1;33m             \u001b[0mnew_sentence\u001b[0m \u001b[1;33m=\u001b[0m \u001b[0mself\u001b[0m\u001b[1;33m.\u001b[0m\u001b[0mgen_line_gpt\u001b[0m\u001b[1;33m(\u001b[0m\u001b[0mw\u001b[0m\u001b[1;33m=\u001b[0m\u001b[1;32mNone\u001b[0m\u001b[1;33m,\u001b[0m \u001b[0mencodes\u001b[0m\u001b[1;33m=\u001b[0m\u001b[0mprompt\u001b[0m\u001b[1;33m,\u001b[0m \u001b[0mdefault_template\u001b[0m \u001b[1;33m=\u001b[0m \u001b[0mdefault_templates\u001b[0m\u001b[1;33m[\u001b[0m\u001b[1;36m2\u001b[0m\u001b[1;33m]\u001b[0m\u001b[1;33m,\u001b[0m \u001b[0mrhyme_set\u001b[0m \u001b[1;33m=\u001b[0m \u001b[1;33m[\u001b[0m\u001b[0mfive_words\u001b[0m\u001b[1;33m[\u001b[0m\u001b[1;36m3\u001b[0m\u001b[1;33m]\u001b[0m\u001b[1;33m]\u001b[0m\u001b[1;33m,\u001b[0m \u001b[0msearch_space\u001b[0m\u001b[1;33m=\u001b[0m\u001b[0mint\u001b[0m\u001b[1;33m(\u001b[0m\u001b[0msearch_space\u001b[0m\u001b[1;33m*\u001b[0m\u001b[1;36m0.5\u001b[0m\u001b[1;33m)\u001b[0m\u001b[1;33m)\u001b[0m\u001b[1;33m\u001b[0m\u001b[0m\n\u001b[0m\u001b[0;32m    945\u001b[0m             \u001b[0mprompt\u001b[0m \u001b[1;33m+=\u001b[0m \u001b[0mnew_sentence\u001b[0m\u001b[1;33m[\u001b[0m\u001b[1;36m1\u001b[0m\u001b[1;33m]\u001b[0m\u001b[1;33m\u001b[0m\u001b[0m\n\u001b[0;32m    946\u001b[0m \u001b[1;33m\u001b[0m\u001b[0m\n",
      "\u001b[1;32mE:\\poetix\\py_files\\Limericks.py\u001b[0m in \u001b[0;36mgen_line_gpt\u001b[1;34m(self, w, encodes, default_template, rhyme_word, rhyme_set, search_space)\u001b[0m\n\u001b[0;32m    848\u001b[0m             \u001b[1;31m# Get the most probable N sentences by sorting the list according to probability\u001b[0m\u001b[1;33m\u001b[0m\u001b[1;33m\u001b[0m\u001b[0m\n\u001b[0;32m    849\u001b[0m             \u001b[0msentences\u001b[0m \u001b[1;33m=\u001b[0m \u001b[0mheapq\u001b[0m\u001b[1;33m.\u001b[0m\u001b[0mnsmallest\u001b[0m\u001b[1;33m(\u001b[0m\u001b[0mmin\u001b[0m\u001b[1;33m(\u001b[0m\u001b[0mlen\u001b[0m\u001b[1;33m(\u001b[0m\u001b[0mnew_sentences\u001b[0m\u001b[1;33m)\u001b[0m\u001b[1;33m,\u001b[0m \u001b[0msearch_space\u001b[0m\u001b[1;33m)\u001b[0m\u001b[1;33m,\u001b[0m \u001b[0mnew_sentences\u001b[0m\u001b[1;33m,\u001b[0m \u001b[0mkey\u001b[0m\u001b[1;33m=\u001b[0m\u001b[1;32mlambda\u001b[0m \u001b[0mx\u001b[0m\u001b[1;33m:\u001b[0m \u001b[1;33m-\u001b[0m\u001b[0mx\u001b[0m\u001b[1;33m[\u001b[0m\u001b[1;36m2\u001b[0m\u001b[1;33m]\u001b[0m\u001b[1;33m)\u001b[0m\u001b[1;33m\u001b[0m\u001b[0m\n\u001b[1;32m--> 850\u001b[1;33m         \u001b[0mprint\u001b[0m\u001b[1;33m(\u001b[0m\u001b[0msentences\u001b[0m\u001b[1;33m[\u001b[0m\u001b[1;36m0\u001b[0m\u001b[1;33m]\u001b[0m\u001b[1;33m[\u001b[0m\u001b[1;36m0\u001b[0m\u001b[1;33m]\u001b[0m\u001b[1;33m)\u001b[0m\u001b[1;33m\u001b[0m\u001b[0m\n\u001b[0m\u001b[0;32m    851\u001b[0m         \u001b[1;32mreturn\u001b[0m \u001b[0msentences\u001b[0m\u001b[1;33m[\u001b[0m\u001b[1;36m0\u001b[0m\u001b[1;33m]\u001b[0m\u001b[1;33m\u001b[0m\u001b[0m\n\u001b[0;32m    852\u001b[0m \u001b[1;33m\u001b[0m\u001b[0m\n",
      "\u001b[1;31mIndexError\u001b[0m: list index out of range"
     ]
    }
   ],
   "source": [
    "poem = lg.gen_poem_gpt(\"joan\", \"\",\n",
    "                       first_line_sylls=12, prompt_length=75, search_space=150, story_line=True,\n",
    "                       default_templates=[['WHO', 'VBD', 'NNS', 'IN', 'DT', 'NN'],\n",
    "                                          ['PRP', 'VBD', 'DT', 'NN'],\n",
    "                                          ['IN', 'DT', 'JJ', 'NN'],\n",
    "                                          ['CC', 'VBD', 'IN', 'DT', 'JJ', 'NN']\n",
    "                                         ])"
   ]
  },
  {
   "cell_type": "code",
   "execution_count": 19,
   "metadata": {},
   "outputs": [
    {
     "name": "stdout",
     "output_type": "stream",
     "text": [
      "['there', 'once', 'was', 'an', 'enthusiastic', 'man', 'named', 'case']\n",
      "INFO:tensorflow:Restoring parameters from gpt2/models\\117M\\model.ckpt\n",
      "INFO:tensorflow:Restoring parameters from gpt2/models\\117M\\model.ckpt\n",
      "INFO:tensorflow:Restoring parameters from gpt2/models\\117M\\model.ckpt\n",
      "INFO:tensorflow:Restoring parameters from gpt2/models\\117M\\model.ckpt\n",
      "INFO:tensorflow:Restoring parameters from gpt2/models\\117M\\model.ckpt\n",
      "INFO:tensorflow:Restoring parameters from gpt2/models\\117M\\model.ckpt\n",
      "INFO:tensorflow:Restoring parameters from gpt2/models\\117M\\model.ckpt\n",
      "['who', 'did', 'wonders', 'for', 'the', 'birthplace']\n",
      "INFO:tensorflow:Restoring parameters from gpt2/models\\117M\\model.ckpt\n",
      "INFO:tensorflow:Restoring parameters from gpt2/models\\117M\\model.ckpt\n",
      "INFO:tensorflow:Restoring parameters from gpt2/models\\117M\\model.ckpt\n",
      "INFO:tensorflow:Restoring parameters from gpt2/models\\117M\\model.ckpt\n",
      "['i', 'got', 'a', 'report']\n",
      "INFO:tensorflow:Restoring parameters from gpt2/models\\117M\\model.ckpt\n",
      "INFO:tensorflow:Restoring parameters from gpt2/models\\117M\\model.ckpt\n",
      "INFO:tensorflow:Restoring parameters from gpt2/models\\117M\\model.ckpt\n",
      "INFO:tensorflow:Restoring parameters from gpt2/models\\117M\\model.ckpt\n",
      "['from', 'a', 'local', 'court']\n",
      "INFO:tensorflow:Restoring parameters from gpt2/models\\117M\\model.ckpt\n",
      "INFO:tensorflow:Restoring parameters from gpt2/models\\117M\\model.ckpt\n",
      "INFO:tensorflow:Restoring parameters from gpt2/models\\117M\\model.ckpt\n",
      "INFO:tensorflow:Restoring parameters from gpt2/models\\117M\\model.ckpt\n",
      "INFO:tensorflow:Restoring parameters from gpt2/models\\117M\\model.ckpt\n",
      "INFO:tensorflow:Restoring parameters from gpt2/models\\117M\\model.ckpt\n",
      "['and', 'asked', 'for', 'a', 'special', 'grace']\n"
     ]
    }
   ],
   "source": [
    "poem = lg.gen_poem_gpt(\"grace\",\n",
    "                       first_line_sylls=12, prompt_length=100, search_space=100, story_line=True,\n",
    "                       default_templates=[['WHO', 'VBD', 'NNS', 'IN', 'DT', 'NN'],\n",
    "                                          ['PRP', 'VBD', 'DT', 'NN'],\n",
    "                                          ['IN', 'DT', 'JJ', 'NN'],\n",
    "                                          ['CC', 'VBD', 'IN', 'DT', 'JJ', 'NN']\n",
    "                                         ])"
   ]
  },
  {
   "cell_type": "markdown",
   "metadata": {},
   "source": [
    "# Choose the sentence with highest probability"
   ]
  },
  {
   "cell_type": "code",
   "execution_count": 22,
   "metadata": {},
   "outputs": [
    {
     "name": "stdout",
     "output_type": "stream",
     "text": [
      "INFO:tensorflow:Restoring parameters from gpt2/models\\117M\\model.ckpt\n",
      "INFO:tensorflow:Restoring parameters from gpt2/models\\117M\\model.ckpt\n",
      "INFO:tensorflow:Restoring parameters from gpt2/models\\117M\\model.ckpt\n",
      "INFO:tensorflow:Restoring parameters from gpt2/models\\117M\\model.ckpt\n",
      "INFO:tensorflow:Restoring parameters from gpt2/models\\117M\\model.ckpt\n",
      "INFO:tensorflow:Restoring parameters from gpt2/models\\117M\\model.ckpt\n",
      "['he', 'ordered', 'a', 'porterhouse', 'steak,', 'sauerkraut,', 'mince', 'pie', 'and', 'fruit', 'cake.', 'then', 'sat', 'down', 'to', 'dine,', 'drank', 'three', 'kinds', 'of', 'wine,', 'and', 'got', 'into', 'a', 'heated', 'argument']\n"
     ]
    }
   ],
   "source": [
    "poem = lg.gen_line_gpt(\"He ordered a porterhouse steak, sauerkraut, mince pie and fruit cake. Then sat down to dine, drank three kinds of wine,\", ['CC', 'VBD', 'IN', 'DT', 'JJ', 'NN'], False, 10)\n",
    "print(poem[0])"
   ]
  },
  {
   "cell_type": "code",
   "execution_count": 8,
   "metadata": {},
   "outputs": [
    {
     "name": "stdout",
     "output_type": "stream",
     "text": [
      "INFO:tensorflow:Restoring parameters from gpt2/models\\117M\\model.ckpt\n",
      "INFO:tensorflow:Restoring parameters from gpt2/models\\117M\\model.ckpt\n",
      "INFO:tensorflow:Restoring parameters from gpt2/models\\117M\\model.ckpt\n",
      "INFO:tensorflow:Restoring parameters from gpt2/models\\117M\\model.ckpt\n",
      "INFO:tensorflow:Restoring parameters from gpt2/models\\117M\\model.ckpt\n",
      "INFO:tensorflow:Restoring parameters from gpt2/models\\117M\\model.ckpt\n",
      "['he', 'ordered', 'a', 'porterhouse', 'steak,', 'sauerkraut,', 'mince', 'pie', 'and', 'fruit', 'cake.', 'then', 'sat', 'down', 'to', 'dine,', 'drank', 'three', 'kinds', 'of', 'wine,', 'and', 'got', 'into', 'a', 'heated', 'argument']\n"
     ]
    }
   ],
   "source": [
    "poem = lg.gen_line_gpt(\"He ordered a porterhouse steak, sauerkraut, mince pie and fruit cake. Then sat down to dine, drank three kinds of wine,\", ['CC', 'VBD', 'IN', 'DT', 'JJ', 'NN'], False, 100)\n",
    "print(poem[0])"
   ]
  },
  {
   "cell_type": "code",
   "execution_count": 9,
   "metadata": {},
   "outputs": [
    {
     "name": "stdout",
     "output_type": "stream",
     "text": [
      "INFO:tensorflow:Restoring parameters from gpt2/models\\117M\\model.ckpt\n",
      "INFO:tensorflow:Restoring parameters from gpt2/models\\117M\\model.ckpt\n",
      "INFO:tensorflow:Restoring parameters from gpt2/models\\117M\\model.ckpt\n",
      "INFO:tensorflow:Restoring parameters from gpt2/models\\117M\\model.ckpt\n",
      "INFO:tensorflow:Restoring parameters from gpt2/models\\117M\\model.ckpt\n",
      "INFO:tensorflow:Restoring parameters from gpt2/models\\117M\\model.ckpt\n",
      "(['there', 'was', 'a', 'young', 'woman', 'named', 'kite,', 'whose', 'speed', 'was', 'much', 'faster', 'than', 'light,', 'she', 'set', 'out', 'one', 'day,', 'in', 'a', 'relative', 'way,', 'and', 'come', 'from', 'the', 'other', 'world'], [8117, 9776, 64, 35465, 8580, 13190, 74, 38159, 12287, 9776, 29482, 69, 14813, 2971, 7091, 2617, 448, 505, 820, 259, 64, 43762, 1014, 392, 2958, 6738, 1169, 847, 6894], -19.603738605976105)\n"
     ]
    }
   ],
   "source": [
    "poem = lg.gen_line_gpt(\"There was a young woman named Kite, whose speed was much faster than light, she set out one day, in a relative way,\", \n",
    "                ['CC', 'VBN', 'IN', 'DT', 'JJ', 'NN'], False, 10)\n",
    "print(poem)"
   ]
  },
  {
   "cell_type": "code",
   "execution_count": 8,
   "metadata": {},
   "outputs": [
    {
     "name": "stdout",
     "output_type": "stream",
     "text": [
      "INFO:tensorflow:Restoring parameters from gpt2/models\\117M\\model.ckpt\n",
      "INFO:tensorflow:Restoring parameters from gpt2/models\\117M\\model.ckpt\n",
      "INFO:tensorflow:Restoring parameters from gpt2/models\\117M\\model.ckpt\n",
      "INFO:tensorflow:Restoring parameters from gpt2/models\\117M\\model.ckpt\n",
      "INFO:tensorflow:Restoring parameters from gpt2/models\\117M\\model.ckpt\n",
      "['a', 'man', 'and', 'his', 'lady-love,', 'min,', 'skated', 'out', 'where', 'the', 'ice', 'was', 'quite', 'thin,', 'had', 'a', 'quarrel,', 'no', 'doubt,', 'for', 'i', 'hear', 'they', 'fell', 'out', 'what', 'the', 'hell', 'he', 'going']\n"
     ]
    }
   ],
   "source": [
    "poem = lg.gen_line_gpt(\"A man and his lady-love, Min, Skated out where the ice was quite thin, Had a quarrel, no doubt, For I hear they fell out\", \n",
    "                ['WP', 'DT', 'NN', 'PRP', 'VBG'] ,False, 10)\n",
    "print(poem[0])"
   ]
  },
  {
   "cell_type": "markdown",
   "metadata": {},
   "source": [
    "## Rhyme Constraint"
   ]
  },
  {
   "cell_type": "code",
   "execution_count": 24,
   "metadata": {},
   "outputs": [
    {
     "name": "stdout",
     "output_type": "stream",
     "text": [
      "INFO:tensorflow:Restoring parameters from gpt2/models\\117M\\model.ckpt\n",
      "INFO:tensorflow:Restoring parameters from gpt2/models\\117M\\model.ckpt\n",
      "INFO:tensorflow:Restoring parameters from gpt2/models\\117M\\model.ckpt\n",
      "INFO:tensorflow:Restoring parameters from gpt2/models\\117M\\model.ckpt\n",
      "INFO:tensorflow:Restoring parameters from gpt2/models\\117M\\model.ckpt\n",
      "INFO:tensorflow:Restoring parameters from gpt2/models\\117M\\model.ckpt\n",
      "INFO:tensorflow:Restoring parameters from gpt2/models\\117M\\model.ckpt\n",
      "INFO:tensorflow:Restoring parameters from gpt2/models\\117M\\model.ckpt\n",
      "INFO:tensorflow:Restoring parameters from gpt2/models\\117M\\model.ckpt\n",
      "INFO:tensorflow:Restoring parameters from gpt2/models\\117M\\model.ckpt\n",
      "['why', 'do', 'we', 'have', 'homework', 'after', 'school?', 'this', 'is', 'so', 'uncool.', 'i', 'so', 'want', 'to', 'cry.', 'you', 'need', 'to', 'do', 'this', 'in', 'the', 'middle', 'of', 'school']\n"
     ]
    }
   ],
   "source": [
    "poem = lg.gen_line_gpt(\"Why do we have homework after school? This is so uncool. I so want to cry.\", \n",
    "               ['PRP', 'VBP', 'TO', 'VB', 'DT', 'IN', 'DT', 'NN', 'IN', 'NN'], 'school', 100)\n",
    "print(poem[0])"
   ]
  },
  {
   "cell_type": "code",
   "execution_count": 25,
   "metadata": {},
   "outputs": [
    {
     "name": "stdout",
     "output_type": "stream",
     "text": [
      "INFO:tensorflow:Restoring parameters from gpt2/models\\117M\\model.ckpt\n",
      "INFO:tensorflow:Restoring parameters from gpt2/models\\117M\\model.ckpt\n",
      "INFO:tensorflow:Restoring parameters from gpt2/models\\117M\\model.ckpt\n",
      "INFO:tensorflow:Restoring parameters from gpt2/models\\117M\\model.ckpt\n",
      "INFO:tensorflow:Restoring parameters from gpt2/models\\117M\\model.ckpt\n",
      "INFO:tensorflow:Restoring parameters from gpt2/models\\117M\\model.ckpt\n",
      "['he', 'ordered', 'a', 'porterhouse', 'steak,', 'sauerkraut,', 'mince', 'pie', 'and', 'fruit', 'cake.', 'then', 'sat', 'down', 'to', 'dine,', 'drank', 'three', 'kinds', 'of', 'wine,', 'and', 'got', 'into', 'a', 'little', 'break']\n"
     ]
    }
   ],
   "source": [
    "poem = lg.gen_line_gpt(\"He ordered a porterhouse steak, sauerkraut, mince pie and fruit cake. Then sat down to dine, drank three kinds of wine,\", ['CC', 'VBD', 'IN', 'DT', 'JJ', 'NN'], 'cake', 10)\n",
    "print(poem[0])"
   ]
  },
  {
   "cell_type": "code",
   "execution_count": 9,
   "metadata": {},
   "outputs": [
    {
     "name": "stdout",
     "output_type": "stream",
     "text": [
      "INFO:tensorflow:Restoring parameters from gpt2/models\\117M\\model.ckpt\n",
      "INFO:tensorflow:Restoring parameters from gpt2/models\\117M\\model.ckpt\n",
      "INFO:tensorflow:Restoring parameters from gpt2/models\\117M\\model.ckpt\n",
      "INFO:tensorflow:Restoring parameters from gpt2/models\\117M\\model.ckpt\n",
      "INFO:tensorflow:Restoring parameters from gpt2/models\\117M\\model.ckpt\n",
      "INFO:tensorflow:Restoring parameters from gpt2/models\\117M\\model.ckpt\n",
      "['there', 'was', 'a', 'young', 'woman', 'named', 'kite,', 'whose', 'speed', 'was', 'much', 'faster', 'than', 'light,', 'she', 'set', 'out', 'one', 'day,', 'in', 'a', 'relative', 'way,', 'and', 'come', 'from', 'the', 'first', 'night']\n"
     ]
    }
   ],
   "source": [
    "poem = lg.gen_line_gpt(\"There was a young woman named Kite, whose speed was much faster than light, she set out one day, in a relative way,\", \n",
    "                ['CC', 'VBN', 'IN', 'DT', 'JJ', 'NN'], 'light', 10)\n",
    "print(poem[0])"
   ]
  },
  {
   "cell_type": "markdown",
   "metadata": {},
   "source": [
    "# Naive Approach (generate only one setentence)"
   ]
  },
  {
   "cell_type": "code",
   "execution_count": 128,
   "metadata": {},
   "outputs": [
    {
     "name": "stdout",
     "output_type": "stream",
     "text": [
      "INFO:tensorflow:Restoring parameters from gpt2/models/117M/model.ckpt\n",
      "INFO:tensorflow:Restoring parameters from gpt2/models/117M/model.ckpt\n",
      "INFO:tensorflow:Restoring parameters from gpt2/models/117M/model.ckpt\n",
      "INFO:tensorflow:Restoring parameters from gpt2/models/117M/model.ckpt\n",
      "INFO:tensorflow:Restoring parameters from gpt2/models/117M/model.ckpt\n",
      "INFO:tensorflow:Restoring parameters from gpt2/models/117M/model.ckpt\n",
      "[' and', ' smoked', ' in', ' the', ' same', ' room']\n"
     ]
    }
   ],
   "source": [
    "poem = lg.gen_line_gpt(\"He ordered a porterhouse steak, sauerkraut, mince pie and fruit cake. Then sat down to dine, drank three kinds of wine,\", \n",
    "                (['CC', 'VBD', 'IN', 'DT', 'JJ', 'NN'], \n",
    "                 ['and', 'retired', 'with', 'a', 'bad', 'stomachache']),)"
   ]
  },
  {
   "cell_type": "code",
   "execution_count": 57,
   "metadata": {},
   "outputs": [
    {
     "name": "stdout",
     "output_type": "stream",
     "text": [
      "INFO:tensorflow:Restoring parameters from gpt2/models\\117M\\model.ckpt\n",
      "INFO:tensorflow:Restoring parameters from gpt2/models\\117M\\model.ckpt\n",
      "INFO:tensorflow:Restoring parameters from gpt2/models\\117M\\model.ckpt\n",
      "INFO:tensorflow:Restoring parameters from gpt2/models\\117M\\model.ckpt\n",
      "INFO:tensorflow:Restoring parameters from gpt2/models\\117M\\model.ckpt\n",
      "INFO:tensorflow:Restoring parameters from gpt2/models\\117M\\model.ckpt\n",
      "[' and', ' sat', ' near', ' the', ' main', ' kitchen']\n"
     ]
    }
   ],
   "source": [
    "poem = lg.gen_line_gpt(\"He ordered a porterhouse steak, sauerkraut, mince pie and fruit cake. Then sat down to dine, drank three kinds of wine,\", \n",
    "                (['CC', 'VBD', 'IN', 'DT', 'JJ', 'NN'], \n",
    "                 ['and', 'retired', 'with', 'a', 'bad', 'stomachache']),)\n",
    "print(poem)"
   ]
  },
  {
   "cell_type": "code",
   "execution_count": 59,
   "metadata": {},
   "outputs": [
    {
     "name": "stdout",
     "output_type": "stream",
     "text": [
      "INFO:tensorflow:Restoring parameters from gpt2/models\\117M\\model.ckpt\n",
      "INFO:tensorflow:Restoring parameters from gpt2/models\\117M\\model.ckpt\n",
      "INFO:tensorflow:Restoring parameters from gpt2/models\\117M\\model.ckpt\n",
      "INFO:tensorflow:Restoring parameters from gpt2/models\\117M\\model.ckpt\n",
      "INFO:tensorflow:Restoring parameters from gpt2/models\\117M\\model.ckpt\n",
      "INFO:tensorflow:Restoring parameters from gpt2/models\\117M\\model.ckpt\n",
      "[' Who', ' all', ' fall', ' he', ' heard', ' in']\n"
     ]
    }
   ],
   "source": [
    "poem = lg.gen_line_gpt(\"A man and his lady-love, Min, Skated out where the ice was quite thin, Had a quarrel, no doubt, For I hear they fell out\", \n",
    "                (['WP', 'DT', 'NN', 'PRP', 'VBP', 'IN'], ['what', 'a', 'blessing', 'they', 'didnt', 'fall', 'in']) ,rhyme=\"thin\")\n",
    "print(poem)"
   ]
  },
  {
   "cell_type": "code",
   "execution_count": 4,
   "metadata": {},
   "outputs": [
    {
     "name": "stdout",
     "output_type": "stream",
     "text": [
      "WARNING:tensorflow:From E:\\Anaconda3\\lib\\site-packages\\tensorflow\\python\\framework\\op_def_library.py:263: colocate_with (from tensorflow.python.framework.ops) is deprecated and will be removed in a future version.\n",
      "Instructions for updating:\n",
      "Colocations handled automatically by placer.\n",
      "WARNING:tensorflow:From E:\\poetix\\gpt2\\src\\score.py:54: to_float (from tensorflow.python.ops.math_ops) is deprecated and will be removed in a future version.\n",
      "Instructions for updating:\n",
      "Use tf.cast instead.\n",
      "WARNING:tensorflow:From E:\\Anaconda3\\lib\\site-packages\\tensorflow\\python\\training\\saver.py:1266: checkpoint_exists (from tensorflow.python.training.checkpoint_management) is deprecated and will be removed in a future version.\n",
      "Instructions for updating:\n",
      "Use standard file APIs to check for files with this prefix.\n",
      "INFO:tensorflow:Restoring parameters from gpt2/models\\117M\\model.ckpt\n",
      "INFO:tensorflow:Restoring parameters from gpt2/models\\117M\\model.ckpt\n",
      "INFO:tensorflow:Restoring parameters from gpt2/models\\117M\\model.ckpt\n",
      "INFO:tensorflow:Restoring parameters from gpt2/models\\117M\\model.ckpt\n",
      "INFO:tensorflow:Restoring parameters from gpt2/models\\117M\\model.ckpt\n",
      "INFO:tensorflow:Restoring parameters from gpt2/models\\117M\\model.ckpt\n",
      "[' and', ' found', ' that', ' the', ' young', 'Knight']\n"
     ]
    }
   ],
   "source": [
    "poem = lg.gen_line_gpt(\"There was a young woman named Kite, whose speed was much faster than light, she set out one day, in a relative way,\", \n",
    "               (['CC', 'VBN', 'IN', 'DT', 'JJ', 'NN'], \n",
    "                ['and', 'returned', 'on', 'the', 'previous', 'night']),rhyme=\"light\")\n",
    "print(poem)"
   ]
  },
  {
   "cell_type": "code",
   "execution_count": 46,
   "metadata": {},
   "outputs": [
    {
     "name": "stdout",
     "output_type": "stream",
     "text": [
      "INFO:tensorflow:Restoring parameters from gpt2/models\\117M\\model.ckpt\n",
      "INFO:tensorflow:Restoring parameters from gpt2/models\\117M\\model.ckpt\n",
      "INFO:tensorflow:Restoring parameters from gpt2/models\\117M\\model.ckpt\n",
      "INFO:tensorflow:Restoring parameters from gpt2/models\\117M\\model.ckpt\n",
      "INFO:tensorflow:Restoring parameters from gpt2/models\\117M\\model.ckpt\n",
      "INFO:tensorflow:Restoring parameters from gpt2/models\\117M\\model.ckpt\n",
      "[' but', ' found', ' at', ' all', ' horrible', ' plight']\n"
     ]
    }
   ],
   "source": [
    "poem = lg.gen_line_gpt(\"There was a young woman named Kite, whose speed was much faster than light, she set out one day, in a relative way,\", \n",
    "               (['CC', 'VBN', 'IN', 'DT', 'JJ', 'NN'], \n",
    "                ['and', 'returned', 'on', 'the', 'previous', 'night']),rhyme=\"light\")\n",
    "print(poem)"
   ]
  },
  {
   "cell_type": "code",
   "execution_count": 48,
   "metadata": {},
   "outputs": [
    {
     "name": "stdout",
     "output_type": "stream",
     "text": [
      "INFO:tensorflow:Restoring parameters from gpt2/models\\117M\\model.ckpt\n",
      "INFO:tensorflow:Restoring parameters from gpt2/models\\117M\\model.ckpt\n",
      "INFO:tensorflow:Restoring parameters from gpt2/models\\117M\\model.ckpt\n",
      "INFO:tensorflow:Restoring parameters from gpt2/models\\117M\\model.ckpt\n",
      "INFO:tensorflow:Restoring parameters from gpt2/models\\117M\\model.ckpt\n",
      "INFO:tensorflow:Restoring parameters from gpt2/models\\117M\\model.ckpt\n",
      "[' and', ' stayed', ' with', ' the', ' other', ' night']\n"
     ]
    }
   ],
   "source": [
    "poem = lg.gen_line_gpt(\"There was a young woman named Kite, whose speed was much faster than light, she set out one day, in a relative way,\", \n",
    "               (['CC', 'VBN', 'IN', 'DT', 'JJ', 'NN'], \n",
    "                ['and', 'returned', 'on', 'the', 'previous', 'night']),rhyme=\"light\")\n",
    "print(poem)"
   ]
  },
  {
   "cell_type": "markdown",
   "metadata": {},
   "source": [
    "## No Template Constraint\n",
    "There was a young lady named Perkins, Who just simply doted on gherkins. In spite of advice, she ate so much spice, which favour the youngsters, and greatly mortified the obstinate young girl, who turned out to be a pauper."
   ]
  },
  {
   "cell_type": "code",
   "execution_count": 40,
   "metadata": {},
   "outputs": [
    {
     "name": "stdout",
     "output_type": "stream",
     "text": [
      "INFO:tensorflow:Restoring parameters from gpt2/models\\117M\\model.ckpt\n",
      "INFO:tensorflow:Restoring parameters from gpt2/models\\117M\\model.ckpt\n",
      "INFO:tensorflow:Restoring parameters from gpt2/models\\117M\\model.ckpt\n",
      "INFO:tensorflow:Restoring parameters from gpt2/models\\117M\\model.ckpt\n",
      "INFO:tensorflow:Restoring parameters from gpt2/models\\117M\\model.ckpt\n",
      "INFO:tensorflow:Restoring parameters from gpt2/models\\117M\\model.ckpt\n",
      "INFO:tensorflow:Restoring parameters from gpt2/models\\117M\\model.ckpt\n",
      "INFO:tensorflow:Restoring parameters from gpt2/models\\117M\\model.ckpt\n",
      "INFO:tensorflow:Restoring parameters from gpt2/models\\117M\\model.ckpt\n",
      "[' and', ' the', ' lady', ' from', ' the', ' festival', ' of', ' the', ' Tiger']\n"
     ]
    }
   ],
   "source": [
    "poem = lg.gen_line_gpt(\"There was a young lady from Niger, Who smiled as she rode on a tiger. They came back from the ride with the lady inside,\", \n",
    "               (['CC', 'DT', 'NN', 'IN', 'DT', 'NN', 'IN', 'DT', 'NN'], \n",
    "                ['and', 'the', 'smile', 'on', 'the', 'face', 'of', 'the', 'tiger'], 3), rhyme=\"tiger\")\n",
    "print(poem)"
   ]
  },
  {
   "cell_type": "markdown",
   "metadata": {},
   "source": [
    "# Generate with prompt"
   ]
  },
  {
   "cell_type": "code",
   "execution_count": 86,
   "metadata": {},
   "outputs": [],
   "source": [
    "f = open('prompt2.txt','r')\n",
    "template = f.read()"
   ]
  },
  {
   "cell_type": "code",
   "execution_count": 82,
   "metadata": {},
   "outputs": [
    {
     "name": "stdout",
     "output_type": "stream",
     "text": [
      "[[1326], [1326], [72], [1326], [258], [732], [270], [18855], [732], [1326], [258]]\n",
      "INFO:tensorflow:Restoring parameters from gpt2/models/117M/model.ckpt\n",
      "[[1326, 83], [1326, 46037], [72, 7174], [1326, 65], [258, 83], [732, 66], [270, 83], [18855, 28895], [732, 28895], [1326, 4529], [258, 9776]]\n",
      "INFO:tensorflow:Restoring parameters from gpt2/models/117M/model.ckpt\n",
      "[[1326, 83, 505], [1326, 46037, 505], [72, 7174, 505], [1326, 65, 505], [258, 83, 505], [732, 66, 505], [270, 83, 505], [18855, 28895, 505], [732, 28895, 505], [1326, 4529, 505], [258, 9776, 505]]\n",
      "INFO:tensorflow:Restoring parameters from gpt2/models/117M/model.ckpt\n",
      "[[1326, 83, 505, 1084], [1326, 46037, 505, 37330], [72, 7174, 505, 9979], [1326, 65, 505, 46037], [258, 83, 505, 9979], [732, 66, 505, 12001], [270, 83, 505, 1904], [18855, 28895, 505, 14664], [732, 28895, 505, 489], [1326, 4529, 505, 23913], [258, 9776, 505, 12543]]\n",
      "INFO:tensorflow:Restoring parameters from gpt2/models/117M/model.ckpt\n",
      "[[1326, 83, 505, 1084, 85], [1326, 46037, 505, 37330, 28895], [72, 7174, 505, 9979, 22680], [1326, 65, 505, 46037, 19205], [258, 83, 505, 9979, 17319], [732, 66, 505, 12001, 28895], [270, 83, 505, 1904, 4853], [18855, 28895, 505, 14664, 86], [732, 28895, 505, 489, 28895], [1326, 4529, 505, 23913, 9688], [258, 9776, 505, 12543, 22932]]\n",
      "INFO:tensorflow:Restoring parameters from gpt2/models/117M/model.ckpt\n",
      "[[1326, 83, 505, 1084, 85, 448], [1326, 46037, 505, 37330, 28895, 1659], [72, 7174, 505, 9979, 22680, 2502], [1326, 65, 505, 46037, 19205, 1525], [258, 83, 505, 9979, 17319, 6738], [732, 66, 505, 12001, 28895, 361], [270, 83, 505, 1904, 4853, 1659], [18855, 28895, 505, 14664, 86, 1640], [732, 28895, 505, 489, 28895, 13893], [1326, 4529, 505, 23913, 9688, 1525], [258, 9776, 505, 12543, 22932, 4480]]\n",
      "INFO:tensorflow:Restoring parameters from gpt2/models/117M/model.ckpt\n",
      "[[1326, 83, 505, 1084, 85, 448, 5562], [1326, 46037, 505, 37330, 28895, 1659, 3919], [72, 7174, 505, 9979, 22680, 2502, 27218], [1326, 65, 505, 46037, 19205, 1525, 5562], [258, 83, 505, 9979, 17319, 6738, 5562], [732, 66, 505, 12001, 28895, 361, 25591], [270, 83, 505, 1904, 4853, 1659, 64], [18855, 28895, 505, 14664, 86, 1640, 27218], [732, 28895, 505, 489, 28895, 13893, 1169], [1326, 4529, 505, 23913, 9688, 1525, 64], [258, 9776, 505, 12543, 22932, 4480, 64]]\n",
      "INFO:tensorflow:Restoring parameters from gpt2/models/117M/model.ckpt\n",
      "[[1326, 83, 505, 1084, 85, 448, 5562, 14261], [1326, 46037, 505, 37330, 28895, 1659, 3919, 29468], [72, 7174, 505, 9979, 22680, 2502, 27218, 2382], [1326, 65, 505, 46037, 19205, 1525, 5562, 29468], [258, 83, 505, 9979, 17319, 6738, 5562, 9509], [732, 66, 505, 12001, 28895, 361, 25591, 13424], [270, 83, 505, 1904, 4853, 1659, 64, 1904], [18855, 28895, 505, 14664, 86, 1640, 27218, 9979], [732, 28895, 505, 489, 28895, 13893, 1169, 31642], [1326, 4529, 505, 23913, 9688, 1525, 64, 33282], [258, 9776, 505, 12543, 22932, 4480, 64, 44460]]\n",
      "INFO:tensorflow:Restoring parameters from gpt2/models/117M/model.ckpt\n",
      "[['me', 'took', 'one', 'minor', 'vocation', 'out', 'that', 'big', 'year'], ['me', 'interrupted', 'one', 'supreme', 'thought', 'of', 'no', 'daily', 'city'], ['i', 'called', 'one', 'constant', 'business', 'over', 'these', 'american', 'insult'], ['me', 'brought', 'one', 'interrupted', 'city', 'by', 'that', 'daily', 'way'], ['he', 'tried', 'one', 'constant', 'course', 'from', 'that', 'electrical', 'while'], ['we', 'came', 'one', 'local', 'thought', 'if', 'those', 'black', 'shift'], ['it', 'took', 'one', 'useful', 'equipment', 'of', 'a', 'useful', 'question'], ['them', 'thought', 'one', 'musical', 'wicked', 'for', 'these', 'constant', 'vocation'], ['we', 'thought', 'one', 'plush', 'thought', 'because', 'the', 'same', 'mission'], ['me', 'mailed', 'one', 'average', 'start', 'by', 'a', 'brown', 'equipment'], ['he', 'was', 'one', 'funny', 'guy', 'with', 'a', 'nice', 'car']]\n",
      "[-71.72274684906006, -84.4507827758789, -87.47336006164551, -77.24297523498535, -80.71968078613281, -83.54064512252808, -75.2580795288086, -76.95113897323608, -70.17250204086304, -83.5114426612854, -64.13277053833008]\n"
     ]
    }
   ],
   "source": [
    "lg.gen_line_with_template(template, (['PRP', 'VBD', 'CD', 'JJ', 'NN', 'IN', 'DT', 'JJ', 'NN'], \n",
    "                                     ['he', 'was', 'one', 'funny', 'guy', 'with', 'a', 'nice', 'car'], 4))"
   ]
  },
  {
   "cell_type": "code",
   "execution_count": 29,
   "metadata": {
    "collapsed": true
   },
   "outputs": [
    {
     "name": "stdout",
     "output_type": "stream",
     "text": [
      "INFO:tensorflow:Restoring parameters from gpt2/models/117M/model.ckpt\n",
      "INFO:tensorflow:Restoring parameters from gpt2/models/117M/model.ckpt\n",
      "INFO:tensorflow:Restoring parameters from gpt2/models/117M/model.ckpt\n",
      "INFO:tensorflow:Restoring parameters from gpt2/models/117M/model.ckpt\n",
      "INFO:tensorflow:Restoring parameters from gpt2/models/117M/model.ckpt\n",
      "INFO:tensorflow:Restoring parameters from gpt2/models/117M/model.ckpt\n",
      "INFO:tensorflow:Restoring parameters from gpt2/models/117M/model.ckpt\n",
      "INFO:tensorflow:Restoring parameters from gpt2/models/117M/model.ckpt\n",
      "INFO:tensorflow:Restoring parameters from gpt2/models/117M/model.ckpt\n",
      "INFO:tensorflow:Restoring parameters from gpt2/models/117M/model.ckpt\n",
      "INFO:tensorflow:Restoring parameters from gpt2/models/117M/model.ckpt\n",
      "INFO:tensorflow:Restoring parameters from gpt2/models/117M/model.ckpt\n",
      "INFO:tensorflow:Restoring parameters from gpt2/models/117M/model.ckpt\n",
      "[('he was one funny brit with a nice head of hair on his pate', -176.0026502609253)]\n"
     ]
    }
   ],
   "source": [
    "lg.gen_line_with_template(template, (['PRP', 'VBD', 'CD', 'JJ', 'NN', 'IN', 'DT', 'JJ', 'NN', 'IN', 'NN', 'IN', 'PRP$', 'NN'], \n",
    "                                     ['he', 'was', 'one', 'funny', 'brit', 'with', 'a', 'nice', 'head', 'of', 'hair', 'on', 'his', 'pate'], 4))"
   ]
  },
  {
   "cell_type": "code",
   "execution_count": 87,
   "metadata": {},
   "outputs": [
    {
     "name": "stderr",
     "output_type": "stream",
     "text": [
      "\r",
      "  0%|          | 0/5 [00:00<?, ?it/s]"
     ]
    },
    {
     "name": "stdout",
     "output_type": "stream",
     "text": [
      "INFO:tensorflow:Restoring parameters from gpt2/models/117M/model.ckpt\n"
     ]
    },
    {
     "name": "stderr",
     "output_type": "stream",
     "text": [
      "\r",
      " 20%|██        | 1/5 [00:06<00:25,  6.45s/it]"
     ]
    },
    {
     "name": "stdout",
     "output_type": "stream",
     "text": [
      "INFO:tensorflow:Restoring parameters from gpt2/models/117M/model.ckpt\n"
     ]
    },
    {
     "name": "stderr",
     "output_type": "stream",
     "text": [
      "\r",
      " 40%|████      | 2/5 [00:11<00:18,  6.10s/it]"
     ]
    },
    {
     "name": "stdout",
     "output_type": "stream",
     "text": [
      "INFO:tensorflow:Restoring parameters from gpt2/models/117M/model.ckpt\n"
     ]
    },
    {
     "name": "stderr",
     "output_type": "stream",
     "text": [
      "\r",
      " 60%|██████    | 3/5 [00:17<00:11,  5.95s/it]"
     ]
    },
    {
     "name": "stdout",
     "output_type": "stream",
     "text": [
      "INFO:tensorflow:Restoring parameters from gpt2/models/117M/model.ckpt\n"
     ]
    },
    {
     "name": "stderr",
     "output_type": "stream",
     "text": [
      "\r",
      " 80%|████████  | 4/5 [00:23<00:05,  5.93s/it]"
     ]
    },
    {
     "name": "stdout",
     "output_type": "stream",
     "text": [
      "INFO:tensorflow:Restoring parameters from gpt2/models/117M/model.ckpt\n"
     ]
    },
    {
     "name": "stderr",
     "output_type": "stream",
     "text": [
      "\r",
      "100%|██████████| 5/5 [00:29<00:00,  5.98s/it]"
     ]
    },
    {
     "name": "stdout",
     "output_type": "stream",
     "text": [
      "-33.64236831665039:['it', 'could', 'read', 'to', 'the', 'universe']\n",
      "-37.41541051864624:['he', 'would', 'go', 'to', 'a', 'party']\n",
      "-37.79438257217407:['she', 'could', 'make', 'to', 'this', 're']\n",
      "-38.859190940856934:['me', 'shall', 'do', 'to', 'the', 'world']\n",
      "-38.904462575912476:['you', 'would', 'have', 'to', 'every', 'part']\n",
      "-39.291123390197754:['they', 'must', 'create', 'to', 'the', 'head']\n",
      "-39.50753688812256:['us', 'would', 'have', 'to', 'either', 'key']\n",
      "-39.595194816589355:['oftener', 'could', 'change', 'to', 'either', 'look']\n",
      "-40.514989376068115:['themselves', 'shouldnt', 'want', 'to', 'both', 'perspective']\n",
      "-40.55293893814087:['i', 'can', 'stare', 'at', 'the', 'sky']\n",
      "-40.98474740982056:['them', 'could', 'get', 'to', 'each', 'create']\n",
      "-40.98748826980591:['it', 'will', 'answer', 'to', 'that', 'joy']\n",
      "-41.257362842559814:['themselves', 'will', 'make', 'to', 'all', 'someone']\n",
      "-41.304943323135376:['itself', 'ought', 'read', 'to', 'the', 'something']\n",
      "-41.317829608917236:['self', 'shall', 'get', 'to', 'that', 'joy']\n",
      "-41.840683460235596:['self', 'will', 'read', 'to', 'any', 'part']\n",
      "-41.86216688156128:['itself', 'ought', 'look', 'to', 'this', 'object']\n",
      "-42.13162326812744:['i', 'couldnt', 'have', 'to', 'all', 'answer']\n",
      "-42.2010064125061:['she', 'shouldnt', 'read', 'to', 'no', 'right']\n",
      "-42.223740100860596:['meltst', 'shouldnt', 'read', 'to', 'any', 'key']\n",
      "-42.31282567977905:['himself', 'dare', 'answer', 'to', 'both', 'world']\n",
      "-42.403303146362305:['herself', 'could', 'do', 'to', 'each', 'understood']\n",
      "-42.44603967666626:['me', 'couldnt', 'see', 'to', 'every', 'love']\n",
      "-42.65145015716553:['yourself', 'shouldnt', 'see', 'to', 'any', 'mind']\n",
      "-42.68892478942871:['massacred', 'shouldnt', 'read', 'to', 'all', 'nature']\n",
      "-43.08396530151367:['themselves', 'dare', 'get', 'to', 'those', 'someone']\n",
      "-43.51232147216797:['yourself', 'shall', 'look', 'to', 'such', 'object']\n",
      "-43.79765319824219:['thyself', 'might', 'look', 'to', 'that', 'nothing']\n",
      "-43.93553352355957:['onesself', 'would', 'do', 'to', 'these', 'luck']\n",
      "-44.05070638656616:['handfuls', 'cannot', 'realize', 'to', 'this', 'object']\n",
      "-44.1845645904541:['itself', 'ought', 'be', 'to', 'a', 'place']\n",
      "-44.35441732406616:['she', 'need', 'have', 'to', 'those', 'world']\n",
      "-44.52108573913574:['overthrow', 'may', 'feel', 'to', 'that', 'kindness']\n",
      "-44.54827404022217:['they', 'dare', 'know', 'to', 'that', 'someone']\n",
      "-44.77217674255371:['me', 'shouldnt', 'make', 'to', 'either', 'head']\n",
      "-44.9534478187561:['they', 'may', 'have', 'to', 'no', 'everyone']\n",
      "-45.041504859924316:['yourself', 'could', 'create', 'to', 'an', 'friendship']\n",
      "-45.098647594451904:['handfuls', 'shall', 'know', 'to', 'both', 'kind']\n",
      "-45.13144874572754:['i', 'may', 'change', 'to', 'that', 'change']\n",
      "-45.14540910720825:['he', 'would', 'look', 'to', 'an', 'share']\n",
      "-45.271042823791504:['us', 'might', 'make', 'to', 'neither', 'joy']\n",
      "-45.50499963760376:['yelps', 'will', 'know', 'to', 'another', 'key']\n",
      "-45.84663486480713:['elf', 'shall', 're', 'to', 'the', 'look']\n",
      "-45.968549728393555:['him', 'dare', 'feel', 'to', 'a', 'kindness']\n",
      "-46.05663013458252:['ye', 'will', 'see', 'to', 'some', 'thought']\n",
      "-46.13122606277466:['yelps', 'can', 'be', 'to', 'all', 'head']\n",
      "-46.2157564163208:['ye', 'couldnt', 'feel', 'to', 'neither', 'meant']\n",
      "-46.24919605255127:['they', 'couldnt', 'realize', 'to', 'each', 'thought']\n",
      "-46.40546894073486:['it', 'cannot', 'see', 'to', 'that', 'object']\n",
      "-46.50616121292114:['you', 'cannot', 'look', 'to', 'each', 'answer']\n",
      "-46.782352447509766:['overthrow', 'shouldnt', 'look', 'to', 'either', 'question']\n",
      "-47.02110147476196:['meltst', 'must', 'get', 'to', 'this', 'luck']\n",
      "-47.06746768951416:['him', 'can', 'have', 'to', 'those', 'object']\n",
      "-47.08656597137451:['meltst', 'would', 'create', 'to', 'another', 'nothing']\n",
      "-47.32706594467163:['massacred', 'need', 're', 'to', 'either', 'friendship']\n",
      "-47.383381366729736:['handfuls', 'cannot', 'create', 'to', 'both', 'friendship']\n",
      "-47.40849232673645:['i', 'shall', 'want', 'to', 'either', 'someone']\n",
      "-47.463990211486816:['you', 'can', 'object', 'to', 'those', 'kindness']\n",
      "-47.72133445739746:['ont', 'ought', 'see', 'to', 'an', 'friendship']\n",
      "-47.87050533294678:['himself', 'dare', 'know', 'to', 'half', 'mind']\n",
      "-47.93333196640015:['thyself', 'will', 'read', 'to', 'no', 'part']\n",
      "-48.37499809265137:['them', 'ought', 'create', 'to', 'every', 'object']\n",
      "-48.43808650970459:['me', 'will', 'object', 'to', 'any', 'question']\n",
      "-48.50966787338257:['you', 'need', 'have', 'to', 'these', 'everyone']\n",
      "-48.697081565856934:['meltst', 'might', 'change', 'to', 'both', 'something']\n",
      "-48.89209771156311:['onesself', 'need', 'want', 'to', 'these', 'nothing']\n",
      "-48.89372682571411:['we', 'dare', 'be', 'to', 'either', 'mind']\n",
      "-48.90936231613159:['me', 'may', 're', 'to', 'these', 'meaning']\n",
      "-48.98923301696777:['it', 'can', 'object', 'to', 'both', 'create']\n",
      "-49.0537314414978:['itself', 'ought', 'object', 'to', 'another', 'answer']\n",
      "-49.080400466918945:['elf', 'shall', 're', 'to', 'any', 'key']\n",
      "-49.16201734542847:['yourself', 'ought', 'create', 'to', 'both', 'head']\n",
      "-49.20561408996582:['myself', 'could', 'perspective', 'to', 'an', 'kind']\n",
      "-49.309041023254395:['wither', 'will', 'do', 'to', 'some', 'create']\n",
      "-49.42597198486328:['theirs', 'ought', 'look', 'to', 'neither', 'compassion']\n",
      "-49.512078285217285:['we', 'cannot', 'perspective', 'to', 'another', 'compassion']\n",
      "-49.572465896606445:['mantelshelf', 'may', 're', 'to', 'each', 'look']\n",
      "-49.969780921936035:['theirs', 'may', 'perspective', 'to', 'the', 'thought']\n",
      "-50.05227088928223:['himself', 'may', 'feel', 'to', 'half', 'something']\n",
      "-50.07360601425171:['he', 'may', 'object', 'to', 'this', 'sense']\n",
      "-50.110952377319336:['herself', 'cannot', 'perspective', 'to', 'this', 'perspective']\n",
      "-50.390286445617676:['mantelshelf', 'shall', 'do', 'to', 'either', 'meant']\n",
      "-50.51639938354492:['overthrow', 'shall', 'object', 'to', 'those', 'thought']\n",
      "-50.551188468933105:['herself', 'shouldnt', 'create', 'to', 'no', 'right']\n",
      "-50.56462478637695:['ye', 'shall', 'know', 'to', 'this', 'everyone']\n",
      "-50.61376953125:['onesself', 'shall', 'do', 'to', 'no', 'meaning']\n",
      "-50.62317132949829:['himself', 'must', 'realize', 'to', 'each', 'create']\n",
      "-51.0150032043457:['ye', 'will', 'create', 'to', 'such', 'thought']\n",
      "-51.46578598022461:['themselves', 'shall', 'object', 'to', 'some', 'acceptance']\n",
      "-51.476492404937744:['oftener', 'ought', 're', 'to', 'both', 'thought']\n",
      "-51.75570297241211:['mantelshelf', 'may', 'make', 'to', 'either', 'spirit']\n",
      "-51.868536949157715:['us', 'ought', 'object', 'to', 'every', 'someone']\n",
      "-52.84356117248535:['ont', 'shall', 'read', 'to', 'no', 'spirit']\n",
      "-53.09879684448242:['himself', 'will', 'perspective', 'to', 'every', 'look']\n",
      "-54.41274547576904:['ont', 'ought', 're', 'to', 'those', 'change']\n",
      "-54.6750431060791:['massacred', 'must', 'realize', 'to', 'each', 'luck']\n",
      "-54.75090456008911:['i', 'ought', 'create', 'to', 'each', 'joy']\n",
      "-55.006789207458496:['us', 'ought', 'perspective', 'to', 'any', 'create']\n",
      "-56.020450592041016:['ye', 'may', 'realize', 'to', 'no', 'place']\n",
      "-56.20230579376221:['overthrow', 'shall', 'perspective', 'to', 'those', 'power']\n",
      "-56.75651454925537:['yelps', 'might', 'perspective', 'to', 'this', 'friendship']\n",
      "-58.6817512512207:['theirs', 'shall', 'perspective', 'to', 'every', 'share']\n"
     ]
    },
    {
     "name": "stderr",
     "output_type": "stream",
     "text": [
      "\n"
     ]
    }
   ],
   "source": [
    "lg.gen_line_with_template(template,['PRP', 'MD', 'VB', 'TO','DT', 'NN'],100)"
   ]
  },
  {
   "cell_type": "markdown",
   "metadata": {},
   "source": [
    "# Generate First Line"
   ]
  },
  {
   "cell_type": "code",
   "execution_count": 53,
   "metadata": {},
   "outputs": [
    {
     "name": "stdout",
     "output_type": "stream",
     "text": [
      "The autoreload extension is already loaded. To reload it, use:\n",
      "  %reload_ext autoreload\n"
     ]
    }
   ],
   "source": [
    "%load_ext autoreload\n",
    "%autoreload 2"
   ]
  },
  {
   "cell_type": "code",
   "execution_count": 4,
   "metadata": {},
   "outputs": [
    {
     "name": "stdout",
     "output_type": "stream",
     "text": [
      "4\n"
     ]
    }
   ],
   "source": [
    "from py_files.Limericks_new2 import Limerick_Generate_new\n",
    "lg = Limerick_Generate_new()"
   ]
  },
  {
   "cell_type": "code",
   "execution_count": 5,
   "metadata": {},
   "outputs": [
    {
     "name": "stdout",
     "output_type": "stream",
     "text": [
      "{'second': {'NN': [(['WP$', 'NN', 'VBD', 'DT', 'NN', 'IN', 'NN'], ['whose', 'pa', 'made', 'a', 'fortune', 'in', 'pork'], [7, 8]), (['WHO', 'VBD', 'JJ', 'NN', 'IN', 'NN'], ['who', 'was', 'quite', 'fond', 'of', 'feedin'], [6, 6]), (['WHO', 'VBD', 'DT', 'JJ', 'NN', 'DT', 'NN'], ['who', 'read', 'a', 'love', 'story', 'each', 'day'], [7, 8]), (['WHO', 'VBD', 'DT', 'PRP$', 'NN', 'IN', 'DT', 'NN'], ['who', 'kept', 'all', 'his', 'cash', 'in', 'a', 'bucket'], [8, 9]), (['WHO', 'VBD', 'AS', 'PRP', 'VBD', 'IN', 'DT', 'NN'], ['who', 'smiled', 'as', 'she', 'rode', 'on', 'a', 'tiger'], [8, 9]), (['WHO', 'VBD', 'DT', 'NN', 'IN', 'NN'], ['who', 'hadnt', 'an', 'atom', 'of', 'fear'], [6, 7]), (['WHO', 'VBD', 'RP', 'PRP$', 'NNS', 'IN', 'DT', 'NN'], ['who', 'sent', 'out', 'his', 'cards', 'for', 'a', 'party'], [8, 9]), (['WHO', 'VBD', 'PRP', 'RB', 'IN', 'DT', 'NN'], ['who', 'found', 'himself', 'quite', 'at', 'a', 'loss'], [7, 8]), (['WHO', 'VBD', 'IN', 'JJ', 'NN'], ['who', 'lived', 'on', 'distilled', 'kerosene'], [5, 8]), (['WHO', 'VBD', 'DT', 'JJ', 'NN', 'IN', 'PRP$', 'NN'], ['who', 'had', 'a', 'large', 'wart', 'on', 'her', 'nose'], [8, 8]), (['WP$', 'NN', 'VBD', 'RB', 'JJR', 'THAN', 'NN'], ['whose', 'speed', 'was', 'much', 'faster', 'than', 'light'], [7, 8])], 'NNS': [(['WHO', 'RB', 'VBD', 'IN', 'NNS'], ['who', 'simply', 'doted', 'on', 'gherkins'], [5, 6]), (['WHO', 'VBD', 'IN', 'DT', 'NN', 'IN', 'NNS'], ['who', 'slipped', 'on', 'a', 'peel', 'of', 'bananas'], [7, 9]), (['WHO', 'VBD', 'IN', 'CD', 'IN', 'PRP$', 'NNS'], ['who', 'married', 'on', 'one', 'of', 'his', 'trips'], [7, 8])], 'VBD': [(['WHO', 'VBD', 'DT', 'JJ', 'NN', 'CC', 'VBD'], ['who', 'ate', 'a', 'green', 'apple', 'and', 'died'], [7, 8]), (['WP', 'VBD', ',', 'PRP$', 'RB', 'AS', 'PRP', 'VBD'], ['who', 'said', ',', 'its', 'just', 'as', 'i', 'feared'], [7, 7])], 'JJR': [(['WP$', 'NN', 'VBD', 'JJR', 'CC', 'JJR'], ['whose', 'knowledge', 'grew', 'lesser', 'and', 'lesser'], [6, 9]), (['WP', 'VBD', ',', 'DT', 'MD', 'VB', 'VBN', 'JJR'], ['who', 'murmured', ',', 'this', 'might', 'have', 'been', 'worse'], [7, 8])], 'VB': [(['WP$', 'NNS', 'RB', 'MD', 'VB'], ['whose', 'limericks', 'never', 'would', 'scan'], [5, 8])], 'JJ': [(['WP$', 'NN', 'VBD', 'RBS', 'RB', 'JJ'], ['whose', 'nose', 'was', 'most', 'awfully', 'bent'], [6, 8]), (['WHO', 'VBD', 'SO', 'RB', 'JJ'], ['who', 'was', 'so', 'excessively', 'thin'], [5, 8]), (['WP$', 'NN', 'RB', 'VBD', 'JJ'], ['whose', 'appetite', 'simply', 'was', 'unich'], [5, 8]), (['WP$', 'NN', 'VBD', 'JJ', 'CC', 'JJ'], ['whose', 'knowledge', 'grew', 'green', 'and', 'strong'], [6, 7])]}, 'third': {'SO': [(['WHEN', 'VBD', 'DT', 'VBD', 'SO'], ['when', 'told', 'this', 'was', 'so'], [5, 5])], 'NNS': [(['IN', 'PRP$', 'NNS', 'IN', 'DT', 'NNS'], ['with', 'your', 'toes', 'on', 'the', 'keys'], [6, 6]), (['IN', 'PRP$', 'NN', ',', 'PRP$', 'NNS'], ['from', 'your', 'offspring', ',', 'my', 'dears'], [5, 6])], 'VBN': [(['AS', 'NN', 'WDT', 'VBZ', 'VBN'], ['as', 'spacetime', 'that', 'is', 'curved'], [5, 5]), (['CC', 'WHEN', 'PRP', 'VBP', 'VBN'], ['but', 'when', 'I', 'have', 'dough'], [5, 5]), (['IN', 'PRP$', 'NNS', 'VBZ', 'VBN'], ['because', 'its', 'feet', 'is', 'stuck'], [5, 6])], 'VB': [(['VBD', 'DT', 'NN', ',', 'VB', 'PRP', 'VB'], ['said', 'the', 'fly', ',', 'let', 'us', 'flee'], [6, 6]), (['VBD', 'DT', 'NN', ',', 'VB', 'RB', 'VB'], ['said', 'the', 'waiter', ',', 'do', 'not', 'shout'], [6, 7])], 'DT': [(['PRP', 'MD', 'VB', 'EX', 'VBP', 'DT'], ['I', 'could', 'swear', 'there', 'are', 'some'], [6, 6])], 'VBG': [(['CC', 'PRP', 'VBD', 'VBG'], ['but', 'she', 'started', 'absorbing'], [4, 7])], 'IN': [(['PDT', 'DT', 'NNS', 'VBD', 'IN'], ['all', 'the', 'flowers', 'looked', 'around'], [5, 7])], 'NN': [(['PRP', 'MD', 'VB', 'TO', 'DT', 'NN'], ['he', 'would', 'go', 'to', 'a', 'party'], [6, 7]), (['PRP', 'VBD', 'CD', 'TO', 'NN'], ['she', 'gave', 'one', 'to', 'adam'], [5, 6]), (['VBN', 'IN', 'DT', 'NN'], ['collapsed', 'from', 'the', 'strain'], [4, 5]), (['PRP', 'VBD', ',', 'IN', 'DT', 'NN'], ['he', 'said', ',', 'with', 'a', 'sigh'], [5, 5]), (['PRP', 'VBD', 'IN', 'PRP$', 'NN'], ['he', 'bought', 'for', 'his', 'daughter'], [5, 6]), (['PRP', 'VBD', 'RP', 'CD', 'NN'], ['she', 'set', 'out', 'one', 'day'], [5, 5]), (['WHEN', 'DT', 'NN', 'VBZ', 'PRP$', 'NN'], ['when', 'a', 'dame', 'wears', 'my', 'coat'], [6, 6]), (['DT', 'NN', 'IN', 'DT', 'NN'], ['a', 'fish', 'with', 'a', 'grin'], [5, 5]), (['VBD', 'DT', 'CD', 'TO', 'DT', 'NN'], ['said', 'the', 'two', 'to', 'the', 'tutor'], [6, 7]), (['VBD', 'DT', 'NN', 'IN', 'DT', 'NN'], ['said', 'the', 'man', 'at', 'the', 'door'], [6, 6]), (['VBD', 'DT', 'NN', ',', 'DT', 'NN'], ['had', 'a', 'quarrel', ',', 'no', 'doubt'], [5, 6]), (['PRP', 'VBD', 'RB', 'IN', 'DT', 'NN'], ['they', 'came', 'back', 'from', 'the', 'ride'], [6, 6]), (['IN', 'VBG', 'PRP$', 'NN'], ['after', 'croaking', 'his', 'wife'], [4, 6]), (['DT', 'NN', 'VBN', 'NN'], ['a', 'widow', 'named', 'block'], [4, 5]), (['CC', 'IN', 'PRP$', 'NN'], ['and', 'as for', 'my', 'hair'], [4, 4]), (['PRP', 'VBD', 'DT', 'NN'], ['he', 'indulged', 'a', 'desire'], [4, 7]), (['IN', 'PRP$', 'JJ', 'NN'], ['since', 'her', 'apple-cheeked', 'groom'], [4, 4]), (['VBD', 'PRP', 'IN', ',', 'WP', 'DT', 'NN'], ['switched', 'it', 'on', ',', 'what', 'a', 'din'], [6, 6]), (['DT', 'NN', 'IN', 'PRP$', 'NN'], ['the', 'cause', 'of', 'his', 'sorrow'], [5, 6]), (['CD', 'NNS', 'CC', 'DT', 'NN'], ['two', 'owls', 'and', 'a', 'hen'], [5, 5]), (['IN', 'PRP$', 'NN', 'IN', 'NN'], ['in', 'my', 'pocket', 'for', 'cash'], [5, 6]), (['IN', 'JJ', 'NN'], ['due to', 'up-to-date', 'science'], [3, 4]), (['WHEN', 'DT', 'NN', 'VBZ', 'PRP$', 'NN'], ['when', 'a', 'girl', 'wears', 'my', 'coat'], [6, 6]), (['THAN', 'DT', 'NN', 'IN', 'NN'], ['than', 'a', 'goulash', 'of', 'rat'], [5, 6]), (['PRP', 'VBP', 'DT', 'NN', 'NN'], ['you', 'are', 'a', 'simpleton', 'loon'], [5, 5]), (['PRP', 'VBD', 'IN', 'DT', 'NN'], ['it', 'said', 'on', 'the', 'door'], [5, 5]), (['VBN', 'TO', 'DT', 'NN'], ['collapsed', 'to', 'the', 'ground'], [4, 5]), (['MD', 'RB', 'VB', 'RP', 'TO', 'NN'], [\"'did\", 'not', 'rush', 'off', 'to', 'town'], [6, 6]), (['PRP', 'MD', 'VBN', 'IN', 'DT', 'NN'], ['they', 'had', 'laid', 'on', 'a', 'chair'], [6, 6]), (['EX', 'VBZ', 'NN', 'IN', 'DT', 'NN'], ['there', 'was', 'nothing', 'like', 'a', 'food'], [6, 7])], 'VBD': [(['PRP', 'VBD', ',', 'RB', 'VBD'], ['she', 'ran', ',', 'almost', 'flew'], [4, 5]), (['CC', 'DT', 'NN', 'PRP', 'VBD'], ['but', 'the', 'copy', 'he', 'wrote'], [5, 6]), (['IN', 'WHEN', 'PRP', 'VBD'], ['that', 'when', 'she', 'assayed'], [4, 4]), (['PRP', 'RB', 'VBD'], ['he', 'gladly', 'proclaimed'], [3, 5]), (['WHILE', 'PRP$', 'NN', 'VBD'], ['while', 'her', 'lover', 'lamented'], [3, 7]), (['CC', 'VBN', ',', 'PRP', 'VBD'], ['but', 'shaken', ',', 'he', 'shot'], [4, 5]), (['IN', 'DT', 'NNS', 'IN', 'PRP', 'VBD'], [\"'til\", 'the', 'salts', 'that', 'she', 'shook'], [6, 6])], 'NNP': [(['CC', 'PRP$', 'NN', ',', 'VBN', 'NNP'], ['but', 'his', 'daughter', ',', 'named', 'nan'], [5, 6])], 'JJ': [(['PRP$', 'NNS', 'VBD', 'SO', 'JJ'], ['her', 'thanks', 'were', 'so', 'cold'], [5, 5]), (['SO', 'JJ', 'CC', 'JJ'], ['so', 'exclusive', 'and', 'few'], [4, 6]), (['CC', 'JJ', ',', 'CC', 'JJ'], ['and', 'flat', ',', 'and', 'compressed'], [4, 5]), (['PRP', 'IN', 'VBD', 'SO', 'JJ'], ['it', 'at last', 'grew', 'so', 'small'], [5, 5]), (['DT', 'NN', 'VBD', ',', 'RB', 'JJ'], ['the', 'teacher', 'said', ',', 'not', 'right'], [5, 6]), (['IN', 'DT', 'NN', 'VBZ', 'DT', 'JJ'], ['for', 'the', 'pattern', 'is', 'all', 'wrong'], [6, 7]), (['CC', 'DT', 'CD', 'VBD', 'JJ'], ['but', 'this', 'one', 'was', 'easy'], [5, 6]), (['PRP', 'VBZ', 'JJ'], ['it', 'expresses', 'nothing'], [3, 6])], '.': [(['WHEN', 'VBN', ',', 'WP', 'VBZ', 'JJ', '.'], ['when', 'asked', ',', 'who', 'is', 'dead', '?'], [5, 5]), (['VBD', 'DT', 'NN', ',', 'VB', 'PRP', 'VB', '.'], ['said', 'the', 'fly', ',', 'let', 'us', 'flee', '!'], [6, 6]), (['VB', 'PRP', 'VB', 'NN', 'CC', 'NN', '.'], ['do', 'you', 'haveneedle', 'and', 'thread', '?'], [5, 6]), (['CC', 'VBD', ',', 'MD', 'PRP', 'VB', '.'], ['and', 'said', ',', 'can', 'we', 'dance', '?'], [5, 5]), (['WHEN', 'VBN', ',', 'WRB', 'SO', 'JJ', '.'], ['when', 'asked', ',', \"'why\", 'so', 'blue', '?'], [5, 5])], 'PRP': [(['RB', 'DT', 'JJ', 'NN', 'VBD', 'PRP'], ['soon', 'a', 'happy', 'thought', 'hit', 'her'], [6, 7])]}, 'fourth': defaultdict(<class 'list'>, {'NNS': [(['IN', 'DT', 'JJ', 'NN', 'NNS'], ['in', 'the', 'right', 'reverend', 'shins'], [5, 7]), (['WDT', 'VBD', 'NN', 'CC', 'NNS'], ['which', 'brought', 'meanness', 'and', 'scorn'], [5, 6]), (['TO', 'JJS', 'IN', 'PRP$', 'NNS'], ['to', 'most', 'of', 'his', 'clients'], [5, 6]), (['NNS', ',', 'NNS', 'CC', 'NNS'], ['muslims', ',', 'catholics', 'and', 'jews'], [4, 6]), (['VB', 'PRP$', 'NN', 'CC', 'PRP$', 'NNS'], ['stung', 'his', 'nose', 'and', 'his', 'knees'], [6, 6]), (['CC', 'NN', 'IN', 'PRP$', 'NNS'], ['and', 'stuck', 'through', 'her', 'feet'], [5, 5]), (['PRP', ',', 'DT', 'NNS'], ['he', ',', 'all', 'unawares'], [3, 5]), (['IN', 'DT', 'NN', 'IN', 'PRP$', 'NNS'], ['bang', 'the', 'floor', 'with', 'your', 'knees'], [6, 6]), (['MD', 'VB', 'DT', 'PRP$', 'NNS'], ['could', 'pay', 'all', 'my', 'bills'], [5, 5]), (['CC', 'AS', 'NNS', 'VBP', 'DT', 'NNS'], ['and', 'as', 'cops', 'walk', 'the', 'beats'], [6, 6]), (['VBD', 'DT', 'NN', 'IN', 'PRP$', 'NNS'], ['wet', 'the', 'bloom', 'on', 'her', 'cheeks'], [6, 6]), (['CC', 'VB', 'PRP$', 'NNS'], ['and', 'soil', 'my', 'pants'], [4, 4]), (['IN', 'PRP$', 'NNS', 'CC', 'PRP$', 'NNS'], ['with', 'their', 'wiles', 'and', 'their', 'wits'], [6, 6]), (['CC', 'VBD', 'NNS', 'IN', 'NNS'], ['and', 'ate', 'thousands', 'of', 'figs'], [5, 6]), (['CC', 'VB', 'VBG', 'PRP$', 'NNS'], ['or', 'be', 'flapping', 'your', 'gums'], [5, 6]), (['VBG', 'DT', 'NNS', 'CC', 'NNS'], ['crushing', 'all', 'boys', 'and', 'girls'], [5, 6]), (['IN', 'VBG', 'NNS'], ['for', 'acting', 'positions'], [3, 6]), (['CC', 'PRP', 'RB', 'VBD', 'NNS'], ['but', 'he', 'never', 'kicked', 'onths'], [5, 6]), (['IN', 'DT', 'NN', 'IN', 'NNS'], ['in', 'a', 'couple', 'of', 'years'], [5, 6]), (['NNS', ',', 'NNS', 'CC', 'NNS'], ['slugs', ',', 'peacocks', 'and', 'quails'], [4, 5])], 'VBP': [(['VBN', 'NNS', 'VBP'], ['made', 'people', 'suspect'], [3, 5]), (['CD', 'NN', ',', 'PRP', 'VBP'], ['one', 'day', ',', 'I', 'suppose'], [4, 5]), (['SO', 'DT', 'NN', 'PRP', 'VBP'], ['so', 'this', 'tribute', 'we', 'pay'], [5, 6])], 'IN': [(['VBD', 'DT', 'NN', 'IN'], ['pulled', 'the', 'fisherman', 'in'], [4, 6]), (['PRP', 'VBD', 'NN', 'IN'], ['it', 'sucked', 'everything', 'in'], [4, 6]), (['CC', 'NN', 'IN', ','], ['and', 'wander', 'about', ','], [3, 6])], 'CC': [(['VBZ', 'PRP', 'JJR', 'TO', 'VB', ',', 'CC'], ['is', 'it', 'harder', 'to', 'toot', ',', 'or'], [6, 7]), (['IN', 'NNP', 'NN', ',', 'CC'], ['as soon as', \"'twas\", 'baughan', ',', 'but'], [4, 5]), (['IN', 'NNP', 'NN', ',', 'CC'], ['as soon as', \"'twas\", 'baughan', ',', 'but'], [4, 5]), (['WP', 'VBD', ',', 'NN', 'PRP', ',', 'VB', 'CC'], ['who', 'said', ',', 'thank', 'you', ',', 'madam', 'and'], [6, 7])], 'VBZ': [(['VBN', ',', 'PRP', 'VB', 'WRB', 'PRP', 'VBZ', ','], ['cried', ',', \"'i\", 'know', 'how', 'she', 'sings', ','], [6, 7])], 'PRP': [(['IN', 'VBG', 'IN', 'PRP'], ['upon', 'finding', 'that', 'it'], [4, 6]), (['VBZ', 'VBN', 'RP', ',', 'CC', 'PRP'], ['has', 'worn', 'off', ',', 'and', 'he'], [5, 5]), (['DT', 'NN', 'WP', 'VBD', 'PRP'], ['a', 'tutor', 'who', 'taught', 'her'], [5, 6]), (['NN', 'VB', 'PRP'], ['please', 'tell', 'me'], [3, 3]), (['IN', 'PRP$', 'NN', 'PRP', 'MD', 'VB', 'PRP'], ['for', 'her', 'skill', 'we', 'must', 'praise', 'her'], [7, 7]), (['CC', 'RB', 'VBD', 'PRP'], ['and', 'carefully', 'lopped', 'it'], [4, 6]), (['DT', 'NN', 'NN', ',', 'RB', 'PRP'], ['that', 'park', 'bench', ',', 'well', 'I'], [5, 5])], 'NN': [(['IN', 'PRP', 'VBD', 'RP', 'PRP$', 'NN'], ['though', 'you', 'piled', 'up', 'her', 'plate'], [6, 6]), (['IN', 'DT', 'JJ', 'NN'], ['with', 'all', 'due', 'propriety'], [4, 7]), (['DT', 'NN', 'CC', 'IN', 'NN'], ['either', 'night', 'or', 'by', 'dee'], [5, 6]), (['CC', 'PRP$', 'NN', 'CC', 'NN'], ['and', 'her', 'brother', 'and', 'pa'], [5, 6]), (['CC', 'NN', 'NN'], ['and', 'daniel', 'defoe'], [3, 5]), (['PRP', 'VBD', 'VBN', 'IN', 'DT', 'NN'], ['he', 'was', 'pained', 'by', 'a', 'tooth'], [6, 6]), (['RB', 'VBN', 'IN', 'DT', 'NN'], ['then', 'collapsed', 'in', 'a', 'cell'], [5, 6]), (['CC', 'JJ', 'NN'], ['or', 'hungarian', 'cat'], [3, 6]), (['PRP', 'MD', 'VB', 'DT', 'NN'], ['he', 'would', 'wave', 'a', 'cigar'], [5, 6]), (['DT', 'VBZ', 'VBN', 'IN', 'IN', 'NN'], ['that', 'has', 'run', 'out', 'of', 'pluck'], [6, 6]), (['DT', 'JJ', 'NN'], ['a', 'new', 'hydrocarbon'], [3, 6]), (['IN', 'PRP$', 'NN', 'VBD', 'PRP$', 'NN'], ['that', 'his', 'back', 'touched', 'his', 'chest'], [6, 6]), (['IN', 'PRP$', 'NNS', 'CC', 'PRP$', 'NN'], ['in', 'my', 'legs', 'and', 'my', 'bum'], [6, 6]), (['CD', 'NNS', 'CC', 'DT', 'NN'], ['four', 'larks', 'and', 'a', 'wren'], [5, 5]), (['PDT', 'DT', 'NNS', 'IN', 'DT', 'NN'], ['all', 'the', 'birds', 'in', 'the', 'air'], [6, 6]), (['CC', 'VBD', 'DT', 'JJ', 'NN'], ['but', 'got', 'a', 'great', 'fright'], [5, 5]), (['VBP', 'RB', 'PRP', 'VB', 'DT', 'JJ', 'NN', '.'], ['do', \"n't\", 'you', 'know', 'a', 'good', 'tune', '?'], [7, 7]), (['IN', 'DT', 'NN', 'IN', 'NNS', 'VBZ', 'DT', 'NN'], ['that', 'a', 'game', 'by', 'jinks', 'is', 'the', 'thing'], [8, 8]), (['DT', 'CD', 'VBD', 'PDT', 'DT', 'NN'], ['no', 'one', 'heard', 'such', 'a', 'scream'], [6, 6]), (['PRP', 'VBD', 'DT', 'NN'], ['he', 'inserted', 'some', 'mice'], [4, 6]), (['IN', 'DT', 'NNS', 'CC', 'DT', 'NN'], ['like', 'the', 'mumps', 'or', 'the', 'flu'], [6, 6]), (['IN', 'DT', 'NN', 'IN', 'PRP$', 'NN'], ['with', 'this', 'verse', 'on', 'my', 'wall'], [6, 6]), (['DT', 'JJ', 'NN', 'NN'], ['the', 'bad', 'background', 'noise'], [4, 5]), (['CC', 'VBD', 'NN', 'IN', 'NN'], ['but', 'made', 'plenty', 'of', 'dough'], [5, 6]), (['PRP', 'VBD', 'CD', 'JJ', 'NN'], ['he', 'was', 'one', 'funny', 'brit'], [5, 6]), (['VBD', 'CD', 'NNS', 'IN', 'NN'], ['drank', 'three', 'kinds', 'of', 'wine'], [5, 5]), (['VBZ', 'DT', 'JJ', 'NN', 'POS', 'NN'], ['wears', 'an', 'old', 'chicken', \"'s\", 'wing'], [6, 7]), (['VBD', 'DT', 'NN', 'DT', 'NN'], ['packed', 'the', 'house', 'every', 'night'], [5, 7]), (['CC', 'IN', 'PRP$', 'NN'], ['and', 'in', 'his', 'lapel'], [4, 5]), (['CC', 'PRP', 'VBD', 'VBN', 'IN', 'DT', 'NN'], ['but', 'he', 'was', 'stopped', 'in', 'the', 'hall'], [7, 7]), (['DT', 'VBN', 'TO', 'DT', 'NN'], ['all', 'exposed', 'to', 'the', 'breeze'], [5, 6]), (['CC', 'PRP', 'VBD', 'TO', 'DT', 'NN'], ['and', 'they', 'rushed', 'to', 'the', 'rail'], [6, 6]), (['WDT', 'VBD', 'TO', 'PRP$', 'NN'], ['which', 'came', 'to', 'his', 'aid'], [5, 5]), (['IN', 'DT', 'JJ', ',', 'JJ', 'NN'], ['with', 'a', 'dull', ',', 'sickening', 'thud'], [5, 7]), (['IN', 'DT', 'NN', 'IN', 'DT', 'NN'], ['at', 'the', 'man', 'in', 'the', 'store'], [6, 6]), (['PRP$', 'NN', 'CC', 'PRP$', 'NN'], ['his', 'grief', 'and', 'his', 'rage'], [5, 5]), (['CC', 'VBD', 'PRP$', 'NN'], ['and', 'pummelled', 'his', 'nose'], [4, 4]), (['PRP', 'POS', 'DT', 'NN'], ['she', \"'s\", 'a', 'person'], [4, 5]), (['CD', 'NNS', 'CC', 'DT', 'NN'], ['four', 'larks', 'and', 'a', 'wren'], [5, 5]), (['IN', 'DT', 'JJ', 'NN'], ['in', 'a', 'relative', 'way'], [4, 6]), (['WDT', 'PRP', 'VBD', 'IN', 'DT', 'NN'], ['which', 'he', 'loosed', 'in', 'the', 'house'], [6, 6]), (['VB', 'RP', 'IN', 'DT', 'NN'], ['ran', 'away', 'with', 'a', 'man'], [5, 6]), (['PRP', 'VBD', 'SO', 'JJ', 'NN'], ['she', 'ate', 'so', 'much', 'spice'], [5, 5]), (['AS', 'DT', 'JJ', 'NN'], ['as', 'the', 'inverted', 'square'], [4, 6]), (['IN', 'CD', 'NNS', 'IN', 'DT', 'NN'], ['with', 'three', 'wives', 'in', 'the', 'tomb'], [6, 6]), (['VB', 'PRP', 'VB', ',', 'VBD', 'DT', 'NN'], ['let', 'us', 'fly', ',', 'said', 'the', 'flea'], [6, 6]), (['NN', 'CC', 'DT', 'NN', 'POS', 'RB', 'JJ', 'NN'], ['(', 'or', 'the', 'paper', \"'s\", 'too', 'long', ')'], [8, 9]), (['VBD', 'NN'], ['was', 'paradichloroand'], [2, 2]), (['PRP', 'POS', 'DT', 'NN', 'IN', 'NN'], ['she', \"'s\", 'a', 'person', 'of', 'note'], [6, 7]), (['VBP', 'RB', 'VB', 'IN', 'DT', 'NN'], ['do', \"n't\", 'spit', 'on', 'the', 'floor'], [6, 6]), (['PRP', 'RB', 'RB', 'IN', 'DT', 'NN'], ['it', 'right', 'there', 'on', 'the', 'spot'], [6, 6]), (['IN', 'PRP$', 'NNS', 'CC', 'PRP$', 'NN'], ['in', 'his', 'boots', 'and', 'his', 'vest'], [6, 6]), (['IN', 'JJ', 'NN'], ['with', 'intelligent', 'thought'], [3, 6]), (['AS', 'PRP', 'VBD', 'DT', 'NN', 'NN'], ['as', 'he', 'struck', 'the', 'ground', 'floor'], [6, 6]), (['IN', 'JJ', 'NN', 'NN'], ['in', 'davy', \"jones'\", 'locker'], [4, 6]), (['PRP', 'VBD', 'VBN', 'IN', 'PRP$', 'NN'], ['he', 'was', 'told', 'by', 'his', 'wife'], [6, 6]), (['IN', 'PDT', 'DT', 'NN'], ['at', 'all', 'this', 'garbage'], [4, 5]), (['VBG', 'NN', 'IN', 'DT', 'NN'], ['dumping', 'dirt', 'near', 'the', 'store'], [5, 6]), (['IN', 'DT', 'NN'], ['without', 'any', 'nightie'], [3, 5]), (['WP', 'DT', 'JJ', 'NN'], ['what', 'the', 'clerical', 'fee'], [4, 6]), (['CC', 'VB', 'RB', 'AS', 'NN'], ['and', 'eat', 'just', 'as', 'hearty'], [5, 6]), (['RB', 'PRP', 'VBD', 'PRP$', 'JJ', 'NN'], ['then', 'he', 'took', 'his', 'own', 'life'], [6, 6]), (['NN', 'PRP', 'VBP', 'VBN', 'PRP$', 'NN'], ['`when', 'I', 'have', 'punctured', 'his', 'hide'], [6, 7]), (['PRP', 'MD', 'VB', 'DT', 'NN'], ['he', 'would', 'wave', 'a', 'cigar'], [5, 6]), (['TO', 'VB', 'NN'], ['to', 'drink', 'lemonade'], [3, 5]), (['VBD', ',', 'PRP', 'VBP', 'RB', 'DT', 'NN'], ['said', ',', 'I', 'have', \"n't\", 'a', 'clue'], [6, 6]), (['IN', 'DT', 'NN', 'IN', 'PRP$', 'NN'], ['with', 'a', 'hat', 'on', 'my', 'head'], [6, 6]), (['TO', 'VB', 'NN'], ['to', 'drink', 'lemonade'], [3, 5]), (['VB', 'DT', 'NN', 'IN', 'PRP$', 'NN'], ['take', 'a', 'pull', 'at', 'his', 'hair'], [6, 6]), (['IN', 'DT', 'JJ', 'NN'], ['with', 'a', 'thunderous', 'sound'], [4, 6]), (['IN', 'DT', 'RB', 'JJ', 'NN'], ['at', 'the', 'very', 'first', 'toot'], [5, 6]), (['TO', 'VB', 'RP', 'DT', 'NN'], ['to', 'scare', 'off', 'the', 'critter'], [5, 6]), (['PRP', 'VBD', 'SO', 'JJ', 'NN'], ['she', 'ate', 'so', 'much', 'spice'], [5, 5]), (['IF', 'PRP', 'VBD', 'RB', 'VB', 'DT', 'NN'], ['if', 'I', 'did', \"n't\", 'curb', 'the', 'sound'], [7, 7]), (['DT', 'NN', 'VBD', 'NN'], ['this', 'turk', 'made', 'reply'], [4, 5]), (['PRP', 'VBD', 'IN', 'DT', 'NN'], ['she', 'sat', 'on', 'a', 'stile'], [5, 5]), (['IN', 'DT', 'NN', 'IN', 'JJ', 'NN'], ['that', 'a', 'wave', 'of', 'great', 'joy'], [6, 6]), (['SO', 'JJ', 'VBD', 'PRP$', 'NN'], ['so', 'short', 'was', 'his', 'fin'], [5, 5]), (['CC', 'PRP$', 'JJ', 'JJ', 'NN'], ['and', 'our', 'social', 'faux', 'pas'], [5, 7]), (['RB', 'PRP$', 'NN', 'VB', 'IN', 'DT', 'NN'], ['now', 'his', 'brain', 'is', 'in', 'a', 'whirl'], [7, 7]), (['VBD', 'PRP$', 'NN', ',', 'PRP', 'VBZ', 'NN'], ['said', 'her', 'doctor', ',', 'it', \"'s\", 'plain'], [6, 7]), (['RB', 'VBD', 'IN', 'DT', 'NN'], ['then', 'died', 'of', 'the', 'shock'], [5, 5]), (['IN', 'DT', 'NN', 'IN', 'DT', 'NN'], ['with', 'the', 'faith', 'of', 'a', 'marytr'], [6, 6]), (['CC', 'JJ', 'NN'], ['and', 'comic', 'astuteness'], [3, 6]), (['RB', 'VBD', 'IN', 'DT', 'NN'], ['then', 'died', 'of', 'the', 'shock'], [5, 5]), (['PRP$', 'NN', 'VBD', 'DT', 'NN'], ['my', 'mama', 'was', 'a', 'goat'], [5, 6]), (['JJ', 'NN', ',', 'JJ', 'NN'], ['`your', 'manner', ',', 'dear', 'creature'], [4, 6])], 'JJ': [(['PRP', 'VBP', 'VBN', 'RP', 'JJ', 'CC', 'JJ'], ['you', 'have', 'mixed', 'up', 'green', 'and', 'red'], [7, 7]), (['PRP', 'RB', 'VBD', 'JJ'], ['I', 'only', 'felt', 'queasy'], [4, 6]), (['WHEN', 'DT', 'NN', 'VBZ', 'JJ'], ['when', 'the', 'weather', 'turns', 'cool'], [5, 6]), (['CC', 'PRP$', 'NN', ',', 'WP', 'VBZ', 'IN', 'JJ'], ['and', 'his', 'wife', ',', 'who', \"'s\", 'in', 'black'], [7, 7]), (['VBG', 'NN', 'JJ'], ['using', 'language', 'extreme'], [3, 6]), (['WHEN', 'DT', 'NN', 'VBZ', 'JJ'], ['when', 'the', 'weather', 'turns', 'cool'], [5, 6]), (['PRP$', 'NN', 'VBZ', 'DT', 'JJ', '.'], ['your', 'page', 'is', 'all', 'white', '!'], [5, 5]), (['CC', 'VBD', 'RP', ',', 'PRP', 'VBZ', 'JJ', '.'], ['and', 'called', 'out', ',', \"'who\", \"'s\", 'afraid', '?'], [6, 8]), (['MD', 'DT', 'VB', 'JJ'], ['should', 'any', 'be', 'living'], [4, 6]), (['VBD', 'RB', 'JJ'], ['grew', 'very', 'defiant'], [3, 6]), (['PRP$', 'NN', 'VBD', 'SO', 'JJ'], ['her', 'hair', 'got', 'so', 'light'], [5, 5]), (['SO', 'JJ', 'SO', 'JJ'], ['so', 'unique', 'so', \"sincere'\"], [4, 5]), (['PRP$', 'NNS', 'VBP', 'DT', 'JJ'], ['their', 'rates', 'are', 'the', 'same'], [5, 5]), (['VBZ', 'RB', 'JJ'], ['is', 'simply', 'immense'], [3, 5]), (['CC', 'VBD', 'NN', 'JJR', 'JJ'], ['and', 'bought', 'something', 'less', 'flash'], [5, 6]), (['NN', 'CC', 'DT', 'NN', 'POS', 'RB', 'RB', 'JJ'], ['\\\\(', 'or', 'the', 'paper', \"'s\", 'too', 'long', '\\\\)'], [8, 9]), (['DT', 'NN', 'IN', 'DT', 'JJ'], ['a', 'share', 'of', 'the', 'same'], [5, 5]), (['CC', 'VBD', 'RP', ',', 'PRP', 'VBZ', 'JJ', '.'], ['and', 'called', 'out', ',', \"'who\", \"'s\", 'afraid', '?'], [6, 8]), (['CC', 'VBD', 'RP', ',', 'PRP', 'VBZ', 'JJ', '.'], ['and', 'called', 'out', ',', \"'who\", \"'s\", 'afraid', '?'], [6, 8]), (['DT', 'PRP$', 'NNS', 'VBD', 'JJ'], ['both', 'his', 'parents', 'were', 'proud'], [5, 6]), (['CC', 'VBD', 'NN', 'JJR', 'JJ'], ['and', 'bought', 'something', 'less', 'flash'], [5, 6]), (['VBD', ',', 'VBP', 'RB', 'VB', 'JJ'], ['said', ',', \"'do\", \"n't\", 'be', 'absurd'], [5, 6]), (['IN', 'DT', 'NN', 'TO', 'VB', 'JJ'], ['with', 'a', 'chance', 'to', 'get', 'rich'], [6, 6]), (['NN', 'CC', 'DT', 'NN', 'POS', 'RB', 'JJ', 'JJ'], ['\\\\(', 'or', 'the', 'paper', \"'s\", 'too', 'long', '\\\\)'], [8, 9])], 'VBD': [(['IN', 'DT', 'NN', 'IN', 'PRP', 'VBD'], ['in', 'the', 'bath', 'that', 'she', 'took'], [6, 6]), (['WHEN', 'DT', 'NN', 'VBD'], ['when', 'a', 'chance', 'came'], [4, 4]), (['VBD', 'DT', 'NNS', 'IN', 'PRP', 'VBD'], ['were', 'the', 'friends', 'that', 'he', 'knew'], [6, 6]), (['CC', 'VBD', 'PRP', 'RB', 'VBD'], ['or', 'was', 'it', 'just', 'luck'], [5, 5]), (['WHEN', 'DT', 'NNS', 'VBD'], ['when', 'the', 'gentlemen', 'said'], [4, 6]), (['CC', 'JJR', 'NNS', 'PRP', 'VBD'], ['and', 'more', 'stars', 'she', 'spied'], [5, 5]), (['CC', 'RB', 'VBD'], ['and', 'jappily', 'sat'], [3, 3]), (['CC', 'JJR', 'NNS', 'PRP', 'VBD'], ['and', 'more', 'stars', 'she', 'spied'], [5, 5]), (['PRP$', 'NN', 'VBD', 'CC', 'VBD'], ['her', 'ma', 'came', 'and', 'tarried'], [5, 5]), (['CC', 'WP', 'PRP', 'RB', 'VBD'], ['and', 'what', 'he', 'then', 'said'], [5, 5]), (['VB', 'DT', 'NN', 'NNS', 'VBD'], ['till', 'the', 'jungle', 'folks', 'roared'], [5, 6]), (['PRP', 'VBD', 'CC', 'VBD'], ['he', 'giggled', 'and', 'said'], [4, 5]), (['RBR', 'NNS', 'PRP', 'VBD'], ['more', 'stars', 'she', 'espied'], [4, 4]), (['PRP', 'RB', 'VBD'], ['she', 'contentedly', 'cooed'], [3, 6]), (['DT', 'NN', 'VBD'], ['the', 'apple', 'fermented'], [3, 6]), (['IN', 'DT', 'NN', 'IN', 'PRP', 'VBD'], ['in', 'the', 'bath', 'that', 'she', 'took'], [6, 6]), (['CC', 'VBD', 'PRP', 'RB', 'VBD'], ['or', 'was', 'it', 'just', 'luck'], [5, 5]), (['PRP', 'VBD', 'CC', 'VBD'], ['she', 'sighed', 'and', 'replied'], [4, 5])], 'SO': [(['IN', 'DT', 'SO'], ['instead of', 'another', 'so'], [3, 5])], 'RB': [(['PRP$', 'NN', 'VBD', 'RB'], ['her', 'complexion', 'did', 'too'], [4, 6]), (['CC', 'MD', 'VB', 'IN', 'NN', 'RB'], ['but', 'would', 'sleep', 'on', 'till', 'late'], [6, 6]), (['CC', 'VB', 'PRP', 'RB'], ['and', 'wave', 'it', 'about'], [4, 5]), (['PRP', 'RB', 'VBD', 'RB'], ['he', 'never', 'came', 'back'], [4, 5]), (['CC', 'PRP$', 'NNS', 'RB'], ['and', 'their', 'gums', 'underneath'], [4, 6]), (['IN', 'DT', 'NN', 'RB'], ['with', 'the', 'lady', 'inside'], [4, 6]), (['CC', 'RB', 'VB', 'RB', 'RB'], ['and', 'just', 'scarf', 'eos', 'down'], [5, 6]), (['CC', 'RB', 'VB', 'RB', 'RB'], ['and', 'just', 'scarf', 'eos', 'down'], [5, 6])], 'JJS': [(['IN', 'NNS', 'IN', 'DT', 'JJS'], ['with', 'remains', 'of', 'the', 'best'], [5, 6])], 'WHILE': [(['CC', 'IN', 'DT', 'WHILE'], ['and', 'after', 'a', 'while'], [3, 5])], 'NNP': [(['DT', 'JJ', 'NN', 'NNP'], ['the', 'second', 'day', \"`munday'\"], [4, 5])], 'VB': [(['RB', 'NN', 'TO', 'VB'], ['lovely', 'poetry', 'to', 'write'], [4, 7]), (['RB', 'NN', 'TO', 'VB'], ['lovely', 'poetry', 'to', 'write'], [4, 7]), (['TO', 'VB', 'TO', 'CC', 'VB'], ['to', 'walk', 'to', 'and', 'fro'], [5, 5]), (['PRP', 'VBP', 'TO', 'VB'], ['I', 'want', 'to', 'deny'], [4, 5]), (['PRP', 'VBD', 'JJ', 'TO', 'VB'], ['he', 'was', 'ready', 'to', 'faint'], [5, 6]), (['IN', 'DT', 'NN', 'PRP', 'VBD', 'VB'], ['in', 'a', 'stove', 'she', 'did', 'bake'], [6, 6]), (['IN', 'DT', 'NNS', 'PRP', 'MD', 'VB'], ['at', 'the', 'things', 'he', \"'d\", 'forecast'], [6, 7]), (['IN', 'DT', 'NNS', 'PRP', 'MD', 'VB'], ['at', 'the', 'things', 'he', \"'d\", 'forecast'], [6, 7]), (['VBG', 'TO', 'VB'], ['attempting', 'to', 'learn'], [3, 5]), (['CC', 'NN', 'MD', 'VB'], ['and', 'that', 'will', 'serve'], [4, 4]), (['DT', 'NN', 'VBZ', 'TO', 'VB'], ['no', 'one', 'seems', 'to', 'ceir'], [5, 5]), (['RB', 'AS', 'JJ', 'AS', 'MD', 'VB'], ['just', 'as', 'plain', 'as', 'can', 'be'], [6, 6])], 'VBN': [(['VBN', ',', 'PRP', 'VBP', 'VBN'], ['preceded', ',', 'I', 'have', 'found'], [4, 6]), (['CC', 'DT', 'NN', 'MD', 'VB', 'VBN'], ['but', 'no', 'horse', 'could', 'be', 'found'], [6, 6]), (['WHEN', 'IN', 'JJS', 'PRP', 'VBD', 'VBN'], ['when', 'at', 'least', 'she', 'was', 'wed'], [6, 6]), (['VB', 'RB', ',', 'VB', 'POS', 'VB', 'VBN'], ['come', 'away', ',', 'let', \"'s\", 'be', 'wed'], [6, 7]), (['PRP$', 'NN', 'VBN'], ['her', 'appearance', 'improved'], [3, 6]), (['DT', 'NN', 'IN', 'PRP$', 'VBN'], ['every', 'night', 'in', 'his', 'shed'], [5, 7]), (['WHEN', 'IN', 'JJS', 'PRP', 'VBD', 'VBN'], ['when', 'at', 'least', 'she', 'was', 'wed'], [6, 6])], 'DT': [(['PRP', 'VBD', 'NN', 'IN', 'DT'], ['he', 'wore', 'nothing', 'at', 'all'], [5, 6]), (['PRP', 'VBD', 'NN', 'IN', 'DT'], ['he', 'knew', 'nothing', 'at', 'all'], [5, 6]), (['VBD', 'DT', 'NN', 'IN', 'DT'], ['was', 'no', 'use', 'at', 'all'], [5, 5])], 'MD': [(['NN', 'IN', 'PRP', 'MD'], ['anything', 'that', 'he', 'can'], [4, 6])]}), 'fifth': defaultdict(<class 'list'>, {'PRP': [(['IN', 'DT', 'NN', 'VBN', 'IN', 'VBG', 'PRP'], ['of', 'the', 'bishop', 'engaged', 'in', 'confirming', \"'em\"], [7, 11]), (['CC', 'RB', 'EX', 'VBD', 'JJ', 'JJ', 'IN', 'PRP'], ['and', 'right', 'there', 'became', 'awful', 'sick', 'in', \"'em\"], [8, 10]), (['MD', 'VB', 'VBD', 'DT', 'NN', 'VBN', 'IN', 'PRP'], ['would', 'arise', 'were', 'the', 'kid', 'taken', 'from', 'us'], [8, 10]), (['CC', 'DT', 'NN', 'MD', 'RB', 'MD', 'DT', 'MD', ',', 'MD', 'PRP'], ['but', 'a', 'canner', 'ca', \"n't\", 'can', 'a', 'can', ',', 'can', 'he'], [10, 11])], 'POS': [(['IN', 'DT', 'NN', 'VBD', 'RB', 'PRP$', 'NN', 'POS'], ['that', 'the', 'outfit', 'was', 'really', 'his', 'mama', \"'s\"], [8, 11]), (['NN', '.', 'NN', 'IN', 'DT', 'NN', 'IN', 'DT', 'NN', 'POS'], ['`oh', '!', 'look', 'at', 'the', 'legs', 'on', 'the', 'table', \"'\"], [9, 10]), (['PRP', 'MD', 'RB', 'VB', 'NNS', 'IN', 'CD', 'NNS', 'POS'], ['you', 'can', \"n't\", 'put', 'toucans', 'in', 'two', 'cans', \"'\"], [9, 9]), (['CC', 'PRP', 'VBP', 'VBN', 'IN', 'IN', 'NNS', 'IN', 'DT', 'NN', 'POS'], ['and', 'I', 'am', 'made', 'out', 'of', 'curds', 'by', 'the', 'whey', \"'\"], [11, 11]), (['VBZ', 'JJR', 'THAN', 'PRP$', 'JJ', 'NNS', 'POS'], ['is', 'more', 'than', 'your', 'scholarship', 'warrants', \"'\"], [7, 10])], 'NN': [(['RB', 'PRP', 'VBP', 'VBG', 'DT', 'NN', 'IN', 'NN'], ['now', 'they', 'are', 'fishing', 'the', 'fissure', 'for', 'fisher'], [8, 11]), (['CC', 'VBD', 'DT', 'NN', 'IN', 'NN'], ['and', 'finished', 'the', 'solo', 'with', 'honour'], [6, 9]), (['VBD', 'DT', 'NN', 'DT', 'JJR', 'THAN', 'NN'], ['was', 'a', 'tipple', 'no', 'stronger', 'than', 'toui'], [7, 9]), (['VBZ', 'CC', 'VBZ', 'DT', 'NN'], ['perspires', 'and', 'pushes', 'no', 'mower'], [5, 7]), (['TO', 'VB', 'JJ', 'NNS', 'IN', 'PRP', 'NN'], ['to', 'balance', 'green', 'peas', 'on', 'her', 'fork'], [7, 8]), (['VBZ', 'DT', 'NN', 'DT', 'NN', 'NN', '.'], ['is', 'a', 'buttress', 'a', 'feminine', 'butter', '?'], [6, 11]), (['PRP', 'RB', 'VBD', 'PRP$', 'NN'], ['he', 'never', 'completed', 'his', 'task'], [5, 8]), (['IN', 'DT', 'NN', 'CC', 'NN', 'CC', 'NN'], ['of', 'the', 'gravy', 'and', 'chicken', 'and', 'ham'], [7, 9]), (['VBP', 'DT', 'VBN', 'PRP$', 'NNS', 'IN', 'PRP$', 'NN', '.'], ['have', 'all', 'built', 'their', 'nests', 'in', 'my', 'beard', '!'], [8, 9]), (['VBP', 'JJ', 'TO', 'VB', 'IN', 'PRP$', 'NN', '.'], ['are', 'welcome', 'to', 'sit', 'on', 'my', 'bonnet', '!'], [7, 10]), (['WHEN', 'DT', 'NN', 'VBD', 'CD', 'RB', 'VB', 'DT', 'NN', '.'], ['when', 'the', 'moon', 'said', \"'do\", \"n't\", 'be', 'a', 'buffoon', '!'], [9, 11]), (['RB', 'PRP', 'VBD', 'PRP', 'NN', 'IN', 'DT', 'NN'], ['then', 'he', 'walloped', 'me', 'square', 'in', 'the', 'face'], [8, 8]), ([',', 'SO', 'PRP', 'VBP', 'IN', 'DT', 'NN'], [',', 'so', 'they', 'played', 'on', 'the', 'lynx'], [6, 6]), (['IN', 'JJ', 'NN', 'IN', 'NN'], ['by', 'that', 'lady', 'of', 'russia'], [5, 7]), (['WDT', 'VBD', 'JJ', 'NN', 'IN', 'NN'], ['which', 'refreshed', 'that', 'person', 'of', 'ewell'], [6, 9]), (['CC', 'DT', 'NN', 'IN', 'DT', 'JJ', 'NN'], ['or', 'the', 'joy', 'of', 'a', 'pleasant', 'surprise'], [7, 9]), (['CC', 'PRP', 'VBP', 'IN', 'PRP$', 'NN', 'VBZ', 'DT', 'NN'], ['and', 'I', 'hope', 'that', 'your', 'day', 'is', 'a', 'blast'], [9, 9]), (['PRP$', 'NN', 'POS', 'JJ', 'NN'], ['my', 'neighbor', \"'s\", 'fat', 'wife'], [5, 6]), (['IN', 'DT', 'NNS', 'IN', 'NN'], ['like', 'the', 'movies', 'of', 'tandy'], [5, 7]), (['IN', 'DT', 'JJ', 'NN', 'IN', 'NN', 'IN', 'PRP$', 'NN'], ['with', 'a', 'nice', 'head', 'of', 'hair', 'on', 'his', 'pate'], [9, 9]), (['CC', 'VBD', 'IN', 'DT', 'JJ', 'NN'], ['and', 'retired', 'with', 'a', 'bad', 'stomach ache'], [6, 7]), (['CC', 'PRP', 'VBZ', 'DT', 'NN', 'IN', 'DT', 'NN'], ['and', 'that', 'is', 'the', 'cause', 'of', 'this', 'sonnet'], [8, 9]), (['IN', 'NN', ',', 'PRP', 'MD', 'RB', 'VB', 'NN'], ['in', 'fact', ',', 'they', 'could', 'hardly', 'get', 'ynne'], [7, 8]), (['PRP', 'RB', 'VBD', 'DT', 'NN'], ['he', 'carelessly', 'stuck', 'a', 'verbena'], [5, 9]), (['IN', 'PRP$', 'JJ', 'NN'], ['because of', 'his', 'scanty', 'regalia'], [4, 7]), (['WDT', 'VBZ', 'PRP', 'IN', 'RB', 'JJ', 'NN'], ['which', 'leaves', 'him', 'in', 'very', 'bad', 'shape'], [7, 8]), (['IN', 'CD', 'NNS', 'VBD', 'JJ', 'IN', 'NN'], ['for', 'six', 'sikhs', 'were', 'seasick', 'at', 'eos'], [7, 9]), (['VBD', 'RB', 'DT', 'JJ', 'NN'], ['found', 'only', 'a', 'sleeveless', 'tuxedo'], [5, 9]), (['CC', 'DT', 'NN', 'RB', 'VBD', 'DT', 'JJ', 'NN'], ['and', 'the', 'captain', 'then', 'swore', 'a', 'whole', 'lacht'], [8, 9]), (['IN', 'RB', 'VBG', 'PRP', 'JJ', 'NN'], ['for', 'not', 'selling', 'her', 'waterproof', 'paint'], [6, 9]), (['WHEN', 'DT', 'JJ', 'NN', 'VBD', 'VBN', 'IN', 'NN'], ['when', 'the', 'wrong', 'tooth', 'was', 'pulled', 'by', 'mistake'], [8, 9]), (['CC', 'VBD', 'PRP', 'JJ', 'NN'], ['and', 'showed', 'him', 'many', 'cstar'], [5, 6]), (['WHEN', 'PRP', 'VBP', 'PRP', ',', 'PRP', 'VBP', 'VBN', 'DT', 'NN'], ['when', 'I', 'wear', 'it', ',', 'I', 'am', 'called', 'a', 'vermine'], [9, 9]), (['VBP', 'VBG', 'DT', 'NN', 'IN', 'PRP$', 'NN'], ['are', 'making', 'a', 'nest', 'in', 'my', 'beard'], [7, 8]), (['CC', 'VBD', 'IN', 'DT', 'JJ', 'NN'], ['and', 'returned', 'on', 'the', 'previous', 'night'], [6, 9]), (['DT', 'NN', 'VBZ', 'VBN', 'NN'], ['the', 'confusion', 'is', 'called', 'harem-scarem'], [5, 7]), (['CC', 'AS', 'RB', 'AS', 'DT', 'NN'], ['and', 'as', 'far', 'as', 'the', 'bucket'], [6, 7]), (['IN', 'PRP', 'VBD', 'PRP', 'JJ', 'NN'], ['that', 'she', 'pickled', 'her', 'internal', \"workins'\"], [6, 9]), (['IN', 'DT', 'NN', 'IN', 'NN', 'TO', 'NN'], ['of', 'the', 'distance', 'from', 'object', 'to', 'source'], [7, 9]), (['VBD', 'VBG', 'PRP$', 'IN', 'DT', 'NN'], ['kept', 'insuring', 'her', 'during', 'the', 'service'], [6, 10]), (['SO', 'PRP', 'VBP', 'IN', 'DT', 'NN', 'IN', 'DT', 'NN'], ['so', 'they', 'flew', 'through', 'a', 'flaw', 'in', 'the', 'flue'], [9, 9]), (['CC', 'PRP', 'VBP', 'VBN', 'TO', 'DT', 'NN', 'IN', 'NN'], ['and', 'I', 'am', 'stuck', 'to', 'the', 'toilet', 'with', 'glue'], [9, 10]), (['NNS', 'IN', 'IN', 'PRP$', 'NNS', 'IN', 'NN'], ['seeps', 'out', 'of', 'my', 'pockets', 'like', 'honey'], [7, 9]), (['WHEN', 'PRP', 'VBP', 'PRP', ',', 'PRP', 'VBP', 'VBN', 'RB', 'NN'], ['when', 'I', 'wear', 'it', ',', 'I', 'am', 'called', 'only', 'vermin'], [9, 11]), (['SO', 'PRP', 'VBD', 'RB', 'CC', 'VB', 'IN', 'DT', 'NN'], ['so', 'he', 'jumped', 'up', 'and', 'spat', 'on', 'the', 'ceiling'], [9, 10]), (['AS', 'PRP', 'VBD', 'TO', 'VB', ',', 'PRP', 'VBP', 'DT', 'NN'], ['as', 'it', 'tried', 'to', 'explain', ',', 'I', 'am', 'a', 'spi'], [9, 10]), (['IN', 'PRP$', 'NN', 'CC', 'NN', 'IN', 'DT', 'NN'], ['with', 'his', 'spanner', 'and', 'jack', 'in', 'the', 'box'], [8, 9]), (['CC', 'TO', 'VB', 'PRP', 'JJ', 'NNS', 'IN', 'NN'], ['and', 'to', 'write', 'it', 'used', 'acres', 'of', 'time'], [8, 9]), (['POS', 'VB', 'PDT', 'DT', 'NN', 'NN'], [\"'twill\", 'take', 'all', 'the', 'afternoon', 'cleaning'], [6, 10]), (['DT', 'NN', 'JJ', 'NN', 'POS', 'NN', 'DT', 'NN'], ['the', \"bloomin'\", 'old', 'tub', \"'s\", 'sprung', 'a', 'leak'], [8, 9]), (['PRP', 'VBD', 'PRP$', 'JJ', 'NNS', 'CC', 'CD', 'NN'], ['they', 'found', 'his', 'front', 'teeth', 'and', 'one', 'cuff'], [8, 8]), (['PRP', 'RB', 'VBP', 'IN', 'DT', 'NN', '.'], ['I', 'invariably', 'get', 'in', 'a', 'stew', '!'], [6, 11]), (['NN', 'VBD', ',', 'PRP', 'VBZ', 'DT', 'JJ', 'NN', 'IN', 'NN'], ['bo', 'said', ',', 'it', 'is', 'a', 'polar', 'bear', 'in', 'snow'], [9, 10]), (['WDT', 'VBD', 'JJ', 'NN'], ['which', 'distracted', 'that', 'bull'], [4, 6]), (['PRP', 'MD', 'VB', 'RP', 'DT', 'NN'], ['they', \"'d\", 'kick', 'up', 'a', 'hullabaloo'], [6, 9]), (['CC', 'VBD', 'PRP$', 'NN', 'DT', 'NN'], ['and', 'gave', 'his', 'proboscis', 'a', 'tweak'], [6, 8]), (['IN', 'PRP$', 'NN', 'VBD', 'NN'], ['that', 'her', 'head', 'was', 'bare'], [5, 5]), (['CC', 'VBD', 'PRP$', 'IN', 'PRP', 'VBD', 'NN'], ['and', 'kissed', 'her', 'because', 'he', 'was', 'wuise'], [7, 8]), (['CC', 'RB', 'JJ', 'IN', 'NN'], ['and', 'quite', 'independent', 'of', 'girth'], [5, 8]), (['CC', 'PRP', 'VBZ', 'RB', 'VB', 'IN', 'PRP$', 'NN'], ['but', 'it', 'does', \"n't\", 'come', 'out of', 'my', 'purse'], [8, 8]), (['WP', 'VBD', 'VBN', 'IN', 'DT', 'NN', 'NN'], ['what', 'was', 'shown', 'on', 'the', 'cinema', 'screen'], [7, 9]), (['RB', ',', 'PRP', 'VBD', 'JJ', 'NN'], ['alas', ',', 'he', 'proved', 'treaulieu', 'unreaulieu'], [5, 6]), (['RB', ',', 'PRP', 'VBD', 'JJ', 'NN'], ['alas', ',', 'he', 'proved', 'treaulieu', 'unreaulieu'], [5, 6]), (['RB', 'DT', 'VBN', 'IN', 'NN'], ['then', 'both', 'skedaddled', 'from', 'eden'], [5, 6]), (['IN', 'DT', 'IN', 'NNS', 'IN', 'IN', 'NN'], ['by', 'another', 'with', 'beans', 'from', 'near', 'fargo'], [7, 10]), (['SO', 'PRP', 'RB', 'VB', ',', 'IN', 'NN'], ['so', 'he', 'just', 'rhododendron', ',', 'of', 'course'], [6, 9]), (['PRP', 'VBD', 'RB', 'VB', 'NN', 'VBD', 'DT', 'NN'], ['I', 'did', \"n't\", 'think', 'life', 'was', 'this', 'way'], [8, 8]), (['CC', 'PRP', 'VBD', 'CC', 'PRP', 'VBD', ',', 'NN'], ['but', 'she', 'sighed', 'and', 'she', 'said', ',', 'canteloupe'], [7, 7]), (['VBG', 'TO', 'VB', 'NN'], ['pretending', 'to', 'represent', 'chile'], [4, 9]), (['CC', 'RB', 'PRP', 'VBZ', 'DT', 'NN', 'NN'], ['and', 'now', 'he', \"'s\", 'a', 'college', 'professor'], [7, 10]), (['DT', 'IN', 'DT', 'NN', 'IN', 'NN'], ['all', 'of', 'this', 'homework', 'after', 'school'], [6, 8]), (['JJ', 'NN', 'IN', 'DT', 'NN'], ['that', 'man', 'in', 'a', 'boat'], [5, 5]), (['JJ', 'NN', 'IN', 'NN'], ['that', 'man', 'of', 'peru'], [4, 5]), (['CC', 'VB', 'NN', 'TO', 'PRP$', 'NN', 'IN', 'NN'], ['and', 'give', 'vent', 'to', 'their', 'terror', 'in', 'scremyss'], [8, 9]), (['VBP', 'DT', 'JJ', 'NNS', 'IN', 'DT', 'NN'], ['are', 'all', 'easy', 'marks', 'for', 'a', 'jolly'], [7, 9]), (['DT', 'NN', 'IN', 'NN'], ['the', 'theory', 'of', 'witten'], [4, 6]), (['AS', 'DT', 'JJ', 'NN'], ['as', 'the', 'unique', 'motivation'], [4, 8]), (['IN', 'PRP', 'VBP', 'RB', 'VBN', 'VBN', 'IN', 'DT', 'NN'], ['that', 'I', 'have', \"n't\", 'been', 'born', 'with', 'a', 'breign'], [9, 10]), (['CC', 'PRP', 'VBD', 'RB', 'CC', 'VBD', 'PRP$', 'NN'], ['and', 'it', 'dropped', 'down', 'and', 'ruined', 'her', 'gown'], [8, 9]), (['CC', 'RB', 'VB', 'RB', 'NN'], ['and', 'sometimes', 'get', 'quite', 'cranky'], [5, 7]), (['WDT', 'VBD', 'JJ', ',', 'RB', 'IN', 'NN'], ['that', 'were', 'funny', ',', 'just', 'like', 'fudd'], [6, 7]), (['JJ', 'NN', 'IN', 'NN'], ['that', 'person', 'of', 'ischia'], [4, 5]), (['IN', 'DT', 'NN', 'IN', 'PRP$', 'NN', 'CC', 'NN'], ['on', 'the', 'phone', 'with', 'your', 'brother', 'or', 'seester'], [8, 9]), (['RB', 'VBD', 'IN', 'DT', 'NN', 'IN', 'NN'], ['then', 'fell', 'into', 'a', 'vat', 'of', 'grease'], [7, 8]), (['CC', 'RB', 'MD', 'VB', 'DT', 'NN'], ['and', 'soon', 'could', 'afford', 'a', 'rolls-royce'], [6, 7]), (['IN', 'DT', 'NN', 'VBZ', 'VBN', 'RP', 'PRP$', 'NN'], ['for', 'a', 'surgeon', 'has', 'cut', 'off', 'his', 'fuite'], [8, 9]), (['MD', 'VB', 'DT', 'NN', 'IN', 'NN'], ['may', 'evolve', 'a', 'professor', 'at', 'yale'], [6, 9]), (['IN', 'DT', 'NN', ',', 'VBG', 'NN', '.'], ['upon', 'the', 'fence', ',', 'crying', 'hooray', '!'], [5, 8]), (['THAN', 'VB', 'TO', 'DT', 'JJ', 'NN'], ['than', 'belong', 'to', 'the', 'star-spangled', 'banner'], [6, 8]), (['CC', 'PRP', 'VBD', 'RB', 'IN', 'NN', 'IN', 'NN'], ['and', 'he', 'did', \"n't\", 'like', 'mother', 'of', 'pearl'], [8, 9]), (['VBD', 'RB', 'DT', 'NN', 'IN', 'NN'], ['was', 'quite', 'the', 'reverse', 'of', \"'hosanna'\"], [6, 7]), (['RB', 'PRP$', 'NN', 'VBD', 'DT', 'NN', 'IN', 'PRP$', 'NN'], ['then', 'his', 'wife', 'tied', 'a', 'knot', 'in', 'his', 'trunk'], [9, 9]), (['PRP', 'VBP', 'RB', 'VB', ',', 'PRP', 'RB', 'VBD', 'IN', 'DT', 'NN'], ['I', 'do', \"n't\", 'know', ',', 'I', 'just', 'came', 'for', 'the', 'ride'], [10, 10]), (['THAN', 'EX', 'VBP', 'IN', 'DT', 'JJ', 'NN'], ['than', 'there', 'are', 'in', 'the', 'star-spangled', 'banner'], [7, 8]), (['AS', 'PRP', 'VBD', 'RP', 'CD', 'NNS', 'IN', 'PRP$', 'NN'], ['as', 'she', 'let', 'out', 'three', 'tucks', 'in', 'her', 'tunic'], [9, 10]), (['CC', 'VBD', 'NN', 'IN', 'PRP$', 'NN'], ['and', 'made', 'cider', 'inside', 'her', 'inside'], [6, 9]), (['VBD', 'RP', 'TO', 'VB', 'NN', 'IN', 'NN'], ['turned', 'out', 'to', 'be', 'plaster', 'of', 'paris'], [7, 9]), (['IN', 'PRP', 'VBP', 'IN', 'PRP', 'VBP', 'PRP', 'VBZ', 'JJ', ',', 'NN'], ['for', 'I', 'fear', 'that', 'I', 'am', 'handel', \"'s\", 'miss', ',', 'sire'], [10, 12]), (['DT', 'NNS', 'VBN', 'RB', 'IN', 'DT', 'NN'], ['the', 'police', 'have', 'been', 'here', 'with', 'some', 'worrence'], [7, 10]), (['IN', 'DT', 'JJ', 'NN', 'NN'], ['in', 'a', 'sugary', 'takeover', 'bid'], [5, 9]), (['CC', 'DT', 'NN', 'IN', 'DT', 'NN', 'IN', 'DT', 'NN'], ['and', 'the', 'smile', 'on', 'the', 'face', 'of', 'the', 'tiger'], [9, 10]), (['VBD', 'RB', ',', 'CC', 'VBD', 'VBN', 'NN'], ['sat', 'down', ',', 'and', 'was', 'bitten', 'beneath'], [6, 8]), (['PRP', 'VBD', 'WHEN', 'PRP', 'VBP', 'IN', 'NN'], ['I', 'relaxed', 'when', 'I', 'eos', 'across', 'aunt'], [7, 11]), (['TO', 'DT', 'NN', 'WP', 'VBD', 'VBN', 'IN', 'DT', 'NN'], ['to', 'a', 'man', 'who', 'was', 'shaped', 'like', 'a', 'cello'], [9, 10])], 'VB': [(['TO', 'VB', 'CD', 'NNS', 'TO', 'VB'], ['to', 'tutor', 'two', 'tutors', 'to', 'toot'], [6, 8]), (['RB', 'AS', 'DT', 'JJ', 'NN', 'MD', 'VB'], ['just', 'as', 'every', 'sweet', 'maiden', 'should', 'dioux'], [7, 10]), (['PRP', 'VBD', 'JJ', 'TO', 'VB', 'CC', 'TO', 'VB'], ['she', 'was', 'ready', 'to', 'give', 'and', 'to', 'take'], [8, 9]), (['IN', 'DT', 'NN', 'VBD', 'CC', 'VB'], ['because', 'the', 'man', 'bullied', 'and', 'boucestcr'], [6, 8]), (['CC', 'DT', 'NN', 'NN', 'VBD', 'PRP', 'VB'], ['but', 'the', 'telephone', 'book', 'caused', 'him', 'pain'], [7, 9]), (['WDT', 'PRP$', 'NN', 'MD', 'RB', 'VB', ',', 'JJ', 'TO', 'VB'], ['which', 'his', 'faith', 'could', \"n't\", 'heal', ',', 'strange', 'to', 'say'], [9, 9]), (['JJ', 'NNS', 'VBZ', 'DT', 'NN', 'PRP', 'MD', 'VB'], ['thirty', 'days', 'is', 'the', 'time', 'he', 'will', 'do'], [8, 9]), (['CC', 'PRP', 'VBP', 'IN', 'PRP', 'RB', 'VB'], ['but', 'I', 'guess', 'that', 'you', 'probably', 'gnu'], [7, 9]), (['CC', 'NN', ',', 'NN', 'RB', ',', 'CC', 'RB', 'PRP', 'MD', 'VB'], ['and', 'shout', ',', 'freeze', 'there', ',', 'or', 'else', 'I', 'will', 'cheroot'], [9, 9]), (['SO', 'PRP', 'RB', 'RB', 'VBD', 'RB', 'TO', 'VB'], ['so', 'he', 'very', 'soon', 'went', 'back', 'to', 'dover'], [8, 10]), (['CC', 'VBD', 'RB', 'IN', 'PRP$', 'NNS', 'VB'], ['but', 'slept', 'poorly', 'because', 'her', 'toes', 'froze'], [7, 9]), (['VBD', 'PRP$', 'NN', 'NN', 'PRP$', 'NNS', 'CC', 'VB'], ['put', 'his', 'arm', 'round', 'her', 'shoulders', 'and', 'kr'], [8, 9]), (['VBP', 'WRB', 'JJ', '.', 'DT', 'NNS', 'MD', 'VB'], ['oh', 'how', 'modern', '!', 'the', 'critics', 'will', 'say'], [7, 9]), (['CC', 'MD', ',', 'IF', 'PRP', 'VBD', 'RB', 'VB'], ['and', 'would', ',', 'if', 'I', 'did', \"n't\", 'forgezzo'], [7, 8]), (['RB', 'PRP', 'VBP', 'JJ', 'IN', 'DT', 'NN', 'TO', 'VB'], ['now', 'I', 'am', 'homeless', 'with', 'no', 'place', 'to', 'stay'], [9, 10]), (['DT', 'JJ', 'NN', 'VBD', 'DT', 'NN', 'TO', 'VB'], ['the', 'old', 'dame', 'said', 'no', 'word', 'to', 'rebuchre'], [8, 8]), (['IN', 'DT', 'NN', 'NNS', 'PRP', 'MD', 'VB'], ['from', 'the', 'comedy', 'roles', 'he', 'could', 'play'], [7, 9])], 'PRP$': [(['NNP', 'JJ', 'RB', 'TO', 'VB', 'PRP$'], ['`twas', 'impossible', 'ever', 'to', 'fill', 'her'], [6, 10]), (['DT', 'IN', 'WDT', ',', 'DT', 'NN', 'VBD', ',', 'VBD', 'PRP$'], ['all', 'of', 'which', ',', 'the', 'lady', 'said', ',', 'shocked', 'her'], [8, 9])], 'NNS': [(['CC', 'VBN', 'VBG', 'IN', 'NNS', 'CC', 'JJ', 'NNS'], ['and', 'been', 'feasting', 'on', 'peas', 'and', 'green', 'beans'], [8, 9]), (['IN', 'PRP', 'VBD', 'VBG', 'PRP$', 'NNS'], ['because', 'I', 'was', 'sniffing', 'my', 'toes'], [6, 8]), (['IN', 'JJ', 'JJ', 'NN', 'IN', 'NNS'], ['that', 'unlucky', 'old', 'person', 'of', 'ems'], [6, 9]), (['IN', 'JJ', 'JJ', 'NN', 'IN', 'NNS'], ['that', 'unlucky', 'old', 'person', 'of', 'ems'], [6, 9]), (['CC', 'PRP$', 'NNS', 'VBD', 'RB', 'TO', 'PRP$', 'NNS'], ['but', 'her', 'glasses', 'slipped', 'down', 'to', 'her', 'toes'], [8, 9]), (['IN', 'PRP$', 'NN', 'CC', 'NN', 'NNS'], ['of', 'their', 'city', 'and', 'town', 'promenades'], [6, 9]), (['DT', 'VBD', 'RB', 'VB', 'TO', 'PRP$', 'NNS'], ['this', 'did', \"n't\", 'apply', 'to', 'her', 'feet'], [7, 8]), (['CC', 'PRP', 'VBD', 'RB', 'JJ', 'NN', 'NNS'], ['and', 'she', 'baked', 'really', 'great', 'apple', 'pies'], [7, 9]), (['CC', 'PRP', 'MD', 'RB', 'VB', 'PRP$', 'NN', 'IN', 'PRP$', 'NNS'], ['and', 'he', 'can', \"n't\", 'tell', 'his', 'head', 'from', 'his', 'feet'], [10, 10]), (['PRP', 'VBP', 'VBG', 'PRP', ',', 'IN', 'NNS'], ['you', 'are', 'killing', 'yourself', ',', 'by', 'degrees'], [6, 9]), (['WHEN', 'PRP', 'VBD', 'EX', 'VBD', 'CD', 'JJ', 'NNS'], ['when', 'he', 'saw', 'there', 'were', 'six', 'little', 'chips'], [8, 9]), (['CC', 'DT', 'JJ', 'VBD', 'JJ', 'NNS'], ['but', 'the', 'other', 'won', 'several', 'prizes'], [6, 10])], 'VBD': [(['SO', 'IN', 'NN', 'PRP', 'VBD'], ['so', 'for', 'over-achievement', 'he', 'strived'], [5, 5]), (['PRP', 'VBD', 'RB', 'DT', 'NN', 'PRP', 'VBD'], ['he', 'was', \"n't\", 'the', 'wizard', 'he', 'woz'], [7, 8]), (['AS', 'PRP$', 'NN', 'CC', 'NN', 'VBD'], ['as', 'his', 'talent', 'and', 'confidence', 'swelled'], [6, 9]), (['RB', 'PRP', 'VBP', 'IN', 'PRP$', 'NN', 'CC', 'VBD'], ['then', 'I', 'sat', 'on', 'my', 'moped', 'and', 'moped'], [8, 8]), (['CC', 'DT', 'NN', 'VBZ', 'WDT', 'NN', 'PRP', 'VBD'], ['and', 'no', 'one', 'knows', 'which', 'way', 'she', 'went'], [8, 8]), (['CC', 'PRP', 'VBD', 'PRP$', 'NNS', 'CC', 'VBD'], ['but', 'he', 'thanked', 'his', 'detractors', 'and', 'bowed'], [7, 9]), (['PRP', 'VBD', 'RP', 'IN', 'NN', 'CC', 'VBD'], ['she', 'sat', 'up', 'in', 'bed', 'and', 'meowed'], [7, 7])], 'VBN': [(['CC', 'DT', 'NN', 'WDT', 'VBZ', 'VBN', 'RB', 'VBN'], ['or', 'a', 'lamb', 'that', \"'s\", 'been', 'recently', 'fleeced'], [8, 10]), (['CC', 'IN', 'RB', 'VBZ', 'RB', 'VBN'], ['and', 'since', 'then', 'has', 'never', 'benzene'], [6, 8]), (['CC', 'VBZ', 'PRP', 'MD', 'RB', 'VB', 'VBN'], ['and', 'sideways', 'he', 'could', \"n't\", 'be', 'seen'], [7, 8]), (['PRP', 'VBP', 'RB', 'VBN', 'IN', 'DT', 'NN', 'PRP', 'VBD', 'VBN'], ['I', 'have', 'not', 'used', 'since', 'the', 'year', 'I', 'was', 'born'], [10, 10]), (['IF', 'VBN', ',', 'IN', 'PRP$', 'JJS', 'NN', 'VBZ', 'VBN'], ['if', 'dressed', ',', 'for', 'my', 'best', 'frock', 'is', 'frayed'], [8, 9])], 'VBP': [(['RB', ',', 'PRP', 'MD', 'VB', 'PRP', 'NN', ',', 'PRP', 'VBP'], ['well', ',', 'I', 'will', 'do', 'it', 'tomorrow', ',', 'I', 'mean'], [8, 10]), (['CC', 'PRP', 'VBD', 'NN', 'RB', 'VBP'], ['and', 'she', 'reached', 'home', 'exceedingly', 'plain'], [6, 9]), (['CC', 'RB', 'DT', 'JJ', 'NN', 'PRP', 'VBP'], ['and', 'now', 'a', 'new', 'teacher', 'they', 'seek'], [7, 8]), (['PRP', 'VBZ', 'DT', 'NNS', 'IN', 'NN', 'IN', 'PRP', 'VBP'], ['it', \"'s\", 'the', 'people', 'in', 'front', 'that', 'I', 'jar'], [9, 10]), (['IN', 'DT', 'JJ', 'NN', 'PRP', 'VBP'], ['of', 'the', 'classical', 'music', 'I', 'play'], [6, 9]), (['JJ', 'NN', 'VBZ', 'JJ', ',', 'PRP', 'VBP'], [\"'to\", 'drink', 'is', 'forbidden', ',', 'you', 'loon'], [6, 9]), (['DT', ',', 'VB', 'PRP', 'RB', 'VB', 'PRP', ',', 'PRP', 'VBP'], ['no', ',', 'igloo', 'them', 'not', 'sew', 'them', ',', 'you', 'know'], [8, 9])], 'RB': [(['JJ', 'MD', 'TO', 'VB', 'RP', 'RB', 'RB', '.'], ['`you', 'ought', 'to', 'go', 'out', 'there', 'again', '!'], [7, 9]), (['VBD', 'DT', 'NN', 'IN', 'DT', 'NN', 'RB', 'RB'], ['dumped', 'the', 'boy', 'in', 'a', 'bin', 'upside', 'down'], [8, 9]), (['CC', 'MD', 'RB', 'VB', 'RB', 'RB'], ['and', 'could', \"n't\", 'bend', 'back', 'again'], [6, 7]), (['VBZ', 'TO', 'VB', 'PRP$', 'NN', 'NN', 'RB'], ['hopes', 'to', 'draw', 'his', 'insurance', 'cheque', 'soon'], [7, 9]), (['CC', 'DT', 'NN', 'MD', 'VB', 'VBG', 'CD', ',', 'RB'], ['or', 'the', 'rest', 'will', 'be', 'wanting', 'one', ',', 'too'], [8, 9])], 'JJ': [(['IN', 'DT', 'NN', 'VBZ', 'VBN', ',', 'SO', 'VBZ', 'PRP$', 'JJ'], ['for', 'the', 'corn', 'is', 'gone', ',', 'so', 'is', 'her', 'teaux'], [9, 9]), (['CC', 'RB', 'DT', 'JJ', 'NN', 'VBZ', 'RB', 'JJ'], ['and', 'now', 'the', 'dumb', 'thing', 'is', 'too', 'small'], [8, 8]), (['CC', 'VBD', 'DT', 'JJ'], ['and', 'shocked', 'the', 'ultra-fastidious'], [4, 4]), (['VB', 'IN', 'JJ', 'VB', 'JJ', 'JJ'], ['be', 'before', 'phoebe', 'be', 'phoebe', 'bee-bee'], [6, 9]), (['AS', 'IF', 'PRP', 'MD', 'VBN', 'JJ'], ['as', 'if', 'he', \"'d\", 'been', 'invited'], [6, 8]), (['IN', 'NN', 'VBD', 'RB', 'JJ', ',', 'PRP', 'VBD', 'JJ'], ['that', 'bird', 'was', \"n't\", 'black', ',', 'he', 'was', 'yellow'], [8, 9]), (['TO', 'VB', 'PRP$', 'JJ', 'NN', 'JJ'], ['to', 'call', 'my', 'last', 'novel', 'impure'], [6, 9]), (['CC', 'VBG', 'VBP', 'PRP', 'VBZ', 'CC', 'JJ', '.'], ['and', 'awakening', 'find', 'it', \"'s\", 'but', 'dreymss', '!'], [7, 11]), (['CC', 'VBG', 'VBP', 'PRP', 'VBZ', 'CC', 'JJ', '.'], ['and', 'awakening', 'find', 'it', \"'s\", 'but', 'dreyrnss', '!'], [7, 11]), (['CC', 'DT', 'NNS', 'DT', 'VBD', 'NNP', 'RB', 'JJ'], ['but', 'the', 'others', 'all', 'thought', \"'twas\", 'too', 'breezy'], [8, 10]), (['IN', 'DT', 'NN', 'VBD', 'JJ', 'CC', 'JJ'], ['that', 'no', 'one', 'was', 'present', 'but', 'smarty'], [7, 9]), (['CC', 'VBZ', 'NN', 'VB', 'NNS', 'SO', 'JJ'], ['or', 'does', 'gravity', 'miss', 'things', 'so', 'small'], [7, 9]), [['IN', 'DT', 'JJ', 'JJ', 'NN', 'PRP', 'VBZ', 'JJ'], ['with', 'the', 'old', 'black', 'decker', \"'\", 'he', \"'s\", 'skilled'], [8, 10]], (['RB', 'VB', 'RP', 'DT', 'JJ', 'CC', 'JJ'], ['then', 'wake', 'up', 'all', 'snappy', 'and', 'snarly'], [7, 8])], 'IN': [(['CC', 'CD', 'NN', 'PRP', 'RB', 'MD', 'RB', 'VB', 'IN'], ['but', 'one', 'god', 'he', 'just', 'could', \"n't\", 'believe', 'in'], [9, 10]), (['PRP', 'VBD', 'IN', 'DT', 'NN', 'CC', 'VBD', 'IN'], ['she', 'slipped', 'through', 'the', 'straw', 'and', 'fell', 'in'], [8, 8]), (['PRP', 'VBP', 'RB', 'RB', 'TO', 'VB', 'RP', 'IN'], ['I', 'am', 'eos', 'down', 'to', 'put', 'eos', 'across'], [8, 11]), (['PRP', 'MD', 'VB', 'IN', 'PRP', 'VBZ', 'RB', 'VBN', 'VBN', 'IN'], ['I', 'will', 'know', 'that', 'it', 'has', \"n't\", 'been', 'sat', 'on'], [10, 10]), (['PRP', 'VBD', 'IN', 'DT', 'NN', 'CC', 'VBD', 'IN'], ['he', 'slipped', 'through', 'the', 'straw', 'and', 'fell', 'in'], [8, 8]), (['WP', 'DT', 'NN', 'PRP', 'VBD', 'RB', 'VB', 'IN'], ['what', 'a', 'blessing', 'they', 'did', \"n't\", 'fall', 'in'], [8, 9])], 'DT': [(['DT', 'NNS', ',', 'RB', ',', 'VBD', 'RB', 'VB', 'DT'], ['the', 'drivers', ',', 'therefore', ',', 'did', \"n't\", 'dump', 'any'], [7, 10]), (['RB', 'IN', 'CD', 'NNS', ',', 'EX', 'VBP', 'RB', 'DT'], ['now', 'instead of', 'two', 'cats', ',', 'there', 'are', \"n't\", 'any'], [8, 9])], 'FW': [(['THAN', 'JJ', 'NN', 'NN', 'FW', 'FW', 'FW', 'FW'], ['than', 'eos', 'point', 'eos', 'eos', 'eos', 'eos', 'eos'], [8, 14]), (['VBG', 'RB', 'DT', 'NN', 'IN', 'FW', 'FW'], ['leaving', 'only', 'a', 'pile', 'of', 'de', 'brie'], [7, 9])], 'VBG': [(['IN', 'IN', 'PRP$', 'NNS', 'PRP', 'VBD', 'VBG'], ['because', 'on', 'her', 'toes', 'he', 'kept', 'prancing'], [7, 9]), (['RB', 'VBD', 'PRP', ',', 'RB', 'WRB', 'PRP', 'VBP', 'VBG'], ['just', 'painted', 'it', ',', 'right', 'where', 'you', 'are', 'sitting'], [8, 11])], 'TO': [(['PRP', 'VBD', 'PRP', 'CC', 'VBD', 'NNS', 'CC', 'TO'], ['he', 'reversed', 'it', 'and', 'walked', 'fro', 'and', 'to'], [8, 9])], 'MD': [(['CC', 'PRP', 'RB', 'VBP', 'TO', 'VB', 'AS', 'JJ', 'NNS', 'IN', 'DT', 'JJ', 'NN', 'AS', 'PRP', 'RB', 'MD'], ['but', 'I', 'always', 'try', 'to', 'get', 'as', 'many', 'syllables', 'into', 'the', 'last', 'line', 'as', 'I', 'possibly', 'can'], [17, 24])], 'CD': [(['RB', 'VB', 'RP', 'DT', 'NN', 'CC', 'CD'], ['then', 'grind', 'out', 'a', 'limerick', 'or', 'two'], [7, 9])], 'RP': [(['IN', 'PRP', 'MD', 'RB', 'VB', 'RP'], ['that', 'he', 'could', \"n't\", 'reach', 'up'], [6, 6])], 'JJR': [(['JJ', 'NN', ',', 'PRP', 'VBD', ',', 'MD', 'VB', 'JJR'], ['`no', 'mixture', ',', 'she', 'said', ',', 'could', 'be', 'finer'], [7, 11]), (['CC', 'PRP$', 'NNS', 'VBD', 'JJR', 'CC', 'JJR'], ['and', 'her', 'freckles', 'grew', 'rarer', 'and', 'rarer'], [7, 10]), (['PRP', 'VBD', 'PDT', 'PRP$', 'NNS', 'VBG', 'JJR'], ['he', 'left', 'all', 'his', 'fans', 'wanting', 'more'], [7, 8])], 'VBZ': [(['PRP', 'MD', 'VB', 'RB', 'VBD', ',', 'WHEN', 'PRP', 'VBZ'], ['I', 'will', 'be', 'awfully', 'said', ',', 'when', 'it', 'goes'], [8, 10])]})}\n"
     ]
    }
   ],
   "source": [
    "print(lg.templates)"
   ]
  },
  {
   "cell_type": "code",
   "execution_count": 8,
   "metadata": {},
   "outputs": [
    {
     "name": "stdout",
     "output_type": "stream",
     "text": [
      "1.0\n",
      "({'anne': {'madman', 'ran', 'can', 'van', 'japan', 'tan', 'man', 'fisherman', 'klan', 'san', 'chan', 'than', 'pan', 'suntan', 'caveman', 'milan', 'gan', 'anchorman', 'fan', 'ban', 'divan', 'kan', 'helmsman', 'began', 'dan', 'businessman', 'journeyman', 'afghan', 'sedan', 'ann', 'clan', 'an', 'caravan', 'clergyman', 'plan', 'scan', 'span'}, 'flor': {'hoar', 'lore', 'score', 'corps', 'ashore', 'nor', 'sore', 'folklore', 'decor', 'fore', 'seashore', 'snore', 'tore', 'before', 'boar', 'chore', 'evermore', 'soar', 'swore', 'therefor', 'four', 'gore', 'sophomore', 'adore', 'shore', 'outdoor', 'oar', 'salvador', 'door', 'mentor', 'pore', 'roar', 'pour', 'dinosaur', 'store', 'rapport', 'drawer', 'therefore', 'indoor', 'sycamore', 'core', 'bore', 'anymore', 'floor', 'yore', 'troubadour', 'labrador', 'ore', 'furthermore', 'ignore', 'matador', 'abhor', 'for', 'war', 'or', 'wore', 'more', 'uproar', 'your', 'whore', 'tor', 'centaur', 'explore', 'encore', 'restore'}}, {'collection': {'selection', 'perfection', 'section', 'connection', 'midsection', 'reflection', 'affection', 'objection', 'direction', 'dissection', 'infection', 'injection', 'rejection', 'inflection', 'inspection', 'complexion', 'correction', 'projection', 'defection', 'protection', 'election', 'detection'}, 'hall': {'forestall', 'sol', 'fall', 'thrall', 'small', 'pall', 'cabal', 'doll', 'fireball', 'basketball', 'haul', 'loll', 'gall', 'protocol', 'natal', 'baseball', 'brawl', 'senegal', 'banal', 'waterfall', 'sprawl', 'ball', 'football', 'scrawl', 'all', 'overall', 'mall', 'eyeball', 'nightfall', 'paul', 'tall', 'maul', 'alcohol', 'call', 'gaul', 'wall', 'shawl', 'stall', 'recall', 'downfall', 'wherewithal', 'crawl', 'hardball', 'ethanol', 'footfall', 'appall'}})\n"
     ]
    }
   ],
   "source": [
    "print(lg.poetic_vectors.similarity('library', 'library'))\n",
    "print(lg.get_two_sets_henry('library', 2, 2))"
   ]
  },
  {
   "cell_type": "code",
   "execution_count": null,
   "metadata": {},
   "outputs": [
    {
     "name": "stdout",
     "output_type": "stream",
     "text": [
      "INFO:tensorflow:Restoring parameters from gpt2/models/117M/model.ckpt\n",
      "['there', 'was', 'a', 'humble', 'man', 'named', 'beau']\n",
      "INFO:tensorflow:Restoring parameters from gpt2/models/117M/model.ckpt\n",
      "INFO:tensorflow:Restoring parameters from gpt2/models/117M/model.ckpt\n",
      "INFO:tensorflow:Restoring parameters from gpt2/models/117M/model.ckpt\n",
      "INFO:tensorflow:Restoring parameters from gpt2/models/117M/model.ckpt\n",
      "INFO:tensorflow:Restoring parameters from gpt2/models/117M/model.ckpt\n",
      "INFO:tensorflow:Restoring parameters from gpt2/models/117M/model.ckpt\n",
      "['who', 'spent', 'decades', 'in', 'the', 'shadow']\n",
      "INFO:tensorflow:Restoring parameters from gpt2/models/117M/model.ckpt\n",
      "INFO:tensorflow:Restoring parameters from gpt2/models/117M/model.ckpt\n"
     ]
    }
   ],
   "source": [
    "poem = lg.gen_poem_gpt(\"hurricane\", \"hurricane\",\n",
    "                       prompt_length=100, search_space=150, story_line=True,\n",
    "                       default_templates=[['WHO', 'VBD', 'NNS', 'IN', 'DT', 'NN'],\n",
    "                                          ['PRP', 'VBD', 'DT', 'NN'],\n",
    "                                          ['IN', 'DT', 'JJ', 'NN'],\n",
    "                                          ['CC', 'VBD', 'IN', 'DT', 'JJ', 'NN']\n",
    "                                         ],enforce_syllables = True, enforce_stress = True)"
   ]
  },
  {
   "cell_type": "markdown",
   "metadata": {},
   "source": [
    "['there', 'was', 'a', 'kind', 'lady', 'named', 'mary']\n",
    ",['who', 'was', 'friends', 'with', 'a', 'loan']\n"
   ]
  },
  {
   "cell_type": "code",
   "execution_count": 18,
   "metadata": {},
   "outputs": [
    {
     "name": "stdout",
     "output_type": "stream",
     "text": [
      "True\n"
     ]
    }
   ],
   "source": [
    "possible_syllables = ['01','00']\n",
    "stress_syllable_pos = 0\n",
    "print(all(s[stress_syllable_pos] != '1' for s in possible_syllables))"
   ]
  },
  {
   "cell_type": "code",
   "execution_count": null,
   "metadata": {},
   "outputs": [],
   "source": []
  }
 ],
 "metadata": {
  "kernelspec": {
   "display_name": "Python 3",
   "language": "python",
   "name": "python3"
  },
  "language_info": {
   "codemirror_mode": {
    "name": "ipython",
    "version": 3
   },
   "file_extension": ".py",
   "mimetype": "text/x-python",
   "name": "python",
   "nbconvert_exporter": "python",
   "pygments_lexer": "ipython3",
   "version": "3.6.5"
  },
  "pycharm": {
   "stem_cell": {
    "cell_type": "raw",
    "metadata": {
     "collapsed": false
    },
    "source": []
   }
  }
 },
 "nbformat": 4,
 "nbformat_minor": 2
}
