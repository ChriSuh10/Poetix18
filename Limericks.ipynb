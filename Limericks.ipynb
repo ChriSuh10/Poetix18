{
 "cells": [
  {
   "cell_type": "code",
   "execution_count": 2,
   "metadata": {},
   "outputs": [],
   "source": [
    "%load_ext autoreload\n",
    "%autoreload 2"
   ]
  },
  {
   "cell_type": "code",
   "execution_count": 9,
   "metadata": {},
   "outputs": [],
   "source": [
    "from py_files.Limericks import Limerick_Generate"
   ]
  },
  {
   "cell_type": "code",
   "execution_count": 10,
   "metadata": {},
   "outputs": [],
   "source": [
    "lg = Limerick_Generate()"
   ]
  },
  {
   "cell_type": "code",
   "execution_count": 12,
   "metadata": {},
   "outputs": [
    {
     "data": {
      "text/plain": [
       "['having',\n",
       " 'know',\n",
       " 'suddenly',\n",
       " 'great',\n",
       " 'called',\n",
       " 'away',\n",
       " 'important',\n",
       " 'person',\n",
       " 'shape',\n",
       " 'somebody',\n",
       " 'fairly',\n",
       " 'point',\n",
       " 'lose',\n",
       " 'season',\n",
       " 'pulled',\n",
       " 'returns',\n",
       " 'favor',\n",
       " 'water',\n",
       " 'number',\n",
       " 'ground']"
      ]
     },
     "execution_count": 12,
     "metadata": {},
     "output_type": "execute_result"
    }
   ],
   "source": [
    "lg.get_similar_word_henry([\"large\", \"friend\", \"spring\", \"tired\"], [], n_return=20)"
   ]
  },
  {
   "cell_type": "code",
   "execution_count": 13,
   "metadata": {},
   "outputs": [
    {
     "data": {
      "text/plain": [
       "[('chase', 'grace', 'marry', 'mary', 'chase'),\n",
       " ('lace', 'grace', 'marry', 'mary', 'chase'),\n",
       " ('embrace', 'grace', 'marry', 'mary', 'chase'),\n",
       " ('trace', 'grace', 'marry', 'mary', 'chase'),\n",
       " ('replace', 'grace', 'marry', 'mary', 'chase'),\n",
       " ('case', 'grace', 'marry', 'mary', 'chase'),\n",
       " ('space', 'grace', 'marry', 'mary', 'chase'),\n",
       " ('steeplechase', 'grace', 'marry', 'mary', 'chase'),\n",
       " ('race', 'grace', 'marry', 'mary', 'chase'),\n",
       " ('mace', 'grace', 'merry', 'beauty', 'chase')]"
      ]
     },
     "execution_count": 13,
     "metadata": {},
     "output_type": "execute_result"
    }
   ],
   "source": [
    "lg.get_five_words_henry('grace', 10)"
   ]
  },
  {
   "cell_type": "code",
   "execution_count": 17,
   "metadata": {},
   "outputs": [
    {
     "name": "stdout",
     "output_type": "stream",
     "text": [
      "['WHO', 'VBD', 'JJ', 'NN', 'IN', 'NN']\n",
      "INFO:tensorflow:Restoring parameters from py_files/models/all_combined_back\\model.ckpt-120000\n",
      "['WHO', 'VBD', 'DT', 'JJ', 'NN', 'IN', 'PRP$', 'NN']\n",
      "INFO:tensorflow:Restoring parameters from py_files/models/all_combined_back\\model.ckpt-120000\n",
      "['WHO', 'VBD', 'DT', 'PRP$', 'NN', 'IN', 'DT', 'NN']\n",
      "INFO:tensorflow:Restoring parameters from py_files/models/all_combined_back\\model.ckpt-120000\n",
      "['WHO', 'VBD', 'DT', 'NN', 'IN', 'NN']\n",
      "INFO:tensorflow:Restoring parameters from py_files/models/all_combined_back\\model.ckpt-120000\n",
      "['WHO', 'VBD', 'IN', 'DT', 'NN', 'IN', 'NNS']\n",
      "INFO:tensorflow:Restoring parameters from py_files/models/all_combined_back\\model.ckpt-120000\n",
      "[(['who', 'was', 'in', 'the', 'spirituality', 'of', 'grace'], -4.022611345563616, ['WHO', 'VBD', 'IN', 'DT', 'NN', 'IN', 'NNS'], ['who', 'slipped', 'on', 'a', 'peel', 'of', 'bananas']), (['who', 'had', 'the', 'individuality', 'of', 'grace'], -4.296149253845215, ['WHO', 'VBD', 'DT', 'NN', 'IN', 'NN'], ['who', 'hadnt', 'an', 'atom', 'of', 'fear']), (['who', 'disintegrated', 'the', 'whole', 'part', 'of', 'my', 'grace'], -4.477366924285889, ['WHO', 'VBD', 'DT', 'JJ', 'NN', 'IN', 'PRP$', 'NN'], ['who', 'had', 'a', 'large', 'wart', 'on', 'her', 'nose']), (['who', 'disintegrated', 'all', 'my', 'love', 'of', 'these', 'grace'], -4.991164684295654, ['WHO', 'VBD', 'DT', 'PRP$', 'NN', 'IN', 'DT', 'NN'], ['who', 'kept', 'all', 'his', 'cash', 'in', 'a', 'bucket']), (['who', 'had', 'thy', 'individuality', 'in', 'grace'], -5.033203125, ['WHO', 'VBD', 'JJ', 'NN', 'IN', 'NN'], ['who', 'was', 'quite', 'fond', 'of', 'feedin'])]\n",
      "['WHEN', 'DT', 'NN', 'VBZ', 'PRP$', 'NN']\n",
      "INFO:tensorflow:Restoring parameters from py_files/models/all_combined_back\\model.ckpt-120000\n",
      "['DT', 'NN', 'IN', 'PRP$', 'NN']\n",
      "INFO:tensorflow:Restoring parameters from py_files/models/all_combined_back\\model.ckpt-120000\n",
      "['PRP', 'VBD', 'IN', 'DT', 'NN']\n",
      "INFO:tensorflow:Restoring parameters from py_files/models/all_combined_back\\model.ckpt-120000\n",
      "['IN', 'JJ', 'NN']\n",
      "INFO:tensorflow:Restoring parameters from py_files/models/all_combined_back\\model.ckpt-120000\n",
      "['WHEN', 'DT', 'NN', 'VBZ', 'PRP$', 'NN']\n",
      "INFO:tensorflow:Restoring parameters from py_files/models/all_combined_back\\model.ckpt-120000\n",
      "[(['every', 'part', 'of', 'her', 'report'], -3.7557136535644533, ['DT', 'NN', 'IN', 'PRP$', 'NN'], ['the', 'cause', 'of', 'his', 'sorrow']), (['when', 'the', 'picture', 'is', 'mine', 'report'], -3.9669313430786133, ['WHEN', 'DT', 'NN', 'VBZ', 'PRP$', 'NN'], ['when', 'a', 'dame', 'wears', 'my', 'coat']), (['when', 'the', 'word', 'reminds', 'her', 'report'], -4.294881184895833, ['WHEN', 'DT', 'NN', 'VBZ', 'PRP$', 'NN'], ['when', 'a', 'girl', 'wears', 'my', 'coat']), (['of', 'unforgettable', 'report'], -4.562471071879069, ['IN', 'JJ', 'NN'], ['due to', 'up-to-date', 'science']), (['it', 'was', 'addition', 'all', 'report'], -4.837641906738281, ['PRP', 'VBD', 'IN', 'DT', 'NN'], ['it', 'said', 'on', 'the', 'door'])]\n",
      "['CC', 'PRP', 'VBD', 'VBN', 'IN', 'DT', 'NN']\n",
      "INFO:tensorflow:Restoring parameters from py_files/models/all_combined_back\\model.ckpt-120000\n",
      "['PRP', 'POS', 'DT', 'NN']\n",
      "INFO:tensorflow:Restoring parameters from py_files/models/all_combined_back\\model.ckpt-120000\n",
      "['IN', 'DT', 'JJ', ',', 'JJ', 'NN']\n",
      "INFO:tensorflow:Restoring parameters from py_files/models/all_combined_back\\model.ckpt-120000\n",
      "['AS', 'DT', 'JJ', 'NN']\n",
      "INFO:tensorflow:Restoring parameters from py_files/models/all_combined_back\\model.ckpt-120000\n",
      "['IN', 'DT', 'JJ', 'NN']\n",
      "INFO:tensorflow:Restoring parameters from py_files/models/all_combined_back\\model.ckpt-120000\n",
      "[(['and', 'i', 'became', 'thought', 'of', 'all', 'court'], -3.500504357474191, ['CC', 'PRP', 'VBD', 'VBN', 'IN', 'DT', 'NN'], ['but', 'he', 'was', 'stopped', 'in', 'the', 'hall']), (['of', 'the', 'contemporary', 'court'], -3.664881467819214, ['IN', 'DT', 'JJ', 'NN'], ['in', 'a', 'relative', 'way']), (['of', 'the', 'universal', ',', 'clear', 'court'], -3.86070982615153, ['IN', 'DT', 'JJ', ',', 'JJ', 'NN'], ['with', 'a', 'dull', ',', 'sickening', 'thud']), (['as', 'the', 'contemporary', 'court'], -4.436663627624512, ['AS', 'DT', 'JJ', 'NN'], ['as', 'the', 'inverted', 'square'])]\n",
      "['IN', 'PRP$', 'JJ', 'NN']\n",
      "INFO:tensorflow:Restoring parameters from py_files/models/all_combined_back\\model.ckpt-120000\n",
      "['WHEN', 'PRP', 'VBP', 'PRP', ',', 'PRP', 'VBP', 'VBN', 'DT', 'NN']\n",
      "INFO:tensorflow:Restoring parameters from py_files/models/all_combined_back\\model.ckpt-120000\n",
      "['CC', 'DT', 'NN', 'RB', 'VBD', 'DT', 'JJ', 'NN']\n",
      "INFO:tensorflow:Restoring parameters from py_files/models/all_combined_back\\model.ckpt-120000\n",
      "['IN', 'DT', 'NN', 'IN', 'NN', 'TO', 'NN']\n",
      "INFO:tensorflow:Restoring parameters from py_files/models/all_combined_back\\model.ckpt-120000\n",
      "['CC', 'VBD', 'IN', 'DT', 'JJ', 'NN']\n",
      "INFO:tensorflow:Restoring parameters from py_files/models/all_combined_back\\model.ckpt-120000\n",
      "[(['for', 'the', 'time', 'there', 'was', 'no', 'intellectual', 'case'], -3.5486512184143066, ['CC', 'DT', 'NN', 'RB', 'VBD', 'DT', 'JJ', 'NN'], ['and', 'the', 'captain', 'then', 'swore', 'a', 'whole', 'lacht']), (['when', 'i', 'see', 'you', ',', 'i', 'congratulate', 'read', 'that', 'case'], -3.762433624267578, ['WHEN', 'PRP', 'VBP', 'PRP', ',', 'PRP', 'VBP', 'VBN', 'DT', 'NN'], ['when', 'I', 'wear', 'it', ',', 'I', 'am', 'called', 'a', 'vermine']), (['with', 'a', 'sort', 'of', 'respectability', 'to', 'case'], -3.8982203347342357, ['IN', 'DT', 'NN', 'IN', 'NN', 'TO', 'NN'], ['of', 'the', 'distance', 'from', 'object', 'to', 'source']), (['and', 'ashamed', 'of', 'the', 'revolutionary', 'case'], -4.341703732808431, ['CC', 'VBD', 'IN', 'DT', 'JJ', 'NN'], ['and', 'returned', 'on', 'the', 'previous', 'night']), (['albeit', 'our', 'extraordinary', 'case'], -7.3849945068359375, ['IN', 'PRP$', 'JJ', 'NN'], ['because of', 'his', 'scanty', 'regalia'])]\n",
      "************\n",
      "there once was an enthusiastic man named rais\n",
      "who was in the spirituality of grace\n",
      "every part of her report\n",
      "and i became thought of all court\n",
      "for the time there was no intellectual case\n",
      "\n"
     ]
    },
    {
     "name": "stderr",
     "output_type": "stream",
     "text": [
      "D:\\0\\Github\\Poetix18\\py_files\\Limericks.py:195: RuntimeWarning: invalid value encountered in power\n",
      "  sim += self.poetic_vectors.similarity(word, other_word) ** 0.5\n"
     ]
    },
    {
     "name": "stdout",
     "output_type": "stream",
     "text": [
      "['WHO', 'VBD', 'PRP', 'RB', 'IN', 'DT', 'NN']\n",
      "INFO:tensorflow:Restoring parameters from py_files/models/all_combined_back\\model.ckpt-120000\n",
      "['WHO', 'VBD', 'AS', 'PRP', 'VBD', 'IN', 'DT', 'NN']\n",
      "INFO:tensorflow:Restoring parameters from py_files/models/all_combined_back\\model.ckpt-120000\n",
      "['WHO', 'VBD', 'IN', 'JJ', 'NN']\n",
      "INFO:tensorflow:Restoring parameters from py_files/models/all_combined_back\\model.ckpt-120000\n",
      "['WHO', 'VBD', 'JJ', 'NN', 'IN', 'NN']\n",
      "INFO:tensorflow:Restoring parameters from py_files/models/all_combined_back\\model.ckpt-120000\n",
      "['WHO', 'VBD', 'DT', 'JJ', 'NN', 'IN', 'PRP$', 'NN']\n",
      "INFO:tensorflow:Restoring parameters from py_files/models/all_combined_back\\model.ckpt-120000\n",
      "[(['who', 'had', 'the', 'psychological', 'part', 'of', 'his', 'grace'], -3.744004726409912, ['WHO', 'VBD', 'DT', 'JJ', 'NN', 'IN', 'PRP$', 'NN'], ['who', 'had', 'a', 'large', 'wart', 'on', 'her', 'nose']), (['who', 'were', 'as', 'it', 'disintegrated', 'with', 'some', 'grace'], -4.9506096839904785, ['WHO', 'VBD', 'AS', 'PRP', 'VBD', 'IN', 'DT', 'NN'], ['who', 'smiled', 'as', 'she', 'rode', 'on', 'a', 'tiger']), (['who', 'had', 'thy', 'individuality', 'in', 'grace'], -5.033203125, ['WHO', 'VBD', 'JJ', 'NN', 'IN', 'NN'], ['who', 'was', 'quite', 'fond', 'of', 'feedin']), (['who', 'deteriorated', 'me', 'now', 'with', 'all', 'grace'], -5.0725555419921875, ['WHO', 'VBD', 'PRP', 'RB', 'IN', 'DT', 'NN'], ['who', 'found', 'himself', 'quite', 'at', 'a', 'loss']), (['who', 'had', 'addition', 'extraordinary', 'grace'], -5.738982772827148, ['WHO', 'VBD', 'IN', 'JJ', 'NN'], ['who', 'lived', 'on', 'distilled', 'kerosene'])]\n",
      "['DT', 'NN', 'IN', 'PRP$', 'NN']\n",
      "INFO:tensorflow:Restoring parameters from py_files/models/all_combined_back\\model.ckpt-120000\n",
      "['PRP', 'VBD', 'RB', 'IN', 'DT', 'NN']\n",
      "INFO:tensorflow:Restoring parameters from py_files/models/all_combined_back\\model.ckpt-120000\n",
      "['CD', 'NNS', 'CC', 'DT', 'NN']\n",
      "INFO:tensorflow:Restoring parameters from py_files/models/all_combined_back\\model.ckpt-120000\n",
      "['CC', 'PRP$', 'NN', ',', 'VBN', 'NNP']\n",
      "INFO:tensorflow:Restoring parameters from py_files/models/all_combined_back\\model.ckpt-120000\n",
      "['DT', 'NN', 'VBN', 'NN']\n",
      "INFO:tensorflow:Restoring parameters from py_files/models/all_combined_back\\model.ckpt-120000\n",
      "[(['for', 'my', 'life', ',', 'accepted', 'duty'], -3.4823859532674155, ['CC', 'PRP$', 'NN', ',', 'VBN', 'NNP'], ['but', 'his', 'daughter', ',', 'named', 'nan']), (['i', 'wondered', 'not', 'for', 'all', 'duty'], -3.9186954498291016, ['PRP', 'VBD', 'RB', 'IN', 'DT', 'NN'], ['they', 'came', 'back', 'from', 'the', 'ride']), (['the', 'earth', 'disappointed', 'duty'], -4.094043254852295, ['DT', 'NN', 'VBN', 'NN'], ['a', 'widow', 'named', 'block']), (['two', 'animals', 'and', 'all', 'duty'], -4.472021102905273, ['CD', 'NNS', 'CC', 'DT', 'NN'], ['two', 'owls', 'and', 'a', 'hen']), (['the', 'earth', 'addition', 'its', 'duty'], -5.611245346069336, ['DT', 'NN', 'IN', 'PRP$', 'NN'], ['the', 'cause', 'of', 'his', 'sorrow'])]\n",
      "['NN', 'CC', 'DT', 'NN', 'POS', 'RB', 'JJ', 'NN']\n",
      "['VBD', 'DT', 'NN', 'DT', 'NN']\n",
      "INFO:tensorflow:Restoring parameters from py_files/models/all_combined_back\\model.ckpt-120000\n",
      "['VBZ', 'DT', 'JJ', 'NN', 'POS', 'NN']\n",
      "INFO:tensorflow:Restoring parameters from py_files/models/all_combined_back\\model.ckpt-120000\n",
      "['DT', 'CD', 'VBD', 'PDT', 'DT', 'NN']\n",
      "INFO:tensorflow:Restoring parameters from py_files/models/all_combined_back\\model.ckpt-120000\n",
      "['VBD', 'CD', 'NNS', 'IN', 'NN']\n",
      "INFO:tensorflow:Restoring parameters from py_files/models/all_combined_back\\model.ckpt-120000\n",
      "[(['the', 'thousand', 'was', 'all', 'that', 'beauty'], -4.815908749898274, ['DT', 'CD', 'VBD', 'PDT', 'DT', 'NN'], ['no', 'one', 'heard', 'such', 'a', 'scream']), (['was', 'every', 'life', 'both', 'beauty'], -4.8712718963623045, ['VBD', 'DT', 'NN', 'DT', 'NN'], ['packed', 'the', 'house', 'every', 'night']), (['was', 'one', 'memories', 'of', 'beauty'], -4.872352600097656, ['VBD', 'CD', 'NNS', 'IN', 'NN'], ['drank', 'three', 'kinds', 'of', 'wine'])]\n",
      "['CC', 'PRP', 'VBP', 'VBN', 'TO', 'DT', 'NN', 'IN', 'NN']\n",
      "INFO:tensorflow:Restoring parameters from py_files/models/all_combined_back\\model.ckpt-120000\n",
      "['IN', 'NN', ',', 'PRP', 'MD', 'RB', 'VB', 'NN']\n",
      "INFO:tensorflow:Restoring parameters from py_files/models/all_combined_back\\model.ckpt-120000\n",
      "['CC', 'PRP', 'VBZ', 'DT', 'NN', 'IN', 'DT', 'NN']\n",
      "INFO:tensorflow:Restoring parameters from py_files/models/all_combined_back\\model.ckpt-120000\n",
      "['IN', 'JJ', 'NN', 'IN', 'NN']\n",
      "INFO:tensorflow:Restoring parameters from py_files/models/all_combined_back\\model.ckpt-120000\n",
      "['CC', 'VBD', 'IN', 'DT', 'JJ', 'NN']\n",
      "INFO:tensorflow:Restoring parameters from py_files/models/all_combined_back\\model.ckpt-120000\n",
      "[(['and', 'i', 'congratulate', 'come', 'to', 'the', 'edge', 'of', 'chase'], -3.6023322211371527, ['CC', 'PRP', 'VBP', 'VBN', 'TO', 'DT', 'NN', 'IN', 'NN'], ['and', 'I', 'am', 'stuck', 'to', 'the', 'toilet', 'with', 'glue']), (['and', 'it', 'is', 'the', 'curiosity', 'of', 'all', 'chase'], -3.6496827602386475, ['CC', 'PRP', 'VBZ', 'DT', 'NN', 'IN', 'DT', 'NN'], ['and', 'that', 'is', 'the', 'cause', 'of', 'this', 'sonnet']), (['of', 'course', ',', 'i', 'would', 'not', 'incomprehensible', 'chase'], -3.859732151031494, ['IN', 'NN', ',', 'PRP', 'MD', 'RB', 'VB', 'NN'], ['in', 'fact', ',', 'they', 'could', 'hardly', 'get', 'ynne']), (['and', 'thought', 'of', 'any', 'evolutionary', 'chase'], -4.325865109761556, ['CC', 'VBD', 'IN', 'DT', 'JJ', 'NN'], ['and', 'retired', 'with', 'a', 'bad', 'stomach ache']), (['without', 'good', 'individuality', 'to', 'chase'], -5.592777252197266, ['IN', 'JJ', 'NN', 'IN', 'NN'], ['by', 'that', 'lady', 'of', 'russia'])]\n",
      "************\n",
      "there once was an enthusiastic man named pace\n",
      "who had the psychological part of his grace\n",
      "for my life , accepted duty\n",
      "the thousand was all that beauty\n",
      "and i congratulate come to the edge of chase\n",
      "\n"
     ]
    },
    {
     "data": {
      "text/plain": [
       "[[['there', 'once', 'was', 'an', 'enthusiastic', 'man', 'named', 'pace']],\n",
       " (['who', 'had', 'the', 'psychological', 'part', 'of', 'his', 'grace'],\n",
       "  -3.744004726409912,\n",
       "  ['WHO', 'VBD', 'DT', 'JJ', 'NN', 'IN', 'PRP$', 'NN'],\n",
       "  ['who', 'had', 'a', 'large', 'wart', 'on', 'her', 'nose']),\n",
       " (['for', 'my', 'life', ',', 'accepted', 'duty'],\n",
       "  -3.4823859532674155,\n",
       "  ['CC', 'PRP$', 'NN', ',', 'VBN', 'NNP'],\n",
       "  ['but', 'his', 'daughter', ',', 'named', 'nan']),\n",
       " (['the', 'thousand', 'was', 'all', 'that', 'beauty'],\n",
       "  -4.815908749898274,\n",
       "  ['DT', 'CD', 'VBD', 'PDT', 'DT', 'NN'],\n",
       "  ['no', 'one', 'heard', 'such', 'a', 'scream']),\n",
       " (['and', 'i', 'congratulate', 'come', 'to', 'the', 'edge', 'of', 'chase'],\n",
       "  -3.6023322211371527,\n",
       "  ['CC', 'PRP', 'VBP', 'VBN', 'TO', 'DT', 'NN', 'IN', 'NN'],\n",
       "  ['and', 'I', 'am', 'stuck', 'to', 'the', 'toilet', 'with', 'glue'])]"
      ]
     },
     "execution_count": 17,
     "metadata": {},
     "output_type": "execute_result"
    }
   ],
   "source": [
    "lg.gen_poem_independent_matias('grace', 12)\n",
    "lg.gen_poem_independent_matias('grace', 12, storyline=1)"
   ]
  },
  {
   "cell_type": "code",
   "execution_count": 22,
   "metadata": {},
   "outputs": [
    {
     "name": "stdout",
     "output_type": "stream",
     "text": [
      "('gath', 'path', 'say', 'way', 'bath')\n",
      "('hath', 'path', 'say', 'way', 'footpath')\n"
     ]
    }
   ],
   "source": [
    "print(lg.get_five_words('path'))\n",
    "print(lg.get_five_words_henry('path'))"
   ]
  },
  {
   "cell_type": "code",
   "execution_count": 25,
   "metadata": {},
   "outputs": [
    {
     "name": "stdout",
     "output_type": "stream",
     "text": [
      "('everything', 'spring', 'reason', 'season', 'ring')\n",
      "('pling', 'spring', 'reason', 'season', 'thing')\n"
     ]
    }
   ],
   "source": [
    "print(lg.get_five_words('spring'))\n",
    "print(lg.get_five_words_henry('spring'))"
   ]
  },
  {
   "cell_type": "code",
   "execution_count": 31,
   "metadata": {},
   "outputs": [
    {
     "name": "stdout",
     "output_type": "stream",
     "text": [
      "('dame', 'game', 'they', 'play', 'name')\n"
     ]
    },
    {
     "name": "stderr",
     "output_type": "stream",
     "text": [
      "D:\\0\\Github\\Poetix18\\py_files\\Limericks.py:196: RuntimeWarning: invalid value encountered in power\n",
      "  sim += self.poetic_vectors.similarity(word, other_word) ** 0.5\n",
      "D:\\0\\Github\\Poetix18\\py_files\\Limericks.py:296: RuntimeWarning: invalid value encountered in power\n",
      "  sim = self.poetic_vectors.similarity(w2, r) ** 0.5\n",
      "D:\\0\\Github\\Poetix18\\py_files\\Limericks.py:297: RuntimeWarning: invalid value encountered in power\n",
      "  sim += self.poetic_vectors.similarity(w4, r) ** 0.5\n",
      "D:\\0\\Github\\Poetix18\\py_files\\Limericks.py:311: RuntimeWarning: invalid value encountered in power\n",
      "  sim = self.poetic_vectors.similarity(w2, r) ** 0.5 * 2\n",
      "D:\\0\\Github\\Poetix18\\py_files\\Limericks.py:312: RuntimeWarning: invalid value encountered in power\n",
      "  sim += self.poetic_vectors.similarity(w4, r) ** 0.5 * 1\n"
     ]
    },
    {
     "name": "stdout",
     "output_type": "stream",
     "text": [
      "('maim', 'game', 'way', 'play', 'came')\n"
     ]
    }
   ],
   "source": [
    "print(lg.get_five_words('game'))\n",
    "print(lg.get_five_words_henry('game'))"
   ]
  },
  {
   "cell_type": "code",
   "execution_count": 32,
   "metadata": {
    "scrolled": false
   },
   "outputs": [
    {
     "name": "stdout",
     "output_type": "stream",
     "text": [
      "['WHO', 'VBD', 'DT', 'JJ', 'NN', 'IN', 'PRP$', 'NN']\n",
      "INFO:tensorflow:Restoring parameters from py_files/models/all_combined_back\\model.ckpt-120000\n",
      "['WP$', 'NN', 'VBD', 'DT', 'NN', 'IN', 'NN']\n",
      "INFO:tensorflow:Restoring parameters from py_files/models/all_combined_back\\model.ckpt-120000\n",
      "['WHO', 'VBD', 'DT', 'PRP$', 'NN', 'IN', 'DT', 'NN']\n",
      "INFO:tensorflow:Restoring parameters from py_files/models/all_combined_back\\model.ckpt-120000\n",
      "['WHO', 'VBD', 'DT', 'NN', 'IN', 'NN']\n",
      "INFO:tensorflow:Restoring parameters from py_files/models/all_combined_back\\model.ckpt-120000\n",
      "['WP$', 'NN', 'VBD', 'RB', 'JJR', 'THAN', 'NN']\n",
      "INFO:tensorflow:Restoring parameters from py_files/models/all_combined_back\\model.ckpt-120000\n",
      "[(['who', 'hesitated', 'the', 'first', 'part', 'of', 'her', 'game'], -4.20305871963501, ['WHO', 'VBD', 'DT', 'JJ', 'NN', 'IN', 'PRP$', 'NN'], ['who', 'had', 'a', 'large', 'wart', 'on', 'her', 'nose']), (['who', 'fascinated', 'all', 'his', 'look', 'at', 'some', 'game'], -4.708104133605957, ['WHO', 'VBD', 'DT', 'PRP$', 'NN', 'IN', 'DT', 'NN'], ['who', 'kept', 'all', 'his', 'cash', 'in', 'a', 'bucket']), (['whose', 'personality', 'was', 'not', 'more', 'than', 'game'], -4.719402313232422, ['WP$', 'NN', 'VBD', 'RB', 'JJR', 'THAN', 'NN'], ['whose', 'speed', 'was', 'much', 'faster', 'than', 'light']), (['who', 'deteriorated', 'the', 'way', 'out', 'game'], -4.988438606262207, ['WHO', 'VBD', 'DT', 'NN', 'IN', 'NN'], ['who', 'hadnt', 'an', 'atom', 'of', 'fear']), (['whose', 'life', 'eliminated', 'the', 'way', 'out', 'game'], -5.094135829380581, ['WP$', 'NN', 'VBD', 'DT', 'NN', 'IN', 'NN'], ['whose', 'pa', 'made', 'a', 'fortune', 'in', 'pork'])]\n",
      "['RB', 'DT', 'JJ', 'NN', 'VBD', 'PRP']\n",
      "INFO:tensorflow:Restoring parameters from py_files/models/all_combined_back\\model.ckpt-120000\n",
      "[(['only', 'the', 'whole', 'thing', 'was', 'they'], -3.443039894104004, ['RB', 'DT', 'JJ', 'NN', 'VBD', 'PRP'], ['soon', 'a', 'happy', 'thought', 'hit', 'her'])]\n",
      "['DT', 'VBN', 'TO', 'DT', 'NN']\n",
      "INFO:tensorflow:Restoring parameters from py_files/models/all_combined_back\\model.ckpt-120000\n",
      "['PRP', 'VBD', 'DT', 'NN']\n",
      "INFO:tensorflow:Restoring parameters from py_files/models/all_combined_back\\model.ckpt-120000\n",
      "['PRP', 'POS', 'DT', 'NN', 'IN', 'NN']\n",
      "INFO:tensorflow:Restoring parameters from py_files/models/all_combined_back\\model.ckpt-120000\n",
      "['CC', 'IN', 'PRP$', 'NN']\n",
      "INFO:tensorflow:Restoring parameters from py_files/models/all_combined_back\\model.ckpt-120000\n",
      "['VBZ', 'DT', 'JJ', 'NN', 'POS', 'NN']\n",
      "INFO:tensorflow:Restoring parameters from py_files/models/all_combined_back\\model.ckpt-120000\n",
      "[(['that', 'come', 'to', 'another', 'play'], -4.002622985839844, ['DT', 'VBN', 'TO', 'DT', 'NN'], ['all', 'exposed', 'to', 'the', 'breeze']), (['i', 'hesitated', 'all', 'play'], -4.113086223602295, ['PRP', 'VBD', 'DT', 'NN'], ['he', 'inserted', 'some', 'mice']), (['and', 'addition', 'ours', 'play'], -5.885270118713379, ['CC', 'IN', 'PRP$', 'NN'], ['and', 'in', 'his', 'lapel'])]\n",
      "['WDT', 'VBZ', 'PRP', 'IN', 'RB', 'JJ', 'NN']\n",
      "INFO:tensorflow:Restoring parameters from py_files/models/all_combined_back\\model.ckpt-120000\n",
      "['WDT', 'VBD', 'JJ', 'NN', 'IN', 'NN']\n",
      "INFO:tensorflow:Restoring parameters from py_files/models/all_combined_back\\model.ckpt-120000\n",
      "['WHEN', 'PRP', 'VBP', 'PRP', ',', 'PRP', 'VBP', 'VBN', 'RB', 'NN']\n",
      "INFO:tensorflow:Restoring parameters from py_files/models/all_combined_back\\model.ckpt-120000\n",
      "['PRP', 'RB', 'VBD', 'DT', 'NN']\n",
      "INFO:tensorflow:Restoring parameters from py_files/models/all_combined_back\\model.ckpt-120000\n",
      "['CC', 'PRP', 'VBZ', 'DT', 'NN', 'IN', 'DT', 'NN']\n",
      "INFO:tensorflow:Restoring parameters from py_files/models/all_combined_back\\model.ckpt-120000\n",
      "[(['and', 'it', 'is', 'the', 'reality', 'of', 'all', 'name'], -3.0360076427459717, ['CC', 'PRP', 'VBZ', 'DT', 'NN', 'IN', 'DT', 'NN'], ['and', 'that', 'is', 'the', 'cause', 'of', 'this', 'sonnet']), (['when', 'you', 'understand', 'me', ',', 'i', 'am', 'come', 'close', 'name'], -3.1270063400268553, ['WHEN', 'PRP', 'VBP', 'PRP', ',', 'PRP', 'VBP', 'VBN', 'RB', 'NN'], ['when', 'I', 'wear', 'it', ',', 'I', 'am', 'called', 'only', 'vermin']), (['which', 'is', 'it', 'as', 'not', 'intolerable', 'name'], -4.17210578918457, ['WDT', 'VBZ', 'PRP', 'IN', 'RB', 'JJ', 'NN'], ['which', 'leaves', 'him', 'in', 'very', 'bad', 'shape']), (['i', 'conspiratorially', 'saw', 'that', 'name'], -5.430389022827148, ['PRP', 'RB', 'VBD', 'DT', 'NN'], ['he', 'carelessly', 'stuck', 'a', 'verbena']), (['which', 'deteriorated', 'first', 'look', 'on', 'name'], -6.1767832438151045, ['WDT', 'VBD', 'JJ', 'NN', 'IN', 'NN'], ['which', 'refreshed', 'that', 'person', 'of', 'ewell'])]\n",
      "************\n",
      "there once was a young woman whose name was ame\n",
      "who hesitated the first part of her game\n",
      "only the whole thing was they\n",
      "that come to another play\n",
      "and it is the reality of all name\n",
      "\n",
      "['WHO', 'VBD', 'DT', 'JJ', 'NN', 'DT', 'NN']\n",
      "INFO:tensorflow:Restoring parameters from py_files/models/all_combined_back\\model.ckpt-120000\n",
      "['WHO', 'VBD', 'DT', 'JJ', 'NN', 'IN', 'PRP$', 'NN']\n",
      "INFO:tensorflow:Restoring parameters from py_files/models/all_combined_back\\model.ckpt-120000\n",
      "['WHO', 'VBD', 'PRP', 'RB', 'IN', 'DT', 'NN']\n",
      "INFO:tensorflow:Restoring parameters from py_files/models/all_combined_back\\model.ckpt-120000\n",
      "['WHO', 'VBD', 'IN', 'DT', 'NN', 'IN', 'NNS']\n",
      "INFO:tensorflow:Restoring parameters from py_files/models/all_combined_back\\model.ckpt-120000\n",
      "['WP$', 'NN', 'VBD', 'DT', 'NN', 'IN', 'NN']\n",
      "INFO:tensorflow:Restoring parameters from py_files/models/all_combined_back\\model.ckpt-120000\n",
      "[(['who', 'came', 'to', 'the', 'conservatory', 'out', 'game'], -4.073335102626255, ['WHO', 'VBD', 'IN', 'DT', 'NN', 'IN', 'NNS'], ['who', 'slipped', 'on', 'a', 'peel', 'of', 'bananas']), (['who', 'hesitated', 'the', 'first', 'part', 'of', 'her', 'game'], -4.20305871963501, ['WHO', 'VBD', 'DT', 'JJ', 'NN', 'IN', 'PRP$', 'NN'], ['who', 'had', 'a', 'large', 'wart', 'on', 'her', 'nose']), (['who', 'had', 'a', 'psychological', 'place', 'all', 'game'], -4.339798791067941, ['WHO', 'VBD', 'DT', 'JJ', 'NN', 'DT', 'NN'], ['who', 'read', 'a', 'love', 'story', 'each', 'day']), (['who', 'gave', 'me', 'immediately', 'to', 'some', 'game'], -4.39716420854841, ['WHO', 'VBD', 'PRP', 'RB', 'IN', 'DT', 'NN'], ['who', 'found', 'himself', 'quite', 'at', 'a', 'loss']), (['whose', 'life', 'was', 'the', 'imagination', 'out', 'game'], -4.439111164637974, ['WP$', 'NN', 'VBD', 'DT', 'NN', 'IN', 'NN'], ['whose', 'pa', 'made', 'a', 'fortune', 'in', 'pork'])]\n",
      "['PRP', 'VBP', 'DT', 'NN', 'NN']\n",
      "INFO:tensorflow:Restoring parameters from py_files/models/all_combined_back\\model.ckpt-120000\n",
      "['WHEN', 'DT', 'NN', 'VBZ', 'PRP$', 'NN']\n",
      "INFO:tensorflow:Restoring parameters from py_files/models/all_combined_back\\model.ckpt-120000\n",
      "['PRP', 'VBD', 'DT', 'NN']\n",
      "INFO:tensorflow:Restoring parameters from py_files/models/all_combined_back\\model.ckpt-120000\n",
      "['VBD', 'DT', 'CD', 'TO', 'DT', 'NN']\n",
      "INFO:tensorflow:Restoring parameters from py_files/models/all_combined_back\\model.ckpt-120000\n",
      "['EX', 'VBZ', 'NN', 'IN', 'DT', 'NN']\n",
      "INFO:tensorflow:Restoring parameters from py_files/models/all_combined_back\\model.ckpt-120000\n",
      "[(['i', 'have', 'no', 'expression', 'way'], -2.75305118560791, ['PRP', 'VBP', 'DT', 'NN', 'NN'], ['you', 'are', 'a', 'simpleton', 'loon']), (['there', 'is', 'something', 'of', 'all', 'way'], -3.175832748413086, ['EX', 'VBZ', 'NN', 'IN', 'DT', 'NN'], ['there', 'was', 'nothing', 'like', 'a', 'food']), (['when', 'the', 'word', 'reminds', 'her', 'way'], -4.118831952412923, ['WHEN', 'DT', 'NN', 'VBZ', 'PRP$', 'NN'], ['when', 'a', 'girl', 'wears', 'my', 'coat']), (['i', 'hesitated', 'all', 'way'], -4.159818649291992, ['PRP', 'VBD', 'DT', 'NN'], ['he', 'indulged', 'a', 'desire']), (['were', 'the', 'thousand', 'to', 'all', 'way'], -4.879453976949056, ['VBD', 'DT', 'CD', 'TO', 'DT', 'NN'], ['said', 'the', 'two', 'to', 'the', 'tutor'])]\n",
      "['CC', 'VB', 'RB', 'AS', 'NN']\n",
      "INFO:tensorflow:Restoring parameters from py_files/models/all_combined_back\\model.ckpt-120000\n",
      "['IN', 'DT', 'NN']\n",
      "INFO:tensorflow:Restoring parameters from py_files/models/all_combined_back\\model.ckpt-120000\n",
      "['WP', 'DT', 'JJ', 'NN']\n",
      "INFO:tensorflow:Restoring parameters from py_files/models/all_combined_back\\model.ckpt-120000\n"
     ]
    },
    {
     "name": "stdout",
     "output_type": "stream",
     "text": [
      "['IN', 'DT', 'NN', 'CC', 'VBD', 'IN']\n",
      "INFO:tensorflow:Restoring parameters from py_files/models/all_combined_back\\model.ckpt-120000\n",
      "['SO', 'JJ', 'VBD', 'PRP$', 'NN']\n",
      "INFO:tensorflow:Restoring parameters from py_files/models/all_combined_back\\model.ckpt-120000\n",
      "[(['of', 'any', 'life', 'or', 'thought', 'play'], -3.58531920115153, ['IN', 'DT', 'NN', 'CC', 'VBD', 'IN'], ['with', 'a', 'yell', 'and', 'eloped', 'with']), (['and', 'come', 'together', 'as', 'play'], -3.7545085906982423, ['CC', 'VB', 'RB', 'AS', 'NN'], ['and', 'eat', 'just', 'as', 'hearty']), (['so', 'beautiful', 'was', 'mine', 'play'], -4.403765106201172, ['SO', 'JJ', 'VBD', 'PRP$', 'NN'], ['so', 'short', 'was', 'his', 'fin']), (['addition', 'another', 'play'], -6.840391159057617, ['IN', 'DT', 'NN'], ['without', 'any', 'nightie'])]\n",
      "['AS', 'IF', 'PRP', 'MD', 'VBN', 'JJ']\n",
      "INFO:tensorflow:Restoring parameters from py_files/models/all_combined_back\\model.ckpt-120000\n",
      "['CC', 'VBD', 'DT', 'JJ']\n",
      "INFO:tensorflow:Restoring parameters from py_files/models/all_combined_back\\model.ckpt-120000\n",
      "['VB', 'IN', 'JJ', 'VB', 'JJ', 'JJ']\n",
      "INFO:tensorflow:Restoring parameters from py_files/models/all_combined_back\\model.ckpt-120000\n",
      "['DT', 'JJ', 'NN']\n",
      "['IN', 'PRP', 'MD', 'RB', 'VB', 'RP']\n",
      "INFO:tensorflow:Restoring parameters from py_files/models/all_combined_back\\model.ckpt-120000\n",
      "[(['if', 'i', 'can', 'instantaneously', 'look', 'same'], -4.455282847086589, ['IN', 'PRP', 'MD', 'RB', 'VB', 'RP'], ['that', 'he', 'could', \"n't\", 'reach', 'up']), (['as', 'if', 'himself', 'would', 'accumulated', 'same'], -5.268693606058757, ['AS', 'IF', 'PRP', 'MD', 'VBN', 'JJ'], ['as', 'if', 'he', \"'d\", 'been', 'invited']), (['think', 'of', 'such', 'incomprehensible', 'kind', 'same'], -5.338955561319987, ['VB', 'IN', 'JJ', 'VB', 'JJ', 'JJ'], ['be', 'before', 'phoebe', 'be', 'phoebe', 'bee-bee']), (['and', 'deteriorated', 'another', 'same'], -6.283439636230469, ['CC', 'VBD', 'DT', 'JJ'], ['and', 'shocked', 'the', 'ultra-fastidious'])]\n",
      "************\n",
      "there once was a young woman whose name was mame\n",
      "who came to the conservatory out game\n",
      "i have no expression way\n",
      "of any life or thought play\n",
      "if i can instantaneously look same\n",
      "\n"
     ]
    },
    {
     "data": {
      "text/plain": [
       "[[['there',\n",
       "   'once',\n",
       "   'was',\n",
       "   'a',\n",
       "   'young',\n",
       "   'woman',\n",
       "   'whose',\n",
       "   'name',\n",
       "   'was',\n",
       "   'mame']],\n",
       " (['who', 'came', 'to', 'the', 'conservatory', 'out', 'game'],\n",
       "  -4.073335102626255,\n",
       "  ['WHO', 'VBD', 'IN', 'DT', 'NN', 'IN', 'NNS'],\n",
       "  ['who', 'slipped', 'on', 'a', 'peel', 'of', 'bananas']),\n",
       " (['i', 'have', 'no', 'expression', 'way'],\n",
       "  -2.75305118560791,\n",
       "  ['PRP', 'VBP', 'DT', 'NN', 'NN'],\n",
       "  ['you', 'are', 'a', 'simpleton', 'loon']),\n",
       " (['of', 'any', 'life', 'or', 'thought', 'play'],\n",
       "  -3.58531920115153,\n",
       "  ['IN', 'DT', 'NN', 'CC', 'VBD', 'IN'],\n",
       "  ['with', 'a', 'yell', 'and', 'eloped', 'with']),\n",
       " (['if', 'i', 'can', 'instantaneously', 'look', 'same'],\n",
       "  -4.455282847086589,\n",
       "  ['IN', 'PRP', 'MD', 'RB', 'VB', 'RP'],\n",
       "  ['that', 'he', 'could', \"n't\", 'reach', 'up'])]"
      ]
     },
     "execution_count": 32,
     "metadata": {},
     "output_type": "execute_result"
    }
   ],
   "source": [
    "lg.gen_poem_independent_matias('game', 11)\n",
    "lg.gen_poem_independent_matias('game', 11, storyline=1)"
   ]
  },
  {
   "cell_type": "code",
   "execution_count": 33,
   "metadata": {},
   "outputs": [
    {
     "name": "stdout",
     "output_type": "stream",
     "text": [
      "('diem', 'dream', 'kind', 'mind', 'beam')\n",
      "('scream', 'dream', 'pope', 'hope', 'theme')\n"
     ]
    }
   ],
   "source": [
    "print(lg.get_five_words('dream'))\n",
    "print(lg.get_five_words_henry('dream'))"
   ]
  },
  {
   "cell_type": "code",
   "execution_count": 38,
   "metadata": {},
   "outputs": [
    {
     "name": "stdout",
     "output_type": "stream",
     "text": [
      "('remake', 'cake', 'staked', 'baked', 'awake')\n",
      "('flake', 'cake', 'raked', 'baked', 'steak')\n"
     ]
    }
   ],
   "source": [
    "print(lg.get_five_words('cake'))\n",
    "print(lg.get_five_words_henry('cake'))"
   ]
  },
  {
   "cell_type": "code",
   "execution_count": 39,
   "metadata": {},
   "outputs": [
    {
     "name": "stdout",
     "output_type": "stream",
     "text": [
      "('smite', 'night', 'stark', 'dark', 'light')\n",
      "('wight', 'night', 'overnight', 'midnight', 'light')\n"
     ]
    }
   ],
   "source": [
    "print(lg.get_five_words('night'))\n",
    "print(lg.get_five_words_henry('night'))"
   ]
  },
  {
   "cell_type": "code",
   "execution_count": 45,
   "metadata": {},
   "outputs": [
    {
     "name": "stdout",
     "output_type": "stream",
     "text": [
      "('meadow', 'snow', 'they', 'away', 'go')\n",
      "('potato', 'snow', 'rice', 'ice', 'below')\n"
     ]
    }
   ],
   "source": [
    "print(lg.get_five_words('snow'))\n",
    "print(lg.get_five_words_henry('snow'))"
   ]
  },
  {
   "cell_type": "code",
   "execution_count": 48,
   "metadata": {},
   "outputs": [
    {
     "name": "stdout",
     "output_type": "stream",
     "text": [
      "('sabine', 'machine', 'return', 'turn', 'mean')\n",
      "('demean', 'machine', 'scenery', 'machinery', 'screen')\n"
     ]
    }
   ],
   "source": [
    "print(lg.get_five_words('machine'))\n",
    "print(lg.get_five_words_henry('machine'))"
   ]
  },
  {
   "cell_type": "code",
   "execution_count": 53,
   "metadata": {},
   "outputs": [
    {
     "name": "stdout",
     "output_type": "stream",
     "text": [
      "('severe', 'tear', 'start', 'apart', 'bear')\n",
      "('beer', 'tear', 'start', 'apart', 'there')\n"
     ]
    }
   ],
   "source": [
    "print(lg.get_five_words('tear'))\n",
    "print(lg.get_five_words_henry('tear'))"
   ]
  },
  {
   "cell_type": "code",
   "execution_count": 54,
   "metadata": {},
   "outputs": [
    {
     "name": "stdout",
     "output_type": "stream",
     "text": [
      "('marguerite', 'street', 'unlike', 'like', 'beat')\n",
      "('heartbeat', 'street', 'blocks', 'sidewalks', 'concrete')\n"
     ]
    }
   ],
   "source": [
    "print(lg.get_five_words('street'))\n",
    "print(lg.get_five_words_henry('street'))"
   ]
  },
  {
   "cell_type": "code",
   "execution_count": null,
   "metadata": {},
   "outputs": [],
   "source": [
    "********************************************\n",
    "--------------------------------------------\n",
    "********************************************"
   ]
  },
  {
   "cell_type": "code",
   "execution_count": null,
   "metadata": {},
   "outputs": [],
   "source": []
  },
  {
   "cell_type": "code",
   "execution_count": null,
   "metadata": {},
   "outputs": [
    {
     "name": "stdout",
     "output_type": "stream",
     "text": [
      "five words are: \n",
      "('doth', 'broth', 'scoop', 'soup', 'moth')\n",
      "['WHO', 'VBD', 'RP', 'PRP$', 'NNS', 'IN', 'DT', 'NN']\n",
      "INFO:tensorflow:Restoring parameters from py_files/models/all_combined_back\\model.ckpt-120000\n",
      "['WHO', 'VBD', 'JJ', 'NN', 'IN', 'NN']\n",
      "INFO:tensorflow:Restoring parameters from py_files/models/all_combined_back\\model.ckpt-120000\n",
      "['WHO', 'VBD', 'DT', 'JJ', 'NN', 'DT', 'NN']\n",
      "INFO:tensorflow:Restoring parameters from py_files/models/all_combined_back\\model.ckpt-120000\n",
      "['WHO', 'VBD', 'AS', 'PRP', 'VBD', 'IN', 'DT', 'NN']\n",
      "INFO:tensorflow:Restoring parameters from py_files/models/all_combined_back\\model.ckpt-120000\n",
      "['WP$', 'NN', 'VBD', 'RB', 'JJR', 'THAN', 'NN']\n",
      "INFO:tensorflow:Restoring parameters from py_files/models/all_combined_back\\model.ckpt-120000\n",
      "No templates for POS\n",
      "five words are: \n",
      "('transformation', 'probation', 'lenders', 'offenders', 'communication')\n",
      "['WHO', 'VBD', 'AS', 'PRP', 'VBD', 'IN', 'DT', 'NN']\n",
      "INFO:tensorflow:Restoring parameters from py_files/models/all_combined_back\\model.ckpt-120000\n",
      "['WHO', 'VBD', 'PRP', 'RB', 'IN', 'DT', 'NN']\n",
      "INFO:tensorflow:Restoring parameters from py_files/models/all_combined_back\\model.ckpt-120000\n",
      "['WHO', 'VBD', 'IN', 'JJ', 'NN']\n",
      "INFO:tensorflow:Restoring parameters from py_files/models/all_combined_back\\model.ckpt-120000\n",
      "['WHO', 'VBD', 'DT', 'JJ', 'NN', 'DT', 'NN']\n",
      "INFO:tensorflow:Restoring parameters from py_files/models/all_combined_back\\model.ckpt-120000\n",
      "['WP$', 'NN', 'VBD', 'DT', 'NN', 'IN', 'NN']\n",
      "INFO:tensorflow:Restoring parameters from py_files/models/all_combined_back\\model.ckpt-120000\n",
      "['IN', 'PRP$', 'NN', ',', 'PRP$', 'NNS']\n",
      "INFO:tensorflow:Restoring parameters from py_files/models/all_combined_back\\model.ckpt-120000\n",
      "['PRP', 'VBD', ',', 'RB', 'VBD']\n",
      "INFO:tensorflow:Restoring parameters from py_files/models/all_combined_back\\model.ckpt-120000\n",
      "['IN', 'PRP$', 'NNS', 'IN', 'DT', 'NNS']\n",
      "INFO:tensorflow:Restoring parameters from py_files/models/all_combined_back\\model.ckpt-120000\n",
      "['RB', 'VBD', 'IN', 'DT', 'NN', 'IN', 'NN']\n",
      "INFO:tensorflow:Restoring parameters from py_files/models/all_combined_back\\model.ckpt-120000\n",
      "INFO:tensorflow:Restoring parameters from py_files/models/all_combined_back\\model.ckpt-120000\n",
      "['VBG', 'DT', 'NNS', 'CC', 'NNS']\n",
      "INFO:tensorflow:Restoring parameters from py_files/models/all_combined_back\\model.ckpt-120000\n",
      "['JJ', 'NN', 'IN', 'NN']\n",
      "INFO:tensorflow:Restoring parameters from py_files/models/all_combined_back\\model.ckpt-120000\n",
      "INFO:tensorflow:Restoring parameters from py_files/models/all_combined_back\\model.ckpt-120000\n",
      "['CC', 'VBD', 'NNS', 'IN', 'NNS']\n",
      "INFO:tensorflow:Restoring parameters from py_files/models/all_combined_back\\model.ckpt-120000\n",
      "['IN', 'DT', 'NN', 'VBZ', 'VBN', 'RP', 'PRP$', 'NN']\n",
      "five words are: \n",
      "('athwart', 'passport', 'resistance', 'assistance', 'support')\n",
      "['WHO', 'VBD', 'DT', 'NN', 'IN', 'NN']\n",
      "INFO:tensorflow:Restoring parameters from py_files/models/all_combined_back\\model.ckpt-120000\n",
      "['WHO', 'VBD', 'IN', 'CD', 'IN', 'PRP$', 'NNS']\n",
      "INFO:tensorflow:Restoring parameters from py_files/models/all_combined_back\\model.ckpt-120000\n",
      "['WHO', 'VBD', 'JJ', 'NN', 'IN', 'NN']\n",
      "INFO:tensorflow:Restoring parameters from py_files/models/all_combined_back\\model.ckpt-120000\n",
      "['WHO', 'VBD', 'IN', 'JJ', 'NN']\n",
      "INFO:tensorflow:Restoring parameters from py_files/models/all_combined_back\\model.ckpt-120000\n",
      "['WP$', 'NN', 'VBD', 'DT', 'NN', 'IN', 'NN']\n",
      "INFO:tensorflow:Restoring parameters from py_files/models/all_combined_back\\model.ckpt-120000\n",
      "['CC', 'IN', 'PRP$', 'NN']\n",
      "INFO:tensorflow:Restoring parameters from py_files/models/all_combined_back\\model.ckpt-120000\n",
      "['DT', 'NN', 'IN', 'DT', 'NN']\n",
      "INFO:tensorflow:Restoring parameters from py_files/models/all_combined_back\\model.ckpt-120000\n",
      "['PRP', 'VBD', 'RP', 'CD', 'NN']\n",
      "INFO:tensorflow:Restoring parameters from py_files/models/all_combined_back\\model.ckpt-120000\n",
      "['VBD', 'DT', 'NN', 'IN', 'DT', 'NN']\n",
      "INFO:tensorflow:Restoring parameters from py_files/models/all_combined_back\\model.ckpt-120000\n",
      "['PRP', 'VBD', ',', 'IN', 'DT', 'NN']\n",
      "INFO:tensorflow:Restoring parameters from py_files/models/all_combined_back\\model.ckpt-120000\n",
      "['IN', 'PRP$', 'NN', 'CC', 'NN', 'IN', 'DT', 'NN']\n",
      "INFO:tensorflow:Restoring parameters from py_files/models/all_combined_back\\model.ckpt-120000\n",
      "INFO:tensorflow:Restoring parameters from py_files/models/all_combined_back\\model.ckpt-120000\n",
      "['IN', 'PRP$', 'NNS', 'CC', 'PRP$', 'NN']\n",
      "INFO:tensorflow:Restoring parameters from py_files/models/all_combined_back\\model.ckpt-120000\n",
      "['PRP$', 'NN', 'POS', 'JJ', 'NN']\n",
      "INFO:tensorflow:Restoring parameters from py_files/models/all_combined_back\\model.ckpt-120000\n",
      "five words are: \n",
      "('remake', 'stake', 'asleep', 'sleep', 'awake')\n",
      "['WHO', 'VBD', 'IN', 'DT', 'NN', 'IN', 'NNS']\n",
      "INFO:tensorflow:Restoring parameters from py_files/models/all_combined_back\\model.ckpt-120000\n",
      "['WP$', 'NN', 'VBD', 'RB', 'JJR', 'THAN', 'NN']\n",
      "INFO:tensorflow:Restoring parameters from py_files/models/all_combined_back\\model.ckpt-120000\n",
      "['WHO', 'VBD', 'IN', 'CD', 'IN', 'PRP$', 'NNS']\n",
      "INFO:tensorflow:Restoring parameters from py_files/models/all_combined_back\\model.ckpt-120000\n",
      "['WHO', 'VBD', 'IN', 'JJ', 'NN']\n",
      "INFO:tensorflow:Restoring parameters from py_files/models/all_combined_back\\model.ckpt-120000\n",
      "['WP$', 'NN', 'VBD', 'DT', 'NN', 'IN', 'NN']\n",
      "INFO:tensorflow:Restoring parameters from py_files/models/all_combined_back\\model.ckpt-120000\n",
      "No templates for POS\n",
      "five words are: \n",
      "('heald', 'yield', 'devil', 'level', 'field')\n",
      "['WP$', 'NNS', 'RB', 'MD', 'VB']\n",
      "INFO:tensorflow:Restoring parameters from py_files/models/all_combined_back\\model.ckpt-120000\n",
      "['DT', 'NN', 'IN', 'DT', 'NN']\n",
      "INFO:tensorflow:Restoring parameters from py_files/models/all_combined_back\\model.ckpt-120000\n",
      "['IN', 'JJ', 'NN']\n",
      "INFO:tensorflow:Restoring parameters from py_files/models/all_combined_back\\model.ckpt-120000\n",
      "['PRP', 'VBD', ',', 'IN', 'DT', 'NN']\n",
      "INFO:tensorflow:Restoring parameters from py_files/models/all_combined_back\\model.ckpt-120000\n",
      "['PRP', 'VBD', 'RB', 'IN', 'DT', 'NN']\n",
      "INFO:tensorflow:Restoring parameters from py_files/models/all_combined_back\\model.ckpt-120000\n",
      "['VBD', 'PRP', 'IN', ',', 'WP', 'DT', 'NN']\n",
      "INFO:tensorflow:Restoring parameters from py_files/models/all_combined_back\\model.ckpt-120000\n",
      "['CC', 'AS', 'RB', 'AS', 'DT', 'NN']\n",
      "INFO:tensorflow:Restoring parameters from py_files/models/all_combined_back\\model.ckpt-120000\n",
      "INFO:tensorflow:Restoring parameters from py_files/models/all_combined_back\\model.ckpt-120000\n",
      "['VB', 'RP', 'IN', 'DT', 'NN']\n",
      "INFO:tensorflow:Restoring parameters from py_files/models/all_combined_back\\model.ckpt-120000\n",
      "['CC', 'VBD', 'IN', 'DT', 'JJ', 'NN']\n",
      "INFO:tensorflow:Restoring parameters from py_files/models/all_combined_back\\model.ckpt-120000\n",
      "INFO:tensorflow:Restoring parameters from py_files/models/all_combined_back\\model.ckpt-120000\n",
      "['VBD', 'CD', 'NNS', 'IN', 'NN']\n",
      "INFO:tensorflow:Restoring parameters from py_files/models/all_combined_back\\model.ckpt-120000\n",
      "['IN', 'JJ', 'NN', 'IN', 'NN']\n",
      "INFO:tensorflow:Restoring parameters from py_files/models/all_combined_back\\model.ckpt-120000\n",
      "INFO:tensorflow:Restoring parameters from py_files/models/all_combined_back\\model.ckpt-120000\n",
      "['DT', 'CD', 'VBD', 'PDT', 'DT', 'NN']\n",
      "INFO:tensorflow:Restoring parameters from py_files/models/all_combined_back\\model.ckpt-120000\n",
      "['WDT', 'VBZ', 'PRP', 'IN', 'RB', 'JJ', 'NN']\n",
      "INFO:tensorflow:Restoring parameters from py_files/models/all_combined_back\\model.ckpt-120000\n",
      "INFO:tensorflow:Restoring parameters from py_files/models/all_combined_back\\model.ckpt-120000\n",
      "['DT', 'VBN', 'TO', 'DT', 'NN']\n",
      "INFO:tensorflow:Restoring parameters from py_files/models/all_combined_back\\model.ckpt-120000\n",
      "[]\n",
      "five words are: \n",
      "('hale', 'flail', 'amplitude', 'magnitude', 'scale')\n",
      "five words are: \n",
      "('secession', 'transgression', 'latter', 'matter', 'question')\n",
      "['WHO', 'VBD', 'IN', 'JJ', 'NN']\n",
      "INFO:tensorflow:Restoring parameters from py_files/models/all_combined_back\\model.ckpt-120000\n",
      "['WHO', 'VBD', 'IN', 'DT', 'NN', 'IN', 'NNS']\n",
      "INFO:tensorflow:Restoring parameters from py_files/models/all_combined_back\\model.ckpt-120000\n",
      "['WHO', 'VBD', 'AS', 'PRP', 'VBD', 'IN', 'DT', 'NN']\n",
      "INFO:tensorflow:Restoring parameters from py_files/models/all_combined_back\\model.ckpt-120000\n"
     ]
    },
    {
     "name": "stdout",
     "output_type": "stream",
     "text": [
      "['WHO', 'VBD', 'DT', 'PRP$', 'NN', 'IN', 'DT', 'NN']\n",
      "INFO:tensorflow:Restoring parameters from py_files/models/all_combined_back\\model.ckpt-120000\n",
      "['WHO', 'VBD', 'JJ', 'NN', 'IN', 'NN']\n",
      "['PRP', 'VBZ', 'NN']\n",
      "INFO:tensorflow:Restoring parameters from py_files/models/all_combined_back\\model.ckpt-120000\n",
      "['DT', 'NN', 'VBD', ',', 'RB', 'JJ']\n",
      "['CC', 'JJ', ',', 'CC', 'JJ']\n",
      "INFO:tensorflow:Restoring parameters from py_files/models/all_combined_back\\model.ckpt-120000\n",
      "['PRP$', 'NNS', 'VBD', 'SO', 'JJ']\n",
      "INFO:tensorflow:Restoring parameters from py_files/models/all_combined_back\\model.ckpt-120000\n",
      "['CC', 'DT', 'CD', 'VBD', 'JJ']\n",
      "INFO:tensorflow:Restoring parameters from py_files/models/all_combined_back\\model.ckpt-120000\n",
      "['VBP', 'VBG', 'DT', 'NN', 'IN', 'PRP$', 'NN']\n"
     ]
    }
   ],
   "source": [
    "import random\n",
    "statement=True\n",
    "word=random.choice(lg.pos_to_words['NN'])\n",
    "while statement:\n",
    "    try:\n",
    "        poem=lg.gen_poem_conditioned(word, 11)\n",
    "        statement=False\n",
    "    except:\n",
    "        word=random.choice(lg.pos_to_words['NN'])"
   ]
  },
  {
   "cell_type": "markdown",
   "metadata": {},
   "source": [
    "## gen_poem_conditioned"
   ]
  },
  {
   "cell_type": "markdown",
   "metadata": {},
   "source": [
    "Generate 2nd, 3rd and 5th lines independently, then generate 1st conditioned on second and 4th conditioned on 5th."
   ]
  },
  {
   "cell_type": "markdown",
   "metadata": {},
   "source": [
    "#### mate"
   ]
  },
  {
   "cell_type": "code",
   "execution_count": 41,
   "metadata": {},
   "outputs": [
    {
     "name": "stderr",
     "output_type": "stream",
     "text": [
      "c:\\users\\hp\\anaconda2\\envs\\translator\\lib\\site-packages\\gensim\\matutils.py:737: FutureWarning: Conversion of the second argument of issubdtype from `int` to `np.signedinteger` is deprecated. In future, it will be treated as `np.int32 == np.dtype(int).type`.\n",
      "  if np.issubdtype(vec.dtype, np.int):\n"
     ]
    },
    {
     "name": "stdout",
     "output_type": "stream",
     "text": [
      "five words are: \n",
      "('alternate', 'mate', 'dream', 'team', 'state')\n",
      "['WHO', 'VBD', 'PRP', 'RB', 'IN', 'DT', 'NN']\n",
      "INFO:tensorflow:Restoring parameters from py_files/models/all_combined_back\\model.ckpt-120000\n",
      "['PRP', 'VBD', ',', 'IN', 'DT', 'NN']\n",
      "INFO:tensorflow:Restoring parameters from py_files/models/all_combined_back\\model.ckpt-120000\n",
      "['VBP', 'VBG', 'DT', 'NN', 'IN', 'PRP$', 'NN']\n",
      "INFO:tensorflow:Restoring parameters from py_files/models/all_combined_back\\model.ckpt-120000\n",
      "INFO:tensorflow:Restoring parameters from py_files/models/all_combined_back\\model.ckpt-120000\n",
      "INFO:tensorflow:Restoring parameters from py_files/models/all_combined_back\\model.ckpt-120000\n",
      "['IN', 'DT', 'JJ', 'NN', 'NN', 'VBP']\n",
      "INFO:tensorflow:Restoring parameters from py_files/models/all_combined_back\\model.ckpt-120000\n",
      "['CD', 'NNS', 'CC', 'DT', 'NN']\n",
      "INFO:tensorflow:Restoring parameters from py_files/models/all_combined_back\\model.ckpt-120000\n",
      "************\n",
      "of the whole thing everything alternate\n",
      "who fascinated me now as a mate\n",
      "i continued , with a dream\n",
      "undertone eyes and the team\n",
      "cant sing the fascination of her state\n",
      "\n"
     ]
    }
   ],
   "source": [
    "poem=lg.gen_poem_conditioned('mate', 10)"
   ]
  },
  {
   "cell_type": "code",
   "execution_count": null,
   "metadata": {},
   "outputs": [
    {
     "name": "stderr",
     "output_type": "stream",
     "text": [
      "c:\\users\\hp\\anaconda2\\envs\\translator\\lib\\site-packages\\gensim\\matutils.py:737: FutureWarning: Conversion of the second argument of issubdtype from `int` to `np.signedinteger` is deprecated. In future, it will be treated as `np.int32 == np.dtype(int).type`.\n",
      "  if np.issubdtype(vec.dtype, np.int):\n"
     ]
    },
    {
     "name": "stdout",
     "output_type": "stream",
     "text": [
      "five words are: \n",
      "('bonfire', 'fire', 'kettle', 'metal', 'wire')\n",
      "['WHO', 'VBD', 'RP', 'PRP$', 'NNS', 'IN', 'DT', 'NN']\n",
      "INFO:tensorflow:Restoring parameters from py_files/models/all_combined_back\\model.ckpt-120000\n",
      "['WHO', 'VBD', 'AS', 'PRP', 'VBD', 'IN', 'DT', 'NN']\n",
      "INFO:tensorflow:Restoring parameters from py_files/models/all_combined_back\\model.ckpt-120000\n",
      "['WHO', 'VBD', 'PRP', 'RB', 'IN', 'DT', 'NN']\n",
      "INFO:tensorflow:Restoring parameters from py_files/models/all_combined_back\\model.ckpt-120000\n",
      "['WHO', 'VBD', 'IN', 'JJ', 'NN']\n",
      "INFO:tensorflow:Restoring parameters from py_files/models/all_combined_back\\model.ckpt-120000\n",
      "['WHO', 'VBD', 'DT', 'JJ', 'NN', 'IN', 'PRP$', 'NN']\n",
      "INFO:tensorflow:Restoring parameters from py_files/models/all_combined_back\\model.ckpt-120000\n",
      "['THAN', 'DT', 'NN', 'IN', 'NN']\n",
      "INFO:tensorflow:Restoring parameters from py_files/models/all_combined_back\\model.ckpt-120000\n",
      "['CC', 'IN', 'PRP$', 'NN']\n",
      "INFO:tensorflow:Restoring parameters from py_files/models/all_combined_back\\model.ckpt-120000\n",
      "['PRP', 'VBP', 'DT', 'NN', 'NN']\n",
      "INFO:tensorflow:Restoring parameters from py_files/models/all_combined_back\\model.ckpt-120000\n",
      "['VBD', 'DT', 'CD', 'TO', 'DT', 'NN']\n",
      "INFO:tensorflow:Restoring parameters from py_files/models/all_combined_back\\model.ckpt-120000\n",
      "['PRP', 'VBD', 'IN', 'DT', 'NN']\n"
     ]
    }
   ],
   "source": [
    "poem2=lg.gen_poem_conditioned('fire', 10)"
   ]
  },
  {
   "cell_type": "code",
   "execution_count": 106,
   "metadata": {},
   "outputs": [
    {
     "data": {
      "text/plain": [
       "[(['been', 'one', 'perturbations', 'of', 'his', 'liar'],\n",
       "  -6.998078028361003,\n",
       "  ['VBN', 'CD', 'NNS', 'IN', 'PRP$', 'NN']),\n",
       " (['who', 'initiated', 'at', 'last', 'fire'],\n",
       "  -5.47464599609375,\n",
       "  ['WHO', 'VBD', 'IN', 'JJ', 'NN']),\n",
       " (['in', 'his', 'tremulous', 'kettle'],\n",
       "  -3.5174553394317627,\n",
       "  ['IN', 'PRP$', 'JJ', 'NN']),\n",
       " (['of', 'my', 'eyes', 'and', 'his', 'metal'],\n",
       "  -5.591676712036133,\n",
       "  ['IN', 'PRP$', 'NNS', 'CC', 'PRP$', 'NN']),\n",
       " (['of', 'my', 'body', 'and', 'look', 'at', 'some', 'wire'],\n",
       "  -3.539680242538452,\n",
       "  ['IN', 'PRP$', 'NN', 'CC', 'NN', 'IN', 'DT', 'NN'])]"
      ]
     },
     "execution_count": 106,
     "metadata": {},
     "output_type": "execute_result"
    }
   ],
   "source": [
    "poem2"
   ]
  },
  {
   "cell_type": "code",
   "execution_count": 103,
   "metadata": {},
   "outputs": [
    {
     "name": "stderr",
     "output_type": "stream",
     "text": [
      "c:\\users\\hp\\anaconda2\\envs\\translator\\lib\\site-packages\\gensim\\matutils.py:737: FutureWarning: Conversion of the second argument of issubdtype from `int` to `np.signedinteger` is deprecated. In future, it will be treated as `np.int32 == np.dtype(int).type`.\n",
      "  if np.issubdtype(vec.dtype, np.int):\n"
     ]
    },
    {
     "name": "stdout",
     "output_type": "stream",
     "text": [
      "five words are: \n",
      "('outright', 'height', 'indicate', 'weight', 'light')\n",
      "['WHO', 'VBD', 'DT', 'JJ', 'NN', 'DT', 'NN']\n",
      "INFO:tensorflow:Restoring parameters from py_files/models/all_combined_back\\model.ckpt-120000\n",
      "['PRP', 'VBD', 'CD', 'TO', 'NN']\n",
      "INFO:tensorflow:Restoring parameters from py_files/models/all_combined_back\\model.ckpt-120000\n",
      "['IN', 'PRP$', 'NN', 'CC', 'NN', 'IN', 'DT', 'NN']\n",
      "INFO:tensorflow:Restoring parameters from py_files/models/all_combined_back\\model.ckpt-120000\n",
      "INFO:tensorflow:Restoring parameters from py_files/models/all_combined_back\\model.ckpt-120000\n",
      "INFO:tensorflow:Restoring parameters from py_files/models/all_combined_back\\model.ckpt-120000\n",
      "['NN', 'IN', 'PRP', 'MD']\n",
      "INFO:tensorflow:Restoring parameters from py_files/models/all_combined_back\\model.ckpt-120000\n",
      "['IN', 'PRP$', 'NNS', 'CC', 'PRP$', 'NN']\n",
      "INFO:tensorflow:Restoring parameters from py_files/models/all_combined_back\\model.ckpt-120000\n",
      "************\n",
      "individuality as we outright\n",
      "who initiated the light round each height\n",
      "i was favour to indicate\n",
      "in my eyes behemoth your weight\n",
      "of my philosophy and look in some light\n",
      "\n"
     ]
    }
   ],
   "source": [
    "poem3=lg.gen_poem_conditioned('height', 11)"
   ]
  },
  {
   "cell_type": "markdown",
   "metadata": {},
   "source": [
    "## Best line"
   ]
  },
  {
   "cell_type": "code",
   "execution_count": 120,
   "metadata": {},
   "outputs": [
    {
     "name": "stdout",
     "output_type": "stream",
     "text": [
      "['WHO', 'IN', 'NNS', 'VBD', 'JJ', 'NN', 'IN', 'NN']\n",
      "INFO:tensorflow:Restoring parameters from py_files/models/all_combined_back\\model.ckpt-120000\n",
      "['WHO', 'VBD', 'IN', 'CD', 'IN', 'PRP$', 'NNS']\n",
      "INFO:tensorflow:Restoring parameters from py_files/models/all_combined_back\\model.ckpt-120000\n",
      "['WHO', 'VBD', 'DT', 'JJ', 'NN', 'DT', 'NN']\n",
      "INFO:tensorflow:Restoring parameters from py_files/models/all_combined_back\\model.ckpt-120000\n",
      "['WHO', 'VBD', 'RP', 'PRP$', 'NNS', 'IN', 'DT', 'NN']\n",
      "INFO:tensorflow:Restoring parameters from py_files/models/all_combined_back\\model.ckpt-120000\n",
      "['WHO', 'VBD', 'DT', 'NN', 'IN', 'NN']\n",
      "INFO:tensorflow:Restoring parameters from py_files/models/all_combined_back\\model.ckpt-120000\n",
      "['WHO', 'VBD', 'PRP', 'RB', 'IN', 'DT', 'NN']\n",
      "INFO:tensorflow:Restoring parameters from py_files/models/all_combined_back\\model.ckpt-120000\n",
      "['WHO', 'VBD', 'IN', 'JJ', 'NN']\n",
      "INFO:tensorflow:Restoring parameters from py_files/models/all_combined_back\\model.ckpt-120000\n",
      "['WP$', 'NN', 'VBD', 'DT', 'NN', 'IN', 'NN']\n",
      "INFO:tensorflow:Restoring parameters from py_files/models/all_combined_back\\model.ckpt-120000\n"
     ]
    }
   ],
   "source": [
    "from py_files.templates import get_templates\n",
    "dataset, second_line, third_line, last_two=get_templates()\n",
    "p=lg.gen_best_line('sky', set_of_templates=second_line, rand_templates=5)"
   ]
  },
  {
   "cell_type": "code",
   "execution_count": 121,
   "metadata": {},
   "outputs": [
    {
     "data": {
      "text/plain": [
       "[(['who', 'was', 'a', 'solitary', 'round', 'the', 'sky'],\n",
       "  -3.8050354548863004,\n",
       "  ['WHO', 'VBD', 'DT', 'JJ', 'NN', 'DT', 'NN'],\n",
       "  ['who', 'read', 'a', 'love', 'story', 'each', 'day']),\n",
       " (['who', 'fascinated', 'me', 'there', 'in', 'the', 'sky'],\n",
       "  -3.8535614013671875,\n",
       "  ['WHO', 'VBD', 'PRP', 'RB', 'IN', 'DT', 'NN'],\n",
       "  ['who', 'found', 'himself', 'quite', 'at', 'a', 'loss']),\n",
       " (['who', 'repeated', 'on', 'my', 'feet', 'in', 'the', 'sky'],\n",
       "  -4.04962682723999,\n",
       "  ['WHO', 'VBD', 'RP', 'PRP$', 'NNS', 'IN', 'DT', 'NN'],\n",
       "  ['who', 'sent', 'out', 'his', 'cards', 'for', 'a', 'party']),\n",
       " (['whose', 'life', 'was', 'the', 'reality', 'on', 'sky'],\n",
       "  -4.351373400006976,\n",
       "  ['WP$', 'NN', 'VBD', 'DT', 'NN', 'IN', 'NN'],\n",
       "  ['whose', 'pa', 'made', 'a', 'fortune', 'in', 'pork']),\n",
       " (['who', 'hesitated', 'in', 'one', 'of', 'my', 'sky'],\n",
       "  -4.458645139421735,\n",
       "  ['WHO', 'VBD', 'IN', 'CD', 'IN', 'PRP$', 'NNS'],\n",
       "  ['who', 'married', 'on', 'one', 'of', 'his', 'trips']),\n",
       " (['who', 'investigated', 'the', 'way', 'on', 'sky'],\n",
       "  -5.081632296244304,\n",
       "  ['WHO', 'VBD', 'DT', 'NN', 'IN', 'NN'],\n",
       "  ['who', 'hadnt', 'an', 'atom', 'of', 'fear']),\n",
       " (['who', 'at', 'years', 'deserted', 'last', 'night', 'on', 'sky'],\n",
       "  -5.279506206512451,\n",
       "  ['WHO', 'IN', 'NNS', 'VBD', 'JJ', 'NN', 'IN', 'NN'],\n",
       "  ['who', 'on', 'apples', 'was', 'quite', 'fond', 'of', 'feedin']),\n",
       " (['who', 'deteriorated', 'in', 'large', 'sky'],\n",
       "  -5.725870132446289,\n",
       "  ['WHO', 'VBD', 'IN', 'JJ', 'NN'],\n",
       "  ['who', 'lived', 'on', 'distilled', 'kerosene'])]"
      ]
     },
     "execution_count": 121,
     "metadata": {},
     "output_type": "execute_result"
    }
   ],
   "source": [
    "p"
   ]
  },
  {
   "cell_type": "code",
   "execution_count": 146,
   "metadata": {},
   "outputs": [
    {
     "name": "stdout",
     "output_type": "stream",
     "text": [
      "['VBD', 'DT', 'NN', 'IN', 'DT', 'NN']\n",
      "INFO:tensorflow:Restoring parameters from py_files/models/all_combined_back\\model.ckpt-120000\n",
      "['VBD', 'DT', 'CD', 'TO', 'DT', 'NN']\n",
      "INFO:tensorflow:Restoring parameters from py_files/models/all_combined_back\\model.ckpt-120000\n",
      "['MD', 'RB', 'VB', 'RP', 'TO', 'NN']\n",
      "INFO:tensorflow:Restoring parameters from py_files/models/all_combined_back\\model.ckpt-120000\n",
      "['PRP', 'MD', 'VB', 'TO', 'DT', 'NN']\n",
      "INFO:tensorflow:Restoring parameters from py_files/models/all_combined_back\\model.ckpt-120000\n",
      "['PRP', 'VBD', 'IN', 'DT', 'NN']\n",
      "INFO:tensorflow:Restoring parameters from py_files/models/all_combined_back\\model.ckpt-120000\n"
     ]
    }
   ],
   "source": [
    "p=lg.gen_best_line('height', set_of_templates=third_line, rand_templates=5, num_sylls=8)"
   ]
  },
  {
   "cell_type": "code",
   "execution_count": 147,
   "metadata": {},
   "outputs": [
    {
     "data": {
      "text/plain": [
       "[(['i', 'hesitated', 'with', 'some', 'height'],\n",
       "  -3.943877410888672,\n",
       "  ['PRP', 'VBD', 'IN', 'DT', 'NN'],\n",
       "  ['it', 'said', 'on', 'the', 'door']),\n",
       " (['was', 'no', 'one', 'to', 'every', 'height'],\n",
       "  -4.294746081034343,\n",
       "  ['VBD', 'DT', 'CD', 'TO', 'DT', 'NN'],\n",
       "  ['said', 'the', 'two', 'to', 'the', 'tutor']),\n",
       " (['will', 'probably', 'come', 'back', 'to', 'height'],\n",
       "  -4.311198552449544,\n",
       "  ['MD', 'RB', 'VB', 'RP', 'TO', 'NN'],\n",
       "  [\"'did\", 'not', 'rush', 'off', 'to', 'town']),\n",
       " (['ourselves', 'will', 'come', 'to', 'each', 'height'],\n",
       "  -4.62187131245931,\n",
       "  ['PRP', 'MD', 'VB', 'TO', 'DT', 'NN'],\n",
       "  ['he', 'would', 'go', 'to', 'a', 'party'])]"
      ]
     },
     "execution_count": 147,
     "metadata": {},
     "output_type": "execute_result"
    }
   ],
   "source": [
    "p"
   ]
  },
  {
   "cell_type": "markdown",
   "metadata": {},
   "source": [
    "## Gen Poem"
   ]
  },
  {
   "cell_type": "code",
   "execution_count": 148,
   "metadata": {},
   "outputs": [
    {
     "name": "stderr",
     "output_type": "stream",
     "text": [
      "c:\\users\\hp\\anaconda2\\envs\\translator\\lib\\site-packages\\gensim\\matutils.py:737: FutureWarning: Conversion of the second argument of issubdtype from `int` to `np.signedinteger` is deprecated. In future, it will be treated as `np.int32 == np.dtype(int).type`.\n",
      "  if np.issubdtype(vec.dtype, np.int):\n"
     ]
    },
    {
     "name": "stdout",
     "output_type": "stream",
     "text": [
      "['WHO', 'VBD', 'IN', 'DT', 'NN', 'IN', 'NNS']\n",
      "INFO:tensorflow:Restoring parameters from py_files/models/all_combined_back\\model.ckpt-120000\n",
      "['WP$', 'NN', 'VBD', 'RB', 'JJR', 'THAN', 'NN']\n",
      "INFO:tensorflow:Restoring parameters from py_files/models/all_combined_back\\model.ckpt-120000\n",
      "['WHO', 'VBD', 'AS', 'PRP', 'VBD', 'IN', 'DT', 'NN']\n",
      "INFO:tensorflow:Restoring parameters from py_files/models/all_combined_back\\model.ckpt-120000\n",
      "['WHO', 'VBD', 'RP', 'PRP$', 'NNS', 'IN', 'DT', 'NN']\n",
      "INFO:tensorflow:Restoring parameters from py_files/models/all_combined_back\\model.ckpt-120000\n",
      "['WHO', 'VBD', 'DT', 'PRP$', 'NN', 'IN', 'DT', 'NN']\n",
      "INFO:tensorflow:Restoring parameters from py_files/models/all_combined_back\\model.ckpt-120000\n",
      "[(['who', 'came', 'to', 'the', 'elevator', 'out', 'height'], -3.9964888436453685, ['WHO', 'VBD', 'IN', 'DT', 'NN', 'IN', 'NNS'], ['who', 'slipped', 'on', 'a', 'peel', 'of', 'bananas']), (['who', 'came', 'on', 'my', 'hands', 'in', 'every', 'height'], -4.1248602867126465, ['WHO', 'VBD', 'RP', 'PRP$', 'NNS', 'IN', 'DT', 'NN'], ['who', 'sent', 'out', 'his', 'cards', 'for', 'a', 'party']), (['who', 'were', 'as', 'ourselves', 'seemed', 'to', 'some', 'height'], -4.955960750579834, ['WHO', 'VBD', 'AS', 'PRP', 'VBD', 'IN', 'DT', 'NN'], ['who', 'smiled', 'as', 'she', 'rode', 'on', 'a', 'tiger']), (['whose', 'life', 'was', 'absolutely', 'less', 'than', 'height'], -5.163310459681919, ['WP$', 'NN', 'VBD', 'RB', 'JJR', 'THAN', 'NN'], ['whose', 'speed', 'was', 'much', 'faster', 'than', 'light']), (['who', 'had', 'all', 'my', 'love', 'addition', 'some', 'height'], -5.454594135284424, ['WHO', 'VBD', 'DT', 'PRP$', 'NN', 'IN', 'DT', 'NN'], ['who', 'kept', 'all', 'his', 'cash', 'in', 'a', 'bucket'])]\n",
      "['VBD', 'DT', 'NN', ',', 'VB', 'PRP', 'VB']\n",
      "['VBD', 'DT', 'NN', ',', 'VB', 'RB', 'VB']\n",
      "['PRP', 'VBD', 'CD', 'TO', 'NN']\n"
     ]
    },
    {
     "ename": "ValueError",
     "evalue": "No lines can be constructed",
     "output_type": "error",
     "traceback": [
      "\u001b[1;31m---------------------------------------------------------------------------\u001b[0m",
      "\u001b[1;31mValueError\u001b[0m                                Traceback (most recent call last)",
      "\u001b[1;32m<ipython-input-148-287535113fb7>\u001b[0m in \u001b[0;36m<module>\u001b[1;34m()\u001b[0m\n\u001b[1;32m----> 1\u001b[1;33m \u001b[0mpoem\u001b[0m\u001b[1;33m=\u001b[0m\u001b[0mlg\u001b[0m\u001b[1;33m.\u001b[0m\u001b[0mgen_poem_independent_matias\u001b[0m\u001b[1;33m(\u001b[0m\u001b[1;34m'height'\u001b[0m\u001b[1;33m,\u001b[0m \u001b[1;36m10\u001b[0m\u001b[1;33m)\u001b[0m\u001b[1;33m\u001b[0m\u001b[0m\n\u001b[0m",
      "\u001b[1;32m~\\Documents\\Poetix18\\py_files\\Limericks.py\u001b[0m in \u001b[0;36mgen_poem_independent_matias\u001b[1;34m(self, seed_word, first_line_sylls, rand_template)\u001b[0m\n\u001b[0;32m    549\u001b[0m             \u001b[1;32melif\u001b[0m \u001b[0mi\u001b[0m\u001b[1;33m==\u001b[0m\u001b[1;36m2\u001b[0m\u001b[1;33m:\u001b[0m\u001b[1;33m\u001b[0m\u001b[0m\n\u001b[0;32m    550\u001b[0m                 \u001b[0mthis_line_sylls\u001b[0m \u001b[1;33m=\u001b[0m \u001b[0mthird_line_sylls\u001b[0m\u001b[1;33m\u001b[0m\u001b[0m\n\u001b[1;32m--> 551\u001b[1;33m                 \u001b[0mout\u001b[0m \u001b[1;33m=\u001b[0m \u001b[0mself\u001b[0m\u001b[1;33m.\u001b[0m\u001b[0mgen_best_line\u001b[0m\u001b[1;33m(\u001b[0m\u001b[0mw\u001b[0m\u001b[1;33m,\u001b[0m \u001b[0mnum_sylls\u001b[0m\u001b[1;33m=\u001b[0m\u001b[0mthis_line_sylls\u001b[0m\u001b[1;33m,\u001b[0m \u001b[0mset_of_templates\u001b[0m\u001b[1;33m=\u001b[0m\u001b[0mthird_line_\u001b[0m\u001b[1;33m)\u001b[0m\u001b[1;33m\u001b[0m\u001b[0m\n\u001b[0m\u001b[0;32m    552\u001b[0m             \u001b[1;32melif\u001b[0m \u001b[0mi\u001b[0m\u001b[1;33m==\u001b[0m\u001b[1;36m3\u001b[0m\u001b[1;33m:\u001b[0m\u001b[1;33m\u001b[0m\u001b[0m\n\u001b[0;32m    553\u001b[0m                 \u001b[0mout\u001b[0m \u001b[1;33m=\u001b[0m \u001b[0mself\u001b[0m\u001b[1;33m.\u001b[0m\u001b[0mgen_best_line\u001b[0m\u001b[1;33m(\u001b[0m\u001b[0mw\u001b[0m\u001b[1;33m,\u001b[0m \u001b[0mnum_sylls\u001b[0m\u001b[1;33m=\u001b[0m\u001b[0mthird_line_sylls\u001b[0m\u001b[1;33m,\u001b[0m \u001b[0mtemplates\u001b[0m\u001b[1;33m=\u001b[0m\u001b[0mfourth\u001b[0m\u001b[1;33m)\u001b[0m\u001b[1;33m\u001b[0m\u001b[0m\n",
      "\u001b[1;32m~\\Documents\\Poetix18\\py_files\\Limericks.py\u001b[0m in \u001b[0;36mgen_best_line\u001b[1;34m(self, w1, pos, templates, set_of_templates, rand_templates, num_sylls, state, score, return_state)\u001b[0m\n\u001b[0;32m    458\u001b[0m         \u001b[0mlines\u001b[0m\u001b[1;33m.\u001b[0m\u001b[0msort\u001b[0m\u001b[1;33m(\u001b[0m\u001b[0mkey\u001b[0m\u001b[1;33m=\u001b[0m\u001b[1;32mlambda\u001b[0m \u001b[0mx\u001b[0m\u001b[1;33m:\u001b[0m \u001b[0mx\u001b[0m\u001b[1;33m[\u001b[0m\u001b[1;36m1\u001b[0m\u001b[1;33m]\u001b[0m\u001b[1;33m,\u001b[0m \u001b[0mreverse\u001b[0m \u001b[1;33m=\u001b[0m \u001b[1;32mTrue\u001b[0m\u001b[1;33m)\u001b[0m\u001b[1;33m\u001b[0m\u001b[0m\n\u001b[0;32m    459\u001b[0m         \u001b[1;32mif\u001b[0m \u001b[0mlen\u001b[0m\u001b[1;33m(\u001b[0m\u001b[0mlines\u001b[0m\u001b[1;33m)\u001b[0m\u001b[1;33m==\u001b[0m\u001b[1;36m0\u001b[0m\u001b[1;33m:\u001b[0m\u001b[1;33m\u001b[0m\u001b[0m\n\u001b[1;32m--> 460\u001b[1;33m             \u001b[1;32mraise\u001b[0m \u001b[0mValueError\u001b[0m\u001b[1;33m(\u001b[0m\u001b[1;34m'No lines can be constructed'\u001b[0m\u001b[1;33m)\u001b[0m\u001b[1;33m\u001b[0m\u001b[0m\n\u001b[0m\u001b[0;32m    461\u001b[0m         \u001b[1;32mreturn\u001b[0m \u001b[0mlines\u001b[0m\u001b[1;33m\u001b[0m\u001b[0m\n\u001b[0;32m    462\u001b[0m \u001b[1;33m\u001b[0m\u001b[0m\n",
      "\u001b[1;31mValueError\u001b[0m: No lines can be constructed"
     ]
    }
   ],
   "source": [
    "poem=lg.gen_poem_independent_matias('height', 10)"
   ]
  },
  {
   "cell_type": "code",
   "execution_count": 144,
   "metadata": {},
   "outputs": [
    {
     "data": {
      "text/plain": [
       "[(['who', 'saw', 'it', 'curiously', 'in', 'the', 'sky'],\n",
       "  -4.016473225184849,\n",
       "  ['WHO', 'VBD', 'PRP', 'RB', 'IN', 'DT', 'NN'],\n",
       "  ['who', 'found', 'himself', 'quite', 'at', 'a', 'loss']),\n",
       " (['i', 'believe', 'the', 'mine', 'birth'],\n",
       "  -3.178923797607422,\n",
       "  ['PRP', 'VBP', 'DT', 'NN', 'NN'],\n",
       "  ['you', 'are', 'a', 'simpleton', 'loon']),\n",
       " (['it', 'was', 'so', 'little', 'earth'],\n",
       "  -3.326568603515625,\n",
       "  ['PRP', 'VBD', 'SO', 'JJ', 'NN'],\n",
       "  ['she', 'ate', 'so', 'much', 'spice']),\n",
       " (['it', 'is', 'any', 'words', 'of', 'love', 'for', 'me', 'lie'],\n",
       "  -3.3755276997884116,\n",
       "  ['PRP', 'VBZ', 'DT', 'NNS', 'IN', 'NN', 'IN', 'PRP', 'VBP'],\n",
       "  ['it', \"'s\", 'the', 'people', 'in', 'front', 'that', 'I', 'jar'])]"
      ]
     },
     "execution_count": 144,
     "metadata": {},
     "output_type": "execute_result"
    }
   ],
   "source": [
    "poem"
   ]
  },
  {
   "cell_type": "code",
   "execution_count": 151,
   "metadata": {},
   "outputs": [
    {
     "name": "stderr",
     "output_type": "stream",
     "text": [
      "c:\\users\\hp\\anaconda2\\envs\\translator\\lib\\site-packages\\gensim\\matutils.py:737: FutureWarning: Conversion of the second argument of issubdtype from `int` to `np.signedinteger` is deprecated. In future, it will be treated as `np.int32 == np.dtype(int).type`.\n",
      "  if np.issubdtype(vec.dtype, np.int):\n"
     ]
    },
    {
     "name": "stdout",
     "output_type": "stream",
     "text": [
      "five words are: \n",
      "('goodbye', 'sky', 'birth', 'earth', 'lie')\n",
      "['WHO', 'VBD', 'AS', 'PRP', 'VBD', 'IN', 'DT', 'NN']\n",
      "INFO:tensorflow:Restoring parameters from py_files/models/all_combined_back\\model.ckpt-120000\n",
      "['WHO', 'VBD', 'RP', 'PRP$', 'NNS', 'IN', 'DT', 'NN']\n",
      "INFO:tensorflow:Restoring parameters from py_files/models/all_combined_back\\model.ckpt-120000\n",
      "['WHO', 'VBD', 'IN', 'CD', 'IN', 'PRP$', 'NNS']\n",
      "INFO:tensorflow:Restoring parameters from py_files/models/all_combined_back\\model.ckpt-120000\n",
      "['WHO', 'VBD', 'DT', 'JJ', 'NN', 'IN', 'PRP$', 'NN']\n",
      "INFO:tensorflow:Restoring parameters from py_files/models/all_combined_back\\model.ckpt-120000\n",
      "['WHO', 'VBD', 'IN', 'JJ', 'NN']\n",
      "INFO:tensorflow:Restoring parameters from py_files/models/all_combined_back\\model.ckpt-120000\n",
      "['VBD', 'DT', 'NN', ',', 'DT', 'NN']\n",
      "INFO:tensorflow:Restoring parameters from py_files/models/all_combined_back\\model.ckpt-120000\n",
      "['PRP', 'VBD', 'RP', 'CD', 'NN']\n",
      "INFO:tensorflow:Restoring parameters from py_files/models/all_combined_back\\model.ckpt-120000\n",
      "['PDT', 'DT', 'NNS', 'VBD', 'IN']\n",
      "INFO:tensorflow:Restoring parameters from py_files/models/all_combined_back\\model.ckpt-120000\n",
      "['VBN', 'TO', 'DT', 'NN']\n",
      "INFO:tensorflow:Restoring parameters from py_files/models/all_combined_back\\model.ckpt-120000\n",
      "['THAN', 'DT', 'NN', 'IN', 'NN']\n",
      "INFO:tensorflow:Restoring parameters from py_files/models/all_combined_back\\model.ckpt-120000\n",
      "['PRP', 'VBZ', 'DT', 'NNS', 'IN', 'NN', 'IN', 'PRP', 'VBP']\n",
      "INFO:tensorflow:Restoring parameters from py_files/models/all_combined_back\\model.ckpt-120000\n",
      "INFO:tensorflow:Restoring parameters from py_files/models/all_combined_back\\model.ckpt-120000\n",
      "['PRP', 'VBD', 'SO', 'JJ', 'NN']\n",
      "INFO:tensorflow:Restoring parameters from py_files/models/all_combined_back\\model.ckpt-120000\n",
      "['IN', 'DT', 'JJ', 'NN', 'PRP', 'VBP']\n",
      "INFO:tensorflow:Restoring parameters from py_files/models/all_combined_back\\model.ckpt-120000\n",
      "INFO:tensorflow:Restoring parameters from py_files/models/all_combined_back\\model.ckpt-120000\n",
      "['IF', 'PRP', 'VBD', 'RB', 'VB', 'DT', 'NN']\n",
      "INFO:tensorflow:Restoring parameters from py_files/models/all_combined_back\\model.ckpt-120000\n"
     ]
    },
    {
     "ename": "ValueError",
     "evalue": "no lines can be constructed",
     "output_type": "error",
     "traceback": [
      "\u001b[1;31m---------------------------------------------------------------------------\u001b[0m",
      "\u001b[1;31mValueError\u001b[0m                                Traceback (most recent call last)",
      "\u001b[1;32m<ipython-input-151-69b31b4e077e>\u001b[0m in \u001b[0;36m<module>\u001b[1;34m()\u001b[0m\n\u001b[1;32m----> 1\u001b[1;33m \u001b[0mpoem\u001b[0m\u001b[1;33m=\u001b[0m\u001b[0mlg\u001b[0m\u001b[1;33m.\u001b[0m\u001b[0mgen_poem_conditioned\u001b[0m\u001b[1;33m(\u001b[0m\u001b[1;34m'sky'\u001b[0m\u001b[1;33m,\u001b[0m\u001b[1;36m10\u001b[0m\u001b[1;33m)\u001b[0m\u001b[1;33m\u001b[0m\u001b[0m\n\u001b[0m",
      "\u001b[1;32m~\\Documents\\Poetix18\\py_files\\Limericks.py\u001b[0m in \u001b[0;36mgen_poem_conditioned\u001b[1;34m(self, seed_word, second_line_sylls, rand_template)\u001b[0m\n\u001b[0;32m    616\u001b[0m         \u001b[0mlast\u001b[0m\u001b[1;33m.\u001b[0m\u001b[0msort\u001b[0m\u001b[1;33m(\u001b[0m\u001b[0mkey\u001b[0m\u001b[1;33m=\u001b[0m\u001b[1;32mlambda\u001b[0m \u001b[0mx\u001b[0m\u001b[1;33m:\u001b[0m \u001b[0mx\u001b[0m\u001b[1;33m[\u001b[0m\u001b[1;36m2\u001b[0m\u001b[1;33m]\u001b[0m\u001b[1;33m,\u001b[0m \u001b[0mreverse\u001b[0m \u001b[1;33m=\u001b[0m \u001b[1;32mTrue\u001b[0m\u001b[1;33m)\u001b[0m\u001b[1;33m\u001b[0m\u001b[0m\n\u001b[0;32m    617\u001b[0m         \u001b[1;32mif\u001b[0m \u001b[0mlen\u001b[0m\u001b[1;33m(\u001b[0m\u001b[0mlast\u001b[0m\u001b[1;33m)\u001b[0m\u001b[1;33m==\u001b[0m\u001b[1;36m0\u001b[0m\u001b[1;33m:\u001b[0m\u001b[1;33m\u001b[0m\u001b[0m\n\u001b[1;32m--> 618\u001b[1;33m             \u001b[1;32mraise\u001b[0m \u001b[0mValueError\u001b[0m\u001b[1;33m(\u001b[0m\u001b[1;34m'no lines can be constructed'\u001b[0m\u001b[1;33m)\u001b[0m\u001b[1;33m\u001b[0m\u001b[0m\n\u001b[0m\u001b[0;32m    619\u001b[0m         \u001b[0mline4\u001b[0m\u001b[1;33m=\u001b[0m\u001b[0mlast\u001b[0m\u001b[1;33m[\u001b[0m\u001b[1;36m0\u001b[0m\u001b[1;33m]\u001b[0m\u001b[1;33m[\u001b[0m\u001b[1;36m0\u001b[0m\u001b[1;33m]\u001b[0m\u001b[1;33m[\u001b[0m\u001b[1;36m0\u001b[0m\u001b[1;33m]\u001b[0m\u001b[1;33m\u001b[0m\u001b[0m\n\u001b[0;32m    620\u001b[0m         \u001b[0mscore4\u001b[0m\u001b[1;33m=\u001b[0m\u001b[0mlast\u001b[0m\u001b[1;33m[\u001b[0m\u001b[1;36m0\u001b[0m\u001b[1;33m]\u001b[0m\u001b[1;33m[\u001b[0m\u001b[1;36m0\u001b[0m\u001b[1;33m]\u001b[0m\u001b[1;33m[\u001b[0m\u001b[1;36m1\u001b[0m\u001b[1;33m]\u001b[0m\u001b[1;33m\u001b[0m\u001b[0m\n",
      "\u001b[1;31mValueError\u001b[0m: no lines can be constructed"
     ]
    }
   ],
   "source": [
    "poem=lg.gen_poem_conditioned('sky',10)"
   ]
  },
  {
   "cell_type": "code",
   "execution_count": 76,
   "metadata": {},
   "outputs": [],
   "source": []
  },
  {
   "cell_type": "code",
   "execution_count": null,
   "metadata": {},
   "outputs": [],
   "source": []
  }
 ],
 "metadata": {
  "kernelspec": {
   "display_name": "Python 3",
   "language": "python",
   "name": "python3"
  },
  "language_info": {
   "codemirror_mode": {
    "name": "ipython",
    "version": 3
   },
   "file_extension": ".py",
   "mimetype": "text/x-python",
   "name": "python",
   "nbconvert_exporter": "python",
   "pygments_lexer": "ipython3",
   "version": "3.6.7"
  }
 },
 "nbformat": 4,
 "nbformat_minor": 2
}
