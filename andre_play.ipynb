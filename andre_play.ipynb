{
 "cells": [
  {
   "cell_type": "code",
   "execution_count": 1,
   "metadata": {},
   "outputs": [],
   "source": [
    "import tensorflow as tf\n",
    "import nltk"
   ]
  },
  {
   "cell_type": "code",
   "execution_count": 27,
   "metadata": {},
   "outputs": [],
   "source": [
    "import numpy as np\n",
    "import random"
   ]
  },
  {
   "cell_type": "code",
   "execution_count": 42,
   "metadata": {},
   "outputs": [],
   "source": [
    "#from py_files.Limericks import Limerick_Generate\n",
    "#lg = Limerick_Generate(model_name='345M', model_dir='gpt2/models/345M')\n",
    "with open(\"s1\") as f:\n",
    "    content = f.readlines()\n",
    "    content = [x.strip() for x in content]\n",
    "#lg.gen_sonnet_gpt(prompt=content[0],template=POS_f,search_space=100)"
   ]
  },
  {
   "cell_type": "code",
   "execution_count": 22,
   "metadata": {},
   "outputs": [],
   "source": [
    "from py_files.templates import get_templates"
   ]
  },
  {
   "cell_type": "code",
   "execution_count": 36,
   "metadata": {},
   "outputs": [
    {
     "name": "stdout",
     "output_type": "stream",
     "text": [
      "['NN']\n",
      "['PRP', 'MD', 'VB', 'TO', 'DT', 'NN']\n",
      "['NNS']\n",
      "['PRP', 'VBD', ',', 'RB', 'VBD']\n",
      "['NN']\n",
      "['CC', 'IN', 'PRP$', 'NN']\n",
      "['NN']\n",
      "['IN', 'JJ', 'NN']\n",
      "['JJ']\n",
      "['PRP$', 'NNS', 'VBD', 'SO', 'JJ']\n",
      "['VBD']\n"
     ]
    },
    {
     "ename": "IndexError",
     "evalue": "list index out of range",
     "output_type": "error",
     "traceback": [
      "\u001b[0;31m---------------------------------------------------------------------------\u001b[0m",
      "\u001b[0;31mIndexError\u001b[0m                                Traceback (most recent call last)",
      "\u001b[0;32m<ipython-input-36-e35b7aa46441>\u001b[0m in \u001b[0;36m<module>\u001b[0;34m()\u001b[0m\n\u001b[1;32m      5\u001b[0m     \u001b[0mkey\u001b[0m \u001b[0;34m=\u001b[0m \u001b[0mnp\u001b[0m\u001b[0;34m.\u001b[0m\u001b[0mrandom\u001b[0m\u001b[0;34m.\u001b[0m\u001b[0mchoice\u001b[0m\u001b[0;34m(\u001b[0m\u001b[0mlist\u001b[0m\u001b[0;34m(\u001b[0m\u001b[0mdataset\u001b[0m\u001b[0;34m.\u001b[0m\u001b[0mkeys\u001b[0m\u001b[0;34m(\u001b[0m\u001b[0;34m)\u001b[0m\u001b[0;34m)\u001b[0m\u001b[0;34m,\u001b[0m \u001b[0;36m1\u001b[0m\u001b[0;34m,\u001b[0m \u001b[0mp\u001b[0m\u001b[0;34m=\u001b[0m\u001b[0;34m[\u001b[0m\u001b[0mlen\u001b[0m\u001b[0;34m(\u001b[0m\u001b[0mdataset\u001b[0m\u001b[0;34m[\u001b[0m\u001b[0mkey\u001b[0m\u001b[0;34m]\u001b[0m\u001b[0;34m)\u001b[0m \u001b[0;34m/\u001b[0m \u001b[0ms\u001b[0m \u001b[0;32mfor\u001b[0m \u001b[0mkey\u001b[0m \u001b[0;32min\u001b[0m \u001b[0mdataset\u001b[0m\u001b[0;34m.\u001b[0m\u001b[0mkeys\u001b[0m\u001b[0;34m(\u001b[0m\u001b[0;34m)\u001b[0m\u001b[0;34m]\u001b[0m\u001b[0;34m)\u001b[0m\u001b[0;34m\u001b[0m\u001b[0m\n\u001b[1;32m      6\u001b[0m     \u001b[0mprint\u001b[0m\u001b[0;34m(\u001b[0m\u001b[0mkey\u001b[0m\u001b[0;34m)\u001b[0m\u001b[0;34m\u001b[0m\u001b[0m\n\u001b[0;32m----> 7\u001b[0;31m     \u001b[0mprint\u001b[0m\u001b[0;34m(\u001b[0m\u001b[0mdataset\u001b[0m\u001b[0;34m[\u001b[0m\u001b[0mkey\u001b[0m\u001b[0;34m[\u001b[0m\u001b[0;36m0\u001b[0m\u001b[0;34m]\u001b[0m\u001b[0;34m]\u001b[0m\u001b[0;34m[\u001b[0m\u001b[0mrandom\u001b[0m\u001b[0;34m.\u001b[0m\u001b[0mrandint\u001b[0m\u001b[0;34m(\u001b[0m\u001b[0;36m0\u001b[0m\u001b[0;34m,\u001b[0m \u001b[0mlen\u001b[0m\u001b[0;34m(\u001b[0m\u001b[0mdataset\u001b[0m\u001b[0;34m[\u001b[0m\u001b[0mkey\u001b[0m\u001b[0;34m[\u001b[0m\u001b[0;36m0\u001b[0m\u001b[0;34m]\u001b[0m\u001b[0;34m]\u001b[0m\u001b[0;34m)\u001b[0m\u001b[0;34m)\u001b[0m\u001b[0;34m]\u001b[0m\u001b[0;34m[\u001b[0m\u001b[0;36m0\u001b[0m\u001b[0;34m]\u001b[0m\u001b[0;34m)\u001b[0m\u001b[0;34m\u001b[0m\u001b[0m\n\u001b[0m\u001b[1;32m      8\u001b[0m     \u001b[0mtemplate\u001b[0m\u001b[0;34m.\u001b[0m\u001b[0mappend\u001b[0m\u001b[0;34m(\u001b[0m\u001b[0mdataset\u001b[0m\u001b[0;34m[\u001b[0m\u001b[0mkey\u001b[0m\u001b[0;34m[\u001b[0m\u001b[0;36m0\u001b[0m\u001b[0;34m]\u001b[0m\u001b[0;34m]\u001b[0m\u001b[0;34m[\u001b[0m\u001b[0mrandom\u001b[0m\u001b[0;34m.\u001b[0m\u001b[0mrandint\u001b[0m\u001b[0;34m(\u001b[0m\u001b[0;36m0\u001b[0m\u001b[0;34m,\u001b[0m \u001b[0mlen\u001b[0m\u001b[0;34m(\u001b[0m\u001b[0mdataset\u001b[0m\u001b[0;34m[\u001b[0m\u001b[0mkey\u001b[0m\u001b[0;34m[\u001b[0m\u001b[0;36m0\u001b[0m\u001b[0;34m]\u001b[0m\u001b[0;34m]\u001b[0m\u001b[0;34m)\u001b[0m\u001b[0;34m)\u001b[0m\u001b[0;34m]\u001b[0m\u001b[0;34m[\u001b[0m\u001b[0;36m0\u001b[0m\u001b[0;34m]\u001b[0m\u001b[0;34m)\u001b[0m\u001b[0;34m\u001b[0m\u001b[0m\n",
      "\u001b[0;31mIndexError\u001b[0m: list index out of range"
     ]
    }
   ],
   "source": [
    "template=[]\n",
    "dataset = get_templates()[2]\n",
    "s = sum([len(dataset[key]) for key in dataset.keys()])\n",
    "for _ in range(14):\n",
    "    key = np.random.choice(list(dataset.keys()), 1, p=[len(dataset[key]) / s for key in dataset.keys()])\n",
    "    print(key)\n",
    "    print(dataset[key[0]][random.randint(0, len(dataset[key[0]]))][0])\n",
    "    template.append(dataset[key[0]][random.randint(0, len(dataset[key[0]]))][0])"
   ]
  },
  {
   "cell_type": "code",
   "execution_count": 39,
   "metadata": {},
   "outputs": [
    {
     "data": {
      "text/plain": [
       "[\"Shall I compare her to a summer's day;\",\n",
       " 'how would such measure fare? I remonstrate:',\n",
       " 'all prose conveys its meaning come what may,',\n",
       " \"whilst poems, let's say, are fine attempts to state,\",\n",
       " 'sometimes relate, with metaphor and themes,',\n",
       " \"our higher selves, we human beings' grace,\",\n",
       " 'yet every foot that taps this rhythm seems',\n",
       " \"to question why we'd limit half the race\",\n",
       " \"to gloried days, give mummer's praise, assign\",\n",
       " \"by that a trope that's toiled – I fear that's lame.\",\n",
       " 'Unfailing fair and full of life she rhymes,',\n",
       " 'outshines all suns that set in blushing shame.',\n",
       " \"As long as she adorns this world you'll see,\",\n",
       " \"far more than summers' days is she to me.\"]"
      ]
     },
     "execution_count": 39,
     "metadata": {},
     "output_type": "execute_result"
    }
   ],
   "source": [
    "content"
   ]
  },
  {
   "cell_type": "code",
   "execution_count": 35,
   "metadata": {},
   "outputs": [
    {
     "data": {
      "text/plain": [
       "[['IN', 'DT', 'NN', 'VBZ', 'DT', 'JJ']]"
      ]
     },
     "execution_count": 35,
     "metadata": {},
     "output_type": "execute_result"
    }
   ],
   "source": [
    "template"
   ]
  },
  {
   "cell_type": "code",
   "execution_count": 9,
   "metadata": {},
   "outputs": [
    {
     "data": {
      "text/plain": [
       "[('?', '.')]"
      ]
     },
     "execution_count": 9,
     "metadata": {},
     "output_type": "execute_result"
    }
   ],
   "source": [
    "# nltk pos tag experiment\n",
    "x=nltk.word_tokenize(\"?\")\n",
    "nltk.pos_tag(x)"
   ]
  },
  {
   "cell_type": "code",
   "execution_count": 43,
   "metadata": {},
   "outputs": [],
   "source": [
    "POS=[]\n",
    "POS_f=[]\n",
    "for i,x in enumerate(content):\n",
    "    POS=[]\n",
    "    text=nltk.word_tokenize(x)\n",
    "    tokenize=nltk.pos_tag(text)\n",
    "    for pos in tokenize:\n",
    "        POS.append(pos[1])\n",
    "    POS_f.append(POS)"
   ]
  },
  {
   "cell_type": "code",
   "execution_count": 44,
   "metadata": {},
   "outputs": [
    {
     "data": {
      "text/plain": [
       "[['PRP$', 'NNP', 'POS', 'NNS', 'VBP', 'NN', 'IN', 'DT', 'NN'],\n",
       " ['NNP', 'VBZ', 'RB', 'RBR', 'JJ', 'IN', 'PRP$', 'NNS', 'POS', 'JJ'],\n",
       " ['IN', 'JJ', 'VB', 'JJ', 'WRB', 'RB', 'PRP$', 'NNS', 'VBP', 'JJ'],\n",
       " ['IN', 'NNS', 'VB', 'NNS', 'JJ', 'NNS', 'VBP', 'IN', 'PRP$', 'NN'],\n",
       " ['PRP', 'VBP', 'VBN', 'NNS', 'VBD', ',', 'JJ', 'CC', 'JJ'],\n",
       " ['CC', 'DT', 'JJ', 'NNS', 'VBP', 'PRP', 'IN', 'PRP$', 'NN'],\n",
       " ['CC', 'IN', 'DT', 'NNS', 'VBZ', 'RB', 'JJR', 'NN'],\n",
       " ['EX', 'IN', 'DT', 'NN', 'IN', 'IN', 'PRP$', 'NN', 'NN'],\n",
       " ['PRP', 'VBP', 'TO', 'VB', 'PRP$', 'NN', ':', 'RB', 'RB', 'PRP', 'VBP'],\n",
       " ['DT', 'NN', 'VBZ', 'DT', 'RB', 'RBR', 'JJ', 'NN'],\n",
       " ['PRP', 'VBP', 'PRP', 'RB', 'VBD', 'DT', 'NN', 'NN'],\n",
       " ['PRP$', 'NN', 'WRB', 'PRP', 'VBD', 'NNS', 'IN', 'DT', 'NN'],\n",
       " ['DT', 'RB', 'IN', 'NN', 'PRP', 'VBP', 'PRP$', 'NN', 'IN', 'JJ'],\n",
       " ['IN', 'DT', 'PRP', 'VBD', 'IN', 'JJ', 'NN']]"
      ]
     },
     "execution_count": 44,
     "metadata": {},
     "output_type": "execute_result"
    }
   ],
   "source": [
    "POS_f"
   ]
  },
  {
   "cell_type": "code",
   "execution_count": null,
   "metadata": {},
   "outputs": [],
   "source": [
    "postag_file='py_files/saved_objects/postag_dict_all.p'\n",
    "with open(postag_file, 'rb') as f:\n",
    "    postag_dict = pickle.load(f)\n",
    "    pos_to_words = postag_dict[1]\n",
    "    words_to_pos = postag_dict[2]"
   ]
  }
 ],
 "metadata": {
  "kernelspec": {
   "display_name": "Python 3",
   "language": "python",
   "name": "python3"
  },
  "language_info": {
   "codemirror_mode": {
    "name": "ipython",
    "version": 3
   },
   "file_extension": ".py",
   "mimetype": "text/x-python",
   "name": "python",
   "nbconvert_exporter": "python",
   "pygments_lexer": "ipython3",
   "version": "3.5.6"
  }
 },
 "nbformat": 4,
 "nbformat_minor": 2
}
