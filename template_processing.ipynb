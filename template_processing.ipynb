{
 "cells": [
  {
   "cell_type": "code",
   "execution_count": 1,
   "metadata": {},
   "outputs": [],
   "source": [
    "special_words = set(['TO', 'ABOUT', 'THROUGH', 'WITH', 'THAT', 'WHICH'])"
   ]
  },
  {
   "cell_type": "code",
   "execution_count": 38,
   "metadata": {},
   "outputs": [
    {
     "name": "stdout",
     "output_type": "stream",
     "text": [
      "$: dollar\n",
      "    $ -$ --$ A$ C$ HK$ M$ NZ$ S$ U.S.$ US$\n",
      "'': closing quotation mark\n",
      "    ' ''\n",
      "(: opening parenthesis\n",
      "    ( [ {\n",
      "): closing parenthesis\n",
      "    ) ] }\n",
      ",: comma\n",
      "    ,\n",
      "--: dash\n",
      "    --\n",
      ".: sentence terminator\n",
      "    . ! ?\n",
      ":: colon or ellipsis\n",
      "    : ; ...\n",
      "CC: conjunction, coordinating\n",
      "    & 'n and both but either et for less minus neither nor or plus so\n",
      "    therefore times v. versus vs. whether yet\n",
      "CD: numeral, cardinal\n",
      "    mid-1890 nine-thirty forty-two one-tenth ten million 0.5 one forty-\n",
      "    seven 1987 twenty '79 zero two 78-degrees eighty-four IX '60s .025\n",
      "    fifteen 271,124 dozen quintillion DM2,000 ...\n",
      "DT: determiner\n",
      "    all an another any both del each either every half la many much nary\n",
      "    neither no some such that the them these this those\n",
      "EX: existential there\n",
      "    there\n",
      "FW: foreign word\n",
      "    gemeinschaft hund ich jeux habeas Haementeria Herr K'ang-si vous\n",
      "    lutihaw alai je jour objets salutaris fille quibusdam pas trop Monte\n",
      "    terram fiche oui corporis ...\n",
      "IN: preposition or conjunction, subordinating\n",
      "    astride among uppon whether out inside pro despite on by throughout\n",
      "    below within for towards near behind atop around if like until below\n",
      "    next into if beside ...\n",
      "JJ: adjective or numeral, ordinal\n",
      "    third ill-mannered pre-war regrettable oiled calamitous first separable\n",
      "    ectoplasmic battery-powered participatory fourth still-to-be-named\n",
      "    multilingual multi-disciplinary ...\n",
      "JJR: adjective, comparative\n",
      "    bleaker braver breezier briefer brighter brisker broader bumper busier\n",
      "    calmer cheaper choosier cleaner clearer closer colder commoner costlier\n",
      "    cozier creamier crunchier cuter ...\n",
      "JJS: adjective, superlative\n",
      "    calmest cheapest choicest classiest cleanest clearest closest commonest\n",
      "    corniest costliest crassest creepiest crudest cutest darkest deadliest\n",
      "    dearest deepest densest dinkiest ...\n",
      "LS: list item marker\n",
      "    A A. B B. C C. D E F First G H I J K One SP-44001 SP-44002 SP-44005\n",
      "    SP-44007 Second Third Three Two * a b c d first five four one six three\n",
      "    two\n",
      "MD: modal auxiliary\n",
      "    can cannot could couldn't dare may might must need ought shall should\n",
      "    shouldn't will would\n",
      "NN: noun, common, singular or mass\n",
      "    common-carrier cabbage knuckle-duster Casino afghan shed thermostat\n",
      "    investment slide humour falloff slick wind hyena override subhumanity\n",
      "    machinist ...\n",
      "NNP: noun, proper, singular\n",
      "    Motown Venneboerger Czestochwa Ranzer Conchita Trumplane Christos\n",
      "    Oceanside Escobar Kreisler Sawyer Cougar Yvette Ervin ODI Darryl CTCA\n",
      "    Shannon A.K.C. Meltex Liverpool ...\n",
      "NNPS: noun, proper, plural\n",
      "    Americans Americas Amharas Amityvilles Amusements Anarcho-Syndicalists\n",
      "    Andalusians Andes Andruses Angels Animals Anthony Antilles Antiques\n",
      "    Apache Apaches Apocrypha ...\n",
      "NNS: noun, common, plural\n",
      "    undergraduates scotches bric-a-brac products bodyguards facets coasts\n",
      "    divestitures storehouses designs clubs fragrances averages\n",
      "    subjectivists apprehensions muses factory-jobs ...\n",
      "PDT: pre-determiner\n",
      "    all both half many quite such sure this\n",
      "POS: genitive marker\n",
      "    ' 's\n",
      "PRP: pronoun, personal\n",
      "    hers herself him himself hisself it itself me myself one oneself ours\n",
      "    ourselves ownself self she thee theirs them themselves they thou thy us\n",
      "PRP$: pronoun, possessive\n",
      "    her his mine my our ours their thy your\n",
      "RB: adverb\n",
      "    occasionally unabatingly maddeningly adventurously professedly\n",
      "    stirringly prominently technologically magisterially predominately\n",
      "    swiftly fiscally pitilessly ...\n",
      "RBR: adverb, comparative\n",
      "    further gloomier grander graver greater grimmer harder harsher\n",
      "    healthier heavier higher however larger later leaner lengthier less-\n",
      "    perfectly lesser lonelier longer louder lower more ...\n",
      "RBS: adverb, superlative\n",
      "    best biggest bluntest earliest farthest first furthest hardest\n",
      "    heartiest highest largest least less most nearest second tightest worst\n",
      "RP: particle\n",
      "    aboard about across along apart around aside at away back before behind\n",
      "    by crop down ever fast for forth from go high i.e. in into just later\n",
      "    low more off on open out over per pie raising start teeth that through\n",
      "    under unto up up-pp upon whole with you\n",
      "SYM: symbol\n",
      "    % & ' '' ''. ) ). * + ,. < = > @ A[fj] U.S U.S.S.R * ** ***\n",
      "TO: \"to\" as preposition or infinitive marker\n",
      "    to\n",
      "UH: interjection\n",
      "    Goodbye Goody Gosh Wow Jeepers Jee-sus Hubba Hey Kee-reist Oops amen\n",
      "    huh howdy uh dammit whammo shucks heck anyways whodunnit honey golly\n",
      "    man baby diddle hush sonuvabitch ...\n",
      "VB: verb, base form\n",
      "    ask assemble assess assign assume atone attention avoid bake balkanize\n",
      "    bank begin behold believe bend benefit bevel beware bless boil bomb\n",
      "    boost brace break bring broil brush build ...\n",
      "VBD: verb, past tense\n",
      "    dipped pleaded swiped regummed soaked tidied convened halted registered\n",
      "    cushioned exacted snubbed strode aimed adopted belied figgered\n",
      "    speculated wore appreciated contemplated ...\n",
      "VBG: verb, present participle or gerund\n",
      "    telegraphing stirring focusing angering judging stalling lactating\n",
      "    hankerin' alleging veering capping approaching traveling besieging\n",
      "    encrypting interrupting erasing wincing ...\n",
      "VBN: verb, past participle\n",
      "    multihulled dilapidated aerosolized chaired languished panelized used\n",
      "    experimented flourished imitated reunifed factored condensed sheared\n",
      "    unsettled primed dubbed desired ...\n",
      "VBP: verb, present tense, not 3rd person singular\n",
      "    predominate wrap resort sue twist spill cure lengthen brush terminate\n",
      "    appear tend stray glisten obtain comprise detest tease attract\n",
      "    emphasize mold postpone sever return wag ...\n",
      "VBZ: verb, present tense, 3rd person singular\n",
      "    bases reconstructs marks mixes displeases seals carps weaves snatches\n",
      "    slumps stretches authorizes smolders pictures emerges stockpiles\n",
      "    seduces fizzes uses bolsters slaps speaks pleads ...\n",
      "WDT: WH-determiner\n",
      "    that what whatever which whichever\n",
      "WP: WH-pronoun\n",
      "    that what whatever whatsoever which who whom whosoever\n",
      "WP$: WH-pronoun, possessive\n",
      "    whose\n",
      "WRB: Wh-adverb\n",
      "    how however whence whenever where whereby whereever wherein whereof why\n",
      "``: opening quotation mark\n",
      "    ` ``\n"
     ]
    }
   ],
   "source": [
    "import nltk\n",
    "nltk.help.upenn_tagset()"
   ]
  },
  {
   "cell_type": "code",
   "execution_count": 1,
   "metadata": {},
   "outputs": [],
   "source": [
    "%load_ext autoreload\n",
    "%autoreload 2"
   ]
  },
  {
   "cell_type": "code",
   "execution_count": 3,
   "metadata": {},
   "outputs": [
    {
     "name": "stdout",
     "output_type": "stream",
     "text": [
      "4\n",
      "{'BELOW', 'WHOEVER', 'BY', 'ALL', 'DARE', 'DOWN', 'ON', 'ONWARD', 'WHATEVER', 'ANOTHER', 'BEFORE', 'PER', 'MANY', 'AGAINST', 'OR', 'SHALL', 'WOULD', 'WHAT', 'NEXT', 'BECAUSE', 'IF', 'QUITE', 'FROM', 'WHOM', 'WHERE', 'AT', 'PLUS', 'TOWARD', 'WHETHER', 'WHICHEVER', 'NEITHER', 'THERE', 'NEAR', 'SOME', 'WHY', 'WHOSE', 'JUST', 'UPON', 'THE', 'AWAY', 'UNTIL', 'ABOVE', 'THIS', 'THAN', 'WHENEVER', 'ALONG', 'APART', 'ASIDE', 'WHOSOEVER', 'SO', 'COULD', 'DESPITE', 'WILL', 'NEED', 'EVER', 'EVERY', 'UNTO', 'MIGHT', 'ABOUT', 'OF', 'THROUGH', 'MUST', 'LIKE', 'AFTER', 'AMONG', 'WHATSOEVER', 'THROUGHOUT', 'THAT', 'CAN', 'UP', 'OVER', 'WHEN', 'YET', 'EXCEPT', 'WHO', 'REGARD', 'BEHIND', 'BENEATH', 'OUT', 'INTO', 'FOR', 'MAY', 'LATER', 'AROUND', 'BOTH', 'ONTO', 'WHILE', 'SINCE', 'UNDER', 'EACH', 'TO', 'THOSE', 'ALBEIT', 'WHOLE', 'OFF', 'BEYOND', 'WITH', 'ANY', 'ACROSS', 'AS', 'IN', 'BETWEEN', 'AN', 'BACK', 'WHICH', 'OUGHT', 'NOR', 'HOW', 'ABOARD', 'THESE', 'DURING', 'EITHER', 'MORE', 'BESIDE', 'AND', 'A', 'SHOULD', 'HALF', 'WHEREVER', 'CANNOT', 'SUCH', 'INSIDE', 'WITHOUT', 'BUT'}\n"
     ]
    }
   ],
   "source": [
    "from py_files.Limericks_new2 import Limerick_Generate_new\n",
    "lg = Limerick_Generate_new()"
   ]
  },
  {
   "cell_type": "code",
   "execution_count": 4,
   "metadata": {},
   "outputs": [
    {
     "name": "stdout",
     "output_type": "stream",
     "text": [
      "{'BELOW', 'WHOEVER', 'BY', 'ALL', 'DARE', 'DOWN', 'ON', 'ONWARD', 'WHATEVER', 'ANOTHER', 'BEFORE', 'PER', 'MANY', 'AGAINST', 'OR', 'SHALL', 'WOULD', 'WHAT', 'NEXT', 'BECAUSE', 'IF', 'QUITE', 'FROM', 'WHOM', 'WHERE', 'AT', 'PLUS', 'TOWARD', 'WHETHER', 'WHICHEVER', 'NEITHER', 'THERE', 'NEAR', 'SOME', 'WHY', 'WHOSE', 'JUST', 'UPON', 'THE', 'AWAY', 'UNTIL', 'ABOVE', 'THIS', 'THAN', 'WHENEVER', 'ALONG', 'APART', 'ASIDE', 'WHOSOEVER', 'SO', 'COULD', 'DESPITE', 'WILL', 'NEED', 'EVER', 'EVERY', 'UNTO', 'MIGHT', 'ABOUT', 'OF', 'THROUGH', 'MUST', 'LIKE', 'AFTER', 'AMONG', 'WHATSOEVER', 'THROUGHOUT', 'THAT', 'CAN', 'UP', 'OVER', 'WHEN', 'YET', 'EXCEPT', 'WHO', 'REGARD', 'BEHIND', 'BENEATH', 'OUT', 'INTO', 'FOR', 'MAY', 'LATER', 'AROUND', 'BOTH', 'ONTO', 'WHILE', 'SINCE', 'UNDER', 'EACH', 'TO', 'THOSE', 'ALBEIT', 'WHOLE', 'OFF', 'BEYOND', 'WITH', 'ANY', 'ACROSS', 'AS', 'IN', 'BETWEEN', 'AN', 'BACK', 'WHICH', 'OUGHT', 'NOR', 'HOW', 'ABOARD', 'THESE', 'DURING', 'EITHER', 'MORE', 'BESIDE', 'AND', 'A', 'SHOULD', 'HALF', 'WHEREVER', 'CANNOT', 'SUCH', 'INSIDE', 'WITHOUT', 'BUT'}\n"
     ]
    }
   ],
   "source": [
    "print(lg.special_words)"
   ]
  },
  {
   "cell_type": "code",
   "execution_count": 6,
   "metadata": {},
   "outputs": [
    {
     "name": "stdout",
     "output_type": "stream",
     "text": [
      "{'second': defaultdict(<class 'list'>, {'NN': [(('WP$', 'NN', 'VBD', 'DT', 'NN', 'IN', 'NN'), ('whose', 'pa', 'made', 'a', 'fortune', 'in', 'pork'), (7, 8)), (('WHO', 'VBD', 'JJ', 'NN', 'IN', 'NN'), ('who', 'was', 'quite', 'fond', 'of', 'feedin'), (6, 6)), (('WHO', 'VBD', 'DT', 'JJ', 'NN', 'DT', 'NN'), ('who', 'read', 'a', 'love', 'story', 'each', 'day'), (7, 8)), (('WHO', 'VBD', 'DT', 'PRP$', 'NN', 'IN', 'DT', 'NN'), ('who', 'kept', 'all', 'his', 'cash', 'in', 'a', 'bucket'), (8, 9)), (('WHO', 'VBD', 'AS', 'PRP', 'VBD', 'IN', 'DT', 'NN'), ('who', 'smiled', 'as', 'she', 'rode', 'on', 'a', 'tiger'), (8, 9)), (('WHO', 'VBD', 'DT', 'NN', 'IN', 'NN'), ('who', 'hadnt', 'an', 'atom', 'of', 'fear'), (6, 7)), (('WHO', 'VBD', 'RP', 'PRP$', 'NNS', 'IN', 'DT', 'NN'), ('who', 'sent', 'out', 'his', 'cards', 'for', 'a', 'party'), (8, 9)), (('WHO', 'VBD', 'PRP', 'RB', 'IN', 'DT', 'NN'), ('who', 'found', 'himself', 'quite', 'at', 'a', 'loss'), (7, 8)), (('WHO', 'VBD', 'IN', 'JJ', 'NN'), ('who', 'lived', 'on', 'distilled', 'kerosene'), (5, 8)), (('WHO', 'VBD', 'DT', 'JJ', 'NN', 'IN', 'PRP$', 'NN'), ('who', 'had', 'a', 'large', 'wart', 'on', 'her', 'nose'), (8, 8)), (('WP$', 'NN', 'VBD', 'RB', 'JJR', 'THAN', 'NN'), ('whose', 'speed', 'was', 'much', 'faster', 'than', 'light'), (7, 8))], 'NNS': [(('WHO', 'RB', 'VBD', 'IN', 'NNS'), ('who', 'simply', 'doted', 'on', 'gherkins'), (5, 6)), (('WHO', 'VBD', 'IN', 'DT', 'NN', 'IN', 'NNS'), ('who', 'slipped', 'on', 'a', 'peel', 'of', 'bananas'), (7, 9)), (('WHO', 'VBD', 'IN', 'CD', 'IN', 'PRP$', 'NNS'), ('who', 'married', 'on', 'one', 'of', 'his', 'trips'), (7, 8))], 'VBD': [(('WHO', 'VBD', 'DT', 'JJ', 'NN', 'CC', 'VBD'), ('who', 'ate', 'a', 'green', 'apple', 'and', 'died'), (7, 8)), (('WP', 'VBD', ',', 'PRP$', 'RB', 'AS', 'PRP', 'VBD'), ('who', 'said', ',', 'its', 'just', 'as', 'i', 'feared'), (7, 7))], 'JJR': [(('WP$', 'NN', 'VBD', 'JJR', 'CC', 'JJR'), ('whose', 'knowledge', 'grew', 'lesser', 'and', 'lesser'), (6, 9)), (('WP', 'VBD', ',', 'DT', 'MD', 'VB', 'VBN', 'JJR'), ('who', 'murmured', ',', 'this', 'might', 'have', 'been', 'worse'), (7, 8))], 'VB': [(('WP$', 'NNS', 'RB', 'MD', 'VB'), ('whose', 'limericks', 'never', 'would', 'scan'), (5, 8))], 'JJ': [(('WP$', 'NN', 'VBD', 'RBS', 'RB', 'JJ'), ('whose', 'nose', 'was', 'most', 'awfully', 'bent'), (6, 8)), (('WHO', 'VBD', 'SO', 'RB', 'JJ'), ('who', 'was', 'so', 'excessively', 'thin'), (5, 8)), (('WP$', 'NN', 'RB', 'VBD', 'JJ'), ('whose', 'appetite', 'simply', 'was', 'unich'), (5, 8)), (('WP$', 'NN', 'VBD', 'JJ', 'CC', 'JJ'), ('whose', 'knowledge', 'grew', 'green', 'and', 'strong'), (6, 7))]}), 'third': defaultdict(<class 'list'>, {'SO': [(('WHEN', 'VBD', 'DT', 'VBD', 'SO'), ('when', 'told', 'this', 'was', 'so'), (5, 5))], 'NNS': [(('WITH', 'PRP$', 'NNS', 'IN', 'DT', 'NNS'), ('with', 'your', 'toes', 'on', 'the', 'keys'), (6, 6)), (('IN', 'PRP$', 'NN', ',', 'PRP$', 'NNS'), ('from', 'your', 'offspring', ',', 'my', 'dears'), (5, 6))], 'VBN': [(('AS', 'NN', 'THAT', 'VBZ', 'VBN'), ('as', 'spacetime', 'that', 'is', 'curved'), (5, 5)), (('CC', 'WHEN', 'PRP', 'VBP', 'VBN'), ('but', 'when', 'I', 'have', 'dough'), (5, 5)), (('IN', 'PRP$', 'NNS', 'VBZ', 'VBN'), ('because', 'its', 'feet', 'is', 'stuck'), (5, 6))], 'VB': [(('VBD', 'DT', 'NN', ',', 'VB', 'PRP', 'VB'), ('said', 'the', 'fly', ',', 'let', 'us', 'flee'), (6, 6)), (('VBD', 'DT', 'NN', ',', 'VB', 'RB', 'VB'), ('said', 'the', 'waiter', ',', 'do', 'not', 'shout'), (6, 7))], 'DT': [(('PRP', 'MD', 'VB', 'EX', 'VBP', 'DT'), ('I', 'could', 'swear', 'there', 'are', 'some'), (6, 6))], 'VBG': [(('CC', 'PRP', 'VBD', 'VBG'), ('but', 'she', 'started', 'absorbing'), (4, 7))], 'IN': [(('PDT', 'DT', 'NNS', 'VBD', 'IN'), ('all', 'the', 'flowers', 'looked', 'around'), (5, 7))], 'NN': [(('PRP', 'MD', 'VB', 'TO', 'DT', 'NN'), ('he', 'would', 'go', 'to', 'a', 'party'), (6, 7)), (('PRP', 'VBD', 'CD', 'TO', 'NN'), ('she', 'gave', 'one', 'to', 'adam'), (5, 6)), (('VBN', 'IN', 'DT', 'NN'), ('collapsed', 'from', 'the', 'strain'), (4, 5)), (('PRP', 'VBD', ',', 'WITH', 'DT', 'NN'), ('he', 'said', ',', 'with', 'a', 'sigh'), (5, 5)), (('PRP', 'VBD', 'IN', 'PRP$', 'NN'), ('he', 'bought', 'for', 'his', 'daughter'), (5, 6)), (('PRP', 'VBD', 'RP', 'CD', 'NN'), ('she', 'set', 'out', 'one', 'day'), (5, 5)), (('WHEN', 'DT', 'NN', 'VBZ', 'PRP$', 'NN'), ('when', 'a', 'dame', 'wears', 'my', 'coat'), (6, 6)), (('DT', 'NN', 'WITH', 'DT', 'NN'), ('a', 'fish', 'with', 'a', 'grin'), (5, 5)), (('VBD', 'DT', 'CD', 'TO', 'DT', 'NN'), ('said', 'the', 'two', 'to', 'the', 'tutor'), (6, 7)), (('VBD', 'DT', 'NN', 'IN', 'DT', 'NN'), ('said', 'the', 'man', 'at', 'the', 'door'), (6, 6)), (('VBD', 'DT', 'NN', ',', 'DT', 'NN'), ('had', 'a', 'quarrel', ',', 'no', 'doubt'), (5, 6)), (('PRP', 'VBD', 'RB', 'IN', 'DT', 'NN'), ('they', 'came', 'back', 'from', 'the', 'ride'), (6, 6)), (('IN', 'VBG', 'PRP$', 'NN'), ('after', 'croaking', 'his', 'wife'), (4, 6)), (('DT', 'NN', 'VBN', 'NN'), ('a', 'widow', 'named', 'block'), (4, 5)), (('CC', 'IN', 'PRP$', 'NN'), ('and', 'as for', 'my', 'hair'), (4, 4)), (('PRP', 'VBD', 'DT', 'NN'), ('he', 'indulged', 'a', 'desire'), (4, 7)), (('IN', 'PRP$', 'JJ', 'NN'), ('since', 'her', 'apple-cheeked', 'groom'), (4, 4)), (('VBD', 'PRP', 'IN', ',', 'WP', 'DT', 'NN'), ('switched', 'it', 'on', ',', 'what', 'a', 'din'), (6, 6)), (('DT', 'NN', 'IN', 'PRP$', 'NN'), ('the', 'cause', 'of', 'his', 'sorrow'), (5, 6)), (('CD', 'NNS', 'CC', 'DT', 'NN'), ('two', 'owls', 'and', 'a', 'hen'), (5, 5)), (('IN', 'PRP$', 'NN', 'IN', 'NN'), ('in', 'my', 'pocket', 'for', 'cash'), (5, 6)), (('IN', 'JJ', 'NN'), ('due to', 'up-to-date', 'science'), (3, 4)), (('WHEN', 'DT', 'NN', 'VBZ', 'PRP$', 'NN'), ('when', 'a', 'girl', 'wears', 'my', 'coat'), (6, 6)), (('THAN', 'DT', 'NN', 'IN', 'NN'), ('than', 'a', 'goulash', 'of', 'rat'), (5, 6)), (('PRP', 'VBP', 'DT', 'NN', 'NN'), ('you', 'are', 'a', 'simpleton', 'loon'), (5, 5)), (('PRP', 'VBD', 'IN', 'DT', 'NN'), ('it', 'said', 'on', 'the', 'door'), (5, 5)), (('VBN', 'TO', 'DT', 'NN'), ('collapsed', 'to', 'the', 'ground'), (4, 5)), (('MD', 'RB', 'VB', 'RP', 'TO', 'NN'), (\"'did\", 'not', 'rush', 'off', 'to', 'town'), (6, 6)), (('PRP', 'MD', 'VBN', 'IN', 'DT', 'NN'), ('they', 'had', 'laid', 'on', 'a', 'chair'), (6, 6)), (('EX', 'VBZ', 'NN', 'IN', 'DT', 'NN'), ('there', 'was', 'nothing', 'like', 'a', 'food'), (6, 7))], 'VBD': [(('PRP', 'VBD', ',', 'RB', 'VBD'), ('she', 'ran', ',', 'almost', 'flew'), (4, 5)), (('CC', 'DT', 'NN', 'PRP', 'VBD'), ('but', 'the', 'copy', 'he', 'wrote'), (5, 6)), (('THAT', 'WHEN', 'PRP', 'VBD'), ('that', 'when', 'she', 'assayed'), (4, 4)), (('PRP', 'RB', 'VBD'), ('he', 'gladly', 'proclaimed'), (3, 5)), (('WHILE', 'PRP$', 'NN', 'VBD'), ('while', 'her', 'lover', 'lamented'), (3, 7)), (('CC', 'VBN', ',', 'PRP', 'VBD'), ('but', 'shaken', ',', 'he', 'shot'), (4, 5)), (('IN', 'DT', 'NNS', 'THAT', 'PRP', 'VBD'), (\"'til\", 'the', 'salts', 'that', 'she', 'shook'), (6, 6))], 'NNP': [(('CC', 'PRP$', 'NN', ',', 'VBN', 'NNP'), ('but', 'his', 'daughter', ',', 'named', 'nan'), (5, 6))], 'JJ': [(('PRP$', 'NNS', 'VBD', 'SO', 'JJ'), ('her', 'thanks', 'were', 'so', 'cold'), (5, 5)), (('SO', 'JJ', 'CC', 'JJ'), ('so', 'exclusive', 'and', 'few'), (4, 6)), (('CC', 'JJ', ',', 'CC', 'JJ'), ('and', 'flat', ',', 'and', 'compressed'), (4, 5)), (('PRP', 'IN', 'VBD', 'SO', 'JJ'), ('it', 'at last', 'grew', 'so', 'small'), (5, 5)), (('DT', 'NN', 'VBD', ',', 'RB', 'JJ'), ('the', 'teacher', 'said', ',', 'not', 'right'), (5, 6)), (('IN', 'DT', 'NN', 'VBZ', 'DT', 'JJ'), ('for', 'the', 'pattern', 'is', 'all', 'wrong'), (6, 7)), (('CC', 'DT', 'CD', 'VBD', 'JJ'), ('but', 'this', 'one', 'was', 'easy'), (5, 6)), (('PRP', 'VBZ', 'JJ'), ('it', 'expresses', 'nothing'), (3, 6))], '.': [(('WHEN', 'VBN', ',', 'WP', 'VBZ', 'JJ', '.'), ('when', 'asked', ',', 'who', 'is', 'dead', '?'), (5, 5)), (('VBD', 'DT', 'NN', ',', 'VB', 'PRP', 'VB', '.'), ('said', 'the', 'fly', ',', 'let', 'us', 'flee', '!'), (6, 6)), (('VB', 'PRP', 'VB', 'NN', 'CC', 'NN', '.'), ('do', 'you', 'haveneedle', 'and', 'thread', '?'), (5, 6)), (('CC', 'VBD', ',', 'MD', 'PRP', 'VB', '.'), ('and', 'said', ',', 'can', 'we', 'dance', '?'), (5, 5)), (('WHEN', 'VBN', ',', 'WRB', 'SO', 'JJ', '.'), ('when', 'asked', ',', \"'why\", 'so', 'blue', '?'), (5, 5))], 'PRP': [(('RB', 'DT', 'JJ', 'NN', 'VBD', 'PRP'), ('soon', 'a', 'happy', 'thought', 'hit', 'her'), (6, 7))]}), 'fourth': defaultdict(<class 'list'>, {'NNS': [(('IN', 'DT', 'JJ', 'NN', 'NNS'), ('in', 'the', 'right', 'reverend', 'shins'), (5, 7)), (('WHICH', 'VBD', 'NN', 'CC', 'NNS'), ('which', 'brought', 'meanness', 'and', 'scorn'), (5, 6)), (('TO', 'JJS', 'IN', 'PRP$', 'NNS'), ('to', 'most', 'of', 'his', 'clients'), (5, 6)), (('NNS', ',', 'NNS', 'CC', 'NNS'), ('muslims', ',', 'catholics', 'and', 'jews'), (4, 6)), (('VB', 'PRP$', 'NN', 'CC', 'PRP$', 'NNS'), ('stung', 'his', 'nose', 'and', 'his', 'knees'), (6, 6)), (('CC', 'NN', 'THROUGH', 'PRP$', 'NNS'), ('and', 'stuck', 'through', 'her', 'feet'), (5, 5)), (('PRP', ',', 'DT', 'NNS'), ('he', ',', 'all', 'unawares'), (3, 5)), (('IN', 'DT', 'NN', 'WITH', 'PRP$', 'NNS'), ('bang', 'the', 'floor', 'with', 'your', 'knees'), (6, 6)), (('MD', 'VB', 'DT', 'PRP$', 'NNS'), ('could', 'pay', 'all', 'my', 'bills'), (5, 5)), (('CC', 'AS', 'NNS', 'VBP', 'DT', 'NNS'), ('and', 'as', 'cops', 'walk', 'the', 'beats'), (6, 6)), (('VBD', 'DT', 'NN', 'IN', 'PRP$', 'NNS'), ('wet', 'the', 'bloom', 'on', 'her', 'cheeks'), (6, 6)), (('CC', 'VB', 'PRP$', 'NNS'), ('and', 'soil', 'my', 'pants'), (4, 4)), (('WITH', 'PRP$', 'NNS', 'CC', 'PRP$', 'NNS'), ('with', 'their', 'wiles', 'and', 'their', 'wits'), (6, 6)), (('CC', 'VBD', 'NNS', 'IN', 'NNS'), ('and', 'ate', 'thousands', 'of', 'figs'), (5, 6)), (('CC', 'VB', 'VBG', 'PRP$', 'NNS'), ('or', 'be', 'flapping', 'your', 'gums'), (5, 6)), (('VBG', 'DT', 'NNS', 'CC', 'NNS'), ('crushing', 'all', 'boys', 'and', 'girls'), (5, 6)), (('IN', 'VBG', 'NNS'), ('for', 'acting', 'positions'), (3, 6)), (('CC', 'PRP', 'RB', 'VBD', 'NNS'), ('but', 'he', 'never', 'kicked', 'onths'), (5, 6)), (('IN', 'DT', 'NN', 'IN', 'NNS'), ('in', 'a', 'couple', 'of', 'years'), (5, 6)), (('NNS', ',', 'NNS', 'CC', 'NNS'), ('slugs', ',', 'peacocks', 'and', 'quails'), (4, 5))], 'VBP': [(('VBN', 'NNS', 'VBP'), ('made', 'people', 'suspect'), (3, 5)), (('CD', 'NN', ',', 'PRP', 'VBP'), ('one', 'day', ',', 'I', 'suppose'), (4, 5)), (('SO', 'DT', 'NN', 'PRP', 'VBP'), ('so', 'this', 'tribute', 'we', 'pay'), (5, 6))], 'IN': [(('VBD', 'DT', 'NN', 'IN'), ('pulled', 'the', 'fisherman', 'in'), (4, 6)), (('PRP', 'VBD', 'NN', 'IN'), ('it', 'sucked', 'everything', 'in'), (4, 6)), (('CC', 'NN', 'ABOUT', ','), ('and', 'wander', 'about', ','), (3, 6))], 'CC': [(('VBZ', 'PRP', 'JJR', 'TO', 'VB', ',', 'CC'), ('is', 'it', 'harder', 'to', 'toot', ',', 'or'), (6, 7)), (('IN', 'NNP', 'NN', ',', 'CC'), ('as soon as', \"'twas\", 'baughan', ',', 'but'), (4, 5)), (('IN', 'NNP', 'NN', ',', 'CC'), ('as soon as', \"'twas\", 'baughan', ',', 'but'), (4, 5)), (('WP', 'VBD', ',', 'NN', 'PRP', ',', 'VB', 'CC'), ('who', 'said', ',', 'thank', 'you', ',', 'madam', 'and'), (6, 7))], 'VBZ': [(('VBN', ',', 'PRP', 'VB', 'WRB', 'PRP', 'VBZ', ','), ('cried', ',', \"'i\", 'know', 'how', 'she', 'sings', ','), (6, 7))], 'PRP': [(('IN', 'VBG', 'THAT', 'PRP'), ('upon', 'finding', 'that', 'it'), (4, 6)), (('VBZ', 'VBN', 'RP', ',', 'CC', 'PRP'), ('has', 'worn', 'off', ',', 'and', 'he'), (5, 5)), (('DT', 'NN', 'WP', 'VBD', 'PRP'), ('a', 'tutor', 'who', 'taught', 'her'), (5, 6)), (('NN', 'VB', 'PRP'), ('please', 'tell', 'me'), (3, 3)), (('IN', 'PRP$', 'NN', 'PRP', 'MD', 'VB', 'PRP'), ('for', 'her', 'skill', 'we', 'must', 'praise', 'her'), (7, 7)), (('CC', 'RB', 'VBD', 'PRP'), ('and', 'carefully', 'lopped', 'it'), (4, 6)), (('THAT', 'NN', 'NN', ',', 'RB', 'PRP'), ('that', 'park', 'bench', ',', 'well', 'I'), (5, 5))], 'NN': [(('IN', 'PRP', 'VBD', 'RP', 'PRP$', 'NN'), ('though', 'you', 'piled', 'up', 'her', 'plate'), (6, 6)), (('WITH', 'DT', 'JJ', 'NN'), ('with', 'all', 'due', 'propriety'), (4, 7)), (('DT', 'NN', 'CC', 'IN', 'NN'), ('either', 'night', 'or', 'by', 'dee'), (5, 6)), (('CC', 'PRP$', 'NN', 'CC', 'NN'), ('and', 'her', 'brother', 'and', 'pa'), (5, 6)), (('CC', 'NN', 'NN'), ('and', 'daniel', 'defoe'), (3, 5)), (('PRP', 'VBD', 'VBN', 'IN', 'DT', 'NN'), ('he', 'was', 'pained', 'by', 'a', 'tooth'), (6, 6)), (('RB', 'VBN', 'IN', 'DT', 'NN'), ('then', 'collapsed', 'in', 'a', 'cell'), (5, 6)), (('CC', 'JJ', 'NN'), ('or', 'hungarian', 'cat'), (3, 6)), (('PRP', 'MD', 'VB', 'DT', 'NN'), ('he', 'would', 'wave', 'a', 'cigar'), (5, 6)), (('THAT', 'VBZ', 'VBN', 'IN', 'IN', 'NN'), ('that', 'has', 'run', 'out', 'of', 'pluck'), (6, 6)), (('DT', 'JJ', 'NN'), ('a', 'new', 'hydrocarbon'), (3, 6)), (('THAT', 'PRP$', 'NN', 'VBD', 'PRP$', 'NN'), ('that', 'his', 'back', 'touched', 'his', 'chest'), (6, 6)), (('IN', 'PRP$', 'NNS', 'CC', 'PRP$', 'NN'), ('in', 'my', 'legs', 'and', 'my', 'bum'), (6, 6)), (('CD', 'NNS', 'CC', 'DT', 'NN'), ('four', 'larks', 'and', 'a', 'wren'), (5, 5)), (('PDT', 'DT', 'NNS', 'IN', 'DT', 'NN'), ('all', 'the', 'birds', 'in', 'the', 'air'), (6, 6)), (('CC', 'VBD', 'DT', 'JJ', 'NN'), ('but', 'got', 'a', 'great', 'fright'), (5, 5)), (('VBP', 'RB', 'PRP', 'VB', 'DT', 'JJ', 'NN', '.'), ('do', \"n't\", 'you', 'know', 'a', 'good', 'tune', '?'), (7, 7)), (('THAT', 'DT', 'NN', 'IN', 'NNS', 'VBZ', 'DT', 'NN'), ('that', 'a', 'game', 'by', 'jinks', 'is', 'the', 'thing'), (8, 8)), (('DT', 'CD', 'VBD', 'PDT', 'DT', 'NN'), ('no', 'one', 'heard', 'such', 'a', 'scream'), (6, 6)), (('PRP', 'VBD', 'DT', 'NN'), ('he', 'inserted', 'some', 'mice'), (4, 6)), (('IN', 'DT', 'NNS', 'CC', 'DT', 'NN'), ('like', 'the', 'mumps', 'or', 'the', 'flu'), (6, 6)), (('WITH', 'DT', 'NN', 'IN', 'PRP$', 'NN'), ('with', 'this', 'verse', 'on', 'my', 'wall'), (6, 6)), (('DT', 'JJ', 'NN', 'NN'), ('the', 'bad', 'background', 'noise'), (4, 5)), (('CC', 'VBD', 'NN', 'IN', 'NN'), ('but', 'made', 'plenty', 'of', 'dough'), (5, 6)), (('PRP', 'VBD', 'CD', 'JJ', 'NN'), ('he', 'was', 'one', 'funny', 'brit'), (5, 6)), (('VBD', 'CD', 'NNS', 'IN', 'NN'), ('drank', 'three', 'kinds', 'of', 'wine'), (5, 5)), (('VBZ', 'DT', 'JJ', 'NN', 'POS', 'NN'), ('wears', 'an', 'old', 'chicken', \"'s\", 'wing'), (6, 7)), (('VBD', 'DT', 'NN', 'DT', 'NN'), ('packed', 'the', 'house', 'every', 'night'), (5, 7)), (('CC', 'IN', 'PRP$', 'NN'), ('and', 'in', 'his', 'lapel'), (4, 5)), (('CC', 'PRP', 'VBD', 'VBN', 'IN', 'DT', 'NN'), ('but', 'he', 'was', 'stopped', 'in', 'the', 'hall'), (7, 7)), (('DT', 'VBN', 'TO', 'DT', 'NN'), ('all', 'exposed', 'to', 'the', 'breeze'), (5, 6)), (('CC', 'PRP', 'VBD', 'TO', 'DT', 'NN'), ('and', 'they', 'rushed', 'to', 'the', 'rail'), (6, 6)), (('WHICH', 'VBD', 'TO', 'PRP$', 'NN'), ('which', 'came', 'to', 'his', 'aid'), (5, 5)), (('WITH', 'DT', 'JJ', ',', 'JJ', 'NN'), ('with', 'a', 'dull', ',', 'sickening', 'thud'), (5, 7)), (('IN', 'DT', 'NN', 'IN', 'DT', 'NN'), ('at', 'the', 'man', 'in', 'the', 'store'), (6, 6)), (('PRP$', 'NN', 'CC', 'PRP$', 'NN'), ('his', 'grief', 'and', 'his', 'rage'), (5, 5)), (('CC', 'VBD', 'PRP$', 'NN'), ('and', 'pummelled', 'his', 'nose'), (4, 4)), (('PRP', 'POS', 'DT', 'NN'), ('she', \"'s\", 'a', 'person'), (4, 5)), (('CD', 'NNS', 'CC', 'DT', 'NN'), ('four', 'larks', 'and', 'a', 'wren'), (5, 5)), (('IN', 'DT', 'JJ', 'NN'), ('in', 'a', 'relative', 'way'), (4, 6)), (('WHICH', 'PRP', 'VBD', 'IN', 'DT', 'NN'), ('which', 'he', 'loosed', 'in', 'the', 'house'), (6, 6)), (('VB', 'RP', 'WITH', 'DT', 'NN'), ('ran', 'away', 'with', 'a', 'man'), (5, 6)), (('PRP', 'VBD', 'SO', 'JJ', 'NN'), ('she', 'ate', 'so', 'much', 'spice'), (5, 5)), (('AS', 'DT', 'JJ', 'NN'), ('as', 'the', 'inverted', 'square'), (4, 6)), (('WITH', 'CD', 'NNS', 'IN', 'DT', 'NN'), ('with', 'three', 'wives', 'in', 'the', 'tomb'), (6, 6)), (('VB', 'PRP', 'VB', ',', 'VBD', 'DT', 'NN'), ('let', 'us', 'fly', ',', 'said', 'the', 'flea'), (6, 6)), (('NN', 'CC', 'DT', 'NN', 'POS', 'RB', 'JJ', 'NN'), ('(', 'or', 'the', 'paper', \"'s\", 'too', 'long', ')'), (8, 9)), (('VBD', 'NN'), ('was', 'paradichloroand'), (2, 2)), (('PRP', 'POS', 'DT', 'NN', 'IN', 'NN'), ('she', \"'s\", 'a', 'person', 'of', 'note'), (6, 7)), (('VBP', 'RB', 'VB', 'IN', 'DT', 'NN'), ('do', \"n't\", 'spit', 'on', 'the', 'floor'), (6, 6)), (('PRP', 'RB', 'RB', 'IN', 'DT', 'NN'), ('it', 'right', 'there', 'on', 'the', 'spot'), (6, 6)), (('IN', 'PRP$', 'NNS', 'CC', 'PRP$', 'NN'), ('in', 'his', 'boots', 'and', 'his', 'vest'), (6, 6)), (('WITH', 'JJ', 'NN'), ('with', 'intelligent', 'thought'), (3, 6)), (('AS', 'PRP', 'VBD', 'DT', 'NN', 'NN'), ('as', 'he', 'struck', 'the', 'ground', 'floor'), (6, 6)), (('IN', 'JJ', 'NN', 'NN'), ('in', 'davy', \"jones'\", 'locker'), (4, 6)), (('PRP', 'VBD', 'VBN', 'IN', 'PRP$', 'NN'), ('he', 'was', 'told', 'by', 'his', 'wife'), (6, 6)), (('IN', 'PDT', 'DT', 'NN'), ('at', 'all', 'this', 'garbage'), (4, 5)), (('VBG', 'NN', 'IN', 'DT', 'NN'), ('dumping', 'dirt', 'near', 'the', 'store'), (5, 6)), (('IN', 'DT', 'NN'), ('without', 'any', 'nightie'), (3, 5)), (('WP', 'DT', 'JJ', 'NN'), ('what', 'the', 'clerical', 'fee'), (4, 6)), (('CC', 'VB', 'RB', 'AS', 'NN'), ('and', 'eat', 'just', 'as', 'hearty'), (5, 6)), (('RB', 'PRP', 'VBD', 'PRP$', 'JJ', 'NN'), ('then', 'he', 'took', 'his', 'own', 'life'), (6, 6)), (('NN', 'PRP', 'VBP', 'VBN', 'PRP$', 'NN'), ('`when', 'I', 'have', 'punctured', 'his', 'hide'), (6, 7)), (('PRP', 'MD', 'VB', 'DT', 'NN'), ('he', 'would', 'wave', 'a', 'cigar'), (5, 6)), (('TO', 'VB', 'NN'), ('to', 'drink', 'lemonade'), (3, 5)), (('VBD', ',', 'PRP', 'VBP', 'RB', 'DT', 'NN'), ('said', ',', 'I', 'have', \"n't\", 'a', 'clue'), (6, 6)), (('WITH', 'DT', 'NN', 'IN', 'PRP$', 'NN'), ('with', 'a', 'hat', 'on', 'my', 'head'), (6, 6)), (('TO', 'VB', 'NN'), ('to', 'drink', 'lemonade'), (3, 5)), (('VB', 'DT', 'NN', 'IN', 'PRP$', 'NN'), ('take', 'a', 'pull', 'at', 'his', 'hair'), (6, 6)), (('WITH', 'DT', 'JJ', 'NN'), ('with', 'a', 'thunderous', 'sound'), (4, 6)), (('IN', 'DT', 'RB', 'JJ', 'NN'), ('at', 'the', 'very', 'first', 'toot'), (5, 6)), (('TO', 'VB', 'RP', 'DT', 'NN'), ('to', 'scare', 'off', 'the', 'critter'), (5, 6)), (('PRP', 'VBD', 'SO', 'JJ', 'NN'), ('she', 'ate', 'so', 'much', 'spice'), (5, 5)), (('IF', 'PRP', 'VBD', 'RB', 'VB', 'DT', 'NN'), ('if', 'I', 'did', \"n't\", 'curb', 'the', 'sound'), (7, 7)), (('DT', 'NN', 'VBD', 'NN'), ('this', 'turk', 'made', 'reply'), (4, 5)), (('PRP', 'VBD', 'IN', 'DT', 'NN'), ('she', 'sat', 'on', 'a', 'stile'), (5, 5)), (('THAT', 'DT', 'NN', 'IN', 'JJ', 'NN'), ('that', 'a', 'wave', 'of', 'great', 'joy'), (6, 6)), (('SO', 'JJ', 'VBD', 'PRP$', 'NN'), ('so', 'short', 'was', 'his', 'fin'), (5, 5)), (('CC', 'PRP$', 'JJ', 'JJ', 'NN'), ('and', 'our', 'social', 'faux', 'pas'), (5, 7)), (('RB', 'PRP$', 'NN', 'VB', 'IN', 'DT', 'NN'), ('now', 'his', 'brain', 'is', 'in', 'a', 'whirl'), (7, 7)), (('VBD', 'PRP$', 'NN', ',', 'PRP', 'VBZ', 'NN'), ('said', 'her', 'doctor', ',', 'it', \"'s\", 'plain'), (6, 7)), (('RB', 'VBD', 'IN', 'DT', 'NN'), ('then', 'died', 'of', 'the', 'shock'), (5, 5)), (('WITH', 'DT', 'NN', 'IN', 'DT', 'NN'), ('with', 'the', 'faith', 'of', 'a', 'marytr'), (6, 6)), (('CC', 'JJ', 'NN'), ('and', 'comic', 'astuteness'), (3, 6)), (('RB', 'VBD', 'IN', 'DT', 'NN'), ('then', 'died', 'of', 'the', 'shock'), (5, 5)), (('PRP$', 'NN', 'VBD', 'DT', 'NN'), ('my', 'mama', 'was', 'a', 'goat'), (5, 6)), (('JJ', 'NN', ',', 'JJ', 'NN'), ('`your', 'manner', ',', 'dear', 'creature'), (4, 6))], 'JJ': [(('PRP', 'VBP', 'VBN', 'RP', 'JJ', 'CC', 'JJ'), ('you', 'have', 'mixed', 'up', 'green', 'and', 'red'), (7, 7)), (('PRP', 'RB', 'VBD', 'JJ'), ('I', 'only', 'felt', 'queasy'), (4, 6)), (('WHEN', 'DT', 'NN', 'VBZ', 'JJ'), ('when', 'the', 'weather', 'turns', 'cool'), (5, 6)), (('CC', 'PRP$', 'NN', ',', 'WP', 'VBZ', 'IN', 'JJ'), ('and', 'his', 'wife', ',', 'who', \"'s\", 'in', 'black'), (7, 7)), (('VBG', 'NN', 'JJ'), ('using', 'language', 'extreme'), (3, 6)), (('WHEN', 'DT', 'NN', 'VBZ', 'JJ'), ('when', 'the', 'weather', 'turns', 'cool'), (5, 6)), (('PRP$', 'NN', 'VBZ', 'DT', 'JJ', '.'), ('your', 'page', 'is', 'all', 'white', '!'), (5, 5)), (('CC', 'VBD', 'RP', ',', 'PRP', 'VBZ', 'JJ', '.'), ('and', 'called', 'out', ',', \"'who\", \"'s\", 'afraid', '?'), (6, 8)), (('MD', 'DT', 'VB', 'JJ'), ('should', 'any', 'be', 'living'), (4, 6)), (('VBD', 'RB', 'JJ'), ('grew', 'very', 'defiant'), (3, 6)), (('PRP$', 'NN', 'VBD', 'SO', 'JJ'), ('her', 'hair', 'got', 'so', 'light'), (5, 5)), (('SO', 'JJ', 'SO', 'JJ'), ('so', 'unique', 'so', \"sincere'\"), (4, 5)), (('PRP$', 'NNS', 'VBP', 'DT', 'JJ'), ('their', 'rates', 'are', 'the', 'same'), (5, 5)), (('VBZ', 'RB', 'JJ'), ('is', 'simply', 'immense'), (3, 5)), (('CC', 'VBD', 'NN', 'JJR', 'JJ'), ('and', 'bought', 'something', 'less', 'flash'), (5, 6)), (('NN', 'CC', 'DT', 'NN', 'POS', 'RB', 'RB', 'JJ'), ('\\\\(', 'or', 'the', 'paper', \"'s\", 'too', 'long', '\\\\)'), (8, 9)), (('DT', 'NN', 'IN', 'DT', 'JJ'), ('a', 'share', 'of', 'the', 'same'), (5, 5)), (('CC', 'VBD', 'RP', ',', 'PRP', 'VBZ', 'JJ', '.'), ('and', 'called', 'out', ',', \"'who\", \"'s\", 'afraid', '?'), (6, 8)), (('CC', 'VBD', 'RP', ',', 'PRP', 'VBZ', 'JJ', '.'), ('and', 'called', 'out', ',', \"'who\", \"'s\", 'afraid', '?'), (6, 8)), (('DT', 'PRP$', 'NNS', 'VBD', 'JJ'), ('both', 'his', 'parents', 'were', 'proud'), (5, 6)), (('CC', 'VBD', 'NN', 'JJR', 'JJ'), ('and', 'bought', 'something', 'less', 'flash'), (5, 6)), (('VBD', ',', 'VBP', 'RB', 'VB', 'JJ'), ('said', ',', \"'do\", \"n't\", 'be', 'absurd'), (5, 6)), (('WITH', 'DT', 'NN', 'TO', 'VB', 'JJ'), ('with', 'a', 'chance', 'to', 'get', 'rich'), (6, 6)), (('NN', 'CC', 'DT', 'NN', 'POS', 'RB', 'JJ', 'JJ'), ('\\\\(', 'or', 'the', 'paper', \"'s\", 'too', 'long', '\\\\)'), (8, 9))], 'VBD': [(('IN', 'DT', 'NN', 'THAT', 'PRP', 'VBD'), ('in', 'the', 'bath', 'that', 'she', 'took'), (6, 6)), (('WHEN', 'DT', 'NN', 'VBD'), ('when', 'a', 'chance', 'came'), (4, 4)), (('VBD', 'DT', 'NNS', 'THAT', 'PRP', 'VBD'), ('were', 'the', 'friends', 'that', 'he', 'knew'), (6, 6)), (('CC', 'VBD', 'PRP', 'RB', 'VBD'), ('or', 'was', 'it', 'just', 'luck'), (5, 5)), (('WHEN', 'DT', 'NNS', 'VBD'), ('when', 'the', 'gentlemen', 'said'), (4, 6)), (('CC', 'JJR', 'NNS', 'PRP', 'VBD'), ('and', 'more', 'stars', 'she', 'spied'), (5, 5)), (('CC', 'RB', 'VBD'), ('and', 'jappily', 'sat'), (3, 3)), (('CC', 'JJR', 'NNS', 'PRP', 'VBD'), ('and', 'more', 'stars', 'she', 'spied'), (5, 5)), (('PRP$', 'NN', 'VBD', 'CC', 'VBD'), ('her', 'ma', 'came', 'and', 'tarried'), (5, 5)), (('CC', 'WP', 'PRP', 'RB', 'VBD'), ('and', 'what', 'he', 'then', 'said'), (5, 5)), (('VB', 'DT', 'NN', 'NNS', 'VBD'), ('till', 'the', 'jungle', 'folks', 'roared'), (5, 6)), (('PRP', 'VBD', 'CC', 'VBD'), ('he', 'giggled', 'and', 'said'), (4, 5)), (('RBR', 'NNS', 'PRP', 'VBD'), ('more', 'stars', 'she', 'espied'), (4, 4)), (('PRP', 'RB', 'VBD'), ('she', 'contentedly', 'cooed'), (3, 6)), (('DT', 'NN', 'VBD'), ('the', 'apple', 'fermented'), (3, 6)), (('IN', 'DT', 'NN', 'THAT', 'PRP', 'VBD'), ('in', 'the', 'bath', 'that', 'she', 'took'), (6, 6)), (('CC', 'VBD', 'PRP', 'RB', 'VBD'), ('or', 'was', 'it', 'just', 'luck'), (5, 5)), (('PRP', 'VBD', 'CC', 'VBD'), ('she', 'sighed', 'and', 'replied'), (4, 5))], 'SO': [(('IN', 'DT', 'SO'), ('instead of', 'another', 'so'), (3, 5))], 'RB': [(('PRP$', 'NN', 'VBD', 'RB'), ('her', 'complexion', 'did', 'too'), (4, 6)), (('CC', 'MD', 'VB', 'IN', 'NN', 'RB'), ('but', 'would', 'sleep', 'on', 'till', 'late'), (6, 6)), (('CC', 'VB', 'PRP', 'ABOUT'), ('and', 'wave', 'it', 'about'), (4, 5)), (('PRP', 'RB', 'VBD', 'RB'), ('he', 'never', 'came', 'back'), (4, 5)), (('CC', 'PRP$', 'NNS', 'RB'), ('and', 'their', 'gums', 'underneath'), (4, 6)), (('WITH', 'DT', 'NN', 'RB'), ('with', 'the', 'lady', 'inside'), (4, 6)), (('CC', 'RB', 'VB', 'RB', 'RB'), ('and', 'just', 'scarf', 'eos', 'down'), (5, 6)), (('CC', 'RB', 'VB', 'RB', 'RB'), ('and', 'just', 'scarf', 'eos', 'down'), (5, 6))], 'JJS': [(('WITH', 'NNS', 'IN', 'DT', 'JJS'), ('with', 'remains', 'of', 'the', 'best'), (5, 6))], 'WHILE': [(('CC', 'IN', 'DT', 'WHILE'), ('and', 'after', 'a', 'while'), (3, 5))], 'NNP': [(('DT', 'JJ', 'NN', 'NNP'), ('the', 'second', 'day', \"`munday'\"), (4, 5))], 'VB': [(('RB', 'NN', 'TO', 'VB'), ('lovely', 'poetry', 'to', 'write'), (4, 7)), (('RB', 'NN', 'TO', 'VB'), ('lovely', 'poetry', 'to', 'write'), (4, 7)), (('TO', 'VB', 'TO', 'CC', 'VB'), ('to', 'walk', 'to', 'and', 'fro'), (5, 5)), (('PRP', 'VBP', 'TO', 'VB'), ('I', 'want', 'to', 'deny'), (4, 5)), (('PRP', 'VBD', 'JJ', 'TO', 'VB'), ('he', 'was', 'ready', 'to', 'faint'), (5, 6)), (('IN', 'DT', 'NN', 'PRP', 'VBD', 'VB'), ('in', 'a', 'stove', 'she', 'did', 'bake'), (6, 6)), (('IN', 'DT', 'NNS', 'PRP', 'MD', 'VB'), ('at', 'the', 'things', 'he', \"'d\", 'forecast'), (6, 7)), (('IN', 'DT', 'NNS', 'PRP', 'MD', 'VB'), ('at', 'the', 'things', 'he', \"'d\", 'forecast'), (6, 7)), (('VBG', 'TO', 'VB'), ('attempting', 'to', 'learn'), (3, 5)), (('CC', 'THAT', 'MD', 'VB'), ('and', 'that', 'will', 'serve'), (4, 4)), (('DT', 'NN', 'VBZ', 'TO', 'VB'), ('no', 'one', 'seems', 'to', 'ceir'), (5, 5)), (('RB', 'AS', 'JJ', 'AS', 'MD', 'VB'), ('just', 'as', 'plain', 'as', 'can', 'be'), (6, 6))], 'VBN': [(('VBN', ',', 'PRP', 'VBP', 'VBN'), ('preceded', ',', 'I', 'have', 'found'), (4, 6)), (('CC', 'DT', 'NN', 'MD', 'VB', 'VBN'), ('but', 'no', 'horse', 'could', 'be', 'found'), (6, 6)), (('WHEN', 'IN', 'JJS', 'PRP', 'VBD', 'VBN'), ('when', 'at', 'least', 'she', 'was', 'wed'), (6, 6)), (('VB', 'RB', ',', 'VB', 'POS', 'VB', 'VBN'), ('come', 'away', ',', 'let', \"'s\", 'be', 'wed'), (6, 7)), (('PRP$', 'NN', 'VBN'), ('her', 'appearance', 'improved'), (3, 6)), (('DT', 'NN', 'IN', 'PRP$', 'VBN'), ('every', 'night', 'in', 'his', 'shed'), (5, 7)), (('WHEN', 'IN', 'JJS', 'PRP', 'VBD', 'VBN'), ('when', 'at', 'least', 'she', 'was', 'wed'), (6, 6))], 'DT': [(('PRP', 'VBD', 'NN', 'IN', 'DT'), ('he', 'wore', 'nothing', 'at', 'all'), (5, 6)), (('PRP', 'VBD', 'NN', 'IN', 'DT'), ('he', 'knew', 'nothing', 'at', 'all'), (5, 6)), (('VBD', 'DT', 'NN', 'IN', 'DT'), ('was', 'no', 'use', 'at', 'all'), (5, 5))], 'MD': [(('NN', 'THAT', 'PRP', 'MD'), ('anything', 'that', 'he', 'can'), (4, 6))]}), 'fifth': defaultdict(<class 'list'>, {'PRP': [(('IN', 'DT', 'NN', 'VBN', 'IN', 'VBG', 'PRP'), ('of', 'the', 'bishop', 'engaged', 'in', 'confirming', \"'em\"), (7, 11)), (('CC', 'RB', 'EX', 'VBD', 'JJ', 'JJ', 'IN', 'PRP'), ('and', 'right', 'there', 'became', 'awful', 'sick', 'in', \"'em\"), (8, 10)), (('MD', 'VB', 'VBD', 'DT', 'NN', 'VBN', 'IN', 'PRP'), ('would', 'arise', 'were', 'the', 'kid', 'taken', 'from', 'us'), (8, 10)), (('CC', 'DT', 'NN', 'MD', 'RB', 'MD', 'DT', 'MD', ',', 'MD', 'PRP'), ('but', 'a', 'canner', 'ca', \"n't\", 'can', 'a', 'can', ',', 'can', 'he'), (10, 11))], 'POS': [(('THAT', 'DT', 'NN', 'VBD', 'RB', 'PRP$', 'NN', 'POS'), ('that', 'the', 'outfit', 'was', 'really', 'his', 'mama', \"'s\"), (8, 11)), (('NN', '.', 'NN', 'IN', 'DT', 'NN', 'IN', 'DT', 'NN', 'POS'), ('`oh', '!', 'look', 'at', 'the', 'legs', 'on', 'the', 'table', \"'\"), (9, 10)), (('PRP', 'MD', 'RB', 'VB', 'NNS', 'IN', 'CD', 'NNS', 'POS'), ('you', 'can', \"n't\", 'put', 'toucans', 'in', 'two', 'cans', \"'\"), (9, 9)), (('CC', 'PRP', 'VBP', 'VBN', 'IN', 'IN', 'NNS', 'IN', 'DT', 'NN', 'POS'), ('and', 'I', 'am', 'made', 'out', 'of', 'curds', 'by', 'the', 'whey', \"'\"), (11, 11)), (('VBZ', 'JJR', 'THAN', 'PRP$', 'JJ', 'NNS', 'POS'), ('is', 'more', 'than', 'your', 'scholarship', 'warrants', \"'\"), (7, 10))], 'NN': [(('RB', 'PRP', 'VBP', 'VBG', 'DT', 'NN', 'IN', 'NN'), ('now', 'they', 'are', 'fishing', 'the', 'fissure', 'for', 'fisher'), (8, 11)), (('CC', 'VBD', 'DT', 'NN', 'WITH', 'NN'), ('and', 'finished', 'the', 'solo', 'with', 'honour'), (6, 9)), (('VBD', 'DT', 'NN', 'DT', 'JJR', 'THAN', 'NN'), ('was', 'a', 'tipple', 'no', 'stronger', 'than', 'toui'), (7, 9)), (('VBZ', 'CC', 'VBZ', 'DT', 'NN'), ('perspires', 'and', 'pushes', 'no', 'mower'), (5, 7)), (('TO', 'VB', 'JJ', 'NNS', 'IN', 'PRP', 'NN'), ('to', 'balance', 'green', 'peas', 'on', 'her', 'fork'), (7, 8)), (('VBZ', 'DT', 'NN', 'DT', 'NN', 'NN', '.'), ('is', 'a', 'buttress', 'a', 'feminine', 'butter', '?'), (6, 11)), (('PRP', 'RB', 'VBD', 'PRP$', 'NN'), ('he', 'never', 'completed', 'his', 'task'), (5, 8)), (('IN', 'DT', 'NN', 'CC', 'NN', 'CC', 'NN'), ('of', 'the', 'gravy', 'and', 'chicken', 'and', 'ham'), (7, 9)), (('VBP', 'DT', 'VBN', 'PRP$', 'NNS', 'IN', 'PRP$', 'NN', '.'), ('have', 'all', 'built', 'their', 'nests', 'in', 'my', 'beard', '!'), (8, 9)), (('VBP', 'JJ', 'TO', 'VB', 'IN', 'PRP$', 'NN', '.'), ('are', 'welcome', 'to', 'sit', 'on', 'my', 'bonnet', '!'), (7, 10)), (('WHEN', 'DT', 'NN', 'VBD', 'CD', 'RB', 'VB', 'DT', 'NN', '.'), ('when', 'the', 'moon', 'said', \"'do\", \"n't\", 'be', 'a', 'buffoon', '!'), (9, 11)), (('RB', 'PRP', 'VBD', 'PRP', 'NN', 'IN', 'DT', 'NN'), ('then', 'he', 'walloped', 'me', 'square', 'in', 'the', 'face'), (8, 8)), ((',', 'SO', 'PRP', 'VBP', 'IN', 'DT', 'NN'), (',', 'so', 'they', 'played', 'on', 'the', 'lynx'), (6, 6)), (('IN', 'THAT', 'NN', 'IN', 'NN'), ('by', 'that', 'lady', 'of', 'russia'), (5, 7)), (('WHICH', 'VBD', 'THAT', 'NN', 'IN', 'NN'), ('which', 'refreshed', 'that', 'person', 'of', 'ewell'), (6, 9)), (('CC', 'DT', 'NN', 'IN', 'DT', 'JJ', 'NN'), ('or', 'the', 'joy', 'of', 'a', 'pleasant', 'surprise'), (7, 9)), (('CC', 'PRP', 'VBP', 'THAT', 'PRP$', 'NN', 'VBZ', 'DT', 'NN'), ('and', 'I', 'hope', 'that', 'your', 'day', 'is', 'a', 'blast'), (9, 9)), (('PRP$', 'NN', 'POS', 'JJ', 'NN'), ('my', 'neighbor', \"'s\", 'fat', 'wife'), (5, 6)), (('IN', 'DT', 'NNS', 'IN', 'NN'), ('like', 'the', 'movies', 'of', 'tandy'), (5, 7)), (('WITH', 'DT', 'JJ', 'NN', 'IN', 'NN', 'IN', 'PRP$', 'NN'), ('with', 'a', 'nice', 'head', 'of', 'hair', 'on', 'his', 'pate'), (9, 9)), (('CC', 'VBD', 'WITH', 'DT', 'JJ', 'NN'), ('and', 'retired', 'with', 'a', 'bad', 'stomach ache'), (6, 7)), (('CC', 'THAT', 'VBZ', 'DT', 'NN', 'IN', 'DT', 'NN'), ('and', 'that', 'is', 'the', 'cause', 'of', 'this', 'sonnet'), (8, 9)), (('IN', 'NN', ',', 'PRP', 'MD', 'RB', 'VB', 'NN'), ('in', 'fact', ',', 'they', 'could', 'hardly', 'get', 'ynne'), (7, 8)), (('PRP', 'RB', 'VBD', 'DT', 'NN'), ('he', 'carelessly', 'stuck', 'a', 'verbena'), (5, 9)), (('IN', 'PRP$', 'JJ', 'NN'), ('because of', 'his', 'scanty', 'regalia'), (4, 7)), (('WHICH', 'VBZ', 'PRP', 'IN', 'RB', 'JJ', 'NN'), ('which', 'leaves', 'him', 'in', 'very', 'bad', 'shape'), (7, 8)), (('IN', 'CD', 'NNS', 'VBD', 'JJ', 'IN', 'NN'), ('for', 'six', 'sikhs', 'were', 'seasick', 'at', 'eos'), (7, 9)), (('VBD', 'RB', 'DT', 'JJ', 'NN'), ('found', 'only', 'a', 'sleeveless', 'tuxedo'), (5, 9)), (('CC', 'DT', 'NN', 'RB', 'VBD', 'DT', 'JJ', 'NN'), ('and', 'the', 'captain', 'then', 'swore', 'a', 'whole', 'lacht'), (8, 9)), (('IN', 'RB', 'VBG', 'PRP', 'JJ', 'NN'), ('for', 'not', 'selling', 'her', 'waterproof', 'paint'), (6, 9)), (('WHEN', 'DT', 'JJ', 'NN', 'VBD', 'VBN', 'IN', 'NN'), ('when', 'the', 'wrong', 'tooth', 'was', 'pulled', 'by', 'mistake'), (8, 9)), (('CC', 'VBD', 'PRP', 'JJ', 'NN'), ('and', 'showed', 'him', 'many', 'cstar'), (5, 6)), (('WHEN', 'PRP', 'VBP', 'PRP', ',', 'PRP', 'VBP', 'VBN', 'DT', 'NN'), ('when', 'I', 'wear', 'it', ',', 'I', 'am', 'called', 'a', 'vermine'), (9, 9)), (('VBP', 'VBG', 'DT', 'NN', 'IN', 'PRP$', 'NN'), ('are', 'making', 'a', 'nest', 'in', 'my', 'beard'), (7, 8)), (('CC', 'VBD', 'IN', 'DT', 'JJ', 'NN'), ('and', 'returned', 'on', 'the', 'previous', 'night'), (6, 9)), (('DT', 'NN', 'VBZ', 'VBN', 'NN'), ('the', 'confusion', 'is', 'called', 'harem-scarem'), (5, 7)), (('CC', 'AS', 'RB', 'AS', 'DT', 'NN'), ('and', 'as', 'far', 'as', 'the', 'bucket'), (6, 7)), (('THAT', 'PRP', 'VBD', 'PRP', 'JJ', 'NN'), ('that', 'she', 'pickled', 'her', 'internal', \"workins'\"), (6, 9)), (('IN', 'DT', 'NN', 'IN', 'NN', 'TO', 'NN'), ('of', 'the', 'distance', 'from', 'object', 'to', 'source'), (7, 9)), (('VBD', 'VBG', 'PRP$', 'IN', 'DT', 'NN'), ('kept', 'insuring', 'her', 'during', 'the', 'service'), (6, 10)), (('SO', 'PRP', 'VBP', 'THROUGH', 'DT', 'NN', 'IN', 'DT', 'NN'), ('so', 'they', 'flew', 'through', 'a', 'flaw', 'in', 'the', 'flue'), (9, 9)), (('CC', 'PRP', 'VBP', 'VBN', 'TO', 'DT', 'NN', 'WITH', 'NN'), ('and', 'I', 'am', 'stuck', 'to', 'the', 'toilet', 'with', 'glue'), (9, 10)), (('NNS', 'IN', 'IN', 'PRP$', 'NNS', 'IN', 'NN'), ('seeps', 'out', 'of', 'my', 'pockets', 'like', 'honey'), (7, 9)), (('WHEN', 'PRP', 'VBP', 'PRP', ',', 'PRP', 'VBP', 'VBN', 'RB', 'NN'), ('when', 'I', 'wear', 'it', ',', 'I', 'am', 'called', 'only', 'vermin'), (9, 11)), (('SO', 'PRP', 'VBD', 'RB', 'CC', 'VB', 'IN', 'DT', 'NN'), ('so', 'he', 'jumped', 'up', 'and', 'spat', 'on', 'the', 'ceiling'), (9, 10)), (('AS', 'PRP', 'VBD', 'TO', 'VB', ',', 'PRP', 'VBP', 'DT', 'NN'), ('as', 'it', 'tried', 'to', 'explain', ',', 'I', 'am', 'a', 'spi'), (9, 10)), (('WITH', 'PRP$', 'NN', 'CC', 'NN', 'IN', 'DT', 'NN'), ('with', 'his', 'spanner', 'and', 'jack', 'in', 'the', 'box'), (8, 9)), (('CC', 'TO', 'VB', 'PRP', 'JJ', 'NNS', 'IN', 'NN'), ('and', 'to', 'write', 'it', 'used', 'acres', 'of', 'time'), (8, 9)), (('POS', 'VB', 'PDT', 'DT', 'NN', 'NN'), (\"'twill\", 'take', 'all', 'the', 'afternoon', 'cleaning'), (6, 10)), (('DT', 'NN', 'JJ', 'NN', 'POS', 'NN', 'DT', 'NN'), ('the', \"bloomin'\", 'old', 'tub', \"'s\", 'sprung', 'a', 'leak'), (8, 9)), (('PRP', 'VBD', 'PRP$', 'JJ', 'NNS', 'CC', 'CD', 'NN'), ('they', 'found', 'his', 'front', 'teeth', 'and', 'one', 'cuff'), (8, 8)), (('PRP', 'RB', 'VBP', 'IN', 'DT', 'NN', '.'), ('I', 'invariably', 'get', 'in', 'a', 'stew', '!'), (6, 11)), (('NN', 'VBD', ',', 'PRP', 'VBZ', 'DT', 'JJ', 'NN', 'IN', 'NN'), ('bo', 'said', ',', 'it', 'is', 'a', 'polar', 'bear', 'in', 'snow'), (9, 10)), (('WHICH', 'VBD', 'THAT', 'NN'), ('which', 'distracted', 'that', 'bull'), (4, 6)), (('PRP', 'MD', 'VB', 'RP', 'DT', 'NN'), ('they', \"'d\", 'kick', 'up', 'a', 'hullabaloo'), (6, 9)), (('CC', 'VBD', 'PRP$', 'NN', 'DT', 'NN'), ('and', 'gave', 'his', 'proboscis', 'a', 'tweak'), (6, 8)), (('THAT', 'PRP$', 'NN', 'VBD', 'NN'), ('that', 'her', 'head', 'was', 'bare'), (5, 5)), (('CC', 'VBD', 'PRP$', 'IN', 'PRP', 'VBD', 'NN'), ('and', 'kissed', 'her', 'because', 'he', 'was', 'wuise'), (7, 8)), (('CC', 'RB', 'JJ', 'IN', 'NN'), ('and', 'quite', 'independent', 'of', 'girth'), (5, 8)), (('CC', 'PRP', 'VBZ', 'RB', 'VB', 'IN', 'PRP$', 'NN'), ('but', 'it', 'does', \"n't\", 'come', 'out of', 'my', 'purse'), (8, 8)), (('WP', 'VBD', 'VBN', 'IN', 'DT', 'NN', 'NN'), ('what', 'was', 'shown', 'on', 'the', 'cinema', 'screen'), (7, 9)), (('RB', ',', 'PRP', 'VBD', 'JJ', 'NN'), ('alas', ',', 'he', 'proved', 'treaulieu', 'unreaulieu'), (5, 6)), (('RB', ',', 'PRP', 'VBD', 'JJ', 'NN'), ('alas', ',', 'he', 'proved', 'treaulieu', 'unreaulieu'), (5, 6)), (('RB', 'DT', 'VBN', 'IN', 'NN'), ('then', 'both', 'skedaddled', 'from', 'eden'), (5, 6)), (('IN', 'DT', 'WITH', 'NNS', 'IN', 'IN', 'NN'), ('by', 'another', 'with', 'beans', 'from', 'near', 'fargo'), (7, 10)), (('SO', 'PRP', 'RB', 'VB', ',', 'IN', 'NN'), ('so', 'he', 'just', 'rhododendron', ',', 'of', 'course'), (6, 9)), (('PRP', 'VBD', 'RB', 'VB', 'NN', 'VBD', 'DT', 'NN'), ('I', 'did', \"n't\", 'think', 'life', 'was', 'this', 'way'), (8, 8)), (('CC', 'PRP', 'VBD', 'CC', 'PRP', 'VBD', ',', 'NN'), ('but', 'she', 'sighed', 'and', 'she', 'said', ',', 'canteloupe'), (7, 7)), (('VBG', 'TO', 'VB', 'NN'), ('pretending', 'to', 'represent', 'chile'), (4, 9)), (('CC', 'RB', 'PRP', 'VBZ', 'DT', 'NN', 'NN'), ('and', 'now', 'he', \"'s\", 'a', 'college', 'professor'), (7, 10)), (('DT', 'IN', 'DT', 'NN', 'IN', 'NN'), ('all', 'of', 'this', 'homework', 'after', 'school'), (6, 8)), (('THAT', 'NN', 'IN', 'DT', 'NN'), ('that', 'man', 'in', 'a', 'boat'), (5, 5)), (('THAT', 'NN', 'IN', 'NN'), ('that', 'man', 'of', 'peru'), (4, 5)), (('CC', 'VB', 'NN', 'TO', 'PRP$', 'NN', 'IN', 'NN'), ('and', 'give', 'vent', 'to', 'their', 'terror', 'in', 'scremyss'), (8, 9)), (('VBP', 'DT', 'JJ', 'NNS', 'IN', 'DT', 'NN'), ('are', 'all', 'easy', 'marks', 'for', 'a', 'jolly'), (7, 9)), (('DT', 'NN', 'IN', 'NN'), ('the', 'theory', 'of', 'witten'), (4, 6)), (('AS', 'DT', 'JJ', 'NN'), ('as', 'the', 'unique', 'motivation'), (4, 8)), (('THAT', 'PRP', 'VBP', 'RB', 'VBN', 'VBN', 'WITH', 'DT', 'NN'), ('that', 'I', 'have', \"n't\", 'been', 'born', 'with', 'a', 'breign'), (9, 10)), (('CC', 'PRP', 'VBD', 'RB', 'CC', 'VBD', 'PRP$', 'NN'), ('and', 'it', 'dropped', 'down', 'and', 'ruined', 'her', 'gown'), (8, 9)), (('CC', 'RB', 'VB', 'RB', 'NN'), ('and', 'sometimes', 'get', 'quite', 'cranky'), (5, 7)), (('THAT', 'VBD', 'JJ', ',', 'RB', 'IN', 'NN'), ('that', 'were', 'funny', ',', 'just', 'like', 'fudd'), (6, 7)), (('THAT', 'NN', 'IN', 'NN'), ('that', 'person', 'of', 'ischia'), (4, 5)), (('IN', 'DT', 'NN', 'WITH', 'PRP$', 'NN', 'CC', 'NN'), ('on', 'the', 'phone', 'with', 'your', 'brother', 'or', 'seester'), (8, 9)), (('RB', 'VBD', 'IN', 'DT', 'NN', 'IN', 'NN'), ('then', 'fell', 'into', 'a', 'vat', 'of', 'grease'), (7, 8)), (('CC', 'RB', 'MD', 'VB', 'DT', 'NN'), ('and', 'soon', 'could', 'afford', 'a', 'rolls-royce'), (6, 7)), (('IN', 'DT', 'NN', 'VBZ', 'VBN', 'RP', 'PRP$', 'NN'), ('for', 'a', 'surgeon', 'has', 'cut', 'off', 'his', 'fuite'), (8, 9)), (('MD', 'VB', 'DT', 'NN', 'IN', 'NN'), ('may', 'evolve', 'a', 'professor', 'at', 'yale'), (6, 9)), (('IN', 'DT', 'NN', ',', 'VBG', 'NN', '.'), ('upon', 'the', 'fence', ',', 'crying', 'hooray', '!'), (5, 8)), (('THAN', 'VB', 'TO', 'DT', 'JJ', 'NN'), ('than', 'belong', 'to', 'the', 'star-spangled', 'banner'), (6, 8)), (('CC', 'PRP', 'VBD', 'RB', 'IN', 'NN', 'IN', 'NN'), ('and', 'he', 'did', \"n't\", 'like', 'mother', 'of', 'pearl'), (8, 9)), (('VBD', 'RB', 'DT', 'NN', 'IN', 'NN'), ('was', 'quite', 'the', 'reverse', 'of', \"'hosanna'\"), (6, 7)), (('RB', 'PRP$', 'NN', 'VBD', 'DT', 'NN', 'IN', 'PRP$', 'NN'), ('then', 'his', 'wife', 'tied', 'a', 'knot', 'in', 'his', 'trunk'), (9, 9)), (('PRP', 'VBP', 'RB', 'VB', ',', 'PRP', 'RB', 'VBD', 'IN', 'DT', 'NN'), ('I', 'do', \"n't\", 'know', ',', 'I', 'just', 'came', 'for', 'the', 'ride'), (10, 10)), (('THAN', 'EX', 'VBP', 'IN', 'DT', 'JJ', 'NN'), ('than', 'there', 'are', 'in', 'the', 'star-spangled', 'banner'), (7, 8)), (('AS', 'PRP', 'VBD', 'RP', 'CD', 'NNS', 'IN', 'PRP$', 'NN'), ('as', 'she', 'let', 'out', 'three', 'tucks', 'in', 'her', 'tunic'), (9, 10)), (('CC', 'VBD', 'NN', 'IN', 'PRP$', 'NN'), ('and', 'made', 'cider', 'inside', 'her', 'inside'), (6, 9)), (('VBD', 'RP', 'TO', 'VB', 'NN', 'IN', 'NN'), ('turned', 'out', 'to', 'be', 'plaster', 'of', 'paris'), (7, 9)), (('IN', 'PRP', 'VBP', 'THAT', 'PRP', 'VBP', 'PRP', 'VBZ', 'JJ', ',', 'NN'), ('for', 'I', 'fear', 'that', 'I', 'am', 'handel', \"'s\", 'miss', ',', 'sire'), (10, 12)), (('DT', 'NNS', 'VBN', 'RB', 'IN', 'WITH', 'NN'), ('the', 'police', 'have', 'been', 'here', 'with', 'some', 'worrence'), (7, 10)), (('IN', 'DT', 'JJ', 'NN', 'NN'), ('in', 'a', 'sugary', 'takeover', 'bid'), (5, 9)), (('CC', 'DT', 'NN', 'IN', 'DT', 'NN', 'IN', 'DT', 'NN'), ('and', 'the', 'smile', 'on', 'the', 'face', 'of', 'the', 'tiger'), (9, 10)), (('VBD', 'RB', ',', 'CC', 'VBD', 'VBN', 'NN'), ('sat', 'down', ',', 'and', 'was', 'bitten', 'beneath'), (6, 8)), (('PRP', 'VBD', 'WHEN', 'PRP', 'VBP', 'IN', 'NN'), ('I', 'relaxed', 'when', 'I', 'eos', 'across', 'aunt'), (7, 11)), (('TO', 'DT', 'NN', 'WP', 'VBD', 'VBN', 'IN', 'DT', 'NN'), ('to', 'a', 'man', 'who', 'was', 'shaped', 'like', 'a', 'cello'), (9, 10))], 'VB': [(('TO', 'VB', 'CD', 'NNS', 'TO', 'VB'), ('to', 'tutor', 'two', 'tutors', 'to', 'toot'), (6, 8)), (('RB', 'AS', 'DT', 'JJ', 'NN', 'MD', 'VB'), ('just', 'as', 'every', 'sweet', 'maiden', 'should', 'dioux'), (7, 10)), (('PRP', 'VBD', 'JJ', 'TO', 'VB', 'CC', 'TO', 'VB'), ('she', 'was', 'ready', 'to', 'give', 'and', 'to', 'take'), (8, 9)), (('IN', 'DT', 'NN', 'VBD', 'CC', 'VB'), ('because', 'the', 'man', 'bullied', 'and', 'boucestcr'), (6, 8)), (('CC', 'DT', 'NN', 'NN', 'VBD', 'PRP', 'VB'), ('but', 'the', 'telephone', 'book', 'caused', 'him', 'pain'), (7, 9)), (('WHICH', 'PRP$', 'NN', 'MD', 'RB', 'VB', ',', 'JJ', 'TO', 'VB'), ('which', 'his', 'faith', 'could', \"n't\", 'heal', ',', 'strange', 'to', 'say'), (9, 9)), (('JJ', 'NNS', 'VBZ', 'DT', 'NN', 'PRP', 'MD', 'VB'), ('thirty', 'days', 'is', 'the', 'time', 'he', 'will', 'do'), (8, 9)), (('CC', 'PRP', 'VBP', 'THAT', 'PRP', 'RB', 'VB'), ('but', 'I', 'guess', 'that', 'you', 'probably', 'gnu'), (7, 9)), (('CC', 'NN', ',', 'NN', 'RB', ',', 'CC', 'RB', 'PRP', 'MD', 'VB'), ('and', 'shout', ',', 'freeze', 'there', ',', 'or', 'else', 'I', 'will', 'cheroot'), (9, 9)), (('SO', 'PRP', 'RB', 'RB', 'VBD', 'RB', 'TO', 'VB'), ('so', 'he', 'very', 'soon', 'went', 'back', 'to', 'dover'), (8, 10)), (('CC', 'VBD', 'RB', 'IN', 'PRP$', 'NNS', 'VB'), ('but', 'slept', 'poorly', 'because', 'her', 'toes', 'froze'), (7, 9)), (('VBD', 'PRP$', 'NN', 'NN', 'PRP$', 'NNS', 'CC', 'VB'), ('put', 'his', 'arm', 'round', 'her', 'shoulders', 'and', 'kr'), (8, 9)), (('VBP', 'WRB', 'JJ', '.', 'DT', 'NNS', 'MD', 'VB'), ('oh', 'how', 'modern', '!', 'the', 'critics', 'will', 'say'), (7, 9)), (('CC', 'MD', ',', 'IF', 'PRP', 'VBD', 'RB', 'VB'), ('and', 'would', ',', 'if', 'I', 'did', \"n't\", 'forgezzo'), (7, 8)), (('RB', 'PRP', 'VBP', 'JJ', 'WITH', 'DT', 'NN', 'TO', 'VB'), ('now', 'I', 'am', 'homeless', 'with', 'no', 'place', 'to', 'stay'), (9, 10)), (('DT', 'JJ', 'NN', 'VBD', 'DT', 'NN', 'TO', 'VB'), ('the', 'old', 'dame', 'said', 'no', 'word', 'to', 'rebuchre'), (8, 8)), (('IN', 'DT', 'NN', 'NNS', 'PRP', 'MD', 'VB'), ('from', 'the', 'comedy', 'roles', 'he', 'could', 'play'), (7, 9))], 'PRP$': [(('NNP', 'JJ', 'RB', 'TO', 'VB', 'PRP$'), ('`twas', 'impossible', 'ever', 'to', 'fill', 'her'), (6, 10)), (('DT', 'IN', 'WHICH', ',', 'DT', 'NN', 'VBD', ',', 'VBD', 'PRP$'), ('all', 'of', 'which', ',', 'the', 'lady', 'said', ',', 'shocked', 'her'), (8, 9))], 'NNS': [(('CC', 'VBN', 'VBG', 'IN', 'NNS', 'CC', 'JJ', 'NNS'), ('and', 'been', 'feasting', 'on', 'peas', 'and', 'green', 'beans'), (8, 9)), (('IN', 'PRP', 'VBD', 'VBG', 'PRP$', 'NNS'), ('because', 'I', 'was', 'sniffing', 'my', 'toes'), (6, 8)), (('THAT', 'JJ', 'JJ', 'NN', 'IN', 'NNS'), ('that', 'unlucky', 'old', 'person', 'of', 'ems'), (6, 9)), (('THAT', 'JJ', 'JJ', 'NN', 'IN', 'NNS'), ('that', 'unlucky', 'old', 'person', 'of', 'ems'), (6, 9)), (('CC', 'PRP$', 'NNS', 'VBD', 'RB', 'TO', 'PRP$', 'NNS'), ('but', 'her', 'glasses', 'slipped', 'down', 'to', 'her', 'toes'), (8, 9)), (('IN', 'PRP$', 'NN', 'CC', 'NN', 'NNS'), ('of', 'their', 'city', 'and', 'town', 'promenades'), (6, 9)), (('DT', 'VBD', 'RB', 'VB', 'TO', 'PRP$', 'NNS'), ('this', 'did', \"n't\", 'apply', 'to', 'her', 'feet'), (7, 8)), (('CC', 'PRP', 'VBD', 'RB', 'JJ', 'NN', 'NNS'), ('and', 'she', 'baked', 'really', 'great', 'apple', 'pies'), (7, 9)), (('CC', 'PRP', 'MD', 'RB', 'VB', 'PRP$', 'NN', 'IN', 'PRP$', 'NNS'), ('and', 'he', 'can', \"n't\", 'tell', 'his', 'head', 'from', 'his', 'feet'), (10, 10)), (('PRP', 'VBP', 'VBG', 'PRP', ',', 'IN', 'NNS'), ('you', 'are', 'killing', 'yourself', ',', 'by', 'degrees'), (6, 9)), (('WHEN', 'PRP', 'VBD', 'EX', 'VBD', 'CD', 'JJ', 'NNS'), ('when', 'he', 'saw', 'there', 'were', 'six', 'little', 'chips'), (8, 9)), (('CC', 'DT', 'JJ', 'VBD', 'JJ', 'NNS'), ('but', 'the', 'other', 'won', 'several', 'prizes'), (6, 10))], 'VBD': [(('SO', 'IN', 'NN', 'PRP', 'VBD'), ('so', 'for', 'over-achievement', 'he', 'strived'), (5, 5)), (('PRP', 'VBD', 'RB', 'DT', 'NN', 'PRP', 'VBD'), ('he', 'was', \"n't\", 'the', 'wizard', 'he', 'woz'), (7, 8)), (('AS', 'PRP$', 'NN', 'CC', 'NN', 'VBD'), ('as', 'his', 'talent', 'and', 'confidence', 'swelled'), (6, 9)), (('RB', 'PRP', 'VBP', 'IN', 'PRP$', 'NN', 'CC', 'VBD'), ('then', 'I', 'sat', 'on', 'my', 'moped', 'and', 'moped'), (8, 8)), (('CC', 'DT', 'NN', 'VBZ', 'WHICH', 'NN', 'PRP', 'VBD'), ('and', 'no', 'one', 'knows', 'which', 'way', 'she', 'went'), (8, 8)), (('CC', 'PRP', 'VBD', 'PRP$', 'NNS', 'CC', 'VBD'), ('but', 'he', 'thanked', 'his', 'detractors', 'and', 'bowed'), (7, 9)), (('PRP', 'VBD', 'RP', 'IN', 'NN', 'CC', 'VBD'), ('she', 'sat', 'up', 'in', 'bed', 'and', 'meowed'), (7, 7))], 'VBN': [(('CC', 'DT', 'NN', 'THAT', 'VBZ', 'VBN', 'RB', 'VBN'), ('or', 'a', 'lamb', 'that', \"'s\", 'been', 'recently', 'fleeced'), (8, 10)), (('CC', 'IN', 'RB', 'VBZ', 'RB', 'VBN'), ('and', 'since', 'then', 'has', 'never', 'benzene'), (6, 8)), (('CC', 'VBZ', 'PRP', 'MD', 'RB', 'VB', 'VBN'), ('and', 'sideways', 'he', 'could', \"n't\", 'be', 'seen'), (7, 8)), (('PRP', 'VBP', 'RB', 'VBN', 'IN', 'DT', 'NN', 'PRP', 'VBD', 'VBN'), ('I', 'have', 'not', 'used', 'since', 'the', 'year', 'I', 'was', 'born'), (10, 10)), (('IF', 'VBN', ',', 'IN', 'PRP$', 'JJS', 'NN', 'VBZ', 'VBN'), ('if', 'dressed', ',', 'for', 'my', 'best', 'frock', 'is', 'frayed'), (8, 9))], 'VBP': [(('RB', ',', 'PRP', 'MD', 'VB', 'PRP', 'NN', ',', 'PRP', 'VBP'), ('well', ',', 'I', 'will', 'do', 'it', 'tomorrow', ',', 'I', 'mean'), (8, 10)), (('CC', 'PRP', 'VBD', 'NN', 'RB', 'VBP'), ('and', 'she', 'reached', 'home', 'exceedingly', 'plain'), (6, 9)), (('CC', 'RB', 'DT', 'JJ', 'NN', 'PRP', 'VBP'), ('and', 'now', 'a', 'new', 'teacher', 'they', 'seek'), (7, 8)), (('PRP', 'VBZ', 'DT', 'NNS', 'IN', 'NN', 'THAT', 'PRP', 'VBP'), ('it', \"'s\", 'the', 'people', 'in', 'front', 'that', 'I', 'jar'), (9, 10)), (('IN', 'DT', 'JJ', 'NN', 'PRP', 'VBP'), ('of', 'the', 'classical', 'music', 'I', 'play'), (6, 9)), (('JJ', 'NN', 'VBZ', 'JJ', ',', 'PRP', 'VBP'), (\"'to\", 'drink', 'is', 'forbidden', ',', 'you', 'loon'), (6, 9)), (('DT', ',', 'VB', 'PRP', 'RB', 'VB', 'PRP', ',', 'PRP', 'VBP'), ('no', ',', 'igloo', 'them', 'not', 'sew', 'them', ',', 'you', 'know'), (8, 9))], 'RB': [(('JJ', 'MD', 'TO', 'VB', 'RP', 'RB', 'RB', '.'), ('`you', 'ought', 'to', 'go', 'out', 'there', 'again', '!'), (7, 9)), (('VBD', 'DT', 'NN', 'IN', 'DT', 'NN', 'RB', 'RB'), ('dumped', 'the', 'boy', 'in', 'a', 'bin', 'upside', 'down'), (8, 9)), (('CC', 'MD', 'RB', 'VB', 'RB', 'RB'), ('and', 'could', \"n't\", 'bend', 'back', 'again'), (6, 7)), (('VBZ', 'TO', 'VB', 'PRP$', 'NN', 'NN', 'RB'), ('hopes', 'to', 'draw', 'his', 'insurance', 'cheque', 'soon'), (7, 9)), (('CC', 'DT', 'NN', 'MD', 'VB', 'VBG', 'CD', ',', 'RB'), ('or', 'the', 'rest', 'will', 'be', 'wanting', 'one', ',', 'too'), (8, 9))], 'JJ': [(('IN', 'DT', 'NN', 'VBZ', 'VBN', ',', 'SO', 'VBZ', 'PRP$', 'JJ'), ('for', 'the', 'corn', 'is', 'gone', ',', 'so', 'is', 'her', 'teaux'), (9, 9)), (('CC', 'RB', 'DT', 'JJ', 'NN', 'VBZ', 'RB', 'JJ'), ('and', 'now', 'the', 'dumb', 'thing', 'is', 'too', 'small'), (8, 8)), (('CC', 'VBD', 'DT', 'JJ'), ('and', 'shocked', 'the', 'ultra-fastidious'), (4, 4)), (('VB', 'IN', 'JJ', 'VB', 'JJ', 'JJ'), ('be', 'before', 'phoebe', 'be', 'phoebe', 'bee-bee'), (6, 9)), (('AS', 'IF', 'PRP', 'MD', 'VBN', 'JJ'), ('as', 'if', 'he', \"'d\", 'been', 'invited'), (6, 8)), (('THAT', 'NN', 'VBD', 'RB', 'JJ', ',', 'PRP', 'VBD', 'JJ'), ('that', 'bird', 'was', \"n't\", 'black', ',', 'he', 'was', 'yellow'), (8, 9)), (('TO', 'VB', 'PRP$', 'JJ', 'NN', 'JJ'), ('to', 'call', 'my', 'last', 'novel', 'impure'), (6, 9)), (('CC', 'VBG', 'VBP', 'PRP', 'VBZ', 'CC', 'JJ', '.'), ('and', 'awakening', 'find', 'it', \"'s\", 'but', 'dreymss', '!'), (7, 11)), (('CC', 'VBG', 'VBP', 'PRP', 'VBZ', 'CC', 'JJ', '.'), ('and', 'awakening', 'find', 'it', \"'s\", 'but', 'dreyrnss', '!'), (7, 11)), (('CC', 'DT', 'NNS', 'DT', 'VBD', 'NNP', 'RB', 'JJ'), ('but', 'the', 'others', 'all', 'thought', \"'twas\", 'too', 'breezy'), (8, 10)), (('THAT', 'DT', 'NN', 'VBD', 'JJ', 'CC', 'JJ'), ('that', 'no', 'one', 'was', 'present', 'but', 'smarty'), (7, 9)), (('CC', 'VBZ', 'NN', 'VB', 'NNS', 'SO', 'JJ'), ('or', 'does', 'gravity', 'miss', 'things', 'so', 'small'), (7, 9)), (('WITH', 'DT', 'JJ', 'JJ', 'NN', 'PRP', 'VBZ', 'JJ'), ('with', 'the', 'old', 'black', 'decker', \"'\", 'he', \"'s\", 'skilled'), (8, 10)), (('RB', 'VB', 'RP', 'DT', 'JJ', 'CC', 'JJ'), ('then', 'wake', 'up', 'all', 'snappy', 'and', 'snarly'), (7, 8))], 'IN': [(('CC', 'CD', 'NN', 'PRP', 'RB', 'MD', 'RB', 'VB', 'IN'), ('but', 'one', 'god', 'he', 'just', 'could', \"n't\", 'believe', 'in'), (9, 10)), (('PRP', 'VBD', 'THROUGH', 'DT', 'NN', 'CC', 'VBD', 'IN'), ('she', 'slipped', 'through', 'the', 'straw', 'and', 'fell', 'in'), (8, 8)), (('PRP', 'VBP', 'RB', 'RB', 'TO', 'VB', 'RP', 'IN'), ('I', 'am', 'eos', 'down', 'to', 'put', 'eos', 'across'), (8, 11)), (('PRP', 'MD', 'VB', 'THAT', 'PRP', 'VBZ', 'RB', 'VBN', 'VBN', 'IN'), ('I', 'will', 'know', 'that', 'it', 'has', \"n't\", 'been', 'sat', 'on'), (10, 10)), (('PRP', 'VBD', 'THROUGH', 'DT', 'NN', 'CC', 'VBD', 'IN'), ('he', 'slipped', 'through', 'the', 'straw', 'and', 'fell', 'in'), (8, 8)), (('WP', 'DT', 'NN', 'PRP', 'VBD', 'RB', 'VB', 'IN'), ('what', 'a', 'blessing', 'they', 'did', \"n't\", 'fall', 'in'), (8, 9))], 'DT': [(('DT', 'NNS', ',', 'RB', ',', 'VBD', 'RB', 'VB', 'DT'), ('the', 'drivers', ',', 'therefore', ',', 'did', \"n't\", 'dump', 'any'), (7, 10)), (('RB', 'IN', 'CD', 'NNS', ',', 'EX', 'VBP', 'RB', 'DT'), ('now', 'instead of', 'two', 'cats', ',', 'there', 'are', \"n't\", 'any'), (8, 9))], 'FW': [(('THAN', 'JJ', 'NN', 'NN', 'FW', 'FW', 'FW', 'FW'), ('than', 'eos', 'point', 'eos', 'eos', 'eos', 'eos', 'eos'), (8, 14)), (('VBG', 'RB', 'DT', 'NN', 'IN', 'FW', 'FW'), ('leaving', 'only', 'a', 'pile', 'of', 'de', 'brie'), (7, 9))], 'VBG': [(('IN', 'IN', 'PRP$', 'NNS', 'PRP', 'VBD', 'VBG'), ('because', 'on', 'her', 'toes', 'he', 'kept', 'prancing'), (7, 9)), (('RB', 'VBD', 'PRP', ',', 'RB', 'WRB', 'PRP', 'VBP', 'VBG'), ('just', 'painted', 'it', ',', 'right', 'where', 'you', 'are', 'sitting'), (8, 11))], 'TO': [(('PRP', 'VBD', 'PRP', 'CC', 'VBD', 'NNS', 'CC', 'TO'), ('he', 'reversed', 'it', 'and', 'walked', 'fro', 'and', 'to'), (8, 9))], 'MD': [(('CC', 'PRP', 'RB', 'VBP', 'TO', 'VB', 'AS', 'JJ', 'NNS', 'IN', 'DT', 'JJ', 'NN', 'AS', 'PRP', 'RB', 'MD'), ('but', 'I', 'always', 'try', 'to', 'get', 'as', 'many', 'syllables', 'into', 'the', 'last', 'line', 'as', 'I', 'possibly', 'can'), (17, 24))], 'CD': [(('RB', 'VB', 'RP', 'DT', 'NN', 'CC', 'CD'), ('then', 'grind', 'out', 'a', 'limerick', 'or', 'two'), (7, 9))], 'RP': [(('THAT', 'PRP', 'MD', 'RB', 'VB', 'RP'), ('that', 'he', 'could', \"n't\", 'reach', 'up'), (6, 6))], 'JJR': [(('JJ', 'NN', ',', 'PRP', 'VBD', ',', 'MD', 'VB', 'JJR'), ('`no', 'mixture', ',', 'she', 'said', ',', 'could', 'be', 'finer'), (7, 11)), (('CC', 'PRP$', 'NNS', 'VBD', 'JJR', 'CC', 'JJR'), ('and', 'her', 'freckles', 'grew', 'rarer', 'and', 'rarer'), (7, 10)), (('PRP', 'VBD', 'PDT', 'PRP$', 'NNS', 'VBG', 'JJR'), ('he', 'left', 'all', 'his', 'fans', 'wanting', 'more'), (7, 8))], 'VBZ': [(('PRP', 'MD', 'VB', 'RB', 'VBD', ',', 'WHEN', 'PRP', 'VBZ'), ('I', 'will', 'be', 'awfully', 'said', ',', 'when', 'it', 'goes'), (8, 10))]})}\n"
     ]
    }
   ],
   "source": [
    "import pickle\n",
    "with open(\"py_files/saved_objects/templates_processed_tuple.pickle\",\"rb\") as pickle_in:\n",
    "    print(pickle.load(pickle_in))"
   ]
  },
  {
   "cell_type": "code",
   "execution_count": 35,
   "metadata": {},
   "outputs": [
    {
     "name": "stdout",
     "output_type": "stream",
     "text": [
      "Processed: 1\r",
      "Processed: 2\r",
      "Processed: 3\r",
      "Processed: 4\r",
      "Processed: 5\r",
      "Processed: 6\r",
      "Processed: 7\r",
      "Processed: 8\r",
      "Processed: 9\r",
      "Processed: 10\r",
      "Processed: 11\r",
      "Processed: 12\r",
      "Processed: 13\r",
      "Processed: 14\r",
      "Processed: 15\r",
      "Processed: 16\r",
      "Processed: 17\r",
      "Processed: 18\r",
      "Processed: 19\r",
      "Processed: 20\r",
      "Processed: 21\r",
      "Processed: 22\r",
      "Processed: 23\r",
      "Processed: 24\r",
      "Processed: 25\r",
      "Processed: 26\r",
      "Processed: 27\r",
      "Processed: 28\r",
      "Processed: 29\r",
      "Processed: 30\r",
      "Processed: 31\r",
      "Processed: 32\r",
      "Processed: 33\r",
      "Processed: 34\r",
      "Processed: 35\r",
      "Processed: 36\r",
      "Processed: 37\r",
      "Processed: 38\r",
      "Processed: 39\r",
      "Processed: 40\r",
      "Processed: 41\r",
      "Processed: 42\r",
      "Processed: 43\r",
      "Processed: 44\r",
      "Processed: 45\r",
      "Processed: 46\r",
      "Processed: 47\r",
      "Processed: 48\r",
      "Processed: 49\r",
      "Processed: 50\r",
      "Processed: 51\r",
      "Processed: 52\r",
      "Processed: 53\r",
      "Processed: 54\r",
      "Processed: 55\r",
      "Processed: 56\r",
      "Processed: 57\r",
      "Processed: 58\r",
      "Processed: 59\r",
      "Processed: 60\r",
      "Processed: 61\r",
      "Processed: 62\r",
      "Processed: 63\r",
      "Processed: 64\r",
      "Processed: 65\r",
      "Processed: 66\r",
      "Processed: 67\r",
      "Processed: 68\r",
      "Processed: 69\r",
      "Processed: 70\r",
      "Processed: 71\r",
      "Processed: 72\r",
      "Processed: 73\r",
      "Processed: 74\r",
      "Processed: 75\r",
      "Processed: 76\r",
      "Processed: 77\r",
      "Processed: 78\r",
      "Processed: 79\r",
      "Processed: 80\r",
      "Processed: 81\r",
      "Processed: 82\r",
      "Processed: 83\r",
      "Processed: 84\r",
      "Processed: 85\r",
      "Processed: 86\r",
      "Processed: 87\r",
      "Processed: 88\r",
      "Processed: 89\r",
      "Processed: 90\r",
      "Processed: 91\r",
      "Processed: 92\r",
      "Processed: 93\r",
      "Processed: 94\r",
      "Processed: 95\r",
      "Processed: 96\r",
      "Processed: 97\r",
      "Processed: 98\r",
      "Processed: 99\r",
      "Processed: 100\r",
      "Processed: 101\r",
      "Processed: 102\r",
      "Processed: 103\r",
      "Processed: 104\r",
      "Processed: 105\r",
      "Processed: 106\r",
      "Processed: 107\r",
      "Processed: 108\r",
      "Processed: 109\r",
      "Processed: 110\r",
      "Processed: 111\r",
      "Processed: 112\r",
      "Processed: 113\r",
      "Processed: 114\r",
      "Processed: 115\r",
      "Processed: 116\r",
      "Processed: 117\r",
      "Processed: 118\r",
      "Processed: 119\r"
     ]
    }
   ],
   "source": [
    "d = lg.templates\n",
    "processed = 0\n",
    "for line in d:\n",
    "    for POS in d[line]:\n",
    "        for index, sentence in enumerate(d[line][POS]):\n",
    "            curr_POS = list(sentence[0])\n",
    "            has_special_word = False\n",
    "            for i in range(len(sentence[1])):\n",
    "                if sentence[1][i].upper() in special_words:\n",
    "                    curr_POS[i] = sentence[1][i].upper()\n",
    "                    has_special_word = True\n",
    "            if has_special_word:\n",
    "                d[line][POS][index] = tuple([tuple(curr_POS), sentence[1], sentence[2]])\n",
    "#                 print(d[line][POS][index])\n",
    "#                 break\n",
    "                processed += 1\n",
    "                print(\"Processed: \" + str(processed), end=\"\\r\")"
   ]
  },
  {
   "cell_type": "code",
   "execution_count": 36,
   "metadata": {},
   "outputs": [],
   "source": [
    "import pickle\n",
    "pickle.dump(d, open( \"py_files/saved_objects/templates_processed.pickle\", \"wb\" ) )"
   ]
  },
  {
   "cell_type": "code",
   "execution_count": 65,
   "metadata": {},
   "outputs": [
    {
     "data": {
      "text/plain": [
       "(1, 2, 3, 4)"
      ]
     },
     "execution_count": 65,
     "metadata": {},
     "output_type": "execute_result"
    }
   ],
   "source": [
    "(1,2,3) + (4,)"
   ]
  },
  {
   "cell_type": "code",
   "execution_count": 69,
   "metadata": {},
   "outputs": [
    {
     "ename": "TypeError",
     "evalue": "can only concatenate list (not \"tuple\") to list",
     "output_type": "error",
     "traceback": [
      "\u001b[0;31m---------------------------------------------------------------------------\u001b[0m",
      "\u001b[0;31mTypeError\u001b[0m                                 Traceback (most recent call last)",
      "\u001b[0;32m<ipython-input-69-076efd6f19a6>\u001b[0m in \u001b[0;36m<module>\u001b[0;34m()\u001b[0m\n\u001b[0;32m----> 1\u001b[0;31m \u001b[0;34m[\u001b[0m\u001b[0;34m]\u001b[0m \u001b[0;34m+\u001b[0m \u001b[0;34m(\u001b[0m\u001b[0;36m1\u001b[0m\u001b[0;34m,\u001b[0m\u001b[0;36m2\u001b[0m\u001b[0;34m,\u001b[0m\u001b[0;36m3\u001b[0m\u001b[0;34m,\u001b[0m\u001b[0;36m4\u001b[0m\u001b[0;34m)\u001b[0m\u001b[0;34m\u001b[0m\u001b[0m\n\u001b[0m",
      "\u001b[0;31mTypeError\u001b[0m: can only concatenate list (not \"tuple\") to list"
     ]
    }
   ],
   "source": [
    "[] + (1,2,3,4)"
   ]
  },
  {
   "cell_type": "code",
   "execution_count": null,
   "metadata": {},
   "outputs": [],
   "source": []
  }
 ],
 "metadata": {
  "kernelspec": {
   "display_name": "Python 3",
   "language": "python",
   "name": "python3"
  },
  "language_info": {
   "codemirror_mode": {
    "name": "ipython",
    "version": 3
   },
   "file_extension": ".py",
   "mimetype": "text/x-python",
   "name": "python",
   "nbconvert_exporter": "python",
   "pygments_lexer": "ipython3",
   "version": "3.6.5"
  }
 },
 "nbformat": 4,
 "nbformat_minor": 2
}
