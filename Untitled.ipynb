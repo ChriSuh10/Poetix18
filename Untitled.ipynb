{
 "cells": [
  {
   "cell_type": "code",
   "execution_count": 33,
   "metadata": {},
   "outputs": [],
   "source": [
    "file2=open(\"baseline_automatic_no_story.txt\")"
   ]
  },
  {
   "cell_type": "code",
   "execution_count": 34,
   "metadata": {},
   "outputs": [],
   "source": [
    "x=file2.readlines()"
   ]
  },
  {
   "cell_type": "code",
   "execution_count": 35,
   "metadata": {},
   "outputs": [],
   "source": [
    "t4=[xx[7:-1] for xx in x if xx.startswith('prompt:')]"
   ]
  },
  {
   "cell_type": "code",
   "execution_count": 40,
   "metadata": {},
   "outputs": [],
   "source": [
    "t4=set(t4)"
   ]
  },
  {
   "cell_type": "code",
   "execution_count": 43,
   "metadata": {},
   "outputs": [
    {
     "data": {
      "text/plain": [
       "{'alien',\n",
       " 'angry',\n",
       " 'applaud',\n",
       " 'beer',\n",
       " 'born',\n",
       " 'car',\n",
       " 'child',\n",
       " 'color',\n",
       " 'dawn',\n",
       " 'disease',\n",
       " 'doctor',\n",
       " 'fall',\n",
       " 'fiance',\n",
       " 'flower',\n",
       " 'forest',\n",
       " 'home',\n",
       " 'injury',\n",
       " 'kindness',\n",
       " 'laugh',\n",
       " 'law',\n",
       " 'leader',\n",
       " 'loss',\n",
       " 'memory',\n",
       " 'mud',\n",
       " 'music',\n",
       " 'night',\n",
       " 'opera',\n",
       " 'park',\n",
       " 'philosophy',\n",
       " 'promise',\n",
       " 'random',\n",
       " 'scary',\n",
       " 'school',\n",
       " 'shaken',\n",
       " 'smart',\n",
       " 'surprise',\n",
       " 'traffic',\n",
       " 'union',\n",
       " 'victory',\n",
       " 'violent',\n",
       " 'water',\n",
       " 'wedding',\n",
       " 'weight'}"
      ]
     },
     "execution_count": 43,
     "metadata": {},
     "output_type": "execute_result"
    }
   ],
   "source": [
    "(set.intersection(t1,t2,t3,t4))"
   ]
  },
  {
   "cell_type": "code",
   "execution_count": null,
   "metadata": {},
   "outputs": [],
   "source": []
  }
 ],
 "metadata": {
  "kernelspec": {
   "display_name": "Python 3",
   "language": "python",
   "name": "python3"
  },
  "language_info": {
   "codemirror_mode": {
    "name": "ipython",
    "version": 3
   },
   "file_extension": ".py",
   "mimetype": "text/x-python",
   "name": "python",
   "nbconvert_exporter": "python",
   "pygments_lexer": "ipython3",
   "version": "3.7.3"
  }
 },
 "nbformat": 4,
 "nbformat_minor": 2
}
