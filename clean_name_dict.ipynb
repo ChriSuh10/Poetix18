{
 "cells": [
  {
   "cell_type": "code",
   "execution_count": 1,
   "metadata": {},
   "outputs": [],
   "source": [
    "female_names_file = 'py_files/saved_objects/dist.female.first.txt'\n",
    "male_names_file = 'py_files/saved_objects/dist.male.first.txt'"
   ]
  },
  {
   "cell_type": "code",
   "execution_count": 11,
   "metadata": {},
   "outputs": [],
   "source": [
    "import pickle"
   ]
  },
  {
   "cell_type": "code",
   "execution_count": 21,
   "metadata": {},
   "outputs": [
    {
     "name": "stdout",
     "output_type": "stream",
     "text": [
      "0\n"
     ]
    }
   ],
   "source": [
    "female_names_set = set()\n",
    "male_names_set = set()\n",
    "\n",
    "with open(female_names_file, 'rb') as female_names:\n",
    "    for line in female_names:\n",
    "        name, _, _, count = line.split()\n",
    "        female_names_set.add(name.lower().decode('utf-8'))\n",
    "\n",
    "with open(male_names_file, 'rb') as male_names:\n",
    "    for line in male_names:\n",
    "        name, _, _, count = line.split()\n",
    "        male_names_set.add(name.lower().decode('utf-8'))\n",
    "intersection = female_names_set.intersection(male_names_set)\n",
    "for name in intersection:\n",
    "    female_names_set.remove(name)\n",
    "    male_names_set.remove(name)\n",
    "intersection = female_names_set.intersection(male_names_set)\n",
    "print(len(intersection))\n",
    "pickle.dump([female_names_set, male_names_set,], open(\"py_files/saved_objects/name_list.p\", \"wb\" ) )"
   ]
  },
  {
   "cell_type": "code",
   "execution_count": 22,
   "metadata": {},
   "outputs": [],
   "source": [
    "from py_files.Limericks_original import Limerick_Generate_new"
   ]
  },
  {
   "cell_type": "code",
   "execution_count": 23,
   "metadata": {},
   "outputs": [
    {
     "name": "stdout",
     "output_type": "stream",
     "text": [
      "=================== Initializing ==================================\n",
      "4\n"
     ]
    }
   ],
   "source": [
    "lg = Limerick_Generate_new()"
   ]
  },
  {
   "cell_type": "code",
   "execution_count": 29,
   "metadata": {},
   "outputs": [
    {
     "data": {
      "text/plain": [
       "[['there', 'was', 'a', 'fierce', 'soldier', 'named', 'harry'],\n",
       " ['there', 'was', 'a', 'loud', 'man', 'named', 'harry'],\n",
       " ['there', 'was', 'a', 'fierce', 'boy', 'named', 'harry']]"
      ]
     },
     "execution_count": 29,
     "metadata": {},
     "output_type": "execute_result"
    }
   ],
   "source": [
    "lg.gen_first_line_new('harry',search_space=5,strict=True,seed='fire')"
   ]
  },
  {
   "cell_type": "code",
   "execution_count": null,
   "metadata": {},
   "outputs": [],
   "source": []
  }
 ],
 "metadata": {
  "kernelspec": {
   "display_name": "Python 3",
   "language": "python",
   "name": "python3"
  },
  "language_info": {
   "codemirror_mode": {
    "name": "ipython",
    "version": 3
   },
   "file_extension": ".py",
   "mimetype": "text/x-python",
   "name": "python",
   "nbconvert_exporter": "python",
   "pygments_lexer": "ipython3",
   "version": "3.6.5"
  }
 },
 "nbformat": 4,
 "nbformat_minor": 2
}
