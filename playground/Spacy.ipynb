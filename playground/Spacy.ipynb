{
 "cells": [
  {
   "cell_type": "code",
   "execution_count": 3,
   "metadata": {},
   "outputs": [],
   "source": [
    "import spacy\n",
    "import nltk"
   ]
  },
  {
   "cell_type": "code",
   "execution_count": 28,
   "metadata": {},
   "outputs": [
    {
     "name": "stdout",
     "output_type": "stream",
     "text": [
      "There EX\n",
      "was VBD\n",
      "an DT\n",
      "old JJ\n",
      "man NN\n",
      "of IN\n",
      "Nantucket NNP\n",
      "who WP\n",
      "kept VBD\n",
      "all PDT\n",
      "his PRP$\n",
      "cash NN\n",
      "in IN\n",
      "a DT\n",
      "bucket NN\n"
     ]
    }
   ],
   "source": [
    "nlp = spacy.load('en_core_web_sm')\n",
    "doc = nlp(\"There was an old man of Nantucket who kept all his cash in a bucket\")\n",
    "\n",
    "for token in doc:\n",
    "    print(token.text, token.tag_)"
   ]
  },
  {
   "cell_type": "code",
   "execution_count": 29,
   "metadata": {},
   "outputs": [
    {
     "data": {
      "text/plain": [
       "[('There', 'EX'),\n",
       " ('was', 'VBD'),\n",
       " ('an', 'DT'),\n",
       " ('old', 'JJ'),\n",
       " ('man', 'NN'),\n",
       " ('of', 'IN'),\n",
       " ('Nantucket', 'NNP'),\n",
       " ('who', 'WP'),\n",
       " ('kept', 'VBD'),\n",
       " ('all', 'DT'),\n",
       " ('his', 'PRP$'),\n",
       " ('cash', 'NN'),\n",
       " ('in', 'IN'),\n",
       " ('a', 'DT'),\n",
       " ('bucket', 'NN')]"
      ]
     },
     "execution_count": 29,
     "metadata": {},
     "output_type": "execute_result"
    }
   ],
   "source": [
    "tokens=nltk.word_tokenize(\"There was an old man of Nantucket who kept all his cash in a bucket\")\n",
    "nltk.pos_tag(tokens)"
   ]
  },
  {
   "cell_type": "code",
   "execution_count": 31,
   "metadata": {},
   "outputs": [
    {
     "name": "stdout",
     "output_type": "stream",
     "text": [
      "A DT\n",
      "widow NN\n",
      "named VBN\n",
      "Block NNP\n",
      ", ,\n",
      "then RB\n",
      "died VBD\n",
      "of IN\n",
      "the DT\n",
      "shock NN\n",
      ", ,\n",
      "when WRB\n",
      "he PRP\n",
      "saw VBD\n",
      "there EX\n",
      "were VBD\n",
      "six CD\n",
      "little JJ\n",
      "chips NNS\n",
      ". .\n"
     ]
    }
   ],
   "source": [
    "doc = nlp(\"A widow named Block, then died of the shock, when he saw there were six little chips.\")\n",
    "\n",
    "for token in doc:\n",
    "    print(token.text, token.tag_)"
   ]
  },
  {
   "cell_type": "code",
   "execution_count": 32,
   "metadata": {},
   "outputs": [
    {
     "data": {
      "text/plain": [
       "[('A', 'DT'),\n",
       " ('widow', 'NN'),\n",
       " ('named', 'VBN'),\n",
       " ('Block', 'NNP'),\n",
       " (',', ','),\n",
       " ('then', 'RB'),\n",
       " ('died', 'VBD'),\n",
       " ('of', 'IN'),\n",
       " ('the', 'DT'),\n",
       " ('shock', 'NN'),\n",
       " (',', ','),\n",
       " ('when', 'WRB'),\n",
       " ('he', 'PRP'),\n",
       " ('saw', 'VBD'),\n",
       " ('there', 'EX'),\n",
       " ('were', 'VBD'),\n",
       " ('six', 'CD'),\n",
       " ('little', 'JJ'),\n",
       " ('chips', 'NNS'),\n",
       " ('.', '.')]"
      ]
     },
     "execution_count": 32,
     "metadata": {},
     "output_type": "execute_result"
    }
   ],
   "source": [
    "tokens=nltk.word_tokenize(\"A widow named Block, then died of the shock, when he saw there were six little chips.\")\n",
    "nltk.pos_tag(tokens)"
   ]
  }
 ],
 "metadata": {
  "kernelspec": {
   "display_name": "Python 3",
   "language": "python",
   "name": "python3"
  },
  "language_info": {
   "codemirror_mode": {
    "name": "ipython",
    "version": 3
   },
   "file_extension": ".py",
   "mimetype": "text/x-python",
   "name": "python",
   "nbconvert_exporter": "python",
   "pygments_lexer": "ipython3",
   "version": "3.7.0"
  }
 },
 "nbformat": 4,
 "nbformat_minor": 2
}
