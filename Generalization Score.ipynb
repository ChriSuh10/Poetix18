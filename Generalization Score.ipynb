{
 "cells": [
  {
   "cell_type": "code",
   "execution_count": 1,
   "metadata": {},
   "outputs": [],
   "source": [
    "from Generate import Generate\n",
    "\n",
    "from nltk.corpus import stopwords\n",
    "import numpy as np\n",
    "import matplotlib.pyplot as plt\n",
    "import os\n",
    "import random"
   ]
  },
  {
   "cell_type": "code",
   "execution_count": 2,
   "metadata": {},
   "outputs": [
    {
     "name": "stdout",
     "output_type": "stream",
     "text": [
      "CPU times: user 1min 46s, sys: 2.15 s, total: 1min 48s\n",
      "Wall time: 1min 48s\n"
     ]
    }
   ],
   "source": [
    "%%time\n",
    "\n",
    "g = Generate()"
   ]
  },
  {
   "cell_type": "code",
   "execution_count": 3,
   "metadata": {},
   "outputs": [
    {
     "name": "stdout",
     "output_type": "stream",
     "text": [
      "['memories', 'old']\n",
      "['NNS', 'JJ']\n",
      "['CD', 'NNS', 'IN', 'RB', 'JJ', 'NN', ',']\n",
      "First noun: memories\n",
      "Last noun: old\n",
      "['NNS', 'IN', 'RB']\n",
      "#################################\n",
      "\n",
      "WARNING:tensorflow:From /Users/chris/projects/poetix/model_forw.py:37: BasicLSTMCell.__init__ (from tensorflow.python.ops.rnn_cell_impl) is deprecated and will be removed in a future version.\n",
      "Instructions for updating:\n",
      "This class is deprecated, please use tf.nn.rnn_cell.LSTMCell, which supports all the feature this cell currently has. Please replace the existing code with tf.nn.rnn_cell.LSTMCell(name='basic_lstm_cell').\n",
      "6885\n",
      "INFO:tensorflow:Restoring parameters from save_2/model.ckpt-63199\n",
      "Generation took 4.355 seconds\n",
      "6885\n",
      "INFO:tensorflow:Restoring parameters from save_2/model.ckpt-63199\n",
      "INFO:tensorflow:Restoring parameters from save_2/model.ckpt-63199\n",
      "['memories', 'old']\n",
      "['NNS', 'JJ']\n",
      "['DT', 'JJ', 'NNS', 'IN', 'PRP$', 'NN']\n",
      "First noun: old\n",
      "Last noun: memories\n",
      "['JJ']\n",
      "#################################\n",
      "\n",
      "6885\n",
      "INFO:tensorflow:Restoring parameters from save_2/model.ckpt-63199\n",
      "Generation took 3.150 seconds\n",
      "6885\n",
      "INFO:tensorflow:Restoring parameters from save_2/model.ckpt-63199\n",
      "INFO:tensorflow:Restoring parameters from save_2/model.ckpt-63199\n",
      "INFO:tensorflow:Restoring parameters from frost_model/model.ckpt-227699\n",
      "['memories', 'old']\n",
      "['NNS', 'JJ']\n",
      "['CC', 'DT', 'JJ', 'NNS', 'VBP', 'IN', 'NN']\n",
      "First noun: old\n",
      "Last noun: memories\n",
      "['JJ']\n",
      "#################################\n",
      "\n",
      "6885\n",
      "INFO:tensorflow:Restoring parameters from save_2/model.ckpt-63199\n",
      "Generation took 3.763 seconds\n",
      "6885\n",
      "INFO:tensorflow:Restoring parameters from save_2/model.ckpt-63199\n",
      "INFO:tensorflow:Restoring parameters from save_2/model.ckpt-63199\n",
      "INFO:tensorflow:Restoring parameters from frost_model/model.ckpt-227699\n"
     ]
    },
    {
     "name": "stderr",
     "output_type": "stream",
     "text": [
      "/Users/chris/projects/poetix/model_back.py:207: RuntimeWarning: divide by zero encountered in log\n",
      "  dist = p.squeeze() + np.log(probs.squeeze())\n"
     ]
    },
    {
     "name": "stdout",
     "output_type": "stream",
     "text": [
      "['memories', 'old']\n",
      "['NNS', 'JJ']\n",
      "['NNS', 'RB', 'JJ', 'VBZ', 'NN', ',']\n",
      "First noun: memories\n",
      "Last noun: old\n",
      "['NNS', 'RB']\n",
      "#################################\n",
      "\n",
      "6885\n",
      "INFO:tensorflow:Restoring parameters from save_2/model.ckpt-63199\n",
      "Generation took 3.451 seconds\n",
      "6885\n",
      "INFO:tensorflow:Restoring parameters from save_2/model.ckpt-63199\n",
      "INFO:tensorflow:Restoring parameters from save_2/model.ckpt-63199\n",
      "['memories', 'old']\n",
      "['NNS', 'JJ']\n",
      "['VB', 'DT', 'JJ', 'NN', 'IN', 'NNS']\n",
      "First noun: old\n",
      "Last noun: memories\n",
      "['JJ', 'NN', 'IN']\n",
      "#################################\n",
      "\n",
      "6885\n",
      "INFO:tensorflow:Restoring parameters from save_2/model.ckpt-63199\n",
      "Generation took 3.551 seconds\n",
      "6885\n",
      "INFO:tensorflow:Restoring parameters from save_2/model.ckpt-63199\n",
      "INFO:tensorflow:Restoring parameters from save_2/model.ckpt-63199\n",
      "INFO:tensorflow:Restoring parameters from frost_model/model.ckpt-227699\n",
      "['memories', 'old']\n",
      "['NNS', 'JJ']\n",
      "['VBG', 'NNS', 'IN', 'JJ', 'NN']\n",
      "First noun: memories\n",
      "Last noun: old\n",
      "['NNS', 'IN']\n",
      "#################################\n",
      "\n",
      "6885\n",
      "INFO:tensorflow:Restoring parameters from save_2/model.ckpt-63199\n",
      "Generation took 3.260 seconds\n",
      "6885\n",
      "INFO:tensorflow:Restoring parameters from save_2/model.ckpt-63199\n",
      "INFO:tensorflow:Restoring parameters from save_2/model.ckpt-63199\n",
      "INFO:tensorflow:Restoring parameters from frost_model/model.ckpt-227699\n",
      "['memories', 'old']\n",
      "['NNS', 'JJ']\n",
      "['JJ', 'NNS', 'IN', 'RB', 'IN', 'NN']\n",
      "First noun: old\n",
      "Last noun: memories\n",
      "['JJ']\n",
      "#################################\n",
      "\n",
      "6885\n",
      "INFO:tensorflow:Restoring parameters from save_2/model.ckpt-63199\n",
      "Generation took 3.269 seconds\n",
      "6885\n",
      "INFO:tensorflow:Restoring parameters from save_2/model.ckpt-63199\n",
      "INFO:tensorflow:Restoring parameters from save_2/model.ckpt-63199\n",
      "INFO:tensorflow:Restoring parameters from frost_model/model.ckpt-227699\n",
      "['memories', 'old']\n",
      "['NNS', 'JJ']\n",
      "['NNP', 'JJ', 'CC', 'NN', 'IN', 'NNS']\n",
      "First noun: old\n",
      "Last noun: memories\n",
      "['JJ', 'CC', 'NN', 'IN']\n",
      "#################################\n",
      "\n",
      "6885\n",
      "INFO:tensorflow:Restoring parameters from save_2/model.ckpt-63199\n",
      "Generation took 4.437 seconds\n",
      "6885\n",
      "INFO:tensorflow:Restoring parameters from save_2/model.ckpt-63199\n",
      "INFO:tensorflow:Restoring parameters from save_2/model.ckpt-63199\n",
      "INFO:tensorflow:Restoring parameters from frost_model/model.ckpt-227699\n",
      "CPU times: user 1min 59s, sys: 20.1 s, total: 2min 19s\n",
      "Wall time: 2min 3s\n"
     ]
    }
   ],
   "source": [
    "%%time\n",
    "\n",
    "line = g.print_gen_line('memories', 'old')"
   ]
  },
  {
   "cell_type": "code",
   "execution_count": 3,
   "metadata": {},
   "outputs": [],
   "source": [
    "#templates with punctuation throw errors\n",
    "#['NNS', 'VBD', 'IN', 'DT', 'JJ', 'NN', '.']\n",
    "# BasicLSTMCell is deprecated\n",
    "# divide by zero sometimes encountered in model_back 207\n",
    "# search forward 235 gets truth value with more than one is ambiguous\n",
    "# keyerror ','\n",
    "# build up possible parts of speech with commas, etc. "
   ]
  },
  {
   "cell_type": "code",
   "execution_count": 3,
   "metadata": {},
   "outputs": [],
   "source": [
    "def generalization_score(word_pair_list):\n",
    "    sum_score = 0;\n",
    "    for word1, word2 in word_pair_list:\n",
    "        template, k = g.generate_line(word1, word2)\n",
    "        if k != []:\n",
    "            # add score normalized by line length\n",
    "            sum_score += (k[0][0] / len(k[0][1][1]))\n",
    "    return sum_score / len(word_pair_list)"
   ]
  },
  {
   "cell_type": "code",
   "execution_count": 5,
   "metadata": {},
   "outputs": [
    {
     "name": "stdout",
     "output_type": "stream",
     "text": [
      "['old', 'memories']\n",
      "['JJ', 'NNS']\n",
      "['IN', 'PRP$', 'NNS', 'IN', 'DT', 'JJ', 'NN']\n",
      "First noun: memories\n",
      "Last noun: old\n",
      "['NNS', 'IN', 'DT']\n",
      "#################################\n",
      "\n",
      "6885\n",
      "INFO:tensorflow:Restoring parameters from save_2/model.ckpt-63199\n",
      "Generation took 3.701 seconds\n",
      "6885\n",
      "INFO:tensorflow:Restoring parameters from save_2/model.ckpt-63199\n",
      "INFO:tensorflow:Restoring parameters from save_2/model.ckpt-63199\n",
      "INFO:tensorflow:Restoring parameters from frost_model/model.ckpt-227699\n",
      "['bright', 'light']\n",
      "['JJ', 'NN']\n",
      "['IN', 'NNS', 'VBD', 'JJ', 'TO', 'VB', 'NN']\n",
      "First noun: bright\n",
      "Last noun: light\n",
      "['JJ', 'TO', 'VB']\n",
      "#################################\n",
      "\n",
      "6885\n",
      "INFO:tensorflow:Restoring parameters from save_2/model.ckpt-63199\n",
      "Generation took 3.380 seconds\n",
      "6885\n",
      "INFO:tensorflow:Restoring parameters from save_2/model.ckpt-63199\n",
      "INFO:tensorflow:Restoring parameters from save_2/model.ckpt-63199\n",
      "INFO:tensorflow:Restoring parameters from frost_model/model.ckpt-227699\n",
      "['climb', 'stairs']\n",
      "['VB', 'NNS']\n",
      "['TO', 'VB', 'DT', 'NN', 'NN', 'IN', 'NNS']\n",
      "First noun: climb\n",
      "Last noun: stairs\n",
      "['VB', 'DT', 'NN', 'NN', 'IN']\n",
      "#################################\n",
      "\n",
      "6885\n",
      "INFO:tensorflow:Restoring parameters from save_2/model.ckpt-63199\n",
      "Generation took 5.690 seconds\n",
      "6885\n",
      "INFO:tensorflow:Restoring parameters from save_2/model.ckpt-63199\n",
      "INFO:tensorflow:Restoring parameters from save_2/model.ckpt-63199\n",
      "INFO:tensorflow:Restoring parameters from frost_model/model.ckpt-227699\n",
      "['eyes', 'emotion']\n",
      "['NNS', 'NN']\n",
      "['CC', 'NN', 'IN', 'JJ', 'NNS']\n",
      "First noun: emotion\n",
      "Last noun: eyes\n",
      "['NN', 'IN', 'JJ']\n",
      "#################################\n",
      "\n",
      "6885\n",
      "INFO:tensorflow:Restoring parameters from save_2/model.ckpt-63199\n",
      "Generation took 3.375 seconds\n",
      "6885\n",
      "INFO:tensorflow:Restoring parameters from save_2/model.ckpt-63199\n",
      "INFO:tensorflow:Restoring parameters from save_2/model.ckpt-63199\n",
      "INFO:tensorflow:Restoring parameters from frost_model/model.ckpt-227699\n",
      "CPU times: user 1min 9s, sys: 10.8 s, total: 1min 20s\n",
      "Wall time: 1min 10s\n"
     ]
    }
   ],
   "source": [
    "%%time\n",
    "\n",
    "l = [('old', 'memories'), ('bright', 'light'), ('climb', 'stairs'), ('eyes', 'emotion')]\n",
    "avg_score = generalization_score(l)"
   ]
  },
  {
   "cell_type": "code",
   "execution_count": 6,
   "metadata": {},
   "outputs": [
    {
     "data": {
      "text/plain": [
       "array([[-3.9198349]], dtype=float32)"
      ]
     },
     "execution_count": 6,
     "metadata": {},
     "output_type": "execute_result"
    }
   ],
   "source": [
    "avg_score"
   ]
  },
  {
   "cell_type": "code",
   "execution_count": 5,
   "metadata": {},
   "outputs": [],
   "source": [
    "def random_pair_list(word_list, length):\n",
    "    ret = []\n",
    "    for i in range(length):\n",
    "        idx1, idx2 = np.random.choice(len(word_list), 2)\n",
    "        ret.append((word_list[idx1], word_list[idx2]))\n",
    "    return ret"
   ]
  },
  {
   "cell_type": "code",
   "execution_count": 6,
   "metadata": {},
   "outputs": [
    {
     "data": {
      "text/plain": [
       "['chemist', 'radium']"
      ]
     },
     "execution_count": 6,
     "metadata": {},
     "output_type": "execute_result"
    }
   ],
   "source": [
    "words = list(g.get_postag_dict()[2].keys())\n",
    "random.sample(words, 2)"
   ]
  },
  {
   "cell_type": "code",
   "execution_count": 7,
   "metadata": {},
   "outputs": [
    {
     "name": "stdout",
     "output_type": "stream",
     "text": [
      "['scientific', 'sad']\n",
      "['JJ', 'JJ']\n",
      "['NNP', 'JJ', 'PRP$', 'NN', 'VBD', 'JJ', 'NNS']\n",
      "First noun: sad\n",
      "Last noun: scientific\n",
      "['JJ', 'PRP$', 'NN', 'VBD']\n",
      "#################################\n",
      "\n",
      "WARNING:tensorflow:From /Users/chris/projects/poetix/model_forw.py:37: BasicLSTMCell.__init__ (from tensorflow.python.ops.rnn_cell_impl) is deprecated and will be removed in a future version.\n",
      "Instructions for updating:\n",
      "This class is deprecated, please use tf.nn.rnn_cell.LSTMCell, which supports all the feature this cell currently has. Please replace the existing code with tf.nn.rnn_cell.LSTMCell(name='basic_lstm_cell').\n",
      "6885\n",
      "INFO:tensorflow:Restoring parameters from save_2/model.ckpt-63199\n",
      "Generation took 4.963 seconds\n",
      "6885\n",
      "INFO:tensorflow:Restoring parameters from save_2/model.ckpt-63199\n",
      "INFO:tensorflow:Restoring parameters from save_2/model.ckpt-63199\n",
      "INFO:tensorflow:Restoring parameters from frost_model/model.ckpt-227699\n"
     ]
    },
    {
     "name": "stderr",
     "output_type": "stream",
     "text": [
      "/Users/chris/projects/poetix/model_back.py:207: RuntimeWarning: divide by zero encountered in log\n",
      "  dist = p.squeeze() + np.log(probs.squeeze())\n"
     ]
    },
    {
     "name": "stdout",
     "output_type": "stream",
     "text": [
      "['slammed', 'torpedo']\n",
      "['VBD', 'NNP']\n"
     ]
    },
    {
     "ename": "TypeError",
     "evalue": "'NoneType' object is not iterable",
     "output_type": "error",
     "traceback": [
      "\u001b[0;31m---------------------------------------------------------------------------\u001b[0m",
      "\u001b[0;31mTypeError\u001b[0m                                 Traceback (most recent call last)",
      "\u001b[0;32m<ipython-input-7-a4c001f349b1>\u001b[0m in \u001b[0;36m<module>\u001b[0;34m\u001b[0m\n\u001b[1;32m      1\u001b[0m \u001b[0ml\u001b[0m \u001b[0;34m=\u001b[0m \u001b[0mrandom_pair_list\u001b[0m\u001b[0;34m(\u001b[0m\u001b[0mwords\u001b[0m\u001b[0;34m,\u001b[0m \u001b[0;36m10\u001b[0m\u001b[0;34m)\u001b[0m\u001b[0;34m\u001b[0m\u001b[0m\n\u001b[0;32m----> 2\u001b[0;31m \u001b[0mgeneralization_score\u001b[0m\u001b[0;34m(\u001b[0m\u001b[0ml\u001b[0m\u001b[0;34m)\u001b[0m\u001b[0;34m\u001b[0m\u001b[0m\n\u001b[0m",
      "\u001b[0;32m<ipython-input-4-f0defbd1a7c8>\u001b[0m in \u001b[0;36mgeneralization_score\u001b[0;34m(word_pair_list)\u001b[0m\n\u001b[1;32m      2\u001b[0m     \u001b[0msum_score\u001b[0m \u001b[0;34m=\u001b[0m \u001b[0;36m0\u001b[0m\u001b[0;34m;\u001b[0m\u001b[0;34m\u001b[0m\u001b[0m\n\u001b[1;32m      3\u001b[0m     \u001b[0;32mfor\u001b[0m \u001b[0mword1\u001b[0m\u001b[0;34m,\u001b[0m \u001b[0mword2\u001b[0m \u001b[0;32min\u001b[0m \u001b[0mword_pair_list\u001b[0m\u001b[0;34m:\u001b[0m\u001b[0;34m\u001b[0m\u001b[0m\n\u001b[0;32m----> 4\u001b[0;31m         \u001b[0mtemplate\u001b[0m\u001b[0;34m,\u001b[0m \u001b[0mk\u001b[0m \u001b[0;34m=\u001b[0m \u001b[0mg\u001b[0m\u001b[0;34m.\u001b[0m\u001b[0mgenerate_line\u001b[0m\u001b[0;34m(\u001b[0m\u001b[0mword1\u001b[0m\u001b[0;34m,\u001b[0m \u001b[0mword2\u001b[0m\u001b[0;34m)\u001b[0m\u001b[0;34m\u001b[0m\u001b[0m\n\u001b[0m\u001b[1;32m      5\u001b[0m         \u001b[0;32mif\u001b[0m \u001b[0mk\u001b[0m \u001b[0;34m!=\u001b[0m \u001b[0;34m[\u001b[0m\u001b[0;34m]\u001b[0m\u001b[0;34m:\u001b[0m\u001b[0;34m\u001b[0m\u001b[0m\n\u001b[1;32m      6\u001b[0m             \u001b[0;31m# add score normalized by line length\u001b[0m\u001b[0;34m\u001b[0m\u001b[0;34m\u001b[0m\u001b[0m\n",
      "\u001b[0;31mTypeError\u001b[0m: 'NoneType' object is not iterable"
     ]
    }
   ],
   "source": [
    "l = random_pair_list(words, 10)\n",
    "generalization_score(l)"
   ]
  },
  {
   "cell_type": "code",
   "execution_count": 8,
   "metadata": {},
   "outputs": [
    {
     "data": {
      "text/plain": [
       "[('scientific', 'sad'),\n",
       " ('slammed', 'torpedo'),\n",
       " ('message', 'surprise'),\n",
       " ('cow', 'piano'),\n",
       " ('far', 'jilted'),\n",
       " ('arising', 'depressed'),\n",
       " ('pace', 'sojourn'),\n",
       " ('scours', 'leans'),\n",
       " ('bone', 'shook'),\n",
       " ('pigs', 'might')]"
      ]
     },
     "execution_count": 8,
     "metadata": {},
     "output_type": "execute_result"
    }
   ],
   "source": [
    "l"
   ]
  },
  {
   "cell_type": "code",
   "execution_count": 9,
   "metadata": {},
   "outputs": [
    {
     "name": "stdout",
     "output_type": "stream",
     "text": [
      "scientific\n",
      "sad\n",
      "['scientific', 'sad']\n",
      "['JJ', 'JJ']\n",
      "['DT', 'NN', 'IN', 'JJ', 'DT', 'JJ', 'NN']\n",
      "First noun: scientific\n",
      "Last noun: sad\n",
      "['JJ', 'DT']\n",
      "#################################\n",
      "\n",
      "6885\n",
      "INFO:tensorflow:Restoring parameters from save_2/model.ckpt-63199\n",
      "Generation took 3.536 seconds\n",
      "6885\n",
      "INFO:tensorflow:Restoring parameters from save_2/model.ckpt-63199\n",
      "INFO:tensorflow:Restoring parameters from save_2/model.ckpt-63199\n",
      "INFO:tensorflow:Restoring parameters from frost_model/model.ckpt-227699\n",
      "slammed\n",
      "torpedo\n",
      "['slammed', 'torpedo']\n",
      "['VBD', 'NNP']\n"
     ]
    },
    {
     "ename": "TypeError",
     "evalue": "'NoneType' object is not iterable",
     "output_type": "error",
     "traceback": [
      "\u001b[0;31m---------------------------------------------------------------------------\u001b[0m",
      "\u001b[0;31mTypeError\u001b[0m                                 Traceback (most recent call last)",
      "\u001b[0;32m<ipython-input-9-79c86760f40f>\u001b[0m in \u001b[0;36m<module>\u001b[0;34m\u001b[0m\n\u001b[1;32m      2\u001b[0m     \u001b[0mprint\u001b[0m\u001b[0;34m(\u001b[0m\u001b[0mw1\u001b[0m\u001b[0;34m)\u001b[0m\u001b[0;34m\u001b[0m\u001b[0m\n\u001b[1;32m      3\u001b[0m     \u001b[0mprint\u001b[0m\u001b[0;34m(\u001b[0m\u001b[0mw2\u001b[0m\u001b[0;34m)\u001b[0m\u001b[0;34m\u001b[0m\u001b[0m\n\u001b[0;32m----> 4\u001b[0;31m     \u001b[0mtemplate\u001b[0m\u001b[0;34m,\u001b[0m \u001b[0mk\u001b[0m \u001b[0;34m=\u001b[0m \u001b[0mg\u001b[0m\u001b[0;34m.\u001b[0m\u001b[0mgenerate_line\u001b[0m\u001b[0;34m(\u001b[0m\u001b[0mw1\u001b[0m\u001b[0;34m,\u001b[0m \u001b[0mw2\u001b[0m\u001b[0;34m)\u001b[0m\u001b[0;34m\u001b[0m\u001b[0m\n\u001b[0m",
      "\u001b[0;31mTypeError\u001b[0m: 'NoneType' object is not iterable"
     ]
    }
   ],
   "source": [
    "for w1, w2 in l:\n",
    "    print(w1)\n",
    "    print(w2)\n",
    "    template, k = g.generate_line(w1, w2)"
   ]
  },
  {
   "cell_type": "code",
   "execution_count": 11,
   "metadata": {},
   "outputs": [
    {
     "name": "stdout",
     "output_type": "stream",
     "text": [
      "['message', 'surprise']\n",
      "['NN', 'NN']\n",
      "['PRP$', 'NN', ',', 'NN', ',', 'NN']\n",
      "First noun: message\n",
      "Last noun: surprise\n",
      "['NN', ',', 'NN', ',']\n",
      "#################################\n",
      "\n",
      "6885\n",
      "INFO:tensorflow:Restoring parameters from save_2/model.ckpt-63199\n"
     ]
    },
    {
     "ename": "KeyError",
     "evalue": "','",
     "output_type": "error",
     "traceback": [
      "\u001b[0;31m---------------------------------------------------------------------------\u001b[0m",
      "\u001b[0;31mKeyError\u001b[0m                                  Traceback (most recent call last)",
      "\u001b[0;32m<ipython-input-11-30dd7db2f298>\u001b[0m in \u001b[0;36m<module>\u001b[0;34m\u001b[0m\n\u001b[0;32m----> 1\u001b[0;31m \u001b[0mg\u001b[0m\u001b[0;34m.\u001b[0m\u001b[0mgenerate_line\u001b[0m\u001b[0;34m(\u001b[0m\u001b[0;34m'message'\u001b[0m\u001b[0;34m,\u001b[0m \u001b[0;34m'surprise'\u001b[0m\u001b[0;34m)\u001b[0m\u001b[0;34m\u001b[0m\u001b[0m\n\u001b[0m",
      "\u001b[0;32m~/projects/poetix/Generate.py\u001b[0m in \u001b[0;36mgenerate_line\u001b[0;34m(self, word1, word2)\u001b[0m\n\u001b[1;32m    264\u001b[0m         \u001b[0mprint\u001b[0m \u001b[0;34m(\u001b[0m\u001b[0;34m'#################################\\n'\u001b[0m\u001b[0;34m)\u001b[0m\u001b[0;34m\u001b[0m\u001b[0m\n\u001b[1;32m    265\u001b[0m \u001b[0;34m\u001b[0m\u001b[0m\n\u001b[0;32m--> 266\u001b[0;31m         \u001b[0mlist_1\u001b[0m\u001b[0;34m=\u001b[0m \u001b[0mself\u001b[0m\u001b[0;34m.\u001b[0m\u001b[0mgenPoem_forward\u001b[0m\u001b[0;34m(\u001b[0m\u001b[0mfirst_noun\u001b[0m\u001b[0;34m,\u001b[0m \u001b[0mtemplate\u001b[0m\u001b[0;34m[\u001b[0m\u001b[0mfirst_pos\u001b[0m\u001b[0;34m:\u001b[0m\u001b[0mlast_pos\u001b[0m\u001b[0;34m]\u001b[0m\u001b[0;34m)\u001b[0m\u001b[0;34m\u001b[0m\u001b[0m\n\u001b[0m\u001b[1;32m    267\u001b[0m         \u001b[0mlist_2\u001b[0m\u001b[0;34m=\u001b[0m \u001b[0mself\u001b[0m\u001b[0;34m.\u001b[0m\u001b[0mforce_middle\u001b[0m\u001b[0;34m(\u001b[0m\u001b[0mlist_1\u001b[0m\u001b[0;34m[\u001b[0m\u001b[0;34m:\u001b[0m\u001b[0;36m50\u001b[0m\u001b[0;34m]\u001b[0m\u001b[0;34m,\u001b[0m \u001b[0mlast_noun\u001b[0m\u001b[0;34m)\u001b[0m\u001b[0;34m\u001b[0m\u001b[0m\n\u001b[1;32m    268\u001b[0m \u001b[0;34m\u001b[0m\u001b[0m\n",
      "\u001b[0;32m~/projects/poetix/Generate.py\u001b[0m in \u001b[0;36mgenPoem_forward\u001b[0;34m(self, word_last, TemplatePOS)\u001b[0m\n\u001b[1;32m    118\u001b[0m                 \u001b[0minit_score\u001b[0m \u001b[0;34m=\u001b[0m \u001b[0mnp\u001b[0m\u001b[0;34m.\u001b[0m\u001b[0marray\u001b[0m\u001b[0;34m(\u001b[0m\u001b[0;34m[\u001b[0m\u001b[0;34m[\u001b[0m\u001b[0;36m0\u001b[0m\u001b[0;34m]\u001b[0m\u001b[0;34m]\u001b[0m\u001b[0;34m)\u001b[0m\u001b[0;34m\u001b[0m\u001b[0m\n\u001b[1;32m    119\u001b[0m                 lst = search_forward(model, vocab, init_score,[word_last],state, sess, 1,\\\n\u001b[0;32m--> 120\u001b[0;31m                                   self.dictPartSpeechTags,self.dictPossiblePartsSpeech,self.width,self.wordPools[wordPool_ind], self.PartOfSpeachSet, TemplatePOS)\n\u001b[0m\u001b[1;32m    121\u001b[0m                 \u001b[0mlst\u001b[0m\u001b[0;34m.\u001b[0m\u001b[0msort\u001b[0m\u001b[0;34m(\u001b[0m\u001b[0mkey\u001b[0m\u001b[0;34m=\u001b[0m\u001b[0mitemgetter\u001b[0m\u001b[0;34m(\u001b[0m\u001b[0;36m0\u001b[0m\u001b[0;34m)\u001b[0m\u001b[0;34m,\u001b[0m \u001b[0mreverse\u001b[0m \u001b[0;34m=\u001b[0m \u001b[0;32mTrue\u001b[0m\u001b[0;34m)\u001b[0m\u001b[0;34m\u001b[0m\u001b[0m\n\u001b[1;32m    122\u001b[0m                 \u001b[0;31m# line diagnostics\u001b[0m\u001b[0;34m\u001b[0m\u001b[0;34m\u001b[0m\u001b[0m\n",
      "\u001b[0;32m~/projects/poetix/functions.py\u001b[0m in \u001b[0;36msearch_forward\u001b[0;34m(model, vocab, prob_sequence, sequence, state, session, temp, dictPartSpeechTags, dictPossiblePartsSpeech, breadth, wordPool, PartOfSpeachSet, TemplatePOS)\u001b[0m\n\u001b[1;32m    222\u001b[0m             possible_branches = beamSearchOneLevel(model, vocab, next_search[1][0][0], next_search[1][1],\\\n\u001b[1;32m    223\u001b[0m                                 \u001b[0mnext_search\u001b[0m\u001b[0;34m[\u001b[0m\u001b[0;36m1\u001b[0m\u001b[0;34m]\u001b[0m\u001b[0;34m[\u001b[0m\u001b[0;36m0\u001b[0m\u001b[0;34m]\u001b[0m\u001b[0;34m[\u001b[0m\u001b[0;36m1\u001b[0m\u001b[0;34m]\u001b[0m\u001b[0;34m,\u001b[0m \u001b[0msession\u001b[0m\u001b[0;34m,\u001b[0m \u001b[0mtemp\u001b[0m\u001b[0;34m,\u001b[0m\u001b[0;31m\\\u001b[0m\u001b[0;34m\u001b[0m\u001b[0m\n\u001b[0;32m--> 224\u001b[0;31m                                 dictPartSpeechTags,dictPossiblePartsSpeech, breadth, wordPool, PartOfSpeachSet, TemplatePOS)\n\u001b[0m\u001b[1;32m    225\u001b[0m             \u001b[0;32mif\u001b[0m\u001b[0;34m(\u001b[0m\u001b[0mpossible_branches\u001b[0m \u001b[0;34m==\u001b[0m \u001b[0;34m\"begin_line\"\u001b[0m\u001b[0;34m)\u001b[0m\u001b[0;34m:\u001b[0m\u001b[0;34m\u001b[0m\u001b[0m\n\u001b[1;32m    226\u001b[0m                 \u001b[0mcheckList\u001b[0m\u001b[0;34m+=\u001b[0m\u001b[0;34m[\u001b[0m\u001b[0mnext_search\u001b[0m\u001b[0;34m]\u001b[0m\u001b[0;34m\u001b[0m\u001b[0m\n",
      "\u001b[0;32m~/projects/poetix/functions.py\u001b[0m in \u001b[0;36mbeamSearchOneLevel\u001b[0;34m(model, vocab, prob_sequence, sequence, state, session, temp, dictPartSpeechTags, dictPossiblePartsSpeech, breadth, wordPool, PartOfSpeachSet, TemplatePOS)\u001b[0m\n\u001b[1;32m    189\u001b[0m             \u001b[0;32mif\u001b[0m\u001b[0;34m(\u001b[0m\u001b[0mword\u001b[0m \u001b[0;34m==\u001b[0m \u001b[0msequence\u001b[0m\u001b[0;34m[\u001b[0m\u001b[0;34m-\u001b[0m\u001b[0;36m1\u001b[0m\u001b[0;34m]\u001b[0m\u001b[0;34m)\u001b[0m\u001b[0;34m:\u001b[0m\u001b[0;34m\u001b[0m\u001b[0m\n\u001b[1;32m    190\u001b[0m                 \u001b[0;32mcontinue\u001b[0m\u001b[0;34m\u001b[0m\u001b[0m\n\u001b[0;32m--> 191\u001b[0;31m             \u001b[0;32mif\u001b[0m\u001b[0;34m(\u001b[0m\u001b[0mpartsOfSpeechFilter\u001b[0m\u001b[0;34m(\u001b[0m\u001b[0msequence\u001b[0m\u001b[0;34m[\u001b[0m\u001b[0;34m-\u001b[0m\u001b[0;36m1\u001b[0m\u001b[0;34m]\u001b[0m\u001b[0;34m,\u001b[0m\u001b[0mword\u001b[0m\u001b[0;34m,\u001b[0m\u001b[0mdictPartSpeechTags\u001b[0m\u001b[0;34m,\u001b[0m\u001b[0mdictPossiblePartsSpeech\u001b[0m\u001b[0;34m)\u001b[0m\u001b[0;34m)\u001b[0m\u001b[0;34m:\u001b[0m\u001b[0;34m\u001b[0m\u001b[0m\n\u001b[0m\u001b[1;32m    192\u001b[0m                 \u001b[0;32mcontinue\u001b[0m\u001b[0;34m\u001b[0m\u001b[0m\n\u001b[1;32m    193\u001b[0m             \u001b[0;31m#FACTORS IN SCORE ADJUSTMENTS\u001b[0m\u001b[0;34m\u001b[0m\u001b[0;34m\u001b[0m\u001b[0m\n",
      "\u001b[0;32m~/projects/poetix/functions.py\u001b[0m in \u001b[0;36mpartsOfSpeechFilter\u001b[0;34m(word1, word2, dictPartSpeechTags, dictPossiblePartsSpeech)\u001b[0m\n\u001b[1;32m    173\u001b[0m             \u001b[0;31m#if(tag1==tag2 and tag1 not in okay_tags):\u001b[0m\u001b[0;34m\u001b[0m\u001b[0;34m\u001b[0m\u001b[0m\n\u001b[1;32m    174\u001b[0m             \u001b[0;31m#    return True\u001b[0m\u001b[0;34m\u001b[0m\u001b[0;34m\u001b[0m\u001b[0m\n\u001b[0;32m--> 175\u001b[0;31m             \u001b[0;32mif\u001b[0m\u001b[0;34m(\u001b[0m\u001b[0mtag1\u001b[0m \u001b[0;32mnot\u001b[0m \u001b[0;32min\u001b[0m \u001b[0mdictPossiblePartsSpeech\u001b[0m\u001b[0;34m[\u001b[0m\u001b[0mtag2\u001b[0m\u001b[0;34m]\u001b[0m\u001b[0;34m)\u001b[0m\u001b[0;34m:\u001b[0m\u001b[0;34m\u001b[0m\u001b[0m\n\u001b[0m\u001b[1;32m    176\u001b[0m                 \u001b[0;32mreturn\u001b[0m \u001b[0;32mTrue\u001b[0m\u001b[0;34m\u001b[0m\u001b[0m\n\u001b[1;32m    177\u001b[0m             \u001b[0;32melse\u001b[0m\u001b[0;34m:\u001b[0m\u001b[0;34m\u001b[0m\u001b[0m\n",
      "\u001b[0;31mKeyError\u001b[0m: ','"
     ]
    }
   ],
   "source": [
    "g.generate_line('message', 'surprise')"
   ]
  }
 ],
 "metadata": {
  "kernelspec": {
   "display_name": "Python 3",
   "language": "python",
   "name": "python3"
  },
  "language_info": {
   "codemirror_mode": {
    "name": "ipython",
    "version": 3
   },
   "file_extension": ".py",
   "mimetype": "text/x-python",
   "name": "python",
   "nbconvert_exporter": "python",
   "pygments_lexer": "ipython3",
   "version": "3.6.0"
  }
 },
 "nbformat": 4,
 "nbformat_minor": 2
}
