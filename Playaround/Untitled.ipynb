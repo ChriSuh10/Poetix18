{
 "cells": [
  {
   "cell_type": "code",
   "execution_count": 4,
   "metadata": {},
   "outputs": [],
   "source": [
    "postag_file='../py_files/saved_objects/postag_dict_all.p'\n",
    "with open(postag_file, 'rb') as f:\n",
    "    postag_dict = pickle.load(f)\n",
    "    pos_to_words = postag_dict[1]\n",
    "    words_to_pos = postag_dict[2]"
   ]
  },
  {
   "cell_type": "code",
   "execution_count": 17,
   "metadata": {},
   "outputs": [],
   "source": [
    "import numpy as np"
   ]
  },
  {
   "cell_type": "code",
   "execution_count": 13,
   "metadata": {},
   "outputs": [],
   "source": [
    "import tensorflow as tf"
   ]
  },
  {
   "cell_type": "code",
   "execution_count": 12,
   "metadata": {},
   "outputs": [
    {
     "data": {
      "text/plain": [
       "['NN', 'NNS', 'NNP']"
      ]
     },
     "execution_count": 12,
     "metadata": {},
     "output_type": "execute_result"
    }
   ],
   "source": [
    "words_to_pos[\"buffalo\"]"
   ]
  },
  {
   "cell_type": "code",
   "execution_count": 22,
   "metadata": {},
   "outputs": [],
   "source": [
    "a=\"He had become one of the richest men in Italy, and all he had to do was stay in the city, not buy, because he loved to sit and cry that he could get away withthat, but he had to deal with people.And she told that father that if he went out too far they would beat him up and kill him. All that was needed was to kill him.His father's reaction was a kind of rage.But the story goes in a different way.The man started to cry, and everyone around him started to cry. At first, he just laughed.Suddenly, the father's anger was growing stronger.The boy stared at him, his head bowed in his arms. The only emotion he could really understand was that his father was trying his best to keep his eyes clear.At first, he was shocked, but he kept trying his best to make it look like it was going smoothly.\""
   ]
  },
  {
   "cell_type": "code",
   "execution_count": 45,
   "metadata": {},
   "outputs": [],
   "source": [
    "a=np.array([[1,2,3],[3,4,5]])"
   ]
  },
  {
   "cell_type": "code",
   "execution_count": 49,
   "metadata": {},
   "outputs": [
    {
     "name": "stdout",
     "output_type": "stream",
     "text": [
      "[[0.09003057 0.24472848 0.66524094]\n",
      " [0.09003057 0.24472848 0.66524094]]\n"
     ]
    },
    {
     "data": {
      "text/plain": [
       "array([1., 1.], dtype=float32)"
      ]
     },
     "execution_count": 49,
     "metadata": {},
     "output_type": "execute_result"
    }
   ],
   "source": [
    "a=tf.cast(a,tf.float32)\n",
    "b=tf.nn.softmax(a)\n",
    "with tf.Session() as sess:\n",
    "    c=sess.run(b)\n",
    "print(c)\n",
    "np.sum(c,axis=1)"
   ]
  },
  {
   "cell_type": "code",
   "execution_count": 24,
   "metadata": {},
   "outputs": [],
   "source": [
    "import re"
   ]
  },
  {
   "cell_type": "code",
   "execution_count": 30,
   "metadata": {},
   "outputs": [],
   "source": [
    "words = set(re.sub(\"[^\\w]\", \" \",  a).split())"
   ]
  },
  {
   "cell_type": "code",
   "execution_count": 31,
   "metadata": {},
   "outputs": [],
   "source": [
    "wordbank={}\n",
    "for w in words:\n",
    "    for k in words_to_pos[w]:\n",
    "        if k not in wordbank.keys():\n",
    "            wordbank[k]=[]\n",
    "        wordbank[k].append(w)"
   ]
  },
  {
   "cell_type": "code",
   "execution_count": 43,
   "metadata": {},
   "outputs": [
    {
     "name": "stdout",
     "output_type": "stream",
     "text": [
      "['different', 'clear', 'first']\n"
     ]
    }
   ],
   "source": [
    "print(wordbank[\"JJ\"])"
   ]
  },
  {
   "cell_type": "code",
   "execution_count": 33,
   "metadata": {},
   "outputs": [],
   "source": [
    "import random"
   ]
  },
  {
   "cell_type": "code",
   "execution_count": 34,
   "metadata": {},
   "outputs": [],
   "source": [
    "template=['PRP', 'VBD', 'CD', 'JJ', 'NN', 'IN', 'DT', 'JJ', 'NN', 'IN', 'NN', 'IN', 'PRP$', 'NN']"
   ]
  },
  {
   "cell_type": "code",
   "execution_count": 40,
   "metadata": {},
   "outputs": [
    {
     "name": "stdout",
     "output_type": "stream",
     "text": [
      "['she', 'kept', 'one', 'different', 'emotion', 'because', 'the', 'clear', 'father', 'that', 'stay', 'at', 'his', 'deal']\n",
      "['she', 'told', 'one', 'first', 'look', 'if', 'the', 'different', 'way', 'in', 'look', 'that', 'his', 'emotion']\n",
      "['he', 'told', 'one', 'clear', 'deal', 'if', 'that', 'first', 'story', 'if', 'kind', 'of', 'his', 'story']\n",
      "['it', 'started', 'one', 'clear', 'anger', 'that', 'the', 'clear', 'beat', 'with', 'stay', 'because', 'his', 'sit']\n",
      "['she', 'stared', 'one', 'clear', 'reaction', 'in', 'that', 'different', 'head', 'of', 'man', 'with', 'his', 'head']\n",
      "['she', 'stared', 'one', 'clear', 'father', 'because', 'the', 'first', 'richest', 'if', 'city', 'with', 'his', 'richest']\n",
      "['he', 'told', 'one', 'clear', 'boy', 'because', 'a', 'first', 'rage', 'in', 'sit', 'because', 'his', 'story']\n",
      "['they', 'told', 'one', 'different', 'man', 'like', 'that', 'first', 'anger', 'if', 'man', 'if', 'his', 'stay']\n",
      "['she', 'bowed', 'one', 'clear', 'richest', 'if', 'that', 'clear', 'kind', 'in', 'anger', 'in', 'his', 'emotion']\n",
      "['she', 'went', 'one', 'clear', 'sit', 'because', 'a', 'first', 'man', 'around', 'man', 'of', 'his', 'anger']\n"
     ]
    }
   ],
   "source": [
    "n=10\n",
    "for _ in range(n):\n",
    "    sentence=[]\n",
    "    for i in template:\n",
    "        w=random.choice(wordbank[i])\n",
    "        sentence.append(w)\n",
    "    print(sentence)"
   ]
  },
  {
   "cell_type": "code",
   "execution_count": 37,
   "metadata": {},
   "outputs": [
    {
     "data": {
      "text/plain": [
       "['it',\n",
       " 'kept',\n",
       " 'one',\n",
       " 'different',\n",
       " 'story',\n",
       " 'if',\n",
       " 'the',\n",
       " 'first',\n",
       " 'cry',\n",
       " 'because',\n",
       " 'man',\n",
       " 'because',\n",
       " 'his',\n",
       " 'deal']"
      ]
     },
     "execution_count": 37,
     "metadata": {},
     "output_type": "execute_result"
    }
   ],
   "source": [
    "sentence"
   ]
  },
  {
   "cell_type": "code",
   "execution_count": null,
   "metadata": {},
   "outputs": [],
   "source": []
  }
 ],
 "metadata": {
  "kernelspec": {
   "display_name": "Python 3",
   "language": "python",
   "name": "python3"
  },
  "language_info": {
   "codemirror_mode": {
    "name": "ipython",
    "version": 3
   },
   "file_extension": ".py",
   "mimetype": "text/x-python",
   "name": "python",
   "nbconvert_exporter": "python",
   "pygments_lexer": "ipython3",
   "version": "3.5.0"
  }
 },
 "nbformat": 4,
 "nbformat_minor": 2
}
