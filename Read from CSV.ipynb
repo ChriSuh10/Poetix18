{
 "cells": [
  {
   "cell_type": "code",
   "execution_count": 1,
   "metadata": {},
   "outputs": [],
   "source": [
    "import pandas as pd\n",
    "import collections\n",
    "import numpy as np\n",
    "import matplotlib.pyplot as plt"
   ]
  },
  {
   "cell_type": "markdown",
   "metadata": {},
   "source": [
    "# Measures"
   ]
  },
  {
   "cell_type": "code",
   "execution_count": 21,
   "metadata": {},
   "outputs": [],
   "source": [
    "results = {}\n",
    "input_path = \"csv/batch_results.csv\"\n",
    "df = pd.read_csv(input_path)"
   ]
  },
  {
   "cell_type": "code",
   "execution_count": 22,
   "metadata": {
    "scrolled": true
   },
   "outputs": [
    {
     "name": "stdout",
     "output_type": "stream",
     "text": [
      "score\n",
      "defaultdict(<class 'list'>, {'SINGLE_STORY': [-4.324500186, -4.324500186, -4.324500186, -4.324500186, -4.324500186, -4.324500186], 'SINGLE_NO_STORY': [-4.290722732, -4.290722732, -4.290722732, -4.290722732, -4.290722732], 'DTS_NO_STORY': [-2.474821271, -2.474821271, -2.474821271, -2.474821271, -2.474821271], 'DTS_STORY': [-3.333170687, -3.333170687, -3.333170687, -3.333170687]})\n",
      "emotion\n",
      "defaultdict(<class 'list'>, {'SINGLE_STORY': [4, 4, 2, 4, 5, 2], 'SINGLE_NO_STORY': [2, 1, 2, 3, 2], 'DTS_NO_STORY': [5, 4, 2, 3, 2], 'DTS_STORY': [5, 4, 3, 2]})\n",
      "emotionKeyword\n",
      "defaultdict(<class 'list'>, {'SINGLE_STORY': ['Frustration', 'rage', 'Mad', 'anger', 'envy', 'angst'], 'SINGLE_NO_STORY': ['wanting', 'Confusion', 'irony', 'Warm', 'contented'], 'DTS_NO_STORY': ['ambition', 'Determination', 'frustration.', 'desire', 'desire'], 'DTS_STORY': ['Contentment', 'Wisdom', 'transformation', 'insight']})\n",
      "grammar\n",
      "defaultdict(<class 'list'>, {'SINGLE_STORY': [4, 2, 2, 3, 3, 4], 'SINGLE_NO_STORY': [2, 4, 4, 3, 3], 'DTS_NO_STORY': [5, 3, 3, 5, 4], 'DTS_STORY': [5, 3, 2, 4]})\n",
      "like\n",
      "defaultdict(<class 'list'>, {'SINGLE_STORY': [3, 2, 2, 2, 2, 2], 'SINGLE_NO_STORY': [1, 1, 1, 2, 2], 'DTS_NO_STORY': [3, 2, 1, 2, 3], 'DTS_STORY': [3, 2, 2, 2]})\n",
      "related\n",
      "defaultdict(<class 'list'>, {'SINGLE_STORY': [8, 5, 6, 2, 6, 3], 'SINGLE_NO_STORY': [2, 2, 2, 4, 5], 'DTS_NO_STORY': [9, 7, 3, 6, 8], 'DTS_STORY': [10, 8, 7, 6]})\n",
      "story\n",
      "defaultdict(<class 'list'>, {'SINGLE_STORY': [3, 2, 3, 2, 2, 2], 'SINGLE_NO_STORY': [2, 1, 1, 2, 4], 'DTS_NO_STORY': [4, 4, 1, 4, 4], 'DTS_STORY': [5, 4, 4, 3]})\n",
      "summarize\n",
      "defaultdict(<class 'list'>, {'SINGLE_STORY': ['Jealous man stokes', 'heat, desires, fears', 'Metal Charcoal Lit', 'rich jealous greed', 'winner, loser, rage', 'envy and angst'], 'SINGLE_NO_STORY': ['confused artist', 'Woman lives band', 'nonsense tall tale', 'Sun Sky Bigger', 'happy frivolous calm'], 'DTS_NO_STORY': ['desire,fail,aim', 'Hard Head Stubborn', 'Weird Impotent Crazy', 'dig, want, farm', 'gun farmer want'], 'DTS_STORY': ['Wise man cautious', 'Growing Old Wise', 'learn grown live', 'learn, think, act']})\n"
     ]
    }
   ],
   "source": [
    "for index in range(len(df)):\n",
    "    poem_type = df['Input.type'][index]\n",
    "    for column in df:\n",
    "        if column.startswith('Answer') or column == 'Input.score':\n",
    "            answer_type = column.split('.')[1]\n",
    "            if answer_type not in results:\n",
    "                results[answer_type] = collections.defaultdict(list)\n",
    "            results[answer_type][poem_type].append(df[column][index])\n",
    "for key in results:\n",
    "    print(key)\n",
    "    print(results[key])"
   ]
  },
  {
   "cell_type": "code",
   "execution_count": 31,
   "metadata": {},
   "outputs": [
    {
     "name": "stdout",
     "output_type": "stream",
     "text": [
      "emotion\n",
      "SINGLE_STORY | Mean: 3.50, Std: 1.12\n",
      "SINGLE_NO_STORY | Mean: 2.00, Std: 0.63\n",
      "DTS_NO_STORY | Mean: 3.20, Std: 1.17\n",
      "DTS_STORY | Mean: 3.50, Std: 1.12\n",
      "grammar\n",
      "SINGLE_STORY | Mean: 3.00, Std: 0.82\n",
      "SINGLE_NO_STORY | Mean: 3.20, Std: 0.75\n",
      "DTS_NO_STORY | Mean: 4.00, Std: 0.89\n",
      "DTS_STORY | Mean: 3.50, Std: 1.12\n",
      "like\n",
      "SINGLE_STORY | Mean: 2.17, Std: 0.37\n",
      "SINGLE_NO_STORY | Mean: 1.40, Std: 0.49\n",
      "DTS_NO_STORY | Mean: 2.20, Std: 0.75\n",
      "DTS_STORY | Mean: 2.25, Std: 0.43\n",
      "overall\n",
      "SINGLE_STORY | Mean: 5.00, Std: 2.00\n",
      "SINGLE_NO_STORY | Mean: 3.00, Std: 1.26\n",
      "DTS_NO_STORY | Mean: 6.60, Std: 2.06\n",
      "DTS_STORY | Mean: 7.75, Std: 1.48\n",
      "story\n",
      "SINGLE_STORY | Mean: 2.33, Std: 0.47\n",
      "SINGLE_NO_STORY | Mean: 2.00, Std: 1.10\n",
      "DTS_NO_STORY | Mean: 3.40, Std: 1.20\n",
      "DTS_STORY | Mean: 4.00, Std: 0.71\n"
     ]
    }
   ],
   "source": [
    "import matplotlib.pyplot as plt\n",
    "\n",
    "for key in results:\n",
    "    if key == 'emotion' or key == 'grammar' or key == 'like' or key == 'story' or key == 'related':\n",
    "        if key == 'related':\n",
    "            print('overall')\n",
    "        else:\n",
    "            print(key)\n",
    "        for poem_type in results[key]:\n",
    "            print(\"{0:s} | Mean: {1:.2f}, Std: {2:.2f}\".format(poem_type, np.mean(results[key][poem_type]), np.std(results[key][poem_type])))\n"
   ]
  },
  {
   "cell_type": "code",
   "execution_count": 34,
   "metadata": {},
   "outputs": [],
   "source": [
    "def get_user_score(results, poem_type, poem_id):\n",
    "    return results['related'][poem_type][poem_id]\n",
    "\n",
    "def get_our_score(results, poem_type, poem_id):\n",
    "    return results['score'][poem_type][poem_id]"
   ]
  },
  {
   "cell_type": "code",
   "execution_count": 35,
   "metadata": {},
   "outputs": [
    {
     "data": {
      "image/png": "[encoded data removed]",
      "text/plain": [
       "<Figure size 432x288 with 1 Axes>"
      ]
     },
     "metadata": {},
     "output_type": "display_data"
    }
   ],
   "source": [
    "x = []\n",
    "y = []\n",
    "for poem_type in results['score']:\n",
    "    for i in range(len(results['score'][poem_type])):\n",
    "        x.append(get_user_score(results, poem_type, i))\n",
    "        y.append(get_our_score(results, poem_type, i))\n",
    "plt.scatter(x,y)\n",
    "plt.xlabel('User Score')\n",
    "plt.ylabel('Our Score')\n",
    "plt.show()"
   ]
  },
  {
   "cell_type": "markdown",
   "metadata": {},
   "source": [
    "# Turing"
   ]
  },
  {
   "cell_type": "code",
   "execution_count": 13,
   "metadata": {},
   "outputs": [],
   "source": [
    "turing_results = collections.defaultdict(list)\n",
    "input_path = \"csv/batch_results_turing.csv\"\n",
    "df_turing = pd.read_csv(input_path)"
   ]
  },
  {
   "cell_type": "code",
   "execution_count": 14,
   "metadata": {},
   "outputs": [
    {
     "name": "stdout",
     "output_type": "stream",
     "text": [
      "HUMAN\n",
      "235\n",
      "GENERATED\n",
      "235\n"
     ]
    }
   ],
   "source": [
    "for index in range(len(df_turing)):\n",
    "    poem_type = df_turing['Input.type'][index]\n",
    "    for column in df_turing:\n",
    "        if column.startswith('Answer'):\n",
    "            turing_results[poem_type].append(int(df_turing[column][index][0]))\n",
    "for key in turing_results:\n",
    "    print(key)\n",
    "    print(len(turing_results[key]))"
   ]
  },
  {
   "cell_type": "code",
   "execution_count": 15,
   "metadata": {},
   "outputs": [
    {
     "name": "stdout",
     "output_type": "stream",
     "text": [
      "HUMAN | Mean: 2.21, Std: 1.30\n",
      "GENERATED | Mean: 2.74, Std: 1.48\n"
     ]
    }
   ],
   "source": [
    "import matplotlib.pyplot as plt\n",
    "\n",
    "for key in turing_results:\n",
    "    print(\"{0:s} | Mean: {1:.2f}, Std: {2:.2f}\".format(key, np.mean(turing_results[key]), np.std(turing_results[key])))"
   ]
  },
  {
   "cell_type": "code",
   "execution_count": 20,
   "metadata": {},
   "outputs": [],
   "source": [
    "generated = turing_results['GENERATED']"
   ]
  },
  {
   "cell_type": "code",
   "execution_count": 21,
   "metadata": {},
   "outputs": [
    {
     "name": "stdout",
     "output_type": "stream",
     "text": [
      "59\n"
     ]
    }
   ],
   "source": [
    "print(len([g for g in generated if g == 1]))"
   ]
  }
 ],
 "metadata": {
  "kernelspec": {
   "display_name": "Python 3",
   "language": "python",
   "name": "python3"
  },
  "language_info": {
   "codemirror_mode": {
    "name": "ipython",
    "version": 3
   },
   "file_extension": ".py",
   "mimetype": "text/x-python",
   "name": "python",
   "nbconvert_exporter": "python",
   "pygments_lexer": "ipython3",
   "version": "3.6.5"
  }
 },
 "nbformat": 4,
 "nbformat_minor": 2
}
