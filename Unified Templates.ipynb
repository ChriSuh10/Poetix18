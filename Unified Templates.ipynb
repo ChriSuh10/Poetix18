{
 "cells": [
  {
   "cell_type": "code",
   "execution_count": 1,
   "metadata": {},
   "outputs": [],
   "source": [
    "import pickle"
   ]
  },
  {
   "cell_type": "code",
   "execution_count": 2,
   "metadata": {},
   "outputs": [],
   "source": [
    "with open(\"py_files/saved_objects/templates_processed_tuple.pickle\",\"rb\") as pickle_in:\n",
    "    d = data=pickle.load(pickle_in)"
   ]
  },
  {
   "cell_type": "code",
   "execution_count": 6,
   "metadata": {},
   "outputs": [],
   "source": [
    "with open('py_files/saved_objects/unified_poems.pickle', 'rb') as pickle_in:\n",
    "    unified = pickle.load(pickle_in)"
   ]
  },
  {
   "cell_type": "code",
   "execution_count": 100,
   "metadata": {},
   "outputs": [],
   "source": [
    "poem = {\n",
    "            'second': {\n",
    "                'JJ': [\n",
    "                    (('WP$', 'NN', 'RB', 'VBD', 'JJ'),\n",
    "               ('whose', 'appetite', 'simply', 'was', 'unich'),\n",
    "               (5, 8))\n",
    "                ]\n",
    "            },\n",
    "            'third': {\n",
    "                'NN': [\n",
    "                       (('EX', 'VBZ', 'NN', 'IN', 'DT', 'NN'),\n",
    "               ('there', 'was', 'nothing', 'like', 'a', 'food'),\n",
    "               (6, 7))\n",
    "                ]\n",
    "            },\n",
    "            'fourth': {\n",
    "                'VBD': [\n",
    "                        (('PRP', 'RB', 'VBD'), ('she', 'contentedly', 'cooed'), (3, 6))\n",
    "                ]\n",
    "            },\n",
    "            'fifth': {\n",
    "                'NN': [\n",
    "                     (('AS', 'PRP', 'VBD', 'RP', 'CD', 'NNS', 'IN', 'PRP$', 'NN'),\n",
    "               ('as',\n",
    "                'she',\n",
    "                'let',\n",
    "                'out',\n",
    "                'three',\n",
    "                'tucks',\n",
    "                'in',\n",
    "                'her',\n",
    "                'tunic'),\n",
    "               (9, 10))\n",
    "                ]\n",
    "            }\n",
    "       }\n",
    "\n",
    "unified.append(poem)"
   ]
  },
  {
   "cell_type": "code",
   "execution_count": 103,
   "metadata": {},
   "outputs": [],
   "source": [
    "with open('py_files/saved_objects/unified_poems.pickle', 'wb') as pickle_out:\n",
    "        pickle.dump(unified, pickle_out)"
   ]
  },
  {
   "cell_type": "code",
   "execution_count": null,
   "metadata": {},
   "outputs": [],
   "source": [
    "d['fifth']"
   ]
  },
  {
   "cell_type": "code",
   "execution_count": 7,
   "metadata": {},
   "outputs": [
    {
     "data": {
      "text/plain": [
       "defaultdict(list,\n",
       "            {'NN': [(('WP$', 'NN', 'VBD', 'DT', 'NN', 'IN', 'NN'),\n",
       "               ('whose', 'pa', 'made', 'a', 'fortune', 'in', 'pork'),\n",
       "               (7, 8)),\n",
       "              (('WHO', 'VBD', 'JJ', 'NN', 'IN', 'NN'),\n",
       "               ('who', 'was', 'quite', 'fond', 'of', 'feedin'),\n",
       "               (6, 6)),\n",
       "              (('WHO', 'VBD', 'DT', 'JJ', 'NN', 'DT', 'NN'),\n",
       "               ('who', 'read', 'a', 'love', 'story', 'each', 'day'),\n",
       "               (7, 8)),\n",
       "              (('WHO', 'VBD', 'DT', 'PRP$', 'NN', 'IN', 'DT', 'NN'),\n",
       "               ('who', 'kept', 'all', 'his', 'cash', 'in', 'a', 'bucket'),\n",
       "               (8, 9)),\n",
       "              (('WHO', 'VBD', 'AS', 'PRP', 'VBD', 'IN', 'DT', 'NN'),\n",
       "               ('who', 'smiled', 'as', 'she', 'rode', 'on', 'a', 'tiger'),\n",
       "               (8, 9)),\n",
       "              (('WHO', 'VBD', 'DT', 'NN', 'IN', 'NN'),\n",
       "               ('who', 'hadnt', 'an', 'atom', 'of', 'fear'),\n",
       "               (6, 7)),\n",
       "              (('WHO', 'VBD', 'RP', 'PRP$', 'NNS', 'IN', 'DT', 'NN'),\n",
       "               ('who', 'sent', 'out', 'his', 'cards', 'for', 'a', 'party'),\n",
       "               (8, 9)),\n",
       "              (('WHO', 'VBD', 'PRP', 'RB', 'IN', 'DT', 'NN'),\n",
       "               ('who', 'found', 'himself', 'quite', 'at', 'a', 'loss'),\n",
       "               (7, 8)),\n",
       "              (('WHO', 'VBD', 'IN', 'JJ', 'NN'),\n",
       "               ('who', 'lived', 'on', 'distilled', 'kerosene'),\n",
       "               (5, 8)),\n",
       "              (('WHO', 'VBD', 'DT', 'JJ', 'NN', 'IN', 'PRP$', 'NN'),\n",
       "               ('who', 'had', 'a', 'large', 'wart', 'on', 'her', 'nose'),\n",
       "               (8, 8)),\n",
       "              (('WP$', 'NN', 'VBD', 'RB', 'JJR', 'THAN', 'NN'),\n",
       "               ('whose', 'speed', 'was', 'much', 'faster', 'than', 'light'),\n",
       "               (7, 8))],\n",
       "             'NNS': [(('WHO', 'RB', 'VBD', 'IN', 'NNS'),\n",
       "               ('who', 'simply', 'doted', 'on', 'gherkins'),\n",
       "               (5, 6)),\n",
       "              (('WHO', 'VBD', 'IN', 'DT', 'NN', 'IN', 'NNS'),\n",
       "               ('who', 'slipped', 'on', 'a', 'peel', 'of', 'bananas'),\n",
       "               (7, 9)),\n",
       "              (('WHO', 'VBD', 'IN', 'CD', 'IN', 'PRP$', 'NNS'),\n",
       "               ('who', 'married', 'on', 'one', 'of', 'his', 'trips'),\n",
       "               (7, 8))],\n",
       "             'VBD': [(('WHO', 'VBD', 'DT', 'JJ', 'NN', 'CC', 'VBD'),\n",
       "               ('who', 'ate', 'a', 'green', 'apple', 'and', 'died'),\n",
       "               (7, 8)),\n",
       "              (('WP', 'VBD', ',', 'PRP$', 'RB', 'AS', 'PRP', 'VBD'),\n",
       "               ('who', 'said', ',', 'its', 'just', 'as', 'i', 'feared'),\n",
       "               (7, 7))],\n",
       "             'JJR': [(('WP$', 'NN', 'VBD', 'JJR', 'CC', 'JJR'),\n",
       "               ('whose', 'knowledge', 'grew', 'lesser', 'and', 'lesser'),\n",
       "               (6, 9)),\n",
       "              (('WP', 'VBD', ',', 'DT', 'MD', 'VB', 'VBN', 'JJR'),\n",
       "               ('who',\n",
       "                'murmured',\n",
       "                ',',\n",
       "                'this',\n",
       "                'might',\n",
       "                'have',\n",
       "                'been',\n",
       "                'worse'),\n",
       "               (7, 8))],\n",
       "             'VB': [(('WP$', 'NNS', 'RB', 'MD', 'VB'),\n",
       "               ('whose', 'limericks', 'never', 'would', 'scan'),\n",
       "               (5, 8))],\n",
       "             'JJ': [(('WP$', 'NN', 'VBD', 'RBS', 'RB', 'JJ'),\n",
       "               ('whose', 'nose', 'was', 'most', 'awfully', 'bent'),\n",
       "               (6, 8)),\n",
       "              (('WHO', 'VBD', 'SO', 'RB', 'JJ'),\n",
       "               ('who', 'was', 'so', 'excessively', 'thin'),\n",
       "               (5, 8)),\n",
       "              (('WP$', 'NN', 'RB', 'VBD', 'JJ'),\n",
       "               ('whose', 'appetite', 'simply', 'was', 'unich'),\n",
       "               (5, 8)),\n",
       "              (('WP$', 'NN', 'VBD', 'JJ', 'CC', 'JJ'),\n",
       "               ('whose', 'knowledge', 'grew', 'green', 'and', 'strong'),\n",
       "               (6, 7))]})"
      ]
     },
     "execution_count": 7,
     "metadata": {},
     "output_type": "execute_result"
    }
   ],
   "source": [
    "d['second']"
   ]
  },
  {
   "cell_type": "code",
   "execution_count": null,
   "metadata": {},
   "outputs": [],
   "source": []
  }
 ],
 "metadata": {
  "kernelspec": {
   "display_name": "Python 3",
   "language": "python",
   "name": "python3"
  },
  "language_info": {
   "codemirror_mode": {
    "name": "ipython",
    "version": 3
   },
   "file_extension": ".py",
   "mimetype": "text/x-python",
   "name": "python",
   "nbconvert_exporter": "python",
   "pygments_lexer": "ipython3",
   "version": "3.6.0"
  }
 },
 "nbformat": 4,
 "nbformat_minor": 2
}
