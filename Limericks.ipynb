{
 "cells": [
  {
   "cell_type": "code",
   "execution_count": 62,
   "metadata": {},
   "outputs": [
    {
     "name": "stdout",
     "output_type": "stream",
     "text": [
      "The autoreload extension is already loaded. To reload it, use:\n",
      "  %reload_ext autoreload\n"
     ]
    }
   ],
   "source": [
    "%load_ext autoreload\n",
    "%autoreload 2"
   ]
  },
  {
   "cell_type": "code",
   "execution_count": 136,
   "metadata": {},
   "outputs": [],
   "source": [
    "from py_files.Limericks import Limerick_Generate"
   ]
  },
  {
   "cell_type": "code",
   "execution_count": 137,
   "metadata": {},
   "outputs": [],
   "source": [
    "lg = Limerick_Generate()"
   ]
  },
  {
   "cell_type": "code",
   "execution_count": 145,
   "metadata": {},
   "outputs": [
    {
     "name": "stderr",
     "output_type": "stream",
     "text": [
      "c:\\users\\hp\\anaconda2\\envs\\translator\\lib\\site-packages\\gensim\\matutils.py:737: FutureWarning: Conversion of the second argument of issubdtype from `int` to `np.signedinteger` is deprecated. In future, it will be treated as `np.int32 == np.dtype(int).type`.\n",
      "  if np.issubdtype(vec.dtype, np.int):\n"
     ]
    },
    {
     "data": {
      "text/plain": [
       "('birthplace', 'grace', 'report', 'court', 'case')"
      ]
     },
     "execution_count": 145,
     "metadata": {},
     "output_type": "execute_result"
    }
   ],
   "source": [
    "lg.get_five_words('grace')"
   ]
  },
  {
   "cell_type": "code",
   "execution_count": 125,
   "metadata": {},
   "outputs": [
    {
     "name": "stderr",
     "output_type": "stream",
     "text": [
      "c:\\users\\hp\\anaconda2\\envs\\translator\\lib\\site-packages\\gensim\\matutils.py:737: FutureWarning: Conversion of the second argument of issubdtype from `int` to `np.signedinteger` is deprecated. In future, it will be treated as `np.int32 == np.dtype(int).type`.\n",
      "  if np.issubdtype(vec.dtype, np.int):\n"
     ]
    },
    {
     "name": "stdout",
     "output_type": "stream",
     "text": [
      "['WHO', 'IN', 'NNS', 'VBD', 'JJ', 'NN', 'IN', 'NN']\n",
      "INFO:tensorflow:Restoring parameters from py_files/models/all_combined_back\\model.ckpt-120000\n",
      "['VBD', 'PRP', 'IN', 'WP', 'DT', 'NN']\n",
      "INFO:tensorflow:Restoring parameters from py_files/models/all_combined_back\\model.ckpt-120000\n",
      "['IF', 'PRP', 'VBD', 'DT', 'NN', 'IN']\n",
      "INFO:tensorflow:Restoring parameters from py_files/models/all_combined_back\\model.ckpt-120000\n",
      "['DT', 'JJ', 'NN', 'PRP', 'VBP']\n",
      "INFO:tensorflow:Restoring parameters from py_files/models/all_combined_back\\model.ckpt-120000\n",
      "************\n",
      "who at years deserted last night on sky\n",
      "told me for what no birth\n",
      "if i heard the blue earth\n",
      "the extraordinary way you lie\n",
      "\n"
     ]
    }
   ],
   "source": [
    "poem=lg.gen_poem_independent_matias('sky', 10)"
   ]
  },
  {
   "cell_type": "code",
   "execution_count": null,
   "metadata": {},
   "outputs": [
    {
     "name": "stderr",
     "output_type": "stream",
     "text": [
      "c:\\users\\hp\\anaconda2\\envs\\translator\\lib\\site-packages\\gensim\\matutils.py:737: FutureWarning: Conversion of the second argument of issubdtype from `int` to `np.signedinteger` is deprecated. In future, it will be treated as `np.int32 == np.dtype(int).type`.\n",
      "  if np.issubdtype(vec.dtype, np.int):\n"
     ]
    },
    {
     "name": "stdout",
     "output_type": "stream",
     "text": [
      "five words are: \n",
      "('suspend', 'distend', 'assault', 'halt', 'end')\n",
      "['WHO', 'VBD', 'IN', 'JJ', 'NN']\n",
      "INFO:tensorflow:Restoring parameters from py_files/models/all_combined_back\\model.ckpt-120000\n",
      "-6.006314849853515\n",
      "['who', 'deteriorated', 'as', 'thou', 'distend']\n",
      "['IN', 'CD', 'NNS', 'IN', 'DT', 'NN']\n",
      "INFO:tensorflow:Restoring parameters from py_files/models/all_combined_back\\model.ckpt-120000\n",
      "[',', 'VBD', 'VBG', 'PRP', 'IN', 'DT', 'NN']\n",
      "INFO:tensorflow:Restoring parameters from py_files/models/all_combined_back\\model.ckpt-120000\n",
      "INFO:tensorflow:Restoring parameters from py_files/models/all_combined_back\\model.ckpt-120000\n",
      "five words are: \n",
      "('id', 'kid', 'contempt', 'attempt', 'bid')\n",
      "five words are: \n",
      "('stockyard', 'card', 'information', 'identification', 'guard')\n",
      "five words are: \n",
      "('hughes', 'cruise', 'in', 'win', 'lose')\n",
      "five words are: \n",
      "('mysticism', 'organism', 'eerie', 'theory', 'socialism')\n",
      "['WP$', 'NN', 'VBD', 'DT', 'NN', 'IN', 'NN']\n",
      "INFO:tensorflow:Restoring parameters from py_files/models/all_combined_back\\model.ckpt-120000\n",
      "five words are: \n",
      "('maine', 'crane', 'wreck', 'neck', 'vein')\n",
      "['WP$', 'NN', 'VBD', 'DT', 'NN', 'IN', 'NN']\n",
      "INFO:tensorflow:Restoring parameters from py_files/models/all_combined_back\\model.ckpt-120000\n",
      "-5.489462171282087\n",
      "['whose', 'voice', 'disintegrated', 'a', 'sort', 'of', 'crane']\n",
      "['IN', 'JJ', 'NN']\n",
      "INFO:tensorflow:Restoring parameters from py_files/models/all_combined_back\\model.ckpt-120000\n",
      "['CC', 'TO', 'VB', 'PRP', 'VBD', 'NNS', 'IN', 'NN']\n",
      "INFO:tensorflow:Restoring parameters from py_files/models/all_combined_back\\model.ckpt-120000\n",
      "INFO:tensorflow:Restoring parameters from py_files/models/all_combined_back\\model.ckpt-120000\n",
      "five words are: \n",
      "('pre', 'nominee', 'lifetime', 'time', 'be')\n",
      "five words are: \n",
      "('tour', 'premature', 'uncertain', 'certain', 'ensure')\n",
      "five words are: \n",
      "('unload', 'code', 'schools', 'rules', 'road')\n",
      "five words are: \n",
      "('joan', 'loan', 'glue', 'tissue', 'bone')\n",
      "five words are: \n",
      "('exhale', 'female', 'tail', 'male', 'scale')\n",
      "['WP$', 'NN', 'VBD', 'DT', 'NN', 'IN', 'NN']\n",
      "INFO:tensorflow:Restoring parameters from py_files/models/all_combined_back\\model.ckpt-120000\n",
      "-4.073605128696987\n",
      "['whose', 'experience', 'was', 'the', 'sense', 'of', 'female']\n",
      "['IN', 'DT', 'JJ', 'NN']\n",
      "INFO:tensorflow:Restoring parameters from py_files/models/all_combined_back\\model.ckpt-120000\n",
      "[',', 'CC', 'VBN', 'IN', 'DT', 'JJ', 'NN']\n",
      "INFO:tensorflow:Restoring parameters from py_files/models/all_combined_back\\model.ckpt-120000\n",
      "INFO:tensorflow:Restoring parameters from py_files/models/all_combined_back\\model.ckpt-120000\n",
      "five words are: \n",
      "('france', 'romance', 'frantic', 'romantic', 'dance')\n",
      "['WHO', 'VBD', 'IN', 'CD', 'IN', 'PRP$', 'NNS']\n",
      "INFO:tensorflow:Restoring parameters from py_files/models/all_combined_back\\model.ckpt-120000\n",
      "-5.272743770054409\n",
      "['who', 'was', 'anatomy', 'one', 'of', 'his', 'romance']\n",
      "['PRP$', 'NN', 'VBZ', 'DT', 'JJ']\n",
      "INFO:tensorflow:Restoring parameters from py_files/models/all_combined_back\\model.ckpt-120000\n",
      "['.', 'NNP', 'VBD', ',', 'PRP', 'VBZ', 'DT', 'JJ', 'NN', 'IN', 'NN']\n",
      "INFO:tensorflow:Restoring parameters from py_files/models/all_combined_back\\model.ckpt-120000\n",
      "['god', 'said', ',', 'it', 'is', 'a', 'horrible', 'sort', 'of', 'dance']\n",
      "['.', 'NNP', 'VBD', ',', 'PRP', 'VBZ', 'DT', 'JJ', 'NN', 'IN', 'NN']\n",
      "['gale', 'said', ',', 'it', 'is', 'a', 'curious', 'sort', 'of', 'dance']\n",
      "['.', 'NNP', 'VBD', ',', 'PRP', 'VBZ', 'DT', 'JJ', 'NN', 'IN', 'NN']\n",
      "['gray', 'said', ',', 'it', 'is', 'a', 'exquisite', 'sort', 'of', 'dance']\n",
      "['.', 'NNP', 'VBD', ',', 'PRP', 'VBZ', 'DT', 'JJ', 'NN', 'IN', 'NN']\n",
      "['gray', 'cried', ',', 'it', 'is', 'a', 'terrible', 'sort', 'of', 'dance']\n",
      "['.', 'NNP', 'VBD', ',', 'PRP', 'VBZ', 'DT', 'JJ', 'NN', 'IN', 'NN']\n",
      "['prim', 'said', ',', 'it', 'is', 'a', 'beautiful', 'sort', 'of', 'dance']\n",
      "['.', 'NNP', 'VBD', ',', 'PRP', 'VBZ', 'DT', 'JJ', 'NN', 'IN', 'NN']\n",
      "['gray', 'said', ',', 'it', 'is', 'a', 'delicate', 'sort', 'of', 'dance']\n",
      "['.', 'NNP', 'VBD', ',', 'PRP', 'VBZ', 'DT', 'JJ', 'NN', 'IN', 'NN']\n",
      "['im', 'said', ',', 'it', 'is', 'a', 'beautiful', 'sort', 'of', 'dance']\n",
      "['.', 'NNP', 'VBD', ',', 'PRP', 'VBZ', 'DT', 'JJ', 'NN', 'IN', 'NN']\n",
      "['im', 'lost', ',', 'it', 'is', 'a', 'beautiful', 'sort', 'of', 'dance']\n",
      "['.', 'NNP', 'VBD', ',', 'PRP', 'VBZ', 'DT', 'JJ', 'NN', 'IN', 'NN']\n",
      "['god', 'said', ',', 'it', 'is', 'a', 'terrible', 'sort', 'of', 'dance']\n",
      "['.', 'NNP', 'VBD', ',', 'PRP', 'VBZ', 'DT', 'JJ', 'NN', 'IN', 'NN']\n",
      "['god', 'said', ',', 'it', 'is', 'a', 'curious', 'sort', 'of', 'dance']\n",
      "['.', 'NNP', 'VBD', ',', 'PRP', 'VBZ', 'DT', 'JJ', 'NN', 'IN', 'NN']\n",
      "['god', 'was', ',', 'it', 'is', 'a', 'beautiful', 'sort', 'of', 'dance']\n",
      "['.', 'NNP', 'VBD', ',', 'PRP', 'VBZ', 'DT', 'JJ', 'NN', 'IN', 'NN']\n",
      "['gale', 'said', ',', 'it', 'is', 'a', 'beautiful', 'sort', 'of', 'dance']\n",
      "['.', 'NNP', 'VBD', ',', 'PRP', 'VBZ', 'DT', 'JJ', 'NN', 'IN', 'NN']\n",
      "['gray', 'cried', ',', 'it', 'is', 'a', 'curious', 'sort', 'of', 'dance']\n",
      "['.', 'NNP', 'VBD', ',', 'PRP', 'VBZ', 'DT', 'JJ', 'NN', 'IN', 'NN']\n",
      "['gray', 'said', ',', 'it', 'is', 'a', 'horrible', 'sort', 'of', 'dance']\n",
      "['.', 'NNP', 'VBD', ',', 'PRP', 'VBZ', 'DT', 'JJ', 'NN', 'IN', 'NN']\n",
      "['gray', 'said', ',', 'it', 'is', 'a', 'terrible', 'sort', 'of', 'dance']\n",
      "['.', 'NNP', 'VBD', ',', 'PRP', 'VBZ', 'DT', 'JJ', 'NN', 'IN', 'NN']\n",
      "['gray', 'said', ',', 'it', 'is', 'a', 'curious', 'sort', 'of', 'dance']\n",
      "['.', 'NNP', 'VBD', ',', 'PRP', 'VBZ', 'DT', 'JJ', 'NN', 'IN', 'NN']\n",
      "['god', 'said', ',', 'it', 'is', 'a', 'beautiful', 'sort', 'of', 'dance']\n",
      "['.', 'NNP', 'VBD', ',', 'PRP', 'VBZ', 'DT', 'JJ', 'NN', 'IN', 'NN']\n",
      "['gray', 'cried', ',', 'it', 'is', 'a', 'beautiful', 'sort', 'of', 'dance']\n",
      "['.', 'NNP', 'VBD', ',', 'PRP', 'VBZ', 'DT', 'JJ', 'NN', 'IN', 'NN']\n",
      "['gray', 'said', ',', 'it', 'is', 'a', 'beautiful', 'sort', 'of', 'dance']\n",
      "['.', 'NNP', 'VBD', ',', 'PRP', 'VBZ', 'DT', 'JJ', 'NN', 'IN', 'NN']\n",
      "['gray', 'was', ',', 'it', 'is', 'a', 'beautiful', 'sort', 'of', 'dance']\n",
      "['.', 'NNP', 'VBD', ',', 'PRP', 'VBZ', 'DT', 'JJ', 'NN', 'IN', 'NN']\n",
      "five words are: \n",
      "('commonplace', 'grace', 'report', 'court', 'case')\n",
      "['WHO', 'VBD', 'DT', 'JJ', 'NN', 'IN', 'PRP$', 'NN']\n",
      "INFO:tensorflow:Restoring parameters from py_files/models/all_combined_back\\model.ckpt-120000\n",
      "-3.9878289699554443\n",
      "['who', 'had', 'the', 'real', 'fascination', 'of', 'my', 'grace']\n",
      "['IN', 'PRP$', 'NNS', 'CC', 'PRP$', 'NN']\n",
      "INFO:tensorflow:Restoring parameters from py_files/models/all_combined_back\\model.ckpt-120000\n",
      "['IN', 'PRP$', 'NN', 'CC', 'NN', 'IN', 'DT', 'NN']\n",
      "INFO:tensorflow:Restoring parameters from py_files/models/all_combined_back\\model.ckpt-120000\n",
      "INFO:tensorflow:Restoring parameters from py_files/models/all_combined_back\\model.ckpt-120000\n",
      "['NNS', 'DT', 'NN', 'IN', 'NN'] ['IN', 'PRP$', 'JJ', 'NN']\n",
      "['NNS', 'DT', 'NN', 'IN', 'NN']\n",
      "INFO:tensorflow:Restoring parameters from py_files/models/all_combined_back\\model.ckpt-120000\n",
      "five words are: \n",
      "('sire', 'campfire', 'turning', 'burning', 'fire')\n",
      "five words are: \n",
      "('pending', 'descending', 'crawling', 'falling', 'ending')\n",
      "five words are: \n",
      "('exult', 'adult', 'say', 'way', 'result')\n",
      "['WP$', 'NN', 'VBD', 'DT', 'NN', 'IN', 'NN']\n",
      "INFO:tensorflow:Restoring parameters from py_files/models/all_combined_back\\model.ckpt-120000\n",
      "-4.156117303030832\n",
      "['whose', 'life', 'was', 'the', 'reality', 'of', 'adult']\n",
      "['IN', 'DT', 'JJ', 'NN']\n",
      "INFO:tensorflow:Restoring parameters from py_files/models/all_combined_back\\model.ckpt-120000\n",
      "[',', 'CC', 'VBN', 'IN', 'DT', 'JJ', 'NN']\n",
      "INFO:tensorflow:Restoring parameters from py_files/models/all_combined_back\\model.ckpt-120000\n",
      "INFO:tensorflow:Restoring parameters from py_files/models/all_combined_back\\model.ckpt-120000\n",
      "five words are: \n",
      "('u', 'review', 'reexamine', 'examine', 'to')\n",
      "five words are: \n",
      "('bible', 'libel', 'compensation', 'defamation', 'tribal')\n",
      "five words are: \n",
      "('transformation', 'vacation', 'location', 'information', 'communication')\n",
      "['WP$', 'NN', 'VBD', 'RB', 'JJR', 'THAN', 'NN']\n",
      "INFO:tensorflow:Restoring parameters from py_files/models/all_combined_back\\model.ckpt-120000\n",
      "-4.287412098475865\n",
      "['whose', 'idea', 'was', 'there', 'more', 'than', 'vacation']\n",
      "['IN', 'PRP$', 'NNS', 'CC', 'PRP$', 'NN']\n",
      "five words are: \n",
      "('rouse', 'ploughs', 'theology', 'ideology', 'espouse')\n"
     ]
    },
    {
     "name": "stdout",
     "output_type": "stream",
     "text": [
      "five words are: \n",
      "('abraham', 'jamb', 'floor', 'door', 'program')\n",
      "['WHO', 'VBD', 'AS', 'PRP', 'VBD', 'IN', 'DT', 'NN']\n",
      "INFO:tensorflow:Restoring parameters from py_files/models/all_combined_back\\model.ckpt-120000\n",
      "-4.5470356941223145\n",
      "['who', 'disappointed', 'as', 'it', 'was', 'in', 'that', 'jamb']\n",
      "['IN', 'CD', 'NNS', 'IN', 'DT', 'NN']\n",
      "INFO:tensorflow:Restoring parameters from py_files/models/all_combined_back\\model.ckpt-120000\n",
      "[',', 'VBD', 'VBG', 'PRP', 'IN', 'DT', 'NN']\n",
      "INFO:tensorflow:Restoring parameters from py_files/models/all_combined_back\\model.ckpt-120000\n",
      "INFO:tensorflow:Restoring parameters from py_files/models/all_combined_back\\model.ckpt-120000\n",
      "five words are: \n",
      "('court', 'swart', 'resistance', 'assistance', 'support')\n",
      "['WHO', 'VBD', 'IN', 'DT', 'NN', 'IN', 'NNS']\n",
      "INFO:tensorflow:Restoring parameters from py_files/models/all_combined_back\\model.ckpt-120000\n",
      "-6.285524095807757\n",
      "['who', 'disintegrated', 'in', 'the', 'shore', 'en', 'swart']\n",
      "['IN', 'CD', 'NNS', 'IN', 'DT', 'NN']\n",
      "INFO:tensorflow:Restoring parameters from py_files/models/all_combined_back\\model.ckpt-120000\n",
      "[',', 'VBD', 'VBG', 'PRP', 'IN', 'DT', 'NN']\n",
      "INFO:tensorflow:Restoring parameters from py_files/models/all_combined_back\\model.ckpt-120000\n"
     ]
    }
   ],
   "source": [
    "statement=True\n",
    "word=random.choice(lg.pos_to_words['NN'])\n",
    "while statement:\n",
    "    try:\n",
    "        poem=lg.gen_poem_conditioned(word, 11)\n",
    "        statement=False\n",
    "    except:\n",
    "        word=random.choice(lg.pos_to_words['NN'])"
   ]
  },
  {
   "cell_type": "markdown",
   "metadata": {},
   "source": [
    "## gen_poem_conditioned"
   ]
  },
  {
   "cell_type": "markdown",
   "metadata": {},
   "source": [
    "Generate 2nd, 3rd and 5th lines independently, then generate 1st conditioned on second and 4th conditioned on 5th."
   ]
  },
  {
   "cell_type": "markdown",
   "metadata": {},
   "source": [
    "#### mate"
   ]
  },
  {
   "cell_type": "code",
   "execution_count": 41,
   "metadata": {},
   "outputs": [
    {
     "name": "stderr",
     "output_type": "stream",
     "text": [
      "c:\\users\\hp\\anaconda2\\envs\\translator\\lib\\site-packages\\gensim\\matutils.py:737: FutureWarning: Conversion of the second argument of issubdtype from `int` to `np.signedinteger` is deprecated. In future, it will be treated as `np.int32 == np.dtype(int).type`.\n",
      "  if np.issubdtype(vec.dtype, np.int):\n"
     ]
    },
    {
     "name": "stdout",
     "output_type": "stream",
     "text": [
      "five words are: \n",
      "('alternate', 'mate', 'dream', 'team', 'state')\n",
      "['WHO', 'VBD', 'PRP', 'RB', 'IN', 'DT', 'NN']\n",
      "INFO:tensorflow:Restoring parameters from py_files/models/all_combined_back\\model.ckpt-120000\n",
      "['PRP', 'VBD', ',', 'IN', 'DT', 'NN']\n",
      "INFO:tensorflow:Restoring parameters from py_files/models/all_combined_back\\model.ckpt-120000\n",
      "['VBP', 'VBG', 'DT', 'NN', 'IN', 'PRP$', 'NN']\n",
      "INFO:tensorflow:Restoring parameters from py_files/models/all_combined_back\\model.ckpt-120000\n",
      "INFO:tensorflow:Restoring parameters from py_files/models/all_combined_back\\model.ckpt-120000\n",
      "INFO:tensorflow:Restoring parameters from py_files/models/all_combined_back\\model.ckpt-120000\n",
      "['IN', 'DT', 'JJ', 'NN', 'NN', 'VBP']\n",
      "INFO:tensorflow:Restoring parameters from py_files/models/all_combined_back\\model.ckpt-120000\n",
      "['CD', 'NNS', 'CC', 'DT', 'NN']\n",
      "INFO:tensorflow:Restoring parameters from py_files/models/all_combined_back\\model.ckpt-120000\n",
      "************\n",
      "of the whole thing everything alternate\n",
      "who fascinated me now as a mate\n",
      "i continued , with a dream\n",
      "undertone eyes and the team\n",
      "cant sing the fascination of her state\n",
      "\n"
     ]
    }
   ],
   "source": [
    "poem=lg.gen_poem_conditioned('mate', 10)"
   ]
  },
  {
   "cell_type": "code",
   "execution_count": 67,
   "metadata": {},
   "outputs": [
    {
     "name": "stderr",
     "output_type": "stream",
     "text": [
      "c:\\users\\hp\\anaconda2\\envs\\translator\\lib\\site-packages\\gensim\\matutils.py:737: FutureWarning: Conversion of the second argument of issubdtype from `int` to `np.signedinteger` is deprecated. In future, it will be treated as `np.int32 == np.dtype(int).type`.\n",
      "  if np.issubdtype(vec.dtype, np.int):\n"
     ]
    },
    {
     "name": "stdout",
     "output_type": "stream",
     "text": [
      "five words are: \n",
      "('liar', 'fire', 'kettle', 'metal', 'wire')\n",
      "['WHO', 'VBD', 'IN', 'JJ', 'NN']\n",
      "INFO:tensorflow:Restoring parameters from py_files/models/all_combined_back\\model.ckpt-120000\n",
      "['IN', 'PRP$', 'JJ', 'NN']\n",
      "INFO:tensorflow:Restoring parameters from py_files/models/all_combined_back\\model.ckpt-120000\n",
      "['IN', 'PRP$', 'NN', 'CC', 'NN', 'IN', 'DT', 'NN']\n",
      "INFO:tensorflow:Restoring parameters from py_files/models/all_combined_back\\model.ckpt-120000\n",
      "INFO:tensorflow:Restoring parameters from py_files/models/all_combined_back\\model.ckpt-120000\n",
      "INFO:tensorflow:Restoring parameters from py_files/models/all_combined_back\\model.ckpt-120000\n",
      "['VBN', 'CD', 'NNS', 'IN', 'PRP$', 'NN']\n",
      "INFO:tensorflow:Restoring parameters from py_files/models/all_combined_back\\model.ckpt-120000\n",
      "['IN', 'PRP$', 'NNS', 'CC', 'PRP$', 'NN']\n",
      "INFO:tensorflow:Restoring parameters from py_files/models/all_combined_back\\model.ckpt-120000\n",
      "************\n",
      "been one perturbations of his liar\n",
      "who initiated at last fire\n",
      "in his tremulous kettle\n",
      "of my eyes and his metal\n",
      "of my body and look at some wire\n",
      "\n"
     ]
    }
   ],
   "source": [
    "poem2=lg.gen_poem_conditioned('fire', 10)"
   ]
  },
  {
   "cell_type": "code",
   "execution_count": 106,
   "metadata": {},
   "outputs": [
    {
     "data": {
      "text/plain": [
       "[(['been', 'one', 'perturbations', 'of', 'his', 'liar'],\n",
       "  -6.998078028361003,\n",
       "  ['VBN', 'CD', 'NNS', 'IN', 'PRP$', 'NN']),\n",
       " (['who', 'initiated', 'at', 'last', 'fire'],\n",
       "  -5.47464599609375,\n",
       "  ['WHO', 'VBD', 'IN', 'JJ', 'NN']),\n",
       " (['in', 'his', 'tremulous', 'kettle'],\n",
       "  -3.5174553394317627,\n",
       "  ['IN', 'PRP$', 'JJ', 'NN']),\n",
       " (['of', 'my', 'eyes', 'and', 'his', 'metal'],\n",
       "  -5.591676712036133,\n",
       "  ['IN', 'PRP$', 'NNS', 'CC', 'PRP$', 'NN']),\n",
       " (['of', 'my', 'body', 'and', 'look', 'at', 'some', 'wire'],\n",
       "  -3.539680242538452,\n",
       "  ['IN', 'PRP$', 'NN', 'CC', 'NN', 'IN', 'DT', 'NN'])]"
      ]
     },
     "execution_count": 106,
     "metadata": {},
     "output_type": "execute_result"
    }
   ],
   "source": [
    "poem2"
   ]
  },
  {
   "cell_type": "code",
   "execution_count": 103,
   "metadata": {},
   "outputs": [
    {
     "name": "stderr",
     "output_type": "stream",
     "text": [
      "c:\\users\\hp\\anaconda2\\envs\\translator\\lib\\site-packages\\gensim\\matutils.py:737: FutureWarning: Conversion of the second argument of issubdtype from `int` to `np.signedinteger` is deprecated. In future, it will be treated as `np.int32 == np.dtype(int).type`.\n",
      "  if np.issubdtype(vec.dtype, np.int):\n"
     ]
    },
    {
     "name": "stdout",
     "output_type": "stream",
     "text": [
      "five words are: \n",
      "('outright', 'height', 'indicate', 'weight', 'light')\n",
      "['WHO', 'VBD', 'DT', 'JJ', 'NN', 'DT', 'NN']\n",
      "INFO:tensorflow:Restoring parameters from py_files/models/all_combined_back\\model.ckpt-120000\n",
      "['PRP', 'VBD', 'CD', 'TO', 'NN']\n",
      "INFO:tensorflow:Restoring parameters from py_files/models/all_combined_back\\model.ckpt-120000\n",
      "['IN', 'PRP$', 'NN', 'CC', 'NN', 'IN', 'DT', 'NN']\n",
      "INFO:tensorflow:Restoring parameters from py_files/models/all_combined_back\\model.ckpt-120000\n",
      "INFO:tensorflow:Restoring parameters from py_files/models/all_combined_back\\model.ckpt-120000\n",
      "INFO:tensorflow:Restoring parameters from py_files/models/all_combined_back\\model.ckpt-120000\n",
      "['NN', 'IN', 'PRP', 'MD']\n",
      "INFO:tensorflow:Restoring parameters from py_files/models/all_combined_back\\model.ckpt-120000\n",
      "['IN', 'PRP$', 'NNS', 'CC', 'PRP$', 'NN']\n",
      "INFO:tensorflow:Restoring parameters from py_files/models/all_combined_back\\model.ckpt-120000\n",
      "************\n",
      "individuality as we outright\n",
      "who initiated the light round each height\n",
      "i was favour to indicate\n",
      "in my eyes behemoth your weight\n",
      "of my philosophy and look in some light\n",
      "\n"
     ]
    }
   ],
   "source": [
    "poem3=lg.gen_poem_conditioned('height', 11)"
   ]
  },
  {
   "cell_type": "markdown",
   "metadata": {},
   "source": [
    "## Best line"
   ]
  },
  {
   "cell_type": "code",
   "execution_count": 120,
   "metadata": {},
   "outputs": [
    {
     "name": "stdout",
     "output_type": "stream",
     "text": [
      "['WHO', 'IN', 'NNS', 'VBD', 'JJ', 'NN', 'IN', 'NN']\n",
      "INFO:tensorflow:Restoring parameters from py_files/models/all_combined_back\\model.ckpt-120000\n",
      "['WHO', 'VBD', 'IN', 'CD', 'IN', 'PRP$', 'NNS']\n",
      "INFO:tensorflow:Restoring parameters from py_files/models/all_combined_back\\model.ckpt-120000\n",
      "['WHO', 'VBD', 'DT', 'JJ', 'NN', 'DT', 'NN']\n",
      "INFO:tensorflow:Restoring parameters from py_files/models/all_combined_back\\model.ckpt-120000\n",
      "['WHO', 'VBD', 'RP', 'PRP$', 'NNS', 'IN', 'DT', 'NN']\n",
      "INFO:tensorflow:Restoring parameters from py_files/models/all_combined_back\\model.ckpt-120000\n",
      "['WHO', 'VBD', 'DT', 'NN', 'IN', 'NN']\n",
      "INFO:tensorflow:Restoring parameters from py_files/models/all_combined_back\\model.ckpt-120000\n",
      "['WHO', 'VBD', 'PRP', 'RB', 'IN', 'DT', 'NN']\n",
      "INFO:tensorflow:Restoring parameters from py_files/models/all_combined_back\\model.ckpt-120000\n",
      "['WHO', 'VBD', 'IN', 'JJ', 'NN']\n",
      "INFO:tensorflow:Restoring parameters from py_files/models/all_combined_back\\model.ckpt-120000\n",
      "['WP$', 'NN', 'VBD', 'DT', 'NN', 'IN', 'NN']\n",
      "INFO:tensorflow:Restoring parameters from py_files/models/all_combined_back\\model.ckpt-120000\n"
     ]
    }
   ],
   "source": [
    "from py_files.templates import get_templates\n",
    "dataset, second_line, third_line, last_two=get_templates()\n",
    "p=lg.gen_best_line('sky', set_of_templates=second_line, rand_templates=5)"
   ]
  },
  {
   "cell_type": "code",
   "execution_count": 121,
   "metadata": {},
   "outputs": [
    {
     "data": {
      "text/plain": [
       "[(['who', 'was', 'a', 'solitary', 'round', 'the', 'sky'],\n",
       "  -3.8050354548863004,\n",
       "  ['WHO', 'VBD', 'DT', 'JJ', 'NN', 'DT', 'NN'],\n",
       "  ['who', 'read', 'a', 'love', 'story', 'each', 'day']),\n",
       " (['who', 'fascinated', 'me', 'there', 'in', 'the', 'sky'],\n",
       "  -3.8535614013671875,\n",
       "  ['WHO', 'VBD', 'PRP', 'RB', 'IN', 'DT', 'NN'],\n",
       "  ['who', 'found', 'himself', 'quite', 'at', 'a', 'loss']),\n",
       " (['who', 'repeated', 'on', 'my', 'feet', 'in', 'the', 'sky'],\n",
       "  -4.04962682723999,\n",
       "  ['WHO', 'VBD', 'RP', 'PRP$', 'NNS', 'IN', 'DT', 'NN'],\n",
       "  ['who', 'sent', 'out', 'his', 'cards', 'for', 'a', 'party']),\n",
       " (['whose', 'life', 'was', 'the', 'reality', 'on', 'sky'],\n",
       "  -4.351373400006976,\n",
       "  ['WP$', 'NN', 'VBD', 'DT', 'NN', 'IN', 'NN'],\n",
       "  ['whose', 'pa', 'made', 'a', 'fortune', 'in', 'pork']),\n",
       " (['who', 'hesitated', 'in', 'one', 'of', 'my', 'sky'],\n",
       "  -4.458645139421735,\n",
       "  ['WHO', 'VBD', 'IN', 'CD', 'IN', 'PRP$', 'NNS'],\n",
       "  ['who', 'married', 'on', 'one', 'of', 'his', 'trips']),\n",
       " (['who', 'investigated', 'the', 'way', 'on', 'sky'],\n",
       "  -5.081632296244304,\n",
       "  ['WHO', 'VBD', 'DT', 'NN', 'IN', 'NN'],\n",
       "  ['who', 'hadnt', 'an', 'atom', 'of', 'fear']),\n",
       " (['who', 'at', 'years', 'deserted', 'last', 'night', 'on', 'sky'],\n",
       "  -5.279506206512451,\n",
       "  ['WHO', 'IN', 'NNS', 'VBD', 'JJ', 'NN', 'IN', 'NN'],\n",
       "  ['who', 'on', 'apples', 'was', 'quite', 'fond', 'of', 'feedin']),\n",
       " (['who', 'deteriorated', 'in', 'large', 'sky'],\n",
       "  -5.725870132446289,\n",
       "  ['WHO', 'VBD', 'IN', 'JJ', 'NN'],\n",
       "  ['who', 'lived', 'on', 'distilled', 'kerosene'])]"
      ]
     },
     "execution_count": 121,
     "metadata": {},
     "output_type": "execute_result"
    }
   ],
   "source": [
    "p"
   ]
  },
  {
   "cell_type": "code",
   "execution_count": 146,
   "metadata": {},
   "outputs": [
    {
     "name": "stdout",
     "output_type": "stream",
     "text": [
      "['VBD', 'DT', 'NN', 'IN', 'DT', 'NN']\n",
      "INFO:tensorflow:Restoring parameters from py_files/models/all_combined_back\\model.ckpt-120000\n",
      "['VBD', 'DT', 'CD', 'TO', 'DT', 'NN']\n",
      "INFO:tensorflow:Restoring parameters from py_files/models/all_combined_back\\model.ckpt-120000\n",
      "['MD', 'RB', 'VB', 'RP', 'TO', 'NN']\n",
      "INFO:tensorflow:Restoring parameters from py_files/models/all_combined_back\\model.ckpt-120000\n",
      "['PRP', 'MD', 'VB', 'TO', 'DT', 'NN']\n",
      "INFO:tensorflow:Restoring parameters from py_files/models/all_combined_back\\model.ckpt-120000\n",
      "['PRP', 'VBD', 'IN', 'DT', 'NN']\n",
      "INFO:tensorflow:Restoring parameters from py_files/models/all_combined_back\\model.ckpt-120000\n"
     ]
    }
   ],
   "source": [
    "p=lg.gen_best_line('height', set_of_templates=third_line, rand_templates=5, num_sylls=8)"
   ]
  },
  {
   "cell_type": "code",
   "execution_count": 147,
   "metadata": {},
   "outputs": [
    {
     "data": {
      "text/plain": [
       "[(['i', 'hesitated', 'with', 'some', 'height'],\n",
       "  -3.943877410888672,\n",
       "  ['PRP', 'VBD', 'IN', 'DT', 'NN'],\n",
       "  ['it', 'said', 'on', 'the', 'door']),\n",
       " (['was', 'no', 'one', 'to', 'every', 'height'],\n",
       "  -4.294746081034343,\n",
       "  ['VBD', 'DT', 'CD', 'TO', 'DT', 'NN'],\n",
       "  ['said', 'the', 'two', 'to', 'the', 'tutor']),\n",
       " (['will', 'probably', 'come', 'back', 'to', 'height'],\n",
       "  -4.311198552449544,\n",
       "  ['MD', 'RB', 'VB', 'RP', 'TO', 'NN'],\n",
       "  [\"'did\", 'not', 'rush', 'off', 'to', 'town']),\n",
       " (['ourselves', 'will', 'come', 'to', 'each', 'height'],\n",
       "  -4.62187131245931,\n",
       "  ['PRP', 'MD', 'VB', 'TO', 'DT', 'NN'],\n",
       "  ['he', 'would', 'go', 'to', 'a', 'party'])]"
      ]
     },
     "execution_count": 147,
     "metadata": {},
     "output_type": "execute_result"
    }
   ],
   "source": [
    "p"
   ]
  },
  {
   "cell_type": "markdown",
   "metadata": {},
   "source": [
    "## Gen Poem"
   ]
  },
  {
   "cell_type": "code",
   "execution_count": 148,
   "metadata": {},
   "outputs": [
    {
     "name": "stderr",
     "output_type": "stream",
     "text": [
      "c:\\users\\hp\\anaconda2\\envs\\translator\\lib\\site-packages\\gensim\\matutils.py:737: FutureWarning: Conversion of the second argument of issubdtype from `int` to `np.signedinteger` is deprecated. In future, it will be treated as `np.int32 == np.dtype(int).type`.\n",
      "  if np.issubdtype(vec.dtype, np.int):\n"
     ]
    },
    {
     "name": "stdout",
     "output_type": "stream",
     "text": [
      "['WHO', 'VBD', 'IN', 'DT', 'NN', 'IN', 'NNS']\n",
      "INFO:tensorflow:Restoring parameters from py_files/models/all_combined_back\\model.ckpt-120000\n",
      "['WP$', 'NN', 'VBD', 'RB', 'JJR', 'THAN', 'NN']\n",
      "INFO:tensorflow:Restoring parameters from py_files/models/all_combined_back\\model.ckpt-120000\n",
      "['WHO', 'VBD', 'AS', 'PRP', 'VBD', 'IN', 'DT', 'NN']\n",
      "INFO:tensorflow:Restoring parameters from py_files/models/all_combined_back\\model.ckpt-120000\n",
      "['WHO', 'VBD', 'RP', 'PRP$', 'NNS', 'IN', 'DT', 'NN']\n",
      "INFO:tensorflow:Restoring parameters from py_files/models/all_combined_back\\model.ckpt-120000\n",
      "['WHO', 'VBD', 'DT', 'PRP$', 'NN', 'IN', 'DT', 'NN']\n",
      "INFO:tensorflow:Restoring parameters from py_files/models/all_combined_back\\model.ckpt-120000\n",
      "[(['who', 'came', 'to', 'the', 'elevator', 'out', 'height'], -3.9964888436453685, ['WHO', 'VBD', 'IN', 'DT', 'NN', 'IN', 'NNS'], ['who', 'slipped', 'on', 'a', 'peel', 'of', 'bananas']), (['who', 'came', 'on', 'my', 'hands', 'in', 'every', 'height'], -4.1248602867126465, ['WHO', 'VBD', 'RP', 'PRP$', 'NNS', 'IN', 'DT', 'NN'], ['who', 'sent', 'out', 'his', 'cards', 'for', 'a', 'party']), (['who', 'were', 'as', 'ourselves', 'seemed', 'to', 'some', 'height'], -4.955960750579834, ['WHO', 'VBD', 'AS', 'PRP', 'VBD', 'IN', 'DT', 'NN'], ['who', 'smiled', 'as', 'she', 'rode', 'on', 'a', 'tiger']), (['whose', 'life', 'was', 'absolutely', 'less', 'than', 'height'], -5.163310459681919, ['WP$', 'NN', 'VBD', 'RB', 'JJR', 'THAN', 'NN'], ['whose', 'speed', 'was', 'much', 'faster', 'than', 'light']), (['who', 'had', 'all', 'my', 'love', 'addition', 'some', 'height'], -5.454594135284424, ['WHO', 'VBD', 'DT', 'PRP$', 'NN', 'IN', 'DT', 'NN'], ['who', 'kept', 'all', 'his', 'cash', 'in', 'a', 'bucket'])]\n",
      "['VBD', 'DT', 'NN', ',', 'VB', 'PRP', 'VB']\n",
      "['VBD', 'DT', 'NN', ',', 'VB', 'RB', 'VB']\n",
      "['PRP', 'VBD', 'CD', 'TO', 'NN']\n"
     ]
    },
    {
     "ename": "ValueError",
     "evalue": "No lines can be constructed",
     "output_type": "error",
     "traceback": [
      "\u001b[1;31m---------------------------------------------------------------------------\u001b[0m",
      "\u001b[1;31mValueError\u001b[0m                                Traceback (most recent call last)",
      "\u001b[1;32m<ipython-input-148-287535113fb7>\u001b[0m in \u001b[0;36m<module>\u001b[1;34m()\u001b[0m\n\u001b[1;32m----> 1\u001b[1;33m \u001b[0mpoem\u001b[0m\u001b[1;33m=\u001b[0m\u001b[0mlg\u001b[0m\u001b[1;33m.\u001b[0m\u001b[0mgen_poem_independent_matias\u001b[0m\u001b[1;33m(\u001b[0m\u001b[1;34m'height'\u001b[0m\u001b[1;33m,\u001b[0m \u001b[1;36m10\u001b[0m\u001b[1;33m)\u001b[0m\u001b[1;33m\u001b[0m\u001b[0m\n\u001b[0m",
      "\u001b[1;32m~\\Documents\\Poetix18\\py_files\\Limericks.py\u001b[0m in \u001b[0;36mgen_poem_independent_matias\u001b[1;34m(self, seed_word, first_line_sylls, rand_template)\u001b[0m\n\u001b[0;32m    549\u001b[0m             \u001b[1;32melif\u001b[0m \u001b[0mi\u001b[0m\u001b[1;33m==\u001b[0m\u001b[1;36m2\u001b[0m\u001b[1;33m:\u001b[0m\u001b[1;33m\u001b[0m\u001b[0m\n\u001b[0;32m    550\u001b[0m                 \u001b[0mthis_line_sylls\u001b[0m \u001b[1;33m=\u001b[0m \u001b[0mthird_line_sylls\u001b[0m\u001b[1;33m\u001b[0m\u001b[0m\n\u001b[1;32m--> 551\u001b[1;33m                 \u001b[0mout\u001b[0m \u001b[1;33m=\u001b[0m \u001b[0mself\u001b[0m\u001b[1;33m.\u001b[0m\u001b[0mgen_best_line\u001b[0m\u001b[1;33m(\u001b[0m\u001b[0mw\u001b[0m\u001b[1;33m,\u001b[0m \u001b[0mnum_sylls\u001b[0m\u001b[1;33m=\u001b[0m\u001b[0mthis_line_sylls\u001b[0m\u001b[1;33m,\u001b[0m \u001b[0mset_of_templates\u001b[0m\u001b[1;33m=\u001b[0m\u001b[0mthird_line_\u001b[0m\u001b[1;33m)\u001b[0m\u001b[1;33m\u001b[0m\u001b[0m\n\u001b[0m\u001b[0;32m    552\u001b[0m             \u001b[1;32melif\u001b[0m \u001b[0mi\u001b[0m\u001b[1;33m==\u001b[0m\u001b[1;36m3\u001b[0m\u001b[1;33m:\u001b[0m\u001b[1;33m\u001b[0m\u001b[0m\n\u001b[0;32m    553\u001b[0m                 \u001b[0mout\u001b[0m \u001b[1;33m=\u001b[0m \u001b[0mself\u001b[0m\u001b[1;33m.\u001b[0m\u001b[0mgen_best_line\u001b[0m\u001b[1;33m(\u001b[0m\u001b[0mw\u001b[0m\u001b[1;33m,\u001b[0m \u001b[0mnum_sylls\u001b[0m\u001b[1;33m=\u001b[0m\u001b[0mthird_line_sylls\u001b[0m\u001b[1;33m,\u001b[0m \u001b[0mtemplates\u001b[0m\u001b[1;33m=\u001b[0m\u001b[0mfourth\u001b[0m\u001b[1;33m)\u001b[0m\u001b[1;33m\u001b[0m\u001b[0m\n",
      "\u001b[1;32m~\\Documents\\Poetix18\\py_files\\Limericks.py\u001b[0m in \u001b[0;36mgen_best_line\u001b[1;34m(self, w1, pos, templates, set_of_templates, rand_templates, num_sylls, state, score, return_state)\u001b[0m\n\u001b[0;32m    458\u001b[0m         \u001b[0mlines\u001b[0m\u001b[1;33m.\u001b[0m\u001b[0msort\u001b[0m\u001b[1;33m(\u001b[0m\u001b[0mkey\u001b[0m\u001b[1;33m=\u001b[0m\u001b[1;32mlambda\u001b[0m \u001b[0mx\u001b[0m\u001b[1;33m:\u001b[0m \u001b[0mx\u001b[0m\u001b[1;33m[\u001b[0m\u001b[1;36m1\u001b[0m\u001b[1;33m]\u001b[0m\u001b[1;33m,\u001b[0m \u001b[0mreverse\u001b[0m \u001b[1;33m=\u001b[0m \u001b[1;32mTrue\u001b[0m\u001b[1;33m)\u001b[0m\u001b[1;33m\u001b[0m\u001b[0m\n\u001b[0;32m    459\u001b[0m         \u001b[1;32mif\u001b[0m \u001b[0mlen\u001b[0m\u001b[1;33m(\u001b[0m\u001b[0mlines\u001b[0m\u001b[1;33m)\u001b[0m\u001b[1;33m==\u001b[0m\u001b[1;36m0\u001b[0m\u001b[1;33m:\u001b[0m\u001b[1;33m\u001b[0m\u001b[0m\n\u001b[1;32m--> 460\u001b[1;33m             \u001b[1;32mraise\u001b[0m \u001b[0mValueError\u001b[0m\u001b[1;33m(\u001b[0m\u001b[1;34m'No lines can be constructed'\u001b[0m\u001b[1;33m)\u001b[0m\u001b[1;33m\u001b[0m\u001b[0m\n\u001b[0m\u001b[0;32m    461\u001b[0m         \u001b[1;32mreturn\u001b[0m \u001b[0mlines\u001b[0m\u001b[1;33m\u001b[0m\u001b[0m\n\u001b[0;32m    462\u001b[0m \u001b[1;33m\u001b[0m\u001b[0m\n",
      "\u001b[1;31mValueError\u001b[0m: No lines can be constructed"
     ]
    }
   ],
   "source": [
    "poem=lg.gen_poem_independent_matias('height', 10)"
   ]
  },
  {
   "cell_type": "code",
   "execution_count": 144,
   "metadata": {},
   "outputs": [
    {
     "data": {
      "text/plain": [
       "[(['who', 'saw', 'it', 'curiously', 'in', 'the', 'sky'],\n",
       "  -4.016473225184849,\n",
       "  ['WHO', 'VBD', 'PRP', 'RB', 'IN', 'DT', 'NN'],\n",
       "  ['who', 'found', 'himself', 'quite', 'at', 'a', 'loss']),\n",
       " (['i', 'believe', 'the', 'mine', 'birth'],\n",
       "  -3.178923797607422,\n",
       "  ['PRP', 'VBP', 'DT', 'NN', 'NN'],\n",
       "  ['you', 'are', 'a', 'simpleton', 'loon']),\n",
       " (['it', 'was', 'so', 'little', 'earth'],\n",
       "  -3.326568603515625,\n",
       "  ['PRP', 'VBD', 'SO', 'JJ', 'NN'],\n",
       "  ['she', 'ate', 'so', 'much', 'spice']),\n",
       " (['it', 'is', 'any', 'words', 'of', 'love', 'for', 'me', 'lie'],\n",
       "  -3.3755276997884116,\n",
       "  ['PRP', 'VBZ', 'DT', 'NNS', 'IN', 'NN', 'IN', 'PRP', 'VBP'],\n",
       "  ['it', \"'s\", 'the', 'people', 'in', 'front', 'that', 'I', 'jar'])]"
      ]
     },
     "execution_count": 144,
     "metadata": {},
     "output_type": "execute_result"
    }
   ],
   "source": [
    "poem"
   ]
  },
  {
   "cell_type": "code",
   "execution_count": 151,
   "metadata": {},
   "outputs": [
    {
     "name": "stderr",
     "output_type": "stream",
     "text": [
      "c:\\users\\hp\\anaconda2\\envs\\translator\\lib\\site-packages\\gensim\\matutils.py:737: FutureWarning: Conversion of the second argument of issubdtype from `int` to `np.signedinteger` is deprecated. In future, it will be treated as `np.int32 == np.dtype(int).type`.\n",
      "  if np.issubdtype(vec.dtype, np.int):\n"
     ]
    },
    {
     "name": "stdout",
     "output_type": "stream",
     "text": [
      "five words are: \n",
      "('goodbye', 'sky', 'birth', 'earth', 'lie')\n",
      "['WHO', 'VBD', 'AS', 'PRP', 'VBD', 'IN', 'DT', 'NN']\n",
      "INFO:tensorflow:Restoring parameters from py_files/models/all_combined_back\\model.ckpt-120000\n",
      "['WHO', 'VBD', 'RP', 'PRP$', 'NNS', 'IN', 'DT', 'NN']\n",
      "INFO:tensorflow:Restoring parameters from py_files/models/all_combined_back\\model.ckpt-120000\n",
      "['WHO', 'VBD', 'IN', 'CD', 'IN', 'PRP$', 'NNS']\n",
      "INFO:tensorflow:Restoring parameters from py_files/models/all_combined_back\\model.ckpt-120000\n",
      "['WHO', 'VBD', 'DT', 'JJ', 'NN', 'IN', 'PRP$', 'NN']\n",
      "INFO:tensorflow:Restoring parameters from py_files/models/all_combined_back\\model.ckpt-120000\n",
      "['WHO', 'VBD', 'IN', 'JJ', 'NN']\n",
      "INFO:tensorflow:Restoring parameters from py_files/models/all_combined_back\\model.ckpt-120000\n",
      "['VBD', 'DT', 'NN', ',', 'DT', 'NN']\n",
      "INFO:tensorflow:Restoring parameters from py_files/models/all_combined_back\\model.ckpt-120000\n",
      "['PRP', 'VBD', 'RP', 'CD', 'NN']\n",
      "INFO:tensorflow:Restoring parameters from py_files/models/all_combined_back\\model.ckpt-120000\n",
      "['PDT', 'DT', 'NNS', 'VBD', 'IN']\n",
      "INFO:tensorflow:Restoring parameters from py_files/models/all_combined_back\\model.ckpt-120000\n",
      "['VBN', 'TO', 'DT', 'NN']\n",
      "INFO:tensorflow:Restoring parameters from py_files/models/all_combined_back\\model.ckpt-120000\n",
      "['THAN', 'DT', 'NN', 'IN', 'NN']\n",
      "INFO:tensorflow:Restoring parameters from py_files/models/all_combined_back\\model.ckpt-120000\n",
      "['PRP', 'VBZ', 'DT', 'NNS', 'IN', 'NN', 'IN', 'PRP', 'VBP']\n",
      "INFO:tensorflow:Restoring parameters from py_files/models/all_combined_back\\model.ckpt-120000\n",
      "INFO:tensorflow:Restoring parameters from py_files/models/all_combined_back\\model.ckpt-120000\n",
      "['PRP', 'VBD', 'SO', 'JJ', 'NN']\n",
      "INFO:tensorflow:Restoring parameters from py_files/models/all_combined_back\\model.ckpt-120000\n",
      "['IN', 'DT', 'JJ', 'NN', 'PRP', 'VBP']\n",
      "INFO:tensorflow:Restoring parameters from py_files/models/all_combined_back\\model.ckpt-120000\n",
      "INFO:tensorflow:Restoring parameters from py_files/models/all_combined_back\\model.ckpt-120000\n",
      "['IF', 'PRP', 'VBD', 'RB', 'VB', 'DT', 'NN']\n",
      "INFO:tensorflow:Restoring parameters from py_files/models/all_combined_back\\model.ckpt-120000\n"
     ]
    },
    {
     "ename": "ValueError",
     "evalue": "no lines can be constructed",
     "output_type": "error",
     "traceback": [
      "\u001b[1;31m---------------------------------------------------------------------------\u001b[0m",
      "\u001b[1;31mValueError\u001b[0m                                Traceback (most recent call last)",
      "\u001b[1;32m<ipython-input-151-69b31b4e077e>\u001b[0m in \u001b[0;36m<module>\u001b[1;34m()\u001b[0m\n\u001b[1;32m----> 1\u001b[1;33m \u001b[0mpoem\u001b[0m\u001b[1;33m=\u001b[0m\u001b[0mlg\u001b[0m\u001b[1;33m.\u001b[0m\u001b[0mgen_poem_conditioned\u001b[0m\u001b[1;33m(\u001b[0m\u001b[1;34m'sky'\u001b[0m\u001b[1;33m,\u001b[0m\u001b[1;36m10\u001b[0m\u001b[1;33m)\u001b[0m\u001b[1;33m\u001b[0m\u001b[0m\n\u001b[0m",
      "\u001b[1;32m~\\Documents\\Poetix18\\py_files\\Limericks.py\u001b[0m in \u001b[0;36mgen_poem_conditioned\u001b[1;34m(self, seed_word, second_line_sylls, rand_template)\u001b[0m\n\u001b[0;32m    616\u001b[0m         \u001b[0mlast\u001b[0m\u001b[1;33m.\u001b[0m\u001b[0msort\u001b[0m\u001b[1;33m(\u001b[0m\u001b[0mkey\u001b[0m\u001b[1;33m=\u001b[0m\u001b[1;32mlambda\u001b[0m \u001b[0mx\u001b[0m\u001b[1;33m:\u001b[0m \u001b[0mx\u001b[0m\u001b[1;33m[\u001b[0m\u001b[1;36m2\u001b[0m\u001b[1;33m]\u001b[0m\u001b[1;33m,\u001b[0m \u001b[0mreverse\u001b[0m \u001b[1;33m=\u001b[0m \u001b[1;32mTrue\u001b[0m\u001b[1;33m)\u001b[0m\u001b[1;33m\u001b[0m\u001b[0m\n\u001b[0;32m    617\u001b[0m         \u001b[1;32mif\u001b[0m \u001b[0mlen\u001b[0m\u001b[1;33m(\u001b[0m\u001b[0mlast\u001b[0m\u001b[1;33m)\u001b[0m\u001b[1;33m==\u001b[0m\u001b[1;36m0\u001b[0m\u001b[1;33m:\u001b[0m\u001b[1;33m\u001b[0m\u001b[0m\n\u001b[1;32m--> 618\u001b[1;33m             \u001b[1;32mraise\u001b[0m \u001b[0mValueError\u001b[0m\u001b[1;33m(\u001b[0m\u001b[1;34m'no lines can be constructed'\u001b[0m\u001b[1;33m)\u001b[0m\u001b[1;33m\u001b[0m\u001b[0m\n\u001b[0m\u001b[0;32m    619\u001b[0m         \u001b[0mline4\u001b[0m\u001b[1;33m=\u001b[0m\u001b[0mlast\u001b[0m\u001b[1;33m[\u001b[0m\u001b[1;36m0\u001b[0m\u001b[1;33m]\u001b[0m\u001b[1;33m[\u001b[0m\u001b[1;36m0\u001b[0m\u001b[1;33m]\u001b[0m\u001b[1;33m[\u001b[0m\u001b[1;36m0\u001b[0m\u001b[1;33m]\u001b[0m\u001b[1;33m\u001b[0m\u001b[0m\n\u001b[0;32m    620\u001b[0m         \u001b[0mscore4\u001b[0m\u001b[1;33m=\u001b[0m\u001b[0mlast\u001b[0m\u001b[1;33m[\u001b[0m\u001b[1;36m0\u001b[0m\u001b[1;33m]\u001b[0m\u001b[1;33m[\u001b[0m\u001b[1;36m0\u001b[0m\u001b[1;33m]\u001b[0m\u001b[1;33m[\u001b[0m\u001b[1;36m1\u001b[0m\u001b[1;33m]\u001b[0m\u001b[1;33m\u001b[0m\u001b[0m\n",
      "\u001b[1;31mValueError\u001b[0m: no lines can be constructed"
     ]
    }
   ],
   "source": [
    "poem=lg.gen_poem_conditioned('sky',10)"
   ]
  },
  {
   "cell_type": "code",
   "execution_count": 76,
   "metadata": {},
   "outputs": [],
   "source": []
  },
  {
   "cell_type": "code",
   "execution_count": null,
   "metadata": {},
   "outputs": [],
   "source": []
  }
 ],
 "metadata": {
  "kernelspec": {
   "display_name": "Python 3",
   "language": "python",
   "name": "python3"
  },
  "language_info": {
   "codemirror_mode": {
    "name": "ipython",
    "version": 3
   },
   "file_extension": ".py",
   "mimetype": "text/x-python",
   "name": "python",
   "nbconvert_exporter": "python",
   "pygments_lexer": "ipython3",
   "version": "3.7.0"
  }
 },
 "nbformat": 4,
 "nbformat_minor": 2
}
