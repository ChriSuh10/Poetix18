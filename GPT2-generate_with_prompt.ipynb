{
 "cells": [
  {
   "cell_type": "code",
   "execution_count": 83,
   "metadata": {},
   "outputs": [
    {
     "name": "stdout",
     "output_type": "stream",
     "text": [
      "The autoreload extension is already loaded. To reload it, use:\n",
      "  %reload_ext autoreload\n"
     ]
    }
   ],
   "source": [
    "%load_ext autoreload\n",
    "%autoreload 2\n",
    "import re"
   ]
  },
  {
   "cell_type": "code",
   "execution_count": 84,
   "metadata": {},
   "outputs": [],
   "source": [
    "from py_files.Limericks import Limerick_Generate"
   ]
  },
  {
   "cell_type": "code",
   "execution_count": 85,
   "metadata": {},
   "outputs": [],
   "source": [
    "lg = Limerick_Generate()"
   ]
  },
  {
   "cell_type": "code",
   "execution_count": 86,
   "metadata": {},
   "outputs": [],
   "source": [
    "f = open('prompt2.txt','r')\n",
    "template = f.read()"
   ]
  },
  {
   "cell_type": "code",
   "execution_count": 82,
   "metadata": {},
   "outputs": [
    {
     "name": "stdout",
     "output_type": "stream",
     "text": [
      "[[1326], [1326], [72], [1326], [258], [732], [270], [18855], [732], [1326], [258]]\n",
      "INFO:tensorflow:Restoring parameters from gpt2/models/117M/model.ckpt\n",
      "[[1326, 83], [1326, 46037], [72, 7174], [1326, 65], [258, 83], [732, 66], [270, 83], [18855, 28895], [732, 28895], [1326, 4529], [258, 9776]]\n",
      "INFO:tensorflow:Restoring parameters from gpt2/models/117M/model.ckpt\n",
      "[[1326, 83, 505], [1326, 46037, 505], [72, 7174, 505], [1326, 65, 505], [258, 83, 505], [732, 66, 505], [270, 83, 505], [18855, 28895, 505], [732, 28895, 505], [1326, 4529, 505], [258, 9776, 505]]\n",
      "INFO:tensorflow:Restoring parameters from gpt2/models/117M/model.ckpt\n",
      "[[1326, 83, 505, 1084], [1326, 46037, 505, 37330], [72, 7174, 505, 9979], [1326, 65, 505, 46037], [258, 83, 505, 9979], [732, 66, 505, 12001], [270, 83, 505, 1904], [18855, 28895, 505, 14664], [732, 28895, 505, 489], [1326, 4529, 505, 23913], [258, 9776, 505, 12543]]\n",
      "INFO:tensorflow:Restoring parameters from gpt2/models/117M/model.ckpt\n",
      "[[1326, 83, 505, 1084, 85], [1326, 46037, 505, 37330, 28895], [72, 7174, 505, 9979, 22680], [1326, 65, 505, 46037, 19205], [258, 83, 505, 9979, 17319], [732, 66, 505, 12001, 28895], [270, 83, 505, 1904, 4853], [18855, 28895, 505, 14664, 86], [732, 28895, 505, 489, 28895], [1326, 4529, 505, 23913, 9688], [258, 9776, 505, 12543, 22932]]\n",
      "INFO:tensorflow:Restoring parameters from gpt2/models/117M/model.ckpt\n",
      "[[1326, 83, 505, 1084, 85, 448], [1326, 46037, 505, 37330, 28895, 1659], [72, 7174, 505, 9979, 22680, 2502], [1326, 65, 505, 46037, 19205, 1525], [258, 83, 505, 9979, 17319, 6738], [732, 66, 505, 12001, 28895, 361], [270, 83, 505, 1904, 4853, 1659], [18855, 28895, 505, 14664, 86, 1640], [732, 28895, 505, 489, 28895, 13893], [1326, 4529, 505, 23913, 9688, 1525], [258, 9776, 505, 12543, 22932, 4480]]\n",
      "INFO:tensorflow:Restoring parameters from gpt2/models/117M/model.ckpt\n",
      "[[1326, 83, 505, 1084, 85, 448, 5562], [1326, 46037, 505, 37330, 28895, 1659, 3919], [72, 7174, 505, 9979, 22680, 2502, 27218], [1326, 65, 505, 46037, 19205, 1525, 5562], [258, 83, 505, 9979, 17319, 6738, 5562], [732, 66, 505, 12001, 28895, 361, 25591], [270, 83, 505, 1904, 4853, 1659, 64], [18855, 28895, 505, 14664, 86, 1640, 27218], [732, 28895, 505, 489, 28895, 13893, 1169], [1326, 4529, 505, 23913, 9688, 1525, 64], [258, 9776, 505, 12543, 22932, 4480, 64]]\n",
      "INFO:tensorflow:Restoring parameters from gpt2/models/117M/model.ckpt\n",
      "[[1326, 83, 505, 1084, 85, 448, 5562, 14261], [1326, 46037, 505, 37330, 28895, 1659, 3919, 29468], [72, 7174, 505, 9979, 22680, 2502, 27218, 2382], [1326, 65, 505, 46037, 19205, 1525, 5562, 29468], [258, 83, 505, 9979, 17319, 6738, 5562, 9509], [732, 66, 505, 12001, 28895, 361, 25591, 13424], [270, 83, 505, 1904, 4853, 1659, 64, 1904], [18855, 28895, 505, 14664, 86, 1640, 27218, 9979], [732, 28895, 505, 489, 28895, 13893, 1169, 31642], [1326, 4529, 505, 23913, 9688, 1525, 64, 33282], [258, 9776, 505, 12543, 22932, 4480, 64, 44460]]\n",
      "INFO:tensorflow:Restoring parameters from gpt2/models/117M/model.ckpt\n",
      "[['me', 'took', 'one', 'minor', 'vocation', 'out', 'that', 'big', 'year'], ['me', 'interrupted', 'one', 'supreme', 'thought', 'of', 'no', 'daily', 'city'], ['i', 'called', 'one', 'constant', 'business', 'over', 'these', 'american', 'insult'], ['me', 'brought', 'one', 'interrupted', 'city', 'by', 'that', 'daily', 'way'], ['he', 'tried', 'one', 'constant', 'course', 'from', 'that', 'electrical', 'while'], ['we', 'came', 'one', 'local', 'thought', 'if', 'those', 'black', 'shift'], ['it', 'took', 'one', 'useful', 'equipment', 'of', 'a', 'useful', 'question'], ['them', 'thought', 'one', 'musical', 'wicked', 'for', 'these', 'constant', 'vocation'], ['we', 'thought', 'one', 'plush', 'thought', 'because', 'the', 'same', 'mission'], ['me', 'mailed', 'one', 'average', 'start', 'by', 'a', 'brown', 'equipment'], ['he', 'was', 'one', 'funny', 'guy', 'with', 'a', 'nice', 'car']]\n",
      "[-71.72274684906006, -84.4507827758789, -87.47336006164551, -77.24297523498535, -80.71968078613281, -83.54064512252808, -75.2580795288086, -76.95113897323608, -70.17250204086304, -83.5114426612854, -64.13277053833008]\n"
     ]
    }
   ],
   "source": [
    "lg.gen_line_with_template(template, (['PRP', 'VBD', 'CD', 'JJ', 'NN', 'IN', 'DT', 'JJ', 'NN'], \n",
    "                                     ['he', 'was', 'one', 'funny', 'guy', 'with', 'a', 'nice', 'car'], 4))"
   ]
  },
  {
   "cell_type": "code",
   "execution_count": 29,
   "metadata": {
    "collapsed": true
   },
   "outputs": [
    {
     "name": "stdout",
     "output_type": "stream",
     "text": [
      "INFO:tensorflow:Restoring parameters from gpt2/models/117M/model.ckpt\n",
      "INFO:tensorflow:Restoring parameters from gpt2/models/117M/model.ckpt\n",
      "INFO:tensorflow:Restoring parameters from gpt2/models/117M/model.ckpt\n",
      "INFO:tensorflow:Restoring parameters from gpt2/models/117M/model.ckpt\n",
      "INFO:tensorflow:Restoring parameters from gpt2/models/117M/model.ckpt\n",
      "INFO:tensorflow:Restoring parameters from gpt2/models/117M/model.ckpt\n",
      "INFO:tensorflow:Restoring parameters from gpt2/models/117M/model.ckpt\n",
      "INFO:tensorflow:Restoring parameters from gpt2/models/117M/model.ckpt\n",
      "INFO:tensorflow:Restoring parameters from gpt2/models/117M/model.ckpt\n",
      "INFO:tensorflow:Restoring parameters from gpt2/models/117M/model.ckpt\n",
      "INFO:tensorflow:Restoring parameters from gpt2/models/117M/model.ckpt\n",
      "INFO:tensorflow:Restoring parameters from gpt2/models/117M/model.ckpt\n",
      "INFO:tensorflow:Restoring parameters from gpt2/models/117M/model.ckpt\n",
      "[('he was one funny brit with a nice head of hair on his pate', -176.0026502609253)]\n"
     ]
    }
   ],
   "source": [
    "lg.gen_line_with_template(template, (['PRP', 'VBD', 'CD', 'JJ', 'NN', 'IN', 'DT', 'JJ', 'NN', 'IN', 'NN', 'IN', 'PRP$', 'NN'], \n",
    "                                     ['he', 'was', 'one', 'funny', 'brit', 'with', 'a', 'nice', 'head', 'of', 'hair', 'on', 'his', 'pate'], 4))"
   ]
  },
  {
   "cell_type": "code",
   "execution_count": 87,
   "metadata": {},
   "outputs": [
    {
     "name": "stderr",
     "output_type": "stream",
     "text": [
      "\r",
      "  0%|          | 0/5 [00:00<?, ?it/s]"
     ]
    },
    {
     "name": "stdout",
     "output_type": "stream",
     "text": [
      "INFO:tensorflow:Restoring parameters from gpt2/models/117M/model.ckpt\n"
     ]
    },
    {
     "name": "stderr",
     "output_type": "stream",
     "text": [
      "\r",
      " 20%|██        | 1/5 [00:06<00:25,  6.45s/it]"
     ]
    },
    {
     "name": "stdout",
     "output_type": "stream",
     "text": [
      "INFO:tensorflow:Restoring parameters from gpt2/models/117M/model.ckpt\n"
     ]
    },
    {
     "name": "stderr",
     "output_type": "stream",
     "text": [
      "\r",
      " 40%|████      | 2/5 [00:11<00:18,  6.10s/it]"
     ]
    },
    {
     "name": "stdout",
     "output_type": "stream",
     "text": [
      "INFO:tensorflow:Restoring parameters from gpt2/models/117M/model.ckpt\n"
     ]
    },
    {
     "name": "stderr",
     "output_type": "stream",
     "text": [
      "\r",
      " 60%|██████    | 3/5 [00:17<00:11,  5.95s/it]"
     ]
    },
    {
     "name": "stdout",
     "output_type": "stream",
     "text": [
      "INFO:tensorflow:Restoring parameters from gpt2/models/117M/model.ckpt\n"
     ]
    },
    {
     "name": "stderr",
     "output_type": "stream",
     "text": [
      "\r",
      " 80%|████████  | 4/5 [00:23<00:05,  5.93s/it]"
     ]
    },
    {
     "name": "stdout",
     "output_type": "stream",
     "text": [
      "INFO:tensorflow:Restoring parameters from gpt2/models/117M/model.ckpt\n"
     ]
    },
    {
     "name": "stderr",
     "output_type": "stream",
     "text": [
      "\r",
      "100%|██████████| 5/5 [00:29<00:00,  5.98s/it]"
     ]
    },
    {
     "name": "stdout",
     "output_type": "stream",
     "text": [
      "-33.64236831665039:['it', 'could', 'read', 'to', 'the', 'universe']\n",
      "-37.41541051864624:['he', 'would', 'go', 'to', 'a', 'party']\n",
      "-37.79438257217407:['she', 'could', 'make', 'to', 'this', 're']\n",
      "-38.859190940856934:['me', 'shall', 'do', 'to', 'the', 'world']\n",
      "-38.904462575912476:['you', 'would', 'have', 'to', 'every', 'part']\n",
      "-39.291123390197754:['they', 'must', 'create', 'to', 'the', 'head']\n",
      "-39.50753688812256:['us', 'would', 'have', 'to', 'either', 'key']\n",
      "-39.595194816589355:['oftener', 'could', 'change', 'to', 'either', 'look']\n",
      "-40.514989376068115:['themselves', 'shouldnt', 'want', 'to', 'both', 'perspective']\n",
      "-40.55293893814087:['i', 'can', 'stare', 'at', 'the', 'sky']\n",
      "-40.98474740982056:['them', 'could', 'get', 'to', 'each', 'create']\n",
      "-40.98748826980591:['it', 'will', 'answer', 'to', 'that', 'joy']\n",
      "-41.257362842559814:['themselves', 'will', 'make', 'to', 'all', 'someone']\n",
      "-41.304943323135376:['itself', 'ought', 'read', 'to', 'the', 'something']\n",
      "-41.317829608917236:['self', 'shall', 'get', 'to', 'that', 'joy']\n",
      "-41.840683460235596:['self', 'will', 'read', 'to', 'any', 'part']\n",
      "-41.86216688156128:['itself', 'ought', 'look', 'to', 'this', 'object']\n",
      "-42.13162326812744:['i', 'couldnt', 'have', 'to', 'all', 'answer']\n",
      "-42.2010064125061:['she', 'shouldnt', 'read', 'to', 'no', 'right']\n",
      "-42.223740100860596:['meltst', 'shouldnt', 'read', 'to', 'any', 'key']\n",
      "-42.31282567977905:['himself', 'dare', 'answer', 'to', 'both', 'world']\n",
      "-42.403303146362305:['herself', 'could', 'do', 'to', 'each', 'understood']\n",
      "-42.44603967666626:['me', 'couldnt', 'see', 'to', 'every', 'love']\n",
      "-42.65145015716553:['yourself', 'shouldnt', 'see', 'to', 'any', 'mind']\n",
      "-42.68892478942871:['massacred', 'shouldnt', 'read', 'to', 'all', 'nature']\n",
      "-43.08396530151367:['themselves', 'dare', 'get', 'to', 'those', 'someone']\n",
      "-43.51232147216797:['yourself', 'shall', 'look', 'to', 'such', 'object']\n",
      "-43.79765319824219:['thyself', 'might', 'look', 'to', 'that', 'nothing']\n",
      "-43.93553352355957:['onesself', 'would', 'do', 'to', 'these', 'luck']\n",
      "-44.05070638656616:['handfuls', 'cannot', 'realize', 'to', 'this', 'object']\n",
      "-44.1845645904541:['itself', 'ought', 'be', 'to', 'a', 'place']\n",
      "-44.35441732406616:['she', 'need', 'have', 'to', 'those', 'world']\n",
      "-44.52108573913574:['overthrow', 'may', 'feel', 'to', 'that', 'kindness']\n",
      "-44.54827404022217:['they', 'dare', 'know', 'to', 'that', 'someone']\n",
      "-44.77217674255371:['me', 'shouldnt', 'make', 'to', 'either', 'head']\n",
      "-44.9534478187561:['they', 'may', 'have', 'to', 'no', 'everyone']\n",
      "-45.041504859924316:['yourself', 'could', 'create', 'to', 'an', 'friendship']\n",
      "-45.098647594451904:['handfuls', 'shall', 'know', 'to', 'both', 'kind']\n",
      "-45.13144874572754:['i', 'may', 'change', 'to', 'that', 'change']\n",
      "-45.14540910720825:['he', 'would', 'look', 'to', 'an', 'share']\n",
      "-45.271042823791504:['us', 'might', 'make', 'to', 'neither', 'joy']\n",
      "-45.50499963760376:['yelps', 'will', 'know', 'to', 'another', 'key']\n",
      "-45.84663486480713:['elf', 'shall', 're', 'to', 'the', 'look']\n",
      "-45.968549728393555:['him', 'dare', 'feel', 'to', 'a', 'kindness']\n",
      "-46.05663013458252:['ye', 'will', 'see', 'to', 'some', 'thought']\n",
      "-46.13122606277466:['yelps', 'can', 'be', 'to', 'all', 'head']\n",
      "-46.2157564163208:['ye', 'couldnt', 'feel', 'to', 'neither', 'meant']\n",
      "-46.24919605255127:['they', 'couldnt', 'realize', 'to', 'each', 'thought']\n",
      "-46.40546894073486:['it', 'cannot', 'see', 'to', 'that', 'object']\n",
      "-46.50616121292114:['you', 'cannot', 'look', 'to', 'each', 'answer']\n",
      "-46.782352447509766:['overthrow', 'shouldnt', 'look', 'to', 'either', 'question']\n",
      "-47.02110147476196:['meltst', 'must', 'get', 'to', 'this', 'luck']\n",
      "-47.06746768951416:['him', 'can', 'have', 'to', 'those', 'object']\n",
      "-47.08656597137451:['meltst', 'would', 'create', 'to', 'another', 'nothing']\n",
      "-47.32706594467163:['massacred', 'need', 're', 'to', 'either', 'friendship']\n",
      "-47.383381366729736:['handfuls', 'cannot', 'create', 'to', 'both', 'friendship']\n",
      "-47.40849232673645:['i', 'shall', 'want', 'to', 'either', 'someone']\n",
      "-47.463990211486816:['you', 'can', 'object', 'to', 'those', 'kindness']\n",
      "-47.72133445739746:['ont', 'ought', 'see', 'to', 'an', 'friendship']\n",
      "-47.87050533294678:['himself', 'dare', 'know', 'to', 'half', 'mind']\n",
      "-47.93333196640015:['thyself', 'will', 'read', 'to', 'no', 'part']\n",
      "-48.37499809265137:['them', 'ought', 'create', 'to', 'every', 'object']\n",
      "-48.43808650970459:['me', 'will', 'object', 'to', 'any', 'question']\n",
      "-48.50966787338257:['you', 'need', 'have', 'to', 'these', 'everyone']\n",
      "-48.697081565856934:['meltst', 'might', 'change', 'to', 'both', 'something']\n",
      "-48.89209771156311:['onesself', 'need', 'want', 'to', 'these', 'nothing']\n",
      "-48.89372682571411:['we', 'dare', 'be', 'to', 'either', 'mind']\n",
      "-48.90936231613159:['me', 'may', 're', 'to', 'these', 'meaning']\n",
      "-48.98923301696777:['it', 'can', 'object', 'to', 'both', 'create']\n",
      "-49.0537314414978:['itself', 'ought', 'object', 'to', 'another', 'answer']\n",
      "-49.080400466918945:['elf', 'shall', 're', 'to', 'any', 'key']\n",
      "-49.16201734542847:['yourself', 'ought', 'create', 'to', 'both', 'head']\n",
      "-49.20561408996582:['myself', 'could', 'perspective', 'to', 'an', 'kind']\n",
      "-49.309041023254395:['wither', 'will', 'do', 'to', 'some', 'create']\n",
      "-49.42597198486328:['theirs', 'ought', 'look', 'to', 'neither', 'compassion']\n",
      "-49.512078285217285:['we', 'cannot', 'perspective', 'to', 'another', 'compassion']\n",
      "-49.572465896606445:['mantelshelf', 'may', 're', 'to', 'each', 'look']\n",
      "-49.969780921936035:['theirs', 'may', 'perspective', 'to', 'the', 'thought']\n",
      "-50.05227088928223:['himself', 'may', 'feel', 'to', 'half', 'something']\n",
      "-50.07360601425171:['he', 'may', 'object', 'to', 'this', 'sense']\n",
      "-50.110952377319336:['herself', 'cannot', 'perspective', 'to', 'this', 'perspective']\n",
      "-50.390286445617676:['mantelshelf', 'shall', 'do', 'to', 'either', 'meant']\n",
      "-50.51639938354492:['overthrow', 'shall', 'object', 'to', 'those', 'thought']\n",
      "-50.551188468933105:['herself', 'shouldnt', 'create', 'to', 'no', 'right']\n",
      "-50.56462478637695:['ye', 'shall', 'know', 'to', 'this', 'everyone']\n",
      "-50.61376953125:['onesself', 'shall', 'do', 'to', 'no', 'meaning']\n",
      "-50.62317132949829:['himself', 'must', 'realize', 'to', 'each', 'create']\n",
      "-51.0150032043457:['ye', 'will', 'create', 'to', 'such', 'thought']\n",
      "-51.46578598022461:['themselves', 'shall', 'object', 'to', 'some', 'acceptance']\n",
      "-51.476492404937744:['oftener', 'ought', 're', 'to', 'both', 'thought']\n",
      "-51.75570297241211:['mantelshelf', 'may', 'make', 'to', 'either', 'spirit']\n",
      "-51.868536949157715:['us', 'ought', 'object', 'to', 'every', 'someone']\n",
      "-52.84356117248535:['ont', 'shall', 'read', 'to', 'no', 'spirit']\n",
      "-53.09879684448242:['himself', 'will', 'perspective', 'to', 'every', 'look']\n",
      "-54.41274547576904:['ont', 'ought', 're', 'to', 'those', 'change']\n",
      "-54.6750431060791:['massacred', 'must', 'realize', 'to', 'each', 'luck']\n",
      "-54.75090456008911:['i', 'ought', 'create', 'to', 'each', 'joy']\n",
      "-55.006789207458496:['us', 'ought', 'perspective', 'to', 'any', 'create']\n",
      "-56.020450592041016:['ye', 'may', 'realize', 'to', 'no', 'place']\n",
      "-56.20230579376221:['overthrow', 'shall', 'perspective', 'to', 'those', 'power']\n",
      "-56.75651454925537:['yelps', 'might', 'perspective', 'to', 'this', 'friendship']\n",
      "-58.6817512512207:['theirs', 'shall', 'perspective', 'to', 'every', 'share']\n"
     ]
    },
    {
     "name": "stderr",
     "output_type": "stream",
     "text": [
      "\n"
     ]
    }
   ],
   "source": [
    "lg.gen_line_with_template(template,['PRP', 'MD', 'VB', 'TO','DT', 'NN'],100)"
   ]
  },
  {
   "cell_type": "code",
   "execution_count": 48,
   "metadata": {},
   "outputs": [],
   "source": []
  },
  {
   "cell_type": "code",
   "execution_count": 52,
   "metadata": {},
   "outputs": [
    {
     "data": {
      "text/plain": [
       "41484"
      ]
     },
     "execution_count": 52,
     "metadata": {},
     "output_type": "execute_result"
    }
   ],
   "source": [
    "x[1][2]"
   ]
  },
  {
   "cell_type": "code",
   "execution_count": null,
   "metadata": {},
   "outputs": [],
   "source": []
  }
 ],
 "metadata": {
  "kernelspec": {
   "display_name": "Python 3",
   "language": "python",
   "name": "python3"
  },
  "language_info": {
   "codemirror_mode": {
    "name": "ipython",
    "version": 3
   },
   "file_extension": ".py",
   "mimetype": "text/x-python",
   "name": "python",
   "nbconvert_exporter": "python",
   "pygments_lexer": "ipython3",
   "version": "3.6.5"
  }
 },
 "nbformat": 4,
 "nbformat_minor": 2
}
