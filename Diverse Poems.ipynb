{
 "cells": [
  {
   "cell_type": "code",
   "execution_count": 1,
   "metadata": {},
   "outputs": [],
   "source": [
    "from difflib import SequenceMatcher\n",
    "import numpy as np"
   ]
  },
  {
   "cell_type": "code",
   "execution_count": 15,
   "metadata": {},
   "outputs": [],
   "source": [
    "poems = []\n",
    "scores = []\n",
    "p = ''\n",
    "seen_prompts = set()\n",
    "\n",
    "with open(\"final_testing_DTS_no_story2/20_30_0.1_multi_True_no_story.txt\") as f:\n",
    "    for i, line in enumerate(f):\n",
    "        if (i + 1) % 7 == 0 and i != 0:\n",
    "            if add_next:\n",
    "                poems.append(p + '')\n",
    "            p = ''\n",
    "        elif i % 7 == 0:\n",
    "            this_prompt = line.split(\":\")[0]\n",
    "            score = line.split(\":\")[-1]\n",
    "            add_next = False if this_prompt in seen_prompts else True\n",
    "            seen_prompts.add(this_prompt)\n",
    "            scores.append(float(score))\n",
    "            continue\n",
    "        else:\n",
    "            p += line"
   ]
  },
  {
   "cell_type": "code",
   "execution_count": 16,
   "metadata": {},
   "outputs": [],
   "source": [
    "total_ratios = [0 for i in range(len(poems))]\n",
    "for i in range(len(poems)):\n",
    "    for j in range(i + 1, len(poems)):\n",
    "        this_ratio = SequenceMatcher(None, poems[i], poems[j]).ratio()\n",
    "        total_ratios[i] += this_ratio\n",
    "        total_ratios[j] += this_ratio"
   ]
  },
  {
   "cell_type": "code",
   "execution_count": 19,
   "metadata": {},
   "outputs": [
    {
     "name": "stdout",
     "output_type": "stream",
     "text": [
      "Score:      -2.936\n",
      "Similarity: 24.539\n",
      "there once was a nice lady named jose \n",
      " who welcomed a young man on his way . \n",
      " he asked for her address , \n",
      " but she only said yes , \n",
      " because she was having her birthday . \n",
      "\n",
      "Score:      -2.992\n",
      "Similarity: 24.936\n",
      "there once was a nice lady named pete \n",
      " whose voice sounded beautiful and sweet . \n",
      " she wore a maid outfit , \n",
      " but i really liked it , \n",
      " so i gave up and slept on the street . \n",
      "\n",
      "Score:      -2.792\n",
      "Similarity: 25.232\n",
      "there once was a nice lady named brett \n",
      " who played a big part on our set . \n",
      " the rest of our cast , \n",
      " our crew had a blast , \n",
      " they were really the reason we met . \n",
      "\n",
      "Score:      -2.859\n",
      "Similarity: 25.328\n",
      "there once was a nice lady named jose \n",
      " who made all her money in a day . \n",
      " she worked for her mother , \n",
      " her aunt and her brother , \n",
      " all of which , the family claimed , were gay . \n",
      "\n",
      "Score:      -2.688\n",
      "Similarity: 25.418\n",
      "there once was a nice lady named pete \n",
      " who had a small garden on her street . \n",
      " all the neighbors knew her , \n",
      " she was known by her fur , \n",
      " she was easy to find and to meet . \n",
      "\n"
     ]
    }
   ],
   "source": [
    "least_sim_idx = np.argsort(total_ratios)\n",
    "\n",
    "for i in least_sim_idx[:5]:\n",
    "    print(\"Score: {0:11.3f}\".format(scores[i]))\n",
    "    print(\"Similarity: {0:.3f}\".format(total_ratios[i]))\n",
    "    print(poems[i])"
   ]
  },
  {
   "cell_type": "code",
   "execution_count": null,
   "metadata": {},
   "outputs": [],
   "source": []
  }
 ],
 "metadata": {
  "kernelspec": {
   "display_name": "Python 3",
   "language": "python",
   "name": "python3"
  },
  "language_info": {
   "codemirror_mode": {
    "name": "ipython",
    "version": 3
   },
   "file_extension": ".py",
   "mimetype": "text/x-python",
   "name": "python",
   "nbconvert_exporter": "python",
   "pygments_lexer": "ipython3",
   "version": "3.6.0"
  }
 },
 "nbformat": 4,
 "nbformat_minor": 2
}
