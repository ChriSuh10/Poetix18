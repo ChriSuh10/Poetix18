{
 "cells": [
  {
   "cell_type": "code",
   "execution_count": 1,
   "metadata": {},
   "outputs": [],
   "source": [
    "%load_ext autoreload\n",
    "%autoreload 2"
   ]
  },
  {
   "cell_type": "code",
   "execution_count": 2,
   "metadata": {},
   "outputs": [],
   "source": [
    "from py_files.Limericks import Limerick_Generate"
   ]
  },
  {
   "cell_type": "code",
   "execution_count": 3,
   "metadata": {},
   "outputs": [],
   "source": [
    "lg = Limerick_Generate()"
   ]
  },
  {
   "cell_type": "code",
   "execution_count": 7,
   "metadata": {},
   "outputs": [
    {
     "name": "stdout",
     "output_type": "stream",
     "text": [
      "Unable to find rhyming words of word 1 'esteban'\n",
      "Unable to find rhyming words of word 1 'cherlyn'\n",
      "Unable to find rhyming words of word 1 'wilson'\n",
      "Unable to find rhyming words of word 1 'rosann'\n",
      "Unable to find rhyming words of word 1 'tyler'\n",
      "Unable to find rhyming words of word 1 'dorathy'\n",
      "Unable to find rhyming words of word 1 'renay'\n",
      "Unable to find rhyming words of word 1 'gregory'\n",
      "Unable to find rhyming words of word 1 'ardell'\n",
      "Unable to find rhyming words of word 1 'gavin'\n",
      "Unable to find rhyming words of word 1 'charlyn'\n",
      "Unable to find rhyming words of word 1 'bradford'\n",
      "Unable to find rhyming words of word 1 'travis'\n",
      "Unable to find rhyming words of word 1 'avril'\n",
      "Unable to find rhyming words of word 3 'jupiter'\n",
      "Unable to find rhyming words of word 3 'uranus'\n",
      "'noah' and 'earth' are unable to generate storyline\n",
      "'noah' and 'mars' are unable to generate storyline\n",
      "'noah' and 'pluto' are unable to generate storyline\n",
      "'noah' and 'solar' are unable to generate storyline\n",
      "'noah' and 'saturn' are unable to generate storyline\n",
      "'noah' and 'sun' are unable to generate storyline\n",
      "'noah' and 'celestial' are unable to generate storyline\n",
      "'noah' and 'star' are unable to generate storyline\n"
     ]
    },
    {
     "data": {
      "text/plain": [
       "[['Kevin', 'eleven', 'earth', 'birth', 'seven'],\n",
       " ['Kevin', 'seven', 'mars', 'stars', 'eleven'],\n",
       " ['Kevin', 'leaven', 'pluto', 'benvenuto', 'heaven'],\n",
       " ['Kevin', 'eleven', 'solar', 'polar', 'seven'],\n",
       " ['Kevin', 'eleven', 'saturn', 'pattern', 'seven'],\n",
       " ['Kevin', 'heaven', 'sun', 'everyone', 'seven'],\n",
       " ['Kevin', 'eleven', 'celestial', 'bestial', 'seven'],\n",
       " ['Kevin', 'heaven', 'star', 'far', 'seven'],\n",
       " ['Maxwell', 'cell', 'earth', 'birth', 'tell'],\n",
       " ['Maxwell', 'tell', 'mars', 'stars', 'well'],\n",
       " ['Maxwell', 'dwell', 'pluto', 'benvenuto', 'hell'],\n",
       " ['Maxwell', 'cell', 'solar', 'polar', 'well'],\n",
       " ['Maxwell', 'hell', 'saturn', 'pattern', 'tell'],\n",
       " ['Maxwell', 'el', 'sun', 'son', 'del'],\n",
       " ['Maxwell', 'parallel', 'celestial', 'bestial', 'hell'],\n",
       " ['Maxwell', 'hotel', 'star', 'bar', 'motel'],\n",
       " ['Leroy', 'enjoy', 'earth', 'birth', 'boy'],\n",
       " ['Leroy', 'toy', 'mars', 'stars', 'boy'],\n",
       " ['Leroy', 'toy', 'pluto', 'benvenuto', 'boy'],\n",
       " ['Leroy', 'destroy', 'solar', 'polar', 'deploy'],\n",
       " ['Leroy', 'toy', 'saturn', 'pattern', 'boy'],\n",
       " ['Leroy', 'boy', 'sun', 'son', 'joy'],\n",
       " ['Leroy', 'boy', 'celestial', 'bestial', 'cowboy'],\n",
       " ['Leroy', 'cowboy', 'star', 'bar', 'boy'],\n",
       " ['Denis', 'menace', 'earth', 'worth', 'venice'],\n",
       " ['Denis', 'denys', 'mars', 'stars', 'menace'],\n",
       " ['Denis', 'tennis', 'pluto', 'benvenuto', 'venice'],\n",
       " ['Denis', 'denys', 'solar', 'polar', 'venice'],\n",
       " ['Denis', 'denys', 'saturn', 'pattern', 'menace'],\n",
       " ['Denis', 'denys', 'sun', 'son', 'tennis'],\n",
       " ['Denis', 'menace', 'celestial', 'bestial', 'venice'],\n",
       " ['Denis', 'tennis', 'star', 'far', 'venice'],\n",
       " ['Maureen', 'scene', 'earth', 'birth', 'seen'],\n",
       " ['Maureen', 'screen', 'mars', 'stars', 'scene'],\n",
       " ['Maureen', 'bean', 'pluto', 'benvenuto', 'cuisine'],\n",
       " ['Maureen', 'clean', 'solar', 'polar', 'mean'],\n",
       " ['Maureen', 'mean', 'saturn', 'pattern', 'seen'],\n",
       " ['Maureen', 'magazine', 'sun', 'fun', 'seen'],\n",
       " ['Maureen', 'seen', 'celestial', 'bestial', 'mean'],\n",
       " ['Maureen', 'screen', 'star', 'far', 'seen'],\n",
       " ['Blossom', 'possum', 'earth', 'birth', 'opossum'],\n",
       " ['Blossom', 'awesome', 'mars', 'stars', 'possum'],\n",
       " ['Blossom', 'opossum', 'pluto', 'benvenuto', 'possum'],\n",
       " ['Blossom', 'awesome', 'solar', 'polar', 'possum'],\n",
       " ['Blossom', 'opossum', 'saturn', 'pattern', 'possum'],\n",
       " ['Blossom', 'possum', 'sun', 'fun', 'awesome'],\n",
       " ['Blossom', 'awesome', 'celestial', 'bestial', 'possum'],\n",
       " ['Blossom', 'opossum', 'star', 'far', 'possum'],\n",
       " ['Pasty', 'tasty', 'earth', 'birth', 'hasty'],\n",
       " ['Pasty', 'hasty', 'mars', 'stars', 'tasty'],\n",
       " ['Pasty', 'hasty', 'pluto', 'benvenuto', 'tasty'],\n",
       " ['Pasty', 'hasty', 'solar', 'polar', 'tasty'],\n",
       " ['Pasty', 'tasty', 'saturn', 'pattern', 'hasty'],\n",
       " ['Pasty', 'hasty', 'sun', 'done', 'tasty'],\n",
       " ['Pasty', 'hasty', 'celestial', 'bestial', 'tasty'],\n",
       " ['Pasty', 'tasty', 'star', 'far', 'hasty'],\n",
       " ['Mark', 'park', 'earth', 'birth', 'landmark'],\n",
       " ['Mark', 'park', 'mars', 'stars', 'dark'],\n",
       " ['Mark', 'birthmark', 'pluto', 'benvenuto', 'watermark'],\n",
       " ['Mark', 'dark', 'solar', 'polar', 'arc'],\n",
       " ['Mark', 'dark', 'saturn', 'pattern', 'arc'],\n",
       " ['Mark', 'arc', 'sun', 'than', 'dark'],\n",
       " ['Mark', 'ark', 'celestial', 'bestial', 'arc'],\n",
       " ['Mark', 'dark', 'star', 'far', 'stark'],\n",
       " ['Loan', 'stone', 'earth', 'birth', 'unknown'],\n",
       " ['Loan', 'own', 'mars', 'stars', 'alone'],\n",
       " ['Loan', 'unknown', 'pluto', 'benvenuto', 'known'],\n",
       " ['Loan', 'alone', 'solar', 'polar', 'shown'],\n",
       " ['Loan', 'alone', 'saturn', 'pattern', 'shown'],\n",
       " ['Loan', 'alone', 'sun', 'than', 'grown'],\n",
       " ['Loan', 'clone', 'celestial', 'bestial', 'atone'],\n",
       " ['Loan', 'unknown', 'star', 'far', 'known']]"
      ]
     },
     "execution_count": 7,
     "metadata": {},
     "output_type": "execute_result"
    }
   ],
   "source": [
    "lg.get_five_words_henry('planet')"
   ]
  },
  {
   "cell_type": "code",
   "execution_count": 33,
   "metadata": {},
   "outputs": [
    {
     "name": "stdout",
     "output_type": "stream",
     "text": [
      "Unable to find rhyming words of word 1 'kalyn'\n",
      "Unable to find rhyming words of word 1 'nieves'\n",
      "Unable to find rhyming words of word 1 'margart'\n",
      "Unable to find rhyming words of word 1 'ezequiel'\n",
      "Unable to find rhyming words of word 1 'arthur'\n",
      "Unable to find rhyming words of word 1 'gaston'\n",
      "Unable to find rhyming words of word 1 'lashaun'\n",
      "Unable to find rhyming words of word 3 'person'\n"
     ]
    },
    {
     "data": {
      "text/plain": [
       "[['Allen', 'gallon', 'man', 'than', 'alan'],\n",
       " ['Allen', 'gallon', 'black', 'back', 'alan'],\n",
       " ['Allen', 'alan', 'male', 'female', 'gallon'],\n",
       " ['Allen', 'alan', 'friendly', 'unfriendly', 'gallon'],\n",
       " ['Allen', 'gallon', 'honor', 'honour', 'alan'],\n",
       " ['Allen', 'alan', 'offspring', 'king', 'gallon'],\n",
       " ['Allen', 'alan', 'grown', 'alone', 'gallon'],\n",
       " ['Allen', 'gallon', 'youthful', 'truthful', 'alan'],\n",
       " ['Allen', 'gallon', 'reference', 'preference', 'alan'],\n",
       " ['Paul', 'all', 'man', 'an', 'call'],\n",
       " ['Paul', 'all', 'black', 'back', 'call'],\n",
       " ['Paul', 'tall', 'male', 'female', 'small'],\n",
       " ['Paul', 'doll', 'friendly', 'unfriendly', 'call'],\n",
       " ['Paul', 'football', 'honor', 'honour', 'basketball'],\n",
       " ['Paul', 'doll', 'offspring', 'thing', 'small'],\n",
       " ['Paul', 'tall', 'grown', 'alone', 'small'],\n",
       " ['Paul', 'tall', 'youthful', 'truthful', 'all'],\n",
       " ['Paul', 'call', 'reference', 'preference', 'all'],\n",
       " ['Gary', 'legendary', 'man', 'businessman', 'harry'],\n",
       " ['Gary', 'harry', 'black', 'jack', 'legendary'],\n",
       " ['Gary', 'marry', 'male', 'female', 'mary'],\n",
       " ['Gary', 'harry', 'friendly', 'unfriendly', 'very'],\n",
       " ['Gary', 'very', 'honor', 'honour', 'extraordinary'],\n",
       " ['Gary', 'very', 'offspring', 'anything', 'necessary'],\n",
       " ['Gary', 'very', 'grown', 'alone', 'necessary'],\n",
       " ['Gary', 'very', 'youthful', 'truthful', 'scary'],\n",
       " ['Gary', 'harry', 'reference', 'preference', 'very'],\n",
       " ['Joan', 'unknown', 'man', 'an', 'known'],\n",
       " ['Joan', 'own', 'black', 'back', 'alone'],\n",
       " ['Joan', 'alone', 'male', 'female', 'shown'],\n",
       " ['Joan', 'own', 'friendly', 'unfriendly', 'phone'],\n",
       " ['Joan', 'unknown', 'honor', 'honour', 'known'],\n",
       " ['Joan', 'clone', 'offspring', 'king', 'throne'],\n",
       " ['Joan', 'known', 'grown', 'own', 'shown'],\n",
       " ['Joan', 'tone', 'youthful', 'truthful', 'own'],\n",
       " ['Joan', 'unknown', 'reference', 'preference', 'known'],\n",
       " ['Ming', 'ring', 'man', 'an', 'thing'],\n",
       " ['Ming', 'ring', 'black', 'back', 'thing'],\n",
       " ['Ming', 'king', 'male', 'female', 'offspring'],\n",
       " ['Ming', 'thing', 'friendly', 'unfriendly', 'anything'],\n",
       " ['Ming', 'king', 'honor', 'honour', 'bring'],\n",
       " ['Ming', 'anything', 'offspring', 'thing', 'everything'],\n",
       " ['Ming', 'offspring', 'grown', 'own', 'anything'],\n",
       " ['Ming', 'offspring', 'youthful', 'truthful', 'anything'],\n",
       " ['Ming', 'king', 'reference', 'preference', 'anything'],\n",
       " ['Lan', 'than', 'man', 'an', 'can'],\n",
       " ['Lan', 'man', 'black', 'back', 'than'],\n",
       " ['Lan', 'an', 'male', 'female', 'man'],\n",
       " ['Lan', 'an', 'friendly', 'unfriendly', 'man'],\n",
       " ['Lan', 'man', 'honor', 'honour', 'an'],\n",
       " ['Lan', 'an', 'offspring', 'anything', 'than'],\n",
       " ['Lan', 'than', 'grown', 'alone', 'can'],\n",
       " ['Lan', 'man', 'youthful', 'truthful', 'than'],\n",
       " ['Lan', 'fan', 'reference', 'preference', 'an'],\n",
       " ['Carl', 'snarl', 'man', 'businessman', 'karl'],\n",
       " ['Carl', 'snarl', 'black', 'pack', 'gnarl'],\n",
       " ['Carl', 'karl', 'male', 'female', 'gnarl'],\n",
       " ['Carl', 'karl', 'friendly', 'unfriendly', 'snarl'],\n",
       " ['Carl', 'snarl', 'honor', 'honour', 'karl'],\n",
       " ['Carl', 'gnarl', 'offspring', 'thing', 'karl'],\n",
       " ['Carl', 'snarl', 'grown', 'alone', 'karl'],\n",
       " ['Carl', 'gnarl', 'youthful', 'truthful', 'snarl'],\n",
       " ['Carl', 'karl', 'reference', 'preference', 'gnarl'],\n",
       " ['Byron', 'siren', 'man', 'an', 'syren'],\n",
       " ['Byron', 'siren', 'black', 'back', 'syren'],\n",
       " ['Byron', 'siren', 'male', 'female', 'syren'],\n",
       " ['Byron', 'syren', 'friendly', 'unfriendly', 'siren'],\n",
       " ['Byron', 'siren', 'honor', 'honour', 'syren'],\n",
       " ['Byron', 'siren', 'offspring', 'sing', 'syren'],\n",
       " ['Byron', 'siren', 'grown', 'alone', 'syren'],\n",
       " ['Byron', 'syren', 'youthful', 'truthful', 'siren'],\n",
       " ['Byron', 'syren', 'reference', 'preference', 'siren'],\n",
       " ['Lorean', 'victorian', 'man', 'businessman', 'historian'],\n",
       " ['Lorean', 'historian', 'black', 'jack', 'victorian'],\n",
       " ['Lorean', 'praetorian', 'male', 'female', 'historian'],\n",
       " ['Lorean', 'dorian', 'friendly', 'unfriendly', 'praetorian'],\n",
       " ['Lorean', 'victorian', 'honor', 'honour', 'historian'],\n",
       " ['Lorean', 'praetorian', 'offspring', 'king', 'historian'],\n",
       " ['Lorean', 'pythagorean', 'grown', 'alone', 'dorian'],\n",
       " ['Lorean', 'dorian', 'youthful', 'truthful', 'pythagorean'],\n",
       " ['Lorean', 'victorian', 'reference', 'preference', 'historian'],\n",
       " ['Truman', 'inhuman', 'man', 'an', 'human'],\n",
       " ['Truman', 'crewmen', 'black', 'back', 'human'],\n",
       " ['Truman', 'crewmen', 'male', 'female', 'human'],\n",
       " ['Truman', 'human', 'friendly', 'unfriendly', 'inhuman'],\n",
       " ['Truman', 'inhuman', 'honor', 'honour', 'human'],\n",
       " ['Truman', 'crewmen', 'offspring', 'king', 'human'],\n",
       " ['Truman', 'crewmen', 'grown', 'own', 'human'],\n",
       " ['Truman', 'superhuman', 'youthful', 'truthful', 'inhuman'],\n",
       " ['Truman', 'subhuman', 'reference', 'preference', 'inhuman']]"
      ]
     },
     "execution_count": 33,
     "metadata": {},
     "output_type": "execute_result"
    }
   ],
   "source": [
    "lg.get_five_words_henry('boy')"
   ]
  },
  {
   "cell_type": "code",
   "execution_count": 34,
   "metadata": {},
   "outputs": [
    {
     "name": "stdout",
     "output_type": "stream",
     "text": [
      "Unable to find rhyming words of word 1 'santos'\n",
      "Unable to find rhyming words of word 1 'jackelyn'\n",
      "Unable to find rhyming words of word 1 'margy'\n",
      "Unable to find rhyming words of word 1 'meagan'\n",
      "Unable to find rhyming words of word 1 'cathryn'\n",
      "Unable to find rhyming words of word 1 'albert'\n",
      "Unable to find rhyming words of word 1 'caroyln'\n",
      "Unable to find rhyming words of word 1 'lanell'\n",
      "Unable to find rhyming words of word 1 'jacqulyn'\n",
      "Unable to find rhyming words of word 1 'marvel'\n",
      "Unable to find rhyming words of word 1 'janeth'\n",
      "Unable to find rhyming words of word 1 'august'\n",
      "Unable to find rhyming words of word 1 'cristopher'\n",
      "Unable to find rhyming words of word 3 'elegance'\n",
      "Unable to find rhyming words of word 3 'beautiful'\n",
      "'beverley' and 'beauty' are unable to generate storyline\n",
      "'beverley' and 'divine' are unable to generate storyline\n",
      "'beverley' and 'god' are unable to generate storyline\n",
      "'beverley' and 'compassion' are unable to generate storyline\n",
      "'beverley' and 'charm' are unable to generate storyline\n",
      "'beverley' and 'sisters' are unable to generate storyline\n",
      "'beverley' and 'kindness' are unable to generate storyline\n",
      "'beverley' and 'honor' are unable to generate storyline\n",
      "case\n",
      "case\n",
      "case\n",
      "case\n",
      "case\n",
      "case\n",
      "case\n",
      "case\n",
      "nace\n",
      "nace\n",
      "nace\n",
      "nace\n",
      "nace\n",
      "nace\n",
      "nace\n",
      "nace\n",
      "mais\n",
      "mais\n",
      "mais\n",
      "mais\n",
      "mais\n",
      "mais\n",
      "mais\n",
      "mais\n",
      "mais\n",
      "mais\n",
      "race\n",
      "race\n",
      "race\n",
      "race\n",
      "race\n",
      "race\n",
      "race\n",
      "race\n",
      "ace\n",
      "ace\n",
      "ace\n",
      "ace\n",
      "ace\n",
      "ace\n",
      "ace\n",
      "ace\n",
      "brace\n",
      "brace\n",
      "brace\n",
      "brace\n",
      "brace\n",
      "brace\n",
      "brace\n",
      "brace\n",
      "lovelace\n",
      "lovelace\n",
      "lovelace\n",
      "lovelace\n",
      "lovelace\n",
      "lovelace\n",
      "lovelace\n",
      "lovelace\n",
      "chace\n",
      "chace\n",
      "chace\n",
      "chace\n",
      "chace\n",
      "chace\n",
      "chace\n",
      "chace\n",
      "dace\n",
      "dace\n",
      "dace\n",
      "dace\n",
      "dace\n",
      "dace\n",
      "dace\n",
      "dace\n",
      "dace\n",
      "dace\n",
      "mace\n",
      "mace\n",
      "mace\n",
      "mace\n",
      "mace\n",
      "mace\n",
      "mace\n",
      "mace\n",
      "trace\n",
      "trace\n",
      "trace\n",
      "trace\n",
      "trace\n",
      "trace\n",
      "trace\n",
      "trace\n",
      "rais\n",
      "rais\n",
      "rais\n",
      "rais\n",
      "rais\n",
      "rais\n",
      "rais\n",
      "rais\n",
      "bass\n",
      "bass\n",
      "bass\n",
      "bass\n",
      "bass\n",
      "bass\n",
      "bass\n",
      "bass\n",
      "lace\n",
      "lace\n",
      "lace\n",
      "lace\n",
      "lace\n",
      "lace\n",
      "lace\n",
      "lace\n",
      "pace\n",
      "pace\n",
      "pace\n",
      "pace\n",
      "pace\n",
      "pace\n",
      "pace\n",
      "pace\n",
      "chase\n",
      "chase\n",
      "chase\n",
      "chase\n",
      "chase\n",
      "chase\n",
      "chase\n",
      "chase\n"
     ]
    },
    {
     "ename": "TypeError",
     "evalue": "unhashable type: 'list'",
     "output_type": "error",
     "traceback": [
      "\u001b[1;31m---------------------------------------------------------------------------\u001b[0m",
      "\u001b[1;31mTypeError\u001b[0m                                 Traceback (most recent call last)",
      "\u001b[1;32m<ipython-input-34-4a16f34860ce>\u001b[0m in \u001b[0;36m<module>\u001b[1;34m\u001b[0m\n\u001b[1;32m----> 1\u001b[1;33m \u001b[0mlg\u001b[0m\u001b[1;33m.\u001b[0m\u001b[0mgen_poem_independent_matias\u001b[0m\u001b[1;33m(\u001b[0m\u001b[1;34m'grace'\u001b[0m\u001b[1;33m,\u001b[0m \u001b[1;36m12\u001b[0m\u001b[1;33m,\u001b[0m \u001b[0mstoryline\u001b[0m\u001b[1;33m=\u001b[0m\u001b[1;33m[\u001b[0m\u001b[1;34m'Ming'\u001b[0m\u001b[1;33m,\u001b[0m \u001b[1;34m'king'\u001b[0m\u001b[1;33m,\u001b[0m \u001b[1;34m'male'\u001b[0m\u001b[1;33m,\u001b[0m \u001b[1;34m'female'\u001b[0m\u001b[1;33m,\u001b[0m \u001b[1;34m'offspring'\u001b[0m\u001b[1;33m]\u001b[0m\u001b[1;33m)\u001b[0m\u001b[1;33m\u001b[0m\u001b[1;33m\u001b[0m\u001b[0m\n\u001b[0m",
      "\u001b[1;32mD:\\0\\Github\\Poetix18\\py_files\\Limericks.py\u001b[0m in \u001b[0;36mgen_poem_independent_matias\u001b[1;34m(self, seed_word, first_line_sylls, rand_template, storyline)\u001b[0m\n\u001b[0;32m    970\u001b[0m         \u001b[1;31m# templates.append(random.choice(third_line_[self.words_to_pos[five_words[2]][0]]))\u001b[0m\u001b[1;33m\u001b[0m\u001b[1;33m\u001b[0m\u001b[1;33m\u001b[0m\u001b[0m\n\u001b[0;32m    971\u001b[0m         \u001b[1;31m# templates 4th line\u001b[0m\u001b[1;33m\u001b[0m\u001b[1;33m\u001b[0m\u001b[1;33m\u001b[0m\u001b[0m\n\u001b[1;32m--> 972\u001b[1;33m         \u001b[0mkey\u001b[0m \u001b[1;33m=\u001b[0m \u001b[0mself\u001b[0m\u001b[1;33m.\u001b[0m\u001b[0mwords_to_pos\u001b[0m\u001b[1;33m[\u001b[0m\u001b[0mfive_words\u001b[0m\u001b[1;33m[\u001b[0m\u001b[1;36m3\u001b[0m\u001b[1;33m]\u001b[0m\u001b[1;33m]\u001b[0m\u001b[1;33m[\u001b[0m\u001b[1;36m0\u001b[0m\u001b[1;33m]\u001b[0m \u001b[1;33m+\u001b[0m \u001b[1;34m'-'\u001b[0m \u001b[1;33m+\u001b[0m \u001b[0mself\u001b[0m\u001b[1;33m.\u001b[0m\u001b[0mwords_to_pos\u001b[0m\u001b[1;33m[\u001b[0m\u001b[0mfive_words\u001b[0m\u001b[1;33m[\u001b[0m\u001b[1;36m4\u001b[0m\u001b[1;33m]\u001b[0m\u001b[1;33m]\u001b[0m\u001b[1;33m[\u001b[0m\u001b[1;36m0\u001b[0m\u001b[1;33m]\u001b[0m\u001b[1;33m\u001b[0m\u001b[1;33m\u001b[0m\u001b[0m\n\u001b[0m\u001b[0;32m    973\u001b[0m         \u001b[1;31m# temp=random.choice(last_two_lines[key])\u001b[0m\u001b[1;33m\u001b[0m\u001b[1;33m\u001b[0m\u001b[1;33m\u001b[0m\u001b[0m\n\u001b[0;32m    974\u001b[0m         \u001b[1;31m# templates.append((temp[0][:temp[2]+1], temp[1][:temp[2]+1]))\u001b[0m\u001b[1;33m\u001b[0m\u001b[1;33m\u001b[0m\u001b[1;33m\u001b[0m\u001b[0m\n",
      "\u001b[1;31mTypeError\u001b[0m: unhashable type: 'list'"
     ]
    }
   ],
   "source": [
    "lg.gen_poem_independent_matias('grace', 12, storyline=['Ming', 'king', 'male', 'female', 'offspring'])"
   ]
  },
  {
   "cell_type": "code",
   "execution_count": 22,
   "metadata": {},
   "outputs": [
    {
     "name": "stdout",
     "output_type": "stream",
     "text": [
      "('gath', 'path', 'say', 'way', 'bath')\n",
      "('hath', 'path', 'say', 'way', 'footpath')\n"
     ]
    }
   ],
   "source": [
    "print(lg.get_five_words('path'))\n",
    "print(lg.get_five_words_henry('path'))"
   ]
  },
  {
   "cell_type": "code",
   "execution_count": 25,
   "metadata": {},
   "outputs": [
    {
     "name": "stdout",
     "output_type": "stream",
     "text": [
      "('everything', 'spring', 'reason', 'season', 'ring')\n",
      "('pling', 'spring', 'reason', 'season', 'thing')\n"
     ]
    }
   ],
   "source": [
    "print(lg.get_five_words('spring'))\n",
    "print(lg.get_five_words_henry('spring'))"
   ]
  },
  {
   "cell_type": "code",
   "execution_count": 31,
   "metadata": {},
   "outputs": [
    {
     "name": "stdout",
     "output_type": "stream",
     "text": [
      "('dame', 'game', 'they', 'play', 'name')\n"
     ]
    },
    {
     "name": "stderr",
     "output_type": "stream",
     "text": [
      "D:\\0\\Github\\Poetix18\\py_files\\Limericks.py:196: RuntimeWarning: invalid value encountered in power\n",
      "  sim += self.poetic_vectors.similarity(word, other_word) ** 0.5\n",
      "D:\\0\\Github\\Poetix18\\py_files\\Limericks.py:296: RuntimeWarning: invalid value encountered in power\n",
      "  sim = self.poetic_vectors.similarity(w2, r) ** 0.5\n",
      "D:\\0\\Github\\Poetix18\\py_files\\Limericks.py:297: RuntimeWarning: invalid value encountered in power\n",
      "  sim += self.poetic_vectors.similarity(w4, r) ** 0.5\n",
      "D:\\0\\Github\\Poetix18\\py_files\\Limericks.py:311: RuntimeWarning: invalid value encountered in power\n",
      "  sim = self.poetic_vectors.similarity(w2, r) ** 0.5 * 2\n",
      "D:\\0\\Github\\Poetix18\\py_files\\Limericks.py:312: RuntimeWarning: invalid value encountered in power\n",
      "  sim += self.poetic_vectors.similarity(w4, r) ** 0.5 * 1\n"
     ]
    },
    {
     "name": "stdout",
     "output_type": "stream",
     "text": [
      "('maim', 'game', 'way', 'play', 'came')\n"
     ]
    }
   ],
   "source": [
    "print(lg.get_five_words('game'))\n",
    "print(lg.get_five_words_henry('game'))"
   ]
  },
  {
   "cell_type": "code",
   "execution_count": 32,
   "metadata": {
    "scrolled": false
   },
   "outputs": [
    {
     "name": "stdout",
     "output_type": "stream",
     "text": [
      "['WHO', 'VBD', 'DT', 'JJ', 'NN', 'IN', 'PRP$', 'NN']\n",
      "INFO:tensorflow:Restoring parameters from py_files/models/all_combined_back\\model.ckpt-120000\n",
      "['WP$', 'NN', 'VBD', 'DT', 'NN', 'IN', 'NN']\n",
      "INFO:tensorflow:Restoring parameters from py_files/models/all_combined_back\\model.ckpt-120000\n",
      "['WHO', 'VBD', 'DT', 'PRP$', 'NN', 'IN', 'DT', 'NN']\n",
      "INFO:tensorflow:Restoring parameters from py_files/models/all_combined_back\\model.ckpt-120000\n",
      "['WHO', 'VBD', 'DT', 'NN', 'IN', 'NN']\n",
      "INFO:tensorflow:Restoring parameters from py_files/models/all_combined_back\\model.ckpt-120000\n",
      "['WP$', 'NN', 'VBD', 'RB', 'JJR', 'THAN', 'NN']\n",
      "INFO:tensorflow:Restoring parameters from py_files/models/all_combined_back\\model.ckpt-120000\n",
      "[(['who', 'hesitated', 'the', 'first', 'part', 'of', 'her', 'game'], -4.20305871963501, ['WHO', 'VBD', 'DT', 'JJ', 'NN', 'IN', 'PRP$', 'NN'], ['who', 'had', 'a', 'large', 'wart', 'on', 'her', 'nose']), (['who', 'fascinated', 'all', 'his', 'look', 'at', 'some', 'game'], -4.708104133605957, ['WHO', 'VBD', 'DT', 'PRP$', 'NN', 'IN', 'DT', 'NN'], ['who', 'kept', 'all', 'his', 'cash', 'in', 'a', 'bucket']), (['whose', 'personality', 'was', 'not', 'more', 'than', 'game'], -4.719402313232422, ['WP$', 'NN', 'VBD', 'RB', 'JJR', 'THAN', 'NN'], ['whose', 'speed', 'was', 'much', 'faster', 'than', 'light']), (['who', 'deteriorated', 'the', 'way', 'out', 'game'], -4.988438606262207, ['WHO', 'VBD', 'DT', 'NN', 'IN', 'NN'], ['who', 'hadnt', 'an', 'atom', 'of', 'fear']), (['whose', 'life', 'eliminated', 'the', 'way', 'out', 'game'], -5.094135829380581, ['WP$', 'NN', 'VBD', 'DT', 'NN', 'IN', 'NN'], ['whose', 'pa', 'made', 'a', 'fortune', 'in', 'pork'])]\n",
      "['RB', 'DT', 'JJ', 'NN', 'VBD', 'PRP']\n",
      "INFO:tensorflow:Restoring parameters from py_files/models/all_combined_back\\model.ckpt-120000\n",
      "[(['only', 'the', 'whole', 'thing', 'was', 'they'], -3.443039894104004, ['RB', 'DT', 'JJ', 'NN', 'VBD', 'PRP'], ['soon', 'a', 'happy', 'thought', 'hit', 'her'])]\n",
      "['DT', 'VBN', 'TO', 'DT', 'NN']\n",
      "INFO:tensorflow:Restoring parameters from py_files/models/all_combined_back\\model.ckpt-120000\n",
      "['PRP', 'VBD', 'DT', 'NN']\n",
      "INFO:tensorflow:Restoring parameters from py_files/models/all_combined_back\\model.ckpt-120000\n",
      "['PRP', 'POS', 'DT', 'NN', 'IN', 'NN']\n",
      "INFO:tensorflow:Restoring parameters from py_files/models/all_combined_back\\model.ckpt-120000\n",
      "['CC', 'IN', 'PRP$', 'NN']\n",
      "INFO:tensorflow:Restoring parameters from py_files/models/all_combined_back\\model.ckpt-120000\n",
      "['VBZ', 'DT', 'JJ', 'NN', 'POS', 'NN']\n",
      "INFO:tensorflow:Restoring parameters from py_files/models/all_combined_back\\model.ckpt-120000\n",
      "[(['that', 'come', 'to', 'another', 'play'], -4.002622985839844, ['DT', 'VBN', 'TO', 'DT', 'NN'], ['all', 'exposed', 'to', 'the', 'breeze']), (['i', 'hesitated', 'all', 'play'], -4.113086223602295, ['PRP', 'VBD', 'DT', 'NN'], ['he', 'inserted', 'some', 'mice']), (['and', 'addition', 'ours', 'play'], -5.885270118713379, ['CC', 'IN', 'PRP$', 'NN'], ['and', 'in', 'his', 'lapel'])]\n",
      "['WDT', 'VBZ', 'PRP', 'IN', 'RB', 'JJ', 'NN']\n",
      "INFO:tensorflow:Restoring parameters from py_files/models/all_combined_back\\model.ckpt-120000\n",
      "['WDT', 'VBD', 'JJ', 'NN', 'IN', 'NN']\n",
      "INFO:tensorflow:Restoring parameters from py_files/models/all_combined_back\\model.ckpt-120000\n",
      "['WHEN', 'PRP', 'VBP', 'PRP', ',', 'PRP', 'VBP', 'VBN', 'RB', 'NN']\n",
      "INFO:tensorflow:Restoring parameters from py_files/models/all_combined_back\\model.ckpt-120000\n",
      "['PRP', 'RB', 'VBD', 'DT', 'NN']\n",
      "INFO:tensorflow:Restoring parameters from py_files/models/all_combined_back\\model.ckpt-120000\n",
      "['CC', 'PRP', 'VBZ', 'DT', 'NN', 'IN', 'DT', 'NN']\n",
      "INFO:tensorflow:Restoring parameters from py_files/models/all_combined_back\\model.ckpt-120000\n",
      "[(['and', 'it', 'is', 'the', 'reality', 'of', 'all', 'name'], -3.0360076427459717, ['CC', 'PRP', 'VBZ', 'DT', 'NN', 'IN', 'DT', 'NN'], ['and', 'that', 'is', 'the', 'cause', 'of', 'this', 'sonnet']), (['when', 'you', 'understand', 'me', ',', 'i', 'am', 'come', 'close', 'name'], -3.1270063400268553, ['WHEN', 'PRP', 'VBP', 'PRP', ',', 'PRP', 'VBP', 'VBN', 'RB', 'NN'], ['when', 'I', 'wear', 'it', ',', 'I', 'am', 'called', 'only', 'vermin']), (['which', 'is', 'it', 'as', 'not', 'intolerable', 'name'], -4.17210578918457, ['WDT', 'VBZ', 'PRP', 'IN', 'RB', 'JJ', 'NN'], ['which', 'leaves', 'him', 'in', 'very', 'bad', 'shape']), (['i', 'conspiratorially', 'saw', 'that', 'name'], -5.430389022827148, ['PRP', 'RB', 'VBD', 'DT', 'NN'], ['he', 'carelessly', 'stuck', 'a', 'verbena']), (['which', 'deteriorated', 'first', 'look', 'on', 'name'], -6.1767832438151045, ['WDT', 'VBD', 'JJ', 'NN', 'IN', 'NN'], ['which', 'refreshed', 'that', 'person', 'of', 'ewell'])]\n",
      "************\n",
      "there once was a young woman whose name was ame\n",
      "who hesitated the first part of her game\n",
      "only the whole thing was they\n",
      "that come to another play\n",
      "and it is the reality of all name\n",
      "\n",
      "['WHO', 'VBD', 'DT', 'JJ', 'NN', 'DT', 'NN']\n",
      "INFO:tensorflow:Restoring parameters from py_files/models/all_combined_back\\model.ckpt-120000\n",
      "['WHO', 'VBD', 'DT', 'JJ', 'NN', 'IN', 'PRP$', 'NN']\n",
      "INFO:tensorflow:Restoring parameters from py_files/models/all_combined_back\\model.ckpt-120000\n",
      "['WHO', 'VBD', 'PRP', 'RB', 'IN', 'DT', 'NN']\n",
      "INFO:tensorflow:Restoring parameters from py_files/models/all_combined_back\\model.ckpt-120000\n",
      "['WHO', 'VBD', 'IN', 'DT', 'NN', 'IN', 'NNS']\n",
      "INFO:tensorflow:Restoring parameters from py_files/models/all_combined_back\\model.ckpt-120000\n",
      "['WP$', 'NN', 'VBD', 'DT', 'NN', 'IN', 'NN']\n",
      "INFO:tensorflow:Restoring parameters from py_files/models/all_combined_back\\model.ckpt-120000\n",
      "[(['who', 'came', 'to', 'the', 'conservatory', 'out', 'game'], -4.073335102626255, ['WHO', 'VBD', 'IN', 'DT', 'NN', 'IN', 'NNS'], ['who', 'slipped', 'on', 'a', 'peel', 'of', 'bananas']), (['who', 'hesitated', 'the', 'first', 'part', 'of', 'her', 'game'], -4.20305871963501, ['WHO', 'VBD', 'DT', 'JJ', 'NN', 'IN', 'PRP$', 'NN'], ['who', 'had', 'a', 'large', 'wart', 'on', 'her', 'nose']), (['who', 'had', 'a', 'psychological', 'place', 'all', 'game'], -4.339798791067941, ['WHO', 'VBD', 'DT', 'JJ', 'NN', 'DT', 'NN'], ['who', 'read', 'a', 'love', 'story', 'each', 'day']), (['who', 'gave', 'me', 'immediately', 'to', 'some', 'game'], -4.39716420854841, ['WHO', 'VBD', 'PRP', 'RB', 'IN', 'DT', 'NN'], ['who', 'found', 'himself', 'quite', 'at', 'a', 'loss']), (['whose', 'life', 'was', 'the', 'imagination', 'out', 'game'], -4.439111164637974, ['WP$', 'NN', 'VBD', 'DT', 'NN', 'IN', 'NN'], ['whose', 'pa', 'made', 'a', 'fortune', 'in', 'pork'])]\n",
      "['PRP', 'VBP', 'DT', 'NN', 'NN']\n",
      "INFO:tensorflow:Restoring parameters from py_files/models/all_combined_back\\model.ckpt-120000\n",
      "['WHEN', 'DT', 'NN', 'VBZ', 'PRP$', 'NN']\n",
      "INFO:tensorflow:Restoring parameters from py_files/models/all_combined_back\\model.ckpt-120000\n",
      "['PRP', 'VBD', 'DT', 'NN']\n",
      "INFO:tensorflow:Restoring parameters from py_files/models/all_combined_back\\model.ckpt-120000\n",
      "['VBD', 'DT', 'CD', 'TO', 'DT', 'NN']\n",
      "INFO:tensorflow:Restoring parameters from py_files/models/all_combined_back\\model.ckpt-120000\n",
      "['EX', 'VBZ', 'NN', 'IN', 'DT', 'NN']\n",
      "INFO:tensorflow:Restoring parameters from py_files/models/all_combined_back\\model.ckpt-120000\n",
      "[(['i', 'have', 'no', 'expression', 'way'], -2.75305118560791, ['PRP', 'VBP', 'DT', 'NN', 'NN'], ['you', 'are', 'a', 'simpleton', 'loon']), (['there', 'is', 'something', 'of', 'all', 'way'], -3.175832748413086, ['EX', 'VBZ', 'NN', 'IN', 'DT', 'NN'], ['there', 'was', 'nothing', 'like', 'a', 'food']), (['when', 'the', 'word', 'reminds', 'her', 'way'], -4.118831952412923, ['WHEN', 'DT', 'NN', 'VBZ', 'PRP$', 'NN'], ['when', 'a', 'girl', 'wears', 'my', 'coat']), (['i', 'hesitated', 'all', 'way'], -4.159818649291992, ['PRP', 'VBD', 'DT', 'NN'], ['he', 'indulged', 'a', 'desire']), (['were', 'the', 'thousand', 'to', 'all', 'way'], -4.879453976949056, ['VBD', 'DT', 'CD', 'TO', 'DT', 'NN'], ['said', 'the', 'two', 'to', 'the', 'tutor'])]\n",
      "['CC', 'VB', 'RB', 'AS', 'NN']\n",
      "INFO:tensorflow:Restoring parameters from py_files/models/all_combined_back\\model.ckpt-120000\n",
      "['IN', 'DT', 'NN']\n",
      "INFO:tensorflow:Restoring parameters from py_files/models/all_combined_back\\model.ckpt-120000\n",
      "['WP', 'DT', 'JJ', 'NN']\n",
      "INFO:tensorflow:Restoring parameters from py_files/models/all_combined_back\\model.ckpt-120000\n"
     ]
    },
    {
     "name": "stdout",
     "output_type": "stream",
     "text": [
      "['IN', 'DT', 'NN', 'CC', 'VBD', 'IN']\n",
      "INFO:tensorflow:Restoring parameters from py_files/models/all_combined_back\\model.ckpt-120000\n",
      "['SO', 'JJ', 'VBD', 'PRP$', 'NN']\n",
      "INFO:tensorflow:Restoring parameters from py_files/models/all_combined_back\\model.ckpt-120000\n",
      "[(['of', 'any', 'life', 'or', 'thought', 'play'], -3.58531920115153, ['IN', 'DT', 'NN', 'CC', 'VBD', 'IN'], ['with', 'a', 'yell', 'and', 'eloped', 'with']), (['and', 'come', 'together', 'as', 'play'], -3.7545085906982423, ['CC', 'VB', 'RB', 'AS', 'NN'], ['and', 'eat', 'just', 'as', 'hearty']), (['so', 'beautiful', 'was', 'mine', 'play'], -4.403765106201172, ['SO', 'JJ', 'VBD', 'PRP$', 'NN'], ['so', 'short', 'was', 'his', 'fin']), (['addition', 'another', 'play'], -6.840391159057617, ['IN', 'DT', 'NN'], ['without', 'any', 'nightie'])]\n",
      "['AS', 'IF', 'PRP', 'MD', 'VBN', 'JJ']\n",
      "INFO:tensorflow:Restoring parameters from py_files/models/all_combined_back\\model.ckpt-120000\n",
      "['CC', 'VBD', 'DT', 'JJ']\n",
      "INFO:tensorflow:Restoring parameters from py_files/models/all_combined_back\\model.ckpt-120000\n",
      "['VB', 'IN', 'JJ', 'VB', 'JJ', 'JJ']\n",
      "INFO:tensorflow:Restoring parameters from py_files/models/all_combined_back\\model.ckpt-120000\n",
      "['DT', 'JJ', 'NN']\n",
      "['IN', 'PRP', 'MD', 'RB', 'VB', 'RP']\n",
      "INFO:tensorflow:Restoring parameters from py_files/models/all_combined_back\\model.ckpt-120000\n",
      "[(['if', 'i', 'can', 'instantaneously', 'look', 'same'], -4.455282847086589, ['IN', 'PRP', 'MD', 'RB', 'VB', 'RP'], ['that', 'he', 'could', \"n't\", 'reach', 'up']), (['as', 'if', 'himself', 'would', 'accumulated', 'same'], -5.268693606058757, ['AS', 'IF', 'PRP', 'MD', 'VBN', 'JJ'], ['as', 'if', 'he', \"'d\", 'been', 'invited']), (['think', 'of', 'such', 'incomprehensible', 'kind', 'same'], -5.338955561319987, ['VB', 'IN', 'JJ', 'VB', 'JJ', 'JJ'], ['be', 'before', 'phoebe', 'be', 'phoebe', 'bee-bee']), (['and', 'deteriorated', 'another', 'same'], -6.283439636230469, ['CC', 'VBD', 'DT', 'JJ'], ['and', 'shocked', 'the', 'ultra-fastidious'])]\n",
      "************\n",
      "there once was a young woman whose name was mame\n",
      "who came to the conservatory out game\n",
      "i have no expression way\n",
      "of any life or thought play\n",
      "if i can instantaneously look same\n",
      "\n"
     ]
    },
    {
     "data": {
      "text/plain": [
       "[[['there',\n",
       "   'once',\n",
       "   'was',\n",
       "   'a',\n",
       "   'young',\n",
       "   'woman',\n",
       "   'whose',\n",
       "   'name',\n",
       "   'was',\n",
       "   'mame']],\n",
       " (['who', 'came', 'to', 'the', 'conservatory', 'out', 'game'],\n",
       "  -4.073335102626255,\n",
       "  ['WHO', 'VBD', 'IN', 'DT', 'NN', 'IN', 'NNS'],\n",
       "  ['who', 'slipped', 'on', 'a', 'peel', 'of', 'bananas']),\n",
       " (['i', 'have', 'no', 'expression', 'way'],\n",
       "  -2.75305118560791,\n",
       "  ['PRP', 'VBP', 'DT', 'NN', 'NN'],\n",
       "  ['you', 'are', 'a', 'simpleton', 'loon']),\n",
       " (['of', 'any', 'life', 'or', 'thought', 'play'],\n",
       "  -3.58531920115153,\n",
       "  ['IN', 'DT', 'NN', 'CC', 'VBD', 'IN'],\n",
       "  ['with', 'a', 'yell', 'and', 'eloped', 'with']),\n",
       " (['if', 'i', 'can', 'instantaneously', 'look', 'same'],\n",
       "  -4.455282847086589,\n",
       "  ['IN', 'PRP', 'MD', 'RB', 'VB', 'RP'],\n",
       "  ['that', 'he', 'could', \"n't\", 'reach', 'up'])]"
      ]
     },
     "execution_count": 32,
     "metadata": {},
     "output_type": "execute_result"
    }
   ],
   "source": [
    "lg.gen_poem_independent_matias('game', 11)\n",
    "lg.gen_poem_independent_matias('game', 11, storyline=1)"
   ]
  },
  {
   "cell_type": "code",
   "execution_count": 33,
   "metadata": {},
   "outputs": [
    {
     "name": "stdout",
     "output_type": "stream",
     "text": [
      "('diem', 'dream', 'kind', 'mind', 'beam')\n",
      "('scream', 'dream', 'pope', 'hope', 'theme')\n"
     ]
    }
   ],
   "source": [
    "print(lg.get_five_words('dream'))\n",
    "print(lg.get_five_words_henry('dream'))"
   ]
  },
  {
   "cell_type": "code",
   "execution_count": 38,
   "metadata": {},
   "outputs": [
    {
     "name": "stdout",
     "output_type": "stream",
     "text": [
      "('remake', 'cake', 'staked', 'baked', 'awake')\n",
      "('flake', 'cake', 'raked', 'baked', 'steak')\n"
     ]
    }
   ],
   "source": [
    "print(lg.get_five_words('cake'))\n",
    "print(lg.get_five_words_henry('cake'))"
   ]
  },
  {
   "cell_type": "code",
   "execution_count": 39,
   "metadata": {},
   "outputs": [
    {
     "name": "stdout",
     "output_type": "stream",
     "text": [
      "('smite', 'night', 'stark', 'dark', 'light')\n",
      "('wight', 'night', 'overnight', 'midnight', 'light')\n"
     ]
    }
   ],
   "source": [
    "print(lg.get_five_words('night'))\n",
    "print(lg.get_five_words_henry('night'))"
   ]
  },
  {
   "cell_type": "code",
   "execution_count": 45,
   "metadata": {},
   "outputs": [
    {
     "name": "stdout",
     "output_type": "stream",
     "text": [
      "('meadow', 'snow', 'they', 'away', 'go')\n",
      "('potato', 'snow', 'rice', 'ice', 'below')\n"
     ]
    }
   ],
   "source": [
    "print(lg.get_five_words('snow'))\n",
    "print(lg.get_five_words_henry('snow'))"
   ]
  },
  {
   "cell_type": "code",
   "execution_count": 48,
   "metadata": {},
   "outputs": [
    {
     "name": "stdout",
     "output_type": "stream",
     "text": [
      "('sabine', 'machine', 'return', 'turn', 'mean')\n",
      "('demean', 'machine', 'scenery', 'machinery', 'screen')\n"
     ]
    }
   ],
   "source": [
    "print(lg.get_five_words('machine'))\n",
    "print(lg.get_five_words_henry('machine'))"
   ]
  },
  {
   "cell_type": "code",
   "execution_count": 53,
   "metadata": {},
   "outputs": [
    {
     "name": "stdout",
     "output_type": "stream",
     "text": [
      "('severe', 'tear', 'start', 'apart', 'bear')\n",
      "('beer', 'tear', 'start', 'apart', 'there')\n"
     ]
    }
   ],
   "source": [
    "print(lg.get_five_words('tear'))\n",
    "print(lg.get_five_words_henry('tear'))"
   ]
  },
  {
   "cell_type": "code",
   "execution_count": 54,
   "metadata": {},
   "outputs": [
    {
     "name": "stdout",
     "output_type": "stream",
     "text": [
      "('marguerite', 'street', 'unlike', 'like', 'beat')\n",
      "('heartbeat', 'street', 'blocks', 'sidewalks', 'concrete')\n"
     ]
    }
   ],
   "source": [
    "print(lg.get_five_words('street'))\n",
    "print(lg.get_five_words_henry('street'))"
   ]
  },
  {
   "cell_type": "code",
   "execution_count": null,
   "metadata": {},
   "outputs": [],
   "source": [
    "********************************************\n",
    "--------------------------------------------\n",
    "********************************************"
   ]
  },
  {
   "cell_type": "code",
   "execution_count": null,
   "metadata": {},
   "outputs": [],
   "source": []
  },
  {
   "cell_type": "code",
   "execution_count": null,
   "metadata": {},
   "outputs": [
    {
     "name": "stdout",
     "output_type": "stream",
     "text": [
      "five words are: \n",
      "('doth', 'broth', 'scoop', 'soup', 'moth')\n",
      "['WHO', 'VBD', 'RP', 'PRP$', 'NNS', 'IN', 'DT', 'NN']\n",
      "INFO:tensorflow:Restoring parameters from py_files/models/all_combined_back\\model.ckpt-120000\n",
      "['WHO', 'VBD', 'JJ', 'NN', 'IN', 'NN']\n",
      "INFO:tensorflow:Restoring parameters from py_files/models/all_combined_back\\model.ckpt-120000\n",
      "['WHO', 'VBD', 'DT', 'JJ', 'NN', 'DT', 'NN']\n",
      "INFO:tensorflow:Restoring parameters from py_files/models/all_combined_back\\model.ckpt-120000\n",
      "['WHO', 'VBD', 'AS', 'PRP', 'VBD', 'IN', 'DT', 'NN']\n",
      "INFO:tensorflow:Restoring parameters from py_files/models/all_combined_back\\model.ckpt-120000\n",
      "['WP$', 'NN', 'VBD', 'RB', 'JJR', 'THAN', 'NN']\n",
      "INFO:tensorflow:Restoring parameters from py_files/models/all_combined_back\\model.ckpt-120000\n",
      "No templates for POS\n",
      "five words are: \n",
      "('transformation', 'probation', 'lenders', 'offenders', 'communication')\n",
      "['WHO', 'VBD', 'AS', 'PRP', 'VBD', 'IN', 'DT', 'NN']\n",
      "INFO:tensorflow:Restoring parameters from py_files/models/all_combined_back\\model.ckpt-120000\n",
      "['WHO', 'VBD', 'PRP', 'RB', 'IN', 'DT', 'NN']\n",
      "INFO:tensorflow:Restoring parameters from py_files/models/all_combined_back\\model.ckpt-120000\n",
      "['WHO', 'VBD', 'IN', 'JJ', 'NN']\n",
      "INFO:tensorflow:Restoring parameters from py_files/models/all_combined_back\\model.ckpt-120000\n",
      "['WHO', 'VBD', 'DT', 'JJ', 'NN', 'DT', 'NN']\n",
      "INFO:tensorflow:Restoring parameters from py_files/models/all_combined_back\\model.ckpt-120000\n",
      "['WP$', 'NN', 'VBD', 'DT', 'NN', 'IN', 'NN']\n",
      "INFO:tensorflow:Restoring parameters from py_files/models/all_combined_back\\model.ckpt-120000\n",
      "['IN', 'PRP$', 'NN', ',', 'PRP$', 'NNS']\n",
      "INFO:tensorflow:Restoring parameters from py_files/models/all_combined_back\\model.ckpt-120000\n",
      "['PRP', 'VBD', ',', 'RB', 'VBD']\n",
      "INFO:tensorflow:Restoring parameters from py_files/models/all_combined_back\\model.ckpt-120000\n",
      "['IN', 'PRP$', 'NNS', 'IN', 'DT', 'NNS']\n",
      "INFO:tensorflow:Restoring parameters from py_files/models/all_combined_back\\model.ckpt-120000\n",
      "['RB', 'VBD', 'IN', 'DT', 'NN', 'IN', 'NN']\n",
      "INFO:tensorflow:Restoring parameters from py_files/models/all_combined_back\\model.ckpt-120000\n",
      "INFO:tensorflow:Restoring parameters from py_files/models/all_combined_back\\model.ckpt-120000\n",
      "['VBG', 'DT', 'NNS', 'CC', 'NNS']\n",
      "INFO:tensorflow:Restoring parameters from py_files/models/all_combined_back\\model.ckpt-120000\n",
      "['JJ', 'NN', 'IN', 'NN']\n",
      "INFO:tensorflow:Restoring parameters from py_files/models/all_combined_back\\model.ckpt-120000\n",
      "INFO:tensorflow:Restoring parameters from py_files/models/all_combined_back\\model.ckpt-120000\n",
      "['CC', 'VBD', 'NNS', 'IN', 'NNS']\n",
      "INFO:tensorflow:Restoring parameters from py_files/models/all_combined_back\\model.ckpt-120000\n",
      "['IN', 'DT', 'NN', 'VBZ', 'VBN', 'RP', 'PRP$', 'NN']\n",
      "five words are: \n",
      "('athwart', 'passport', 'resistance', 'assistance', 'support')\n",
      "['WHO', 'VBD', 'DT', 'NN', 'IN', 'NN']\n",
      "INFO:tensorflow:Restoring parameters from py_files/models/all_combined_back\\model.ckpt-120000\n",
      "['WHO', 'VBD', 'IN', 'CD', 'IN', 'PRP$', 'NNS']\n",
      "INFO:tensorflow:Restoring parameters from py_files/models/all_combined_back\\model.ckpt-120000\n",
      "['WHO', 'VBD', 'JJ', 'NN', 'IN', 'NN']\n",
      "INFO:tensorflow:Restoring parameters from py_files/models/all_combined_back\\model.ckpt-120000\n",
      "['WHO', 'VBD', 'IN', 'JJ', 'NN']\n",
      "INFO:tensorflow:Restoring parameters from py_files/models/all_combined_back\\model.ckpt-120000\n",
      "['WP$', 'NN', 'VBD', 'DT', 'NN', 'IN', 'NN']\n",
      "INFO:tensorflow:Restoring parameters from py_files/models/all_combined_back\\model.ckpt-120000\n",
      "['CC', 'IN', 'PRP$', 'NN']\n",
      "INFO:tensorflow:Restoring parameters from py_files/models/all_combined_back\\model.ckpt-120000\n",
      "['DT', 'NN', 'IN', 'DT', 'NN']\n",
      "INFO:tensorflow:Restoring parameters from py_files/models/all_combined_back\\model.ckpt-120000\n",
      "['PRP', 'VBD', 'RP', 'CD', 'NN']\n",
      "INFO:tensorflow:Restoring parameters from py_files/models/all_combined_back\\model.ckpt-120000\n",
      "['VBD', 'DT', 'NN', 'IN', 'DT', 'NN']\n",
      "INFO:tensorflow:Restoring parameters from py_files/models/all_combined_back\\model.ckpt-120000\n",
      "['PRP', 'VBD', ',', 'IN', 'DT', 'NN']\n",
      "INFO:tensorflow:Restoring parameters from py_files/models/all_combined_back\\model.ckpt-120000\n",
      "['IN', 'PRP$', 'NN', 'CC', 'NN', 'IN', 'DT', 'NN']\n",
      "INFO:tensorflow:Restoring parameters from py_files/models/all_combined_back\\model.ckpt-120000\n",
      "INFO:tensorflow:Restoring parameters from py_files/models/all_combined_back\\model.ckpt-120000\n",
      "['IN', 'PRP$', 'NNS', 'CC', 'PRP$', 'NN']\n",
      "INFO:tensorflow:Restoring parameters from py_files/models/all_combined_back\\model.ckpt-120000\n",
      "['PRP$', 'NN', 'POS', 'JJ', 'NN']\n",
      "INFO:tensorflow:Restoring parameters from py_files/models/all_combined_back\\model.ckpt-120000\n",
      "five words are: \n",
      "('remake', 'stake', 'asleep', 'sleep', 'awake')\n",
      "['WHO', 'VBD', 'IN', 'DT', 'NN', 'IN', 'NNS']\n",
      "INFO:tensorflow:Restoring parameters from py_files/models/all_combined_back\\model.ckpt-120000\n",
      "['WP$', 'NN', 'VBD', 'RB', 'JJR', 'THAN', 'NN']\n",
      "INFO:tensorflow:Restoring parameters from py_files/models/all_combined_back\\model.ckpt-120000\n",
      "['WHO', 'VBD', 'IN', 'CD', 'IN', 'PRP$', 'NNS']\n",
      "INFO:tensorflow:Restoring parameters from py_files/models/all_combined_back\\model.ckpt-120000\n",
      "['WHO', 'VBD', 'IN', 'JJ', 'NN']\n",
      "INFO:tensorflow:Restoring parameters from py_files/models/all_combined_back\\model.ckpt-120000\n",
      "['WP$', 'NN', 'VBD', 'DT', 'NN', 'IN', 'NN']\n",
      "INFO:tensorflow:Restoring parameters from py_files/models/all_combined_back\\model.ckpt-120000\n",
      "No templates for POS\n",
      "five words are: \n",
      "('heald', 'yield', 'devil', 'level', 'field')\n",
      "['WP$', 'NNS', 'RB', 'MD', 'VB']\n",
      "INFO:tensorflow:Restoring parameters from py_files/models/all_combined_back\\model.ckpt-120000\n",
      "['DT', 'NN', 'IN', 'DT', 'NN']\n",
      "INFO:tensorflow:Restoring parameters from py_files/models/all_combined_back\\model.ckpt-120000\n",
      "['IN', 'JJ', 'NN']\n",
      "INFO:tensorflow:Restoring parameters from py_files/models/all_combined_back\\model.ckpt-120000\n",
      "['PRP', 'VBD', ',', 'IN', 'DT', 'NN']\n",
      "INFO:tensorflow:Restoring parameters from py_files/models/all_combined_back\\model.ckpt-120000\n",
      "['PRP', 'VBD', 'RB', 'IN', 'DT', 'NN']\n",
      "INFO:tensorflow:Restoring parameters from py_files/models/all_combined_back\\model.ckpt-120000\n",
      "['VBD', 'PRP', 'IN', ',', 'WP', 'DT', 'NN']\n",
      "INFO:tensorflow:Restoring parameters from py_files/models/all_combined_back\\model.ckpt-120000\n",
      "['CC', 'AS', 'RB', 'AS', 'DT', 'NN']\n",
      "INFO:tensorflow:Restoring parameters from py_files/models/all_combined_back\\model.ckpt-120000\n",
      "INFO:tensorflow:Restoring parameters from py_files/models/all_combined_back\\model.ckpt-120000\n",
      "['VB', 'RP', 'IN', 'DT', 'NN']\n",
      "INFO:tensorflow:Restoring parameters from py_files/models/all_combined_back\\model.ckpt-120000\n",
      "['CC', 'VBD', 'IN', 'DT', 'JJ', 'NN']\n",
      "INFO:tensorflow:Restoring parameters from py_files/models/all_combined_back\\model.ckpt-120000\n",
      "INFO:tensorflow:Restoring parameters from py_files/models/all_combined_back\\model.ckpt-120000\n",
      "['VBD', 'CD', 'NNS', 'IN', 'NN']\n",
      "INFO:tensorflow:Restoring parameters from py_files/models/all_combined_back\\model.ckpt-120000\n",
      "['IN', 'JJ', 'NN', 'IN', 'NN']\n",
      "INFO:tensorflow:Restoring parameters from py_files/models/all_combined_back\\model.ckpt-120000\n",
      "INFO:tensorflow:Restoring parameters from py_files/models/all_combined_back\\model.ckpt-120000\n",
      "['DT', 'CD', 'VBD', 'PDT', 'DT', 'NN']\n",
      "INFO:tensorflow:Restoring parameters from py_files/models/all_combined_back\\model.ckpt-120000\n",
      "['WDT', 'VBZ', 'PRP', 'IN', 'RB', 'JJ', 'NN']\n",
      "INFO:tensorflow:Restoring parameters from py_files/models/all_combined_back\\model.ckpt-120000\n",
      "INFO:tensorflow:Restoring parameters from py_files/models/all_combined_back\\model.ckpt-120000\n",
      "['DT', 'VBN', 'TO', 'DT', 'NN']\n",
      "INFO:tensorflow:Restoring parameters from py_files/models/all_combined_back\\model.ckpt-120000\n",
      "[]\n",
      "five words are: \n",
      "('hale', 'flail', 'amplitude', 'magnitude', 'scale')\n",
      "five words are: \n",
      "('secession', 'transgression', 'latter', 'matter', 'question')\n",
      "['WHO', 'VBD', 'IN', 'JJ', 'NN']\n",
      "INFO:tensorflow:Restoring parameters from py_files/models/all_combined_back\\model.ckpt-120000\n",
      "['WHO', 'VBD', 'IN', 'DT', 'NN', 'IN', 'NNS']\n",
      "INFO:tensorflow:Restoring parameters from py_files/models/all_combined_back\\model.ckpt-120000\n",
      "['WHO', 'VBD', 'AS', 'PRP', 'VBD', 'IN', 'DT', 'NN']\n",
      "INFO:tensorflow:Restoring parameters from py_files/models/all_combined_back\\model.ckpt-120000\n"
     ]
    },
    {
     "name": "stdout",
     "output_type": "stream",
     "text": [
      "['WHO', 'VBD', 'DT', 'PRP$', 'NN', 'IN', 'DT', 'NN']\n",
      "INFO:tensorflow:Restoring parameters from py_files/models/all_combined_back\\model.ckpt-120000\n",
      "['WHO', 'VBD', 'JJ', 'NN', 'IN', 'NN']\n",
      "['PRP', 'VBZ', 'NN']\n",
      "INFO:tensorflow:Restoring parameters from py_files/models/all_combined_back\\model.ckpt-120000\n",
      "['DT', 'NN', 'VBD', ',', 'RB', 'JJ']\n",
      "['CC', 'JJ', ',', 'CC', 'JJ']\n",
      "INFO:tensorflow:Restoring parameters from py_files/models/all_combined_back\\model.ckpt-120000\n",
      "['PRP$', 'NNS', 'VBD', 'SO', 'JJ']\n",
      "INFO:tensorflow:Restoring parameters from py_files/models/all_combined_back\\model.ckpt-120000\n",
      "['CC', 'DT', 'CD', 'VBD', 'JJ']\n",
      "INFO:tensorflow:Restoring parameters from py_files/models/all_combined_back\\model.ckpt-120000\n",
      "['VBP', 'VBG', 'DT', 'NN', 'IN', 'PRP$', 'NN']\n"
     ]
    }
   ],
   "source": [
    "import random\n",
    "statement=True\n",
    "word=random.choice(lg.pos_to_words['NN'])\n",
    "while statement:\n",
    "    try:\n",
    "        poem=lg.gen_poem_conditioned(word, 11)\n",
    "        statement=False\n",
    "    except:\n",
    "        word=random.choice(lg.pos_to_words['NN'])"
   ]
  },
  {
   "cell_type": "markdown",
   "metadata": {},
   "source": [
    "## gen_poem_conditioned"
   ]
  },
  {
   "cell_type": "markdown",
   "metadata": {},
   "source": [
    "Generate 2nd, 3rd and 5th lines independently, then generate 1st conditioned on second and 4th conditioned on 5th."
   ]
  },
  {
   "cell_type": "markdown",
   "metadata": {},
   "source": [
    "#### mate"
   ]
  },
  {
   "cell_type": "code",
   "execution_count": 41,
   "metadata": {},
   "outputs": [
    {
     "name": "stderr",
     "output_type": "stream",
     "text": [
      "c:\\users\\hp\\anaconda2\\envs\\translator\\lib\\site-packages\\gensim\\matutils.py:737: FutureWarning: Conversion of the second argument of issubdtype from `int` to `np.signedinteger` is deprecated. In future, it will be treated as `np.int32 == np.dtype(int).type`.\n",
      "  if np.issubdtype(vec.dtype, np.int):\n"
     ]
    },
    {
     "name": "stdout",
     "output_type": "stream",
     "text": [
      "five words are: \n",
      "('alternate', 'mate', 'dream', 'team', 'state')\n",
      "['WHO', 'VBD', 'PRP', 'RB', 'IN', 'DT', 'NN']\n",
      "INFO:tensorflow:Restoring parameters from py_files/models/all_combined_back\\model.ckpt-120000\n",
      "['PRP', 'VBD', ',', 'IN', 'DT', 'NN']\n",
      "INFO:tensorflow:Restoring parameters from py_files/models/all_combined_back\\model.ckpt-120000\n",
      "['VBP', 'VBG', 'DT', 'NN', 'IN', 'PRP$', 'NN']\n",
      "INFO:tensorflow:Restoring parameters from py_files/models/all_combined_back\\model.ckpt-120000\n",
      "INFO:tensorflow:Restoring parameters from py_files/models/all_combined_back\\model.ckpt-120000\n",
      "INFO:tensorflow:Restoring parameters from py_files/models/all_combined_back\\model.ckpt-120000\n",
      "['IN', 'DT', 'JJ', 'NN', 'NN', 'VBP']\n",
      "INFO:tensorflow:Restoring parameters from py_files/models/all_combined_back\\model.ckpt-120000\n",
      "['CD', 'NNS', 'CC', 'DT', 'NN']\n",
      "INFO:tensorflow:Restoring parameters from py_files/models/all_combined_back\\model.ckpt-120000\n",
      "************\n",
      "of the whole thing everything alternate\n",
      "who fascinated me now as a mate\n",
      "i continued , with a dream\n",
      "undertone eyes and the team\n",
      "cant sing the fascination of her state\n",
      "\n"
     ]
    }
   ],
   "source": [
    "poem=lg.gen_poem_conditioned('mate', 10)"
   ]
  },
  {
   "cell_type": "code",
   "execution_count": null,
   "metadata": {},
   "outputs": [
    {
     "name": "stderr",
     "output_type": "stream",
     "text": [
      "c:\\users\\hp\\anaconda2\\envs\\translator\\lib\\site-packages\\gensim\\matutils.py:737: FutureWarning: Conversion of the second argument of issubdtype from `int` to `np.signedinteger` is deprecated. In future, it will be treated as `np.int32 == np.dtype(int).type`.\n",
      "  if np.issubdtype(vec.dtype, np.int):\n"
     ]
    },
    {
     "name": "stdout",
     "output_type": "stream",
     "text": [
      "five words are: \n",
      "('bonfire', 'fire', 'kettle', 'metal', 'wire')\n",
      "['WHO', 'VBD', 'RP', 'PRP$', 'NNS', 'IN', 'DT', 'NN']\n",
      "INFO:tensorflow:Restoring parameters from py_files/models/all_combined_back\\model.ckpt-120000\n",
      "['WHO', 'VBD', 'AS', 'PRP', 'VBD', 'IN', 'DT', 'NN']\n",
      "INFO:tensorflow:Restoring parameters from py_files/models/all_combined_back\\model.ckpt-120000\n",
      "['WHO', 'VBD', 'PRP', 'RB', 'IN', 'DT', 'NN']\n",
      "INFO:tensorflow:Restoring parameters from py_files/models/all_combined_back\\model.ckpt-120000\n",
      "['WHO', 'VBD', 'IN', 'JJ', 'NN']\n",
      "INFO:tensorflow:Restoring parameters from py_files/models/all_combined_back\\model.ckpt-120000\n",
      "['WHO', 'VBD', 'DT', 'JJ', 'NN', 'IN', 'PRP$', 'NN']\n",
      "INFO:tensorflow:Restoring parameters from py_files/models/all_combined_back\\model.ckpt-120000\n",
      "['THAN', 'DT', 'NN', 'IN', 'NN']\n",
      "INFO:tensorflow:Restoring parameters from py_files/models/all_combined_back\\model.ckpt-120000\n",
      "['CC', 'IN', 'PRP$', 'NN']\n",
      "INFO:tensorflow:Restoring parameters from py_files/models/all_combined_back\\model.ckpt-120000\n",
      "['PRP', 'VBP', 'DT', 'NN', 'NN']\n",
      "INFO:tensorflow:Restoring parameters from py_files/models/all_combined_back\\model.ckpt-120000\n",
      "['VBD', 'DT', 'CD', 'TO', 'DT', 'NN']\n",
      "INFO:tensorflow:Restoring parameters from py_files/models/all_combined_back\\model.ckpt-120000\n",
      "['PRP', 'VBD', 'IN', 'DT', 'NN']\n"
     ]
    }
   ],
   "source": [
    "poem2=lg.gen_poem_conditioned('fire', 10)"
   ]
  },
  {
   "cell_type": "code",
   "execution_count": 106,
   "metadata": {},
   "outputs": [
    {
     "data": {
      "text/plain": [
       "[(['been', 'one', 'perturbations', 'of', 'his', 'liar'],\n",
       "  -6.998078028361003,\n",
       "  ['VBN', 'CD', 'NNS', 'IN', 'PRP$', 'NN']),\n",
       " (['who', 'initiated', 'at', 'last', 'fire'],\n",
       "  -5.47464599609375,\n",
       "  ['WHO', 'VBD', 'IN', 'JJ', 'NN']),\n",
       " (['in', 'his', 'tremulous', 'kettle'],\n",
       "  -3.5174553394317627,\n",
       "  ['IN', 'PRP$', 'JJ', 'NN']),\n",
       " (['of', 'my', 'eyes', 'and', 'his', 'metal'],\n",
       "  -5.591676712036133,\n",
       "  ['IN', 'PRP$', 'NNS', 'CC', 'PRP$', 'NN']),\n",
       " (['of', 'my', 'body', 'and', 'look', 'at', 'some', 'wire'],\n",
       "  -3.539680242538452,\n",
       "  ['IN', 'PRP$', 'NN', 'CC', 'NN', 'IN', 'DT', 'NN'])]"
      ]
     },
     "execution_count": 106,
     "metadata": {},
     "output_type": "execute_result"
    }
   ],
   "source": [
    "poem2"
   ]
  },
  {
   "cell_type": "code",
   "execution_count": 103,
   "metadata": {},
   "outputs": [
    {
     "name": "stderr",
     "output_type": "stream",
     "text": [
      "c:\\users\\hp\\anaconda2\\envs\\translator\\lib\\site-packages\\gensim\\matutils.py:737: FutureWarning: Conversion of the second argument of issubdtype from `int` to `np.signedinteger` is deprecated. In future, it will be treated as `np.int32 == np.dtype(int).type`.\n",
      "  if np.issubdtype(vec.dtype, np.int):\n"
     ]
    },
    {
     "name": "stdout",
     "output_type": "stream",
     "text": [
      "five words are: \n",
      "('outright', 'height', 'indicate', 'weight', 'light')\n",
      "['WHO', 'VBD', 'DT', 'JJ', 'NN', 'DT', 'NN']\n",
      "INFO:tensorflow:Restoring parameters from py_files/models/all_combined_back\\model.ckpt-120000\n",
      "['PRP', 'VBD', 'CD', 'TO', 'NN']\n",
      "INFO:tensorflow:Restoring parameters from py_files/models/all_combined_back\\model.ckpt-120000\n",
      "['IN', 'PRP$', 'NN', 'CC', 'NN', 'IN', 'DT', 'NN']\n",
      "INFO:tensorflow:Restoring parameters from py_files/models/all_combined_back\\model.ckpt-120000\n",
      "INFO:tensorflow:Restoring parameters from py_files/models/all_combined_back\\model.ckpt-120000\n",
      "INFO:tensorflow:Restoring parameters from py_files/models/all_combined_back\\model.ckpt-120000\n",
      "['NN', 'IN', 'PRP', 'MD']\n",
      "INFO:tensorflow:Restoring parameters from py_files/models/all_combined_back\\model.ckpt-120000\n",
      "['IN', 'PRP$', 'NNS', 'CC', 'PRP$', 'NN']\n",
      "INFO:tensorflow:Restoring parameters from py_files/models/all_combined_back\\model.ckpt-120000\n",
      "************\n",
      "individuality as we outright\n",
      "who initiated the light round each height\n",
      "i was favour to indicate\n",
      "in my eyes behemoth your weight\n",
      "of my philosophy and look in some light\n",
      "\n"
     ]
    }
   ],
   "source": [
    "poem3=lg.gen_poem_conditioned('height', 11)"
   ]
  },
  {
   "cell_type": "markdown",
   "metadata": {},
   "source": [
    "## Best line"
   ]
  },
  {
   "cell_type": "code",
   "execution_count": 120,
   "metadata": {},
   "outputs": [
    {
     "name": "stdout",
     "output_type": "stream",
     "text": [
      "['WHO', 'IN', 'NNS', 'VBD', 'JJ', 'NN', 'IN', 'NN']\n",
      "INFO:tensorflow:Restoring parameters from py_files/models/all_combined_back\\model.ckpt-120000\n",
      "['WHO', 'VBD', 'IN', 'CD', 'IN', 'PRP$', 'NNS']\n",
      "INFO:tensorflow:Restoring parameters from py_files/models/all_combined_back\\model.ckpt-120000\n",
      "['WHO', 'VBD', 'DT', 'JJ', 'NN', 'DT', 'NN']\n",
      "INFO:tensorflow:Restoring parameters from py_files/models/all_combined_back\\model.ckpt-120000\n",
      "['WHO', 'VBD', 'RP', 'PRP$', 'NNS', 'IN', 'DT', 'NN']\n",
      "INFO:tensorflow:Restoring parameters from py_files/models/all_combined_back\\model.ckpt-120000\n",
      "['WHO', 'VBD', 'DT', 'NN', 'IN', 'NN']\n",
      "INFO:tensorflow:Restoring parameters from py_files/models/all_combined_back\\model.ckpt-120000\n",
      "['WHO', 'VBD', 'PRP', 'RB', 'IN', 'DT', 'NN']\n",
      "INFO:tensorflow:Restoring parameters from py_files/models/all_combined_back\\model.ckpt-120000\n",
      "['WHO', 'VBD', 'IN', 'JJ', 'NN']\n",
      "INFO:tensorflow:Restoring parameters from py_files/models/all_combined_back\\model.ckpt-120000\n",
      "['WP$', 'NN', 'VBD', 'DT', 'NN', 'IN', 'NN']\n",
      "INFO:tensorflow:Restoring parameters from py_files/models/all_combined_back\\model.ckpt-120000\n"
     ]
    }
   ],
   "source": [
    "from py_files.templates import get_templates\n",
    "dataset, second_line, third_line, last_two=get_templates()\n",
    "p=lg.gen_best_line('sky', set_of_templates=second_line, rand_templates=5)"
   ]
  },
  {
   "cell_type": "code",
   "execution_count": 121,
   "metadata": {},
   "outputs": [
    {
     "data": {
      "text/plain": [
       "[(['who', 'was', 'a', 'solitary', 'round', 'the', 'sky'],\n",
       "  -3.8050354548863004,\n",
       "  ['WHO', 'VBD', 'DT', 'JJ', 'NN', 'DT', 'NN'],\n",
       "  ['who', 'read', 'a', 'love', 'story', 'each', 'day']),\n",
       " (['who', 'fascinated', 'me', 'there', 'in', 'the', 'sky'],\n",
       "  -3.8535614013671875,\n",
       "  ['WHO', 'VBD', 'PRP', 'RB', 'IN', 'DT', 'NN'],\n",
       "  ['who', 'found', 'himself', 'quite', 'at', 'a', 'loss']),\n",
       " (['who', 'repeated', 'on', 'my', 'feet', 'in', 'the', 'sky'],\n",
       "  -4.04962682723999,\n",
       "  ['WHO', 'VBD', 'RP', 'PRP$', 'NNS', 'IN', 'DT', 'NN'],\n",
       "  ['who', 'sent', 'out', 'his', 'cards', 'for', 'a', 'party']),\n",
       " (['whose', 'life', 'was', 'the', 'reality', 'on', 'sky'],\n",
       "  -4.351373400006976,\n",
       "  ['WP$', 'NN', 'VBD', 'DT', 'NN', 'IN', 'NN'],\n",
       "  ['whose', 'pa', 'made', 'a', 'fortune', 'in', 'pork']),\n",
       " (['who', 'hesitated', 'in', 'one', 'of', 'my', 'sky'],\n",
       "  -4.458645139421735,\n",
       "  ['WHO', 'VBD', 'IN', 'CD', 'IN', 'PRP$', 'NNS'],\n",
       "  ['who', 'married', 'on', 'one', 'of', 'his', 'trips']),\n",
       " (['who', 'investigated', 'the', 'way', 'on', 'sky'],\n",
       "  -5.081632296244304,\n",
       "  ['WHO', 'VBD', 'DT', 'NN', 'IN', 'NN'],\n",
       "  ['who', 'hadnt', 'an', 'atom', 'of', 'fear']),\n",
       " (['who', 'at', 'years', 'deserted', 'last', 'night', 'on', 'sky'],\n",
       "  -5.279506206512451,\n",
       "  ['WHO', 'IN', 'NNS', 'VBD', 'JJ', 'NN', 'IN', 'NN'],\n",
       "  ['who', 'on', 'apples', 'was', 'quite', 'fond', 'of', 'feedin']),\n",
       " (['who', 'deteriorated', 'in', 'large', 'sky'],\n",
       "  -5.725870132446289,\n",
       "  ['WHO', 'VBD', 'IN', 'JJ', 'NN'],\n",
       "  ['who', 'lived', 'on', 'distilled', 'kerosene'])]"
      ]
     },
     "execution_count": 121,
     "metadata": {},
     "output_type": "execute_result"
    }
   ],
   "source": [
    "p"
   ]
  },
  {
   "cell_type": "code",
   "execution_count": 146,
   "metadata": {},
   "outputs": [
    {
     "name": "stdout",
     "output_type": "stream",
     "text": [
      "['VBD', 'DT', 'NN', 'IN', 'DT', 'NN']\n",
      "INFO:tensorflow:Restoring parameters from py_files/models/all_combined_back\\model.ckpt-120000\n",
      "['VBD', 'DT', 'CD', 'TO', 'DT', 'NN']\n",
      "INFO:tensorflow:Restoring parameters from py_files/models/all_combined_back\\model.ckpt-120000\n",
      "['MD', 'RB', 'VB', 'RP', 'TO', 'NN']\n",
      "INFO:tensorflow:Restoring parameters from py_files/models/all_combined_back\\model.ckpt-120000\n",
      "['PRP', 'MD', 'VB', 'TO', 'DT', 'NN']\n",
      "INFO:tensorflow:Restoring parameters from py_files/models/all_combined_back\\model.ckpt-120000\n",
      "['PRP', 'VBD', 'IN', 'DT', 'NN']\n",
      "INFO:tensorflow:Restoring parameters from py_files/models/all_combined_back\\model.ckpt-120000\n"
     ]
    }
   ],
   "source": [
    "p=lg.gen_best_line('height', set_of_templates=third_line, rand_templates=5, num_sylls=8)"
   ]
  },
  {
   "cell_type": "code",
   "execution_count": 147,
   "metadata": {},
   "outputs": [
    {
     "data": {
      "text/plain": [
       "[(['i', 'hesitated', 'with', 'some', 'height'],\n",
       "  -3.943877410888672,\n",
       "  ['PRP', 'VBD', 'IN', 'DT', 'NN'],\n",
       "  ['it', 'said', 'on', 'the', 'door']),\n",
       " (['was', 'no', 'one', 'to', 'every', 'height'],\n",
       "  -4.294746081034343,\n",
       "  ['VBD', 'DT', 'CD', 'TO', 'DT', 'NN'],\n",
       "  ['said', 'the', 'two', 'to', 'the', 'tutor']),\n",
       " (['will', 'probably', 'come', 'back', 'to', 'height'],\n",
       "  -4.311198552449544,\n",
       "  ['MD', 'RB', 'VB', 'RP', 'TO', 'NN'],\n",
       "  [\"'did\", 'not', 'rush', 'off', 'to', 'town']),\n",
       " (['ourselves', 'will', 'come', 'to', 'each', 'height'],\n",
       "  -4.62187131245931,\n",
       "  ['PRP', 'MD', 'VB', 'TO', 'DT', 'NN'],\n",
       "  ['he', 'would', 'go', 'to', 'a', 'party'])]"
      ]
     },
     "execution_count": 147,
     "metadata": {},
     "output_type": "execute_result"
    }
   ],
   "source": [
    "p"
   ]
  },
  {
   "cell_type": "markdown",
   "metadata": {},
   "source": [
    "## Gen Poem"
   ]
  },
  {
   "cell_type": "code",
   "execution_count": 148,
   "metadata": {},
   "outputs": [
    {
     "name": "stderr",
     "output_type": "stream",
     "text": [
      "c:\\users\\hp\\anaconda2\\envs\\translator\\lib\\site-packages\\gensim\\matutils.py:737: FutureWarning: Conversion of the second argument of issubdtype from `int` to `np.signedinteger` is deprecated. In future, it will be treated as `np.int32 == np.dtype(int).type`.\n",
      "  if np.issubdtype(vec.dtype, np.int):\n"
     ]
    },
    {
     "name": "stdout",
     "output_type": "stream",
     "text": [
      "['WHO', 'VBD', 'IN', 'DT', 'NN', 'IN', 'NNS']\n",
      "INFO:tensorflow:Restoring parameters from py_files/models/all_combined_back\\model.ckpt-120000\n",
      "['WP$', 'NN', 'VBD', 'RB', 'JJR', 'THAN', 'NN']\n",
      "INFO:tensorflow:Restoring parameters from py_files/models/all_combined_back\\model.ckpt-120000\n",
      "['WHO', 'VBD', 'AS', 'PRP', 'VBD', 'IN', 'DT', 'NN']\n",
      "INFO:tensorflow:Restoring parameters from py_files/models/all_combined_back\\model.ckpt-120000\n",
      "['WHO', 'VBD', 'RP', 'PRP$', 'NNS', 'IN', 'DT', 'NN']\n",
      "INFO:tensorflow:Restoring parameters from py_files/models/all_combined_back\\model.ckpt-120000\n",
      "['WHO', 'VBD', 'DT', 'PRP$', 'NN', 'IN', 'DT', 'NN']\n",
      "INFO:tensorflow:Restoring parameters from py_files/models/all_combined_back\\model.ckpt-120000\n",
      "[(['who', 'came', 'to', 'the', 'elevator', 'out', 'height'], -3.9964888436453685, ['WHO', 'VBD', 'IN', 'DT', 'NN', 'IN', 'NNS'], ['who', 'slipped', 'on', 'a', 'peel', 'of', 'bananas']), (['who', 'came', 'on', 'my', 'hands', 'in', 'every', 'height'], -4.1248602867126465, ['WHO', 'VBD', 'RP', 'PRP$', 'NNS', 'IN', 'DT', 'NN'], ['who', 'sent', 'out', 'his', 'cards', 'for', 'a', 'party']), (['who', 'were', 'as', 'ourselves', 'seemed', 'to', 'some', 'height'], -4.955960750579834, ['WHO', 'VBD', 'AS', 'PRP', 'VBD', 'IN', 'DT', 'NN'], ['who', 'smiled', 'as', 'she', 'rode', 'on', 'a', 'tiger']), (['whose', 'life', 'was', 'absolutely', 'less', 'than', 'height'], -5.163310459681919, ['WP$', 'NN', 'VBD', 'RB', 'JJR', 'THAN', 'NN'], ['whose', 'speed', 'was', 'much', 'faster', 'than', 'light']), (['who', 'had', 'all', 'my', 'love', 'addition', 'some', 'height'], -5.454594135284424, ['WHO', 'VBD', 'DT', 'PRP$', 'NN', 'IN', 'DT', 'NN'], ['who', 'kept', 'all', 'his', 'cash', 'in', 'a', 'bucket'])]\n",
      "['VBD', 'DT', 'NN', ',', 'VB', 'PRP', 'VB']\n",
      "['VBD', 'DT', 'NN', ',', 'VB', 'RB', 'VB']\n",
      "['PRP', 'VBD', 'CD', 'TO', 'NN']\n"
     ]
    },
    {
     "ename": "ValueError",
     "evalue": "No lines can be constructed",
     "output_type": "error",
     "traceback": [
      "\u001b[1;31m---------------------------------------------------------------------------\u001b[0m",
      "\u001b[1;31mValueError\u001b[0m                                Traceback (most recent call last)",
      "\u001b[1;32m<ipython-input-148-287535113fb7>\u001b[0m in \u001b[0;36m<module>\u001b[1;34m()\u001b[0m\n\u001b[1;32m----> 1\u001b[1;33m \u001b[0mpoem\u001b[0m\u001b[1;33m=\u001b[0m\u001b[0mlg\u001b[0m\u001b[1;33m.\u001b[0m\u001b[0mgen_poem_independent_matias\u001b[0m\u001b[1;33m(\u001b[0m\u001b[1;34m'height'\u001b[0m\u001b[1;33m,\u001b[0m \u001b[1;36m10\u001b[0m\u001b[1;33m)\u001b[0m\u001b[1;33m\u001b[0m\u001b[0m\n\u001b[0m",
      "\u001b[1;32m~\\Documents\\Poetix18\\py_files\\Limericks.py\u001b[0m in \u001b[0;36mgen_poem_independent_matias\u001b[1;34m(self, seed_word, first_line_sylls, rand_template)\u001b[0m\n\u001b[0;32m    549\u001b[0m             \u001b[1;32melif\u001b[0m \u001b[0mi\u001b[0m\u001b[1;33m==\u001b[0m\u001b[1;36m2\u001b[0m\u001b[1;33m:\u001b[0m\u001b[1;33m\u001b[0m\u001b[0m\n\u001b[0;32m    550\u001b[0m                 \u001b[0mthis_line_sylls\u001b[0m \u001b[1;33m=\u001b[0m \u001b[0mthird_line_sylls\u001b[0m\u001b[1;33m\u001b[0m\u001b[0m\n\u001b[1;32m--> 551\u001b[1;33m                 \u001b[0mout\u001b[0m \u001b[1;33m=\u001b[0m \u001b[0mself\u001b[0m\u001b[1;33m.\u001b[0m\u001b[0mgen_best_line\u001b[0m\u001b[1;33m(\u001b[0m\u001b[0mw\u001b[0m\u001b[1;33m,\u001b[0m \u001b[0mnum_sylls\u001b[0m\u001b[1;33m=\u001b[0m\u001b[0mthis_line_sylls\u001b[0m\u001b[1;33m,\u001b[0m \u001b[0mset_of_templates\u001b[0m\u001b[1;33m=\u001b[0m\u001b[0mthird_line_\u001b[0m\u001b[1;33m)\u001b[0m\u001b[1;33m\u001b[0m\u001b[0m\n\u001b[0m\u001b[0;32m    552\u001b[0m             \u001b[1;32melif\u001b[0m \u001b[0mi\u001b[0m\u001b[1;33m==\u001b[0m\u001b[1;36m3\u001b[0m\u001b[1;33m:\u001b[0m\u001b[1;33m\u001b[0m\u001b[0m\n\u001b[0;32m    553\u001b[0m                 \u001b[0mout\u001b[0m \u001b[1;33m=\u001b[0m \u001b[0mself\u001b[0m\u001b[1;33m.\u001b[0m\u001b[0mgen_best_line\u001b[0m\u001b[1;33m(\u001b[0m\u001b[0mw\u001b[0m\u001b[1;33m,\u001b[0m \u001b[0mnum_sylls\u001b[0m\u001b[1;33m=\u001b[0m\u001b[0mthird_line_sylls\u001b[0m\u001b[1;33m,\u001b[0m \u001b[0mtemplates\u001b[0m\u001b[1;33m=\u001b[0m\u001b[0mfourth\u001b[0m\u001b[1;33m)\u001b[0m\u001b[1;33m\u001b[0m\u001b[0m\n",
      "\u001b[1;32m~\\Documents\\Poetix18\\py_files\\Limericks.py\u001b[0m in \u001b[0;36mgen_best_line\u001b[1;34m(self, w1, pos, templates, set_of_templates, rand_templates, num_sylls, state, score, return_state)\u001b[0m\n\u001b[0;32m    458\u001b[0m         \u001b[0mlines\u001b[0m\u001b[1;33m.\u001b[0m\u001b[0msort\u001b[0m\u001b[1;33m(\u001b[0m\u001b[0mkey\u001b[0m\u001b[1;33m=\u001b[0m\u001b[1;32mlambda\u001b[0m \u001b[0mx\u001b[0m\u001b[1;33m:\u001b[0m \u001b[0mx\u001b[0m\u001b[1;33m[\u001b[0m\u001b[1;36m1\u001b[0m\u001b[1;33m]\u001b[0m\u001b[1;33m,\u001b[0m \u001b[0mreverse\u001b[0m \u001b[1;33m=\u001b[0m \u001b[1;32mTrue\u001b[0m\u001b[1;33m)\u001b[0m\u001b[1;33m\u001b[0m\u001b[0m\n\u001b[0;32m    459\u001b[0m         \u001b[1;32mif\u001b[0m \u001b[0mlen\u001b[0m\u001b[1;33m(\u001b[0m\u001b[0mlines\u001b[0m\u001b[1;33m)\u001b[0m\u001b[1;33m==\u001b[0m\u001b[1;36m0\u001b[0m\u001b[1;33m:\u001b[0m\u001b[1;33m\u001b[0m\u001b[0m\n\u001b[1;32m--> 460\u001b[1;33m             \u001b[1;32mraise\u001b[0m \u001b[0mValueError\u001b[0m\u001b[1;33m(\u001b[0m\u001b[1;34m'No lines can be constructed'\u001b[0m\u001b[1;33m)\u001b[0m\u001b[1;33m\u001b[0m\u001b[0m\n\u001b[0m\u001b[0;32m    461\u001b[0m         \u001b[1;32mreturn\u001b[0m \u001b[0mlines\u001b[0m\u001b[1;33m\u001b[0m\u001b[0m\n\u001b[0;32m    462\u001b[0m \u001b[1;33m\u001b[0m\u001b[0m\n",
      "\u001b[1;31mValueError\u001b[0m: No lines can be constructed"
     ]
    }
   ],
   "source": [
    "poem=lg.gen_poem_independent_matias('height', 10)"
   ]
  },
  {
   "cell_type": "code",
   "execution_count": 144,
   "metadata": {},
   "outputs": [
    {
     "data": {
      "text/plain": [
       "[(['who', 'saw', 'it', 'curiously', 'in', 'the', 'sky'],\n",
       "  -4.016473225184849,\n",
       "  ['WHO', 'VBD', 'PRP', 'RB', 'IN', 'DT', 'NN'],\n",
       "  ['who', 'found', 'himself', 'quite', 'at', 'a', 'loss']),\n",
       " (['i', 'believe', 'the', 'mine', 'birth'],\n",
       "  -3.178923797607422,\n",
       "  ['PRP', 'VBP', 'DT', 'NN', 'NN'],\n",
       "  ['you', 'are', 'a', 'simpleton', 'loon']),\n",
       " (['it', 'was', 'so', 'little', 'earth'],\n",
       "  -3.326568603515625,\n",
       "  ['PRP', 'VBD', 'SO', 'JJ', 'NN'],\n",
       "  ['she', 'ate', 'so', 'much', 'spice']),\n",
       " (['it', 'is', 'any', 'words', 'of', 'love', 'for', 'me', 'lie'],\n",
       "  -3.3755276997884116,\n",
       "  ['PRP', 'VBZ', 'DT', 'NNS', 'IN', 'NN', 'IN', 'PRP', 'VBP'],\n",
       "  ['it', \"'s\", 'the', 'people', 'in', 'front', 'that', 'I', 'jar'])]"
      ]
     },
     "execution_count": 144,
     "metadata": {},
     "output_type": "execute_result"
    }
   ],
   "source": [
    "poem"
   ]
  },
  {
   "cell_type": "code",
   "execution_count": 151,
   "metadata": {},
   "outputs": [
    {
     "name": "stderr",
     "output_type": "stream",
     "text": [
      "c:\\users\\hp\\anaconda2\\envs\\translator\\lib\\site-packages\\gensim\\matutils.py:737: FutureWarning: Conversion of the second argument of issubdtype from `int` to `np.signedinteger` is deprecated. In future, it will be treated as `np.int32 == np.dtype(int).type`.\n",
      "  if np.issubdtype(vec.dtype, np.int):\n"
     ]
    },
    {
     "name": "stdout",
     "output_type": "stream",
     "text": [
      "five words are: \n",
      "('goodbye', 'sky', 'birth', 'earth', 'lie')\n",
      "['WHO', 'VBD', 'AS', 'PRP', 'VBD', 'IN', 'DT', 'NN']\n",
      "INFO:tensorflow:Restoring parameters from py_files/models/all_combined_back\\model.ckpt-120000\n",
      "['WHO', 'VBD', 'RP', 'PRP$', 'NNS', 'IN', 'DT', 'NN']\n",
      "INFO:tensorflow:Restoring parameters from py_files/models/all_combined_back\\model.ckpt-120000\n",
      "['WHO', 'VBD', 'IN', 'CD', 'IN', 'PRP$', 'NNS']\n",
      "INFO:tensorflow:Restoring parameters from py_files/models/all_combined_back\\model.ckpt-120000\n",
      "['WHO', 'VBD', 'DT', 'JJ', 'NN', 'IN', 'PRP$', 'NN']\n",
      "INFO:tensorflow:Restoring parameters from py_files/models/all_combined_back\\model.ckpt-120000\n",
      "['WHO', 'VBD', 'IN', 'JJ', 'NN']\n",
      "INFO:tensorflow:Restoring parameters from py_files/models/all_combined_back\\model.ckpt-120000\n",
      "['VBD', 'DT', 'NN', ',', 'DT', 'NN']\n",
      "INFO:tensorflow:Restoring parameters from py_files/models/all_combined_back\\model.ckpt-120000\n",
      "['PRP', 'VBD', 'RP', 'CD', 'NN']\n",
      "INFO:tensorflow:Restoring parameters from py_files/models/all_combined_back\\model.ckpt-120000\n",
      "['PDT', 'DT', 'NNS', 'VBD', 'IN']\n",
      "INFO:tensorflow:Restoring parameters from py_files/models/all_combined_back\\model.ckpt-120000\n",
      "['VBN', 'TO', 'DT', 'NN']\n",
      "INFO:tensorflow:Restoring parameters from py_files/models/all_combined_back\\model.ckpt-120000\n",
      "['THAN', 'DT', 'NN', 'IN', 'NN']\n",
      "INFO:tensorflow:Restoring parameters from py_files/models/all_combined_back\\model.ckpt-120000\n",
      "['PRP', 'VBZ', 'DT', 'NNS', 'IN', 'NN', 'IN', 'PRP', 'VBP']\n",
      "INFO:tensorflow:Restoring parameters from py_files/models/all_combined_back\\model.ckpt-120000\n",
      "INFO:tensorflow:Restoring parameters from py_files/models/all_combined_back\\model.ckpt-120000\n",
      "['PRP', 'VBD', 'SO', 'JJ', 'NN']\n",
      "INFO:tensorflow:Restoring parameters from py_files/models/all_combined_back\\model.ckpt-120000\n",
      "['IN', 'DT', 'JJ', 'NN', 'PRP', 'VBP']\n",
      "INFO:tensorflow:Restoring parameters from py_files/models/all_combined_back\\model.ckpt-120000\n",
      "INFO:tensorflow:Restoring parameters from py_files/models/all_combined_back\\model.ckpt-120000\n",
      "['IF', 'PRP', 'VBD', 'RB', 'VB', 'DT', 'NN']\n",
      "INFO:tensorflow:Restoring parameters from py_files/models/all_combined_back\\model.ckpt-120000\n"
     ]
    },
    {
     "ename": "ValueError",
     "evalue": "no lines can be constructed",
     "output_type": "error",
     "traceback": [
      "\u001b[1;31m---------------------------------------------------------------------------\u001b[0m",
      "\u001b[1;31mValueError\u001b[0m                                Traceback (most recent call last)",
      "\u001b[1;32m<ipython-input-151-69b31b4e077e>\u001b[0m in \u001b[0;36m<module>\u001b[1;34m()\u001b[0m\n\u001b[1;32m----> 1\u001b[1;33m \u001b[0mpoem\u001b[0m\u001b[1;33m=\u001b[0m\u001b[0mlg\u001b[0m\u001b[1;33m.\u001b[0m\u001b[0mgen_poem_conditioned\u001b[0m\u001b[1;33m(\u001b[0m\u001b[1;34m'sky'\u001b[0m\u001b[1;33m,\u001b[0m\u001b[1;36m10\u001b[0m\u001b[1;33m)\u001b[0m\u001b[1;33m\u001b[0m\u001b[0m\n\u001b[0m",
      "\u001b[1;32m~\\Documents\\Poetix18\\py_files\\Limericks.py\u001b[0m in \u001b[0;36mgen_poem_conditioned\u001b[1;34m(self, seed_word, second_line_sylls, rand_template)\u001b[0m\n\u001b[0;32m    616\u001b[0m         \u001b[0mlast\u001b[0m\u001b[1;33m.\u001b[0m\u001b[0msort\u001b[0m\u001b[1;33m(\u001b[0m\u001b[0mkey\u001b[0m\u001b[1;33m=\u001b[0m\u001b[1;32mlambda\u001b[0m \u001b[0mx\u001b[0m\u001b[1;33m:\u001b[0m \u001b[0mx\u001b[0m\u001b[1;33m[\u001b[0m\u001b[1;36m2\u001b[0m\u001b[1;33m]\u001b[0m\u001b[1;33m,\u001b[0m \u001b[0mreverse\u001b[0m \u001b[1;33m=\u001b[0m \u001b[1;32mTrue\u001b[0m\u001b[1;33m)\u001b[0m\u001b[1;33m\u001b[0m\u001b[0m\n\u001b[0;32m    617\u001b[0m         \u001b[1;32mif\u001b[0m \u001b[0mlen\u001b[0m\u001b[1;33m(\u001b[0m\u001b[0mlast\u001b[0m\u001b[1;33m)\u001b[0m\u001b[1;33m==\u001b[0m\u001b[1;36m0\u001b[0m\u001b[1;33m:\u001b[0m\u001b[1;33m\u001b[0m\u001b[0m\n\u001b[1;32m--> 618\u001b[1;33m             \u001b[1;32mraise\u001b[0m \u001b[0mValueError\u001b[0m\u001b[1;33m(\u001b[0m\u001b[1;34m'no lines can be constructed'\u001b[0m\u001b[1;33m)\u001b[0m\u001b[1;33m\u001b[0m\u001b[0m\n\u001b[0m\u001b[0;32m    619\u001b[0m         \u001b[0mline4\u001b[0m\u001b[1;33m=\u001b[0m\u001b[0mlast\u001b[0m\u001b[1;33m[\u001b[0m\u001b[1;36m0\u001b[0m\u001b[1;33m]\u001b[0m\u001b[1;33m[\u001b[0m\u001b[1;36m0\u001b[0m\u001b[1;33m]\u001b[0m\u001b[1;33m[\u001b[0m\u001b[1;36m0\u001b[0m\u001b[1;33m]\u001b[0m\u001b[1;33m\u001b[0m\u001b[0m\n\u001b[0;32m    620\u001b[0m         \u001b[0mscore4\u001b[0m\u001b[1;33m=\u001b[0m\u001b[0mlast\u001b[0m\u001b[1;33m[\u001b[0m\u001b[1;36m0\u001b[0m\u001b[1;33m]\u001b[0m\u001b[1;33m[\u001b[0m\u001b[1;36m0\u001b[0m\u001b[1;33m]\u001b[0m\u001b[1;33m[\u001b[0m\u001b[1;36m1\u001b[0m\u001b[1;33m]\u001b[0m\u001b[1;33m\u001b[0m\u001b[0m\n",
      "\u001b[1;31mValueError\u001b[0m: no lines can be constructed"
     ]
    }
   ],
   "source": [
    "poem=lg.gen_poem_conditioned('sky',10)"
   ]
  },
  {
   "cell_type": "code",
   "execution_count": 76,
   "metadata": {},
   "outputs": [],
   "source": []
  },
  {
   "cell_type": "code",
   "execution_count": null,
   "metadata": {},
   "outputs": [],
   "source": []
  }
 ],
 "metadata": {
  "kernelspec": {
   "display_name": "Python 3",
   "language": "python",
   "name": "python3"
  },
  "language_info": {
   "codemirror_mode": {
    "name": "ipython",
    "version": 3
   },
   "file_extension": ".py",
   "mimetype": "text/x-python",
   "name": "python",
   "nbconvert_exporter": "python",
   "pygments_lexer": "ipython3",
   "version": "3.6.7"
  }
 },
 "nbformat": 4,
 "nbformat_minor": 2
}
