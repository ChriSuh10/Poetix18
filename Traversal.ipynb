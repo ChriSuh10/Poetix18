{
 "cells": [
  {
   "cell_type": "code",
   "execution_count": 2,
   "metadata": {},
   "outputs": [],
   "source": [
    "from nltk.corpus import wordnet as wn\n",
    "from nltk.stem import WordNetLemmatizer, PorterStemmer\n",
    "from nltk import word_tokenize, pos_tag\n",
    "from gensim.models import KeyedVectors\n",
    "from gensim.parsing.preprocessing import remove_stopwords\n",
    "import numpy as np\n",
    "import re"
   ]
  },
  {
   "cell_type": "code",
   "execution_count": 2,
   "metadata": {},
   "outputs": [],
   "source": [
    "def least_similar(synsets):\n",
    "    # returns entries with highest wup similarity score\n",
    "    the_max = 0\n",
    "    for i in range(len(synsets)):\n",
    "        for j in range(i + 1, len(synsets)):\n",
    "            this_similarity = synsets[i].wup_similarity(synsets[j])\n",
    "            if this_similarity is not None and this_similarity > the_max:\n",
    "                the_max = this_similarity\n",
    "                s1 = synsets[i]\n",
    "                s2 = synsets[j]\n",
    "    return (s1, s2)\n",
    "\n",
    "def best_corresponding_pos(synset):\n",
    "    # inspects definition and returns most similar word with\n",
    "    # same pos as input word excluding the input word\n",
    "    # right now only works for nouns, verbs, adjectives\n",
    "    # returns a tuple with a boolean describing whether\n",
    "    # the same pos was found, similarity, and word\n",
    "    this_pos = synset.pos()\n",
    "    def_token = word_tokenize(synset.definition())\n",
    "    \n",
    "    if  this_pos == wn.NOUN:\n",
    "        pos_token = 'NN'\n",
    "    elif this_pos == wn.VERB:\n",
    "        pos_token = 'V'\n",
    "    elif this_pos == wn.ADJ:\n",
    "        pos_token = 'JJ'\n",
    "    else:\n",
    "        # don't care about pos\n",
    "        pos_token = 'z'\n",
    "#     else:\n",
    "#         raise ValueError('Input synset must be a Noun, Verb, or Adjective')\n",
    "        \n",
    "    lm = WordNetLemmatizer()\n",
    "    min_similarity = 2\n",
    "    min_similarity_other_pos = 2\n",
    "    best_corr_pos = None\n",
    "    best_corr_other_pos = None\n",
    "    \n",
    "    for tagged_word in pos_tag(def_token):\n",
    "        if pos_token in tagged_word[1]:\n",
    "            lemma = lm.lemmatize(tagged_word[0], pos=synset.pos())\n",
    "            other_synsets = wn.synsets(lemma, pos=synset.pos())\n",
    "            if len(other_synsets) > 0:\n",
    "                # just pick the first synset\n",
    "                this_similarity = synset.wup_similarity(other_synsets[0])\n",
    "                if this_similarity is not None and this_similarity < min_similarity:\n",
    "                    min_similarity = this_similarity\n",
    "                    best_corr_pos = tagged_word[0]\n",
    "        elif best_corr_pos is None:\n",
    "            lemma = lm.lemmatize(tagged_word[0])\n",
    "            other_synsets = wn.synsets(lemma)\n",
    "            if len(other_synsets) > 0:\n",
    "                # just pick the first synset\n",
    "                this_similarity = synset.wup_similarity(other_synsets[0])\n",
    "                if this_similarity is not None and this_similarity < min_similarity_other_pos:\n",
    "                    min_similarity_other_pos = this_similarity\n",
    "                    best_corr_other_pos = tagged_word[0]\n",
    "    # if no word with same pos found\n",
    "    if best_corr_pos is None:\n",
    "        return False, min_similarity_other_pos, best_corr_other_pos\n",
    "    return True, min_similarity, best_corr_pos\n",
    "\n",
    "def first_corresponding_pos(synset):\n",
    "    # inspects definition and returns first word with same pos\n",
    "    # as input word\n",
    "    # right now only works for nouns, verbs, adjectives\n",
    "    this_pos = synset.pos()\n",
    "    def_token = word_tokenize(synset.definition())\n",
    "    \n",
    "    if this_pos == 'n':\n",
    "        pos_token = 'NN'\n",
    "    elif this_pos == 'v':\n",
    "        pos_token = 'V'\n",
    "    elif this_pos == 'a':\n",
    "        pos_token = 'JJ'\n",
    "    else:\n",
    "        raise ValueError('Input synset must be a Noun, Verb, or Adjective')\n",
    "    \n",
    "    # in case same pos does not exist\n",
    "    if this_pos == 'n':\n",
    "        alt_pos = 'JJ'\n",
    "    else:\n",
    "        alt_pos = 'NN'\n",
    "        \n",
    "    first_alt = None\n",
    "    for tagged_word in pos_tag(def_token):\n",
    "        if pos_token in tagged_word[1]:\n",
    "            return tagged_word[0], synset.definition()\n",
    "        elif first_alt is None and alt_pos in tagged_word:\n",
    "            first_alt = tagged_word[0]\n",
    "    return first_alt, synset.definition()\n",
    "        \n",
    "def get_two_senses(seed_word):\n",
    "    synsets = wn.synsets(seed_word)\n",
    "    pair = least_similar(synsets)\n",
    "#     return best_corresponding_pos(pair[0])[2], best_corresponding_pos(pair[1])[2]\n",
    "    return first_corresponding_pos(pair[0]), first_corresponding_pos(pair[1])\n",
    "\n",
    "def traverse_wn(word):\n",
    "    # traverses wn synsets for word and returns best\n",
    "    # word in definition of synsets with same pos\n",
    "    \n",
    "    # best word\n",
    "#     min_similarity_other_pos = 2\n",
    "#     min_similarity = 2\n",
    "#     best_other_pos = None\n",
    "#     best_pos = None\n",
    "#     for synset in wn.synsets(word):\n",
    "#         is_same_pos, this_similarity, this_pos = best_corresponding_pos(synset)\n",
    "#         if is_same_pos and this_similarity < min_similarity:\n",
    "#             min_similarity = this_similarity\n",
    "#             best_pos = this_pos\n",
    "#         elif not is_same_pos and this_similarity < min_similarity_other_pos:\n",
    "#             min_similarity_other_pos = this_similarity\n",
    "#             best_other_pos = this_pos\n",
    "#     if best_pos is None:\n",
    "#         return best_other_pos\n",
    "#     return best_pos\n",
    "\n",
    "    # first word\n",
    "    for synset in wn.synsets(word):\n",
    "        first_pos = first_corresponding_pos(synset)\n",
    "        if first_pos is not None and first_pos != word:\n",
    "            return first_pos\n",
    "        \n",
    "def five_word_algorithm(seed_word):\n",
    "    word_c, word_d = get_two_senses(seed_word)\n",
    "    word_b = traverse_wn(word_c[0])\n",
    "    word_a = traverse_wn(word_b[0])\n",
    "    word_e = traverse_wn(word_d[0])\n",
    "    return word_a, word_b, word_c, word_d, word_e\n",
    "\n",
    "def print_five_words(seed_word):\n",
    "    words = five_word_algorithm(seed_word)\n",
    "    print(words[0][0] + '->' + words[1][0] + '->\\033[4m' + words[2][0] + \n",
    "          '\\033[0m\\033[1m~~>\\033[0m\\033[4m' + words[3][0] + '\\033[0m->' + words[4][0])"
   ]
  },
  {
   "cell_type": "code",
   "execution_count": 91,
   "metadata": {},
   "outputs": [
    {
     "data": {
      "text/plain": [
       "(('vertebrates',\n",
       "  'warm-blooded egg-laying vertebrates characterized by feathers and forelimbs modified as wings'),\n",
       " ('bird',\n",
       "  'a domesticated gallinaceous bird thought to be descended from the red jungle fowl'),\n",
       " ('fowl',\n",
       "  'a domestic fowl bred for flesh or eggs; believed to have been developed from the red jungle fowl'),\n",
       " ('person', 'a person who lacks confidence, is irresolute and wishy-washy'),\n",
       " ('human', 'a human being'))"
      ]
     },
     "execution_count": 91,
     "metadata": {},
     "output_type": "execute_result"
    }
   ],
   "source": [
    "five_word_algorithm('chicken')"
   ]
  },
  {
   "cell_type": "code",
   "execution_count": 76,
   "metadata": {},
   "outputs": [
    {
     "name": "stdout",
     "output_type": "stream",
     "text": [
      "vertebrates->bird->\u001b[4mfowl\u001b[0m\u001b[1m~~>\u001b[0m\u001b[4mperson\u001b[0m->human\n",
      "person->follower->\u001b[4mdevotee\u001b[0m\u001b[1m~~>\u001b[0m\u001b[4mfollower\u001b[0m->person\n",
      "sound->noise->\u001b[4mracket\u001b[0m\u001b[1m~~>\u001b[0m\u001b[4mclub\u001b[0m->team\n",
      "property->number->\u001b[4mgroup\u001b[0m\u001b[1m~~>\u001b[0m\u001b[4munit\u001b[0m->division\n",
      "document->act->\u001b[4mjourney\u001b[0m\u001b[1m~~>\u001b[0m\u001b[4mlight\u001b[0m->physics\n",
      "kind->make->\u001b[4mprepare\u001b[0m\u001b[1m~~>\u001b[0m\u001b[4mapplying\u001b[0m->put\n",
      "structure->buildings->\u001b[4mplant\u001b[0m\u001b[1m~~>\u001b[0m\u001b[4mconsisting\u001b[0m->originate\n",
      "power->influence->\u001b[4mmanipulate\u001b[0m\u001b[1m~~>\u001b[0m\u001b[4mfalsify\u001b[0m->make\n"
     ]
    }
   ],
   "source": [
    "# first word\n",
    "print_five_words('chicken')\n",
    "print_five_words('fan')\n",
    "print_five_words('Bat')\n",
    "print_five_words('Battery')\n",
    "print_five_words('Trip')\n",
    "print_five_words('Cook')\n",
    "print_five_words('Straw')\n",
    "print_five_words('Fiddle')"
   ]
  },
  {
   "cell_type": "code",
   "execution_count": 56,
   "metadata": {},
   "outputs": [
    {
     "name": "stdout",
     "output_type": "stream",
     "text": [
      "person->names->\u001b[4mflesh\u001b[0m\u001b[1m~~>\u001b[0m\u001b[4mconfidence\u001b[0m->state\n",
      "organisms->biology->\u001b[4msports\u001b[0m\u001b[1m~~>\u001b[0m\u001b[4madmirer\u001b[0m->team\n",
      "biology->sports->\u001b[4mracket\u001b[0m\u001b[1m~~>\u001b[0m\u001b[4mclub\u001b[0m->golf\n",
      "operate->pedal->\u001b[4mguns\u001b[0m\u001b[1m~~>\u001b[0m\u001b[4mcatcher\u001b[0m->baseball\n",
      "dance->ball->\u001b[4mreturn\u001b[0m\u001b[1m~~>\u001b[0m\u001b[4mlight\u001b[0m->sensation\n",
      "make->spoken->\u001b[4mprepare\u001b[0m\u001b[1m~~>\u001b[0m\u001b[4mapplying\u001b[0m->convey\n",
      "plants->crop->\u001b[4mfodder\u001b[0m\u001b[1m~~>\u001b[0m\u001b[4mseed\u001b[0m->tournament\n",
      "piece->performance->\u001b[4mor\u001b[0m\u001b[1m~~>\u001b[0m\u001b[4mfalsify\u001b[0m->falsifying\n"
     ]
    }
   ],
   "source": [
    "# best word\n",
    "print_five_words('chicken')\n",
    "print_five_words('fan')\n",
    "print_five_words('Bat')\n",
    "print_five_words('Battery')\n",
    "print_five_words('Trip')\n",
    "print_five_words('Cook')\n",
    "print_five_words('Straw')\n",
    "print_five_words('Fiddle')"
   ]
  },
  {
   "cell_type": "code",
   "execution_count": 92,
   "metadata": {},
   "outputs": [
    {
     "data": {
      "text/plain": [
       "[Synset('chicken.n.01'),\n",
       " Synset('chicken.n.02'),\n",
       " Synset('wimp.n.01'),\n",
       " Synset('chicken.n.04'),\n",
       " Synset('chicken.s.01')]"
      ]
     },
     "execution_count": 92,
     "metadata": {},
     "output_type": "execute_result"
    }
   ],
   "source": [
    "wn.synsets('chicken')"
   ]
  },
  {
   "cell_type": "code",
   "execution_count": 93,
   "metadata": {},
   "outputs": [
    {
     "data": {
      "text/plain": [
       "'a person who lacks confidence, is irresolute and wishy-washy'"
      ]
     },
     "execution_count": 93,
     "metadata": {},
     "output_type": "execute_result"
    }
   ],
   "source": [
    "wn.synset('wimp.n.01').definition()"
   ]
  },
  {
   "cell_type": "code",
   "execution_count": 79,
   "metadata": {},
   "outputs": [
    {
     "name": "stdout",
     "output_type": "stream",
     "text": [
      "Synset('violin.n.01')\n",
      "bowed stringed instrument that is the highest member of the violin family; this instrument has four strings and a hollow body and an unfretted fingerboard and is played with a bow\n",
      "\n",
      "Synset('fiddle.v.01')\n",
      "avoid (one's assigned duties)\n",
      "\n",
      "Synset('fiddle.v.02')\n",
      "commit fraud and steal from one's employer\n",
      "\n",
      "Synset('fiddle.v.03')\n",
      "play the violin or fiddle\n",
      "\n",
      "Synset('fiddle.v.04')\n",
      "play on a violin\n",
      "\n",
      "Synset('toy.v.02')\n",
      "manipulate manually or in one's mind or imagination\n",
      "\n",
      "Synset('tamper.v.01')\n",
      "play around with or alter or falsify, usually secretively or dishonestly\n",
      "\n",
      "Synset('tinker.v.03')\n",
      "try to fix or mend\n",
      "\n"
     ]
    }
   ],
   "source": [
    "for synset in wn.synsets('Fiddle'):\n",
    "    print(synset)\n",
    "    print(synset.definition())\n",
    "    print('')"
   ]
  },
  {
   "cell_type": "code",
   "execution_count": 84,
   "metadata": {},
   "outputs": [
    {
     "name": "stdout",
     "output_type": "stream",
     "text": [
      "0.75\n",
      "0.11764705882352941\n"
     ]
    }
   ],
   "source": [
    "print(wn.synset('toy.v.02').wup_similarity(wn.synset('tamper.v.01')))\n",
    "print(wn.synset('toy.v.02').wup_similarity(wn.synset('violin.n.01')))"
   ]
  },
  {
   "cell_type": "markdown",
   "metadata": {},
   "source": [
    "# Using Glove for similarity"
   ]
  },
  {
   "cell_type": "code",
   "execution_count": 36,
   "metadata": {},
   "outputs": [],
   "source": [
    "class Meta_Poetry_Glove:\n",
    "    glove_model = KeyedVectors.load_word2vec_format('~/Downloads/glove.6B/glove.6B.300d.w2v.txt', binary=False)\n",
    "    glove_dim = len(glove_model['man'])\n",
    "    punct = re.compile(r'[^\\w\\s]')\n",
    "    ps = PorterStemmer()\n",
    "\n",
    "    def __init__(self):\n",
    "        self.already_seen = set()\n",
    "\n",
    "    def get_glove_sim(self, w1, w2):\n",
    "        \"\"\"\n",
    "        splits WordNet words or definitions\n",
    "        and returns cosine similarity for\n",
    "        the averages of all words in w1 and w2\n",
    "        \"\"\"\n",
    "        split_re = re.compile(r'[\\s|_]')\n",
    "        avg_w1 = np.zeros(self.glove_dim)\n",
    "        avg_w2 = np.zeros(self.glove_dim)\n",
    "        for word in split_re.split(w1):\n",
    "            if word not in self.glove_model:\n",
    "                continue\n",
    "            avg_w1 += self.glove_model.word_vec(word)\n",
    "        avg_w1 /= np.sqrt(np.sum(avg_w1 ** 2))\n",
    "\n",
    "        for word in split_re.split(w2):\n",
    "            if word not in self.glove_model:\n",
    "                continue\n",
    "            avg_w2 += self.glove_model.word_vec(word)\n",
    "        avg_w2 /= np.sqrt(np.sum(avg_w2 ** 2))\n",
    "        return avg_w1.dot(avg_w2)\n",
    "\n",
    "    def least_similar_glove(self, synsets):\n",
    "        \"\"\"\n",
    "        finds two least similar synset\n",
    "        among given synsets in Glove space\n",
    "        \"\"\"\n",
    "        min_cos_sim = 1\n",
    "        for i in range(len(synsets)):\n",
    "            for j in range(i + 1, len(synsets)):\n",
    "                word1 = remove_stopwords(self.punct.sub('', synsets[i].definition()))\n",
    "                word2 = remove_stopwords(self.punct.sub('', synsets[j].definition()))\n",
    "                this_sim = self.get_glove_sim(word1, word2)\n",
    "                # assumes that Glove vocabulary has all words in wn,\n",
    "                # may need to add error handling\n",
    "                if this_sim < min_cos_sim:\n",
    "                    min_cos_sim = this_sim\n",
    "                    s1 = synsets[i]\n",
    "                    s2 = synsets[j]\n",
    "        return s1, s2\n",
    "\n",
    "    def least_similar_glove_specify(self, synset):\n",
    "        \"\"\"\n",
    "        returns synsets with lowest cosine\n",
    "        similarity to specified synset in\n",
    "        Glove space\n",
    "        \"\"\"\n",
    "        word = synset.name().split('.')[0]\n",
    "        min_sim = 1\n",
    "        least_sim_synset = None\n",
    "        for other_synset in wn.synsets(word):\n",
    "            this_sim = self.get_glove_sim(synset.definition(), other_synset.definition())\n",
    "            if this_sim < min_sim:\n",
    "                min_sim = this_sim\n",
    "                least_sim_synset = other_synset\n",
    "        return self.get_sense_from_def(least_sim_synset), least_sim_synset.definition()\n",
    "\n",
    "    def traverse_wn_glove(self, word):\n",
    "        \"\"\"\n",
    "        finds most similar word among definitions\n",
    "        of given words synsets\n",
    "        \"\"\"\n",
    "        max_sim = -1\n",
    "        best_word = None\n",
    "        best_word_def = None\n",
    "        for synset in wn.synsets(word):\n",
    "            clean_def = remove_stopwords(self.punct.sub('', synset.definition()))\n",
    "            for other_word in clean_def.split():\n",
    "                this_sim = self.get_glove_sim(word, other_word)\n",
    "                if self.ps.stem(other_word) not in self.already_seen and other_word != word and this_sim > max_sim:\n",
    "                    max_sim = this_sim\n",
    "                    best_word = other_word\n",
    "                    best_word_def = synset.definition()\n",
    "        return best_word, best_word_def\n",
    "\n",
    "    def get_two_senses_glove(self, seed_word):\n",
    "        \"\"\"\n",
    "        finds least similar synsets of seed word\n",
    "        \"\"\"\n",
    "        synsets = wn.synsets(seed_word)\n",
    "        pair = self.least_similar_glove(synsets)\n",
    "        sense1 = self.get_sense_from_def(pair[0])\n",
    "        sense2 = self.get_sense_from_def(pair[1])\n",
    "        return (sense1, pair[0].definition()), (sense2, pair[1].definition())\n",
    "\n",
    "    def get_sense_from_def(self, synset):\n",
    "        \"\"\"\n",
    "        finds word that is most similar to given\n",
    "        synset's name in Glove space\n",
    "        \"\"\"\n",
    "        max_sim = -1\n",
    "        best_word = None\n",
    "        synset_word = synset.name().split('.')[0]\n",
    "        # strip punctuation\n",
    "        clean_def = remove_stopwords(self.punct.sub('', synset.definition()))\n",
    "        for other_word in clean_def.split():\n",
    "            if self.ps.stem(other_word) in self.already_seen:\n",
    "                continue\n",
    "            this_sim = self.get_glove_sim(synset_word, other_word)\n",
    "            if other_word != synset_word and this_sim > max_sim:\n",
    "                max_sim = this_sim\n",
    "                best_word = other_word\n",
    "        return best_word\n",
    "\n",
    "    def five_word_algorithm_glove_specify(self, synset):\n",
    "        \"\"\"\n",
    "        given a specific synset, traverse Wordnet to\n",
    "        create five word outline for meta poetry\n",
    "        \"\"\"\n",
    "        word_c = synset.name().split('.')[0], synset.definition()\n",
    "        self.already_seen.add(self.ps.stem(word_c[0]))\n",
    "\n",
    "        word_d = self.least_similar_glove_specify(synset)\n",
    "        self.already_seen.add(self.ps.stem(word_d[0]))\n",
    "\n",
    "        word_b = self.get_sense_from_def(synset)\n",
    "        word_b = word_b, wn.synsets(word_b)[0].definition()\n",
    "        self.already_seen.add(self.ps.stem(word_b[0]))\n",
    "\n",
    "        word_a = self.traverse_wn_glove(word_b[0])\n",
    "        self.already_seen.add(self.ps.stem(word_a[0]))\n",
    "\n",
    "        word_e = self.traverse_wn_glove(word_d[0])\n",
    "\n",
    "        self.already_seen.clear()\n",
    "        return word_a, word_b, word_c, word_d, word_e\n",
    "\n",
    "    def five_word_algorithm_glove(self, seed_word):\n",
    "        \"\"\"\n",
    "        given a seed word, traverses Wordnet to create\n",
    "        five word outline for meta poetry\n",
    "        \"\"\"\n",
    "        word_c, word_d = self.get_two_senses_glove(seed_word)\n",
    "        self.already_seen.add(self.ps.stem(word_c[0]))\n",
    "        self.already_seen.add(self.ps.stem(word_d[0]))\n",
    "\n",
    "        word_b = self.traverse_wn_glove(word_c[0])\n",
    "        self.already_seen.add(self.ps.stem(word_b[0]))\n",
    "\n",
    "        word_a = self.traverse_wn_glove(word_b[0])\n",
    "        self.already_seen.add(self.ps.stem(word_a[0]))\n",
    "\n",
    "        word_e = self.traverse_wn_glove(word_d[0])\n",
    "\n",
    "        self.already_seen.clear()\n",
    "        return word_a, word_b, word_c, word_d, word_e\n",
    "\n",
    "    def print_five_words_glove(self, seed_word):\n",
    "        words = self.five_word_algorithm_glove(seed_word)\n",
    "        print(words[0][0] + '->' + words[1][0] + '->\\033[4m' + words[2][0] +\n",
    "              '\\033[0m\\033[1m~~>\\033[0m\\033[4m' + words[3][0] + '\\033[0m->' + words[4][0])\n",
    "\n",
    "    def print_five_words_glove_specify(self, synset):\n",
    "        words = self.five_word_algorithm_glove_specify(synset)\n",
    "        print(words[0][0] + '->' + words[1][0] + '->\\033[4m' + words[2][0] +\n",
    "              '\\033[0m\\033[1m~~>\\033[0m\\033[4m' + words[3][0] + '\\033[0m->' + words[4][0])"
   ]
  },
  {
   "cell_type": "code",
   "execution_count": 37,
   "metadata": {},
   "outputs": [
    {
     "name": "stdout",
     "output_type": "stream",
     "text": [
      "organism->animal->\u001b[4mfood\u001b[0m\u001b[1m~~>\u001b[0m\u001b[4mirresolute\u001b[0m->uncertain\n",
      "excitement->enthusiasm->\u001b[4mardent\u001b[0m\u001b[1m~~>\u001b[0m\u001b[4mchaff\u001b[0m->countermeasure\n",
      "sound->echo->\u001b[4mecholocation\u001b[0m\u001b[1m~~>\u001b[0m\u001b[4mbriefly\u001b[0m->time\n",
      "league->division->\u001b[4munit\u001b[0m\u001b[1m~~>\u001b[0m\u001b[4mmortar\u001b[0m->shells\n",
      "return->trip->\u001b[4mjourney\u001b[0m\u001b[1m~~>\u001b[0m\u001b[4membarrassing\u001b[0m->shame\n",
      "temperature->heat->\u001b[4mhot\u001b[0m\u001b[1m~~>\u001b[0m\u001b[4mtamper\u001b[0m->falsify\n",
      "red->orange->\u001b[4myellow\u001b[0m\u001b[1m~~>\u001b[0m\u001b[4mcover\u001b[0m->provide\n",
      "owners->stolen->\u001b[4msteal\u001b[0m\u001b[1m~~>\u001b[0m\u001b[4mviolin\u001b[0m->instrument\n"
     ]
    },
    {
     "name": "stderr",
     "output_type": "stream",
     "text": [
      "/Users/chris/.pyenv/versions/3.7.0/envs/poetix/lib/python3.7/site-packages/ipykernel_launcher.py:29: RuntimeWarning: invalid value encountered in true_divide\n"
     ]
    }
   ],
   "source": [
    "mp_glove = Meta_Poetry_Glove()\n",
    "mp_glove.print_five_words_glove('chicken')\n",
    "mp_glove.print_five_words_glove('fan')\n",
    "mp_glove.print_five_words_glove('Bat')\n",
    "mp_glove.print_five_words_glove('Battery')\n",
    "mp_glove.print_five_words_glove('Trip')\n",
    "mp_glove.print_five_words_glove('Cook')\n",
    "mp_glove.print_five_words_glove('Straw')\n",
    "mp_glove.print_five_words_glove('Fiddle')"
   ]
  },
  {
   "cell_type": "code",
   "execution_count": 223,
   "metadata": {},
   "outputs": [
    {
     "name": "stdout",
     "output_type": "stream",
     "text": [
      "animal->food->\u001b[4mchicken\u001b[0m\u001b[1m~~>\u001b[0m\u001b[4measily\u001b[0m->easy\n",
      "aircraft->air->\u001b[4mfan\u001b[0m\u001b[1m~~>\u001b[0m\u001b[4memotion\u001b[0m->feeling\n",
      "pitch->ball->\u001b[4mbat\u001b[0m\u001b[1m~~>\u001b[0m\u001b[4mbriefly\u001b[0m->time\n",
      "invented->device->\u001b[4mbattery\u001b[0m\u001b[1m~~>\u001b[0m\u001b[4munit\u001b[0m->division\n",
      "trip->journey->\u001b[4mtrip\u001b[0m\u001b[1m~~>\u001b[0m\u001b[4membarrassing\u001b[0m->embarrassment\n",
      "heat->hot->\u001b[4mcook\u001b[0m\u001b[1m~~>\u001b[0m\u001b[4mheating\u001b[0m->heat\n",
      "hat->hats->\u001b[4mstraw\u001b[0m\u001b[1m~~>\u001b[0m\u001b[4mscattering\u001b[0m->particles\n",
      "number->ones->\u001b[4mtoy\u001b[0m\u001b[1m~~>\u001b[0m\u001b[4mindifferently\u001b[0m->indifferent\n"
     ]
    },
    {
     "name": "stderr",
     "output_type": "stream",
     "text": [
      "/Users/chris/.pyenv/versions/3.7.0/envs/poetix/lib/python3.7/site-packages/ipykernel_launcher.py:20: RuntimeWarning: invalid value encountered in true_divide\n"
     ]
    }
   ],
   "source": [
    "# without already_seen\n",
    "print_five_words_glove_specify(wn.synset('chicken.n.01'))\n",
    "print_five_words_glove_specify(wn.synset('fan.n.01'))\n",
    "print_five_words_glove_specify(wn.synset('bat.n.05'))\n",
    "print_five_words_glove_specify(wn.synset('battery.n.02'))\n",
    "print_five_words_glove_specify(wn.synset('trip.n.01'))\n",
    "print_five_words_glove_specify(wn.synset('cook.v.01'))\n",
    "print_five_words_glove_specify(wn.synset('straw.n.01'))\n",
    "print_five_words_glove_specify(wn.synset('fiddle.v.05'))"
   ]
  },
  {
   "cell_type": "code",
   "execution_count": 38,
   "metadata": {},
   "outputs": [
    {
     "name": "stdout",
     "output_type": "stream",
     "text": [
      "animal->food->\u001b[4mchicken\u001b[0m\u001b[1m~~>\u001b[0m\u001b[4measily\u001b[0m->easy\n",
      "aircraft->air->\u001b[4mfan\u001b[0m\u001b[1m~~>\u001b[0m\u001b[4memotion\u001b[0m->feeling\n",
      "pitch->ball->\u001b[4mbat\u001b[0m\u001b[1m~~>\u001b[0m\u001b[4mbriefly\u001b[0m->time\n",
      "invented->device->\u001b[4mbattery\u001b[0m\u001b[1m~~>\u001b[0m\u001b[4munit\u001b[0m->division\n",
      "traveling->journey->\u001b[4mtrip\u001b[0m\u001b[1m~~>\u001b[0m\u001b[4membarrassing\u001b[0m->shame\n",
      "temperature->hot->\u001b[4mcook\u001b[0m\u001b[1m~~>\u001b[0m\u001b[4mheating\u001b[0m->warmer\n",
      "wear->hats->\u001b[4mstraw\u001b[0m\u001b[1m~~>\u001b[0m\u001b[4mscattering\u001b[0m->particles\n",
      "number->ones->\u001b[4mtoy\u001b[0m\u001b[1m~~>\u001b[0m\u001b[4mindifferently\u001b[0m->manner\n"
     ]
    },
    {
     "name": "stderr",
     "output_type": "stream",
     "text": [
      "/Users/chris/.pyenv/versions/3.7.0/envs/poetix/lib/python3.7/site-packages/ipykernel_launcher.py:29: RuntimeWarning: invalid value encountered in true_divide\n"
     ]
    }
   ],
   "source": [
    "mp_glove.print_five_words_glove_specify(wn.synset('chicken.n.01'))\n",
    "mp_glove.print_five_words_glove_specify(wn.synset('fan.n.01'))\n",
    "mp_glove.print_five_words_glove_specify(wn.synset('bat.n.05'))\n",
    "mp_glove.print_five_words_glove_specify(wn.synset('battery.n.02'))\n",
    "mp_glove.print_five_words_glove_specify(wn.synset('trip.n.01'))\n",
    "mp_glove.print_five_words_glove_specify(wn.synset('cook.v.01'))\n",
    "mp_glove.print_five_words_glove_specify(wn.synset('straw.n.01'))\n",
    "mp_glove.print_five_words_glove_specify(wn.synset('fiddle.v.05'))"
   ]
  },
  {
   "cell_type": "code",
   "execution_count": null,
   "metadata": {},
   "outputs": [],
   "source": []
  }
 ],
 "metadata": {
  "kernelspec": {
   "display_name": "Python 3",
   "language": "python",
   "name": "python3"
  },
  "language_info": {
   "codemirror_mode": {
    "name": "ipython",
    "version": 3
   },
   "file_extension": ".py",
   "mimetype": "text/x-python",
   "name": "python",
   "nbconvert_exporter": "python",
   "pygments_lexer": "ipython3",
   "version": "3.7.0"
  }
 },
 "nbformat": 4,
 "nbformat_minor": 2
}
