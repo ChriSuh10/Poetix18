{
 "cells": [
  {
   "cell_type": "markdown",
   "metadata": {},
   "source": [
    "### GENERATE LINE BASED ON TWO NOUNS\n",
    "#### required files: \n",
    "#### model.back, model_forw, glove embeddings, postag_dict.p, models saved in frost_model and frost_model_forward"
   ]
  },
  {
   "cell_type": "code",
   "execution_count": 1,
   "metadata": {},
   "outputs": [
    {
     "name": "stderr",
     "output_type": "stream",
     "text": [
      "c:\\users\\hp\\anaconda2\\envs\\translator\\lib\\site-packages\\h5py\\__init__.py:36: FutureWarning: Conversion of the second argument of issubdtype from `float` to `np.floating` is deprecated. In future, it will be treated as `np.float64 == np.dtype(float).type`.\n",
      "  from ._conv import register_converters as _register_converters\n",
      "c:\\users\\hp\\anaconda2\\envs\\translator\\lib\\site-packages\\gensim\\utils.py:1209: UserWarning: detected Windows; aliasing chunkize to chunkize_serial\n",
      "  warnings.warn(\"detected Windows; aliasing chunkize to chunkize_serial\")\n"
     ]
    }
   ],
   "source": [
    "import numpy as np\n",
    "import tensorflow as tf\n",
    "import argparse\n",
    "import os\n",
    "from six.moves import cPickle\n",
    "import nltk\n",
    "import time\n",
    "import queue as Q\n",
    "from operator import itemgetter\n",
    "from model_back import Model as Model_back\n",
    "from model_forw import Model as Model_forw\n",
    "\n",
    "import itertools\n",
    "from numpy.random import choice\n",
    "from collections import defaultdict\n",
    "from gensim.models.keyedvectors import KeyedVectors\n",
    "import string\n",
    "import re\n",
    "import collections\n",
    "import sys\n",
    "import pickle\n",
    "import getopt\n",
    "import random\n",
    "from collections import defaultdict, Counter\n",
    "import itertools\n",
    "counts = defaultdict(Counter)\n",
    "from Traversal import *\n",
    "from extra_func import *\n",
    "from Transversal_Glove import Meta_Poetry_Glove"
   ]
  },
  {
   "cell_type": "code",
   "execution_count": 2,
   "metadata": {},
   "outputs": [],
   "source": [
    "#LOAD DIRECTORY OF MODELS\n",
    "text_list = [(\"data\\\\frost\\\\input.txt\",\"save_2\"),(\"data\\frost\\input.txt\",\"frost_model\")]\n",
    "#np.random.shuffle(text_list)\n",
    "t = text_list[0][0] #THIS TEXT IS THE VOCAB!\n",
    "save_dir = text_list[0][1] #THIS IS THE MODEL DIRECTORY\n",
    "t_back=text_list[1][0]\n",
    "save_dir_back=text_list[1][1]"
   ]
  },
  {
   "cell_type": "code",
   "execution_count": 9,
   "metadata": {},
   "outputs": [
    {
     "data": {
      "text/plain": [
       "'tag2words_=defaultdict(list)\\nfor word in list(vocab.keys()):\\n    tag_word=nltk.pos_tag([word])\\n    tag2words_[tag_word[0][1]].append(word)'"
      ]
     },
     "execution_count": 9,
     "metadata": {},
     "output_type": "execute_result"
    }
   ],
   "source": [
    "tf.reset_default_graph()\n",
    "with open(os.path.join(save_dir, 'config.pkl'), 'rb') as f:\n",
    "    saved_args = cPickle.load(f)\n",
    "with open(os.path.join(save_dir, 'words_vocab.pkl'), 'rb') as f:\n",
    "    word_keys, vocab = cPickle.load(f)\n",
    "\n",
    "    \n",
    "\"\"\"tag2words_=defaultdict(list)\n",
    "for word in list(vocab.keys()):\n",
    "    tag_word=nltk.pos_tag([word])\n",
    "    tag2words_[tag_word[0][1]].append(word)\"\"\""
   ]
  },
  {
   "cell_type": "code",
   "execution_count": 10,
   "metadata": {},
   "outputs": [],
   "source": [
    "#FUNCTION TO SAMPLE A LINE BASED ON THEIR PROBS\n",
    "#LIST MUST BE SORTED\n",
    "\n",
    "def sampleLine(lst, cut):\n",
    "    ''' samples from top \"cut\" lines, the distribution being the softmax of true sentence probabilities'''\n",
    "    probs = list()\n",
    "    for i in range(cut):\n",
    "        probs.append(np.exp(lst[i][0]))\n",
    "    probs = np.exp(probs) / sum(np.exp(probs))\n",
    "    index = np.random.choice(cut,1,p=probs)[0]\n",
    "    return lst[index][1]\n",
    "\n",
    "\n"
   ]
  },
  {
   "cell_type": "code",
   "execution_count": 69,
   "metadata": {},
   "outputs": [],
   "source": [
    "#LOAD DICTIONARIES CREATED IN EXTRAXTING_POSTAG.IPYNB\n",
    "with open('postag_dict.p','rb') as f:\n",
    "    postag_dict=pickle.load(f)\n",
    "\n",
    "#postag_dict=[postag_dict[0], tag2words_, postag_dict[2]]"
   ]
  },
  {
   "cell_type": "code",
   "execution_count": 12,
   "metadata": {},
   "outputs": [],
   "source": [
    "#FUNCTION TO CREATE TEXT BETWEEN NOUN1 AND NOUN2\n",
    "def recursion_postag(sess, model, vocab, prob_seq, sequence, state, temp, lists, nwords, width, first_word, word2tags, tag2words, postag_seq):\n",
    "    d,s=model.compute_fx(sess, vocab, prob_seq, sequence, state, temp)\n",
    "    ########\n",
    "    if len(sequence)<nwords:\n",
    "        ########\n",
    "        postag_=postag_seq[len(sequence)]\n",
    "        list_tag=list(set(tag2words[postag_]))\n",
    "        ind_possible=[vocab[i] for i in list_tag]\n",
    "        d_new=d[ind_possible]\n",
    "        max_ind_new=d_new.argsort()[-width:][::-1]\n",
    "        max_ind=[ind_possible[k] for k in max_ind_new]\n",
    "        ###################\n",
    "        for x in max_ind:\n",
    "            new_prob=d[x]\n",
    "            new_word=list(vocab.keys())[x]\n",
    "            if(new_word == sequence[-1]):\n",
    "                continue\n",
    "            #if(partsOfSpeechFilter(sequence[-1],new_word,dictPartSpeechTags,dictPossiblePartsSpeech)):\n",
    "            #    continue\n",
    "            recursion_postag(sess, model, vocab, new_prob, sequence+[new_word],s, temp, lists, nwords, width, first_word, word2tags, tag2words, postag_seq)\n",
    "    else:\n",
    "        n_prob=d[vocab[first_word]]\n",
    "        #if(partsOfSpeechFilter(sequence[-1],first_word,dictPartSpeechTags,dictPossiblePartsSpeech)):\n",
    "        #    return  \n",
    "        result=(0.5*(n_prob-prob_seq)+0.5*prob_seq, n_prob, sequence+[first_word], state)\n",
    "        return lists.append(result)\n",
    "\n",
    "    \n",
    "#FUNCTION TO CREATE TEXT AFTER NOUN 2    \n",
    "def generate_last(sess, model, vocab, prob_seq, sequence, state, temp, lists, nwords, width, first_length, tag2words, postag_seq):\n",
    "    #first_length: length before the first noun\n",
    "    #rest_vocab: length after second noun\n",
    "    d,s=model.compute_fx(sess, vocab, prob_seq, sequence, state, temp)\n",
    "    if len(sequence)<nwords-first_length:\n",
    "    ########################\n",
    "        postag_=postag_seq[len(sequence)+first_length]\n",
    "        list_tag=list(set(tag2words[postag_]))\n",
    "        ind_possible=[vocab[i] for i in list_tag]\n",
    "        d_new=d[ind_possible]\n",
    "        max_ind_new=d_new.argsort()[-width:][::-1]\n",
    "        max_ind=[ind_possible[k] for k in max_ind_new]\n",
    "        #####\n",
    "        for j in max_ind:\n",
    "            new_prob=d[j]\n",
    "            new_word=list(vocab.keys())[j]\n",
    "            if(new_word == sequence[-1]):\n",
    "                continue\n",
    "            #if(partsOfSpeechFilter(sequence[-1],new_word,dictPartSpeechTags,dictPossiblePartsSpeech)):\n",
    "            #    continue\n",
    "            generate_last(sess, model, vocab, new_prob, sequence+[new_word],s, temp, lists, nwords, width, first_length, tag2words, postag_seq)\n",
    "    else:\n",
    "        result=(prob_seq, sequence)\n",
    "        return lists.append(result)\n",
    "    \n",
    "#FUNCTION TO CREATE TEXT BEFORE NOUN1\n",
    "def recursion(sess, model, vocab, prob_seq, sequence, state, temp, lists, nwords, width, tag2words, postag_seq):\n",
    "    d,s=model.compute_fx(sess, vocab, prob_seq, sequence, state, temp)\n",
    "    if len(sequence)<nwords:\n",
    "        #####\n",
    "        postag_=postag_seq[-len(sequence)-1]\n",
    "        list_tag=list(set(tag2words[postag_]))\n",
    "        ind_possible=[vocab[i] for i in list_tag]\n",
    "        d_new=d[ind_possible]\n",
    "        max_ind_new=d_new.argsort()[-width:][::-1]\n",
    "        max_ind=[ind_possible[k] for k in max_ind_new]\n",
    "        for j in max_ind:\n",
    "            new_prob=d[j]\n",
    "            new_word=list(vocab.keys())[j]\n",
    "            if(new_word == sequence[0]):\n",
    "                continue\n",
    "            #if(partsOfSpeechFilter(new_word,sequence[0],dictPartSpeechTags,dictPossiblePartsSpeech)):\n",
    "            #    continue\n",
    "            recursion(sess, model, vocab, new_prob, [new_word]+sequence,s, temp, lists, nwords, width, tag2words,postag_seq)\n",
    "    else:\n",
    "            result=(prob_seq, sequence)\n",
    "            return lists.append(result)   \n"
   ]
  },
  {
   "cell_type": "markdown",
   "metadata": {},
   "source": [
    "### create line"
   ]
  },
  {
   "cell_type": "code",
   "execution_count": 74,
   "metadata": {},
   "outputs": [],
   "source": [
    "#function to get a template based on two words\n",
    "def pos_synset(words, pos_dict):\n",
    "    postag_nn=[]\n",
    "    print(words)\n",
    "    for word in words:\n",
    "        pos_word=nltk.pos_tag([word])[0][1]\n",
    "        postag_nn.append(pos_word)\n",
    "    print (postag_nn)\n",
    "    pos=str(postag_nn[0])+'-'+str(postag_nn[1])\n",
    "    if pos in set(list(pos_dict.keys())):\n",
    "        possible_templates=pos_dict[pos]\n",
    "    else:\n",
    "        pos=str(postag_nn[1])+'-'+str(postag_nn[0])\n",
    "        if pos in set(list(pos_dict.keys())):\n",
    "            possible_templates=pos_dict[pos]\n",
    "        else:\n",
    "            return None  \n",
    "    template_list=list(random.choice(possible_templates))\n",
    "    if postag_nn[0]==postag_nn[1]:\n",
    "        template_list.append(words)\n",
    "        return template_list\n",
    "    else:\n",
    "        ww=[words[postag_nn.index(postag_nn[0])], words[postag_nn.index(postag_nn[1])]]\n",
    "        template_list.append(ww)\n",
    "        return template_list\n",
    "    \"\"\"\n",
    "    except KeyError:\n",
    "        try:\n",
    "            pos=str(postag_nn[1])+'-'+str(postag_nn[0])\n",
    "            template_list=list(random.choice(pos_dict[pos]))\n",
    "            ww=[nouns[postag_nn.index(postag_nn[1])], nouns[postag_nn.index(postag_nn[0])]]\n",
    "            template_list.append(ww)\n",
    "            return template_list\n",
    "        except KeyError:\n",
    "            print ('POS NOT IN MODEL')\n",
    "            return None\n",
    "            \"\"\""
   ]
  },
  {
   "cell_type": "code",
   "execution_count": 23,
   "metadata": {},
   "outputs": [],
   "source": [
    "#generates one line based on two given words\n",
    "def generate_line(word1, word2):\n",
    "    nouns=[word1, word2]\n",
    "\n",
    "    postag_nn=[]\n",
    "    #SELECT A POS SAMPLE\n",
    "    \"\"\"for noun in nouns:\n",
    "        postag_nn.append(nltk.pos_tag([noun])[0][1])\n",
    "    if postag_nn.count('NN')>1:\n",
    "        postag=list(random.choice(postag_dict[0]['NN-NN']))\n",
    "        nouns=nouns\n",
    "        postag.append(nouns)\n",
    "    elif postag_nn.count('NN')==1 and postag_nn.count('NNS')==1:\n",
    "        postag=list(random.choice(postag_dict[0]['NN-NNS']))\n",
    "        nouns=[nouns[postag_nn.index('NN')], nouns[postag_nn.index('NNS')]]\n",
    "        postag.append(nouns)\n",
    "    elif postag_nn.count('NNS')>1:\n",
    "        postag=list(random.choice(postag_dict[0]['NNS-NNS']))\n",
    "        nouns=nouns\n",
    "        postag.append(nouns)\n",
    "    else:\n",
    "        print ('WORDS ARE NOT NOUNS')\n",
    "        #return None\n",
    "        \"\"\"\n",
    "    postag=pos_synset(nouns, postag_dict[0])\n",
    "    if postag==None:\n",
    "        return None\n",
    "    #postag=[['CC', 'PRP', 'RB', 'NN', 'IN', 'DT', 'NN', 'IN', 'NN'], [3,6], ['night', 'moon']]    \n",
    "\n",
    "    print (postag[0])\n",
    "\n",
    "\n",
    "\n",
    "    last_position=np.argmax(postag[1])\n",
    "    first_position=np.argmin(postag[1])\n",
    "\n",
    "\n",
    "    last_noun=postag[2][last_position]\n",
    "    first_noun=postag[2][first_position]\n",
    "\n",
    "    print ('First noun: '+ str(first_noun))\n",
    "    print ('Last noun: '+ str(last_noun))\n",
    "    first_noun=[first_noun]\n",
    "\n",
    "    print ('#################################\\n')\n",
    "\n",
    "\n",
    "    #OPEN MODEL FROM LEFT TO RIGHT\n",
    "    tf.reset_default_graph()\n",
    "    with open(os.path.join(save_dir, 'config.pkl'), 'rb') as f:\n",
    "        saved_args = cPickle.load(f)\n",
    "    with open(os.path.join(save_dir, 'words_vocab.pkl'), 'rb') as f:\n",
    "        word_keys, vocab = cPickle.load(f)\n",
    "    model = Model_forw(saved_args, True)\n",
    "\n",
    "\n",
    "    #RUN RECURSION_POSTAG BASED ON NOUN1 AND NOUN2\n",
    "    tt_list=[]\n",
    "    with tf.Session() as sess:\n",
    "            tf.global_variables_initializer().run()\n",
    "            saver = tf.train.Saver(tf.global_variables())\n",
    "            ckpt = tf.train.get_checkpoint_state(save_dir)\n",
    "            if ckpt and ckpt.model_checkpoint_path:\n",
    "                saver.restore(sess, ckpt.model_checkpoint_path)\n",
    "                saver.restore(sess, ckpt.model_checkpoint_path)\n",
    "                #score, init_state, start=init_input(sess, model, start)\n",
    "                init_state = sess.run(model.initial_state)\n",
    "                score = np.array([[0]])\n",
    "                recursion_postag(sess, model, vocab, score, first_noun, init_state, 1, tt_list, postag[1][last_position]-postag[1][first_position], 10, last_noun,postag_dict[2], postag_dict[1], postag[0][postag[1][first_position]:postag[1][last_position]+1])\n",
    "                tt_list=sorted(tt_list, key=lambda tup: tup[0], reverse=True)\n",
    "\n",
    "\n",
    "    #RUN GENERATE_LAST BASED ON OUTPUTS OF RECURSION_POSTAG\n",
    "    tt_list_2=[]\n",
    "    with tf.Session() as sess:\n",
    "            tf.global_variables_initializer().run()\n",
    "            saver = tf.train.Saver(tf.global_variables())\n",
    "            ckpt = tf.train.get_checkpoint_state(save_dir)\n",
    "\n",
    "            if ckpt and ckpt.model_checkpoint_path:\n",
    "                saver.restore(sess, ckpt.model_checkpoint_path)\n",
    "                saver.restore(sess, ckpt.model_checkpoint_path)\n",
    "                tt_list=tt_list[:50]\n",
    "                for x in tt_list:\n",
    "                    generate_last(sess, model, vocab, x[1], x[2],x[3], 1, tt_list_2, len(postag[0]), 10,postag[1][first_position], postag_dict[1], postag[0])\n",
    "                tt_list_2=sorted(tt_list_2, key=lambda tup: tup[0], reverse=True)\n",
    "\n",
    "    #LOAD MODEL RIGHT TO LEFT\n",
    "\n",
    "    tf.reset_default_graph()\n",
    "    with open(os.path.join(save_dir_back, 'config.pkl'), 'rb') as f:\n",
    "        saved_args_back = cPickle.load(f)\n",
    "    with open(os.path.join(save_dir_back, 'words_vocab.pkl'), 'rb') as f:\n",
    "        word_keys_back, vocab_back = cPickle.load(f)\n",
    "    model_back = Model_back(saved_args_back, True)\n",
    "\n",
    "    #RUN RECURSION (FIRST PART OF SENTENCE)\n",
    "\n",
    "    tt_list_3=[]\n",
    "    with tf.Session() as sess:\n",
    "            tf.global_variables_initializer().run()\n",
    "            saver = tf.train.Saver(tf.global_variables())\n",
    "            ckpt = tf.train.get_checkpoint_state(save_dir_back)\n",
    "\n",
    "            if ckpt and ckpt.model_checkpoint_path:\n",
    "                saver.restore(sess, ckpt.model_checkpoint_path)\n",
    "                saver.restore(sess, ckpt.model_checkpoint_path)\n",
    "                for x in tt_list_2[:50]:\n",
    "                    init_score, init_state=model_back.score_a_list_new(sess, vocab_back, x[1])\n",
    "                    recursion(sess, model_back, vocab_back, init_score, x[1], init_state, 1, tt_list_3, len(postag[0]), 8, postag_dict[1],postag[0])\n",
    "                tt_list_3=sorted(tt_list_3, key=lambda tup: tup[0], reverse=True)\n",
    "\n",
    "    #PRINT SAMPLE            \n",
    "    print ('#################################\\n')\n",
    "\n",
    "    print (' '.join(sampleLine(tt_list_3, 8)))\n",
    "    return tt_list_3[:15]\n",
    "\n",
    "\n",
    "\n",
    "#create poem\n",
    "def poem():\n",
    "    def create_poem(seed):\n",
    "        result=[]\n",
    "        mp_glove=Meta_Poetry_Glove()\n",
    "        five=mp_glove.five_word_algorithm_glove(seed)\n",
    "        five=[tup[0] for tup in five]\n",
    "        mp_glove.print_five_words_glove(seed)\n",
    "        print(' ')\n",
    "        if bool_five_words(five, vocab)==False:\n",
    "            print ('WORDS NOT IN VOCAB, PLEASE INSERT A DIFFERENT SEED')\n",
    "            return None\n",
    "        else:\n",
    "            list_pairs=create_pairs(five)\n",
    "            for pair in list_pairs:\n",
    "                line=generate_line(pair[0], pair[1])\n",
    "                if line!=None:\n",
    "                    result.append(line)\n",
    "                else:\n",
    "                    return None\n",
    "            print ('*************')\n",
    "            for l in result:\n",
    "                print (l)\n",
    "            print ('*************')\n",
    "            return result\n",
    "    poem=None\n",
    "    #do this until all words in vocab and all pos of 5 words are on the dict\n",
    "    list_vocab=list(vocab.keys())\n",
    "    while poem==None:\n",
    "        aux=random.sample(list_vocab, 1)\n",
    "        poem=create_poem(aux[0])\n"
   ]
  },
  {
   "cell_type": "code",
   "execution_count": 84,
   "metadata": {},
   "outputs": [
    {
     "name": "stderr",
     "output_type": "stream",
     "text": [
      "C:\\Users\\hp\\Documents\\Data_Science\\Transversal_Glove.py:37: RuntimeWarning: invalid value encountered in true_divide\n",
      "  avg_w2 /= np.sqrt(np.sum(avg_w2 ** 2))\n"
     ]
    },
    {
     "name": "stdout",
     "output_type": "stream",
     "text": [
      "tightly->tight->\u001b[4msqueeze\u001b[0m\u001b[1m~~>\u001b[0m\u001b[4mobtain\u001b[0m->receive\n",
      " \n",
      "WORDS NOT IN VOCAB, PLEASE INSERT A DIFFERENT SEED\n"
     ]
    },
    {
     "ename": "UnboundLocalError",
     "evalue": "local variable 's1' referenced before assignment",
     "output_type": "error",
     "traceback": [
      "\u001b[1;31m---------------------------------------------------------------------------\u001b[0m",
      "\u001b[1;31mUnboundLocalError\u001b[0m                         Traceback (most recent call last)",
      "\u001b[1;32m<ipython-input-84-a4f39c5797b1>\u001b[0m in \u001b[0;36m<module>\u001b[1;34m()\u001b[0m\n\u001b[1;32m----> 1\u001b[1;33m \u001b[0mpoem\u001b[0m\u001b[1;33m(\u001b[0m\u001b[1;33m)\u001b[0m\u001b[1;33m\u001b[0m\u001b[0m\n\u001b[0m",
      "\u001b[1;32m<ipython-input-23-20341a9750f5>\u001b[0m in \u001b[0;36mpoem\u001b[1;34m()\u001b[0m\n\u001b[0;32m    149\u001b[0m     \u001b[1;32mwhile\u001b[0m \u001b[0mpoem\u001b[0m\u001b[1;33m==\u001b[0m\u001b[1;32mNone\u001b[0m\u001b[1;33m:\u001b[0m\u001b[1;33m\u001b[0m\u001b[0m\n\u001b[0;32m    150\u001b[0m         \u001b[0maux\u001b[0m\u001b[1;33m=\u001b[0m\u001b[0mrandom\u001b[0m\u001b[1;33m.\u001b[0m\u001b[0msample\u001b[0m\u001b[1;33m(\u001b[0m\u001b[0mlist_vocab\u001b[0m\u001b[1;33m,\u001b[0m \u001b[1;36m1\u001b[0m\u001b[1;33m)\u001b[0m\u001b[1;33m\u001b[0m\u001b[0m\n\u001b[1;32m--> 151\u001b[1;33m         \u001b[0mpoem\u001b[0m\u001b[1;33m=\u001b[0m\u001b[0mcreate_poem\u001b[0m\u001b[1;33m(\u001b[0m\u001b[0maux\u001b[0m\u001b[1;33m[\u001b[0m\u001b[1;36m0\u001b[0m\u001b[1;33m]\u001b[0m\u001b[1;33m)\u001b[0m\u001b[1;33m\u001b[0m\u001b[0m\n\u001b[0m",
      "\u001b[1;32m<ipython-input-23-20341a9750f5>\u001b[0m in \u001b[0;36mcreate_poem\u001b[1;34m(seed)\u001b[0m\n\u001b[0;32m    124\u001b[0m         \u001b[0mresult\u001b[0m\u001b[1;33m=\u001b[0m\u001b[1;33m[\u001b[0m\u001b[1;33m]\u001b[0m\u001b[1;33m\u001b[0m\u001b[0m\n\u001b[0;32m    125\u001b[0m         \u001b[0mmp_glove\u001b[0m\u001b[1;33m=\u001b[0m\u001b[0mMeta_Poetry_Glove\u001b[0m\u001b[1;33m(\u001b[0m\u001b[1;33m)\u001b[0m\u001b[1;33m\u001b[0m\u001b[0m\n\u001b[1;32m--> 126\u001b[1;33m         \u001b[0mfive\u001b[0m\u001b[1;33m=\u001b[0m\u001b[0mmp_glove\u001b[0m\u001b[1;33m.\u001b[0m\u001b[0mfive_word_algorithm_glove\u001b[0m\u001b[1;33m(\u001b[0m\u001b[0mseed\u001b[0m\u001b[1;33m)\u001b[0m\u001b[1;33m\u001b[0m\u001b[0m\n\u001b[0m\u001b[0;32m    127\u001b[0m         \u001b[0mfive\u001b[0m\u001b[1;33m=\u001b[0m\u001b[1;33m[\u001b[0m\u001b[0mtup\u001b[0m\u001b[1;33m[\u001b[0m\u001b[1;36m0\u001b[0m\u001b[1;33m]\u001b[0m \u001b[1;32mfor\u001b[0m \u001b[0mtup\u001b[0m \u001b[1;32min\u001b[0m \u001b[0mfive\u001b[0m\u001b[1;33m]\u001b[0m\u001b[1;33m\u001b[0m\u001b[0m\n\u001b[0;32m    128\u001b[0m         \u001b[0mmp_glove\u001b[0m\u001b[1;33m.\u001b[0m\u001b[0mprint_five_words_glove\u001b[0m\u001b[1;33m(\u001b[0m\u001b[0mseed\u001b[0m\u001b[1;33m)\u001b[0m\u001b[1;33m\u001b[0m\u001b[0m\n",
      "\u001b[1;32m~\\Documents\\Data_Science\\Transversal_Glove.py\u001b[0m in \u001b[0;36mfive_word_algorithm_glove\u001b[1;34m(self, seed_word)\u001b[0m\n\u001b[0;32m    155\u001b[0m         \u001b[0mfive\u001b[0m \u001b[0mword\u001b[0m \u001b[0moutline\u001b[0m \u001b[1;32mfor\u001b[0m \u001b[0mmeta\u001b[0m \u001b[0mpoetry\u001b[0m\u001b[1;33m\u001b[0m\u001b[0m\n\u001b[0;32m    156\u001b[0m         \"\"\"\n\u001b[1;32m--> 157\u001b[1;33m         \u001b[0mword_c\u001b[0m\u001b[1;33m,\u001b[0m \u001b[0mword_d\u001b[0m \u001b[1;33m=\u001b[0m \u001b[0mself\u001b[0m\u001b[1;33m.\u001b[0m\u001b[0mget_two_senses_glove\u001b[0m\u001b[1;33m(\u001b[0m\u001b[0mseed_word\u001b[0m\u001b[1;33m)\u001b[0m\u001b[1;33m\u001b[0m\u001b[0m\n\u001b[0m\u001b[0;32m    158\u001b[0m         \u001b[0mself\u001b[0m\u001b[1;33m.\u001b[0m\u001b[0malready_seen\u001b[0m\u001b[1;33m.\u001b[0m\u001b[0madd\u001b[0m\u001b[1;33m(\u001b[0m\u001b[0mself\u001b[0m\u001b[1;33m.\u001b[0m\u001b[0mps\u001b[0m\u001b[1;33m.\u001b[0m\u001b[0mstem\u001b[0m\u001b[1;33m(\u001b[0m\u001b[0mword_c\u001b[0m\u001b[1;33m[\u001b[0m\u001b[1;36m0\u001b[0m\u001b[1;33m]\u001b[0m\u001b[1;33m)\u001b[0m\u001b[1;33m)\u001b[0m\u001b[1;33m\u001b[0m\u001b[0m\n\u001b[0;32m    159\u001b[0m         \u001b[0mself\u001b[0m\u001b[1;33m.\u001b[0m\u001b[0malready_seen\u001b[0m\u001b[1;33m.\u001b[0m\u001b[0madd\u001b[0m\u001b[1;33m(\u001b[0m\u001b[0mself\u001b[0m\u001b[1;33m.\u001b[0m\u001b[0mps\u001b[0m\u001b[1;33m.\u001b[0m\u001b[0mstem\u001b[0m\u001b[1;33m(\u001b[0m\u001b[0mword_d\u001b[0m\u001b[1;33m[\u001b[0m\u001b[1;36m0\u001b[0m\u001b[1;33m]\u001b[0m\u001b[1;33m)\u001b[0m\u001b[1;33m)\u001b[0m\u001b[1;33m\u001b[0m\u001b[0m\n",
      "\u001b[1;32m~\\Documents\\Data_Science\\Transversal_Glove.py\u001b[0m in \u001b[0;36mget_two_senses_glove\u001b[1;34m(self, seed_word)\u001b[0m\n\u001b[0;32m     96\u001b[0m         \"\"\"\n\u001b[0;32m     97\u001b[0m         \u001b[0msynsets\u001b[0m \u001b[1;33m=\u001b[0m \u001b[0mwn\u001b[0m\u001b[1;33m.\u001b[0m\u001b[0msynsets\u001b[0m\u001b[1;33m(\u001b[0m\u001b[0mseed_word\u001b[0m\u001b[1;33m)\u001b[0m\u001b[1;33m\u001b[0m\u001b[0m\n\u001b[1;32m---> 98\u001b[1;33m         \u001b[0mpair\u001b[0m \u001b[1;33m=\u001b[0m \u001b[0mself\u001b[0m\u001b[1;33m.\u001b[0m\u001b[0mleast_similar_glove\u001b[0m\u001b[1;33m(\u001b[0m\u001b[0msynsets\u001b[0m\u001b[1;33m)\u001b[0m\u001b[1;33m\u001b[0m\u001b[0m\n\u001b[0m\u001b[0;32m     99\u001b[0m         \u001b[0msense1\u001b[0m \u001b[1;33m=\u001b[0m \u001b[0mself\u001b[0m\u001b[1;33m.\u001b[0m\u001b[0mget_sense_from_def\u001b[0m\u001b[1;33m(\u001b[0m\u001b[0mpair\u001b[0m\u001b[1;33m[\u001b[0m\u001b[1;36m0\u001b[0m\u001b[1;33m]\u001b[0m\u001b[1;33m)\u001b[0m\u001b[1;33m\u001b[0m\u001b[0m\n\u001b[0;32m    100\u001b[0m         \u001b[0msense2\u001b[0m \u001b[1;33m=\u001b[0m \u001b[0mself\u001b[0m\u001b[1;33m.\u001b[0m\u001b[0mget_sense_from_def\u001b[0m\u001b[1;33m(\u001b[0m\u001b[0mpair\u001b[0m\u001b[1;33m[\u001b[0m\u001b[1;36m1\u001b[0m\u001b[1;33m]\u001b[0m\u001b[1;33m)\u001b[0m\u001b[1;33m\u001b[0m\u001b[0m\n",
      "\u001b[1;32m~\\Documents\\Data_Science\\Transversal_Glove.py\u001b[0m in \u001b[0;36mleast_similar_glove\u001b[1;34m(self, synsets)\u001b[0m\n\u001b[0;32m     55\u001b[0m                     \u001b[0ms1\u001b[0m \u001b[1;33m=\u001b[0m \u001b[0msynsets\u001b[0m\u001b[1;33m[\u001b[0m\u001b[0mi\u001b[0m\u001b[1;33m]\u001b[0m\u001b[1;33m\u001b[0m\u001b[0m\n\u001b[0;32m     56\u001b[0m                     \u001b[0ms2\u001b[0m \u001b[1;33m=\u001b[0m \u001b[0msynsets\u001b[0m\u001b[1;33m[\u001b[0m\u001b[0mj\u001b[0m\u001b[1;33m]\u001b[0m\u001b[1;33m\u001b[0m\u001b[0m\n\u001b[1;32m---> 57\u001b[1;33m         \u001b[1;32mreturn\u001b[0m \u001b[0ms1\u001b[0m\u001b[1;33m,\u001b[0m \u001b[0ms2\u001b[0m\u001b[1;33m\u001b[0m\u001b[0m\n\u001b[0m\u001b[0;32m     58\u001b[0m \u001b[1;33m\u001b[0m\u001b[0m\n\u001b[0;32m     59\u001b[0m     \u001b[1;32mdef\u001b[0m \u001b[0mleast_similar_glove_specify\u001b[0m\u001b[1;33m(\u001b[0m\u001b[0mself\u001b[0m\u001b[1;33m,\u001b[0m \u001b[0msynset\u001b[0m\u001b[1;33m)\u001b[0m\u001b[1;33m:\u001b[0m\u001b[1;33m\u001b[0m\u001b[0m\n",
      "\u001b[1;31mUnboundLocalError\u001b[0m: local variable 's1' referenced before assignment"
     ]
    }
   ],
   "source": [
    "poem()"
   ]
  },
  {
   "cell_type": "code",
   "execution_count": 74,
   "metadata": {},
   "outputs": [
    {
     "name": "stdout",
     "output_type": "stream",
     "text": [
      "['NN', 'WRB', 'PRP', 'VBD', 'TO', 'DT', 'NN']\n",
      "First noun: weather\n",
      "Last noun: sadness\n",
      "#################################\n",
      "\n",
      "INFO:tensorflow:Restoring parameters from save_3\\model.ckpt-63249\n",
      "INFO:tensorflow:Restoring parameters from save_3\\model.ckpt-63249\n",
      "INFO:tensorflow:Restoring parameters from save_3\\model.ckpt-63249\n",
      "INFO:tensorflow:Restoring parameters from save_3\\model.ckpt-63249\n",
      "INFO:tensorflow:Restoring parameters from frost_model\\model.ckpt-227699\n",
      "INFO:tensorflow:Restoring parameters from frost_model\\model.ckpt-227699\n",
      "#################################\n",
      "\n",
      "weather when it gave to a sadness\n"
     ]
    }
   ],
   "source": [
    "k=generate_line('sadness', 'weather')"
   ]
  },
  {
   "cell_type": "code",
   "execution_count": 77,
   "metadata": {},
   "outputs": [
    {
     "name": "stdout",
     "output_type": "stream",
     "text": [
      "['IN', 'NN', 'CC', 'NN', 'TO', 'VB']\n",
      "First noun: hat\n",
      "Last noun: head\n",
      "#################################\n",
      "\n",
      "INFO:tensorflow:Restoring parameters from save_3\\model.ckpt-63249\n",
      "INFO:tensorflow:Restoring parameters from save_3\\model.ckpt-63249\n",
      "INFO:tensorflow:Restoring parameters from save_3\\model.ckpt-63249\n",
      "INFO:tensorflow:Restoring parameters from save_3\\model.ckpt-63249\n",
      "INFO:tensorflow:Restoring parameters from frost_model\\model.ckpt-227699\n",
      "INFO:tensorflow:Restoring parameters from frost_model\\model.ckpt-227699\n",
      "#################################\n",
      "\n",
      "of hat or head to say\n"
     ]
    }
   ],
   "source": [
    "k=generate_line('head', 'hat')"
   ]
  },
  {
   "cell_type": "code",
   "execution_count": 79,
   "metadata": {},
   "outputs": [
    {
     "name": "stdout",
     "output_type": "stream",
     "text": [
      "on hat and head to have\n"
     ]
    }
   ],
   "source": [
    "print (' '.join(sampleLine(k, 15)))"
   ]
  },
  {
   "cell_type": "code",
   "execution_count": 82,
   "metadata": {},
   "outputs": [
    {
     "name": "stdout",
     "output_type": "stream",
     "text": [
      "['CC', 'VBD', 'DT', 'NNS', 'IN', 'DT', 'NN']\n",
      "First noun: feelings\n",
      "Last noun: embarrassment\n",
      "#################################\n",
      "\n",
      "INFO:tensorflow:Restoring parameters from save_3\\model.ckpt-63249\n",
      "INFO:tensorflow:Restoring parameters from save_3\\model.ckpt-63249\n",
      "INFO:tensorflow:Restoring parameters from save_3\\model.ckpt-63249\n",
      "INFO:tensorflow:Restoring parameters from save_3\\model.ckpt-63249\n",
      "INFO:tensorflow:Restoring parameters from frost_model\\model.ckpt-227699\n",
      "INFO:tensorflow:Restoring parameters from frost_model\\model.ckpt-227699\n"
     ]
    },
    {
     "name": "stderr",
     "output_type": "stream",
     "text": [
      "C:\\Users\\hp\\Documents\\Data_Science\\model_back.py:207: RuntimeWarning: divide by zero encountered in log\n",
      "  dist = p.squeeze() + np.log(probs.squeeze())\n"
     ]
    },
    {
     "name": "stdout",
     "output_type": "stream",
     "text": [
      "#################################\n",
      "\n",
      "and were no feelings of all embarrassment\n"
     ]
    }
   ],
   "source": [
    "k=generate_line('embarrassment', 'feelings')"
   ]
  },
  {
   "cell_type": "code",
   "execution_count": 84,
   "metadata": {},
   "outputs": [
    {
     "name": "stdout",
     "output_type": "stream",
     "text": [
      "['DT', 'NN', 'VBD', 'RB', 'DT', 'NN', 'MD', 'VB']\n",
      "First noun: land\n",
      "Last noun: property\n",
      "#################################\n",
      "\n",
      "INFO:tensorflow:Restoring parameters from save_3\\model.ckpt-63249\n",
      "INFO:tensorflow:Restoring parameters from save_3\\model.ckpt-63249\n",
      "INFO:tensorflow:Restoring parameters from save_3\\model.ckpt-63249\n",
      "INFO:tensorflow:Restoring parameters from save_3\\model.ckpt-63249\n",
      "INFO:tensorflow:Restoring parameters from frost_model\\model.ckpt-227699\n",
      "INFO:tensorflow:Restoring parameters from frost_model\\model.ckpt-227699\n",
      "#################################\n",
      "\n",
      "the land was just a property must be\n"
     ]
    }
   ],
   "source": [
    "k=generate_line('property', 'land')"
   ]
  },
  {
   "cell_type": "code",
   "execution_count": 87,
   "metadata": {},
   "outputs": [
    {
     "name": "stdout",
     "output_type": "stream",
     "text": [
      "the land was still the property must be\n"
     ]
    }
   ],
   "source": [
    "print (' '.join(sampleLine(k, 15)))"
   ]
  },
  {
   "cell_type": "code",
   "execution_count": 83,
   "metadata": {},
   "outputs": [
    {
     "name": "stdout",
     "output_type": "stream",
     "text": [
      "$: dollar\n",
      "    $ -$ --$ A$ C$ HK$ M$ NZ$ S$ U.S.$ US$\n",
      "'': closing quotation mark\n",
      "    ' ''\n",
      "(: opening parenthesis\n",
      "    ( [ {\n",
      "): closing parenthesis\n",
      "    ) ] }\n",
      ",: comma\n",
      "    ,\n",
      "--: dash\n",
      "    --\n",
      ".: sentence terminator\n",
      "    . ! ?\n",
      ":: colon or ellipsis\n",
      "    : ; ...\n",
      "CC: conjunction, coordinating\n",
      "    & 'n and both but either et for less minus neither nor or plus so\n",
      "    therefore times v. versus vs. whether yet\n",
      "CD: numeral, cardinal\n",
      "    mid-1890 nine-thirty forty-two one-tenth ten million 0.5 one forty-\n",
      "    seven 1987 twenty '79 zero two 78-degrees eighty-four IX '60s .025\n",
      "    fifteen 271,124 dozen quintillion DM2,000 ...\n",
      "DT: determiner\n",
      "    all an another any both del each either every half la many much nary\n",
      "    neither no some such that the them these this those\n",
      "EX: existential there\n",
      "    there\n",
      "FW: foreign word\n",
      "    gemeinschaft hund ich jeux habeas Haementeria Herr K'ang-si vous\n",
      "    lutihaw alai je jour objets salutaris fille quibusdam pas trop Monte\n",
      "    terram fiche oui corporis ...\n",
      "IN: preposition or conjunction, subordinating\n",
      "    astride among uppon whether out inside pro despite on by throughout\n",
      "    below within for towards near behind atop around if like until below\n",
      "    next into if beside ...\n",
      "JJ: adjective or numeral, ordinal\n",
      "    third ill-mannered pre-war regrettable oiled calamitous first separable\n",
      "    ectoplasmic battery-powered participatory fourth still-to-be-named\n",
      "    multilingual multi-disciplinary ...\n",
      "JJR: adjective, comparative\n",
      "    bleaker braver breezier briefer brighter brisker broader bumper busier\n",
      "    calmer cheaper choosier cleaner clearer closer colder commoner costlier\n",
      "    cozier creamier crunchier cuter ...\n",
      "JJS: adjective, superlative\n",
      "    calmest cheapest choicest classiest cleanest clearest closest commonest\n",
      "    corniest costliest crassest creepiest crudest cutest darkest deadliest\n",
      "    dearest deepest densest dinkiest ...\n",
      "LS: list item marker\n",
      "    A A. B B. C C. D E F First G H I J K One SP-44001 SP-44002 SP-44005\n",
      "    SP-44007 Second Third Three Two * a b c d first five four one six three\n",
      "    two\n",
      "MD: modal auxiliary\n",
      "    can cannot could couldn't dare may might must need ought shall should\n",
      "    shouldn't will would\n",
      "NN: noun, common, singular or mass\n",
      "    common-carrier cabbage knuckle-duster Casino afghan shed thermostat\n",
      "    investment slide humour falloff slick wind hyena override subhumanity\n",
      "    machinist ...\n",
      "NNP: noun, proper, singular\n",
      "    Motown Venneboerger Czestochwa Ranzer Conchita Trumplane Christos\n",
      "    Oceanside Escobar Kreisler Sawyer Cougar Yvette Ervin ODI Darryl CTCA\n",
      "    Shannon A.K.C. Meltex Liverpool ...\n",
      "NNPS: noun, proper, plural\n",
      "    Americans Americas Amharas Amityvilles Amusements Anarcho-Syndicalists\n",
      "    Andalusians Andes Andruses Angels Animals Anthony Antilles Antiques\n",
      "    Apache Apaches Apocrypha ...\n",
      "NNS: noun, common, plural\n",
      "    undergraduates scotches bric-a-brac products bodyguards facets coasts\n",
      "    divestitures storehouses designs clubs fragrances averages\n",
      "    subjectivists apprehensions muses factory-jobs ...\n",
      "PDT: pre-determiner\n",
      "    all both half many quite such sure this\n",
      "POS: genitive marker\n",
      "    ' 's\n",
      "PRP: pronoun, personal\n",
      "    hers herself him himself hisself it itself me myself one oneself ours\n",
      "    ourselves ownself self she thee theirs them themselves they thou thy us\n",
      "PRP$: pronoun, possessive\n",
      "    her his mine my our ours their thy your\n",
      "RB: adverb\n",
      "    occasionally unabatingly maddeningly adventurously professedly\n",
      "    stirringly prominently technologically magisterially predominately\n",
      "    swiftly fiscally pitilessly ...\n",
      "RBR: adverb, comparative\n",
      "    further gloomier grander graver greater grimmer harder harsher\n",
      "    healthier heavier higher however larger later leaner lengthier less-\n",
      "    perfectly lesser lonelier longer louder lower more ...\n",
      "RBS: adverb, superlative\n",
      "    best biggest bluntest earliest farthest first furthest hardest\n",
      "    heartiest highest largest least less most nearest second tightest worst\n",
      "RP: particle\n",
      "    aboard about across along apart around aside at away back before behind\n",
      "    by crop down ever fast for forth from go high i.e. in into just later\n",
      "    low more off on open out over per pie raising start teeth that through\n",
      "    under unto up up-pp upon whole with you\n",
      "SYM: symbol\n",
      "    % & ' '' ''. ) ). * + ,. < = > @ A[fj] U.S U.S.S.R * ** ***\n",
      "TO: \"to\" as preposition or infinitive marker\n",
      "    to\n",
      "UH: interjection\n",
      "    Goodbye Goody Gosh Wow Jeepers Jee-sus Hubba Hey Kee-reist Oops amen\n",
      "    huh howdy uh dammit whammo shucks heck anyways whodunnit honey golly\n",
      "    man baby diddle hush sonuvabitch ...\n",
      "VB: verb, base form\n",
      "    ask assemble assess assign assume atone attention avoid bake balkanize\n",
      "    bank begin behold believe bend benefit bevel beware bless boil bomb\n",
      "    boost brace break bring broil brush build ...\n",
      "VBD: verb, past tense\n",
      "    dipped pleaded swiped regummed soaked tidied convened halted registered\n",
      "    cushioned exacted snubbed strode aimed adopted belied figgered\n",
      "    speculated wore appreciated contemplated ...\n",
      "VBG: verb, present participle or gerund\n",
      "    telegraphing stirring focusing angering judging stalling lactating\n",
      "    hankerin' alleging veering capping approaching traveling besieging\n",
      "    encrypting interrupting erasing wincing ...\n",
      "VBN: verb, past participle\n",
      "    multihulled dilapidated aerosolized chaired languished panelized used\n",
      "    experimented flourished imitated reunifed factored condensed sheared\n",
      "    unsettled primed dubbed desired ...\n",
      "VBP: verb, present tense, not 3rd person singular\n",
      "    predominate wrap resort sue twist spill cure lengthen brush terminate\n",
      "    appear tend stray glisten obtain comprise detest tease attract\n",
      "    emphasize mold postpone sever return wag ...\n",
      "VBZ: verb, present tense, 3rd person singular\n",
      "    bases reconstructs marks mixes displeases seals carps weaves snatches\n",
      "    slumps stretches authorizes smolders pictures emerges stockpiles\n",
      "    seduces fizzes uses bolsters slaps speaks pleads ...\n",
      "WDT: WH-determiner\n",
      "    that what whatever which whichever\n",
      "WP: WH-pronoun\n",
      "    that what whatever whatsoever which who whom whosoever\n",
      "WP$: WH-pronoun, possessive\n",
      "    whose\n",
      "WRB: Wh-adverb\n",
      "    how however whence whenever where whereby whereever wherein whereof why\n",
      "``: opening quotation mark\n",
      "    ` ``\n"
     ]
    }
   ],
   "source": [
    "nltk.help.upenn_tagset()"
   ]
  },
  {
   "cell_type": "code",
   "execution_count": 4,
   "metadata": {},
   "outputs": [
    {
     "name": "stdout",
     "output_type": "stream",
     "text": [
      "organism->animal->\u001b[4mfood\u001b[0m\u001b[1m~~>\u001b[0m\u001b[4mirresolute\u001b[0m->uncertain\n"
     ]
    },
    {
     "name": "stderr",
     "output_type": "stream",
     "text": [
      "C:\\Users\\hp\\Documents\\Data_Science\\Transversal_Glove.py:37: RuntimeWarning: invalid value encountered in true_divide\n",
      "  avg_w2 /= np.sqrt(np.sum(avg_w2 ** 2))\n"
     ]
    }
   ],
   "source": [
    "seed='chicken'\n",
    "mp_glove=Meta_Poetry_Glove()\n",
    "five=mp_glove.five_word_algorithm_glove(seed)\n",
    "mp_glove.print_five_words_glove(seed)"
   ]
  }
 ],
 "metadata": {
  "kernelspec": {
   "display_name": "Python 3",
   "language": "python",
   "name": "python3"
  },
  "language_info": {
   "codemirror_mode": {
    "name": "ipython",
    "version": 3
   },
   "file_extension": ".py",
   "mimetype": "text/x-python",
   "name": "python",
   "nbconvert_exporter": "python",
   "pygments_lexer": "ipython3",
   "version": "3.6.6"
  }
 },
 "nbformat": 4,
 "nbformat_minor": 2
}
