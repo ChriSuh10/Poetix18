{
 "cells": [
  {
   "cell_type": "code",
   "execution_count": 8,
   "metadata": {},
   "outputs": [],
   "source": [
    "import tensorflow as tf\n",
    "import numpy as np\n",
    "import nltk\n",
    "from nltk.corpus import wordnet as wn\n",
    "from gensim.models import KeyedVectors\n",
    "from gensim.parsing.preprocessing import remove_stopwords\n",
    "import collections\n",
    "from collections import defaultdict\n",
    "import os\n",
    "import re\n",
    "import random\n",
    "import itertools\n",
    "import requests\n",
    "import pickle\n",
    "import heapq\n",
    "import copy\n",
    "from functools import reduce\n",
    "import math\n",
    "import pdb\n",
    "from gpt2.src.score import score_model\n",
    "from gpt2.src.generate_prompt import generate_prompt\n",
    "from gpt2.src.encoder import get_encoder\n",
    "import pickle\n",
    "from py_files.Limericks import Limerick_Generate\n",
    "lg = Limerick_Generate(model_name='117M')"
   ]
  },
  {
   "cell_type": "code",
   "execution_count": 15,
   "metadata": {},
   "outputs": [
    {
     "name": "stdout",
     "output_type": "stream",
     "text": [
      "The autoreload extension is already loaded. To reload it, use:\n",
      "  %reload_ext autoreload\n"
     ]
    }
   ],
   "source": [
    "%load_ext autoreload\n",
    "%autoreload 2"
   ]
  },
  {
   "cell_type": "code",
   "execution_count": 17,
   "metadata": {},
   "outputs": [
    {
     "name": "stdout",
     "output_type": "stream",
     "text": [
      "None\n"
     ]
    }
   ],
   "source": [
    "from gpt2.src.generate_poem_naive import generate_poem_naive\n",
    "res = generate_poem_naive(model_name=\"117M\", length=100, nsamples=10, batch_size=10, raw_text=\"There was a clever boy whose name is James.\")"
   ]
  },
  {
   "cell_type": "code",
   "execution_count": null,
   "metadata": {},
   "outputs": [],
   "source": [
    "def save_poem_to_text_file(poems, file_name):\n",
    "    f = open(file_name,'a') \n",
    "    for poem in poems:\n",
    "        for line in poem:\n",
    "            line = re.sub(r'[^\\w\\s]','',line)\n",
    "            f.write(line)\n",
    "            f.write(\"\\n\")\n",
    "        f.write(\"\\n\")\n",
    "save_poem_to_text_file(res, 'py_files/saved_objects/silly_poems_2.txt')"
   ]
  },
  {
   "cell_type": "code",
   "execution_count": 23,
   "metadata": {},
   "outputs": [],
   "source": [
    "# poem = pickle.load('gpt2.pkl')\n",
    "f = open('gpt2.pkl', 'rb')\n",
    "poems = pickle.load(f)"
   ]
  },
  {
   "cell_type": "code",
   "execution_count": 24,
   "metadata": {},
   "outputs": [
    {
     "name": "stdout",
     "output_type": "stream",
     "text": [
      "[262, 37934, 994, 29742, 866, 438, 198, 3152, 15133, 4692, 290, 288, 260, 560, 26, 198, 1870, 1793, 9859, 1474, 284, 607, 438, 64, 2415, 11, 198, 1890, 1793, 290, 607, 1672, 11386, 13, 8117, 1752, 373, 281, 21848, 2415, 3706, 37392]\n"
     ]
    }
   ],
   "source": [
    "print(poems)"
   ]
  },
  {
   "cell_type": "code",
   "execution_count": 2,
   "metadata": {},
   "outputs": [
    {
     "name": "stdout",
     "output_type": "stream",
     "text": [
      "there once was a woman enjoying her life in lamar\n",
      "who had men in a car\n",
      "i took up one tune\n",
      "of a new moon\n",
      "and was in a th bar\n",
      "\n",
      "there was an enthusiastic man that lived in dakar\n",
      "who saw things from another star\n",
      "i found out one afternoon\n",
      "that the dark moon\n",
      "and lost in the dark scar\n",
      "\n",
      "there once was an enthusiastic woman named romaine\n",
      "who told stories about the pain\n",
      "she felt off one kind\n",
      "of a high wind\n",
      "and fell off a high plane\n",
      "\n",
      "there once was an enthusiastic man named case\n",
      "who did wonders for the birthplace\n",
      "i got a report\n",
      "from a local court\n",
      "and asked for a special grace\n",
      "\n",
      "there once was an enthusiastic woman named germaine\n",
      "who laid eggs on a grain\n",
      "i came up one mind\n",
      "in a un kind\n",
      "and lay in a u vein\n",
      "\n",
      "there once was an enthusiastic woman named germaine\n",
      "who wrote books in every domain\n",
      "she experienced off one mankind\n",
      "in any great whirlwind\n",
      "and fell in a great rain\n",
      "\n",
      "there was an enthusiastic man that lived in moraine\n",
      "who collected funds for this campaign\n",
      "he operated out two whirlwind\n",
      "for any good mankind\n",
      "and was on the same plane\n"
     ]
    }
   ],
   "source": [
    "\n",
    "import re\n",
    "f = open('py_files/saved_objects/silly_poems_with_templates.txt', 'rb')\n",
    "for line in f:\n",
    "    line = str(line).split(',')\n",
    "    for i in range(len(line)):\n",
    "        line[i] = re.sub(r\"[^A-Za-z]+\", '', line[i])\n",
    "    line[0] = line[0][1:]\n",
    "    line[-1] = line[-1][:-2]\n",
    "    print(' '.join(line))"
   ]
  },
  {
   "cell_type": "markdown",
   "metadata": {},
   "source": [
    "# Save poems in a csv for Amazon Turk"
   ]
  },
  {
   "cell_type": "code",
   "execution_count": 17,
   "metadata": {},
   "outputs": [],
   "source": [
    "from pandas import DataFrame"
   ]
  },
  {
   "cell_type": "code",
   "execution_count": 18,
   "metadata": {},
   "outputs": [],
   "source": [
    "# Specify path\n",
    "in_path = 'py_files/saved_objects/silly_poems.txt'\n",
    "out_path = 'py_files/saved_objects/csv/silly_poems.csv'"
   ]
  },
  {
   "cell_type": "code",
   "execution_count": 26,
   "metadata": {},
   "outputs": [
    {
     "ename": "ValueError",
     "evalue": "arrays must all be same length",
     "output_type": "error",
     "traceback": [
      "\u001b[0;31m---------------------------------------------------------------------------\u001b[0m",
      "\u001b[0;31mValueError\u001b[0m                                Traceback (most recent call last)",
      "\u001b[0;32m<ipython-input-26-c428b130f81b>\u001b[0m in \u001b[0;36m<module>\u001b[0;34m()\u001b[0m\n\u001b[1;32m     14\u001b[0m     \u001b[0mcounter\u001b[0m \u001b[0;34m+=\u001b[0m \u001b[0;36m1\u001b[0m\u001b[0;34m\u001b[0m\u001b[0m\n\u001b[1;32m     15\u001b[0m     \u001b[0mcounter\u001b[0m \u001b[0;34m%=\u001b[0m \u001b[0;36m5\u001b[0m\u001b[0;34m\u001b[0m\u001b[0m\n\u001b[0;32m---> 16\u001b[0;31m \u001b[0mdf\u001b[0m \u001b[0;34m=\u001b[0m \u001b[0mDataFrame\u001b[0m\u001b[0;34m(\u001b[0m\u001b[0mlines\u001b[0m\u001b[0;34m,\u001b[0m \u001b[0mcolumns\u001b[0m\u001b[0;34m=\u001b[0m \u001b[0;34m[\u001b[0m\u001b[0;34m'line1'\u001b[0m\u001b[0;34m,\u001b[0m \u001b[0;34m'line2'\u001b[0m\u001b[0;34m,\u001b[0m \u001b[0;34m'line3'\u001b[0m\u001b[0;34m,\u001b[0m \u001b[0;34m'line4'\u001b[0m\u001b[0;34m,\u001b[0m \u001b[0;34m'line5'\u001b[0m\u001b[0;34m]\u001b[0m\u001b[0;34m)\u001b[0m\u001b[0;34m\u001b[0m\u001b[0m\n\u001b[0m\u001b[1;32m     17\u001b[0m \u001b[0mexport_csv\u001b[0m \u001b[0;34m=\u001b[0m \u001b[0mdf\u001b[0m\u001b[0;34m.\u001b[0m\u001b[0mto_csv\u001b[0m \u001b[0;34m(\u001b[0m\u001b[0mout_path\u001b[0m\u001b[0;34m,\u001b[0m \u001b[0mindex\u001b[0m \u001b[0;34m=\u001b[0m \u001b[0;32mNone\u001b[0m\u001b[0;34m,\u001b[0m \u001b[0mheader\u001b[0m\u001b[0;34m=\u001b[0m\u001b[0;32mTrue\u001b[0m\u001b[0;34m)\u001b[0m\u001b[0;34m\u001b[0m\u001b[0m\n",
      "\u001b[0;32m/anaconda3/lib/python3.6/site-packages/pandas/core/frame.py\u001b[0m in \u001b[0;36m__init__\u001b[0;34m(self, data, index, columns, dtype, copy)\u001b[0m\n\u001b[1;32m    346\u001b[0m                                  dtype=dtype, copy=copy)\n\u001b[1;32m    347\u001b[0m         \u001b[0;32melif\u001b[0m \u001b[0misinstance\u001b[0m\u001b[0;34m(\u001b[0m\u001b[0mdata\u001b[0m\u001b[0;34m,\u001b[0m \u001b[0mdict\u001b[0m\u001b[0;34m)\u001b[0m\u001b[0;34m:\u001b[0m\u001b[0;34m\u001b[0m\u001b[0m\n\u001b[0;32m--> 348\u001b[0;31m             \u001b[0mmgr\u001b[0m \u001b[0;34m=\u001b[0m \u001b[0mself\u001b[0m\u001b[0;34m.\u001b[0m\u001b[0m_init_dict\u001b[0m\u001b[0;34m(\u001b[0m\u001b[0mdata\u001b[0m\u001b[0;34m,\u001b[0m \u001b[0mindex\u001b[0m\u001b[0;34m,\u001b[0m \u001b[0mcolumns\u001b[0m\u001b[0;34m,\u001b[0m \u001b[0mdtype\u001b[0m\u001b[0;34m=\u001b[0m\u001b[0mdtype\u001b[0m\u001b[0;34m)\u001b[0m\u001b[0;34m\u001b[0m\u001b[0m\n\u001b[0m\u001b[1;32m    349\u001b[0m         \u001b[0;32melif\u001b[0m \u001b[0misinstance\u001b[0m\u001b[0;34m(\u001b[0m\u001b[0mdata\u001b[0m\u001b[0;34m,\u001b[0m \u001b[0mma\u001b[0m\u001b[0;34m.\u001b[0m\u001b[0mMaskedArray\u001b[0m\u001b[0;34m)\u001b[0m\u001b[0;34m:\u001b[0m\u001b[0;34m\u001b[0m\u001b[0m\n\u001b[1;32m    350\u001b[0m             \u001b[0;32mimport\u001b[0m \u001b[0mnumpy\u001b[0m\u001b[0;34m.\u001b[0m\u001b[0mma\u001b[0m\u001b[0;34m.\u001b[0m\u001b[0mmrecords\u001b[0m \u001b[0;32mas\u001b[0m \u001b[0mmrecords\u001b[0m\u001b[0;34m\u001b[0m\u001b[0m\n",
      "\u001b[0;32m/anaconda3/lib/python3.6/site-packages/pandas/core/frame.py\u001b[0m in \u001b[0;36m_init_dict\u001b[0;34m(self, data, index, columns, dtype)\u001b[0m\n\u001b[1;32m    437\u001b[0m                 \u001b[0;31m# GH10856\u001b[0m\u001b[0;34m\u001b[0m\u001b[0;34m\u001b[0m\u001b[0m\n\u001b[1;32m    438\u001b[0m                 \u001b[0;31m# raise ValueError if only scalars in dict\u001b[0m\u001b[0;34m\u001b[0m\u001b[0;34m\u001b[0m\u001b[0m\n\u001b[0;32m--> 439\u001b[0;31m                 \u001b[0mindex\u001b[0m \u001b[0;34m=\u001b[0m \u001b[0mextract_index\u001b[0m\u001b[0;34m(\u001b[0m\u001b[0marrays\u001b[0m\u001b[0;34m[\u001b[0m\u001b[0;34m~\u001b[0m\u001b[0mmissing\u001b[0m\u001b[0;34m]\u001b[0m\u001b[0;34m)\u001b[0m\u001b[0;34m\u001b[0m\u001b[0m\n\u001b[0m\u001b[1;32m    440\u001b[0m             \u001b[0;32melse\u001b[0m\u001b[0;34m:\u001b[0m\u001b[0;34m\u001b[0m\u001b[0m\n\u001b[1;32m    441\u001b[0m                 \u001b[0mindex\u001b[0m \u001b[0;34m=\u001b[0m \u001b[0m_ensure_index\u001b[0m\u001b[0;34m(\u001b[0m\u001b[0mindex\u001b[0m\u001b[0;34m)\u001b[0m\u001b[0;34m\u001b[0m\u001b[0m\n",
      "\u001b[0;32m/anaconda3/lib/python3.6/site-packages/pandas/core/frame.py\u001b[0m in \u001b[0;36mextract_index\u001b[0;34m(data)\u001b[0m\n\u001b[1;32m   7359\u001b[0m             \u001b[0mlengths\u001b[0m \u001b[0;34m=\u001b[0m \u001b[0mlist\u001b[0m\u001b[0;34m(\u001b[0m\u001b[0mset\u001b[0m\u001b[0;34m(\u001b[0m\u001b[0mraw_lengths\u001b[0m\u001b[0;34m)\u001b[0m\u001b[0;34m)\u001b[0m\u001b[0;34m\u001b[0m\u001b[0m\n\u001b[1;32m   7360\u001b[0m             \u001b[0;32mif\u001b[0m \u001b[0mlen\u001b[0m\u001b[0;34m(\u001b[0m\u001b[0mlengths\u001b[0m\u001b[0;34m)\u001b[0m \u001b[0;34m>\u001b[0m \u001b[0;36m1\u001b[0m\u001b[0;34m:\u001b[0m\u001b[0;34m\u001b[0m\u001b[0m\n\u001b[0;32m-> 7361\u001b[0;31m                 \u001b[0;32mraise\u001b[0m \u001b[0mValueError\u001b[0m\u001b[0;34m(\u001b[0m\u001b[0;34m'arrays must all be same length'\u001b[0m\u001b[0;34m)\u001b[0m\u001b[0;34m\u001b[0m\u001b[0m\n\u001b[0m\u001b[1;32m   7362\u001b[0m \u001b[0;34m\u001b[0m\u001b[0m\n\u001b[1;32m   7363\u001b[0m             \u001b[0;32mif\u001b[0m \u001b[0mhave_dicts\u001b[0m\u001b[0;34m:\u001b[0m\u001b[0;34m\u001b[0m\u001b[0m\n",
      "\u001b[0;31mValueError\u001b[0m: arrays must all be same length"
     ]
    }
   ],
   "source": [
    "in_txt = open(in_path, 'rb')\n",
    "lines = {'line1': [],\n",
    "         'line2': [],\n",
    "         'line3': [],\n",
    "         'line4': [],\n",
    "         'line5': []}\n",
    "\n",
    "counter = 0\n",
    "for line in in_txt:\n",
    "    line = line.rstrip()\n",
    "    if len(line) == 0:\n",
    "        continue\n",
    "    lines['line' + str(counter+1)].append(line)\n",
    "    counter += 1\n",
    "    counter %= 5\n",
    "df = DataFrame(lines, columns= ['line1', 'line2', 'line3', 'line4', 'line5'])\n",
    "export_csv = df.to_csv (out_path, index = None, header=True)\n"
   ]
  },
  {
   "cell_type": "code",
   "execution_count": null,
   "metadata": {},
   "outputs": [],
   "source": []
  }
 ],
 "metadata": {
  "kernelspec": {
   "display_name": "Python 3",
   "language": "python",
   "name": "python3"
  },
  "language_info": {
   "codemirror_mode": {
    "name": "ipython",
    "version": 3
   },
   "file_extension": ".py",
   "mimetype": "text/x-python",
   "name": "python",
   "nbconvert_exporter": "python",
   "pygments_lexer": "ipython3",
   "version": "3.6.5"
  }
 },
 "nbformat": 4,
 "nbformat_minor": 2
}
