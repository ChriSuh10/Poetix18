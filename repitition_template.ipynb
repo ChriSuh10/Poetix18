{
 "cells": [
  {
   "cell_type": "code",
   "execution_count": 191,
   "metadata": {
    "collapsed": true,
    "pycharm": {
     "is_executing": false
    }
   },
   "outputs": [],
   "source": [
    "import pandas as pd\n",
    "import re\n",
    "# Open a file: file\n",
    "sent_table = pd.read_csv('/home/dineshp/Poetix18/data/rhet/corpus.txt',usecols=['text'])\n",
    "#print(sent_table)\n",
    "\n",
    "\n",
    "for i in sent_table.index.values:\n",
    "    text = sent_table.iloc[i]['text'];\n",
    "    #sent_table.iloc[i]['text'] = sent_table.iloc[i]['text'].replace('''O ''', '''Oh ''')\n",
    "    #sent_table.iloc[i]['text'] = sent_table.iloc[i]['text'].replace('''`''', ''' \\'''')\n",
    "    #sent_table.iloc[i]['text'] = sent_table.iloc[i]['text'].replace(''' ` ''', ''' \\'''')\n",
    "    #sent_table.iloc[i]['text'] = sent_table.iloc[i]['text'].replace(''' `''', ''' \\'''')\n",
    "    #sent_table.iloc[i]['text'] = sent_table.iloc[i]['text'].replace(''' \\'''', '''\\'''')\n",
    "    #sent_table.iloc[i]['text'] = sent_table.iloc[i]['text'].replace('''\\'d''', '''ed''')\n",
    "    sent_table.iloc[i]['text'] = re.sub(r'''[^\\w\\d'\\-\\s]+''','',sent_table.iloc[i]['text']);\n",
    "    sent_table.iloc[i]['text'] = sent_table.iloc[i]['text'].strip();\n",
    "    \n",
    "    "
   ]
  },
  {
   "cell_type": "code",
   "execution_count": 190,
   "outputs": [
    {
     "name": "stdout",
     "text": [
      "/home/dineshp/Poetix18/data/rhet/repitition/sonnet_antimetabole.csv\n{'were': 1, 'beauty': 2}\n[['then', 'were', 'not', 'summer', \"'s\", 'distillation', 'left'], ['beauty', \"'s\", 'effect', 'with', 'beauty', 'were', 'bereft']]\n[['RB', 'VBD', 'RB', 'NN', 'POS', 'NN', 'VBD'], ['NN', 'POS', 'NN', 'IN', 'NN', 'VBD', 'NNS']]\n[['0', '11', '0', '0', '0', '0', '0'], ['21', '0', '0', '0', '22', '12', '0']]\n{'ere': 1, 'be': 2, 'treasure': 3}\n[['ere', 'thou', 'be', 'distill', 'ed'], ['treasure', 'thou', 'some', 'place', 'with', 'beauty', \"'s\", 'treasure', 'ere', 'it', 'be', 'self-kill', 'ed']]\n[['RB', 'RB', 'VB', 'JJ', 'VB'], ['NN', 'VBZ', 'DT', 'NN', 'IN', 'NN', 'POS', 'NN', 'VBD', 'PRP', 'VB', 'JJ', 'NN']]\n[['11', '0', '21', '0', '0'], ['31', '0', '0', '0', '0', '22', '0', '32', '12', '0', '23', '0', '0']]\n{'ed': 1, 'treasure': 2}\n[['ere', 'thou', 'be', 'distill', 'ed'], ['treasure', 'thou', 'some', 'place', 'with', 'beauty', \"'s\", 'treasure', 'ere', 'it', 'be', 'self-kill', 'ed']]\n[['RB', 'RB', 'VB', 'JJ', 'VB'], ['NN', 'VBZ', 'DT', 'NN', 'IN', 'NN', 'POS', 'NN', 'VBD', 'PRP', 'VB', 'JJ', 'NN']]\n[['0', '0', '0', '0', '11'], ['21', '0', '0', '0', '0', '0', '0', '22', '0', '0', '0', '0', '12']]\n{'music': 1, 'hear': 2}\n[['music', 'to', 'hear'], ['why', 'hear', \"'\", 'st', 'thou', 'music', 'sadly']]\n[['NN', 'TO', 'VB'], ['WRB', 'VBP', 'POS', 'JJ', 'NN', 'NN', 'RB']]\n[['11', '0', '21'], ['0', '22', '0', '0', '0', '12', '0']]\n{'not': 1, 'st': 2}\n[['sweets', 'with', 'sweets', 'war', 'not'], ['why', 'lov', \"'\", 'st', 'thou', 'that', 'which', 'thou', 'receiv', \"'\", 'st', 'not', 'gladly']]\n[['NNS', 'IN', 'NNS', 'NN', 'RB'], ['WRB', 'NN', \"''\", 'JJ', 'NN', 'WDT', 'WDT', 'VBP', 'NN', \"''\", 'NN', 'RB', 'RB']]\n[['0', '0', '0', '0', '11'], ['0', '0', '0', '21', '0', '0', '0', '0', '0', '0', '22', '12', '0']]\n{'sometime': 1, 'fair': 2}\n[['sometime', 'too', 'hot', 'the', 'eye', 'of', 'heaven', 'shines'], ['and', 'every', 'fair', 'from', 'fair', 'sometime', 'declines']]\n[['RB', 'RB', 'JJ', 'DT', 'NN', 'IN', 'JJ', 'NNS'], ['CC', 'DT', 'NN', 'IN', 'JJ', 'JJ', 'NNS']]\n[['11', '0', '0', '0', '0', '0', '0', '0'], ['0', '0', '21', '0', '22', '12', '0']]\n{'doth': 1, 'fair': 2}\n[['who', 'heaven', 'itself', 'for', 'ornament', 'doth', 'use', 'and', 'every', 'fair', 'with', 'his', 'fair', 'doth', 'rehearse']]\n[['WP', 'VBZ', 'PRP', 'IN', 'NN', 'NN', 'NN', 'CC', 'DT', 'NN', 'IN', 'PRP$', 'JJ', 'JJ', 'NN']]\n[['0', '0', '0', '0', '0', '11', '0', '0', '0', '21', '0', '0', '22', '12', '0']]\n{'day': 1, 'night': 2}\n[['but', 'day', 'by', 'night', 'and', 'night', 'by', 'day', 'oppress', 'ed']]\n[['CC', 'NN', 'IN', 'NN', 'CC', 'NN', 'IN', 'NN', 'IN', 'NN']]\n[['0', '11', '0', '21', '0', '22', '0', '12', '0', '0']]\n{'moan': 1, 'woe': 2}\n[['and', 'moan', 'the', 'expense', 'of', 'many', 'a', 'vanish', 'ed', 'sight'], ['and', 'heavily', 'from', 'woe', 'to', 'woe', 'tell', \"o'er\", 'the', 'sad', 'account', 'of', 'fore-bemoaned', 'moan']]\n[['CC', 'VB', 'DT', 'NN', 'IN', 'JJ', 'DT', 'JJ', 'NN', 'NN'], ['CC', 'RB', 'IN', 'NN', 'TO', 'VB', 'VB', 'IN', 'DT', 'JJ', 'NN', 'IN', 'JJ', 'NN']]\n[['0', '11', '0', '0', '0', '0', '0', '0', '0', '0'], ['0', '0', '0', '21', '0', '22', '0', '0', '0', '0', '0', '0', '12', '13']]\n{'when': 1, 'days': 2}\n[['when', 'in', 'dead', 'night', 'thy', 'fair', 'imperfect', 'shade', 'through', 'heavy', 'sleep', 'on', 'sightless', 'eyes', 'doth', 'stay'], ['all', 'days', 'are', 'nights', 'to', 'see', 'till', 'see', 'thee'], ['and', 'nights', 'bright', 'days', 'when', 'dreams', 'do', 'show', 'thee', 'me']]\n[['WRB', 'IN', 'JJ', 'NN', 'JJ', 'NN', 'NN', 'VBD', 'IN', 'JJ', 'NN', 'IN', 'JJ', 'NNS', 'VBP', 'VB'], ['DT', 'NNS', 'VBP', 'NNS', 'TO', 'VB', 'JJ', 'VB', 'JJ'], ['CC', 'NNS', 'JJ', 'NNS', 'WRB', 'NNS', 'VBP', 'VB', 'VB', 'PRP']]\n[['11', '0', '0', '0', '0', '0', '0', '0', '0', '0', '0', '0', '0', '0', '0', '0'], ['0', '21', '0', '0', '0', '0', '0', '0', '0'], ['0', '0', '0', '22', '12', '0', '0', '0', '0', '0']]\n{'when': 1, 'nights': 2}\n[['when', 'in', 'dead', 'night', 'thy', 'fair', 'imperfect', 'shade', 'through', 'heavy', 'sleep', 'on', 'sightless', 'eyes', 'doth', 'stay'], ['all', 'days', 'are', 'nights', 'to', 'see', 'till', 'see', 'thee'], ['and', 'nights', 'bright', 'days', 'when', 'dreams', 'do', 'show', 'thee', 'me']]\n[['WRB', 'IN', 'JJ', 'NN', 'JJ', 'NN', 'NN', 'VBD', 'IN', 'JJ', 'NN', 'IN', 'JJ', 'NNS', 'VBP', 'VB'], ['DT', 'NNS', 'VBP', 'NNS', 'TO', 'VB', 'JJ', 'VB', 'JJ'], ['CC', 'NNS', 'JJ', 'NNS', 'WRB', 'NNS', 'VBP', 'VB', 'VB', 'PRP']]\n[['11', '0', '0', '0', '0', '0', '0', '0', '0', '0', '0', '0', '0', '0', '0', '0'], ['0', '0', '0', '21', '0', '0', '0', '0', '0'], ['0', '22', '0', '0', '12', '0', '0', '0', '0', '0']]\n{'days': 1, 'nights': 2}\n[['all', 'days', 'are', 'nights', 'to', 'see', 'till', 'see', 'thee'], ['and', 'nights', 'bright', 'days', 'when', 'dreams', 'do', 'show', 'thee', 'me']]\n[['DT', 'NNS', 'VBP', 'NNS', 'TO', 'VB', 'JJ', 'VB', 'JJ'], ['CC', 'NNS', 'JJ', 'NNS', 'WRB', 'NNS', 'VBP', 'VB', 'VB', 'PRP']]\n[['0', '11', '0', '21', '0', '0', '0', '0', '0'], ['0', '22', '0', '12', '0', '0', '0', '0', '0', '0']]\n{'heart': 1, 'sight': 2}\n[['mine', 'eye', 'and', 'heart', 'are', 'at', 'a', 'mortal', 'war'], ['mine', 'eye', 'my', 'heart', 'thy', 'picture', \"'s\", 'sight', 'would', 'bar'], ['how', 'to', 'divide', 'the', 'conquest', 'of', 'thy', 'sight'], ['my', 'heart', 'mine', 'eye', 'the', 'freedom', 'of', 'that', 'right'], ['my', 'heart', 'doth', 'plead', 'that', 'thou', 'in', 'him', 'dost', 'lie']]\n[['NN', 'NN', 'CC', 'NN', 'VBP', 'IN', 'DT', 'JJ', 'NN'], ['NN', 'NN', 'PRP$', 'NN', 'JJ', 'NN', 'POS', 'NN', 'MD', 'VB'], ['WRB', 'TO', 'VB', 'DT', 'NN', 'IN', 'JJ', 'NN'], ['PRP$', 'NN', 'NN', 'NN', 'DT', 'NN', 'IN', 'DT', 'NN'], ['PRP$', 'NN', 'VBZ', 'VBP', 'IN', 'NN', 'IN', 'PRP', 'VB', 'NN']]\n[['0', '0', '0', '11', '0', '0', '0', '0', '0'], ['0', '0', '0', '12', '0', '0', '0', '21', '0', '0'], ['0', '0', '0', '0', '0', '0', '0', '22'], ['0', '13', '0', '0', '0', '0', '0', '0', '0'], ['0', '14', '0', '0', '0', '0', '0', '0', '0', '0']]\n{'eye': 1, 'is': 2}\n[['betwixt', 'mine', 'eye', 'and', 'heart', 'a', 'league', 'is', 'took'], ['when', 'that', 'mine', 'eye', 'is', 'famish', 'ed', 'for', 'a', 'look'], ['with', 'my', 'love', \"'s\", 'picture', 'then', 'my', 'eye', 'doth', 'feast'], ['another', 'time', 'mine', 'eye', 'is', 'my', 'heart', \"'s\", 'guest']]\n[['NN', 'NN', 'NN', 'CC', 'NN', 'DT', 'NN', 'VBZ', 'VBD'], ['WRB', 'DT', 'NN', 'NN', 'VBZ', 'JJ', 'NN', 'IN', 'DT', 'NN'], ['IN', 'PRP$', 'NN', 'POS', 'NN', 'RB', 'PRP$', 'NN', 'DT', 'NN'], ['DT', 'NN', 'NN', 'NN', 'VBZ', 'PRP$', 'NN', 'POS', 'NN']]\n[['0', '0', '11', '0', '0', '0', '0', '21', '0'], ['0', '0', '0', '12', '22', '23', '0', '0', '0', '0'], ['0', '0', '0', '0', '0', '0', '0', '13', '0', '0'], ['0', '0', '0', '14', '24', '0', '0', '0', '0']]\n{'store': 1, 'loss': 2}\n[['increasing', 'store', 'with', 'loss'], ['and', 'loss', 'with', 'store']]\n[['VBG', 'NN', 'IN', 'NN'], ['CC', 'NN', 'IN', 'NN']]\n[['0', '11', '0', '21'], ['0', '22', '0', '12']]\n{'old': 1, 'new': 2}\n[['so', 'all', 'my', 'best', 'is', 'dressing', 'old', 'words', 'new'], ['for', 'as', 'the', 'sun', 'is', 'daily', 'new', 'and', 'old']]\n[['RB', 'DT', 'PRP$', 'JJS', 'VBZ', 'VBG', 'JJ', 'NNS', 'JJ'], ['IN', 'IN', 'DT', 'NN', 'VBZ', 'JJ', 'JJ', 'CC', 'JJ']]\n[['0', '0', '0', '0', '0', '0', '11', '0', '21'], ['0', '0', '0', '0', '0', '0', '22', '0', '12']]\n{'doth': 1, 'worth': 2}\n[['well', 'might', 'show', 'how', 'far', 'a', 'modern', 'quill', 'doth', 'come', 'too', 'short'], ['speaking', 'of', 'worth'], ['what', 'worth', 'in', 'you', 'doth', 'grow']]\n[['RB', 'MD', 'VB', 'WRB', 'RB', 'DT', 'JJ', 'NN', 'DT', 'VBP', 'RB', 'JJ'], ['NN', 'IN', 'NN'], ['WP', 'NN', 'IN', 'PRP', 'VBP', 'VB']]\n[['0', '0', '0', '0', '0', '0', '0', '0', '11', '0', '0', '0'], ['0', '0', '21'], ['0', '22', '0', '0', '12', '0']]\n{'is': 1, 'most': 2}\n[['sold', 'cheap', 'what', 'is', 'most', 'dear'], ['most', 'true', 'it', 'is']]\n[['VBN', 'JJ', 'WP', 'VBZ', 'RBS', 'JJ'], ['JJS', 'JJ', 'PRP', 'VBZ']]\n[['0', '0', '0', '11', '21', '0'], ['22', '0', '0', '12']]\n{'fears': 1, 'hopes': 2}\n[['applying', 'fears', 'to', 'hopes'], ['and', 'hopes', 'to', 'fears']]\n[['VBG', 'NNS', 'TO', 'NNS'], ['CC', 'VBZ', 'TO', 'NNS']]\n[['0', '11', '0', '21'], ['0', '22', '0', '12']]\n{'is': 1, 'lust': 2}\n[['the', 'expense', 'of', 'spirit', 'in', 'a', 'waste', 'of', 'shame', 'is', 'lust', 'in', 'action'], ['lust', 'is', 'perjur', 'ed']]\n[['DT', 'NN', 'IN', 'NN', 'IN', 'DT', 'NN', 'IN', 'NN', 'VBZ', 'JJ', 'IN', 'NN'], ['NN', 'VBZ', 'JJ', 'NN']]\n[['0', '0', '0', '0', '0', '0', '0', '0', '0', '11', '21', '0', '0'], ['22', '12', '0', '0']]\n{'well': 1, 'knows': 2}\n[['all', 'this', 'the', 'world', 'well', 'knows'], ['yet', 'none', 'knows', 'well', 'to', 'shun', 'the', 'heaven', 'that', 'leads', 'men', 'to', 'this', 'hell']]\n[['DT', 'DT', 'DT', 'NN', 'NN', 'NNS'], ['RB', 'NN', 'VBZ', 'RB', 'TO', 'VB', 'DT', 'NN', 'WDT', 'VBZ', 'NNS', 'TO', 'DT', 'NN']]\n[['0', '0', '0', '0', '11', '21'], ['0', '0', '22', '12', '0', '0', '0', '0', '0', '0', '0', '0', '0', '0']]\n{'be': 1, 'not': 2}\n[['so', 'that', 'other', 'mine', 'thou', 'wilt', 'restore', 'to', 'be', 'my', 'comfort', 'still'], ['but', 'thou', 'wilt', 'not'], ['nor', 'he', 'will', 'not', 'be', 'free']]\n[['RB', 'IN', 'JJ', 'NN', 'NN', 'VBD', 'NN', 'TO', 'VB', 'PRP$', 'NN', 'RB'], ['CC', 'NN', 'NN', 'RB'], ['CC', 'PRP', 'MD', 'RB', 'VB', 'JJ']]\n[['0', '0', '0', '0', '0', '0', '0', '0', '11', '0', '0', '0'], ['0', '0', '0', '21'], ['0', '0', '0', '22', '12', '0']]\n{'will': 1, 'soul': 2}\n[['and', 'me', 'in', 'that', 'one', \"'\", 'will', \"'\"], ['if', 'thy', 'soul', 'check', 'thee', 'that', 'i', 'so', 'near'], ['swear', 'to', 'thy', 'blind', 'soul', 'that', 'was', 'thy', \"'\", 'will', \"'\"]]\n[['CC', 'PRP', 'IN', 'DT', 'CD', \"''\", 'MD', 'VB'], ['IN', 'JJ', 'NN', 'NN', 'IN', 'DT', 'NN', 'RB', 'IN'], ['NN', 'TO', 'VB', 'JJ', 'NN', 'WDT', 'VBD', 'JJ', \"''\", 'MD', 'VB']]\n[['0', '0', '0', '0', '0', '0', '11', '0'], ['0', '0', '21', '0', '0', '0', '0', '0', '0'], ['0', '0', '0', '0', '22', '0', '0', '0', '0', '12', '0']]\n{'nothing': 1, 'hold': 2}\n[['for', 'nothing', 'hold', 'me'], ['so', 'it', 'please', 'thee', 'hold', 'that', 'nothing', 'me']]\n[['IN', 'NN', 'NN', 'PRP'], ['IN', 'PRP', 'VB', 'JJ', 'NN', 'IN', 'NN', 'PRP']]\n[['0', '11', '21', '0'], ['0', '0', '0', '0', '22', '0', '12', '0']]\n{'so': 1, 'be': 2}\n[['now', 'this', 'ill-wresting', 'world', 'is', 'grown', 'so', 'bad'], ['mad', 'slanderers', 'by', 'mad', 'ears', 'believed', 'be'], ['that', 'may', 'not', 'be', 'so']]\n[['RB', 'DT', 'JJ', 'NN', 'VBZ', 'VBN', 'RB', 'JJ'], ['JJ', 'NNS', 'IN', 'JJ', 'NNS', 'VBD', 'VB'], ['DT', 'MD', 'RB', 'VB', 'RB']]\n[['0', '0', '0', '0', '0', '0', '11', '0'], ['0', '0', '0', '0', '0', '21', '22'], ['0', '0', '0', '23', '12']]\n{'is': 1, 'not': 2, 'so': 3, 'love': 4}\n[['what', 'means', 'the', 'world', 'to', 'say', 'it', 'is', 'not', 'so'], ['then', 'love', 'doth', 'well', 'denote', 'love', \"'s\", 'eye', 'is', 'not', 'so', 'true', 'as', 'all', 'men', \"'s\"]]\n[['WP', 'VBZ', 'DT', 'NN', 'TO', 'VB', 'PRP', 'VBZ', 'RB', 'RB'], ['RB', 'VB', 'RB', 'RB', 'VB', 'NN', 'POS', 'NN', 'VBZ', 'RB', 'RB', 'JJ', 'IN', 'DT', 'NNS', 'POS']]\n[['0', '0', '0', '0', '0', '0', '0', '11', '21', '31'], ['0', '41', '0', '0', '22', '42', '0', '0', '12', '23', '32', '0', '0', '0', '0', '0']]\n{'fall': 1, 'love': 2}\n[['fall', 'by', 'thy', 'side'], ['no', 'want', 'of', 'conscience', 'hold', 'it', 'that', 'call', 'her', \"'\", 'love'], ['for', 'whose', 'dear', 'love', 'rise', 'and', 'fall']]\n[['NN', 'IN', 'JJ', 'NN'], ['DT', 'NN', 'IN', 'NN', 'VBP', 'PRP', 'IN', 'VBZ', 'PRP$', \"''\", 'NN'], ['IN', 'WP$', 'JJ', 'NN', 'NN', 'CC', 'NN']]\n[['11', '0', '0', '0'], ['0', '0', '0', '0', '0', '0', '0', '0', '0', '0', '21'], ['0', '0', '0', '22', '0', '0', '12']]\n{'love': 1, 'water': 2}\n[['love', \"'s\", 'fire', 'heats', 'water'], ['water', 'cools', 'not', 'love']]\n[['NN', 'POS', 'NN', 'VBZ', 'NN'], ['NN', 'VBZ', 'RB', 'VB']]\n[['11', '0', '0', '0', '21'], ['22', '0', '0', '12']]\n"
     ],
     "output_type": "stream"
    }
   ],
   "source": [
    "def uniq(input):\n",
    "  output = []\n",
    "  for x in input:\n",
    "    if x not in output:\n",
    "      output.append(x)\n",
    "  return output\n",
    "\n",
    "import nltk\n",
    "import numpy as np\n",
    "rep_figs = [\"sonnet_anadiplosis.csv\", \"sonnet_anaphora.csv\", \"sonnet_antimetabole.csv\", \"sonnet_conduplicatio.csv\", \n",
    "            \"sonnet_epanalepsis.csv\", \"sonnet_epistrophe.csv\", \"sonnet_epizeuxis.csv\", \"sonnet_ploce.csv\",\n",
    "            \"sonnet_polypton.csv\", \"sonnet_polysyndeton.csv\", \"sonnet_symploce.csv\"]\n",
    "\n",
    "base_path = '/home/dineshp/Poetix18/data/rhet/repitition/'\n",
    "\n",
    "rhet_table = pd.read_csv(base_path+rep_figs[2])\n",
    "print(base_path+rep_figs[2])\n",
    "fig_ids = rhet_table.figure_id.unique()\n",
    "\n",
    "for id in fig_ids:\n",
    "   figure = rhet_table.loc[rhet_table['figure_id'] == id]\n",
    "   rep_word = []\n",
    "   sentence_ids = figure['sentence_id'].values\n",
    "   sentence_ids = uniq(sentence_ids)\n",
    "   #print(sentence_ids)\n",
    "   fig_words = uniq([x.lower().replace('''\\'d''', '''ed''') for x in list(figure['word'].values)])\n",
    "   fig_words_dict = dict([[fig_words[y-1], y] for y in range(1, len(fig_words)+1)])\n",
    "   print(fig_words_dict)\n",
    "\n",
    "   orig_text = [ nltk.word_tokenize(sent_table.iloc[i]['text']) for i in sentence_ids]\n",
    "   pattern = '^M{0,3}(CM|CD|D?C{0,3})(XC|XL|L?X{0,3})(IX|IV|V?I{0,3})$'\n",
    "   roman = []\n",
    "   for j in range(0,len(orig_text)):\n",
    "       for k in range(0,len(orig_text[j])):\n",
    "           if(re.search(pattern, orig_text[j][k])):\n",
    "               roman.append([j,k])\n",
    "   \n",
    "   for l in range(0,len(roman)):\n",
    "       del orig_text[roman[l][0]][roman[l][1]]\n",
    "\n",
    "   orig_text = [[orig_text[i][j].lower() for j in range(0,len(orig_text[i]))] for i in range(0,len(orig_text))]\n",
    "\n",
    "   tagged = [nltk.pos_tag(orig_text[i]) for i in  range(0,len(orig_text))]\n",
    "   print(orig_text)\n",
    "   pos_templates = [[tagged[i][j][1] for j in range(0,len(tagged[i]))] for i in range(0,len(tagged))]\n",
    "   print(pos_templates)\n",
    "   \n",
    "   assert(np.shape(orig_text) == np.shape(pos_templates))\n",
    "   fig_words_count_dict = dict([[fig_words[y], 0] for y in range(0, len(fig_words))])\n",
    "\n",
    "   rep_templates = [['0' for j in range(0,len(orig_text[i]))] for i in range(0,len(orig_text))]\n",
    "   for j in range(0,len(orig_text)):\n",
    "       for k in range(0,len(orig_text[j])):\n",
    "           wordc = orig_text[j][k]\n",
    "           for word_rep in list(fig_words_dict.keys()):\n",
    "               if(word_rep in wordc):\n",
    "                   fig_words_count_dict[word_rep] = fig_words_count_dict[word_rep]+1\n",
    "                   rep_templates[j][k] = str(fig_words_dict[word_rep]) + str(fig_words_count_dict[word_rep])\n",
    "   print(rep_templates)       \n",
    "   #for index, row in figure.iterrows():\n",
    "\n",
    "   #source = sentences\n",
    "   # while(!re.search(exp, source)\n",
    "        "
   ],
   "metadata": {
    "collapsed": false,
    "pycharm": {
     "name": "#%%\n",
     "is_executing": false
    }
   }
  },
  {
   "cell_type": "code",
   "execution_count": 11,
   "outputs": [
    {
     "name": "stdout",
     "text": [
      "<_sre.SRE_Match object; span=(4, 376), match=\"tender heir might bear his memory:   But thou, co>\n"
     ],
     "output_type": "stream"
    }
   ],
   "source": [
    "import re\n",
    "\n",
    "exp = '''(tender).*(own).*(own).*(tender)'''\n",
    "\n",
    "m = re.search(exp, '''His tender heir might bear his memory:   But thou, contracted to thine own bright eyes,   Feed'st thy light's flame with self-substantial fuel,   Making a famine where abundance lies,   Thy self thy foe, to thy sweet self too cruel:   Thou that art now the world's fresh ornament,   And only herald to the gaudy spring,   Within thine own bud buriest thy content,   And tender churl mak'st waste in niggarding:''')\n",
    "print(m)"
   ],
   "metadata": {
    "collapsed": false,
    "pycharm": {
     "name": "#%%\n",
     "is_executing": false
    }
   }
  },
  {
   "cell_type": "code",
   "execution_count": 6,
   "outputs": [
    {
     "name": "stdout",
     "text": [
      "2805\nThat thereby beauty 's rose might never die ,\n"
     ],
     "output_type": "stream"
    }
   ],
   "source": [
    "print(len(sentences))\n",
    "print(sentences[1])\n"
   ],
   "metadata": {
    "collapsed": false,
    "pycharm": {
     "name": "#%%\n",
     "is_executing": false
    }
   }
  }
 ],
 "metadata": {
  "language_info": {
   "codemirror_mode": {
    "name": "ipython",
    "version": 2
   },
   "file_extension": ".py",
   "mimetype": "text/x-python",
   "name": "python",
   "nbconvert_exporter": "python",
   "pygments_lexer": "ipython2",
   "version": "2.7.6"
  },
  "kernelspec": {
   "name": "python3",
   "language": "python",
   "display_name": "Python 3"
  },
  "pycharm": {
   "stem_cell": {
    "cell_type": "raw",
    "source": [],
    "metadata": {
     "collapsed": false
    }
   }
  }
 },
 "nbformat": 4,
 "nbformat_minor": 0
}