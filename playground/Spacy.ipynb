{
 "cells": [
  {
   "cell_type": "code",
   "execution_count": 3,
   "metadata": {},
   "outputs": [],
   "source": [
    "import spacy\n",
    "import nltk"
   ]
  },
  {
   "cell_type": "code",
   "execution_count": 23,
   "metadata": {},
   "outputs": [
    {
     "name": "stdout",
     "output_type": "stream",
     "text": [
      "There EX expl\n",
      "was VBD ROOT\n",
      "an DT det\n",
      "old JJ amod\n",
      "man NN attr\n",
      "of IN prep\n",
      "Nantucket NNP pobj\n",
      "who WP nsubj\n",
      "kept VBD relcl\n",
      "all PDT predet\n",
      "his PRP$ poss\n",
      "cash NN dobj\n",
      "in IN prep\n",
      "a DT det\n",
      "bucket NN pobj\n"
     ]
    }
   ],
   "source": [
    "nlp = spacy.load('en_core_web_sm')\n",
    "doc = nlp(\"There was an old man of Nantucket who kept all his cash in a bucket\")\n",
    "\n",
    "for token in doc:\n",
    "    print(token.text, token.tag_, token.dep_)"
   ]
  },
  {
   "cell_type": "code",
   "execution_count": 22,
   "metadata": {},
   "outputs": [
    {
     "data": {
      "text/plain": [
       "[('There', 'EX'),\n",
       " ('was', 'VBD'),\n",
       " ('an', 'DT'),\n",
       " ('old', 'JJ'),\n",
       " ('man', 'NN'),\n",
       " ('of', 'IN'),\n",
       " ('Nantucket', 'NNP'),\n",
       " ('who', 'WP'),\n",
       " ('kept', 'VBD'),\n",
       " ('all', 'DT'),\n",
       " ('his', 'PRP$'),\n",
       " ('cash', 'NN'),\n",
       " ('in', 'IN'),\n",
       " ('a', 'DT'),\n",
       " ('bucket', 'NN')]"
      ]
     },
     "execution_count": 22,
     "metadata": {},
     "output_type": "execute_result"
    }
   ],
   "source": [
    "tokens=nltk.word_tokenize(\"A widow named Block,\n",
    "Then died of the shock,\n",
    "When he saw there were six little chips.\")\n",
    "nltk.pos_tag(tokens)"
   ]
  },
  {
   "cell_type": "code",
   "execution_count": null,
   "metadata": {},
   "outputs": [],
   "source": [
    "doc = nlp(\"There was an old man of Nantucket who kept all his cash in a bucket\")\n",
    "\n",
    "for token in doc:\n",
    "    print(token.text, token.tag_, token.dep_)"
   ]
  }
 ],
 "metadata": {
  "kernelspec": {
   "display_name": "Python 3",
   "language": "python",
   "name": "python3"
  },
  "language_info": {
   "codemirror_mode": {
    "name": "ipython",
    "version": 3
   },
   "file_extension": ".py",
   "mimetype": "text/x-python",
   "name": "python",
   "nbconvert_exporter": "python",
   "pygments_lexer": "ipython3",
   "version": "3.7.0"
  }
 },
 "nbformat": 4,
 "nbformat_minor": 2
}
