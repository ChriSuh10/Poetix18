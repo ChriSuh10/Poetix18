{
 "cells": [
  {
   "cell_type": "code",
   "execution_count": 1,
   "metadata": {},
   "outputs": [],
   "source": [
    "import pickle \n",
    "import re\n",
    "import numpy as np\n",
    "import tensorflow as tf\n",
    "import random\n",
    "import collections\n",
    "import nltk"
   ]
  },
  {
   "cell_type": "code",
   "execution_count": 2,
   "metadata": {},
   "outputs": [],
   "source": [
    "postag_file='../py_files/saved_objects/postag_dict_all.p'\n",
    "with open(postag_file, 'rb') as f:\n",
    "    postag_dict = pickle.load(f)\n",
    "    pos_to_words = postag_dict[1]\n",
    "    words_to_pos = postag_dict[2]"
   ]
  },
  {
   "cell_type": "code",
   "execution_count": 3,
   "metadata": {},
   "outputs": [],
   "source": [
    "from nltk.corpus import words"
   ]
  },
  {
   "cell_type": "code",
   "execution_count": 6,
   "metadata": {},
   "outputs": [
    {
     "name": "stdout",
     "output_type": "stream",
     "text": [
      "[nltk_data] Downloading package words to /Users/andre/nltk_data...\n",
      "[nltk_data]   Unzipping corpora/words.zip.\n"
     ]
    },
    {
     "data": {
      "text/plain": [
       "True"
      ]
     },
     "execution_count": 6,
     "metadata": {},
     "output_type": "execute_result"
    }
   ],
   "source": [
    "nltk.download('words')"
   ]
  },
  {
   "cell_type": "code",
   "execution_count": 11,
   "metadata": {},
   "outputs": [],
   "source": [
    "from nltk.corpus import treebank"
   ]
  },
  {
   "cell_type": "code",
   "execution_count": 13,
   "metadata": {},
   "outputs": [
    {
     "name": "stdout",
     "output_type": "stream",
     "text": [
      "[nltk_data] Downloading package treebank to /Users/andre/nltk_data...\n",
      "[nltk_data]   Unzipping corpora/treebank.zip.\n"
     ]
    },
    {
     "data": {
      "text/plain": [
       "True"
      ]
     },
     "execution_count": 13,
     "metadata": {},
     "output_type": "execute_result"
    }
   ],
   "source": [
    "nltk.download('treebank')"
   ]
  },
  {
   "cell_type": "code",
   "execution_count": 24,
   "metadata": {},
   "outputs": [],
   "source": [
    "words = list(treebank.tagged_words())"
   ]
  },
  {
   "cell_type": "code",
   "execution_count": 28,
   "metadata": {},
   "outputs": [
    {
     "data": {
      "text/plain": [
       "('asbestos', 'NN')"
      ]
     },
     "execution_count": 28,
     "metadata": {},
     "output_type": "execute_result"
    }
   ],
   "source": [
    "words[100]"
   ]
  },
  {
   "cell_type": "code",
   "execution_count": 44,
   "metadata": {},
   "outputs": [],
   "source": [
    "words_to_pos_new=collections.defaultdict(set)\n",
    "pos_to_words_new=collections.defaultdict(set)\n",
    "for i in words:\n",
    "    words_to_pos_new[i[0].lower()].add(i[1])\n",
    "    pos_to_words_new[i[1]].add(i[0].lower())\n",
    "    "
   ]
  },
  {
   "cell_type": "code",
   "execution_count": 49,
   "metadata": {},
   "outputs": [
    {
     "data": {
      "text/plain": [
       "dict_keys(['NN', 'WDT', '$', 'UH', ':', 'RBS', \"''\", 'WP$', 'JJR', '#', 'PRP$', 'RBR', 'PRP', ',', '-RRB-', '``', '-LRB-', '.', 'NNPS', 'VBN', 'MD', 'IN', 'JJ', 'SYM', 'FW', 'DT', 'VBG', 'RB', 'WP', 'CD', 'RP', 'PDT', 'LS', 'CC', 'NNS', 'WRB', 'JJS', 'VB', '-NONE-', 'TO', 'EX', 'NNP', 'POS', 'VBD', 'VBP', 'VBZ'])"
      ]
     },
     "execution_count": 49,
     "metadata": {},
     "output_type": "execute_result"
    }
   ],
   "source": [
    "pos_to_words_new.keys()"
   ]
  },
  {
   "cell_type": "code",
   "execution_count": 50,
   "metadata": {},
   "outputs": [
    {
     "data": {
      "text/plain": [
       "dict_keys(['IN', 'JJ', 'SYM', 'FW', 'NN', 'DT', 'THAN', '.', 'VBG', 'RB', 'WDT', 'WP', 'UH', 'CD', 'JJS', 'RBS', 'RP', 'PDT', 'WP$', 'JJR', 'IF', 'CC', 'SO', 'NNS', 'WRB', 'PRP$', 'RBR', 'PRP', ',', 'VB', 'TO', 'EX', 'NNP', 'WHEN', 'NNPS', 'VBN', 'AS', 'VBD', 'VBP', 'MD', 'VBZ', 'WHO'])"
      ]
     },
     "execution_count": 50,
     "metadata": {},
     "output_type": "execute_result"
    }
   ],
   "source": [
    "pos_to_words.keys()"
   ]
  },
  {
   "cell_type": "code",
   "execution_count": 51,
   "metadata": {},
   "outputs": [],
   "source": [
    "pos_length={}\n",
    "for i in pos_to_words.keys():\n",
    "    pos_length[i]=len(pos_to_words[i])"
   ]
  },
  {
   "cell_type": "code",
   "execution_count": 62,
   "metadata": {
    "scrolled": true
   },
   "outputs": [
    {
     "data": {
      "text/plain": [
       "{',': 1,\n",
       " '.': 2,\n",
       " 'AS': 1,\n",
       " 'CC': 18,\n",
       " 'CD': 31,\n",
       " 'DT': 19,\n",
       " 'EX': 1,\n",
       " 'FW': 22,\n",
       " 'IF': 1,\n",
       " 'IN': 61,\n",
       " 'JJ': 3867,\n",
       " 'JJR': 105,\n",
       " 'JJS': 220,\n",
       " 'MD': 17,\n",
       " 'NN': 10176,\n",
       " 'NNP': 2933,\n",
       " 'NNPS': 68,\n",
       " 'NNS': 4488,\n",
       " 'PDT': 8,\n",
       " 'PRP': 34,\n",
       " 'PRP$': 9,\n",
       " 'RB': 1052,\n",
       " 'RBR': 14,\n",
       " 'RBS': 2,\n",
       " 'RP': 49,\n",
       " 'SO': 1,\n",
       " 'SYM': 0,\n",
       " 'THAN': 1,\n",
       " 'TO': 1,\n",
       " 'UH': 7,\n",
       " 'VB': 1585,\n",
       " 'VBD': 1604,\n",
       " 'VBG': 1776,\n",
       " 'VBN': 1641,\n",
       " 'VBP': 1198,\n",
       " 'VBZ': 958,\n",
       " 'WDT': 4,\n",
       " 'WHEN': 1,\n",
       " 'WHO': 1,\n",
       " 'WP': 9,\n",
       " 'WP$': 1,\n",
       " 'WRB': 11}"
      ]
     },
     "execution_count": 62,
     "metadata": {},
     "output_type": "execute_result"
    }
   ],
   "source": [
    "pos_length"
   ]
  },
  {
   "cell_type": "code",
   "execution_count": 59,
   "metadata": {},
   "outputs": [
    {
     "name": "stdout",
     "output_type": "stream",
     "text": [
      "***************\n",
      "***************\n",
      "old dictionary IN:\n",
      "['about', 'by', 'in', 'addition', 'of', 'through', 'above', 'at', 'off', 'toward', 'because', 'down', 'on', 'under', 'across', 'before', 'inside', 'onto', 'until', 'after', 'behind', 'during', 'out', 'up', 'against', 'below', 'except', 'upon', 'along', 'beneath', 'into', 'out', 'with', 'among', 'beside', 'for', 'like', 'over', 'without', 'around', 'between', 'from', 'near', 'next', 'with', 'regard', 'to', 'as', 'beyond', 'upon', 'across', 'if', 'than', 'toward', 'along', 'while', 'despite', 'whether', 'onward', 'since', 'throughout']\n",
      "***************\n",
      "***************\n",
      "new dictionary IN:\n",
      "{'about', 'than', 'in', 'like', 'aboard', 'up', 'till', 'until', 'but', 'including', '@', 'vs.', 'unlike', 'far', 'besides', 'worth', 'down', 'around', 'outside', 'by', 'on', 'under', 'despite', 'from', 'behind', 'as', 'since', 'during', 'to', 'upon', 'across', 'near', 'onto', 'except', 'toward', 'though', 'ago', 'are', 'off', 'with', 'after', 'unless', 'below', 'at', 'if', 'between', 'de', 'that', 'which', 'although', 'whereas', 'and', 'throughout', 'through', 'against', 'out', 'notwithstanding', 'along', 'while', 'before', 'for', 'over', 'among', 'into', 'amid', 'whether', 'a', 'next', 'so', 'beyond', 'because', 'complicated', 'via', 'without', 'of', 'per', 'once', 'within', 'above'}\n",
      "***************\n",
      "***************\n",
      "old dictionary SYM:\n",
      "[]\n",
      "***************\n",
      "***************\n",
      "new dictionary SYM:\n",
      "{'&'}\n",
      "***************\n",
      "***************\n",
      "old dictionary FW:\n",
      "['soupir', 'la', 'vieille', 'de', 'memorys', 'trop', 'topmost', 'lys', 'luxe', 'vermeil', 'pro', 'leau', 'mal', 'perishd', 'luce', 'et', 'maskd', 'voyagest', 'marbre', 'measurd', 'zele', 'mer']\n",
      "***************\n",
      "***************\n",
      "new dictionary FW:\n",
      "{'besuboru', 'etc.', 'perestroika', 'de'}\n",
      "***************\n",
      "***************\n",
      "old dictionary DT:\n",
      "['all', 'an', 'another', 'any', 'both', 'each', 'either', 'every', 'half', 'a', 'neither', 'no', 'some', 'such', 'that', 'the', 'these', 'this', 'those']\n",
      "***************\n",
      "***************\n",
      "new dictionary DT:\n",
      "{'both', 'every', 'the', 'those', 'all', 'another', 'neither', 'a', 'any', 'each', 'le', 'half', 'some', 'these', 'that', 'la', 'del', 'an', 'either', 'this', 'no'}\n",
      "THAN not in it\n",
      "***************\n",
      "***************\n",
      "old dictionary WDT:\n",
      "['thatwhat', 'whatever', 'which', 'whichever']\n",
      "***************\n",
      "***************\n",
      "new dictionary WDT:\n",
      "{'whichever', 'that', 'which', 'what'}\n",
      "***************\n",
      "***************\n",
      "old dictionary WP:\n",
      "['that', 'what', 'whatever', 'whatsoever', 'which', 'who', 'whom', 'whosoever', 'whoever']\n",
      "***************\n",
      "***************\n",
      "new dictionary WP:\n",
      "{'who', 'whom', 'what'}\n",
      "***************\n",
      "***************\n",
      "old dictionary UH:\n",
      "['yes', 'assurd', 'euh', 'ont', 'unconfind', 'alas', 'oh']\n",
      "***************\n",
      "***************\n",
      "new dictionary UH:\n",
      "{'ok', 'oh', 'no'}\n",
      "***************\n",
      "***************\n",
      "old dictionary CD:\n",
      "['twentyeight', 'four', 'overgone', 'tiberias', 'forty', 'seven', 'nine', 'maintaind', 'behaviour', 'million', 'three', 'thicksprinkled', 'foregone', 'favour', 'masterd', 'fortyone', 'quicksand', 'prone', 'one', 'two', 'outraught', 'hundred', 'eight', 'threescore', 'ten', 'thousand', 'ninety', 'thirtyseven', 'six', 'five', 'undertone']\n",
      "***************\n",
      "***************\n",
      "new dictionary CD:\n",
      "{'30', '13', '7.78', '1984', '6,799', '2-3', '1920s', '8.575', '203', '750,000', '644', '777', '1991-2000', '37.3', '195', 'eight', '170,000', '5', '701', '8.30', '141.9', '257', '73', '221.4', '19.95', '29', '566.54', '1977', '1989', '1996', '692', '1.55', '5.92', '12.97', '1.28', '1.75', '143.93', '1976', '7.8', '5,000', '4.3', '133.7', '5.29', '30,841', '250', '32', '2009', '11.5', '11.72', '1975', '35500.64', '467', '30s', '236.74', '46', '29.9', '6', '17.95', '7.52', '7.80', '135', '25,000', '69', '1985', '352.9', '23,000', '64', '4,645', 'the', '3.55', '3057', '8.07', '8.9', '1956', '1:30', '24', '12\\\\/32', '6.44', '1.64', '42', '2.875', '16.2', '23.4', '913', '38.3', '9.3', '0.60', '8.47', '14.6', '88', '22.75', '80.8', '8.1', '8300', '8.35', '1971', '6.7', '1986', '1917', '40', '60.36', '721', '35.7', '71', '1993', '13.90', '11', '12.09', '77.56', '7.5', '339', '210,000', '6.79', \"'82\", '2,303,328', '148.9', '730', '93', '320', '2.44', '415', '454', '100,980', '1979', '29.4', '445', '4.6', '8.25', '15,000', '1.5', '25.6', '38.375', '3.04', '30.9', '3.61', '1937-40', '9.37', '28', '220', '3.5', '251.2', '8.12', 'nine', '753', '120', '21,000', '5.7', '120.7', '16.9', '2029', '225,000', '434.4', '8.50', '210', '77.70', '8', '116.7', '722', '1.457', '18.3', '501', '62.5', '2.46', '263.07', '6.25', '326', '295', '240,000', '8.2', '1.76', '4.55', '12.82', '12.68', '75-year-old', '2,099', '99', '458', 'five', '70.2', '133.8', '62', '5.82', '1.65', '7.2', \"'80s\", '1,500', '93.3', '38.5', '41', '227', '2,700', '50-50', '1.5755', '49.9', '236.79', 'cray-3', '28.53', '1955', '139', '89,500', '62.625', '175', '8.53', '6.70', '10', '1.46', '244,000', '72.7', '234.4', '41.60', '319.75', '2.5', '1980', '5.6', '1.14', '85.7', '110', '17.4', '7\\\\/16', '59', '1970', '79', '149.9', '0.84', '11.6', '30.6', '13.1', '4.8', '16.7', '0.4', '13.15', '99.3', '200,000', '11\\\\/16', '8.75', '1968', '0.54', '1997', '6.9', '111', '2.80', '600,000', '420', 'thousand', '46.1', '50.1', '2\\\\/32', '6.84', '3.42', '85', '16.125', '36.9', '300-113', '1967', '8.56', '1965', '672', '909', '1,050,000', '1.19', '1.24', '14.5', '1.92', '1.39', '153.3', '12.5', '10.2', '20', '25', '125', '1972', '1\\\\/4', '47.5', '19.6', '449.04', '14,821', '1928-33', '3\\\\/8', '4.1', '77.6', '42.1', '387.8', '1934', '100,000', '3,250,000', '28.36', '1.17', '225.6', '8.70', '80', '118', '57.50', '130.6', '12.52', '1.1', '1.6', '80.50', '113.2', '200', '5.435', '6.20', '6.4', '1,880', '13.50', '149', '1,460', '19.94', '84.29', '184', '274', '121.6', '39', '176.1', '666', '94', '9.625', '119', '877,663', '107.9', '1.01', '1.5805', '14.75', '372.14', '7.74', '1,100', '1940s', '70', '360', '150,000', '16.68', '0.1', '21.9', '60', '11.10', '77', '14.28', '95', '145', '1.35', '1\\\\/2', '32.8', '4,000', 'ten', '1738.1', '126.1', '341.20', '6.53', '4.2', '534', '620', '45.2', '343', '40.21', '93,000', '1991', '415.6', 'ix', '57.7', 'zero', '0.0085', '226,570,380', '103', '8.19', '27.1', 'three', '1.26', '2,500', '7.84', '382-37', '0.50', '7.422', '240', '446.62', '3.16', '301', '20,000', '89.7', '1990s', '220.45', '340,000', '271,124', '143.08', '0.99', '16,072', '4.10', '9.8', '1.18', '154,240,000', '2.47', '43.875', '16,000', '59.6', '700,000', '8.60', '1.25', '26', '9.45', 'billion', '456.64', '1973-75', '1.20', '7.62', '1,200', '7.95', '8.55', '388', '1,400', '370', '10-year', '3:15', '737.5', \"'30s\", '99.1', '1.8415', '3.8', '1992', '142.85', '2003\\\\/2007', '116.9', '750', '350,000', '245', '28.5', '66.5', '8.14', '2.30', '451', '11.95', '11,000', '8.15', '7.79', '81.8', '497.34', '24,000', '101', '3648.82', '109.73', '361,376', '2.8', \"'40s\", '106', '88.32', '1206.26', '2645.90', '2691.19', '2.19', '84.9', '2.87', '7.55', '59.9', '1960s', '0.82', '47.125', '45.75', '9', '430', '3.253', '6,500', '0.9', '89.9', '374.19', '300,000', '53', '963', '56', '177', '130.7', '9,118', '8.48', '1990', '2.75', '494.50', '144', '273.5', '198', '3.43', '436.01', '1.8', '57', '3.625', '129.91', '94.2', '1.49', '114', '2,410', 'sept.30', '188', '72', '3\\\\/4', '16', '6.1', '26,000', '27.4', '7.50', '292.32', '350', '160', '7.3', '26.2', '35', '1787', '2.95', '31', '3.75', '8.45', '570', '35.2', '1st', '1986-87', '352.7', '1.85', '13.625', '95.09', '1929', '6.6', '5.1', '5.2180', \"'86\", 'fifteen', '1948', '400', '3.7', '35564.43', '0.05', '5.4', '372.9', '500', '55.1', '25.50', '2141.7', '154.2', '54', '7,500', '282', '550,000', '128', 'seven', '2.29', '150.00', '1933', '879', '18.6', '8.06', '24.95', '645,000', '705.6', '0.7', '241', '7.63', '2019', '386', '28.4', '3.6', '3.28', '3,600', '37', '850', '188.84', '6.03', '30,000', '1614', '13\\\\/16', '334.5', '9.32', '310', '34.625', '158,666', '3.23', '609', '2.3', '14', '1.916', '2.4', 'first', '1950s', '1,570', '94.8', '48', '78', '7.45', '10.5', '278.7', '321,000', '176', '83.4', '26,956', '7\\\\/8', '9.5', '1.61', '700', '90', '214', '18.95', '1637', '1981', '374.20', '40,000', '1901', '2160.1', '3.9', '0.95', 'mid-1970s', '1990-91', '811.9', '1991-1999', '0.3', '132.9', '92', '43', '2.35', '280', '105', '50\\\\/50', '8.65', '3.20', '608,413', '492', '19', '155', '1,620', '76', '89', '8.5', '830,000', 'trillion', '300', '1', '190', '22', '605', '150', '180', '4.898', '138', '51.25', '28.25', '60,000', '108', '2.15', '126,000', '270', '2.07', '47.6', '321', '14\\\\/32', '115', '212', '1983', '34', '1989-90', '0.56', '7.65', '11,390,000', '3,040,000', '92.9', '3.35', '8.64', '52', '3.1', '7', '13,056', '12', '7.40', '170,262', '396,000', '142.84', '17.3', '50.38', '900', '45', '22\\\\/32', '14.43', '118.6', '1980s', '95,142', '2.375', '1.8500', '30,537', '1.9', '967,809', 'one', '0.28', '422.5', '5.70', '83,206', '5.57', '1966', '4,393,237', '3.01', '1973', '1998', '9.9', '4.5', '2.9', '50', '6.5', '3,288,453', '14.26', '3.19', '5.3', '778', '4.4', '917', '143.80', '1994', '86', '734.9', '500,004', '600', '4.875', '191.9', '9\\\\/32', '70.7', '12,252', '847', '1.4', '377.60', '767', '13.73', '2.7', '15.5', '27', '2163.2', '126.15', '58.64', '5.276', '21.1', '16.05', '16.09', '6\\\\/2', '2000', '68', '50.45', '64.5', '5\\\\/8', '361.8', '1,000', '618.1', '1988-89', '1.1650', '8.22', '397', '313', '1982', '170', '353', '133', '286', '14.53', '152,000', '100', '65', '14.', '1903', '6.50', '490', '306', '44', '83', '38', '185.9', '131.01', '77,000', '250,000', '5.5', '7.88', '1.56', '576', '14.00', '10,000', '598', '3.375', '5.8', '1.82', '5.9', '3.3', 'six', \"'50s\", '4.9', 'million', '2', '7.458', '107.03', '4', '45.3', '7.272', '230-215', '14.54', '96.4', 'hundred', '86.12', '23,403', '17.5', '1987-88', '42.5', '235', '2005', '19.50', '1983-85', '5,699', '275', '2.2', '116.4', '17', '20.07', '3436.58', '4.75', '2017', '2.1', '400,000', '14.13', '1.125', '5.39', '1.637', '38.875', '3.80', '6,000', '9.82', '2,000', '187', '51', '1.2', '132', '12.7', '26.8', '0.16', '23.72', '3.2', '266', '2.25', '0.2', '169.9', '127.03', '2.65', '130', '63', '19.3', '23', '2.50', '7.4', '4.7', '8.467', '1999', '405', '1961', '132,000', '112.9', '331,000', '1953', '45,000', '62.1', '6.40', '7.90', '6.21', '7.15', '47.1', '992,000', '325,000', '512', '1969', '93.9', '63.79', '450', '3', '36', '3.18', '890', '858,000', '29.3', '16.5', '2.62', '23.25', '98', '260', '0.25', '500,000', '800', '15', '82,389', '140', 'four', '28.6', '85.1', '2.6', '11,762', 'fourteen', '75', '21', '16\\\\/32', '23.5', '50,000', '960', '225', '3-4', '271-147', '9.75', '107', '5.63', '18,000', '472', '0.5', '2-8', '1995', '14.99', '33', '47', '13.5', '7.60', '3,500', '61', '18,444', '630.9', '1.7', '1970s', '1992-1999', '13.8', '51.6', '11.57', '13.65', '415.8', '228', '55', '58', '3.4', '98.3', '2.42', '120,000', '20.5', '4.25', '179', '57.6', '380', 'two', '10.19', '87.5', '7.20', '37.5', '49', '1.50', '1,298', '148', '1988', '71,309', '8.04', '26.5', '1925', '18', '1\\\\/8', '20s', '102', '116.3', '1987'}\n",
      "***************\n",
      "***************\n",
      "old dictionary PRP$:\n",
      "['your', 'their', 'mine', 'ours', 'my', 'our', 'its', 'her', 'his']\n",
      "***************\n",
      "***************\n",
      "new dictionary PRP$:\n",
      "{'its', 'your', 'my', 'his', 'their', 'our', 'her'}\n",
      "***************\n",
      "***************\n",
      "old dictionary RBS:\n",
      "['most', 'meagre']\n",
      "***************\n",
      "***************\n",
      "new dictionary RBS:\n",
      "{'most'}\n",
      "***************\n",
      "***************\n",
      "old dictionary RP:\n",
      "['aboard', 'about', 'across', 'along', 'apart', 'around', 'aside', 'at', 'away', 'back', 'before', 'behind', 'by', 'crop', 'down', 'ever', 'fast', 'for', 'forth', 'from', 'go', 'high', 'i.e.', 'in', 'into', 'just', 'later', 'low', 'more', 'off', 'on', 'open', 'out', 'over', 'per', 'pie', 'raising', 'start', 'teeth', 'that', 'through', 'under', 'unto', 'up', 'up-pp', 'upon', 'whole', 'with', 'you']\n",
      "***************\n",
      "***************\n",
      "new dictionary RP:\n",
      "{'about', 'out', 'off', 'in', 'by', 'up', 'together', 'across', 'over', 'back', 'through', 'for', 'down', 'around', 'away', 'on'}\n",
      "***************\n",
      "***************\n",
      "old dictionary PDT:\n",
      "['all', 'both', 'half', 'many', 'quite', 'such', 'sure', 'this']\n",
      "***************\n",
      "***************\n",
      "new dictionary PDT:\n",
      "{'such', 'all', 'both', 'half'}\n",
      "***************\n",
      "***************\n",
      "old dictionary WP$:\n",
      "['whose']\n",
      "***************\n",
      "***************\n",
      "new dictionary WP$:\n",
      "{'whose'}\n",
      "IF not in it\n",
      "***************\n",
      "***************\n",
      "old dictionary CC:\n",
      "['and', 'both', 'but', 'either', 'plus', 'for', 'less', 'minus', 'neither', 'nor', 'or', 'plus', 'so', 'therefore', 'times', 'nor', 'whether', 'yet']\n",
      "***************\n",
      "***************\n",
      "new dictionary CC:\n",
      "{'v.', 'but', 'nor', 'plus', 'either', 'vs.', 'or', 'yet', 'versus', 'and', '&', 'minus'}\n",
      "SO not in it\n",
      "***************\n",
      "***************\n",
      "old dictionary WRB:\n",
      "['why', 'wherever', 'how', 'whenl', 'walkdst', 'where', 'whenever', 'warmhere', 'whatsoever', 'when', 'wliere']\n",
      "***************\n",
      "***************\n",
      "new dictionary WRB:\n",
      "{'whenever', 'why', 'where', 'whereby', 'how', 'when'}\n",
      "***************\n",
      "***************\n",
      "old dictionary RBR:\n",
      "['further', 'lovelier', 'earlier', 'closer', 'longer', 'cotter', 'less', 'wherefore', 'better', 'faster', 'lonelier', 'lore', 'fresher', 'more']\n",
      "***************\n",
      "***************\n",
      "new dictionary RBR:\n",
      "{'drearier', 'more', 'lower', 'closer', 'further', 'better', 'higher', 'longer', 'never', 'sooner', 'harder', 'later', 'less', 'earlier'}\n",
      "***************\n",
      "***************\n",
      "old dictionary PRP:\n",
      "['thyself', 'yelps', 'onesself', 'i', 'you', 'themselves', 'handfuls', 'we', 'herself', 'oftener', 'they', 'myself', 'ont', 'ye', 'he', 'it', 'elf', 'oneself', 'itself', 'me', 'them', 'self', 'himself', 'theirs', 'overthrow', 'yourself', 'meltst', 'him', 'ourselves', 'us', 'she', 'mantelshelf', 'massacred', 'wither']\n",
      "***************\n",
      "***************\n",
      "new dictionary PRP:\n",
      "{'i', 'she', 'we', 'us', 'itself', 'they', 'he', 'them', 'themselves', 'one', 'him', 'himself', 'me', 'yourself', 'herself', 'you', 'her', 'it'}\n",
      "***************\n",
      "***************\n",
      "old dictionary ,:\n",
      "[',']\n",
      "***************\n",
      "***************\n",
      "new dictionary ,:\n",
      "{'wa', ','}\n",
      "***************\n",
      "***************\n",
      "old dictionary TO:\n",
      "['to']\n",
      "***************\n",
      "***************\n",
      "new dictionary TO:\n",
      "{'to'}\n",
      "***************\n",
      "***************\n",
      "old dictionary EX:\n",
      "['there']\n",
      "***************\n",
      "***************\n",
      "new dictionary EX:\n",
      "{'there'}\n",
      "***************\n",
      "***************\n",
      "old dictionary .:\n",
      "['!', '?']\n",
      "***************\n",
      "***************\n",
      "new dictionary .:\n",
      "{'!', '.', '?'}\n",
      "WHEN not in it\n",
      "***************\n",
      "***************\n",
      "old dictionary NNPS:\n",
      "['peacekeepers', 'africans', 'egyptians', 'titians', 'chaldeans', 'democrats', 'dians', 'southerners', 'ryans', 'arabs', 'tories', 'rockies', 'indies', 'missourians', 'adrians', 'titans', 'peruvians', 'states', 'everyones', 'australians', 'dorians', 'thats', 'atlantics', 'satans', 'americans', 'academicians', 'germans', 'careers', 'centenarians', 'pathans', 'scans', 'dardanelles', 'jews', 'effies', 'indians', 'christians', 'commons', 'manhattans', 'romans', 'gamemakers', 'socrates', 'venetians', 'arabians', 'outlines', 'algiers', 'colonies', 'muses', 'homers', 'californians', 'ceres', 'mexicans', 'foxfaces', 'ossians', 'milans', 'carolinas', 'games', 'junes', 'illinoisians', 'eugenies', 'trojans', 'charons', 'carians', 'corpuscles', 'persians', 'arachnes', 'colonos', 'starks', 'pans']\n",
      "***************\n",
      "***************\n",
      "new dictionary NNPS:\n",
      "{'securities', 'underwoods', 'mercedes', 'cabernets', 'friends', 'pictures', 'soybeans', 'issues', 'appeals', 'services', 'bricklayers', 'metals', 'preferences', 'delegates', 'foods', 'rates', 'airlines', 'utilities', 'machines', 'parkinson', 'contras', 'charities', 'funds', 'bridges', 'plains', 'springs', 'f-series', 'adrs', 'savings', 'journals', 'notes', 'giants', 'industries', 'angels', 'elders', 'investors', 'bills', 'instruments', 'monopolies', 'communications', 'associates', 'publications', 'states', 'engineers', 'centers', 'motors', 'assets', 'holdings', 'lakes', 'partners', 'briefs', 'airways', 'brothers', 'travelers', 'containers', 'lawyers', 'laboratories', 'systems', 'burgundies', 'materials', 'craftsmen', 'netherlands', 'soviets', 'dakotas', 'works', 'contracts', 'americans', 'lines', 'philippines', 'germans', 'messrs.', 'asians', 'rieslings', 'dealers', 'virginians', 'grains', 'democrats', 'toys', 'facilities', 'products', 'appropriations', 'futures', 'articles', 'builders', 'inns', 'republicans', 'donuts', 'productions', 'mergers', 'investments', 'nations', 'stores', 'manufacturers', 'dolphins', 'markets', 'writers', 'institutes', 'chardonnays', 'resources', 'tots', 'islands', 'fundamentalists', 'yorkers', 'options', 'lawmakers', 'operations'}\n",
      "AS not in it\n",
      "***************\n",
      "***************\n",
      "old dictionary MD:\n",
      "['can', 'cannot', 'could', 'couldnt', 'dare', 'ought', 'shall', 'may', 'might', 'must', 'need', 'ought', 'shall', 'should', 'shouldnt', 'will', 'would']\n",
      "***************\n",
      "***************\n",
      "new dictionary MD:\n",
      "{'ca', 'may', 'wo', 'could', 'can', 'shall', 'might', 'must', 'should', \"'d\", \"'ll\", 'will', 'ought', 'would'}\n",
      "WHO not in it\n"
     ]
    }
   ],
   "source": [
    "for i in pos_length.keys():\n",
    "    if pos_length[i]<=100:\n",
    "        if i in pos_to_words_new.keys():\n",
    "            print(\"***************\")\n",
    "            print(\"***************\")\n",
    "            print(\"old dictionary {}:\".format(i))\n",
    "            print(pos_to_words[i])\n",
    "            print(\"***************\")\n",
    "            print(\"***************\")\n",
    "            print(\"new dictionary {}:\".format(i))\n",
    "            print(pos_to_words_new[i])\n",
    "        else:\n",
    "            print(\"{} not in it\".format(i))"
   ]
  },
  {
   "cell_type": "code",
   "execution_count": 61,
   "metadata": {},
   "outputs": [
    {
     "data": {
      "text/plain": [
       "['thyself',\n",
       " 'yelps',\n",
       " 'onesself',\n",
       " 'i',\n",
       " 'you',\n",
       " 'themselves',\n",
       " 'handfuls',\n",
       " 'we',\n",
       " 'herself',\n",
       " 'oftener',\n",
       " 'they',\n",
       " 'myself',\n",
       " 'ont',\n",
       " 'ye',\n",
       " 'he',\n",
       " 'it',\n",
       " 'elf',\n",
       " 'oneself',\n",
       " 'itself',\n",
       " 'me',\n",
       " 'them',\n",
       " 'self',\n",
       " 'himself',\n",
       " 'theirs',\n",
       " 'overthrow',\n",
       " 'yourself',\n",
       " 'meltst',\n",
       " 'him',\n",
       " 'ourselves',\n",
       " 'us',\n",
       " 'she',\n",
       " 'mantelshelf',\n",
       " 'massacred',\n",
       " 'wither']"
      ]
     },
     "execution_count": 61,
     "metadata": {},
     "output_type": "execute_result"
    }
   ],
   "source": [
    "pos_to_words[\"PRP\"]"
   ]
  },
  {
   "cell_type": "code",
   "execution_count": null,
   "metadata": {},
   "outputs": [],
   "source": []
  }
 ],
 "metadata": {
  "kernelspec": {
   "display_name": "Python 3",
   "language": "python",
   "name": "python3"
  },
  "language_info": {
   "codemirror_mode": {
    "name": "ipython",
    "version": 3
   },
   "file_extension": ".py",
   "mimetype": "text/x-python",
   "name": "python",
   "nbconvert_exporter": "python",
   "pygments_lexer": "ipython3",
   "version": "3.5.0"
  }
 },
 "nbformat": 4,
 "nbformat_minor": 2
}
